{
 "cells": [
  {
   "cell_type": "markdown",
   "id": "bec7ac74",
   "metadata": {},
   "source": [
    "# k1lib.selector module\n",
    "\n",
    "This module is mainly used internally, although end users can enjoy some of its benefits too. The idea is to create a tree structure exactly like the given nn.Module. With the exact tree structure, we can then select specific parts of the module, for any purposes that we’d like, hence the main class’s name is ModuleSelector.\n",
    "\n",
    "Let's say you have a network architecture like this:"
   ]
  },
  {
   "cell_type": "code",
   "execution_count": 6,
   "id": "80f20122",
   "metadata": {},
   "outputs": [],
   "source": [
    "from k1lib.imports import *\n",
    "class DynamicGate(nn.Module):\n",
    "    def __init__(self, hiddenDim):\n",
    "        super().__init__()\n",
    "        self.lin = nn.Linear(hiddenDim, 1)\n",
    "        self.sigmoid = nn.Sigmoid()\n",
    "    def forward(self, x1): return self.sigmoid(self.lin(x1))\n",
    "class SkipBlock(nn.Module):\n",
    "    def __init__(self, hiddenDim=10, gate:type=None):\n",
    "        super().__init__()\n",
    "        def gen(): return nn.Linear(hiddenDim, hiddenDim), nn.LeakyReLU()\n",
    "        self.seq = nn.Sequential(*gen(), *gen(), *gen())\n",
    "        self.gate = gate(hiddenDim) if gate != None else None\n",
    "    def forward(self, x):\n",
    "        if self.gate == None: return self.seq(x) + x\n",
    "        else:\n",
    "            r = self.gate(x)\n",
    "            return r*x + (1-r)*self.seq(x)\n",
    "class Network(nn.Module):\n",
    "    def __init__(self, hiddenDim=10, blocks=1, block:type=SkipBlock, gate:type=DynamicGate):\n",
    "        super().__init__()\n",
    "        layers = []\n",
    "        layers += [nn.Linear(1, hiddenDim), nn.LeakyReLU()]\n",
    "        for i in range(blocks): layers += [block(hiddenDim, gate)]\n",
    "        layers += [nn.Linear(hiddenDim, 1)]\n",
    "        self.bulk = nn.Sequential(*layers)\n",
    "    def forward(self, x):\n",
    "        return self.bulk(x)"
   ]
  },
  {
   "cell_type": "markdown",
   "id": "a7aa0546",
   "metadata": {},
   "source": [
    "Let's create a new network:"
   ]
  },
  {
   "cell_type": "code",
   "execution_count": 3,
   "id": "443e8565",
   "metadata": {},
   "outputs": [
    {
     "data": {
      "text/plain": [
       "Network(\n",
       "  (bulk): Sequential(\n",
       "    (0): Linear(in_features=1, out_features=10, bias=True)\n",
       "    (1): LeakyReLU(negative_slope=0.01)\n",
       "    (2): SkipBlock(\n",
       "      (seq): Sequential(\n",
       "        (0): Linear(in_features=10, out_features=10, bias=True)\n",
       "        (1): LeakyReLU(negative_slope=0.01)\n",
       "        (2): Linear(in_features=10, out_features=10, bias=True)\n",
       "        (3): LeakyReLU(negative_slope=0.01)\n",
       "        (4): Linear(in_features=10, out_features=10, bias=True)\n",
       "        (5): LeakyReLU(negative_slope=0.01)\n",
       "      )\n",
       "      (gate): DynamicGate(\n",
       "        (lin): Linear(in_features=10, out_features=1, bias=True)\n",
       "        (sigmoid): Sigmoid()\n",
       "      )\n",
       "    )\n",
       "    (3): Linear(in_features=10, out_features=1, bias=True)\n",
       "  )\n",
       ")"
      ]
     },
     "execution_count": 3,
     "metadata": {},
     "output_type": "execute_result"
    }
   ],
   "source": [
    "n = Network(); n"
   ]
  },
  {
   "cell_type": "markdown",
   "id": "42a69940",
   "metadata": {},
   "source": [
    "This is moderately complex. We can then create a simple selector:"
   ]
  },
  {
   "cell_type": "code",
   "execution_count": 5,
   "id": "a43a3daa",
   "metadata": {},
   "outputs": [
    {
     "data": {
      "text/plain": [
       "ModuleSelector:\n",
       "root: Network                       \n",
       "    bulk: Sequential                \n",
       "        0: Linear                   all    \n",
       "        1: LeakyReLU                    \n",
       "        2: SkipBlock                \n",
       "            seq: Sequential         propB, propA\n",
       "                0: Linear               \n",
       "                1: LeakyReLU        propC    \n",
       "                2: Linear               \n",
       "                3: LeakyReLU        propC    \n",
       "                4: Linear               \n",
       "                5: LeakyReLU        propC    \n",
       "            gate: DynamicGate       \n",
       "                lin: Linear         propC    \n",
       "                sigmoid: Sigmoid        \n",
       "        3: Linear                       \n",
       "\n",
       "Can...\n",
       "- mS.displayF = ...: sets a display function (mS -> str) for self and all descendants. Defaults to displaying all props\n",
       "- mS.deepestDepth: get deepest depth possible\n",
       "- mS.nnModule: get the underlying nn.Module object\n",
       "- mS.apply(f): apply to self and all descendants\n",
       "- mS.copy(): copy everything, including descendants\n",
       "- mS.selected(\"HookModule\"): whether this module has a specified prop\n",
       "- mS.highlight(prop): highlights all modules with specified prop\n",
       "- mS.parse([..., ...]): parses extra css\n",
       "- mS.clearProps(): to clear all selected props, including descendants\n",
       "- mS.directParams(): get Dict[str, nn.Parameter] that are directly under this module\n",
       "- mS.named_children(), mS.children(): like PyTorch\n",
       "- mS.named_modules([prop]), mS.modules([prop]): like PyTorch. Optional filter prop\n",
       "- mS.parameters(): like PyTorch"
      ]
     },
     "execution_count": 5,
     "metadata": {},
     "output_type": "execute_result"
    }
   ],
   "source": [
    "sel = selector.select(n, \"\"\"\n",
    "SkipBlock > #seq: propA, propB\n",
    "SkipBlock LeakyReLU, #gate > #lin: propC\n",
    "#bulk > #0\n",
    "\"\"\"); sel"
   ]
  },
  {
   "cell_type": "markdown",
   "id": "a22328ea",
   "metadata": {},
   "source": [
    "So essentially, this is kinda similar to CSS selectors. `#a` will selects any module with name `a`. `b` will selects any module with class name `b`. Inheritance operators, like `a b` (indirect child) and `a > b` (direct child) works the same as in CSS too."
   ]
  },
  {
   "cell_type": "markdown",
   "id": "6b4b0e80",
   "metadata": {},
   "source": [
    "You can also use the asterisk `*` to select everything. So, `#a > *` will match all child of module with name `a`, and `#a *` will select everything recursively under it. In fact, when you first create `k1lib.Learner`, the css is `*` to select everything by default."
   ]
  },
  {
   "cell_type": "markdown",
   "id": "f9671e78",
   "metadata": {},
   "source": [
    "For each selection sentences, you can attach specific properties to it. If no properties are specified, then the property \"all\" will be used. You can then get a list of selected modules:"
   ]
  },
  {
   "cell_type": "code",
   "execution_count": 7,
   "id": "d774d182",
   "metadata": {},
   "outputs": [
    {
     "name": "stdout",
     "output_type": "stream",
     "text": [
      "<class 'torch.nn.modules.linear.Linear'>\n",
      "<class 'torch.nn.modules.container.Sequential'>\n"
     ]
    }
   ],
   "source": [
    "for m in sel.modules(\"propA\"):\n",
    "    print(type(m.nnModule))"
   ]
  },
  {
   "cell_type": "markdown",
   "id": "11310a61",
   "metadata": {},
   "source": [
    "Here, it selects any modules with properties “propA” or “all”."
   ]
  },
  {
   "cell_type": "markdown",
   "id": "053b5dd6",
   "metadata": {},
   "source": [
    "There are other methods that are analogues of `nn.Module` like `named_children()` and whatnot."
   ]
  },
  {
   "cell_type": "code",
   "execution_count": null,
   "id": "7db96285",
   "metadata": {},
   "outputs": [],
   "source": []
  }
 ],
 "metadata": {
  "kernelspec": {
   "display_name": "Python 3 (ipykernel)",
   "language": "python",
   "name": "python3"
  },
  "language_info": {
   "codemirror_mode": {
    "name": "ipython",
    "version": 3
   },
   "file_extension": ".py",
   "mimetype": "text/x-python",
   "name": "python",
   "nbconvert_exporter": "python",
   "pygments_lexer": "ipython3",
   "version": "3.8.10"
  }
 },
 "nbformat": 4,
 "nbformat_minor": 5
}
