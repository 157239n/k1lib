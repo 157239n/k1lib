{
 "cells": [
  {
   "cell_type": "markdown",
   "id": "5da45b8f",
   "metadata": {},
   "source": [
    "# `trace` cli\n",
    "\n",
    "This is essentially a demo on a single cli tool, `trace`. It allows you to inspect the stream at every point around the (likely tangled) cli operations. Let's get into it."
   ]
  },
  {
   "cell_type": "code",
   "execution_count": 1,
   "id": "2d96152d",
   "metadata": {},
   "outputs": [
    {
     "data": {
      "text/html": [
       "<style>\n",
       "    div.jp-OutputArea-output pre {white-space: pre;}\n",
       "    div.output_area pre {white-space: pre;}\n",
       "    div.CodeMirror > div.highlight {overflow-y: auto;}\n",
       "</style>"
      ],
      "text/plain": [
       "<IPython.core.display.HTML object>"
      ]
     },
     "metadata": {},
     "output_type": "display_data"
    }
   ],
   "source": [
    "from k1lib.imports import *"
   ]
  },
  {
   "cell_type": "markdown",
   "id": "c32fff96",
   "metadata": {},
   "source": [
    "Let's start simple. Say you have an operation that calculates square of a list of numbers, like this:"
   ]
  },
  {
   "cell_type": "code",
   "execution_count": 2,
   "id": "b2655ef3",
   "metadata": {},
   "outputs": [
    {
     "data": {
      "text/plain": [
       "[1, 4, 9, 16]"
      ]
     },
     "execution_count": 2,
     "metadata": {},
     "output_type": "execute_result"
    }
   ],
   "source": [
    "range(1, 5) | apply(op()**2) | deref()"
   ]
  },
  {
   "cell_type": "markdown",
   "id": "09de5a04",
   "metadata": {},
   "source": [
    "For more complex operations, it can be easy to lose track of what's what, and how the stream should look like at a particular point. So, you can just slide a `trace()` in the middle:"
   ]
  },
  {
   "cell_type": "code",
   "execution_count": 3,
   "id": "e47903cb",
   "metadata": {},
   "outputs": [
    {
     "data": {
      "image/svg+xml": [
       "<svg xmlns=\"http://www.w3.org/2000/svg\" xmlns:xlink=\"http://www.w3.org/1999/xlink\" width=\"56pt\" height=\"213pt\" viewBox=\"0.00 0.00 80.79 305.00\">\n",
       "<g id=\"graph0\" class=\"graph\" transform=\"scale(1 1) rotate(0) translate(4 301)\">\n",
       "<polygon fill=\"white\" stroke=\"transparent\" points=\"-4,4 -4,-301 76.79,-301 76.79,4 -4,4\"/>\n",
       "<!-- TD_0 -->\n",
       "<g id=\"node1\" class=\"node\">\n",
       "<title>TD_0</title>\n",
       "<ellipse fill=\"none\" stroke=\"black\" cx=\"36.4\" cy=\"-279\" rx=\"36.29\" ry=\"18\"/>\n",
       "<text text-anchor=\"middle\" x=\"36.4\" y=\"-275.3\" font-family=\"Times,serif\" font-size=\"14.00\">&lt;start&gt;</text>\n",
       "</g>\n",
       "<!-- TD_1 -->\n",
       "<g id=\"node2\" class=\"node\">\n",
       "<title>TD_1</title>\n",
       "<ellipse fill=\"none\" stroke=\"black\" cx=\"36.4\" cy=\"-192\" rx=\"30.59\" ry=\"18\"/>\n",
       "<text text-anchor=\"middle\" x=\"36.4\" y=\"-188.3\" font-family=\"Times,serif\" font-size=\"14.00\">apply</text>\n",
       "</g>\n",
       "<!-- TD_0&#45;&gt;TD_1 -->\n",
       "<g id=\"edge1\" class=\"edge\">\n",
       "<title>TD_0-&gt;TD_1</title>\n",
       "<path fill=\"none\" stroke=\"black\" d=\"M36.4,-260.8C36.4,-249.16 36.4,-233.55 36.4,-220.24\"/>\n",
       "<polygon fill=\"black\" stroke=\"black\" points=\"39.9,-220.18 36.4,-210.18 32.9,-220.18 39.9,-220.18\"/>\n",
       "<text text-anchor=\"middle\" x=\"48.4\" y=\"-231.8\" font-family=\"Times,serif\" font-size=\"14.00\"> (4,)</text>\n",
       "</g>\n",
       "<!-- TD_2 -->\n",
       "<g id=\"node3\" class=\"node\">\n",
       "<title>TD_2</title>\n",
       "<ellipse fill=\"none\" stroke=\"black\" cx=\"36.4\" cy=\"-105\" rx=\"28.7\" ry=\"18\"/>\n",
       "<text text-anchor=\"middle\" x=\"36.4\" y=\"-101.3\" font-family=\"Times,serif\" font-size=\"14.00\">deref</text>\n",
       "</g>\n",
       "<!-- TD_1&#45;&gt;TD_2 -->\n",
       "<g id=\"edge2\" class=\"edge\">\n",
       "<title>TD_1-&gt;TD_2</title>\n",
       "<path fill=\"none\" stroke=\"black\" d=\"M36.4,-173.8C36.4,-162.16 36.4,-146.55 36.4,-133.24\"/>\n",
       "<polygon fill=\"black\" stroke=\"black\" points=\"39.9,-133.18 36.4,-123.18 32.9,-133.18 39.9,-133.18\"/>\n",
       "<text text-anchor=\"middle\" x=\"48.4\" y=\"-144.8\" font-family=\"Times,serif\" font-size=\"14.00\"> (4,)</text>\n",
       "</g>\n",
       "<!-- TD_3 -->\n",
       "<g id=\"node4\" class=\"node\">\n",
       "<title>TD_3</title>\n",
       "<ellipse fill=\"none\" stroke=\"black\" cx=\"36.4\" cy=\"-18\" rx=\"34.39\" ry=\"18\"/>\n",
       "<text text-anchor=\"middle\" x=\"36.4\" y=\"-14.3\" font-family=\"Times,serif\" font-size=\"14.00\">&lt;end&gt;</text>\n",
       "</g>\n",
       "<!-- TD_2&#45;&gt;TD_3 -->\n",
       "<g id=\"edge3\" class=\"edge\">\n",
       "<title>TD_2-&gt;TD_3</title>\n",
       "<path fill=\"none\" stroke=\"black\" d=\"M36.4,-86.8C36.4,-75.16 36.4,-59.55 36.4,-46.24\"/>\n",
       "<polygon fill=\"black\" stroke=\"black\" points=\"39.9,-46.18 36.4,-36.18 32.9,-46.18 39.9,-46.18\"/>\n",
       "<text text-anchor=\"middle\" x=\"48.4\" y=\"-57.8\" font-family=\"Times,serif\" font-size=\"14.00\"> (4,)</text>\n",
       "</g>\n",
       "</g>\n",
       "</svg>"
      ],
      "text/plain": [
       "<IPython.core.display.SVG object>"
      ]
     },
     "metadata": {},
     "output_type": "display_data"
    },
    {
     "data": {
      "text/plain": [
       "<trace object>"
      ]
     },
     "execution_count": 3,
     "metadata": {},
     "output_type": "execute_result"
    }
   ],
   "source": [
    "range(1, 5) | trace() | apply(lambda x: x**2) | deref()"
   ]
  },
  {
   "cell_type": "markdown",
   "id": "2cbcbc6a",
   "metadata": {},
   "source": [
    "With no arguments, this will get the shape of the stream. You can of course, pass in other displaying functions that you like. I typically just use `iden()`:"
   ]
  },
  {
   "cell_type": "code",
   "execution_count": 4,
   "id": "9297ff91",
   "metadata": {},
   "outputs": [
    {
     "data": {
      "image/svg+xml": [
       "<svg xmlns=\"http://www.w3.org/2000/svg\" xmlns:xlink=\"http://www.w3.org/1999/xlink\" width=\"79pt\" height=\"152pt\" viewBox=\"0.00 0.00 114.40 218.00\">\n",
       "<g id=\"graph0\" class=\"graph\" transform=\"scale(1 1) rotate(0) translate(4 214)\">\n",
       "<polygon fill=\"white\" stroke=\"transparent\" points=\"-4,4 -4,-214 110.4,-214 110.4,4 -4,4\"/>\n",
       "<!-- TD_4 -->\n",
       "<g id=\"node1\" class=\"node\">\n",
       "<title>TD_4</title>\n",
       "<ellipse fill=\"none\" stroke=\"black\" cx=\"36.4\" cy=\"-192\" rx=\"36.29\" ry=\"18\"/>\n",
       "<text text-anchor=\"middle\" x=\"36.4\" y=\"-188.3\" font-family=\"Times,serif\" font-size=\"14.00\">&lt;start&gt;</text>\n",
       "</g>\n",
       "<!-- TD_5 -->\n",
       "<g id=\"node2\" class=\"node\">\n",
       "<title>TD_5</title>\n",
       "<ellipse fill=\"none\" stroke=\"black\" cx=\"36.4\" cy=\"-105\" rx=\"30.59\" ry=\"18\"/>\n",
       "<text text-anchor=\"middle\" x=\"36.4\" y=\"-101.3\" font-family=\"Times,serif\" font-size=\"14.00\">apply</text>\n",
       "</g>\n",
       "<!-- TD_4&#45;&gt;TD_5 -->\n",
       "<g id=\"edge1\" class=\"edge\">\n",
       "<title>TD_4-&gt;TD_5</title>\n",
       "<path fill=\"none\" stroke=\"black\" d=\"M36.4,-173.8C36.4,-162.16 36.4,-146.55 36.4,-133.24\"/>\n",
       "<polygon fill=\"black\" stroke=\"black\" points=\"39.9,-133.18 36.4,-123.18 32.9,-133.18 39.9,-133.18\"/>\n",
       "<text text-anchor=\"middle\" x=\"67.9\" y=\"-144.8\" font-family=\"Times,serif\" font-size=\"14.00\"> [1, 2, 3, 4]</text>\n",
       "</g>\n",
       "<!-- TD_6 -->\n",
       "<g id=\"node3\" class=\"node\">\n",
       "<title>TD_6</title>\n",
       "<ellipse fill=\"none\" stroke=\"black\" cx=\"36.4\" cy=\"-18\" rx=\"34.39\" ry=\"18\"/>\n",
       "<text text-anchor=\"middle\" x=\"36.4\" y=\"-14.3\" font-family=\"Times,serif\" font-size=\"14.00\">&lt;end&gt;</text>\n",
       "</g>\n",
       "<!-- TD_5&#45;&gt;TD_6 -->\n",
       "<g id=\"edge2\" class=\"edge\">\n",
       "<title>TD_5-&gt;TD_6</title>\n",
       "<path fill=\"none\" stroke=\"black\" d=\"M36.4,-86.8C36.4,-75.16 36.4,-59.55 36.4,-46.24\"/>\n",
       "<polygon fill=\"black\" stroke=\"black\" points=\"39.9,-46.18 36.4,-36.18 32.9,-46.18 39.9,-46.18\"/>\n",
       "<text text-anchor=\"middle\" x=\"71.4\" y=\"-57.8\" font-family=\"Times,serif\" font-size=\"14.00\"> [1, 4, 9, 16]</text>\n",
       "</g>\n",
       "</g>\n",
       "</svg>"
      ],
      "text/plain": [
       "<IPython.core.display.SVG object>"
      ]
     },
     "metadata": {},
     "output_type": "display_data"
    },
    {
     "data": {
      "text/plain": [
       "<trace object>"
      ]
     },
     "execution_count": 4,
     "metadata": {},
     "output_type": "execute_result"
    }
   ],
   "source": [
    "range(1, 5) | trace(iden()) | apply(lambda x: x**2)"
   ]
  },
  {
   "cell_type": "markdown",
   "id": "e584d361",
   "metadata": {},
   "source": [
    "Notice how I left out the last `deref()`. It's because it's only there to display the final value to us. But we already got that data from `trace()`, so we don't have to anymore. Let's transform it one step further:"
   ]
  },
  {
   "cell_type": "code",
   "execution_count": 5,
   "id": "ee6f1cba",
   "metadata": {},
   "outputs": [
    {
     "data": {
      "image/svg+xml": [
       "<svg xmlns=\"http://www.w3.org/2000/svg\" xmlns:xlink=\"http://www.w3.org/1999/xlink\" width=\"86pt\" height=\"213pt\" viewBox=\"0.00 0.00 123.40 305.00\">\n",
       "<g id=\"graph0\" class=\"graph\" transform=\"scale(1 1) rotate(0) translate(4 301)\">\n",
       "<polygon fill=\"white\" stroke=\"transparent\" points=\"-4,4 -4,-301 119.4,-301 119.4,4 -4,4\"/>\n",
       "<!-- TD_7 -->\n",
       "<g id=\"node1\" class=\"node\">\n",
       "<title>TD_7</title>\n",
       "<ellipse fill=\"none\" stroke=\"black\" cx=\"36.4\" cy=\"-279\" rx=\"36.29\" ry=\"18\"/>\n",
       "<text text-anchor=\"middle\" x=\"36.4\" y=\"-275.3\" font-family=\"Times,serif\" font-size=\"14.00\">&lt;start&gt;</text>\n",
       "</g>\n",
       "<!-- TD_8 -->\n",
       "<g id=\"node2\" class=\"node\">\n",
       "<title>TD_8</title>\n",
       "<ellipse fill=\"none\" stroke=\"black\" cx=\"36.4\" cy=\"-192\" rx=\"30.59\" ry=\"18\"/>\n",
       "<text text-anchor=\"middle\" x=\"36.4\" y=\"-188.3\" font-family=\"Times,serif\" font-size=\"14.00\">apply</text>\n",
       "</g>\n",
       "<!-- TD_7&#45;&gt;TD_8 -->\n",
       "<g id=\"edge1\" class=\"edge\">\n",
       "<title>TD_7-&gt;TD_8</title>\n",
       "<path fill=\"none\" stroke=\"black\" d=\"M36.4,-260.8C36.4,-249.16 36.4,-233.55 36.4,-220.24\"/>\n",
       "<polygon fill=\"black\" stroke=\"black\" points=\"39.9,-220.18 36.4,-210.18 32.9,-220.18 39.9,-220.18\"/>\n",
       "<text text-anchor=\"middle\" x=\"67.9\" y=\"-231.8\" font-family=\"Times,serif\" font-size=\"14.00\"> [1, 2, 3, 4]</text>\n",
       "</g>\n",
       "<!-- TD_9 -->\n",
       "<g id=\"node3\" class=\"node\">\n",
       "<title>TD_9</title>\n",
       "<ellipse fill=\"none\" stroke=\"black\" cx=\"36.4\" cy=\"-105\" rx=\"30.59\" ry=\"18\"/>\n",
       "<text text-anchor=\"middle\" x=\"36.4\" y=\"-101.3\" font-family=\"Times,serif\" font-size=\"14.00\">apply</text>\n",
       "</g>\n",
       "<!-- TD_8&#45;&gt;TD_9 -->\n",
       "<g id=\"edge2\" class=\"edge\">\n",
       "<title>TD_8-&gt;TD_9</title>\n",
       "<path fill=\"none\" stroke=\"black\" d=\"M36.4,-173.8C36.4,-162.16 36.4,-146.55 36.4,-133.24\"/>\n",
       "<polygon fill=\"black\" stroke=\"black\" points=\"39.9,-133.18 36.4,-123.18 32.9,-133.18 39.9,-133.18\"/>\n",
       "<text text-anchor=\"middle\" x=\"71.4\" y=\"-144.8\" font-family=\"Times,serif\" font-size=\"14.00\"> [1, 4, 9, 16]</text>\n",
       "</g>\n",
       "<!-- TD_10 -->\n",
       "<g id=\"node4\" class=\"node\">\n",
       "<title>TD_10</title>\n",
       "<ellipse fill=\"none\" stroke=\"black\" cx=\"36.4\" cy=\"-18\" rx=\"34.39\" ry=\"18\"/>\n",
       "<text text-anchor=\"middle\" x=\"36.4\" y=\"-14.3\" font-family=\"Times,serif\" font-size=\"14.00\">&lt;end&gt;</text>\n",
       "</g>\n",
       "<!-- TD_9&#45;&gt;TD_10 -->\n",
       "<g id=\"edge3\" class=\"edge\">\n",
       "<title>TD_9-&gt;TD_10</title>\n",
       "<path fill=\"none\" stroke=\"black\" d=\"M36.4,-86.8C36.4,-75.16 36.4,-59.55 36.4,-46.24\"/>\n",
       "<polygon fill=\"black\" stroke=\"black\" points=\"39.9,-46.18 36.4,-36.18 32.9,-46.18 39.9,-46.18\"/>\n",
       "<text text-anchor=\"middle\" x=\"75.9\" y=\"-57.8\" font-family=\"Times,serif\" font-size=\"14.00\"> [-5, -2, 3, 10]</text>\n",
       "</g>\n",
       "</g>\n",
       "</svg>"
      ],
      "text/plain": [
       "<IPython.core.display.SVG object>"
      ]
     },
     "metadata": {},
     "output_type": "display_data"
    },
    {
     "data": {
      "text/plain": [
       "<trace object>"
      ]
     },
     "execution_count": 5,
     "metadata": {},
     "output_type": "execute_result"
    }
   ],
   "source": [
    "range(1, 5) | trace(iden()) | apply(lambda x: x**2) | apply(lambda x: x - 6)"
   ]
  },
  {
   "cell_type": "markdown",
   "id": "7069dc28",
   "metadata": {},
   "source": [
    "Sweet. Let's combine the operations first, before feeding it input:"
   ]
  },
  {
   "cell_type": "code",
   "execution_count": 6,
   "id": "4c2d9a66",
   "metadata": {},
   "outputs": [
    {
     "data": {
      "image/svg+xml": [
       "<svg xmlns=\"http://www.w3.org/2000/svg\" xmlns:xlink=\"http://www.w3.org/1999/xlink\" width=\"98pt\" height=\"289pt\" viewBox=\"0.00 0.00 140.00 413.00\">\n",
       "<g id=\"graph0\" class=\"graph\" transform=\"scale(1 1) rotate(0) translate(4 409)\">\n",
       "<polygon fill=\"white\" stroke=\"transparent\" points=\"-4,4 -4,-409 136,-409 136,4 -4,4\"/>\n",
       "<g id=\"clust1\" class=\"cluster\">\n",
       "<title>cluster_0</title>\n",
       "<polygon fill=\"none\" stroke=\"black\" points=\"8,-166 8,-328 112,-328 112,-166 8,-166\"/>\n",
       "<text text-anchor=\"middle\" x=\"60\" y=\"-312.8\" font-family=\"Times,serif\" font-size=\"14.00\">|, serial</text>\n",
       "</g>\n",
       "<!-- TD_11 -->\n",
       "<g id=\"node1\" class=\"node\">\n",
       "<title>TD_11</title>\n",
       "<ellipse fill=\"none\" stroke=\"black\" cx=\"47\" cy=\"-387\" rx=\"36.29\" ry=\"18\"/>\n",
       "<text text-anchor=\"middle\" x=\"47\" y=\"-383.3\" font-family=\"Times,serif\" font-size=\"14.00\">&lt;start&gt;</text>\n",
       "</g>\n",
       "<!-- TD_13 -->\n",
       "<g id=\"node2\" class=\"node\">\n",
       "<title>TD_13</title>\n",
       "<ellipse fill=\"none\" stroke=\"black\" cx=\"47\" cy=\"-279\" rx=\"30.59\" ry=\"18\"/>\n",
       "<text text-anchor=\"middle\" x=\"47\" y=\"-275.3\" font-family=\"Times,serif\" font-size=\"14.00\">apply</text>\n",
       "</g>\n",
       "<!-- TD_11&#45;&gt;TD_13 -->\n",
       "<g id=\"edge2\" class=\"edge\">\n",
       "<title>TD_11-&gt;TD_13</title>\n",
       "<path fill=\"none\" stroke=\"black\" d=\"M47,-368.97C47,-352.38 47,-326.88 47,-307.43\"/>\n",
       "<polygon fill=\"black\" stroke=\"black\" points=\"50.5,-307.34 47,-297.34 43.5,-307.34 50.5,-307.34\"/>\n",
       "<text text-anchor=\"middle\" x=\"78.5\" y=\"-339.8\" font-family=\"Times,serif\" font-size=\"14.00\"> [1, 2, 3, 4]</text>\n",
       "</g>\n",
       "<!-- TD_14 -->\n",
       "<g id=\"node3\" class=\"node\">\n",
       "<title>TD_14</title>\n",
       "<ellipse fill=\"none\" stroke=\"black\" cx=\"47\" cy=\"-192\" rx=\"30.59\" ry=\"18\"/>\n",
       "<text text-anchor=\"middle\" x=\"47\" y=\"-188.3\" font-family=\"Times,serif\" font-size=\"14.00\">apply</text>\n",
       "</g>\n",
       "<!-- TD_13&#45;&gt;TD_14 -->\n",
       "<g id=\"edge1\" class=\"edge\">\n",
       "<title>TD_13-&gt;TD_14</title>\n",
       "<path fill=\"none\" stroke=\"black\" d=\"M47,-260.8C47,-249.16 47,-233.55 47,-220.24\"/>\n",
       "<polygon fill=\"black\" stroke=\"black\" points=\"50.5,-220.18 47,-210.18 43.5,-220.18 50.5,-220.18\"/>\n",
       "<text text-anchor=\"middle\" x=\"82\" y=\"-231.8\" font-family=\"Times,serif\" font-size=\"14.00\"> [1, 4, 9, 16]</text>\n",
       "</g>\n",
       "<!-- TD_15 -->\n",
       "<g id=\"node4\" class=\"node\">\n",
       "<title>TD_15</title>\n",
       "<ellipse fill=\"none\" stroke=\"black\" cx=\"47\" cy=\"-105\" rx=\"30.59\" ry=\"18\"/>\n",
       "<text text-anchor=\"middle\" x=\"47\" y=\"-101.3\" font-family=\"Times,serif\" font-size=\"14.00\">apply</text>\n",
       "</g>\n",
       "<!-- TD_14&#45;&gt;TD_15 -->\n",
       "<g id=\"edge3\" class=\"edge\">\n",
       "<title>TD_14-&gt;TD_15</title>\n",
       "<path fill=\"none\" stroke=\"black\" d=\"M47,-173.8C47,-162.16 47,-146.55 47,-133.24\"/>\n",
       "<polygon fill=\"black\" stroke=\"black\" points=\"50.5,-133.18 47,-123.18 43.5,-133.18 50.5,-133.18\"/>\n",
       "<text text-anchor=\"middle\" x=\"86.5\" y=\"-144.8\" font-family=\"Times,serif\" font-size=\"14.00\"> [-5, -2, 3, 10]</text>\n",
       "</g>\n",
       "<!-- TD_16 -->\n",
       "<g id=\"node5\" class=\"node\">\n",
       "<title>TD_16</title>\n",
       "<ellipse fill=\"none\" stroke=\"black\" cx=\"47\" cy=\"-18\" rx=\"34.39\" ry=\"18\"/>\n",
       "<text text-anchor=\"middle\" x=\"47\" y=\"-14.3\" font-family=\"Times,serif\" font-size=\"14.00\">&lt;end&gt;</text>\n",
       "</g>\n",
       "<!-- TD_15&#45;&gt;TD_16 -->\n",
       "<g id=\"edge4\" class=\"edge\">\n",
       "<title>TD_15-&gt;TD_16</title>\n",
       "<path fill=\"none\" stroke=\"black\" d=\"M47,-86.8C47,-75.16 47,-59.55 47,-46.24\"/>\n",
       "<polygon fill=\"black\" stroke=\"black\" points=\"50.5,-46.18 47,-36.18 43.5,-46.18 50.5,-46.18\"/>\n",
       "<text text-anchor=\"middle\" x=\"89.5\" y=\"-57.8\" font-family=\"Times,serif\" font-size=\"14.00\"> [-15, -6, 9, 30]</text>\n",
       "</g>\n",
       "</g>\n",
       "</svg>"
      ],
      "text/plain": [
       "<IPython.core.display.SVG object>"
      ]
     },
     "metadata": {},
     "output_type": "display_data"
    },
    {
     "data": {
      "text/plain": [
       "<trace object>"
      ]
     },
     "execution_count": 6,
     "metadata": {},
     "output_type": "execute_result"
    }
   ],
   "source": [
    "range(1, 5) | trace(iden()) | (apply(lambda x: x**2) | apply(lambda x: x - 6)) | apply(lambda x: x*3)"
   ]
  },
  {
   "cell_type": "markdown",
   "id": "f7bfcb0e",
   "metadata": {},
   "source": [
    "It knows, and automatically box the operations in. You can also put `trace()` wherever you like:"
   ]
  },
  {
   "cell_type": "code",
   "execution_count": 7,
   "id": "0109b497",
   "metadata": {},
   "outputs": [
    {
     "data": {
      "image/svg+xml": [
       "<svg xmlns=\"http://www.w3.org/2000/svg\" xmlns:xlink=\"http://www.w3.org/1999/xlink\" width=\"90pt\" height=\"152pt\" viewBox=\"0.00 0.00 129.40 218.00\">\n",
       "<g id=\"graph0\" class=\"graph\" transform=\"scale(1 1) rotate(0) translate(4 214)\">\n",
       "<polygon fill=\"white\" stroke=\"transparent\" points=\"-4,4 -4,-214 125.4,-214 125.4,4 -4,4\"/>\n",
       "<!-- TD_17 -->\n",
       "<g id=\"node1\" class=\"node\">\n",
       "<title>TD_17</title>\n",
       "<ellipse fill=\"none\" stroke=\"black\" cx=\"36.4\" cy=\"-192\" rx=\"36.29\" ry=\"18\"/>\n",
       "<text text-anchor=\"middle\" x=\"36.4\" y=\"-188.3\" font-family=\"Times,serif\" font-size=\"14.00\">&lt;start&gt;</text>\n",
       "</g>\n",
       "<!-- TD_18 -->\n",
       "<g id=\"node2\" class=\"node\">\n",
       "<title>TD_18</title>\n",
       "<ellipse fill=\"none\" stroke=\"black\" cx=\"36.4\" cy=\"-105\" rx=\"30.59\" ry=\"18\"/>\n",
       "<text text-anchor=\"middle\" x=\"36.4\" y=\"-101.3\" font-family=\"Times,serif\" font-size=\"14.00\">apply</text>\n",
       "</g>\n",
       "<!-- TD_17&#45;&gt;TD_18 -->\n",
       "<g id=\"edge1\" class=\"edge\">\n",
       "<title>TD_17-&gt;TD_18</title>\n",
       "<path fill=\"none\" stroke=\"black\" d=\"M36.4,-173.8C36.4,-162.16 36.4,-146.55 36.4,-133.24\"/>\n",
       "<polygon fill=\"black\" stroke=\"black\" points=\"39.9,-133.18 36.4,-123.18 32.9,-133.18 39.9,-133.18\"/>\n",
       "<text text-anchor=\"middle\" x=\"75.9\" y=\"-144.8\" font-family=\"Times,serif\" font-size=\"14.00\"> [-5, -2, 3, 10]</text>\n",
       "</g>\n",
       "<!-- TD_19 -->\n",
       "<g id=\"node3\" class=\"node\">\n",
       "<title>TD_19</title>\n",
       "<ellipse fill=\"none\" stroke=\"black\" cx=\"36.4\" cy=\"-18\" rx=\"34.39\" ry=\"18\"/>\n",
       "<text text-anchor=\"middle\" x=\"36.4\" y=\"-14.3\" font-family=\"Times,serif\" font-size=\"14.00\">&lt;end&gt;</text>\n",
       "</g>\n",
       "<!-- TD_18&#45;&gt;TD_19 -->\n",
       "<g id=\"edge2\" class=\"edge\">\n",
       "<title>TD_18-&gt;TD_19</title>\n",
       "<path fill=\"none\" stroke=\"black\" d=\"M36.4,-86.8C36.4,-75.16 36.4,-59.55 36.4,-46.24\"/>\n",
       "<polygon fill=\"black\" stroke=\"black\" points=\"39.9,-46.18 36.4,-36.18 32.9,-46.18 39.9,-46.18\"/>\n",
       "<text text-anchor=\"middle\" x=\"78.9\" y=\"-57.8\" font-family=\"Times,serif\" font-size=\"14.00\"> [-15, -6, 9, 30]</text>\n",
       "</g>\n",
       "</g>\n",
       "</svg>"
      ],
      "text/plain": [
       "<IPython.core.display.SVG object>"
      ]
     },
     "metadata": {},
     "output_type": "display_data"
    },
    {
     "data": {
      "text/plain": [
       "<trace object>"
      ]
     },
     "execution_count": 7,
     "metadata": {},
     "output_type": "execute_result"
    }
   ],
   "source": [
    "range(1, 5) | (apply(lambda x: x**2) | apply(lambda x: x - 6)) | trace(iden()) | apply(lambda x: x*3)"
   ]
  },
  {
   "cell_type": "markdown",
   "id": "274919b4",
   "metadata": {},
   "source": [
    "You can go wild with this. This is an example with `.all()`, `|`, and `op()`:"
   ]
  },
  {
   "cell_type": "code",
   "execution_count": 8,
   "id": "6ea378d6",
   "metadata": {},
   "outputs": [
    {
     "data": {
      "image/svg+xml": [
       "<svg xmlns=\"http://www.w3.org/2000/svg\" xmlns:xlink=\"http://www.w3.org/1999/xlink\" width=\"187pt\" height=\"364pt\" viewBox=\"0.00 0.00 268.00 521.00\">\n",
       "<g id=\"graph0\" class=\"graph\" transform=\"scale(1 1) rotate(0) translate(4 517)\">\n",
       "<polygon fill=\"white\" stroke=\"transparent\" points=\"-4,4 -4,-517 264,-517 264,4 -4,4\"/>\n",
       "<g id=\"clust1\" class=\"cluster\">\n",
       "<title>cluster_1</title>\n",
       "<polygon fill=\"none\" stroke=\"black\" points=\"8,-79 8,-436 104,-436 104,-79 8,-79\"/>\n",
       "<text text-anchor=\"middle\" x=\"56\" y=\"-420.8\" font-family=\"Times,serif\" font-size=\"14.00\">.all(), apply</text>\n",
       "</g>\n",
       "<g id=\"clust2\" class=\"cluster\">\n",
       "<title>cluster_2</title>\n",
       "<polygon fill=\"none\" stroke=\"black\" points=\"16,-166 16,-328 96,-328 96,-166 16,-166\"/>\n",
       "<text text-anchor=\"middle\" x=\"56\" y=\"-312.8\" font-family=\"Times,serif\" font-size=\"14.00\">|, serial</text>\n",
       "</g>\n",
       "<!-- TD_20 -->\n",
       "<g id=\"node1\" class=\"node\">\n",
       "<title>TD_20</title>\n",
       "<ellipse fill=\"none\" stroke=\"black\" cx=\"56\" cy=\"-495\" rx=\"36.29\" ry=\"18\"/>\n",
       "<text text-anchor=\"middle\" x=\"56\" y=\"-491.3\" font-family=\"Times,serif\" font-size=\"14.00\">&lt;start&gt;</text>\n",
       "</g>\n",
       "<!-- TD_22 -->\n",
       "<g id=\"node2\" class=\"node\">\n",
       "<title>TD_22</title>\n",
       "<ellipse fill=\"none\" stroke=\"black\" cx=\"56\" cy=\"-387\" rx=\"27\" ry=\"18\"/>\n",
       "<text text-anchor=\"middle\" x=\"56\" y=\"-383.3\" font-family=\"Times,serif\" font-size=\"14.00\">*</text>\n",
       "</g>\n",
       "<!-- TD_20&#45;&gt;TD_22 -->\n",
       "<g id=\"edge4\" class=\"edge\">\n",
       "<title>TD_20-&gt;TD_22</title>\n",
       "<path fill=\"none\" stroke=\"black\" d=\"M56,-476.97C56,-460.38 56,-434.88 56,-415.43\"/>\n",
       "<polygon fill=\"black\" stroke=\"black\" points=\"59.5,-415.34 56,-405.34 52.5,-415.34 59.5,-415.34\"/>\n",
       "<text text-anchor=\"middle\" x=\"87.5\" y=\"-447.8\" font-family=\"Times,serif\" font-size=\"14.00\"> [1, 2, 3, 4]</text>\n",
       "</g>\n",
       "<!-- TD_24 -->\n",
       "<g id=\"node3\" class=\"node\">\n",
       "<title>TD_24</title>\n",
       "<ellipse fill=\"none\" stroke=\"black\" cx=\"56\" cy=\"-279\" rx=\"27\" ry=\"18\"/>\n",
       "<text text-anchor=\"middle\" x=\"56\" y=\"-275.3\" font-family=\"Times,serif\" font-size=\"14.00\">op</text>\n",
       "</g>\n",
       "<!-- TD_22&#45;&gt;TD_24 -->\n",
       "<g id=\"edge2\" class=\"edge\">\n",
       "<title>TD_22-&gt;TD_24</title>\n",
       "<path fill=\"none\" stroke=\"black\" d=\"M56,-368.97C56,-352.38 56,-326.88 56,-307.43\"/>\n",
       "<polygon fill=\"black\" stroke=\"black\" points=\"59.5,-307.34 56,-297.34 52.5,-307.34 59.5,-307.34\"/>\n",
       "<text text-anchor=\"middle\" x=\"61.5\" y=\"-339.8\" font-family=\"Times,serif\" font-size=\"14.00\"> 1</text>\n",
       "</g>\n",
       "<!-- TD_25 -->\n",
       "<g id=\"node4\" class=\"node\">\n",
       "<title>TD_25</title>\n",
       "<ellipse fill=\"none\" stroke=\"black\" cx=\"56\" cy=\"-192\" rx=\"32.49\" ry=\"18\"/>\n",
       "<text text-anchor=\"middle\" x=\"56\" y=\"-188.3\" font-family=\"Times,serif\" font-size=\"14.00\">repeat</text>\n",
       "</g>\n",
       "<!-- TD_24&#45;&gt;TD_25 -->\n",
       "<g id=\"edge1\" class=\"edge\">\n",
       "<title>TD_24-&gt;TD_25</title>\n",
       "<path fill=\"none\" stroke=\"black\" d=\"M56,-260.8C56,-249.16 56,-233.55 56,-220.24\"/>\n",
       "<polygon fill=\"black\" stroke=\"black\" points=\"59.5,-220.18 56,-210.18 52.5,-220.18 59.5,-220.18\"/>\n",
       "<text text-anchor=\"middle\" x=\"61.5\" y=\"-231.8\" font-family=\"Times,serif\" font-size=\"14.00\"> 2</text>\n",
       "</g>\n",
       "<!-- TD_26 -->\n",
       "<g id=\"node5\" class=\"node\">\n",
       "<title>TD_26</title>\n",
       "<ellipse fill=\"none\" stroke=\"black\" cx=\"47\" cy=\"-105\" rx=\"27\" ry=\"18\"/>\n",
       "<text text-anchor=\"middle\" x=\"47\" y=\"-101.3\" font-family=\"Times,serif\" font-size=\"14.00\">*</text>\n",
       "</g>\n",
       "<!-- TD_25&#45;&gt;TD_26 -->\n",
       "<g id=\"edge3\" class=\"edge\">\n",
       "<title>TD_25-&gt;TD_26</title>\n",
       "<path fill=\"none\" stroke=\"black\" d=\"M54.18,-173.8C52.95,-162.16 51.29,-146.55 49.88,-133.24\"/>\n",
       "<polygon fill=\"black\" stroke=\"black\" points=\"53.35,-132.75 48.82,-123.18 46.39,-133.49 53.35,-132.75\"/>\n",
       "<text text-anchor=\"middle\" x=\"76.5\" y=\"-144.8\" font-family=\"Times,serif\" font-size=\"14.00\"> [2, 2, 2]</text>\n",
       "</g>\n",
       "<!-- TD_27 -->\n",
       "<g id=\"node6\" class=\"node\">\n",
       "<title>TD_27</title>\n",
       "<ellipse fill=\"none\" stroke=\"black\" cx=\"47\" cy=\"-18\" rx=\"34.39\" ry=\"18\"/>\n",
       "<text text-anchor=\"middle\" x=\"47\" y=\"-14.3\" font-family=\"Times,serif\" font-size=\"14.00\">&lt;end&gt;</text>\n",
       "</g>\n",
       "<!-- TD_26&#45;&gt;TD_27 -->\n",
       "<g id=\"edge5\" class=\"edge\">\n",
       "<title>TD_26-&gt;TD_27</title>\n",
       "<path fill=\"none\" stroke=\"black\" d=\"M47,-86.8C47,-75.16 47,-59.55 47,-46.24\"/>\n",
       "<polygon fill=\"black\" stroke=\"black\" points=\"50.5,-46.18 47,-36.18 43.5,-46.18 50.5,-46.18\"/>\n",
       "<text text-anchor=\"middle\" x=\"153.5\" y=\"-57.8\" font-family=\"Times,serif\" font-size=\"14.00\"> [[2, 2, 2], [4, 4, 4], [6, 6, 6], [8, 8, 8]]</text>\n",
       "</g>\n",
       "</g>\n",
       "</svg>"
      ],
      "text/plain": [
       "<IPython.core.display.SVG object>"
      ]
     },
     "metadata": {},
     "output_type": "display_data"
    },
    {
     "data": {
      "text/plain": [
       "<trace object>"
      ]
     },
     "execution_count": 8,
     "metadata": {},
     "output_type": "execute_result"
    }
   ],
   "source": [
    "range(1,5) | trace(iden()) | (op()*2 | repeat(3)).all()"
   ]
  },
  {
   "cell_type": "markdown",
   "id": "906b58b3",
   "metadata": {},
   "source": [
    "You can limit the depth of the graph, like this:"
   ]
  },
  {
   "cell_type": "code",
   "execution_count": 9,
   "id": "7586a810",
   "metadata": {},
   "outputs": [
    {
     "data": {
      "image/svg+xml": [
       "<svg xmlns=\"http://www.w3.org/2000/svg\" xmlns:xlink=\"http://www.w3.org/1999/xlink\" width=\"184pt\" height=\"289pt\" viewBox=\"0.00 0.00 264.00 413.00\">\n",
       "<g id=\"graph0\" class=\"graph\" transform=\"scale(1 1) rotate(0) translate(4 409)\">\n",
       "<polygon fill=\"white\" stroke=\"transparent\" points=\"-4,4 -4,-409 260,-409 260,4 -4,4\"/>\n",
       "<g id=\"clust1\" class=\"cluster\">\n",
       "<title>cluster_3</title>\n",
       "<polygon fill=\"none\" stroke=\"black\" points=\"8,-79 8,-328 91,-328 91,-79 8,-79\"/>\n",
       "<text text-anchor=\"middle\" x=\"49.5\" y=\"-312.8\" font-family=\"Times,serif\" font-size=\"14.00\">.all(), apply</text>\n",
       "</g>\n",
       "<!-- TD_28 -->\n",
       "<g id=\"node1\" class=\"node\">\n",
       "<title>TD_28</title>\n",
       "<ellipse fill=\"none\" stroke=\"black\" cx=\"46\" cy=\"-387\" rx=\"36.29\" ry=\"18\"/>\n",
       "<text text-anchor=\"middle\" x=\"46\" y=\"-383.3\" font-family=\"Times,serif\" font-size=\"14.00\">&lt;start&gt;</text>\n",
       "</g>\n",
       "<!-- TD_30 -->\n",
       "<g id=\"node2\" class=\"node\">\n",
       "<title>TD_30</title>\n",
       "<ellipse fill=\"none\" stroke=\"black\" cx=\"46\" cy=\"-279\" rx=\"27\" ry=\"18\"/>\n",
       "<text text-anchor=\"middle\" x=\"46\" y=\"-275.3\" font-family=\"Times,serif\" font-size=\"14.00\">*</text>\n",
       "</g>\n",
       "<!-- TD_28&#45;&gt;TD_30 -->\n",
       "<g id=\"edge3\" class=\"edge\">\n",
       "<title>TD_28-&gt;TD_30</title>\n",
       "<path fill=\"none\" stroke=\"black\" d=\"M46,-368.97C46,-352.38 46,-326.88 46,-307.43\"/>\n",
       "<polygon fill=\"black\" stroke=\"black\" points=\"49.5,-307.34 46,-297.34 42.5,-307.34 49.5,-307.34\"/>\n",
       "<text text-anchor=\"middle\" x=\"77.5\" y=\"-339.8\" font-family=\"Times,serif\" font-size=\"14.00\"> [1, 2, 3, 4]</text>\n",
       "</g>\n",
       "<!-- TD_31 -->\n",
       "<g id=\"node3\" class=\"node\">\n",
       "<title>TD_31</title>\n",
       "<ellipse fill=\"none\" stroke=\"black\" cx=\"46\" cy=\"-192\" rx=\"29.8\" ry=\"18\"/>\n",
       "<text text-anchor=\"middle\" x=\"46\" y=\"-188.3\" font-family=\"Times,serif\" font-size=\"14.00\">serial</text>\n",
       "</g>\n",
       "<!-- TD_30&#45;&gt;TD_31 -->\n",
       "<g id=\"edge1\" class=\"edge\">\n",
       "<title>TD_30-&gt;TD_31</title>\n",
       "<path fill=\"none\" stroke=\"black\" d=\"M46,-260.8C46,-249.16 46,-233.55 46,-220.24\"/>\n",
       "<polygon fill=\"black\" stroke=\"black\" points=\"49.5,-220.18 46,-210.18 42.5,-220.18 49.5,-220.18\"/>\n",
       "<text text-anchor=\"middle\" x=\"51.5\" y=\"-231.8\" font-family=\"Times,serif\" font-size=\"14.00\"> 1</text>\n",
       "</g>\n",
       "<!-- TD_32 -->\n",
       "<g id=\"node4\" class=\"node\">\n",
       "<title>TD_32</title>\n",
       "<ellipse fill=\"none\" stroke=\"black\" cx=\"43\" cy=\"-105\" rx=\"27\" ry=\"18\"/>\n",
       "<text text-anchor=\"middle\" x=\"43\" y=\"-101.3\" font-family=\"Times,serif\" font-size=\"14.00\">*</text>\n",
       "</g>\n",
       "<!-- TD_31&#45;&gt;TD_32 -->\n",
       "<g id=\"edge2\" class=\"edge\">\n",
       "<title>TD_31-&gt;TD_32</title>\n",
       "<path fill=\"none\" stroke=\"black\" d=\"M45.39,-173.8C44.98,-162.16 44.43,-146.55 43.96,-133.24\"/>\n",
       "<polygon fill=\"black\" stroke=\"black\" points=\"47.46,-133.05 43.61,-123.18 40.46,-133.29 47.46,-133.05\"/>\n",
       "<text text-anchor=\"middle\" x=\"68.5\" y=\"-144.8\" font-family=\"Times,serif\" font-size=\"14.00\"> [2, 2, 2]</text>\n",
       "</g>\n",
       "<!-- TD_33 -->\n",
       "<g id=\"node5\" class=\"node\">\n",
       "<title>TD_33</title>\n",
       "<ellipse fill=\"none\" stroke=\"black\" cx=\"43\" cy=\"-18\" rx=\"34.39\" ry=\"18\"/>\n",
       "<text text-anchor=\"middle\" x=\"43\" y=\"-14.3\" font-family=\"Times,serif\" font-size=\"14.00\">&lt;end&gt;</text>\n",
       "</g>\n",
       "<!-- TD_32&#45;&gt;TD_33 -->\n",
       "<g id=\"edge4\" class=\"edge\">\n",
       "<title>TD_32-&gt;TD_33</title>\n",
       "<path fill=\"none\" stroke=\"black\" d=\"M43,-86.8C43,-75.16 43,-59.55 43,-46.24\"/>\n",
       "<polygon fill=\"black\" stroke=\"black\" points=\"46.5,-46.18 43,-36.18 39.5,-46.18 46.5,-46.18\"/>\n",
       "<text text-anchor=\"middle\" x=\"149.5\" y=\"-57.8\" font-family=\"Times,serif\" font-size=\"14.00\"> [[2, 2, 2], [4, 4, 4], [6, 6, 6], [8, 8, 8]]</text>\n",
       "</g>\n",
       "</g>\n",
       "</svg>"
      ],
      "text/plain": [
       "<IPython.core.display.SVG object>"
      ]
     },
     "metadata": {},
     "output_type": "display_data"
    },
    {
     "data": {
      "text/plain": [
       "<trace object>"
      ]
     },
     "execution_count": 9,
     "metadata": {},
     "output_type": "execute_result"
    }
   ],
   "source": [
    "range(1,5) | trace(iden(), 1) | (op()*2 | repeat(3)).all()"
   ]
  },
  {
   "cell_type": "code",
   "execution_count": 10,
   "id": "118ccc05",
   "metadata": {},
   "outputs": [
    {
     "data": {
      "image/svg+xml": [
       "<svg xmlns=\"http://www.w3.org/2000/svg\" xmlns:xlink=\"http://www.w3.org/1999/xlink\" width=\"179pt\" height=\"152pt\" viewBox=\"0.00 0.00 257.40 218.00\">\n",
       "<g id=\"graph0\" class=\"graph\" transform=\"scale(1 1) rotate(0) translate(4 214)\">\n",
       "<polygon fill=\"white\" stroke=\"transparent\" points=\"-4,4 -4,-214 253.4,-214 253.4,4 -4,4\"/>\n",
       "<!-- TD_34 -->\n",
       "<g id=\"node1\" class=\"node\">\n",
       "<title>TD_34</title>\n",
       "<ellipse fill=\"none\" stroke=\"black\" cx=\"36.4\" cy=\"-192\" rx=\"36.29\" ry=\"18\"/>\n",
       "<text text-anchor=\"middle\" x=\"36.4\" y=\"-188.3\" font-family=\"Times,serif\" font-size=\"14.00\">&lt;start&gt;</text>\n",
       "</g>\n",
       "<!-- TD_35 -->\n",
       "<g id=\"node2\" class=\"node\">\n",
       "<title>TD_35</title>\n",
       "<ellipse fill=\"none\" stroke=\"black\" cx=\"36.4\" cy=\"-105\" rx=\"30.59\" ry=\"18\"/>\n",
       "<text text-anchor=\"middle\" x=\"36.4\" y=\"-101.3\" font-family=\"Times,serif\" font-size=\"14.00\">apply</text>\n",
       "</g>\n",
       "<!-- TD_34&#45;&gt;TD_35 -->\n",
       "<g id=\"edge1\" class=\"edge\">\n",
       "<title>TD_34-&gt;TD_35</title>\n",
       "<path fill=\"none\" stroke=\"black\" d=\"M36.4,-173.8C36.4,-162.16 36.4,-146.55 36.4,-133.24\"/>\n",
       "<polygon fill=\"black\" stroke=\"black\" points=\"39.9,-133.18 36.4,-123.18 32.9,-133.18 39.9,-133.18\"/>\n",
       "<text text-anchor=\"middle\" x=\"67.9\" y=\"-144.8\" font-family=\"Times,serif\" font-size=\"14.00\"> [1, 2, 3, 4]</text>\n",
       "</g>\n",
       "<!-- TD_36 -->\n",
       "<g id=\"node3\" class=\"node\">\n",
       "<title>TD_36</title>\n",
       "<ellipse fill=\"none\" stroke=\"black\" cx=\"36.4\" cy=\"-18\" rx=\"34.39\" ry=\"18\"/>\n",
       "<text text-anchor=\"middle\" x=\"36.4\" y=\"-14.3\" font-family=\"Times,serif\" font-size=\"14.00\">&lt;end&gt;</text>\n",
       "</g>\n",
       "<!-- TD_35&#45;&gt;TD_36 -->\n",
       "<g id=\"edge2\" class=\"edge\">\n",
       "<title>TD_35-&gt;TD_36</title>\n",
       "<path fill=\"none\" stroke=\"black\" d=\"M36.4,-86.8C36.4,-75.16 36.4,-59.55 36.4,-46.24\"/>\n",
       "<polygon fill=\"black\" stroke=\"black\" points=\"39.9,-46.18 36.4,-36.18 32.9,-46.18 39.9,-46.18\"/>\n",
       "<text text-anchor=\"middle\" x=\"142.9\" y=\"-57.8\" font-family=\"Times,serif\" font-size=\"14.00\"> [[2, 2, 2], [4, 4, 4], [6, 6, 6], [8, 8, 8]]</text>\n",
       "</g>\n",
       "</g>\n",
       "</svg>"
      ],
      "text/plain": [
       "<IPython.core.display.SVG object>"
      ]
     },
     "metadata": {},
     "output_type": "display_data"
    },
    {
     "data": {
      "text/plain": [
       "<trace object>"
      ]
     },
     "execution_count": 10,
     "metadata": {},
     "output_type": "execute_result"
    }
   ],
   "source": [
    "range(1,5) | trace(iden(), 0) | (op()*2 | repeat(3)).all()"
   ]
  },
  {
   "cell_type": "markdown",
   "id": "97222687",
   "metadata": {},
   "source": [
    "If the graphs are too small/big, you can adjust the settings, like this:"
   ]
  },
  {
   "cell_type": "code",
   "execution_count": 11,
   "id": "bafa5ad5",
   "metadata": {},
   "outputs": [],
   "source": [
    "settings.svgScale = 0.7 # times graphviz's default size. Defaulted to 0.7"
   ]
  },
  {
   "cell_type": "markdown",
   "id": "26aec176",
   "metadata": {},
   "source": [
    "Let's see some more complex examples:"
   ]
  },
  {
   "cell_type": "code",
   "execution_count": 12,
   "id": "3dfe4bc8",
   "metadata": {},
   "outputs": [
    {
     "data": {
      "image/svg+xml": [
       "<svg xmlns=\"http://www.w3.org/2000/svg\" xmlns:xlink=\"http://www.w3.org/1999/xlink\" width=\"144pt\" height=\"501pt\" viewBox=\"0.00 0.00 207.00 716.00\">\n",
       "<g id=\"graph0\" class=\"graph\" transform=\"scale(1 1) rotate(0) translate(4 712)\">\n",
       "<polygon fill=\"white\" stroke=\"transparent\" points=\"-4,4 -4,-712 203,-712 203,4 -4,4\"/>\n",
       "<g id=\"clust1\" class=\"cluster\">\n",
       "<title>cluster_4</title>\n",
       "<polygon fill=\"none\" stroke=\"black\" points=\"8,-79 8,-631 191,-631 191,-79 8,-79\"/>\n",
       "<text text-anchor=\"middle\" x=\"99.5\" y=\"-615.8\" font-family=\"Times,serif\" font-size=\"14.00\">&amp;, oneToMany</text>\n",
       "</g>\n",
       "<g id=\"clust2\" class=\"cluster\">\n",
       "<title>cluster_5</title>\n",
       "<polygon fill=\"none\" stroke=\"black\" points=\"78,-166 78,-523 164,-523 164,-166 78,-166\"/>\n",
       "<text text-anchor=\"middle\" x=\"121\" y=\"-507.8\" font-family=\"Times,serif\" font-size=\"14.00\">.all(), apply</text>\n",
       "</g>\n",
       "<g id=\"clust3\" class=\"cluster\">\n",
       "<title>cluster_6</title>\n",
       "<polygon fill=\"none\" stroke=\"black\" points=\"86,-253 86,-415 156,-415 156,-253 86,-253\"/>\n",
       "<text text-anchor=\"middle\" x=\"121\" y=\"-399.8\" font-family=\"Times,serif\" font-size=\"14.00\">|, serial</text>\n",
       "</g>\n",
       "<!-- TD_37 -->\n",
       "<g id=\"node1\" class=\"node\">\n",
       "<title>TD_37</title>\n",
       "<ellipse fill=\"none\" stroke=\"black\" cx=\"81\" cy=\"-690\" rx=\"36.29\" ry=\"18\"/>\n",
       "<text text-anchor=\"middle\" x=\"81\" y=\"-686.3\" font-family=\"Times,serif\" font-size=\"14.00\">&lt;start&gt;</text>\n",
       "</g>\n",
       "<!-- TD_39 -->\n",
       "<g id=\"node2\" class=\"node\">\n",
       "<title>TD_39</title>\n",
       "<ellipse fill=\"none\" stroke=\"black\" cx=\"81\" cy=\"-582\" rx=\"27\" ry=\"18\"/>\n",
       "<text text-anchor=\"middle\" x=\"81\" y=\"-578.3\" font-family=\"Times,serif\" font-size=\"14.00\">*</text>\n",
       "</g>\n",
       "<!-- TD_37&#45;&gt;TD_39 -->\n",
       "<g id=\"edge8\" class=\"edge\">\n",
       "<title>TD_37-&gt;TD_39</title>\n",
       "<path fill=\"none\" stroke=\"black\" d=\"M81,-671.97C81,-655.38 81,-629.88 81,-610.43\"/>\n",
       "<polygon fill=\"black\" stroke=\"black\" points=\"84.5,-610.34 81,-600.34 77.5,-610.34 84.5,-610.34\"/>\n",
       "<text text-anchor=\"middle\" x=\"112.5\" y=\"-642.8\" font-family=\"Times,serif\" font-size=\"14.00\"> [1, 2, 3, 4]</text>\n",
       "</g>\n",
       "<!-- TD_41 -->\n",
       "<g id=\"node3\" class=\"node\">\n",
       "<title>TD_41</title>\n",
       "<ellipse fill=\"none\" stroke=\"black\" cx=\"43\" cy=\"-474\" rx=\"27\" ry=\"18\"/>\n",
       "<text text-anchor=\"middle\" x=\"43\" y=\"-470.3\" font-family=\"Times,serif\" font-size=\"14.00\">size</text>\n",
       "</g>\n",
       "<!-- TD_39&#45;&gt;TD_41 -->\n",
       "<g id=\"edge1\" class=\"edge\">\n",
       "<title>TD_39-&gt;TD_41</title>\n",
       "<path fill=\"none\" stroke=\"black\" d=\"M59.89,-570.7C50.44,-564.87 40.26,-556.61 35,-546 28.24,-532.36 29.8,-515.48 33.26,-501.61\"/>\n",
       "<polygon fill=\"black\" stroke=\"black\" points=\"36.71,-502.26 36.16,-491.68 29.99,-500.29 36.71,-502.26\"/>\n",
       "<text text-anchor=\"middle\" x=\"66.5\" y=\"-534.8\" font-family=\"Times,serif\" font-size=\"14.00\"> [1, 2, 3, 4]</text>\n",
       "</g>\n",
       "<!-- TD_43 -->\n",
       "<g id=\"node5\" class=\"node\">\n",
       "<title>TD_43</title>\n",
       "<ellipse fill=\"none\" stroke=\"black\" cx=\"120\" cy=\"-474\" rx=\"27\" ry=\"18\"/>\n",
       "<text text-anchor=\"middle\" x=\"120\" y=\"-470.3\" font-family=\"Times,serif\" font-size=\"14.00\">*</text>\n",
       "</g>\n",
       "<!-- TD_39&#45;&gt;TD_43 -->\n",
       "<g id=\"edge3\" class=\"edge\">\n",
       "<title>TD_39-&gt;TD_43</title>\n",
       "<path fill=\"none\" stroke=\"black\" d=\"M89.48,-564.85C92.38,-559 95.52,-552.28 98,-546 103.71,-531.56 108.91,-515.01 112.82,-501.52\"/>\n",
       "<polygon fill=\"black\" stroke=\"black\" points=\"116.19,-502.46 115.55,-491.89 109.46,-500.56 116.19,-502.46\"/>\n",
       "<text text-anchor=\"middle\" x=\"133.5\" y=\"-534.8\" font-family=\"Times,serif\" font-size=\"14.00\"> [1, 2, 3, 4]</text>\n",
       "</g>\n",
       "<!-- TD_40 -->\n",
       "<g id=\"node4\" class=\"node\">\n",
       "<title>TD_40</title>\n",
       "<ellipse fill=\"none\" stroke=\"black\" cx=\"66\" cy=\"-105\" rx=\"27\" ry=\"18\"/>\n",
       "<text text-anchor=\"middle\" x=\"66\" y=\"-101.3\" font-family=\"Times,serif\" font-size=\"14.00\">*</text>\n",
       "</g>\n",
       "<!-- TD_41&#45;&gt;TD_40 -->\n",
       "<g id=\"edge2\" class=\"edge\">\n",
       "<title>TD_41-&gt;TD_40</title>\n",
       "<path fill=\"none\" stroke=\"black\" d=\"M43.79,-455.75C44.68,-434.77 46,-398.3 46,-367 46,-367 46,-367 46,-191 46,-170.91 51.36,-148.85 56.53,-132.24\"/>\n",
       "<polygon fill=\"black\" stroke=\"black\" points=\"59.88,-133.25 59.67,-122.66 53.23,-131.07 59.88,-133.25\"/>\n",
       "<text text-anchor=\"middle\" x=\"56\" y=\"-275.3\" font-family=\"Times,serif\" font-size=\"14.00\"> [4]</text>\n",
       "</g>\n",
       "<!-- TD_48 -->\n",
       "<g id=\"node9\" class=\"node\">\n",
       "<title>TD_48</title>\n",
       "<ellipse fill=\"none\" stroke=\"black\" cx=\"66\" cy=\"-18\" rx=\"34.39\" ry=\"18\"/>\n",
       "<text text-anchor=\"middle\" x=\"66\" y=\"-14.3\" font-family=\"Times,serif\" font-size=\"14.00\">&lt;end&gt;</text>\n",
       "</g>\n",
       "<!-- TD_40&#45;&gt;TD_48 -->\n",
       "<g id=\"edge9\" class=\"edge\">\n",
       "<title>TD_40-&gt;TD_48</title>\n",
       "<path fill=\"none\" stroke=\"black\" d=\"M66,-86.8C66,-75.16 66,-59.55 66,-46.24\"/>\n",
       "<polygon fill=\"black\" stroke=\"black\" points=\"69.5,-46.18 66,-36.18 62.5,-46.18 69.5,-46.18\"/>\n",
       "<text text-anchor=\"middle\" x=\"123.5\" y=\"-57.8\" font-family=\"Times,serif\" font-size=\"14.00\"> [[4], [4, 16, 36, 64]]</text>\n",
       "</g>\n",
       "<!-- TD_45 -->\n",
       "<g id=\"node7\" class=\"node\">\n",
       "<title>TD_45</title>\n",
       "<ellipse fill=\"none\" stroke=\"black\" cx=\"121\" cy=\"-366\" rx=\"27\" ry=\"18\"/>\n",
       "<text text-anchor=\"middle\" x=\"121\" y=\"-362.3\" font-family=\"Times,serif\" font-size=\"14.00\">op</text>\n",
       "</g>\n",
       "<!-- TD_43&#45;&gt;TD_45 -->\n",
       "<g id=\"edge6\" class=\"edge\">\n",
       "<title>TD_43-&gt;TD_45</title>\n",
       "<path fill=\"none\" stroke=\"black\" d=\"M120.16,-455.97C120.32,-439.38 120.56,-413.88 120.74,-394.43\"/>\n",
       "<polygon fill=\"black\" stroke=\"black\" points=\"124.24,-394.37 120.84,-384.34 117.24,-394.31 124.24,-394.37\"/>\n",
       "<text text-anchor=\"middle\" x=\"125.5\" y=\"-426.8\" font-family=\"Times,serif\" font-size=\"14.00\"> 1</text>\n",
       "</g>\n",
       "<!-- TD_47 -->\n",
       "<g id=\"node6\" class=\"node\">\n",
       "<title>TD_47</title>\n",
       "<ellipse fill=\"none\" stroke=\"black\" cx=\"117\" cy=\"-192\" rx=\"27\" ry=\"18\"/>\n",
       "<text text-anchor=\"middle\" x=\"117\" y=\"-188.3\" font-family=\"Times,serif\" font-size=\"14.00\">*</text>\n",
       "</g>\n",
       "<!-- TD_47&#45;&gt;TD_40 -->\n",
       "<g id=\"edge4\" class=\"edge\">\n",
       "<title>TD_47-&gt;TD_40</title>\n",
       "<path fill=\"none\" stroke=\"black\" d=\"M107.41,-175.01C99.93,-162.55 89.41,-145.01 80.84,-130.74\"/>\n",
       "<polygon fill=\"black\" stroke=\"black\" points=\"83.7,-128.69 75.55,-121.92 77.69,-132.29 83.7,-128.69\"/>\n",
       "<text text-anchor=\"middle\" x=\"135.5\" y=\"-144.8\" font-family=\"Times,serif\" font-size=\"14.00\"> [4, 16, 36, 64]</text>\n",
       "</g>\n",
       "<!-- TD_46 -->\n",
       "<g id=\"node8\" class=\"node\">\n",
       "<title>TD_46</title>\n",
       "<ellipse fill=\"none\" stroke=\"black\" cx=\"121\" cy=\"-279\" rx=\"27\" ry=\"18\"/>\n",
       "<text text-anchor=\"middle\" x=\"121\" y=\"-275.3\" font-family=\"Times,serif\" font-size=\"14.00\">op</text>\n",
       "</g>\n",
       "<!-- TD_45&#45;&gt;TD_46 -->\n",
       "<g id=\"edge5\" class=\"edge\">\n",
       "<title>TD_45-&gt;TD_46</title>\n",
       "<path fill=\"none\" stroke=\"black\" d=\"M121,-347.8C121,-336.16 121,-320.55 121,-307.24\"/>\n",
       "<polygon fill=\"black\" stroke=\"black\" points=\"124.5,-307.18 121,-297.18 117.5,-307.18 124.5,-307.18\"/>\n",
       "<text text-anchor=\"middle\" x=\"126.5\" y=\"-318.8\" font-family=\"Times,serif\" font-size=\"14.00\"> 2</text>\n",
       "</g>\n",
       "<!-- TD_46&#45;&gt;TD_47 -->\n",
       "<g id=\"edge7\" class=\"edge\">\n",
       "<title>TD_46-&gt;TD_47</title>\n",
       "<path fill=\"none\" stroke=\"black\" d=\"M120.19,-260.8C119.64,-249.16 118.91,-233.55 118.28,-220.24\"/>\n",
       "<polygon fill=\"black\" stroke=\"black\" points=\"121.77,-220 117.81,-210.18 114.78,-220.33 121.77,-220\"/>\n",
       "<text text-anchor=\"middle\" x=\"124.5\" y=\"-231.8\" font-family=\"Times,serif\" font-size=\"14.00\"> 4</text>\n",
       "</g>\n",
       "</g>\n",
       "</svg>"
      ],
      "text/plain": [
       "<IPython.core.display.SVG object>"
      ]
     },
     "metadata": {},
     "output_type": "display_data"
    },
    {
     "data": {
      "text/plain": [
       "<trace object>"
      ]
     },
     "execution_count": 12,
     "metadata": {},
     "output_type": "execute_result"
    }
   ],
   "source": [
    "range(1,5) | trace(iden()) | (shape() & (op()*2 | op()**2).all())"
   ]
  },
  {
   "cell_type": "code",
   "execution_count": 13,
   "id": "b731a0cb",
   "metadata": {},
   "outputs": [
    {
     "data": {
      "image/svg+xml": [
       "<svg xmlns=\"http://www.w3.org/2000/svg\" xmlns:xlink=\"http://www.w3.org/1999/xlink\" width=\"249pt\" height=\"308pt\" viewBox=\"0.00 0.00 356.00 440.00\">\n",
       "<g id=\"graph0\" class=\"graph\" transform=\"scale(1 1) rotate(0) translate(4 436)\">\n",
       "<polygon fill=\"white\" stroke=\"transparent\" points=\"-4,4 -4,-436 352,-436 352,4 -4,4\"/>\n",
       "<g id=\"clust1\" class=\"cluster\">\n",
       "<title>cluster_7</title>\n",
       "<polygon fill=\"none\" stroke=\"black\" points=\"8,-77 8,-355 340,-355 340,-77 8,-77\"/>\n",
       "<text text-anchor=\"middle\" x=\"174\" y=\"-339.8\" font-family=\"Times,serif\" font-size=\"14.00\">+, mtmS</text>\n",
       "</g>\n",
       "<g id=\"clust2\" class=\"cluster\">\n",
       "<title>cluster_8</title>\n",
       "<polygon fill=\"none\" stroke=\"black\" points=\"16,-85 16,-247 139,-247 139,-85 16,-85\"/>\n",
       "<text text-anchor=\"middle\" x=\"77.5\" y=\"-231.8\" font-family=\"Times,serif\" font-size=\"14.00\">filt (column: None)</text>\n",
       "</g>\n",
       "<g id=\"clust3\" class=\"cluster\">\n",
       "<title>cluster_9</title>\n",
       "<polygon fill=\"none\" stroke=\"black\" points=\"209,-85 209,-247 332,-247 332,-85 209,-85\"/>\n",
       "<text text-anchor=\"middle\" x=\"270.5\" y=\"-231.8\" font-family=\"Times,serif\" font-size=\"14.00\">filt (column: None)</text>\n",
       "</g>\n",
       "<!-- TD_49 -->\n",
       "<g id=\"node1\" class=\"node\">\n",
       "<title>TD_49</title>\n",
       "<ellipse fill=\"none\" stroke=\"black\" cx=\"150\" cy=\"-414\" rx=\"36.29\" ry=\"18\"/>\n",
       "<text text-anchor=\"middle\" x=\"150\" y=\"-410.3\" font-family=\"Times,serif\" font-size=\"14.00\">&lt;start&gt;</text>\n",
       "</g>\n",
       "<!-- TD_51 -->\n",
       "<g id=\"node2\" class=\"node\">\n",
       "<title>TD_51</title>\n",
       "<ellipse fill=\"none\" stroke=\"black\" cx=\"150\" cy=\"-306\" rx=\"27\" ry=\"18\"/>\n",
       "<text text-anchor=\"middle\" x=\"150\" y=\"-302.3\" font-family=\"Times,serif\" font-size=\"14.00\">*</text>\n",
       "</g>\n",
       "<!-- TD_49&#45;&gt;TD_51 -->\n",
       "<g id=\"edge9\" class=\"edge\">\n",
       "<title>TD_49-&gt;TD_51</title>\n",
       "<path fill=\"none\" stroke=\"black\" d=\"M150,-395.97C150,-379.38 150,-353.88 150,-334.43\"/>\n",
       "<polygon fill=\"black\" stroke=\"black\" points=\"153.5,-334.34 150,-324.34 146.5,-334.34 153.5,-334.34\"/>\n",
       "<text text-anchor=\"middle\" x=\"219\" y=\"-366.8\" font-family=\"Times,serif\" font-size=\"14.00\"> [[1, 2, 3, 4], [3, 4, 5, 6]]</text>\n",
       "</g>\n",
       "<!-- TD_53 -->\n",
       "<g id=\"node3\" class=\"node\">\n",
       "<title>TD_53</title>\n",
       "<ellipse fill=\"none\" stroke=\"black\" cx=\"86\" cy=\"-198\" rx=\"27\" ry=\"18\"/>\n",
       "<text text-anchor=\"middle\" x=\"86\" y=\"-194.3\" font-family=\"Times,serif\" font-size=\"14.00\">filt</text>\n",
       "</g>\n",
       "<!-- TD_51&#45;&gt;TD_53 -->\n",
       "<g id=\"edge1\" class=\"edge\">\n",
       "<title>TD_51-&gt;TD_53</title>\n",
       "<path fill=\"none\" stroke=\"black\" d=\"M140.28,-288.9C129.79,-271.52 112.95,-243.64 100.81,-223.53\"/>\n",
       "<polygon fill=\"black\" stroke=\"black\" points=\"103.77,-221.65 95.6,-214.9 97.77,-225.27 103.77,-221.65\"/>\n",
       "<text text-anchor=\"middle\" x=\"159.5\" y=\"-258.8\" font-family=\"Times,serif\" font-size=\"14.00\"> [1, 2, 3, 4]</text>\n",
       "</g>\n",
       "<!-- TD_55 -->\n",
       "<g id=\"node5\" class=\"node\">\n",
       "<title>TD_55</title>\n",
       "<ellipse fill=\"none\" stroke=\"black\" cx=\"245\" cy=\"-198\" rx=\"27\" ry=\"18\"/>\n",
       "<text text-anchor=\"middle\" x=\"245\" y=\"-194.3\" font-family=\"Times,serif\" font-size=\"14.00\">filt</text>\n",
       "</g>\n",
       "<!-- TD_51&#45;&gt;TD_55 -->\n",
       "<g id=\"edge3\" class=\"edge\">\n",
       "<title>TD_51-&gt;TD_55</title>\n",
       "<path fill=\"none\" stroke=\"black\" d=\"M168.55,-292.5C177.09,-286.27 187.08,-278.31 195,-270 208.4,-255.95 220.97,-238.07 230.16,-223.76\"/>\n",
       "<polygon fill=\"black\" stroke=\"black\" points=\"233.33,-225.29 235.68,-214.96 227.4,-221.57 233.33,-225.29\"/>\n",
       "<text text-anchor=\"middle\" x=\"238.5\" y=\"-258.8\" font-family=\"Times,serif\" font-size=\"14.00\"> [3, 4, 5, 6]</text>\n",
       "</g>\n",
       "<!-- TD_52 -->\n",
       "<g id=\"node4\" class=\"node\">\n",
       "<title>TD_52</title>\n",
       "<ellipse fill=\"none\" stroke=\"black\" cx=\"174\" cy=\"-111\" rx=\"27\" ry=\"18\"/>\n",
       "<text text-anchor=\"middle\" x=\"174\" y=\"-107.3\" font-family=\"Times,serif\" font-size=\"14.00\">*</text>\n",
       "</g>\n",
       "<!-- TD_53&#45;&gt;TD_52 -->\n",
       "<g id=\"edge2\" class=\"edge\">\n",
       "<title>TD_53-&gt;TD_52</title>\n",
       "<path fill=\"none\" stroke=\"black\" d=\"M100.93,-182.58C114.92,-169.07 136.01,-148.7 151.94,-133.31\"/>\n",
       "<polygon fill=\"black\" stroke=\"black\" points=\"154.53,-135.67 159.29,-126.21 149.67,-130.64 154.53,-135.67\"/>\n",
       "<text text-anchor=\"middle\" x=\"153\" y=\"-150.8\" font-family=\"Times,serif\" font-size=\"14.00\"> [2, 4]</text>\n",
       "</g>\n",
       "<!-- TD_54 -->\n",
       "<g id=\"node6\" class=\"node\">\n",
       "<title>TD_54</title>\n",
       "<ellipse fill=\"none\" stroke=\"black\" cx=\"63\" cy=\"-111\" rx=\"27\" ry=\"18\"/>\n",
       "<text text-anchor=\"middle\" x=\"63\" y=\"-107.3\" font-family=\"Times,serif\" font-size=\"14.00\">op</text>\n",
       "</g>\n",
       "<!-- TD_53&#45;&gt;TD_54 -->\n",
       "<g id=\"edge5\" class=\"edge\">\n",
       "<title>TD_53-&gt;TD_54</title>\n",
       "<path fill=\"none\" stroke=\"black\" d=\"M65.34,-185.79C56.75,-179.93 47.71,-171.91 43,-162 39.03,-153.66 41.11,-144.3 45.15,-135.97\"/>\n",
       "<polygon fill=\"black\" stroke=\"black\" points=\"48.32,-137.49 50.34,-127.09 42.27,-133.96 48.32,-137.49\"/>\n",
       "<text text-anchor=\"middle\" x=\"48.5\" y=\"-150.8\" font-family=\"Times,serif\" font-size=\"14.00\"> 1</text>\n",
       "</g>\n",
       "<!-- TD_57 -->\n",
       "<g id=\"node8\" class=\"node\">\n",
       "<title>TD_57</title>\n",
       "<ellipse fill=\"none\" stroke=\"black\" cx=\"174\" cy=\"-18\" rx=\"34.39\" ry=\"18\"/>\n",
       "<text text-anchor=\"middle\" x=\"174\" y=\"-14.3\" font-family=\"Times,serif\" font-size=\"14.00\">&lt;end&gt;</text>\n",
       "</g>\n",
       "<!-- TD_52&#45;&gt;TD_57 -->\n",
       "<g id=\"edge10\" class=\"edge\">\n",
       "<title>TD_52-&gt;TD_57</title>\n",
       "<path fill=\"none\" stroke=\"black\" d=\"M174,-92.88C174,-79.79 174,-61.48 174,-46.36\"/>\n",
       "<polygon fill=\"black\" stroke=\"black\" points=\"177.5,-46.04 174,-36.04 170.5,-46.04 177.5,-46.04\"/>\n",
       "<text text-anchor=\"middle\" x=\"214.5\" y=\"-57.8\" font-family=\"Times,serif\" font-size=\"14.00\"> [[2, 4], [3, 5]]</text>\n",
       "</g>\n",
       "<!-- TD_55&#45;&gt;TD_52 -->\n",
       "<g id=\"edge4\" class=\"edge\">\n",
       "<title>TD_55-&gt;TD_52</title>\n",
       "<path fill=\"none\" stroke=\"black\" d=\"M228.13,-183.61C220.89,-177.43 212.6,-169.76 206,-162 199.43,-154.27 193.19,-145.1 187.98,-136.73\"/>\n",
       "<polygon fill=\"black\" stroke=\"black\" points=\"190.93,-134.84 182.78,-128.07 184.93,-138.45 190.93,-134.84\"/>\n",
       "<text text-anchor=\"middle\" x=\"223\" y=\"-150.8\" font-family=\"Times,serif\" font-size=\"14.00\"> [3, 5]</text>\n",
       "</g>\n",
       "<!-- TD_56 -->\n",
       "<g id=\"node7\" class=\"node\">\n",
       "<title>TD_56</title>\n",
       "<ellipse fill=\"none\" stroke=\"black\" cx=\"263\" cy=\"-111\" rx=\"27\" ry=\"18\"/>\n",
       "<text text-anchor=\"middle\" x=\"263\" y=\"-107.3\" font-family=\"Times,serif\" font-size=\"14.00\">op</text>\n",
       "</g>\n",
       "<!-- TD_55&#45;&gt;TD_56 -->\n",
       "<g id=\"edge7\" class=\"edge\">\n",
       "<title>TD_55-&gt;TD_56</title>\n",
       "<path fill=\"none\" stroke=\"black\" d=\"M244.06,-179.65C243.93,-169.93 244.46,-157.65 247,-147 247.74,-143.92 248.75,-140.77 249.91,-137.7\"/>\n",
       "<polygon fill=\"black\" stroke=\"black\" points=\"253.23,-138.83 253.98,-128.26 246.81,-136.06 253.23,-138.83\"/>\n",
       "<text text-anchor=\"middle\" x=\"252.5\" y=\"-150.8\" font-family=\"Times,serif\" font-size=\"14.00\"> 3</text>\n",
       "</g>\n",
       "<!-- TD_54&#45;&gt;TD_53 -->\n",
       "<g id=\"edge6\" class=\"edge\">\n",
       "<title>TD_54-&gt;TD_53</title>\n",
       "<path fill=\"none\" stroke=\"black\" d=\"M67.35,-129.15C69.83,-138.81 73.03,-151.1 76,-162 76.76,-164.8 77.58,-167.72 78.39,-170.63\"/>\n",
       "<polygon fill=\"black\" stroke=\"black\" points=\"75.04,-171.63 81.14,-180.29 81.77,-169.71 75.04,-171.63\"/>\n",
       "<text text-anchor=\"middle\" x=\"92.5\" y=\"-150.8\" font-family=\"Times,serif\" font-size=\"14.00\"> False</text>\n",
       "</g>\n",
       "<!-- TD_56&#45;&gt;TD_55 -->\n",
       "<g id=\"edge8\" class=\"edge\">\n",
       "<title>TD_56-&gt;TD_55</title>\n",
       "<path fill=\"none\" stroke=\"black\" d=\"M262.36,-129.3C261.73,-139.01 260.48,-151.29 258,-162 257.33,-164.9 256.48,-167.89 255.54,-170.84\"/>\n",
       "<polygon fill=\"black\" stroke=\"black\" points=\"252.14,-169.94 252.1,-180.53 258.74,-172.27 252.14,-169.94\"/>\n",
       "<text text-anchor=\"middle\" x=\"274.5\" y=\"-150.8\" font-family=\"Times,serif\" font-size=\"14.00\"> True</text>\n",
       "</g>\n",
       "</g>\n",
       "</svg>"
      ],
      "text/plain": [
       "<IPython.core.display.SVG object>"
      ]
     },
     "metadata": {},
     "output_type": "display_data"
    },
    {
     "data": {
      "text/plain": [
       "<trace object>"
      ]
     },
     "execution_count": 13,
     "metadata": {},
     "output_type": "execute_result"
    }
   ],
   "source": [
    "[range(1, 5), range(3, 7)] | trace(iden()) | (filt(op() % 2 == 0) + filt(op() % 2 == 1))"
   ]
  },
  {
   "cell_type": "code",
   "execution_count": 14,
   "id": "9fce41f0",
   "metadata": {},
   "outputs": [
    {
     "data": {
      "image/svg+xml": [
       "<svg xmlns=\"http://www.w3.org/2000/svg\" xmlns:xlink=\"http://www.w3.org/1999/xlink\" width=\"225pt\" height=\"623pt\" viewBox=\"0.00 0.00 322.00 890.00\">\n",
       "<g id=\"graph0\" class=\"graph\" transform=\"scale(1 1) rotate(0) translate(4 886)\">\n",
       "<polygon fill=\"white\" stroke=\"transparent\" points=\"-4,4 -4,-886 318,-886 318,4 -4,4\"/>\n",
       "<g id=\"clust1\" class=\"cluster\">\n",
       "<title>cluster_10</title>\n",
       "<polygon fill=\"none\" stroke=\"black\" points=\"8,-166 8,-805 209,-805 209,-166 8,-166\"/>\n",
       "<text text-anchor=\"middle\" x=\"108.5\" y=\"-789.8\" font-family=\"Times,serif\" font-size=\"14.00\">.all(), apply</text>\n",
       "</g>\n",
       "<g id=\"clust2\" class=\"cluster\">\n",
       "<title>cluster_11</title>\n",
       "<polygon fill=\"none\" stroke=\"black\" points=\"16,-253 16,-697 201,-697 201,-253 16,-253\"/>\n",
       "<text text-anchor=\"middle\" x=\"108.5\" y=\"-681.8\" font-family=\"Times,serif\" font-size=\"14.00\">&amp;, oneToMany</text>\n",
       "</g>\n",
       "<g id=\"clust3\" class=\"cluster\">\n",
       "<title>cluster_12</title>\n",
       "<polygon fill=\"none\" stroke=\"black\" points=\"113,-340 113,-589 193,-589 193,-340 113,-340\"/>\n",
       "<text text-anchor=\"middle\" x=\"153\" y=\"-573.8\" font-family=\"Times,serif\" font-size=\"14.00\">.all(), apply</text>\n",
       "</g>\n",
       "<!-- TD_58 -->\n",
       "<g id=\"node1\" class=\"node\">\n",
       "<title>TD_58</title>\n",
       "<ellipse fill=\"none\" stroke=\"black\" cx=\"58\" cy=\"-864\" rx=\"36.29\" ry=\"18\"/>\n",
       "<text text-anchor=\"middle\" x=\"58\" y=\"-860.3\" font-family=\"Times,serif\" font-size=\"14.00\">&lt;start&gt;</text>\n",
       "</g>\n",
       "<!-- TD_60 -->\n",
       "<g id=\"node2\" class=\"node\">\n",
       "<title>TD_60</title>\n",
       "<ellipse fill=\"none\" stroke=\"black\" cx=\"58\" cy=\"-756\" rx=\"27\" ry=\"18\"/>\n",
       "<text text-anchor=\"middle\" x=\"58\" y=\"-752.3\" font-family=\"Times,serif\" font-size=\"14.00\">*</text>\n",
       "</g>\n",
       "<!-- TD_58&#45;&gt;TD_60 -->\n",
       "<g id=\"edge9\" class=\"edge\">\n",
       "<title>TD_58-&gt;TD_60</title>\n",
       "<path fill=\"none\" stroke=\"black\" d=\"M58,-845.97C58,-829.38 58,-803.88 58,-784.43\"/>\n",
       "<polygon fill=\"black\" stroke=\"black\" points=\"61.5,-784.34 58,-774.34 54.5,-784.34 61.5,-784.34\"/>\n",
       "<text text-anchor=\"middle\" x=\"127\" y=\"-816.8\" font-family=\"Times,serif\" font-size=\"14.00\"> [[1, 2, 3, 4], [3, 4, 5, 6]]</text>\n",
       "</g>\n",
       "<!-- TD_62 -->\n",
       "<g id=\"node3\" class=\"node\">\n",
       "<title>TD_62</title>\n",
       "<ellipse fill=\"none\" stroke=\"black\" cx=\"58\" cy=\"-648\" rx=\"27\" ry=\"18\"/>\n",
       "<text text-anchor=\"middle\" x=\"58\" y=\"-644.3\" font-family=\"Times,serif\" font-size=\"14.00\">*</text>\n",
       "</g>\n",
       "<!-- TD_60&#45;&gt;TD_62 -->\n",
       "<g id=\"edge7\" class=\"edge\">\n",
       "<title>TD_60-&gt;TD_62</title>\n",
       "<path fill=\"none\" stroke=\"black\" d=\"M58,-737.97C58,-721.38 58,-695.88 58,-676.43\"/>\n",
       "<polygon fill=\"black\" stroke=\"black\" points=\"61.5,-676.34 58,-666.34 54.5,-676.34 61.5,-676.34\"/>\n",
       "<text text-anchor=\"middle\" x=\"89.5\" y=\"-708.8\" font-family=\"Times,serif\" font-size=\"14.00\"> [1, 2, 3, 4]</text>\n",
       "</g>\n",
       "<!-- TD_64 -->\n",
       "<g id=\"node4\" class=\"node\">\n",
       "<title>TD_64</title>\n",
       "<ellipse fill=\"none\" stroke=\"black\" cx=\"63\" cy=\"-366\" rx=\"27\" ry=\"18\"/>\n",
       "<text text-anchor=\"middle\" x=\"63\" y=\"-362.3\" font-family=\"Times,serif\" font-size=\"14.00\">size</text>\n",
       "</g>\n",
       "<!-- TD_62&#45;&gt;TD_64 -->\n",
       "<g id=\"edge1\" class=\"edge\">\n",
       "<title>TD_62-&gt;TD_64</title>\n",
       "<path fill=\"none\" stroke=\"black\" d=\"M55.08,-629.94C50.48,-600.97 42.44,-540.32 46,-489 48.28,-456.11 53.98,-418.58 58.15,-393.93\"/>\n",
       "<polygon fill=\"black\" stroke=\"black\" points=\"61.63,-394.35 59.89,-383.9 54.74,-393.15 61.63,-394.35\"/>\n",
       "<text text-anchor=\"middle\" x=\"77.5\" y=\"-492.8\" font-family=\"Times,serif\" font-size=\"14.00\"> [1, 2, 3, 4]</text>\n",
       "</g>\n",
       "<!-- TD_66 -->\n",
       "<g id=\"node6\" class=\"node\">\n",
       "<title>TD_66</title>\n",
       "<ellipse fill=\"none\" stroke=\"black\" cx=\"148\" cy=\"-540\" rx=\"27\" ry=\"18\"/>\n",
       "<text text-anchor=\"middle\" x=\"148\" y=\"-536.3\" font-family=\"Times,serif\" font-size=\"14.00\">*</text>\n",
       "</g>\n",
       "<!-- TD_62&#45;&gt;TD_66 -->\n",
       "<g id=\"edge3\" class=\"edge\">\n",
       "<title>TD_62-&gt;TD_66</title>\n",
       "<path fill=\"none\" stroke=\"black\" d=\"M73.73,-633.31C86.19,-622.06 103.66,-605.37 117,-589 122.85,-581.81 128.57,-573.48 133.46,-565.79\"/>\n",
       "<polygon fill=\"black\" stroke=\"black\" points=\"136.5,-567.52 138.78,-557.17 130.55,-563.84 136.5,-567.52\"/>\n",
       "<text text-anchor=\"middle\" x=\"140.5\" y=\"-600.8\" font-family=\"Times,serif\" font-size=\"14.00\"> [1, 2, 3, 4]</text>\n",
       "</g>\n",
       "<!-- TD_63 -->\n",
       "<g id=\"node5\" class=\"node\">\n",
       "<title>TD_63</title>\n",
       "<ellipse fill=\"none\" stroke=\"black\" cx=\"85\" cy=\"-279\" rx=\"27\" ry=\"18\"/>\n",
       "<text text-anchor=\"middle\" x=\"85\" y=\"-275.3\" font-family=\"Times,serif\" font-size=\"14.00\">*</text>\n",
       "</g>\n",
       "<!-- TD_64&#45;&gt;TD_63 -->\n",
       "<g id=\"edge2\" class=\"edge\">\n",
       "<title>TD_64-&gt;TD_63</title>\n",
       "<path fill=\"none\" stroke=\"black\" d=\"M67.35,-348.21C70.4,-336.41 74.55,-320.38 78.06,-306.82\"/>\n",
       "<polygon fill=\"black\" stroke=\"black\" points=\"81.47,-307.61 80.59,-297.05 74.69,-305.85 81.47,-307.61\"/>\n",
       "<text text-anchor=\"middle\" x=\"85\" y=\"-318.8\" font-family=\"Times,serif\" font-size=\"14.00\"> [4]</text>\n",
       "</g>\n",
       "<!-- TD_69 -->\n",
       "<g id=\"node9\" class=\"node\">\n",
       "<title>TD_69</title>\n",
       "<ellipse fill=\"none\" stroke=\"black\" cx=\"85\" cy=\"-192\" rx=\"27\" ry=\"18\"/>\n",
       "<text text-anchor=\"middle\" x=\"85\" y=\"-188.3\" font-family=\"Times,serif\" font-size=\"14.00\">*</text>\n",
       "</g>\n",
       "<!-- TD_63&#45;&gt;TD_69 -->\n",
       "<g id=\"edge8\" class=\"edge\">\n",
       "<title>TD_63-&gt;TD_69</title>\n",
       "<path fill=\"none\" stroke=\"black\" d=\"M85,-260.8C85,-249.16 85,-233.55 85,-220.24\"/>\n",
       "<polygon fill=\"black\" stroke=\"black\" points=\"88.5,-220.18 85,-210.18 81.5,-220.18 88.5,-220.18\"/>\n",
       "<text text-anchor=\"middle\" x=\"136\" y=\"-231.8\" font-family=\"Times,serif\" font-size=\"14.00\"> [[4], [1, 4, 9, 16]]</text>\n",
       "</g>\n",
       "<!-- TD_67 -->\n",
       "<g id=\"node8\" class=\"node\">\n",
       "<title>TD_67</title>\n",
       "<ellipse fill=\"none\" stroke=\"black\" cx=\"148\" cy=\"-453\" rx=\"27\" ry=\"18\"/>\n",
       "<text text-anchor=\"middle\" x=\"148\" y=\"-449.3\" font-family=\"Times,serif\" font-size=\"14.00\">op</text>\n",
       "</g>\n",
       "<!-- TD_66&#45;&gt;TD_67 -->\n",
       "<g id=\"edge5\" class=\"edge\">\n",
       "<title>TD_66-&gt;TD_67</title>\n",
       "<path fill=\"none\" stroke=\"black\" d=\"M148,-521.8C148,-510.16 148,-494.55 148,-481.24\"/>\n",
       "<polygon fill=\"black\" stroke=\"black\" points=\"151.5,-481.18 148,-471.18 144.5,-481.18 151.5,-481.18\"/>\n",
       "<text text-anchor=\"middle\" x=\"153.5\" y=\"-492.8\" font-family=\"Times,serif\" font-size=\"14.00\"> 1</text>\n",
       "</g>\n",
       "<!-- TD_68 -->\n",
       "<g id=\"node7\" class=\"node\">\n",
       "<title>TD_68</title>\n",
       "<ellipse fill=\"none\" stroke=\"black\" cx=\"148\" cy=\"-366\" rx=\"27\" ry=\"18\"/>\n",
       "<text text-anchor=\"middle\" x=\"148\" y=\"-362.3\" font-family=\"Times,serif\" font-size=\"14.00\">*</text>\n",
       "</g>\n",
       "<!-- TD_68&#45;&gt;TD_63 -->\n",
       "<g id=\"edge4\" class=\"edge\">\n",
       "<title>TD_68-&gt;TD_63</title>\n",
       "<path fill=\"none\" stroke=\"black\" d=\"M136.44,-349.41C126.94,-336.59 113.33,-318.22 102.49,-303.6\"/>\n",
       "<polygon fill=\"black\" stroke=\"black\" points=\"105.25,-301.44 96.48,-295.49 99.62,-305.61 105.25,-301.44\"/>\n",
       "<text text-anchor=\"middle\" x=\"155\" y=\"-318.8\" font-family=\"Times,serif\" font-size=\"14.00\"> [1, 4, 9, 16]</text>\n",
       "</g>\n",
       "<!-- TD_67&#45;&gt;TD_68 -->\n",
       "<g id=\"edge6\" class=\"edge\">\n",
       "<title>TD_67-&gt;TD_68</title>\n",
       "<path fill=\"none\" stroke=\"black\" d=\"M148,-434.8C148,-423.16 148,-407.55 148,-394.24\"/>\n",
       "<polygon fill=\"black\" stroke=\"black\" points=\"151.5,-394.18 148,-384.18 144.5,-394.18 151.5,-394.18\"/>\n",
       "<text text-anchor=\"middle\" x=\"153.5\" y=\"-405.8\" font-family=\"Times,serif\" font-size=\"14.00\"> 1</text>\n",
       "</g>\n",
       "<!-- TD_70 -->\n",
       "<g id=\"node10\" class=\"node\">\n",
       "<title>TD_70</title>\n",
       "<ellipse fill=\"none\" stroke=\"black\" cx=\"85\" cy=\"-105\" rx=\"28.7\" ry=\"18\"/>\n",
       "<text text-anchor=\"middle\" x=\"85\" y=\"-101.3\" font-family=\"Times,serif\" font-size=\"14.00\">deref</text>\n",
       "</g>\n",
       "<!-- TD_69&#45;&gt;TD_70 -->\n",
       "<g id=\"edge10\" class=\"edge\">\n",
       "<title>TD_69-&gt;TD_70</title>\n",
       "<path fill=\"none\" stroke=\"black\" d=\"M85,-173.8C85,-162.16 85,-146.55 85,-133.24\"/>\n",
       "<polygon fill=\"black\" stroke=\"black\" points=\"88.5,-133.18 85,-123.18 81.5,-133.18 88.5,-133.18\"/>\n",
       "<text text-anchor=\"middle\" x=\"199.5\" y=\"-144.8\" font-family=\"Times,serif\" font-size=\"14.00\"> [[[4], [1, 4, 9, 16]], [[4], [9, 16, 25, 36]]]</text>\n",
       "</g>\n",
       "<!-- TD_71 -->\n",
       "<g id=\"node11\" class=\"node\">\n",
       "<title>TD_71</title>\n",
       "<ellipse fill=\"none\" stroke=\"black\" cx=\"85\" cy=\"-18\" rx=\"34.39\" ry=\"18\"/>\n",
       "<text text-anchor=\"middle\" x=\"85\" y=\"-14.3\" font-family=\"Times,serif\" font-size=\"14.00\">&lt;end&gt;</text>\n",
       "</g>\n",
       "<!-- TD_70&#45;&gt;TD_71 -->\n",
       "<g id=\"edge11\" class=\"edge\">\n",
       "<title>TD_70-&gt;TD_71</title>\n",
       "<path fill=\"none\" stroke=\"black\" d=\"M85,-86.8C85,-75.16 85,-59.55 85,-46.24\"/>\n",
       "<polygon fill=\"black\" stroke=\"black\" points=\"88.5,-46.18 85,-36.18 81.5,-46.18 88.5,-46.18\"/>\n",
       "<text text-anchor=\"middle\" x=\"199.5\" y=\"-57.8\" font-family=\"Times,serif\" font-size=\"14.00\"> [[[4], [1, 4, 9, 16]], [[4], [9, 16, 25, 36]]]</text>\n",
       "</g>\n",
       "</g>\n",
       "</svg>"
      ],
      "text/plain": [
       "<IPython.core.display.SVG object>"
      ]
     },
     "metadata": {},
     "output_type": "display_data"
    },
    {
     "data": {
      "text/plain": [
       "<trace object>"
      ]
     },
     "execution_count": 14,
     "metadata": {},
     "output_type": "execute_result"
    }
   ],
   "source": [
    "[range(1, 5), range(3, 7)] | trace(iden()) | ((shape() & (op()**2).all())).all() | deref()"
   ]
  },
  {
   "cell_type": "code",
   "execution_count": 15,
   "id": "503fd197",
   "metadata": {},
   "outputs": [
    {
     "data": {
      "image/svg+xml": [
       "<svg xmlns=\"http://www.w3.org/2000/svg\" xmlns:xlink=\"http://www.w3.org/1999/xlink\" width=\"98pt\" height=\"669pt\" viewBox=\"0.00 0.00 140.00 956.00\">\n",
       "<g id=\"graph0\" class=\"graph\" transform=\"scale(1 1) rotate(0) translate(4 952)\">\n",
       "<polygon fill=\"white\" stroke=\"transparent\" points=\"-4,4 -4,-952 136,-952 136,4 -4,4\"/>\n",
       "<g id=\"clust1\" class=\"cluster\">\n",
       "<title>cluster_13</title>\n",
       "<polygon fill=\"none\" stroke=\"black\" points=\"8,-340 8,-784 124,-784 124,-340 8,-340\"/>\n",
       "<text text-anchor=\"middle\" x=\"66\" y=\"-768.8\" font-family=\"Times,serif\" font-size=\"14.00\">.all(), apply</text>\n",
       "</g>\n",
       "<g id=\"clust2\" class=\"cluster\">\n",
       "<title>cluster_14</title>\n",
       "<polygon fill=\"none\" stroke=\"black\" points=\"16,-427 16,-676 116,-676 116,-427 16,-427\"/>\n",
       "<text text-anchor=\"middle\" x=\"66\" y=\"-660.8\" font-family=\"Times,serif\" font-size=\"14.00\">.all(), apply</text>\n",
       "</g>\n",
       "<!-- TD_72 -->\n",
       "<g id=\"node1\" class=\"node\">\n",
       "<title>TD_72</title>\n",
       "<ellipse fill=\"none\" stroke=\"black\" cx=\"66\" cy=\"-930\" rx=\"36.29\" ry=\"18\"/>\n",
       "<text text-anchor=\"middle\" x=\"66\" y=\"-926.3\" font-family=\"Times,serif\" font-size=\"14.00\">&lt;start&gt;</text>\n",
       "</g>\n",
       "<!-- TD_73 -->\n",
       "<g id=\"node2\" class=\"node\">\n",
       "<title>TD_73</title>\n",
       "<ellipse fill=\"none\" stroke=\"black\" cx=\"66\" cy=\"-843\" rx=\"44.39\" ry=\"18\"/>\n",
       "<text text-anchor=\"middle\" x=\"66\" y=\"-839.3\" font-family=\"Times,serif\" font-size=\"14.00\">transpose</text>\n",
       "</g>\n",
       "<!-- TD_72&#45;&gt;TD_73 -->\n",
       "<g id=\"edge1\" class=\"edge\">\n",
       "<title>TD_72-&gt;TD_73</title>\n",
       "<path fill=\"none\" stroke=\"black\" d=\"M66,-911.8C66,-900.16 66,-884.55 66,-871.24\"/>\n",
       "<polygon fill=\"black\" stroke=\"black\" points=\"69.5,-871.18 66,-861.18 62.5,-871.18 69.5,-871.18\"/>\n",
       "<text text-anchor=\"middle\" x=\"90.5\" y=\"-882.8\" font-family=\"Times,serif\" font-size=\"14.00\"> (2, 3, 4)</text>\n",
       "</g>\n",
       "<!-- TD_75 -->\n",
       "<g id=\"node3\" class=\"node\">\n",
       "<title>TD_75</title>\n",
       "<ellipse fill=\"none\" stroke=\"black\" cx=\"66\" cy=\"-735\" rx=\"27\" ry=\"18\"/>\n",
       "<text text-anchor=\"middle\" x=\"66\" y=\"-731.3\" font-family=\"Times,serif\" font-size=\"14.00\">*</text>\n",
       "</g>\n",
       "<!-- TD_73&#45;&gt;TD_75 -->\n",
       "<g id=\"edge6\" class=\"edge\">\n",
       "<title>TD_73-&gt;TD_75</title>\n",
       "<path fill=\"none\" stroke=\"black\" d=\"M66,-824.97C66,-808.38 66,-782.88 66,-763.43\"/>\n",
       "<polygon fill=\"black\" stroke=\"black\" points=\"69.5,-763.34 66,-753.34 62.5,-763.34 69.5,-763.34\"/>\n",
       "<text text-anchor=\"middle\" x=\"90.5\" y=\"-795.8\" font-family=\"Times,serif\" font-size=\"14.00\"> (3, 2, 4)</text>\n",
       "</g>\n",
       "<!-- TD_77 -->\n",
       "<g id=\"node4\" class=\"node\">\n",
       "<title>TD_77</title>\n",
       "<ellipse fill=\"none\" stroke=\"black\" cx=\"66\" cy=\"-627\" rx=\"27\" ry=\"18\"/>\n",
       "<text text-anchor=\"middle\" x=\"66\" y=\"-623.3\" font-family=\"Times,serif\" font-size=\"14.00\">*</text>\n",
       "</g>\n",
       "<!-- TD_75&#45;&gt;TD_77 -->\n",
       "<g id=\"edge4\" class=\"edge\">\n",
       "<title>TD_75-&gt;TD_77</title>\n",
       "<path fill=\"none\" stroke=\"black\" d=\"M66,-716.97C66,-700.38 66,-674.88 66,-655.43\"/>\n",
       "<polygon fill=\"black\" stroke=\"black\" points=\"69.5,-655.34 66,-645.34 62.5,-655.34 69.5,-655.34\"/>\n",
       "<text text-anchor=\"middle\" x=\"83\" y=\"-687.8\" font-family=\"Times,serif\" font-size=\"14.00\"> (2, 4)</text>\n",
       "</g>\n",
       "<!-- TD_78 -->\n",
       "<g id=\"node5\" class=\"node\">\n",
       "<title>TD_78</title>\n",
       "<ellipse fill=\"none\" stroke=\"black\" cx=\"66\" cy=\"-540\" rx=\"42.49\" ry=\"18\"/>\n",
       "<text text-anchor=\"middle\" x=\"66\" y=\"-536.3\" font-family=\"Times,serif\" font-size=\"14.00\">wrapList</text>\n",
       "</g>\n",
       "<!-- TD_77&#45;&gt;TD_78 -->\n",
       "<g id=\"edge2\" class=\"edge\">\n",
       "<title>TD_77-&gt;TD_78</title>\n",
       "<path fill=\"none\" stroke=\"black\" d=\"M66,-608.8C66,-597.16 66,-581.55 66,-568.24\"/>\n",
       "<polygon fill=\"black\" stroke=\"black\" points=\"69.5,-568.18 66,-558.18 62.5,-568.18 69.5,-568.18\"/>\n",
       "<text text-anchor=\"middle\" x=\"78\" y=\"-579.8\" font-family=\"Times,serif\" font-size=\"14.00\"> (4,)</text>\n",
       "</g>\n",
       "<!-- TD_79 -->\n",
       "<g id=\"node6\" class=\"node\">\n",
       "<title>TD_79</title>\n",
       "<ellipse fill=\"none\" stroke=\"black\" cx=\"66\" cy=\"-453\" rx=\"27\" ry=\"18\"/>\n",
       "<text text-anchor=\"middle\" x=\"66\" y=\"-449.3\" font-family=\"Times,serif\" font-size=\"14.00\">*</text>\n",
       "</g>\n",
       "<!-- TD_78&#45;&gt;TD_79 -->\n",
       "<g id=\"edge3\" class=\"edge\">\n",
       "<title>TD_78-&gt;TD_79</title>\n",
       "<path fill=\"none\" stroke=\"black\" d=\"M66,-521.8C66,-510.16 66,-494.55 66,-481.24\"/>\n",
       "<polygon fill=\"black\" stroke=\"black\" points=\"69.5,-481.18 66,-471.18 62.5,-481.18 69.5,-481.18\"/>\n",
       "<text text-anchor=\"middle\" x=\"83\" y=\"-492.8\" font-family=\"Times,serif\" font-size=\"14.00\"> (1, 4)</text>\n",
       "</g>\n",
       "<!-- TD_80 -->\n",
       "<g id=\"node7\" class=\"node\">\n",
       "<title>TD_80</title>\n",
       "<ellipse fill=\"none\" stroke=\"black\" cx=\"66\" cy=\"-366\" rx=\"27\" ry=\"18\"/>\n",
       "<text text-anchor=\"middle\" x=\"66\" y=\"-362.3\" font-family=\"Times,serif\" font-size=\"14.00\">*</text>\n",
       "</g>\n",
       "<!-- TD_79&#45;&gt;TD_80 -->\n",
       "<g id=\"edge5\" class=\"edge\">\n",
       "<title>TD_79-&gt;TD_80</title>\n",
       "<path fill=\"none\" stroke=\"black\" d=\"M66,-434.8C66,-423.16 66,-407.55 66,-394.24\"/>\n",
       "<polygon fill=\"black\" stroke=\"black\" points=\"69.5,-394.18 66,-384.18 62.5,-394.18 69.5,-394.18\"/>\n",
       "<text text-anchor=\"middle\" x=\"90.5\" y=\"-405.8\" font-family=\"Times,serif\" font-size=\"14.00\"> (2, 1, 4)</text>\n",
       "</g>\n",
       "<!-- TD_81 -->\n",
       "<g id=\"node8\" class=\"node\">\n",
       "<title>TD_81</title>\n",
       "<ellipse fill=\"none\" stroke=\"black\" cx=\"66\" cy=\"-279\" rx=\"28.7\" ry=\"18\"/>\n",
       "<text text-anchor=\"middle\" x=\"66\" y=\"-275.3\" font-family=\"Times,serif\" font-size=\"14.00\">deref</text>\n",
       "</g>\n",
       "<!-- TD_80&#45;&gt;TD_81 -->\n",
       "<g id=\"edge7\" class=\"edge\">\n",
       "<title>TD_80-&gt;TD_81</title>\n",
       "<path fill=\"none\" stroke=\"black\" d=\"M66,-347.8C66,-336.16 66,-320.55 66,-307.24\"/>\n",
       "<polygon fill=\"black\" stroke=\"black\" points=\"69.5,-307.18 66,-297.18 62.5,-307.18 69.5,-307.18\"/>\n",
       "<text text-anchor=\"middle\" x=\"97.5\" y=\"-318.8\" font-family=\"Times,serif\" font-size=\"14.00\"> (3, 2, 1, 4)</text>\n",
       "</g>\n",
       "<!-- TD_82 -->\n",
       "<g id=\"node9\" class=\"node\">\n",
       "<title>TD_82</title>\n",
       "<ellipse fill=\"none\" stroke=\"black\" cx=\"66\" cy=\"-192\" rx=\"42.49\" ry=\"18\"/>\n",
       "<text text-anchor=\"middle\" x=\"66\" y=\"-188.3\" font-family=\"Times,serif\" font-size=\"14.00\">toTensor</text>\n",
       "</g>\n",
       "<!-- TD_81&#45;&gt;TD_82 -->\n",
       "<g id=\"edge8\" class=\"edge\">\n",
       "<title>TD_81-&gt;TD_82</title>\n",
       "<path fill=\"none\" stroke=\"black\" d=\"M66,-260.8C66,-249.16 66,-233.55 66,-220.24\"/>\n",
       "<polygon fill=\"black\" stroke=\"black\" points=\"69.5,-220.18 66,-210.18 62.5,-220.18 69.5,-220.18\"/>\n",
       "<text text-anchor=\"middle\" x=\"97.5\" y=\"-231.8\" font-family=\"Times,serif\" font-size=\"14.00\"> (3, 2, 1, 4)</text>\n",
       "</g>\n",
       "<!-- TD_83 -->\n",
       "<g id=\"node10\" class=\"node\">\n",
       "<title>TD_83</title>\n",
       "<ellipse fill=\"none\" stroke=\"black\" cx=\"66\" cy=\"-105\" rx=\"27\" ry=\"18\"/>\n",
       "<text text-anchor=\"middle\" x=\"66\" y=\"-101.3\" font-family=\"Times,serif\" font-size=\"14.00\">op</text>\n",
       "</g>\n",
       "<!-- TD_82&#45;&gt;TD_83 -->\n",
       "<g id=\"edge9\" class=\"edge\">\n",
       "<title>TD_82-&gt;TD_83</title>\n",
       "<path fill=\"none\" stroke=\"black\" d=\"M66,-173.8C66,-162.16 66,-146.55 66,-133.24\"/>\n",
       "<polygon fill=\"black\" stroke=\"black\" points=\"69.5,-133.18 66,-123.18 62.5,-133.18 69.5,-133.18\"/>\n",
       "<text text-anchor=\"middle\" x=\"97.5\" y=\"-144.8\" font-family=\"Times,serif\" font-size=\"14.00\"> (3, 2, 1, 4)</text>\n",
       "</g>\n",
       "<!-- TD_84 -->\n",
       "<g id=\"node11\" class=\"node\">\n",
       "<title>TD_84</title>\n",
       "<ellipse fill=\"none\" stroke=\"black\" cx=\"66\" cy=\"-18\" rx=\"34.39\" ry=\"18\"/>\n",
       "<text text-anchor=\"middle\" x=\"66\" y=\"-14.3\" font-family=\"Times,serif\" font-size=\"14.00\">&lt;end&gt;</text>\n",
       "</g>\n",
       "<!-- TD_83&#45;&gt;TD_84 -->\n",
       "<g id=\"edge10\" class=\"edge\">\n",
       "<title>TD_83-&gt;TD_84</title>\n",
       "<path fill=\"none\" stroke=\"black\" d=\"M66,-86.8C66,-75.16 66,-59.55 66,-46.24\"/>\n",
       "<polygon fill=\"black\" stroke=\"black\" points=\"69.5,-46.18 66,-36.18 62.5,-46.18 69.5,-46.18\"/>\n",
       "<text text-anchor=\"middle\" x=\"90.5\" y=\"-57.8\" font-family=\"Times,serif\" font-size=\"14.00\"> (3, 2, 4)</text>\n",
       "</g>\n",
       "</g>\n",
       "</svg>"
      ],
      "text/plain": [
       "<IPython.core.display.SVG object>"
      ]
     },
     "metadata": {},
     "output_type": "display_data"
    },
    {
     "data": {
      "text/plain": [
       "<trace object>"
      ]
     },
     "execution_count": 15,
     "metadata": {},
     "output_type": "execute_result"
    }
   ],
   "source": [
    "a = torch.randn(2, 3, 4) | deref(igT=False)\n",
    "a | trace() | transpose() | unsqueeze(2) | deref() | toTensor() | op().squeeze()"
   ]
  },
  {
   "cell_type": "markdown",
   "id": "98603bfc",
   "metadata": {},
   "source": [
    "As you can see, this can be extremely useful in debugging stuff."
   ]
  },
  {
   "cell_type": "markdown",
   "id": "0987978b",
   "metadata": {},
   "source": [
    "## Infinity and nested traces\n",
    "\n",
    "The way `trace()` works is by `deref`-ing every part of the stream. This means you can't really handle infinite streams. There is a workaround for this though. Say we have this infinite stream:"
   ]
  },
  {
   "cell_type": "code",
   "execution_count": 16,
   "id": "b65c25a9",
   "metadata": {},
   "outputs": [
    {
     "data": {
      "text/plain": [
       "[1, 4, 9, 16, 1, 4, 9, 16, 1, 4]"
      ]
     },
     "execution_count": 16,
     "metadata": {},
     "output_type": "execute_result"
    }
   ],
   "source": [
    "range(1, 5) | repeatFrom() | apply(op()**2) | head(10) | deref()"
   ]
  },
  {
   "cell_type": "markdown",
   "id": "7cd8df7e",
   "metadata": {},
   "source": [
    "So, we can set what infinity means inside `settings.cli`, which will be picked up by clis that can potentially produce infinite streams and limit them:"
   ]
  },
  {
   "cell_type": "code",
   "execution_count": 17,
   "id": "9bbd52f4",
   "metadata": {},
   "outputs": [],
   "source": [
    "with settings.cli.context(inf=21):\n",
    "    range(1, 5) | trace() | repeatFrom() | apply(lambda x: x**2) | head(10) | deref()"
   ]
  },
  {
   "cell_type": "markdown",
   "id": "da43876f",
   "metadata": {},
   "source": [
    "Because trace objects only displays their graph through calling `__repr__`, the code above wouldn't display anything because it's inside a block. To get the graph, do this:"
   ]
  },
  {
   "cell_type": "code",
   "execution_count": 18,
   "id": "bd282806",
   "metadata": {},
   "outputs": [
    {
     "data": {
      "image/svg+xml": [
       "<svg xmlns=\"http://www.w3.org/2000/svg\" xmlns:xlink=\"http://www.w3.org/1999/xlink\" width=\"78pt\" height=\"335pt\" viewBox=\"0.00 0.00 111.99 479.00\">\n",
       "<g id=\"graph0\" class=\"graph\" transform=\"scale(1 1) rotate(0) translate(4 475)\">\n",
       "<polygon fill=\"white\" stroke=\"transparent\" points=\"-4,4 -4,-475 107.99,-475 107.99,4 -4,4\"/>\n",
       "<!-- TD_85 -->\n",
       "<g id=\"node1\" class=\"node\">\n",
       "<title>TD_85</title>\n",
       "<ellipse fill=\"none\" stroke=\"black\" cx=\"52\" cy=\"-453\" rx=\"36.29\" ry=\"18\"/>\n",
       "<text text-anchor=\"middle\" x=\"52\" y=\"-449.3\" font-family=\"Times,serif\" font-size=\"14.00\">&lt;start&gt;</text>\n",
       "</g>\n",
       "<!-- TD_86 -->\n",
       "<g id=\"node2\" class=\"node\">\n",
       "<title>TD_86</title>\n",
       "<ellipse fill=\"none\" stroke=\"black\" cx=\"52\" cy=\"-366\" rx=\"51.99\" ry=\"18\"/>\n",
       "<text text-anchor=\"middle\" x=\"52\" y=\"-362.3\" font-family=\"Times,serif\" font-size=\"14.00\">repeatFrom</text>\n",
       "</g>\n",
       "<!-- TD_85&#45;&gt;TD_86 -->\n",
       "<g id=\"edge1\" class=\"edge\">\n",
       "<title>TD_85-&gt;TD_86</title>\n",
       "<path fill=\"none\" stroke=\"black\" d=\"M52,-434.8C52,-423.16 52,-407.55 52,-394.24\"/>\n",
       "<polygon fill=\"black\" stroke=\"black\" points=\"55.5,-394.18 52,-384.18 48.5,-394.18 55.5,-394.18\"/>\n",
       "<text text-anchor=\"middle\" x=\"64\" y=\"-405.8\" font-family=\"Times,serif\" font-size=\"14.00\"> (4,)</text>\n",
       "</g>\n",
       "<!-- TD_87 -->\n",
       "<g id=\"node3\" class=\"node\">\n",
       "<title>TD_87</title>\n",
       "<ellipse fill=\"none\" stroke=\"black\" cx=\"52\" cy=\"-279\" rx=\"30.59\" ry=\"18\"/>\n",
       "<text text-anchor=\"middle\" x=\"52\" y=\"-275.3\" font-family=\"Times,serif\" font-size=\"14.00\">apply</text>\n",
       "</g>\n",
       "<!-- TD_86&#45;&gt;TD_87 -->\n",
       "<g id=\"edge2\" class=\"edge\">\n",
       "<title>TD_86-&gt;TD_87</title>\n",
       "<path fill=\"none\" stroke=\"black\" d=\"M52,-347.8C52,-336.16 52,-320.55 52,-307.24\"/>\n",
       "<polygon fill=\"black\" stroke=\"black\" points=\"55.5,-307.18 52,-297.18 48.5,-307.18 55.5,-307.18\"/>\n",
       "<text text-anchor=\"middle\" x=\"67.5\" y=\"-318.8\" font-family=\"Times,serif\" font-size=\"14.00\"> (84,)</text>\n",
       "</g>\n",
       "<!-- TD_88 -->\n",
       "<g id=\"node4\" class=\"node\">\n",
       "<title>TD_88</title>\n",
       "<ellipse fill=\"none\" stroke=\"black\" cx=\"52\" cy=\"-192\" rx=\"27.1\" ry=\"18\"/>\n",
       "<text text-anchor=\"middle\" x=\"52\" y=\"-188.3\" font-family=\"Times,serif\" font-size=\"14.00\">head</text>\n",
       "</g>\n",
       "<!-- TD_87&#45;&gt;TD_88 -->\n",
       "<g id=\"edge3\" class=\"edge\">\n",
       "<title>TD_87-&gt;TD_88</title>\n",
       "<path fill=\"none\" stroke=\"black\" d=\"M52,-260.8C52,-249.16 52,-233.55 52,-220.24\"/>\n",
       "<polygon fill=\"black\" stroke=\"black\" points=\"55.5,-220.18 52,-210.18 48.5,-220.18 55.5,-220.18\"/>\n",
       "<text text-anchor=\"middle\" x=\"67.5\" y=\"-231.8\" font-family=\"Times,serif\" font-size=\"14.00\"> (84,)</text>\n",
       "</g>\n",
       "<!-- TD_89 -->\n",
       "<g id=\"node5\" class=\"node\">\n",
       "<title>TD_89</title>\n",
       "<ellipse fill=\"none\" stroke=\"black\" cx=\"52\" cy=\"-105\" rx=\"28.7\" ry=\"18\"/>\n",
       "<text text-anchor=\"middle\" x=\"52\" y=\"-101.3\" font-family=\"Times,serif\" font-size=\"14.00\">deref</text>\n",
       "</g>\n",
       "<!-- TD_88&#45;&gt;TD_89 -->\n",
       "<g id=\"edge4\" class=\"edge\">\n",
       "<title>TD_88-&gt;TD_89</title>\n",
       "<path fill=\"none\" stroke=\"black\" d=\"M52,-173.8C52,-162.16 52,-146.55 52,-133.24\"/>\n",
       "<polygon fill=\"black\" stroke=\"black\" points=\"55.5,-133.18 52,-123.18 48.5,-133.18 55.5,-133.18\"/>\n",
       "<text text-anchor=\"middle\" x=\"67.5\" y=\"-144.8\" font-family=\"Times,serif\" font-size=\"14.00\"> (10,)</text>\n",
       "</g>\n",
       "<!-- TD_90 -->\n",
       "<g id=\"node6\" class=\"node\">\n",
       "<title>TD_90</title>\n",
       "<ellipse fill=\"none\" stroke=\"black\" cx=\"52\" cy=\"-18\" rx=\"34.39\" ry=\"18\"/>\n",
       "<text text-anchor=\"middle\" x=\"52\" y=\"-14.3\" font-family=\"Times,serif\" font-size=\"14.00\">&lt;end&gt;</text>\n",
       "</g>\n",
       "<!-- TD_89&#45;&gt;TD_90 -->\n",
       "<g id=\"edge5\" class=\"edge\">\n",
       "<title>TD_89-&gt;TD_90</title>\n",
       "<path fill=\"none\" stroke=\"black\" d=\"M52,-86.8C52,-75.16 52,-59.55 52,-46.24\"/>\n",
       "<polygon fill=\"black\" stroke=\"black\" points=\"55.5,-46.18 52,-36.18 48.5,-46.18 55.5,-46.18\"/>\n",
       "<text text-anchor=\"middle\" x=\"67.5\" y=\"-57.8\" font-family=\"Times,serif\" font-size=\"14.00\"> (10,)</text>\n",
       "</g>\n",
       "</g>\n",
       "</svg>"
      ],
      "text/plain": [
       "<IPython.core.display.SVG object>"
      ]
     },
     "metadata": {},
     "output_type": "display_data"
    },
    {
     "data": {
      "text/plain": [
       "<trace object>"
      ]
     },
     "execution_count": 18,
     "metadata": {},
     "output_type": "execute_result"
    }
   ],
   "source": [
    "trace.last"
   ]
  },
  {
   "cell_type": "markdown",
   "id": "bcbce394",
   "metadata": {},
   "source": [
    "This is sort of messy I get it, but there doesn't seem to be a way to robustly track infinite streams."
   ]
  },
  {
   "cell_type": "markdown",
   "id": "ade92b29",
   "metadata": {},
   "source": [
    "You can also put `trace()` inside of a relatively complex block. Let's grab an example from before:"
   ]
  },
  {
   "cell_type": "code",
   "execution_count": 19,
   "id": "14900d86",
   "metadata": {},
   "outputs": [
    {
     "data": {
      "image/svg+xml": [
       "<svg xmlns=\"http://www.w3.org/2000/svg\" xmlns:xlink=\"http://www.w3.org/1999/xlink\" width=\"144pt\" height=\"562pt\" viewBox=\"0.00 0.00 207.00 803.00\">\n",
       "<g id=\"graph0\" class=\"graph\" transform=\"scale(1 1) rotate(0) translate(4 799)\">\n",
       "<polygon fill=\"white\" stroke=\"transparent\" points=\"-4,4 -4,-799 203,-799 203,4 -4,4\"/>\n",
       "<g id=\"clust1\" class=\"cluster\">\n",
       "<title>cluster_15</title>\n",
       "<polygon fill=\"none\" stroke=\"black\" points=\"8,-166 8,-718 191,-718 191,-166 8,-166\"/>\n",
       "<text text-anchor=\"middle\" x=\"99.5\" y=\"-702.8\" font-family=\"Times,serif\" font-size=\"14.00\">&amp;, oneToMany</text>\n",
       "</g>\n",
       "<g id=\"clust2\" class=\"cluster\">\n",
       "<title>cluster_16</title>\n",
       "<polygon fill=\"none\" stroke=\"black\" points=\"78,-253 78,-610 164,-610 164,-253 78,-253\"/>\n",
       "<text text-anchor=\"middle\" x=\"121\" y=\"-594.8\" font-family=\"Times,serif\" font-size=\"14.00\">.all(), apply</text>\n",
       "</g>\n",
       "<g id=\"clust3\" class=\"cluster\">\n",
       "<title>cluster_17</title>\n",
       "<polygon fill=\"none\" stroke=\"black\" points=\"86,-340 86,-502 156,-502 156,-340 86,-340\"/>\n",
       "<text text-anchor=\"middle\" x=\"121\" y=\"-486.8\" font-family=\"Times,serif\" font-size=\"14.00\">|, serial</text>\n",
       "</g>\n",
       "<!-- TD_91 -->\n",
       "<g id=\"node1\" class=\"node\">\n",
       "<title>TD_91</title>\n",
       "<ellipse fill=\"none\" stroke=\"black\" cx=\"81\" cy=\"-777\" rx=\"36.29\" ry=\"18\"/>\n",
       "<text text-anchor=\"middle\" x=\"81\" y=\"-773.3\" font-family=\"Times,serif\" font-size=\"14.00\">&lt;start&gt;</text>\n",
       "</g>\n",
       "<!-- TD_93 -->\n",
       "<g id=\"node2\" class=\"node\">\n",
       "<title>TD_93</title>\n",
       "<ellipse fill=\"none\" stroke=\"black\" cx=\"81\" cy=\"-669\" rx=\"27\" ry=\"18\"/>\n",
       "<text text-anchor=\"middle\" x=\"81\" y=\"-665.3\" font-family=\"Times,serif\" font-size=\"14.00\">*</text>\n",
       "</g>\n",
       "<!-- TD_91&#45;&gt;TD_93 -->\n",
       "<g id=\"edge8\" class=\"edge\">\n",
       "<title>TD_91-&gt;TD_93</title>\n",
       "<path fill=\"none\" stroke=\"black\" d=\"M81,-758.97C81,-742.38 81,-716.88 81,-697.43\"/>\n",
       "<polygon fill=\"black\" stroke=\"black\" points=\"84.5,-697.34 81,-687.34 77.5,-697.34 84.5,-697.34\"/>\n",
       "<text text-anchor=\"middle\" x=\"112.5\" y=\"-729.8\" font-family=\"Times,serif\" font-size=\"14.00\"> [1, 2, 3, 4]</text>\n",
       "</g>\n",
       "<!-- TD_95 -->\n",
       "<g id=\"node3\" class=\"node\">\n",
       "<title>TD_95</title>\n",
       "<ellipse fill=\"none\" stroke=\"black\" cx=\"43\" cy=\"-561\" rx=\"27\" ry=\"18\"/>\n",
       "<text text-anchor=\"middle\" x=\"43\" y=\"-557.3\" font-family=\"Times,serif\" font-size=\"14.00\">size</text>\n",
       "</g>\n",
       "<!-- TD_93&#45;&gt;TD_95 -->\n",
       "<g id=\"edge1\" class=\"edge\">\n",
       "<title>TD_93-&gt;TD_95</title>\n",
       "<path fill=\"none\" stroke=\"black\" d=\"M59.89,-657.7C50.44,-651.87 40.26,-643.61 35,-633 28.24,-619.36 29.8,-602.48 33.26,-588.61\"/>\n",
       "<polygon fill=\"black\" stroke=\"black\" points=\"36.71,-589.26 36.16,-578.68 29.99,-587.29 36.71,-589.26\"/>\n",
       "<text text-anchor=\"middle\" x=\"66.5\" y=\"-621.8\" font-family=\"Times,serif\" font-size=\"14.00\"> [1, 2, 3, 4]</text>\n",
       "</g>\n",
       "<!-- TD_97 -->\n",
       "<g id=\"node5\" class=\"node\">\n",
       "<title>TD_97</title>\n",
       "<ellipse fill=\"none\" stroke=\"black\" cx=\"120\" cy=\"-561\" rx=\"27\" ry=\"18\"/>\n",
       "<text text-anchor=\"middle\" x=\"120\" y=\"-557.3\" font-family=\"Times,serif\" font-size=\"14.00\">*</text>\n",
       "</g>\n",
       "<!-- TD_93&#45;&gt;TD_97 -->\n",
       "<g id=\"edge3\" class=\"edge\">\n",
       "<title>TD_93-&gt;TD_97</title>\n",
       "<path fill=\"none\" stroke=\"black\" d=\"M89.48,-651.85C92.38,-646 95.52,-639.28 98,-633 103.71,-618.56 108.91,-602.01 112.82,-588.52\"/>\n",
       "<polygon fill=\"black\" stroke=\"black\" points=\"116.19,-589.46 115.55,-578.89 109.46,-587.56 116.19,-589.46\"/>\n",
       "<text text-anchor=\"middle\" x=\"133.5\" y=\"-621.8\" font-family=\"Times,serif\" font-size=\"14.00\"> [1, 2, 3, 4]</text>\n",
       "</g>\n",
       "<!-- TD_94 -->\n",
       "<g id=\"node4\" class=\"node\">\n",
       "<title>TD_94</title>\n",
       "<ellipse fill=\"none\" stroke=\"black\" cx=\"66\" cy=\"-192\" rx=\"27\" ry=\"18\"/>\n",
       "<text text-anchor=\"middle\" x=\"66\" y=\"-188.3\" font-family=\"Times,serif\" font-size=\"14.00\">*</text>\n",
       "</g>\n",
       "<!-- TD_95&#45;&gt;TD_94 -->\n",
       "<g id=\"edge2\" class=\"edge\">\n",
       "<title>TD_95-&gt;TD_94</title>\n",
       "<path fill=\"none\" stroke=\"black\" d=\"M43.79,-542.75C44.68,-521.77 46,-485.3 46,-454 46,-454 46,-454 46,-278 46,-257.91 51.36,-235.85 56.53,-219.24\"/>\n",
       "<polygon fill=\"black\" stroke=\"black\" points=\"59.88,-220.25 59.67,-209.66 53.23,-218.07 59.88,-220.25\"/>\n",
       "<text text-anchor=\"middle\" x=\"56\" y=\"-362.3\" font-family=\"Times,serif\" font-size=\"14.00\"> [4]</text>\n",
       "</g>\n",
       "<!-- TD_102 -->\n",
       "<g id=\"node9\" class=\"node\">\n",
       "<title>TD_102</title>\n",
       "<ellipse fill=\"none\" stroke=\"black\" cx=\"66\" cy=\"-105\" rx=\"28.7\" ry=\"18\"/>\n",
       "<text text-anchor=\"middle\" x=\"66\" y=\"-101.3\" font-family=\"Times,serif\" font-size=\"14.00\">deref</text>\n",
       "</g>\n",
       "<!-- TD_94&#45;&gt;TD_102 -->\n",
       "<g id=\"edge9\" class=\"edge\">\n",
       "<title>TD_94-&gt;TD_102</title>\n",
       "<path fill=\"none\" stroke=\"black\" d=\"M66,-173.8C66,-162.16 66,-146.55 66,-133.24\"/>\n",
       "<polygon fill=\"black\" stroke=\"black\" points=\"69.5,-133.18 66,-123.18 62.5,-133.18 69.5,-133.18\"/>\n",
       "<text text-anchor=\"middle\" x=\"123.5\" y=\"-144.8\" font-family=\"Times,serif\" font-size=\"14.00\"> [[4], [4, 16, 36, 64]]</text>\n",
       "</g>\n",
       "<!-- TD_99 -->\n",
       "<g id=\"node7\" class=\"node\">\n",
       "<title>TD_99</title>\n",
       "<ellipse fill=\"none\" stroke=\"black\" cx=\"121\" cy=\"-453\" rx=\"27\" ry=\"18\"/>\n",
       "<text text-anchor=\"middle\" x=\"121\" y=\"-449.3\" font-family=\"Times,serif\" font-size=\"14.00\">op</text>\n",
       "</g>\n",
       "<!-- TD_97&#45;&gt;TD_99 -->\n",
       "<g id=\"edge6\" class=\"edge\">\n",
       "<title>TD_97-&gt;TD_99</title>\n",
       "<path fill=\"none\" stroke=\"black\" d=\"M120.16,-542.97C120.32,-526.38 120.56,-500.88 120.74,-481.43\"/>\n",
       "<polygon fill=\"black\" stroke=\"black\" points=\"124.24,-481.37 120.84,-471.34 117.24,-481.31 124.24,-481.37\"/>\n",
       "<text text-anchor=\"middle\" x=\"125.5\" y=\"-513.8\" font-family=\"Times,serif\" font-size=\"14.00\"> 1</text>\n",
       "</g>\n",
       "<!-- TD_101 -->\n",
       "<g id=\"node6\" class=\"node\">\n",
       "<title>TD_101</title>\n",
       "<ellipse fill=\"none\" stroke=\"black\" cx=\"117\" cy=\"-279\" rx=\"27\" ry=\"18\"/>\n",
       "<text text-anchor=\"middle\" x=\"117\" y=\"-275.3\" font-family=\"Times,serif\" font-size=\"14.00\">*</text>\n",
       "</g>\n",
       "<!-- TD_101&#45;&gt;TD_94 -->\n",
       "<g id=\"edge4\" class=\"edge\">\n",
       "<title>TD_101-&gt;TD_94</title>\n",
       "<path fill=\"none\" stroke=\"black\" d=\"M107.41,-262.01C99.93,-249.55 89.41,-232.01 80.84,-217.74\"/>\n",
       "<polygon fill=\"black\" stroke=\"black\" points=\"83.7,-215.69 75.55,-208.92 77.69,-219.29 83.7,-215.69\"/>\n",
       "<text text-anchor=\"middle\" x=\"135.5\" y=\"-231.8\" font-family=\"Times,serif\" font-size=\"14.00\"> [4, 16, 36, 64]</text>\n",
       "</g>\n",
       "<!-- TD_100 -->\n",
       "<g id=\"node8\" class=\"node\">\n",
       "<title>TD_100</title>\n",
       "<ellipse fill=\"none\" stroke=\"black\" cx=\"121\" cy=\"-366\" rx=\"27\" ry=\"18\"/>\n",
       "<text text-anchor=\"middle\" x=\"121\" y=\"-362.3\" font-family=\"Times,serif\" font-size=\"14.00\">op</text>\n",
       "</g>\n",
       "<!-- TD_99&#45;&gt;TD_100 -->\n",
       "<g id=\"edge5\" class=\"edge\">\n",
       "<title>TD_99-&gt;TD_100</title>\n",
       "<path fill=\"none\" stroke=\"black\" d=\"M121,-434.8C121,-423.16 121,-407.55 121,-394.24\"/>\n",
       "<polygon fill=\"black\" stroke=\"black\" points=\"124.5,-394.18 121,-384.18 117.5,-394.18 124.5,-394.18\"/>\n",
       "<text text-anchor=\"middle\" x=\"126.5\" y=\"-405.8\" font-family=\"Times,serif\" font-size=\"14.00\"> 2</text>\n",
       "</g>\n",
       "<!-- TD_100&#45;&gt;TD_101 -->\n",
       "<g id=\"edge7\" class=\"edge\">\n",
       "<title>TD_100-&gt;TD_101</title>\n",
       "<path fill=\"none\" stroke=\"black\" d=\"M120.19,-347.8C119.64,-336.16 118.91,-320.55 118.28,-307.24\"/>\n",
       "<polygon fill=\"black\" stroke=\"black\" points=\"121.77,-307 117.81,-297.18 114.78,-307.33 121.77,-307\"/>\n",
       "<text text-anchor=\"middle\" x=\"124.5\" y=\"-318.8\" font-family=\"Times,serif\" font-size=\"14.00\"> 4</text>\n",
       "</g>\n",
       "<!-- TD_103 -->\n",
       "<g id=\"node10\" class=\"node\">\n",
       "<title>TD_103</title>\n",
       "<ellipse fill=\"none\" stroke=\"black\" cx=\"66\" cy=\"-18\" rx=\"34.39\" ry=\"18\"/>\n",
       "<text text-anchor=\"middle\" x=\"66\" y=\"-14.3\" font-family=\"Times,serif\" font-size=\"14.00\">&lt;end&gt;</text>\n",
       "</g>\n",
       "<!-- TD_102&#45;&gt;TD_103 -->\n",
       "<g id=\"edge10\" class=\"edge\">\n",
       "<title>TD_102-&gt;TD_103</title>\n",
       "<path fill=\"none\" stroke=\"black\" d=\"M66,-86.8C66,-75.16 66,-59.55 66,-46.24\"/>\n",
       "<polygon fill=\"black\" stroke=\"black\" points=\"69.5,-46.18 66,-36.18 62.5,-46.18 69.5,-46.18\"/>\n",
       "<text text-anchor=\"middle\" x=\"123.5\" y=\"-57.8\" font-family=\"Times,serif\" font-size=\"14.00\"> [[4], [4, 16, 36, 64]]</text>\n",
       "</g>\n",
       "</g>\n",
       "</svg>"
      ],
      "text/plain": [
       "<IPython.core.display.SVG object>"
      ]
     },
     "metadata": {},
     "output_type": "display_data"
    },
    {
     "data": {
      "text/plain": [
       "<trace object>"
      ]
     },
     "execution_count": 19,
     "metadata": {},
     "output_type": "execute_result"
    }
   ],
   "source": [
    "range(1,5) | trace(None) | (shape() & (op()*2 | op()**2).all()) | deref()"
   ]
  },
  {
   "cell_type": "markdown",
   "id": "770e4f53",
   "metadata": {},
   "source": [
    "Now let's try to intercept in the middle:"
   ]
  },
  {
   "cell_type": "code",
   "execution_count": 20,
   "id": "894966db",
   "metadata": {},
   "outputs": [
    {
     "data": {
      "image/svg+xml": [
       "<svg xmlns=\"http://www.w3.org/2000/svg\" xmlns:xlink=\"http://www.w3.org/1999/xlink\" width=\"56pt\" height=\"213pt\" viewBox=\"0.00 0.00 80.79 305.00\">\n",
       "<g id=\"graph0\" class=\"graph\" transform=\"scale(1 1) rotate(0) translate(4 301)\">\n",
       "<polygon fill=\"white\" stroke=\"transparent\" points=\"-4,4 -4,-301 76.79,-301 76.79,4 -4,4\"/>\n",
       "<!-- TD_104 -->\n",
       "<g id=\"node1\" class=\"node\">\n",
       "<title>TD_104</title>\n",
       "<ellipse fill=\"none\" stroke=\"black\" cx=\"36.4\" cy=\"-279\" rx=\"36.29\" ry=\"18\"/>\n",
       "<text text-anchor=\"middle\" x=\"36.4\" y=\"-275.3\" font-family=\"Times,serif\" font-size=\"14.00\">&lt;start&gt;</text>\n",
       "</g>\n",
       "<!-- TD_105 -->\n",
       "<g id=\"node2\" class=\"node\">\n",
       "<title>TD_105</title>\n",
       "<ellipse fill=\"none\" stroke=\"black\" cx=\"36.4\" cy=\"-192\" rx=\"27\" ry=\"18\"/>\n",
       "<text text-anchor=\"middle\" x=\"36.4\" y=\"-188.3\" font-family=\"Times,serif\" font-size=\"14.00\">op</text>\n",
       "</g>\n",
       "<!-- TD_104&#45;&gt;TD_105 -->\n",
       "<g id=\"edge1\" class=\"edge\">\n",
       "<title>TD_104-&gt;TD_105</title>\n",
       "<path fill=\"none\" stroke=\"black\" d=\"M36.4,-260.8C36.4,-249.16 36.4,-233.55 36.4,-220.24\"/>\n",
       "<polygon fill=\"black\" stroke=\"black\" points=\"39.9,-220.18 36.4,-210.18 32.9,-220.18 39.9,-220.18\"/>\n",
       "<text text-anchor=\"middle\" x=\"41.9\" y=\"-231.8\" font-family=\"Times,serif\" font-size=\"14.00\"> 1</text>\n",
       "</g>\n",
       "<!-- TD_106 -->\n",
       "<g id=\"node3\" class=\"node\">\n",
       "<title>TD_106</title>\n",
       "<ellipse fill=\"none\" stroke=\"black\" cx=\"36.4\" cy=\"-105\" rx=\"27\" ry=\"18\"/>\n",
       "<text text-anchor=\"middle\" x=\"36.4\" y=\"-101.3\" font-family=\"Times,serif\" font-size=\"14.00\">op</text>\n",
       "</g>\n",
       "<!-- TD_105&#45;&gt;TD_106 -->\n",
       "<g id=\"edge2\" class=\"edge\">\n",
       "<title>TD_105-&gt;TD_106</title>\n",
       "<path fill=\"none\" stroke=\"black\" d=\"M36.4,-173.8C36.4,-162.16 36.4,-146.55 36.4,-133.24\"/>\n",
       "<polygon fill=\"black\" stroke=\"black\" points=\"39.9,-133.18 36.4,-123.18 32.9,-133.18 39.9,-133.18\"/>\n",
       "<text text-anchor=\"middle\" x=\"41.9\" y=\"-144.8\" font-family=\"Times,serif\" font-size=\"14.00\"> 2</text>\n",
       "</g>\n",
       "<!-- TD_110 -->\n",
       "<g id=\"node4\" class=\"node\">\n",
       "<title>TD_110</title>\n",
       "<ellipse fill=\"none\" stroke=\"black\" cx=\"36.4\" cy=\"-18\" rx=\"34.39\" ry=\"18\"/>\n",
       "<text text-anchor=\"middle\" x=\"36.4\" y=\"-14.3\" font-family=\"Times,serif\" font-size=\"14.00\">&lt;end&gt;</text>\n",
       "</g>\n",
       "<!-- TD_106&#45;&gt;TD_110 -->\n",
       "<g id=\"edge3\" class=\"edge\">\n",
       "<title>TD_106-&gt;TD_110</title>\n",
       "<path fill=\"none\" stroke=\"black\" d=\"M36.4,-86.8C36.4,-75.16 36.4,-59.55 36.4,-46.24\"/>\n",
       "<polygon fill=\"black\" stroke=\"black\" points=\"39.9,-46.18 36.4,-36.18 32.9,-46.18 39.9,-46.18\"/>\n",
       "<text text-anchor=\"middle\" x=\"41.9\" y=\"-57.8\" font-family=\"Times,serif\" font-size=\"14.00\"> 4</text>\n",
       "</g>\n",
       "</g>\n",
       "</svg>"
      ],
      "text/plain": [
       "<IPython.core.display.SVG object>"
      ]
     },
     "metadata": {},
     "output_type": "display_data"
    },
    {
     "data": {
      "text/plain": [
       "[[4], [<trace object>, 16, 36, 64]]"
      ]
     },
     "execution_count": 20,
     "metadata": {},
     "output_type": "execute_result"
    }
   ],
   "source": [
    "range(1,5) | (shape() & (trace(None) | op()*2 | op()**2).all()) | deref()"
   ]
  },
  {
   "cell_type": "markdown",
   "id": "3d29e18c",
   "metadata": {},
   "source": [
    "It works! If for some reason, it errors out, you can always do `trace.last` to see the best trace attempt. This is rare and I haven't been able to make it errors out, but logic says that it can in weird circumstances. Also, unlike `trace()` at the top level, notice how nested `trace()` are a part of the derefed object? This means that without actually forcing the execution to happen, you won't have any trace:"
   ]
  },
  {
   "cell_type": "code",
   "execution_count": 21,
   "id": "1b97304c",
   "metadata": {},
   "outputs": [
    {
     "data": {
      "text/plain": [
       "<generator object oneToMany.__ror__ at 0x7f1095f50120>"
      ]
     },
     "execution_count": 21,
     "metadata": {},
     "output_type": "execute_result"
    }
   ],
   "source": [
    "range(1,5) | (shape() & (trace(None) | op()*2 | op()**2).all())"
   ]
  },
  {
   "cell_type": "code",
   "execution_count": 22,
   "id": "f4612c74",
   "metadata": {},
   "outputs": [
    {
     "data": {
      "image/svg+xml": [
       "<svg xmlns=\"http://www.w3.org/2000/svg\" xmlns:xlink=\"http://www.w3.org/1999/xlink\" width=\"56pt\" height=\"91pt\" viewBox=\"0.00 0.00 80.79 131.00\">\n",
       "<g id=\"graph0\" class=\"graph\" transform=\"scale(1 1) rotate(0) translate(4 127)\">\n",
       "<polygon fill=\"white\" stroke=\"transparent\" points=\"-4,4 -4,-127 76.79,-127 76.79,4 -4,4\"/>\n",
       "<!-- TD_111 -->\n",
       "<g id=\"node1\" class=\"node\">\n",
       "<title>TD_111</title>\n",
       "<ellipse fill=\"none\" stroke=\"black\" cx=\"36.4\" cy=\"-105\" rx=\"36.29\" ry=\"18\"/>\n",
       "<text text-anchor=\"middle\" x=\"36.4\" y=\"-101.3\" font-family=\"Times,serif\" font-size=\"14.00\">&lt;start&gt;</text>\n",
       "</g>\n",
       "<!-- TD_112 -->\n",
       "<g id=\"node2\" class=\"node\">\n",
       "<title>TD_112</title>\n",
       "<ellipse fill=\"none\" stroke=\"black\" cx=\"36.4\" cy=\"-18\" rx=\"34.39\" ry=\"18\"/>\n",
       "<text text-anchor=\"middle\" x=\"36.4\" y=\"-14.3\" font-family=\"Times,serif\" font-size=\"14.00\">&lt;end&gt;</text>\n",
       "</g>\n",
       "<!-- TD_111&#45;&gt;TD_112 -->\n",
       "<g id=\"edge1\" class=\"edge\">\n",
       "<title>TD_111-&gt;TD_112</title>\n",
       "<path fill=\"none\" stroke=\"black\" d=\"M36.4,-86.8C36.4,-75.16 36.4,-59.55 36.4,-46.24\"/>\n",
       "<polygon fill=\"black\" stroke=\"black\" points=\"39.9,-46.18 36.4,-36.18 32.9,-46.18 39.9,-46.18\"/>\n",
       "<text text-anchor=\"middle\" x=\"53.4\" y=\"-57.8\" font-family=\"Times,serif\" font-size=\"14.00\"> None</text>\n",
       "</g>\n",
       "</g>\n",
       "</svg>"
      ],
      "text/plain": [
       "<IPython.core.display.SVG object>"
      ]
     },
     "metadata": {},
     "output_type": "display_data"
    },
    {
     "data": {
      "text/plain": [
       "<trace object>"
      ]
     },
     "execution_count": 22,
     "metadata": {},
     "output_type": "execute_result"
    }
   ],
   "source": [
    "trace.last"
   ]
  },
  {
   "cell_type": "markdown",
   "id": "e65d47a2",
   "metadata": {},
   "source": [
    "Therefore, it's my recommendation to always do `deref()`, ignore the output (because it can potentially be long), then see the last trace:"
   ]
  },
  {
   "cell_type": "code",
   "execution_count": 23,
   "id": "328265b1",
   "metadata": {},
   "outputs": [
    {
     "data": {
      "image/svg+xml": [
       "<svg xmlns=\"http://www.w3.org/2000/svg\" xmlns:xlink=\"http://www.w3.org/1999/xlink\" width=\"56pt\" height=\"213pt\" viewBox=\"0.00 0.00 80.79 305.00\">\n",
       "<g id=\"graph0\" class=\"graph\" transform=\"scale(1 1) rotate(0) translate(4 301)\">\n",
       "<polygon fill=\"white\" stroke=\"transparent\" points=\"-4,4 -4,-301 76.79,-301 76.79,4 -4,4\"/>\n",
       "<!-- TD_113 -->\n",
       "<g id=\"node1\" class=\"node\">\n",
       "<title>TD_113</title>\n",
       "<ellipse fill=\"none\" stroke=\"black\" cx=\"36.4\" cy=\"-279\" rx=\"36.29\" ry=\"18\"/>\n",
       "<text text-anchor=\"middle\" x=\"36.4\" y=\"-275.3\" font-family=\"Times,serif\" font-size=\"14.00\">&lt;start&gt;</text>\n",
       "</g>\n",
       "<!-- TD_114 -->\n",
       "<g id=\"node2\" class=\"node\">\n",
       "<title>TD_114</title>\n",
       "<ellipse fill=\"none\" stroke=\"black\" cx=\"36.4\" cy=\"-192\" rx=\"27\" ry=\"18\"/>\n",
       "<text text-anchor=\"middle\" x=\"36.4\" y=\"-188.3\" font-family=\"Times,serif\" font-size=\"14.00\">op</text>\n",
       "</g>\n",
       "<!-- TD_113&#45;&gt;TD_114 -->\n",
       "<g id=\"edge1\" class=\"edge\">\n",
       "<title>TD_113-&gt;TD_114</title>\n",
       "<path fill=\"none\" stroke=\"black\" d=\"M36.4,-260.8C36.4,-249.16 36.4,-233.55 36.4,-220.24\"/>\n",
       "<polygon fill=\"black\" stroke=\"black\" points=\"39.9,-220.18 36.4,-210.18 32.9,-220.18 39.9,-220.18\"/>\n",
       "<text text-anchor=\"middle\" x=\"41.9\" y=\"-231.8\" font-family=\"Times,serif\" font-size=\"14.00\"> 1</text>\n",
       "</g>\n",
       "<!-- TD_115 -->\n",
       "<g id=\"node3\" class=\"node\">\n",
       "<title>TD_115</title>\n",
       "<ellipse fill=\"none\" stroke=\"black\" cx=\"36.4\" cy=\"-105\" rx=\"27\" ry=\"18\"/>\n",
       "<text text-anchor=\"middle\" x=\"36.4\" y=\"-101.3\" font-family=\"Times,serif\" font-size=\"14.00\">op</text>\n",
       "</g>\n",
       "<!-- TD_114&#45;&gt;TD_115 -->\n",
       "<g id=\"edge2\" class=\"edge\">\n",
       "<title>TD_114-&gt;TD_115</title>\n",
       "<path fill=\"none\" stroke=\"black\" d=\"M36.4,-173.8C36.4,-162.16 36.4,-146.55 36.4,-133.24\"/>\n",
       "<polygon fill=\"black\" stroke=\"black\" points=\"39.9,-133.18 36.4,-123.18 32.9,-133.18 39.9,-133.18\"/>\n",
       "<text text-anchor=\"middle\" x=\"41.9\" y=\"-144.8\" font-family=\"Times,serif\" font-size=\"14.00\"> 2</text>\n",
       "</g>\n",
       "<!-- TD_119 -->\n",
       "<g id=\"node4\" class=\"node\">\n",
       "<title>TD_119</title>\n",
       "<ellipse fill=\"none\" stroke=\"black\" cx=\"36.4\" cy=\"-18\" rx=\"34.39\" ry=\"18\"/>\n",
       "<text text-anchor=\"middle\" x=\"36.4\" y=\"-14.3\" font-family=\"Times,serif\" font-size=\"14.00\">&lt;end&gt;</text>\n",
       "</g>\n",
       "<!-- TD_115&#45;&gt;TD_119 -->\n",
       "<g id=\"edge3\" class=\"edge\">\n",
       "<title>TD_115-&gt;TD_119</title>\n",
       "<path fill=\"none\" stroke=\"black\" d=\"M36.4,-86.8C36.4,-75.16 36.4,-59.55 36.4,-46.24\"/>\n",
       "<polygon fill=\"black\" stroke=\"black\" points=\"39.9,-46.18 36.4,-36.18 32.9,-46.18 39.9,-46.18\"/>\n",
       "<text text-anchor=\"middle\" x=\"41.9\" y=\"-57.8\" font-family=\"Times,serif\" font-size=\"14.00\"> 4</text>\n",
       "</g>\n",
       "</g>\n",
       "</svg>"
      ],
      "text/plain": [
       "<IPython.core.display.SVG object>"
      ]
     },
     "metadata": {},
     "output_type": "display_data"
    },
    {
     "data": {
      "text/plain": [
       "<trace object>"
      ]
     },
     "execution_count": 23,
     "metadata": {},
     "output_type": "execute_result"
    }
   ],
   "source": [
    "range(1,5) | (shape() & (trace(None) | op()*2 | op()**2).all()) | deref(); trace.last"
   ]
  },
  {
   "cell_type": "markdown",
   "id": "8fa6070b",
   "metadata": {},
   "source": [
    "Also very surprisingly, this works too, while I reason it shouldn't really work!"
   ]
  },
  {
   "cell_type": "code",
   "execution_count": 24,
   "id": "21c0f9cb",
   "metadata": {},
   "outputs": [
    {
     "data": {
      "text/plain": [
       "[[2, 3],\n",
       " tensor([[ 0.4503,  0.8546,  0.0058, -0.6763, -1.1065],\n",
       "         [ 1.1021,  2.1336,  2.1780,  0.4869, -2.2052],\n",
       "         [ 0.8013, -1.0374, -1.8179, -0.8116, -0.8326],\n",
       "         [-0.9083,  2.2571, -1.0835,  0.7672,  0.5099]])]"
      ]
     },
     "execution_count": 24,
     "metadata": {},
     "output_type": "execute_result"
    }
   ],
   "source": [
    "[torch.randn(2, 3), torch.randn(4, 5)] | ((trace(None) | op().shape) + iden()) | deref()"
   ]
  },
  {
   "cell_type": "markdown",
   "id": "63296af4",
   "metadata": {},
   "source": [
    "No idea how that works, but nice"
   ]
  },
  {
   "cell_type": "markdown",
   "id": "f4c070df",
   "metadata": {},
   "source": [
    "## Gotchas"
   ]
  },
  {
   "cell_type": "markdown",
   "id": "a53a6f0b",
   "metadata": {},
   "source": [
    "There aren't any other gotchas, as far as I'm aware of. Sometimes the clis will be replaced by a version that is guaranteed to return the same result, but are slightly different, to make tracing code simpler. Examples may include `applyMp` changing into `apply` (will not work if `trace()` is nested inside of `applyMp` tho, and there be dragons if you try to do so). But you need not worry about this too much."
   ]
  },
  {
   "cell_type": "code",
   "execution_count": null,
   "id": "dba9f726",
   "metadata": {},
   "outputs": [],
   "source": []
  }
 ],
 "metadata": {
  "kernelspec": {
   "display_name": "Python 3 (ipykernel)",
   "language": "python",
   "name": "python3"
  },
  "language_info": {
   "codemirror_mode": {
    "name": "ipython",
    "version": 3
   },
   "file_extension": ".py",
   "mimetype": "text/x-python",
   "name": "python",
   "nbconvert_exporter": "python",
   "pygments_lexer": "ipython3",
   "version": "3.9.13"
  }
 },
 "nbformat": 4,
 "nbformat_minor": 5
}
