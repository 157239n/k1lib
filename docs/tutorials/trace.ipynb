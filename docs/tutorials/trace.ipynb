{
 "cells": [
  {
   "cell_type": "markdown",
   "id": "9728f000",
   "metadata": {},
   "source": [
    "# `trace` cli\n",
    "\n",
    "This is essentially a demo on a single cli tool, `trace`. It allows you to inspect the stream at every point around the (likely tangled) cli operations. Let's get into it."
   ]
  },
  {
   "cell_type": "code",
   "execution_count": 1,
   "id": "61223eb1",
   "metadata": {},
   "outputs": [
    {
     "data": {
      "text/html": [
       "<style>\n",
       "    div.jp-OutputArea-output pre {white-space: pre;}\n",
       "    div.output_area pre {white-space: pre;}\n",
       "    div.CodeMirror > div.highlight {overflow-y: auto;}\n",
       "</style>"
      ],
      "text/plain": [
       "<IPython.core.display.HTML object>"
      ]
     },
     "metadata": {},
     "output_type": "display_data"
    }
   ],
   "source": [
    "from k1lib.imports import *"
   ]
  },
  {
   "cell_type": "markdown",
   "id": "3d8b522c",
   "metadata": {},
   "source": [
    "Let's start simple. Say you have an operation that calculates square of a list of numbers, like this:"
   ]
  },
  {
   "cell_type": "code",
   "execution_count": 2,
   "id": "1a1af8ee",
   "metadata": {},
   "outputs": [
    {
     "data": {
      "text/plain": [
       "[1, 4, 9, 16]"
      ]
     },
     "execution_count": 2,
     "metadata": {},
     "output_type": "execute_result"
    }
   ],
   "source": [
    "range(1, 5) | apply(op()**2) | deref()"
   ]
  },
  {
   "cell_type": "markdown",
   "id": "4acd8c0f",
   "metadata": {},
   "source": [
    "For more complex operations, it can be easy to lose track of what's what, and how the stream should look like at a particular point. So, you can just slide a `trace()` in the middle:"
   ]
  },
  {
   "cell_type": "code",
   "execution_count": 3,
   "id": "ab4748cc",
   "metadata": {},
   "outputs": [
    {
     "data": {
      "image/svg+xml": [
       "<svg xmlns=\"http://www.w3.org/2000/svg\" xmlns:xlink=\"http://www.w3.org/1999/xlink\" width=\"56pt\" height=\"213pt\" viewBox=\"0.00 0.00 80.79 305.00\">\n",
       "<g id=\"graph0\" class=\"graph\" transform=\"scale(1 1) rotate(0) translate(4 301)\">\n",
       "<polygon fill=\"white\" stroke=\"transparent\" points=\"-4,4 -4,-301 76.79,-301 76.79,4 -4,4\"/>\n",
       "<!-- TD_0 -->\n",
       "<g id=\"node1\" class=\"node\">\n",
       "<title>TD_0</title>\n",
       "<ellipse fill=\"none\" stroke=\"black\" cx=\"36.4\" cy=\"-279\" rx=\"36.29\" ry=\"18\"/>\n",
       "<text text-anchor=\"middle\" x=\"36.4\" y=\"-275.3\" font-family=\"Times,serif\" font-size=\"14.00\">&lt;start&gt;</text>\n",
       "</g>\n",
       "<!-- TD_1 -->\n",
       "<g id=\"node2\" class=\"node\">\n",
       "<title>TD_1</title>\n",
       "<ellipse fill=\"none\" stroke=\"black\" cx=\"36.4\" cy=\"-192\" rx=\"30.59\" ry=\"18\"/>\n",
       "<text text-anchor=\"middle\" x=\"36.4\" y=\"-188.3\" font-family=\"Times,serif\" font-size=\"14.00\">apply</text>\n",
       "</g>\n",
       "<!-- TD_0&#45;&gt;TD_1 -->\n",
       "<g id=\"edge1\" class=\"edge\">\n",
       "<title>TD_0-&gt;TD_1</title>\n",
       "<path fill=\"none\" stroke=\"black\" d=\"M36.4,-260.8C36.4,-249.16 36.4,-233.55 36.4,-220.24\"/>\n",
       "<polygon fill=\"black\" stroke=\"black\" points=\"39.9,-220.18 36.4,-210.18 32.9,-220.18 39.9,-220.18\"/>\n",
       "<text text-anchor=\"middle\" x=\"48.4\" y=\"-231.8\" font-family=\"Times,serif\" font-size=\"14.00\"> (4,)</text>\n",
       "</g>\n",
       "<!-- TD_2 -->\n",
       "<g id=\"node3\" class=\"node\">\n",
       "<title>TD_2</title>\n",
       "<ellipse fill=\"none\" stroke=\"black\" cx=\"36.4\" cy=\"-105\" rx=\"28.7\" ry=\"18\"/>\n",
       "<text text-anchor=\"middle\" x=\"36.4\" y=\"-101.3\" font-family=\"Times,serif\" font-size=\"14.00\">deref</text>\n",
       "</g>\n",
       "<!-- TD_1&#45;&gt;TD_2 -->\n",
       "<g id=\"edge2\" class=\"edge\">\n",
       "<title>TD_1-&gt;TD_2</title>\n",
       "<path fill=\"none\" stroke=\"black\" d=\"M36.4,-173.8C36.4,-162.16 36.4,-146.55 36.4,-133.24\"/>\n",
       "<polygon fill=\"black\" stroke=\"black\" points=\"39.9,-133.18 36.4,-123.18 32.9,-133.18 39.9,-133.18\"/>\n",
       "<text text-anchor=\"middle\" x=\"48.4\" y=\"-144.8\" font-family=\"Times,serif\" font-size=\"14.00\"> (4,)</text>\n",
       "</g>\n",
       "<!-- TD_3 -->\n",
       "<g id=\"node4\" class=\"node\">\n",
       "<title>TD_3</title>\n",
       "<ellipse fill=\"none\" stroke=\"black\" cx=\"36.4\" cy=\"-18\" rx=\"34.39\" ry=\"18\"/>\n",
       "<text text-anchor=\"middle\" x=\"36.4\" y=\"-14.3\" font-family=\"Times,serif\" font-size=\"14.00\">&lt;end&gt;</text>\n",
       "</g>\n",
       "<!-- TD_2&#45;&gt;TD_3 -->\n",
       "<g id=\"edge3\" class=\"edge\">\n",
       "<title>TD_2-&gt;TD_3</title>\n",
       "<path fill=\"none\" stroke=\"black\" d=\"M36.4,-86.8C36.4,-75.16 36.4,-59.55 36.4,-46.24\"/>\n",
       "<polygon fill=\"black\" stroke=\"black\" points=\"39.9,-46.18 36.4,-36.18 32.9,-46.18 39.9,-46.18\"/>\n",
       "<text text-anchor=\"middle\" x=\"48.4\" y=\"-57.8\" font-family=\"Times,serif\" font-size=\"14.00\"> (4,)</text>\n",
       "</g>\n",
       "</g>\n",
       "</svg>"
      ],
      "text/plain": [
       "<IPython.core.display.SVG object>"
      ]
     },
     "metadata": {},
     "output_type": "display_data"
    },
    {
     "data": {
      "text/plain": [
       "<trace object>"
      ]
     },
     "execution_count": 3,
     "metadata": {},
     "output_type": "execute_result"
    }
   ],
   "source": [
    "range(1, 5) | trace() | apply(lambda x: x**2) | deref()"
   ]
  },
  {
   "cell_type": "markdown",
   "id": "f88df2c9",
   "metadata": {},
   "source": [
    "With no arguments, this will get the shape of the stream. You can of course, pass in other displaying functions that you like. I typically just use `iden()`:"
   ]
  },
  {
   "cell_type": "code",
   "execution_count": 4,
   "id": "e2f1db96",
   "metadata": {},
   "outputs": [
    {
     "data": {
      "image/svg+xml": [
       "<svg xmlns=\"http://www.w3.org/2000/svg\" xmlns:xlink=\"http://www.w3.org/1999/xlink\" width=\"79pt\" height=\"152pt\" viewBox=\"0.00 0.00 114.40 218.00\">\n",
       "<g id=\"graph0\" class=\"graph\" transform=\"scale(1 1) rotate(0) translate(4 214)\">\n",
       "<polygon fill=\"white\" stroke=\"transparent\" points=\"-4,4 -4,-214 110.4,-214 110.4,4 -4,4\"/>\n",
       "<!-- TD_4 -->\n",
       "<g id=\"node1\" class=\"node\">\n",
       "<title>TD_4</title>\n",
       "<ellipse fill=\"none\" stroke=\"black\" cx=\"36.4\" cy=\"-192\" rx=\"36.29\" ry=\"18\"/>\n",
       "<text text-anchor=\"middle\" x=\"36.4\" y=\"-188.3\" font-family=\"Times,serif\" font-size=\"14.00\">&lt;start&gt;</text>\n",
       "</g>\n",
       "<!-- TD_5 -->\n",
       "<g id=\"node2\" class=\"node\">\n",
       "<title>TD_5</title>\n",
       "<ellipse fill=\"none\" stroke=\"black\" cx=\"36.4\" cy=\"-105\" rx=\"30.59\" ry=\"18\"/>\n",
       "<text text-anchor=\"middle\" x=\"36.4\" y=\"-101.3\" font-family=\"Times,serif\" font-size=\"14.00\">apply</text>\n",
       "</g>\n",
       "<!-- TD_4&#45;&gt;TD_5 -->\n",
       "<g id=\"edge1\" class=\"edge\">\n",
       "<title>TD_4-&gt;TD_5</title>\n",
       "<path fill=\"none\" stroke=\"black\" d=\"M36.4,-173.8C36.4,-162.16 36.4,-146.55 36.4,-133.24\"/>\n",
       "<polygon fill=\"black\" stroke=\"black\" points=\"39.9,-133.18 36.4,-123.18 32.9,-133.18 39.9,-133.18\"/>\n",
       "<text text-anchor=\"middle\" x=\"67.9\" y=\"-144.8\" font-family=\"Times,serif\" font-size=\"14.00\"> [1, 2, 3, 4]</text>\n",
       "</g>\n",
       "<!-- TD_6 -->\n",
       "<g id=\"node3\" class=\"node\">\n",
       "<title>TD_6</title>\n",
       "<ellipse fill=\"none\" stroke=\"black\" cx=\"36.4\" cy=\"-18\" rx=\"34.39\" ry=\"18\"/>\n",
       "<text text-anchor=\"middle\" x=\"36.4\" y=\"-14.3\" font-family=\"Times,serif\" font-size=\"14.00\">&lt;end&gt;</text>\n",
       "</g>\n",
       "<!-- TD_5&#45;&gt;TD_6 -->\n",
       "<g id=\"edge2\" class=\"edge\">\n",
       "<title>TD_5-&gt;TD_6</title>\n",
       "<path fill=\"none\" stroke=\"black\" d=\"M36.4,-86.8C36.4,-75.16 36.4,-59.55 36.4,-46.24\"/>\n",
       "<polygon fill=\"black\" stroke=\"black\" points=\"39.9,-46.18 36.4,-36.18 32.9,-46.18 39.9,-46.18\"/>\n",
       "<text text-anchor=\"middle\" x=\"71.4\" y=\"-57.8\" font-family=\"Times,serif\" font-size=\"14.00\"> [1, 4, 9, 16]</text>\n",
       "</g>\n",
       "</g>\n",
       "</svg>"
      ],
      "text/plain": [
       "<IPython.core.display.SVG object>"
      ]
     },
     "metadata": {},
     "output_type": "display_data"
    },
    {
     "data": {
      "text/plain": [
       "<trace object>"
      ]
     },
     "execution_count": 4,
     "metadata": {},
     "output_type": "execute_result"
    }
   ],
   "source": [
    "range(1, 5) | trace(iden()) | apply(lambda x: x**2)"
   ]
  },
  {
   "cell_type": "markdown",
   "id": "bb37abdc",
   "metadata": {},
   "source": [
    "Notice how I left out the last `deref()`. It's because it's only there to display the final value to us. But we already got that data from `trace()`, so we don't have to anymore. Let's transform it one step further:"
   ]
  },
  {
   "cell_type": "code",
   "execution_count": 5,
   "id": "30e39043",
   "metadata": {},
   "outputs": [
    {
     "data": {
      "image/svg+xml": [
       "<svg xmlns=\"http://www.w3.org/2000/svg\" xmlns:xlink=\"http://www.w3.org/1999/xlink\" width=\"86pt\" height=\"213pt\" viewBox=\"0.00 0.00 123.40 305.00\">\n",
       "<g id=\"graph0\" class=\"graph\" transform=\"scale(1 1) rotate(0) translate(4 301)\">\n",
       "<polygon fill=\"white\" stroke=\"transparent\" points=\"-4,4 -4,-301 119.4,-301 119.4,4 -4,4\"/>\n",
       "<!-- TD_7 -->\n",
       "<g id=\"node1\" class=\"node\">\n",
       "<title>TD_7</title>\n",
       "<ellipse fill=\"none\" stroke=\"black\" cx=\"36.4\" cy=\"-279\" rx=\"36.29\" ry=\"18\"/>\n",
       "<text text-anchor=\"middle\" x=\"36.4\" y=\"-275.3\" font-family=\"Times,serif\" font-size=\"14.00\">&lt;start&gt;</text>\n",
       "</g>\n",
       "<!-- TD_8 -->\n",
       "<g id=\"node2\" class=\"node\">\n",
       "<title>TD_8</title>\n",
       "<ellipse fill=\"none\" stroke=\"black\" cx=\"36.4\" cy=\"-192\" rx=\"30.59\" ry=\"18\"/>\n",
       "<text text-anchor=\"middle\" x=\"36.4\" y=\"-188.3\" font-family=\"Times,serif\" font-size=\"14.00\">apply</text>\n",
       "</g>\n",
       "<!-- TD_7&#45;&gt;TD_8 -->\n",
       "<g id=\"edge1\" class=\"edge\">\n",
       "<title>TD_7-&gt;TD_8</title>\n",
       "<path fill=\"none\" stroke=\"black\" d=\"M36.4,-260.8C36.4,-249.16 36.4,-233.55 36.4,-220.24\"/>\n",
       "<polygon fill=\"black\" stroke=\"black\" points=\"39.9,-220.18 36.4,-210.18 32.9,-220.18 39.9,-220.18\"/>\n",
       "<text text-anchor=\"middle\" x=\"67.9\" y=\"-231.8\" font-family=\"Times,serif\" font-size=\"14.00\"> [1, 2, 3, 4]</text>\n",
       "</g>\n",
       "<!-- TD_9 -->\n",
       "<g id=\"node3\" class=\"node\">\n",
       "<title>TD_9</title>\n",
       "<ellipse fill=\"none\" stroke=\"black\" cx=\"36.4\" cy=\"-105\" rx=\"30.59\" ry=\"18\"/>\n",
       "<text text-anchor=\"middle\" x=\"36.4\" y=\"-101.3\" font-family=\"Times,serif\" font-size=\"14.00\">apply</text>\n",
       "</g>\n",
       "<!-- TD_8&#45;&gt;TD_9 -->\n",
       "<g id=\"edge2\" class=\"edge\">\n",
       "<title>TD_8-&gt;TD_9</title>\n",
       "<path fill=\"none\" stroke=\"black\" d=\"M36.4,-173.8C36.4,-162.16 36.4,-146.55 36.4,-133.24\"/>\n",
       "<polygon fill=\"black\" stroke=\"black\" points=\"39.9,-133.18 36.4,-123.18 32.9,-133.18 39.9,-133.18\"/>\n",
       "<text text-anchor=\"middle\" x=\"71.4\" y=\"-144.8\" font-family=\"Times,serif\" font-size=\"14.00\"> [1, 4, 9, 16]</text>\n",
       "</g>\n",
       "<!-- TD_10 -->\n",
       "<g id=\"node4\" class=\"node\">\n",
       "<title>TD_10</title>\n",
       "<ellipse fill=\"none\" stroke=\"black\" cx=\"36.4\" cy=\"-18\" rx=\"34.39\" ry=\"18\"/>\n",
       "<text text-anchor=\"middle\" x=\"36.4\" y=\"-14.3\" font-family=\"Times,serif\" font-size=\"14.00\">&lt;end&gt;</text>\n",
       "</g>\n",
       "<!-- TD_9&#45;&gt;TD_10 -->\n",
       "<g id=\"edge3\" class=\"edge\">\n",
       "<title>TD_9-&gt;TD_10</title>\n",
       "<path fill=\"none\" stroke=\"black\" d=\"M36.4,-86.8C36.4,-75.16 36.4,-59.55 36.4,-46.24\"/>\n",
       "<polygon fill=\"black\" stroke=\"black\" points=\"39.9,-46.18 36.4,-36.18 32.9,-46.18 39.9,-46.18\"/>\n",
       "<text text-anchor=\"middle\" x=\"75.9\" y=\"-57.8\" font-family=\"Times,serif\" font-size=\"14.00\"> [-5, -2, 3, 10]</text>\n",
       "</g>\n",
       "</g>\n",
       "</svg>"
      ],
      "text/plain": [
       "<IPython.core.display.SVG object>"
      ]
     },
     "metadata": {},
     "output_type": "display_data"
    },
    {
     "data": {
      "text/plain": [
       "<trace object>"
      ]
     },
     "execution_count": 5,
     "metadata": {},
     "output_type": "execute_result"
    }
   ],
   "source": [
    "range(1, 5) | trace(iden()) | apply(lambda x: x**2) | apply(lambda x: x - 6)"
   ]
  },
  {
   "cell_type": "markdown",
   "id": "02b0ef66",
   "metadata": {},
   "source": [
    "Sweet. Let's combine the operations first, before feeding it input:"
   ]
  },
  {
   "cell_type": "code",
   "execution_count": 6,
   "id": "cb95a6e0",
   "metadata": {},
   "outputs": [
    {
     "data": {
      "image/svg+xml": [
       "<svg xmlns=\"http://www.w3.org/2000/svg\" xmlns:xlink=\"http://www.w3.org/1999/xlink\" width=\"98pt\" height=\"289pt\" viewBox=\"0.00 0.00 140.00 413.00\">\n",
       "<g id=\"graph0\" class=\"graph\" transform=\"scale(1 1) rotate(0) translate(4 409)\">\n",
       "<polygon fill=\"white\" stroke=\"transparent\" points=\"-4,4 -4,-409 136,-409 136,4 -4,4\"/>\n",
       "<g id=\"clust1\" class=\"cluster\">\n",
       "<title>cluster_0</title>\n",
       "<polygon fill=\"none\" stroke=\"black\" points=\"8,-166 8,-328 112,-328 112,-166 8,-166\"/>\n",
       "<text text-anchor=\"middle\" x=\"60\" y=\"-312.8\" font-family=\"Times,serif\" font-size=\"14.00\">|, serial</text>\n",
       "</g>\n",
       "<!-- TD_11 -->\n",
       "<g id=\"node1\" class=\"node\">\n",
       "<title>TD_11</title>\n",
       "<ellipse fill=\"none\" stroke=\"black\" cx=\"47\" cy=\"-387\" rx=\"36.29\" ry=\"18\"/>\n",
       "<text text-anchor=\"middle\" x=\"47\" y=\"-383.3\" font-family=\"Times,serif\" font-size=\"14.00\">&lt;start&gt;</text>\n",
       "</g>\n",
       "<!-- TD_13 -->\n",
       "<g id=\"node2\" class=\"node\">\n",
       "<title>TD_13</title>\n",
       "<ellipse fill=\"none\" stroke=\"black\" cx=\"47\" cy=\"-279\" rx=\"30.59\" ry=\"18\"/>\n",
       "<text text-anchor=\"middle\" x=\"47\" y=\"-275.3\" font-family=\"Times,serif\" font-size=\"14.00\">apply</text>\n",
       "</g>\n",
       "<!-- TD_11&#45;&gt;TD_13 -->\n",
       "<g id=\"edge2\" class=\"edge\">\n",
       "<title>TD_11-&gt;TD_13</title>\n",
       "<path fill=\"none\" stroke=\"black\" d=\"M47,-368.97C47,-352.38 47,-326.88 47,-307.43\"/>\n",
       "<polygon fill=\"black\" stroke=\"black\" points=\"50.5,-307.34 47,-297.34 43.5,-307.34 50.5,-307.34\"/>\n",
       "<text text-anchor=\"middle\" x=\"78.5\" y=\"-339.8\" font-family=\"Times,serif\" font-size=\"14.00\"> [1, 2, 3, 4]</text>\n",
       "</g>\n",
       "<!-- TD_14 -->\n",
       "<g id=\"node3\" class=\"node\">\n",
       "<title>TD_14</title>\n",
       "<ellipse fill=\"none\" stroke=\"black\" cx=\"47\" cy=\"-192\" rx=\"30.59\" ry=\"18\"/>\n",
       "<text text-anchor=\"middle\" x=\"47\" y=\"-188.3\" font-family=\"Times,serif\" font-size=\"14.00\">apply</text>\n",
       "</g>\n",
       "<!-- TD_13&#45;&gt;TD_14 -->\n",
       "<g id=\"edge1\" class=\"edge\">\n",
       "<title>TD_13-&gt;TD_14</title>\n",
       "<path fill=\"none\" stroke=\"black\" d=\"M47,-260.8C47,-249.16 47,-233.55 47,-220.24\"/>\n",
       "<polygon fill=\"black\" stroke=\"black\" points=\"50.5,-220.18 47,-210.18 43.5,-220.18 50.5,-220.18\"/>\n",
       "<text text-anchor=\"middle\" x=\"82\" y=\"-231.8\" font-family=\"Times,serif\" font-size=\"14.00\"> [1, 4, 9, 16]</text>\n",
       "</g>\n",
       "<!-- TD_15 -->\n",
       "<g id=\"node4\" class=\"node\">\n",
       "<title>TD_15</title>\n",
       "<ellipse fill=\"none\" stroke=\"black\" cx=\"47\" cy=\"-105\" rx=\"30.59\" ry=\"18\"/>\n",
       "<text text-anchor=\"middle\" x=\"47\" y=\"-101.3\" font-family=\"Times,serif\" font-size=\"14.00\">apply</text>\n",
       "</g>\n",
       "<!-- TD_14&#45;&gt;TD_15 -->\n",
       "<g id=\"edge3\" class=\"edge\">\n",
       "<title>TD_14-&gt;TD_15</title>\n",
       "<path fill=\"none\" stroke=\"black\" d=\"M47,-173.8C47,-162.16 47,-146.55 47,-133.24\"/>\n",
       "<polygon fill=\"black\" stroke=\"black\" points=\"50.5,-133.18 47,-123.18 43.5,-133.18 50.5,-133.18\"/>\n",
       "<text text-anchor=\"middle\" x=\"86.5\" y=\"-144.8\" font-family=\"Times,serif\" font-size=\"14.00\"> [-5, -2, 3, 10]</text>\n",
       "</g>\n",
       "<!-- TD_16 -->\n",
       "<g id=\"node5\" class=\"node\">\n",
       "<title>TD_16</title>\n",
       "<ellipse fill=\"none\" stroke=\"black\" cx=\"47\" cy=\"-18\" rx=\"34.39\" ry=\"18\"/>\n",
       "<text text-anchor=\"middle\" x=\"47\" y=\"-14.3\" font-family=\"Times,serif\" font-size=\"14.00\">&lt;end&gt;</text>\n",
       "</g>\n",
       "<!-- TD_15&#45;&gt;TD_16 -->\n",
       "<g id=\"edge4\" class=\"edge\">\n",
       "<title>TD_15-&gt;TD_16</title>\n",
       "<path fill=\"none\" stroke=\"black\" d=\"M47,-86.8C47,-75.16 47,-59.55 47,-46.24\"/>\n",
       "<polygon fill=\"black\" stroke=\"black\" points=\"50.5,-46.18 47,-36.18 43.5,-46.18 50.5,-46.18\"/>\n",
       "<text text-anchor=\"middle\" x=\"89.5\" y=\"-57.8\" font-family=\"Times,serif\" font-size=\"14.00\"> [-15, -6, 9, 30]</text>\n",
       "</g>\n",
       "</g>\n",
       "</svg>"
      ],
      "text/plain": [
       "<IPython.core.display.SVG object>"
      ]
     },
     "metadata": {},
     "output_type": "display_data"
    },
    {
     "data": {
      "text/plain": [
       "<trace object>"
      ]
     },
     "execution_count": 6,
     "metadata": {},
     "output_type": "execute_result"
    }
   ],
   "source": [
    "range(1, 5) | trace(iden()) | (apply(lambda x: x**2) | apply(lambda x: x - 6)) | apply(lambda x: x*3)"
   ]
  },
  {
   "cell_type": "markdown",
   "id": "a963ea75",
   "metadata": {},
   "source": [
    "It knows, and automatically box the operations in. You can also put `trace()` wherever you like:"
   ]
  },
  {
   "cell_type": "code",
   "execution_count": 7,
   "id": "13159a1a",
   "metadata": {},
   "outputs": [
    {
     "data": {
      "image/svg+xml": [
       "<svg xmlns=\"http://www.w3.org/2000/svg\" xmlns:xlink=\"http://www.w3.org/1999/xlink\" width=\"90pt\" height=\"152pt\" viewBox=\"0.00 0.00 129.40 218.00\">\n",
       "<g id=\"graph0\" class=\"graph\" transform=\"scale(1 1) rotate(0) translate(4 214)\">\n",
       "<polygon fill=\"white\" stroke=\"transparent\" points=\"-4,4 -4,-214 125.4,-214 125.4,4 -4,4\"/>\n",
       "<!-- TD_17 -->\n",
       "<g id=\"node1\" class=\"node\">\n",
       "<title>TD_17</title>\n",
       "<ellipse fill=\"none\" stroke=\"black\" cx=\"36.4\" cy=\"-192\" rx=\"36.29\" ry=\"18\"/>\n",
       "<text text-anchor=\"middle\" x=\"36.4\" y=\"-188.3\" font-family=\"Times,serif\" font-size=\"14.00\">&lt;start&gt;</text>\n",
       "</g>\n",
       "<!-- TD_18 -->\n",
       "<g id=\"node2\" class=\"node\">\n",
       "<title>TD_18</title>\n",
       "<ellipse fill=\"none\" stroke=\"black\" cx=\"36.4\" cy=\"-105\" rx=\"30.59\" ry=\"18\"/>\n",
       "<text text-anchor=\"middle\" x=\"36.4\" y=\"-101.3\" font-family=\"Times,serif\" font-size=\"14.00\">apply</text>\n",
       "</g>\n",
       "<!-- TD_17&#45;&gt;TD_18 -->\n",
       "<g id=\"edge1\" class=\"edge\">\n",
       "<title>TD_17-&gt;TD_18</title>\n",
       "<path fill=\"none\" stroke=\"black\" d=\"M36.4,-173.8C36.4,-162.16 36.4,-146.55 36.4,-133.24\"/>\n",
       "<polygon fill=\"black\" stroke=\"black\" points=\"39.9,-133.18 36.4,-123.18 32.9,-133.18 39.9,-133.18\"/>\n",
       "<text text-anchor=\"middle\" x=\"75.9\" y=\"-144.8\" font-family=\"Times,serif\" font-size=\"14.00\"> [-5, -2, 3, 10]</text>\n",
       "</g>\n",
       "<!-- TD_19 -->\n",
       "<g id=\"node3\" class=\"node\">\n",
       "<title>TD_19</title>\n",
       "<ellipse fill=\"none\" stroke=\"black\" cx=\"36.4\" cy=\"-18\" rx=\"34.39\" ry=\"18\"/>\n",
       "<text text-anchor=\"middle\" x=\"36.4\" y=\"-14.3\" font-family=\"Times,serif\" font-size=\"14.00\">&lt;end&gt;</text>\n",
       "</g>\n",
       "<!-- TD_18&#45;&gt;TD_19 -->\n",
       "<g id=\"edge2\" class=\"edge\">\n",
       "<title>TD_18-&gt;TD_19</title>\n",
       "<path fill=\"none\" stroke=\"black\" d=\"M36.4,-86.8C36.4,-75.16 36.4,-59.55 36.4,-46.24\"/>\n",
       "<polygon fill=\"black\" stroke=\"black\" points=\"39.9,-46.18 36.4,-36.18 32.9,-46.18 39.9,-46.18\"/>\n",
       "<text text-anchor=\"middle\" x=\"78.9\" y=\"-57.8\" font-family=\"Times,serif\" font-size=\"14.00\"> [-15, -6, 9, 30]</text>\n",
       "</g>\n",
       "</g>\n",
       "</svg>"
      ],
      "text/plain": [
       "<IPython.core.display.SVG object>"
      ]
     },
     "metadata": {},
     "output_type": "display_data"
    },
    {
     "data": {
      "text/plain": [
       "<trace object>"
      ]
     },
     "execution_count": 7,
     "metadata": {},
     "output_type": "execute_result"
    }
   ],
   "source": [
    "range(1, 5) | (apply(lambda x: x**2) | apply(lambda x: x - 6)) | trace(iden()) | apply(lambda x: x*3)"
   ]
  },
  {
   "cell_type": "markdown",
   "id": "54c0fb58",
   "metadata": {},
   "source": [
    "You can go wild with this. This is an example with `.all()`, `|`, and `op()`:"
   ]
  },
  {
   "cell_type": "code",
   "execution_count": 8,
   "id": "d9b63414",
   "metadata": {},
   "outputs": [
    {
     "data": {
      "image/svg+xml": [
       "<svg xmlns=\"http://www.w3.org/2000/svg\" xmlns:xlink=\"http://www.w3.org/1999/xlink\" width=\"214pt\" height=\"364pt\" viewBox=\"0.00 0.00 307.00 521.00\">\n",
       "<g id=\"graph0\" class=\"graph\" transform=\"scale(1 1) rotate(0) translate(4 517)\">\n",
       "<polygon fill=\"white\" stroke=\"transparent\" points=\"-4,4 -4,-517 303,-517 303,4 -4,4\"/>\n",
       "<g id=\"clust1\" class=\"cluster\">\n",
       "<title>cluster_1</title>\n",
       "<polygon fill=\"none\" stroke=\"black\" points=\"8,-79 8,-436 173,-436 173,-79 8,-79\"/>\n",
       "<text text-anchor=\"middle\" x=\"90.5\" y=\"-420.8\" font-family=\"Times,serif\" font-size=\"14.00\">.all(), manyToMany, apply</text>\n",
       "</g>\n",
       "<g id=\"clust2\" class=\"cluster\">\n",
       "<title>cluster_2</title>\n",
       "<polygon fill=\"none\" stroke=\"black\" points=\"46,-166 46,-328 126,-328 126,-166 46,-166\"/>\n",
       "<text text-anchor=\"middle\" x=\"86\" y=\"-312.8\" font-family=\"Times,serif\" font-size=\"14.00\">|, serial</text>\n",
       "</g>\n",
       "<!-- TD_20 -->\n",
       "<g id=\"node1\" class=\"node\">\n",
       "<title>TD_20</title>\n",
       "<ellipse fill=\"none\" stroke=\"black\" cx=\"86\" cy=\"-495\" rx=\"36.29\" ry=\"18\"/>\n",
       "<text text-anchor=\"middle\" x=\"86\" y=\"-491.3\" font-family=\"Times,serif\" font-size=\"14.00\">&lt;start&gt;</text>\n",
       "</g>\n",
       "<!-- TD_22 -->\n",
       "<g id=\"node2\" class=\"node\">\n",
       "<title>TD_22</title>\n",
       "<ellipse fill=\"none\" stroke=\"black\" cx=\"86\" cy=\"-387\" rx=\"27\" ry=\"18\"/>\n",
       "<text text-anchor=\"middle\" x=\"86\" y=\"-383.3\" font-family=\"Times,serif\" font-size=\"14.00\">*</text>\n",
       "</g>\n",
       "<!-- TD_20&#45;&gt;TD_22 -->\n",
       "<g id=\"edge4\" class=\"edge\">\n",
       "<title>TD_20-&gt;TD_22</title>\n",
       "<path fill=\"none\" stroke=\"black\" d=\"M86,-476.97C86,-460.38 86,-434.88 86,-415.43\"/>\n",
       "<polygon fill=\"black\" stroke=\"black\" points=\"89.5,-415.34 86,-405.34 82.5,-415.34 89.5,-415.34\"/>\n",
       "<text text-anchor=\"middle\" x=\"117.5\" y=\"-447.8\" font-family=\"Times,serif\" font-size=\"14.00\"> [1, 2, 3, 4]</text>\n",
       "</g>\n",
       "<!-- TD_24 -->\n",
       "<g id=\"node3\" class=\"node\">\n",
       "<title>TD_24</title>\n",
       "<ellipse fill=\"none\" stroke=\"black\" cx=\"86\" cy=\"-279\" rx=\"27\" ry=\"18\"/>\n",
       "<text text-anchor=\"middle\" x=\"86\" y=\"-275.3\" font-family=\"Times,serif\" font-size=\"14.00\">op</text>\n",
       "</g>\n",
       "<!-- TD_22&#45;&gt;TD_24 -->\n",
       "<g id=\"edge2\" class=\"edge\">\n",
       "<title>TD_22-&gt;TD_24</title>\n",
       "<path fill=\"none\" stroke=\"black\" d=\"M86,-368.97C86,-352.38 86,-326.88 86,-307.43\"/>\n",
       "<polygon fill=\"black\" stroke=\"black\" points=\"89.5,-307.34 86,-297.34 82.5,-307.34 89.5,-307.34\"/>\n",
       "<text text-anchor=\"middle\" x=\"91.5\" y=\"-339.8\" font-family=\"Times,serif\" font-size=\"14.00\"> 1</text>\n",
       "</g>\n",
       "<!-- TD_25 -->\n",
       "<g id=\"node4\" class=\"node\">\n",
       "<title>TD_25</title>\n",
       "<ellipse fill=\"none\" stroke=\"black\" cx=\"86\" cy=\"-192\" rx=\"32.49\" ry=\"18\"/>\n",
       "<text text-anchor=\"middle\" x=\"86\" y=\"-188.3\" font-family=\"Times,serif\" font-size=\"14.00\">repeat</text>\n",
       "</g>\n",
       "<!-- TD_24&#45;&gt;TD_25 -->\n",
       "<g id=\"edge1\" class=\"edge\">\n",
       "<title>TD_24-&gt;TD_25</title>\n",
       "<path fill=\"none\" stroke=\"black\" d=\"M86,-260.8C86,-249.16 86,-233.55 86,-220.24\"/>\n",
       "<polygon fill=\"black\" stroke=\"black\" points=\"89.5,-220.18 86,-210.18 82.5,-220.18 89.5,-220.18\"/>\n",
       "<text text-anchor=\"middle\" x=\"91.5\" y=\"-231.8\" font-family=\"Times,serif\" font-size=\"14.00\"> 2</text>\n",
       "</g>\n",
       "<!-- TD_26 -->\n",
       "<g id=\"node5\" class=\"node\">\n",
       "<title>TD_26</title>\n",
       "<ellipse fill=\"none\" stroke=\"black\" cx=\"86\" cy=\"-105\" rx=\"27\" ry=\"18\"/>\n",
       "<text text-anchor=\"middle\" x=\"86\" y=\"-101.3\" font-family=\"Times,serif\" font-size=\"14.00\">*</text>\n",
       "</g>\n",
       "<!-- TD_25&#45;&gt;TD_26 -->\n",
       "<g id=\"edge3\" class=\"edge\">\n",
       "<title>TD_25-&gt;TD_26</title>\n",
       "<path fill=\"none\" stroke=\"black\" d=\"M86,-173.8C86,-162.16 86,-146.55 86,-133.24\"/>\n",
       "<polygon fill=\"black\" stroke=\"black\" points=\"89.5,-133.18 86,-123.18 82.5,-133.18 89.5,-133.18\"/>\n",
       "<text text-anchor=\"middle\" x=\"110.5\" y=\"-144.8\" font-family=\"Times,serif\" font-size=\"14.00\"> [2, 2, 2]</text>\n",
       "</g>\n",
       "<!-- TD_27 -->\n",
       "<g id=\"node6\" class=\"node\">\n",
       "<title>TD_27</title>\n",
       "<ellipse fill=\"none\" stroke=\"black\" cx=\"86\" cy=\"-18\" rx=\"34.39\" ry=\"18\"/>\n",
       "<text text-anchor=\"middle\" x=\"86\" y=\"-14.3\" font-family=\"Times,serif\" font-size=\"14.00\">&lt;end&gt;</text>\n",
       "</g>\n",
       "<!-- TD_26&#45;&gt;TD_27 -->\n",
       "<g id=\"edge5\" class=\"edge\">\n",
       "<title>TD_26-&gt;TD_27</title>\n",
       "<path fill=\"none\" stroke=\"black\" d=\"M86,-86.8C86,-75.16 86,-59.55 86,-46.24\"/>\n",
       "<polygon fill=\"black\" stroke=\"black\" points=\"89.5,-46.18 86,-36.18 82.5,-46.18 89.5,-46.18\"/>\n",
       "<text text-anchor=\"middle\" x=\"192.5\" y=\"-57.8\" font-family=\"Times,serif\" font-size=\"14.00\"> [[2, 2, 2], [4, 4, 4], [6, 6, 6], [8, 8, 8]]</text>\n",
       "</g>\n",
       "</g>\n",
       "</svg>"
      ],
      "text/plain": [
       "<IPython.core.display.SVG object>"
      ]
     },
     "metadata": {},
     "output_type": "display_data"
    },
    {
     "data": {
      "text/plain": [
       "<trace object>"
      ]
     },
     "execution_count": 8,
     "metadata": {},
     "output_type": "execute_result"
    }
   ],
   "source": [
    "range(1,5) | trace(iden()) | (op()*2 | repeat(3)).all()"
   ]
  },
  {
   "cell_type": "markdown",
   "id": "7174588d",
   "metadata": {},
   "source": [
    "You can limit the depth of the graph, like this:"
   ]
  },
  {
   "cell_type": "code",
   "execution_count": 9,
   "id": "a2c1fa9d",
   "metadata": {},
   "outputs": [
    {
     "data": {
      "image/svg+xml": [
       "<svg xmlns=\"http://www.w3.org/2000/svg\" xmlns:xlink=\"http://www.w3.org/1999/xlink\" width=\"211pt\" height=\"289pt\" viewBox=\"0.00 0.00 302.00 413.00\">\n",
       "<g id=\"graph0\" class=\"graph\" transform=\"scale(1 1) rotate(0) translate(4 409)\">\n",
       "<polygon fill=\"white\" stroke=\"transparent\" points=\"-4,4 -4,-409 298,-409 298,4 -4,4\"/>\n",
       "<g id=\"clust1\" class=\"cluster\">\n",
       "<title>cluster_3</title>\n",
       "<polygon fill=\"none\" stroke=\"black\" points=\"8,-79 8,-328 173,-328 173,-79 8,-79\"/>\n",
       "<text text-anchor=\"middle\" x=\"90.5\" y=\"-312.8\" font-family=\"Times,serif\" font-size=\"14.00\">.all(), manyToMany, apply</text>\n",
       "</g>\n",
       "<!-- TD_28 -->\n",
       "<g id=\"node1\" class=\"node\">\n",
       "<title>TD_28</title>\n",
       "<ellipse fill=\"none\" stroke=\"black\" cx=\"81\" cy=\"-387\" rx=\"36.29\" ry=\"18\"/>\n",
       "<text text-anchor=\"middle\" x=\"81\" y=\"-383.3\" font-family=\"Times,serif\" font-size=\"14.00\">&lt;start&gt;</text>\n",
       "</g>\n",
       "<!-- TD_30 -->\n",
       "<g id=\"node2\" class=\"node\">\n",
       "<title>TD_30</title>\n",
       "<ellipse fill=\"none\" stroke=\"black\" cx=\"81\" cy=\"-279\" rx=\"27\" ry=\"18\"/>\n",
       "<text text-anchor=\"middle\" x=\"81\" y=\"-275.3\" font-family=\"Times,serif\" font-size=\"14.00\">*</text>\n",
       "</g>\n",
       "<!-- TD_28&#45;&gt;TD_30 -->\n",
       "<g id=\"edge3\" class=\"edge\">\n",
       "<title>TD_28-&gt;TD_30</title>\n",
       "<path fill=\"none\" stroke=\"black\" d=\"M81,-368.97C81,-352.38 81,-326.88 81,-307.43\"/>\n",
       "<polygon fill=\"black\" stroke=\"black\" points=\"84.5,-307.34 81,-297.34 77.5,-307.34 84.5,-307.34\"/>\n",
       "<text text-anchor=\"middle\" x=\"112.5\" y=\"-339.8\" font-family=\"Times,serif\" font-size=\"14.00\"> [1, 2, 3, 4]</text>\n",
       "</g>\n",
       "<!-- TD_31 -->\n",
       "<g id=\"node3\" class=\"node\">\n",
       "<title>TD_31</title>\n",
       "<ellipse fill=\"none\" stroke=\"black\" cx=\"81\" cy=\"-192\" rx=\"29.8\" ry=\"18\"/>\n",
       "<text text-anchor=\"middle\" x=\"81\" y=\"-188.3\" font-family=\"Times,serif\" font-size=\"14.00\">serial</text>\n",
       "</g>\n",
       "<!-- TD_30&#45;&gt;TD_31 -->\n",
       "<g id=\"edge1\" class=\"edge\">\n",
       "<title>TD_30-&gt;TD_31</title>\n",
       "<path fill=\"none\" stroke=\"black\" d=\"M81,-260.8C81,-249.16 81,-233.55 81,-220.24\"/>\n",
       "<polygon fill=\"black\" stroke=\"black\" points=\"84.5,-220.18 81,-210.18 77.5,-220.18 84.5,-220.18\"/>\n",
       "<text text-anchor=\"middle\" x=\"86.5\" y=\"-231.8\" font-family=\"Times,serif\" font-size=\"14.00\"> 1</text>\n",
       "</g>\n",
       "<!-- TD_32 -->\n",
       "<g id=\"node4\" class=\"node\">\n",
       "<title>TD_32</title>\n",
       "<ellipse fill=\"none\" stroke=\"black\" cx=\"81\" cy=\"-105\" rx=\"27\" ry=\"18\"/>\n",
       "<text text-anchor=\"middle\" x=\"81\" y=\"-101.3\" font-family=\"Times,serif\" font-size=\"14.00\">*</text>\n",
       "</g>\n",
       "<!-- TD_31&#45;&gt;TD_32 -->\n",
       "<g id=\"edge2\" class=\"edge\">\n",
       "<title>TD_31-&gt;TD_32</title>\n",
       "<path fill=\"none\" stroke=\"black\" d=\"M81,-173.8C81,-162.16 81,-146.55 81,-133.24\"/>\n",
       "<polygon fill=\"black\" stroke=\"black\" points=\"84.5,-133.18 81,-123.18 77.5,-133.18 84.5,-133.18\"/>\n",
       "<text text-anchor=\"middle\" x=\"105.5\" y=\"-144.8\" font-family=\"Times,serif\" font-size=\"14.00\"> [2, 2, 2]</text>\n",
       "</g>\n",
       "<!-- TD_33 -->\n",
       "<g id=\"node5\" class=\"node\">\n",
       "<title>TD_33</title>\n",
       "<ellipse fill=\"none\" stroke=\"black\" cx=\"81\" cy=\"-18\" rx=\"34.39\" ry=\"18\"/>\n",
       "<text text-anchor=\"middle\" x=\"81\" y=\"-14.3\" font-family=\"Times,serif\" font-size=\"14.00\">&lt;end&gt;</text>\n",
       "</g>\n",
       "<!-- TD_32&#45;&gt;TD_33 -->\n",
       "<g id=\"edge4\" class=\"edge\">\n",
       "<title>TD_32-&gt;TD_33</title>\n",
       "<path fill=\"none\" stroke=\"black\" d=\"M81,-86.8C81,-75.16 81,-59.55 81,-46.24\"/>\n",
       "<polygon fill=\"black\" stroke=\"black\" points=\"84.5,-46.18 81,-36.18 77.5,-46.18 84.5,-46.18\"/>\n",
       "<text text-anchor=\"middle\" x=\"187.5\" y=\"-57.8\" font-family=\"Times,serif\" font-size=\"14.00\"> [[2, 2, 2], [4, 4, 4], [6, 6, 6], [8, 8, 8]]</text>\n",
       "</g>\n",
       "</g>\n",
       "</svg>"
      ],
      "text/plain": [
       "<IPython.core.display.SVG object>"
      ]
     },
     "metadata": {},
     "output_type": "display_data"
    },
    {
     "data": {
      "text/plain": [
       "<trace object>"
      ]
     },
     "execution_count": 9,
     "metadata": {},
     "output_type": "execute_result"
    }
   ],
   "source": [
    "range(1,5) | trace(iden(), 1) | (op()*2 | repeat(3)).all()"
   ]
  },
  {
   "cell_type": "code",
   "execution_count": 10,
   "id": "a286dcac",
   "metadata": {},
   "outputs": [
    {
     "data": {
      "image/svg+xml": [
       "<svg xmlns=\"http://www.w3.org/2000/svg\" xmlns:xlink=\"http://www.w3.org/1999/xlink\" width=\"198pt\" height=\"152pt\" viewBox=\"0.00 0.00 282.74 218.00\">\n",
       "<g id=\"graph0\" class=\"graph\" transform=\"scale(1 1) rotate(0) translate(4 214)\">\n",
       "<polygon fill=\"white\" stroke=\"transparent\" points=\"-4,4 -4,-214 278.74,-214 278.74,4 -4,4\"/>\n",
       "<!-- TD_34 -->\n",
       "<g id=\"node1\" class=\"node\">\n",
       "<title>TD_34</title>\n",
       "<ellipse fill=\"none\" stroke=\"black\" cx=\"61.74\" cy=\"-192\" rx=\"36.29\" ry=\"18\"/>\n",
       "<text text-anchor=\"middle\" x=\"61.74\" y=\"-188.3\" font-family=\"Times,serif\" font-size=\"14.00\">&lt;start&gt;</text>\n",
       "</g>\n",
       "<!-- TD_35 -->\n",
       "<g id=\"node2\" class=\"node\">\n",
       "<title>TD_35</title>\n",
       "<ellipse fill=\"none\" stroke=\"black\" cx=\"61.74\" cy=\"-105\" rx=\"61.99\" ry=\"18\"/>\n",
       "<text text-anchor=\"middle\" x=\"61.74\" y=\"-101.3\" font-family=\"Times,serif\" font-size=\"14.00\">manyToMany</text>\n",
       "</g>\n",
       "<!-- TD_34&#45;&gt;TD_35 -->\n",
       "<g id=\"edge1\" class=\"edge\">\n",
       "<title>TD_34-&gt;TD_35</title>\n",
       "<path fill=\"none\" stroke=\"black\" d=\"M61.74,-173.8C61.74,-162.16 61.74,-146.55 61.74,-133.24\"/>\n",
       "<polygon fill=\"black\" stroke=\"black\" points=\"65.24,-133.18 61.74,-123.18 58.24,-133.18 65.24,-133.18\"/>\n",
       "<text text-anchor=\"middle\" x=\"93.24\" y=\"-144.8\" font-family=\"Times,serif\" font-size=\"14.00\"> [1, 2, 3, 4]</text>\n",
       "</g>\n",
       "<!-- TD_36 -->\n",
       "<g id=\"node3\" class=\"node\">\n",
       "<title>TD_36</title>\n",
       "<ellipse fill=\"none\" stroke=\"black\" cx=\"61.74\" cy=\"-18\" rx=\"34.39\" ry=\"18\"/>\n",
       "<text text-anchor=\"middle\" x=\"61.74\" y=\"-14.3\" font-family=\"Times,serif\" font-size=\"14.00\">&lt;end&gt;</text>\n",
       "</g>\n",
       "<!-- TD_35&#45;&gt;TD_36 -->\n",
       "<g id=\"edge2\" class=\"edge\">\n",
       "<title>TD_35-&gt;TD_36</title>\n",
       "<path fill=\"none\" stroke=\"black\" d=\"M61.74,-86.8C61.74,-75.16 61.74,-59.55 61.74,-46.24\"/>\n",
       "<polygon fill=\"black\" stroke=\"black\" points=\"65.24,-46.18 61.74,-36.18 58.24,-46.18 65.24,-46.18\"/>\n",
       "<text text-anchor=\"middle\" x=\"168.24\" y=\"-57.8\" font-family=\"Times,serif\" font-size=\"14.00\"> [[2, 2, 2], [4, 4, 4], [6, 6, 6], [8, 8, 8]]</text>\n",
       "</g>\n",
       "</g>\n",
       "</svg>"
      ],
      "text/plain": [
       "<IPython.core.display.SVG object>"
      ]
     },
     "metadata": {},
     "output_type": "display_data"
    },
    {
     "data": {
      "text/plain": [
       "<trace object>"
      ]
     },
     "execution_count": 10,
     "metadata": {},
     "output_type": "execute_result"
    }
   ],
   "source": [
    "range(1,5) | trace(iden(), 0) | (op()*2 | repeat(3)).all()"
   ]
  },
  {
   "cell_type": "markdown",
   "id": "717f97f2",
   "metadata": {},
   "source": [
    "If the graphs are too small/big, you can adjust the settings, like this:"
   ]
  },
  {
   "cell_type": "code",
   "execution_count": 11,
   "id": "49ee663c",
   "metadata": {},
   "outputs": [],
   "source": [
    "settings.svgScale = 0.7 # times graphviz's default size. Defaulted to 0.7"
   ]
  },
  {
   "cell_type": "markdown",
   "id": "2e24f5d9",
   "metadata": {},
   "source": [
    "Let's see some more complex examples:"
   ]
  },
  {
   "cell_type": "code",
   "execution_count": 12,
   "id": "b2cfe2de",
   "metadata": {},
   "outputs": [
    {
     "data": {
      "image/svg+xml": [
       "<svg xmlns=\"http://www.w3.org/2000/svg\" xmlns:xlink=\"http://www.w3.org/1999/xlink\" width=\"186pt\" height=\"501pt\" viewBox=\"0.00 0.00 267.00 716.00\">\n",
       "<g id=\"graph0\" class=\"graph\" transform=\"scale(1 1) rotate(0) translate(4 712)\">\n",
       "<polygon fill=\"white\" stroke=\"transparent\" points=\"-4,4 -4,-712 263,-712 263,4 -4,4\"/>\n",
       "<g id=\"clust1\" class=\"cluster\">\n",
       "<title>cluster_4</title>\n",
       "<polygon fill=\"none\" stroke=\"black\" points=\"8,-79 8,-631 251,-631 251,-79 8,-79\"/>\n",
       "<text text-anchor=\"middle\" x=\"129.5\" y=\"-615.8\" font-family=\"Times,serif\" font-size=\"14.00\">&amp;, oneToMany</text>\n",
       "</g>\n",
       "<g id=\"clust2\" class=\"cluster\">\n",
       "<title>cluster_5</title>\n",
       "<polygon fill=\"none\" stroke=\"black\" points=\"78,-166 78,-523 243,-523 243,-166 78,-166\"/>\n",
       "<text text-anchor=\"middle\" x=\"160.5\" y=\"-507.8\" font-family=\"Times,serif\" font-size=\"14.00\">.all(), manyToMany, apply</text>\n",
       "</g>\n",
       "<g id=\"clust3\" class=\"cluster\">\n",
       "<title>cluster_6</title>\n",
       "<polygon fill=\"none\" stroke=\"black\" points=\"87,-253 87,-415 157,-415 157,-253 87,-253\"/>\n",
       "<text text-anchor=\"middle\" x=\"122\" y=\"-399.8\" font-family=\"Times,serif\" font-size=\"14.00\">|, serial</text>\n",
       "</g>\n",
       "<!-- TD_37 -->\n",
       "<g id=\"node1\" class=\"node\">\n",
       "<title>TD_37</title>\n",
       "<ellipse fill=\"none\" stroke=\"black\" cx=\"82\" cy=\"-690\" rx=\"36.29\" ry=\"18\"/>\n",
       "<text text-anchor=\"middle\" x=\"82\" y=\"-686.3\" font-family=\"Times,serif\" font-size=\"14.00\">&lt;start&gt;</text>\n",
       "</g>\n",
       "<!-- TD_39 -->\n",
       "<g id=\"node2\" class=\"node\">\n",
       "<title>TD_39</title>\n",
       "<ellipse fill=\"none\" stroke=\"black\" cx=\"82\" cy=\"-582\" rx=\"27\" ry=\"18\"/>\n",
       "<text text-anchor=\"middle\" x=\"82\" y=\"-578.3\" font-family=\"Times,serif\" font-size=\"14.00\">*</text>\n",
       "</g>\n",
       "<!-- TD_37&#45;&gt;TD_39 -->\n",
       "<g id=\"edge8\" class=\"edge\">\n",
       "<title>TD_37-&gt;TD_39</title>\n",
       "<path fill=\"none\" stroke=\"black\" d=\"M82,-671.97C82,-655.38 82,-629.88 82,-610.43\"/>\n",
       "<polygon fill=\"black\" stroke=\"black\" points=\"85.5,-610.34 82,-600.34 78.5,-610.34 85.5,-610.34\"/>\n",
       "<text text-anchor=\"middle\" x=\"113.5\" y=\"-642.8\" font-family=\"Times,serif\" font-size=\"14.00\"> [1, 2, 3, 4]</text>\n",
       "</g>\n",
       "<!-- TD_41 -->\n",
       "<g id=\"node3\" class=\"node\">\n",
       "<title>TD_41</title>\n",
       "<ellipse fill=\"none\" stroke=\"black\" cx=\"43\" cy=\"-474\" rx=\"27\" ry=\"18\"/>\n",
       "<text text-anchor=\"middle\" x=\"43\" y=\"-470.3\" font-family=\"Times,serif\" font-size=\"14.00\">size</text>\n",
       "</g>\n",
       "<!-- TD_39&#45;&gt;TD_41 -->\n",
       "<g id=\"edge1\" class=\"edge\">\n",
       "<title>TD_39-&gt;TD_41</title>\n",
       "<path fill=\"none\" stroke=\"black\" d=\"M62.8,-569.07C55.14,-563.17 47.15,-555.31 43,-546 36.94,-532.41 36.59,-515.85 37.92,-502.14\"/>\n",
       "<polygon fill=\"black\" stroke=\"black\" points=\"41.44,-502.24 39.27,-491.87 34.5,-501.33 41.44,-502.24\"/>\n",
       "<text text-anchor=\"middle\" x=\"74.5\" y=\"-534.8\" font-family=\"Times,serif\" font-size=\"14.00\"> [1, 2, 3, 4]</text>\n",
       "</g>\n",
       "<!-- TD_43 -->\n",
       "<g id=\"node5\" class=\"node\">\n",
       "<title>TD_43</title>\n",
       "<ellipse fill=\"none\" stroke=\"black\" cx=\"124\" cy=\"-474\" rx=\"27\" ry=\"18\"/>\n",
       "<text text-anchor=\"middle\" x=\"124\" y=\"-470.3\" font-family=\"Times,serif\" font-size=\"14.00\">*</text>\n",
       "</g>\n",
       "<!-- TD_39&#45;&gt;TD_43 -->\n",
       "<g id=\"edge3\" class=\"edge\">\n",
       "<title>TD_39-&gt;TD_43</title>\n",
       "<path fill=\"none\" stroke=\"black\" d=\"M94.24,-565.68C98.46,-559.79 102.9,-552.85 106,-546 112.24,-532.19 116.57,-515.86 119.42,-502.34\"/>\n",
       "<polygon fill=\"black\" stroke=\"black\" points=\"122.92,-502.69 121.39,-492.2 116.05,-501.35 122.92,-502.69\"/>\n",
       "<text text-anchor=\"middle\" x=\"142.5\" y=\"-534.8\" font-family=\"Times,serif\" font-size=\"14.00\"> [1, 2, 3, 4]</text>\n",
       "</g>\n",
       "<!-- TD_40 -->\n",
       "<g id=\"node4\" class=\"node\">\n",
       "<title>TD_40</title>\n",
       "<ellipse fill=\"none\" stroke=\"black\" cx=\"70\" cy=\"-105\" rx=\"27\" ry=\"18\"/>\n",
       "<text text-anchor=\"middle\" x=\"70\" y=\"-101.3\" font-family=\"Times,serif\" font-size=\"14.00\">*</text>\n",
       "</g>\n",
       "<!-- TD_41&#45;&gt;TD_40 -->\n",
       "<g id=\"edge2\" class=\"edge\">\n",
       "<title>TD_41-&gt;TD_40</title>\n",
       "<path fill=\"none\" stroke=\"black\" d=\"M43.79,-455.75C44.68,-434.77 46,-398.3 46,-367 46,-367 46,-367 46,-191 46,-170.68 52.43,-148.63 58.63,-132.07\"/>\n",
       "<polygon fill=\"black\" stroke=\"black\" points=\"61.98,-133.13 62.41,-122.54 55.47,-130.55 61.98,-133.13\"/>\n",
       "<text text-anchor=\"middle\" x=\"56\" y=\"-275.3\" font-family=\"Times,serif\" font-size=\"14.00\"> [4]</text>\n",
       "</g>\n",
       "<!-- TD_48 -->\n",
       "<g id=\"node9\" class=\"node\">\n",
       "<title>TD_48</title>\n",
       "<ellipse fill=\"none\" stroke=\"black\" cx=\"70\" cy=\"-18\" rx=\"34.39\" ry=\"18\"/>\n",
       "<text text-anchor=\"middle\" x=\"70\" y=\"-14.3\" font-family=\"Times,serif\" font-size=\"14.00\">&lt;end&gt;</text>\n",
       "</g>\n",
       "<!-- TD_40&#45;&gt;TD_48 -->\n",
       "<g id=\"edge9\" class=\"edge\">\n",
       "<title>TD_40-&gt;TD_48</title>\n",
       "<path fill=\"none\" stroke=\"black\" d=\"M70,-86.8C70,-75.16 70,-59.55 70,-46.24\"/>\n",
       "<polygon fill=\"black\" stroke=\"black\" points=\"73.5,-46.18 70,-36.18 66.5,-46.18 73.5,-46.18\"/>\n",
       "<text text-anchor=\"middle\" x=\"127.5\" y=\"-57.8\" font-family=\"Times,serif\" font-size=\"14.00\"> [[4], [4, 16, 36, 64]]</text>\n",
       "</g>\n",
       "<!-- TD_45 -->\n",
       "<g id=\"node7\" class=\"node\">\n",
       "<title>TD_45</title>\n",
       "<ellipse fill=\"none\" stroke=\"black\" cx=\"122\" cy=\"-366\" rx=\"27\" ry=\"18\"/>\n",
       "<text text-anchor=\"middle\" x=\"122\" y=\"-362.3\" font-family=\"Times,serif\" font-size=\"14.00\">op</text>\n",
       "</g>\n",
       "<!-- TD_43&#45;&gt;TD_45 -->\n",
       "<g id=\"edge6\" class=\"edge\">\n",
       "<title>TD_43-&gt;TD_45</title>\n",
       "<path fill=\"none\" stroke=\"black\" d=\"M123.68,-455.97C123.37,-439.38 122.88,-413.88 122.52,-394.43\"/>\n",
       "<polygon fill=\"black\" stroke=\"black\" points=\"126.02,-394.27 122.33,-384.34 119.02,-394.4 126.02,-394.27\"/>\n",
       "<text text-anchor=\"middle\" x=\"128.5\" y=\"-426.8\" font-family=\"Times,serif\" font-size=\"14.00\"> 1</text>\n",
       "</g>\n",
       "<!-- TD_47 -->\n",
       "<g id=\"node6\" class=\"node\">\n",
       "<title>TD_47</title>\n",
       "<ellipse fill=\"none\" stroke=\"black\" cx=\"117\" cy=\"-192\" rx=\"27\" ry=\"18\"/>\n",
       "<text text-anchor=\"middle\" x=\"117\" y=\"-188.3\" font-family=\"Times,serif\" font-size=\"14.00\">*</text>\n",
       "</g>\n",
       "<!-- TD_47&#45;&gt;TD_40 -->\n",
       "<g id=\"edge4\" class=\"edge\">\n",
       "<title>TD_47-&gt;TD_40</title>\n",
       "<path fill=\"none\" stroke=\"black\" d=\"M107.94,-174.61C101.13,-162.3 91.69,-145.23 83.93,-131.19\"/>\n",
       "<polygon fill=\"black\" stroke=\"black\" points=\"86.78,-129.11 78.87,-122.05 80.65,-132.5 86.78,-129.11\"/>\n",
       "<text text-anchor=\"middle\" x=\"137.5\" y=\"-144.8\" font-family=\"Times,serif\" font-size=\"14.00\"> [4, 16, 36, 64]</text>\n",
       "</g>\n",
       "<!-- TD_46 -->\n",
       "<g id=\"node8\" class=\"node\">\n",
       "<title>TD_46</title>\n",
       "<ellipse fill=\"none\" stroke=\"black\" cx=\"122\" cy=\"-279\" rx=\"27\" ry=\"18\"/>\n",
       "<text text-anchor=\"middle\" x=\"122\" y=\"-275.3\" font-family=\"Times,serif\" font-size=\"14.00\">op</text>\n",
       "</g>\n",
       "<!-- TD_45&#45;&gt;TD_46 -->\n",
       "<g id=\"edge5\" class=\"edge\">\n",
       "<title>TD_45-&gt;TD_46</title>\n",
       "<path fill=\"none\" stroke=\"black\" d=\"M122,-347.8C122,-336.16 122,-320.55 122,-307.24\"/>\n",
       "<polygon fill=\"black\" stroke=\"black\" points=\"125.5,-307.18 122,-297.18 118.5,-307.18 125.5,-307.18\"/>\n",
       "<text text-anchor=\"middle\" x=\"127.5\" y=\"-318.8\" font-family=\"Times,serif\" font-size=\"14.00\"> 2</text>\n",
       "</g>\n",
       "<!-- TD_46&#45;&gt;TD_47 -->\n",
       "<g id=\"edge7\" class=\"edge\">\n",
       "<title>TD_46-&gt;TD_47</title>\n",
       "<path fill=\"none\" stroke=\"black\" d=\"M120.99,-260.8C120.3,-249.16 119.39,-233.55 118.6,-220.24\"/>\n",
       "<polygon fill=\"black\" stroke=\"black\" points=\"122.09,-219.95 118.01,-210.18 115.1,-220.36 122.09,-219.95\"/>\n",
       "<text text-anchor=\"middle\" x=\"124.5\" y=\"-231.8\" font-family=\"Times,serif\" font-size=\"14.00\"> 4</text>\n",
       "</g>\n",
       "</g>\n",
       "</svg>"
      ],
      "text/plain": [
       "<IPython.core.display.SVG object>"
      ]
     },
     "metadata": {},
     "output_type": "display_data"
    },
    {
     "data": {
      "text/plain": [
       "<trace object>"
      ]
     },
     "execution_count": 12,
     "metadata": {},
     "output_type": "execute_result"
    }
   ],
   "source": [
    "range(1,5) | trace(iden()) | (shape() & (op()*2 | op()**2).all())"
   ]
  },
  {
   "cell_type": "code",
   "execution_count": 13,
   "id": "d25c2c6b",
   "metadata": {},
   "outputs": [
    {
     "data": {
      "image/svg+xml": [
       "<svg xmlns=\"http://www.w3.org/2000/svg\" xmlns:xlink=\"http://www.w3.org/1999/xlink\" width=\"249pt\" height=\"308pt\" viewBox=\"0.00 0.00 356.00 440.00\">\n",
       "<g id=\"graph0\" class=\"graph\" transform=\"scale(1 1) rotate(0) translate(4 436)\">\n",
       "<polygon fill=\"white\" stroke=\"transparent\" points=\"-4,4 -4,-436 352,-436 352,4 -4,4\"/>\n",
       "<g id=\"clust1\" class=\"cluster\">\n",
       "<title>cluster_7</title>\n",
       "<polygon fill=\"none\" stroke=\"black\" points=\"8,-77 8,-355 340,-355 340,-77 8,-77\"/>\n",
       "<text text-anchor=\"middle\" x=\"174\" y=\"-339.8\" font-family=\"Times,serif\" font-size=\"14.00\">+, manyToManySpecific</text>\n",
       "</g>\n",
       "<g id=\"clust2\" class=\"cluster\">\n",
       "<title>cluster_8</title>\n",
       "<polygon fill=\"none\" stroke=\"black\" points=\"16,-85 16,-247 139,-247 139,-85 16,-85\"/>\n",
       "<text text-anchor=\"middle\" x=\"77.5\" y=\"-231.8\" font-family=\"Times,serif\" font-size=\"14.00\">filt (column: None)</text>\n",
       "</g>\n",
       "<g id=\"clust3\" class=\"cluster\">\n",
       "<title>cluster_9</title>\n",
       "<polygon fill=\"none\" stroke=\"black\" points=\"209,-85 209,-247 332,-247 332,-85 209,-85\"/>\n",
       "<text text-anchor=\"middle\" x=\"270.5\" y=\"-231.8\" font-family=\"Times,serif\" font-size=\"14.00\">filt (column: None)</text>\n",
       "</g>\n",
       "<!-- TD_49 -->\n",
       "<g id=\"node1\" class=\"node\">\n",
       "<title>TD_49</title>\n",
       "<ellipse fill=\"none\" stroke=\"black\" cx=\"150\" cy=\"-414\" rx=\"36.29\" ry=\"18\"/>\n",
       "<text text-anchor=\"middle\" x=\"150\" y=\"-410.3\" font-family=\"Times,serif\" font-size=\"14.00\">&lt;start&gt;</text>\n",
       "</g>\n",
       "<!-- TD_51 -->\n",
       "<g id=\"node2\" class=\"node\">\n",
       "<title>TD_51</title>\n",
       "<ellipse fill=\"none\" stroke=\"black\" cx=\"150\" cy=\"-306\" rx=\"27\" ry=\"18\"/>\n",
       "<text text-anchor=\"middle\" x=\"150\" y=\"-302.3\" font-family=\"Times,serif\" font-size=\"14.00\">*</text>\n",
       "</g>\n",
       "<!-- TD_49&#45;&gt;TD_51 -->\n",
       "<g id=\"edge9\" class=\"edge\">\n",
       "<title>TD_49-&gt;TD_51</title>\n",
       "<path fill=\"none\" stroke=\"black\" d=\"M150,-395.97C150,-379.38 150,-353.88 150,-334.43\"/>\n",
       "<polygon fill=\"black\" stroke=\"black\" points=\"153.5,-334.34 150,-324.34 146.5,-334.34 153.5,-334.34\"/>\n",
       "<text text-anchor=\"middle\" x=\"219\" y=\"-366.8\" font-family=\"Times,serif\" font-size=\"14.00\"> [[1, 2, 3, 4], [3, 4, 5, 6]]</text>\n",
       "</g>\n",
       "<!-- TD_53 -->\n",
       "<g id=\"node3\" class=\"node\">\n",
       "<title>TD_53</title>\n",
       "<ellipse fill=\"none\" stroke=\"black\" cx=\"86\" cy=\"-198\" rx=\"27\" ry=\"18\"/>\n",
       "<text text-anchor=\"middle\" x=\"86\" y=\"-194.3\" font-family=\"Times,serif\" font-size=\"14.00\">filt</text>\n",
       "</g>\n",
       "<!-- TD_51&#45;&gt;TD_53 -->\n",
       "<g id=\"edge1\" class=\"edge\">\n",
       "<title>TD_51-&gt;TD_53</title>\n",
       "<path fill=\"none\" stroke=\"black\" d=\"M140.28,-288.9C129.79,-271.52 112.95,-243.64 100.81,-223.53\"/>\n",
       "<polygon fill=\"black\" stroke=\"black\" points=\"103.77,-221.65 95.6,-214.9 97.77,-225.27 103.77,-221.65\"/>\n",
       "<text text-anchor=\"middle\" x=\"159.5\" y=\"-258.8\" font-family=\"Times,serif\" font-size=\"14.00\"> [1, 2, 3, 4]</text>\n",
       "</g>\n",
       "<!-- TD_55 -->\n",
       "<g id=\"node5\" class=\"node\">\n",
       "<title>TD_55</title>\n",
       "<ellipse fill=\"none\" stroke=\"black\" cx=\"245\" cy=\"-198\" rx=\"27\" ry=\"18\"/>\n",
       "<text text-anchor=\"middle\" x=\"245\" y=\"-194.3\" font-family=\"Times,serif\" font-size=\"14.00\">filt</text>\n",
       "</g>\n",
       "<!-- TD_51&#45;&gt;TD_55 -->\n",
       "<g id=\"edge3\" class=\"edge\">\n",
       "<title>TD_51-&gt;TD_55</title>\n",
       "<path fill=\"none\" stroke=\"black\" d=\"M168.55,-292.5C177.09,-286.27 187.08,-278.31 195,-270 208.4,-255.95 220.97,-238.07 230.16,-223.76\"/>\n",
       "<polygon fill=\"black\" stroke=\"black\" points=\"233.33,-225.29 235.68,-214.96 227.4,-221.57 233.33,-225.29\"/>\n",
       "<text text-anchor=\"middle\" x=\"238.5\" y=\"-258.8\" font-family=\"Times,serif\" font-size=\"14.00\"> [3, 4, 5, 6]</text>\n",
       "</g>\n",
       "<!-- TD_52 -->\n",
       "<g id=\"node4\" class=\"node\">\n",
       "<title>TD_52</title>\n",
       "<ellipse fill=\"none\" stroke=\"black\" cx=\"174\" cy=\"-111\" rx=\"27\" ry=\"18\"/>\n",
       "<text text-anchor=\"middle\" x=\"174\" y=\"-107.3\" font-family=\"Times,serif\" font-size=\"14.00\">*</text>\n",
       "</g>\n",
       "<!-- TD_53&#45;&gt;TD_52 -->\n",
       "<g id=\"edge2\" class=\"edge\">\n",
       "<title>TD_53-&gt;TD_52</title>\n",
       "<path fill=\"none\" stroke=\"black\" d=\"M100.93,-182.58C114.92,-169.07 136.01,-148.7 151.94,-133.31\"/>\n",
       "<polygon fill=\"black\" stroke=\"black\" points=\"154.53,-135.67 159.29,-126.21 149.67,-130.64 154.53,-135.67\"/>\n",
       "<text text-anchor=\"middle\" x=\"153\" y=\"-150.8\" font-family=\"Times,serif\" font-size=\"14.00\"> [2, 4]</text>\n",
       "</g>\n",
       "<!-- TD_54 -->\n",
       "<g id=\"node6\" class=\"node\">\n",
       "<title>TD_54</title>\n",
       "<ellipse fill=\"none\" stroke=\"black\" cx=\"63\" cy=\"-111\" rx=\"27\" ry=\"18\"/>\n",
       "<text text-anchor=\"middle\" x=\"63\" y=\"-107.3\" font-family=\"Times,serif\" font-size=\"14.00\">op</text>\n",
       "</g>\n",
       "<!-- TD_53&#45;&gt;TD_54 -->\n",
       "<g id=\"edge5\" class=\"edge\">\n",
       "<title>TD_53-&gt;TD_54</title>\n",
       "<path fill=\"none\" stroke=\"black\" d=\"M65.34,-185.79C56.75,-179.93 47.71,-171.91 43,-162 39.03,-153.66 41.11,-144.3 45.15,-135.97\"/>\n",
       "<polygon fill=\"black\" stroke=\"black\" points=\"48.32,-137.49 50.34,-127.09 42.27,-133.96 48.32,-137.49\"/>\n",
       "<text text-anchor=\"middle\" x=\"48.5\" y=\"-150.8\" font-family=\"Times,serif\" font-size=\"14.00\"> 1</text>\n",
       "</g>\n",
       "<!-- TD_57 -->\n",
       "<g id=\"node8\" class=\"node\">\n",
       "<title>TD_57</title>\n",
       "<ellipse fill=\"none\" stroke=\"black\" cx=\"174\" cy=\"-18\" rx=\"34.39\" ry=\"18\"/>\n",
       "<text text-anchor=\"middle\" x=\"174\" y=\"-14.3\" font-family=\"Times,serif\" font-size=\"14.00\">&lt;end&gt;</text>\n",
       "</g>\n",
       "<!-- TD_52&#45;&gt;TD_57 -->\n",
       "<g id=\"edge10\" class=\"edge\">\n",
       "<title>TD_52-&gt;TD_57</title>\n",
       "<path fill=\"none\" stroke=\"black\" d=\"M174,-92.88C174,-79.79 174,-61.48 174,-46.36\"/>\n",
       "<polygon fill=\"black\" stroke=\"black\" points=\"177.5,-46.04 174,-36.04 170.5,-46.04 177.5,-46.04\"/>\n",
       "<text text-anchor=\"middle\" x=\"214.5\" y=\"-57.8\" font-family=\"Times,serif\" font-size=\"14.00\"> [[2, 4], [3, 5]]</text>\n",
       "</g>\n",
       "<!-- TD_55&#45;&gt;TD_52 -->\n",
       "<g id=\"edge4\" class=\"edge\">\n",
       "<title>TD_55-&gt;TD_52</title>\n",
       "<path fill=\"none\" stroke=\"black\" d=\"M228.13,-183.61C220.89,-177.43 212.6,-169.76 206,-162 199.43,-154.27 193.19,-145.1 187.98,-136.73\"/>\n",
       "<polygon fill=\"black\" stroke=\"black\" points=\"190.93,-134.84 182.78,-128.07 184.93,-138.45 190.93,-134.84\"/>\n",
       "<text text-anchor=\"middle\" x=\"223\" y=\"-150.8\" font-family=\"Times,serif\" font-size=\"14.00\"> [3, 5]</text>\n",
       "</g>\n",
       "<!-- TD_56 -->\n",
       "<g id=\"node7\" class=\"node\">\n",
       "<title>TD_56</title>\n",
       "<ellipse fill=\"none\" stroke=\"black\" cx=\"263\" cy=\"-111\" rx=\"27\" ry=\"18\"/>\n",
       "<text text-anchor=\"middle\" x=\"263\" y=\"-107.3\" font-family=\"Times,serif\" font-size=\"14.00\">op</text>\n",
       "</g>\n",
       "<!-- TD_55&#45;&gt;TD_56 -->\n",
       "<g id=\"edge7\" class=\"edge\">\n",
       "<title>TD_55-&gt;TD_56</title>\n",
       "<path fill=\"none\" stroke=\"black\" d=\"M244.06,-179.65C243.93,-169.93 244.46,-157.65 247,-147 247.74,-143.92 248.75,-140.77 249.91,-137.7\"/>\n",
       "<polygon fill=\"black\" stroke=\"black\" points=\"253.23,-138.83 253.98,-128.26 246.81,-136.06 253.23,-138.83\"/>\n",
       "<text text-anchor=\"middle\" x=\"252.5\" y=\"-150.8\" font-family=\"Times,serif\" font-size=\"14.00\"> 3</text>\n",
       "</g>\n",
       "<!-- TD_54&#45;&gt;TD_53 -->\n",
       "<g id=\"edge6\" class=\"edge\">\n",
       "<title>TD_54-&gt;TD_53</title>\n",
       "<path fill=\"none\" stroke=\"black\" d=\"M67.35,-129.15C69.83,-138.81 73.03,-151.1 76,-162 76.76,-164.8 77.58,-167.72 78.39,-170.63\"/>\n",
       "<polygon fill=\"black\" stroke=\"black\" points=\"75.04,-171.63 81.14,-180.29 81.77,-169.71 75.04,-171.63\"/>\n",
       "<text text-anchor=\"middle\" x=\"92.5\" y=\"-150.8\" font-family=\"Times,serif\" font-size=\"14.00\"> False</text>\n",
       "</g>\n",
       "<!-- TD_56&#45;&gt;TD_55 -->\n",
       "<g id=\"edge8\" class=\"edge\">\n",
       "<title>TD_56-&gt;TD_55</title>\n",
       "<path fill=\"none\" stroke=\"black\" d=\"M262.36,-129.3C261.73,-139.01 260.48,-151.29 258,-162 257.33,-164.9 256.48,-167.89 255.54,-170.84\"/>\n",
       "<polygon fill=\"black\" stroke=\"black\" points=\"252.14,-169.94 252.1,-180.53 258.74,-172.27 252.14,-169.94\"/>\n",
       "<text text-anchor=\"middle\" x=\"274.5\" y=\"-150.8\" font-family=\"Times,serif\" font-size=\"14.00\"> True</text>\n",
       "</g>\n",
       "</g>\n",
       "</svg>"
      ],
      "text/plain": [
       "<IPython.core.display.SVG object>"
      ]
     },
     "metadata": {},
     "output_type": "display_data"
    },
    {
     "data": {
      "text/plain": [
       "<trace object>"
      ]
     },
     "execution_count": 13,
     "metadata": {},
     "output_type": "execute_result"
    }
   ],
   "source": [
    "[range(1, 5), range(3, 7)] | trace(iden()) | (filt(op() % 2 == 0) + filt(op() % 2 == 1))"
   ]
  },
  {
   "cell_type": "code",
   "execution_count": 14,
   "id": "f2dfa759",
   "metadata": {},
   "outputs": [
    {
     "data": {
      "image/svg+xml": [
       "<svg xmlns=\"http://www.w3.org/2000/svg\" xmlns:xlink=\"http://www.w3.org/1999/xlink\" width=\"231pt\" height=\"623pt\" viewBox=\"0.00 0.00 331.00 890.00\">\n",
       "<g id=\"graph0\" class=\"graph\" transform=\"scale(1 1) rotate(0) translate(4 886)\">\n",
       "<polygon fill=\"white\" stroke=\"transparent\" points=\"-4,4 -4,-886 327,-886 327,4 -4,4\"/>\n",
       "<g id=\"clust1\" class=\"cluster\">\n",
       "<title>cluster_10</title>\n",
       "<polygon fill=\"none\" stroke=\"black\" points=\"8,-166 8,-805 294,-805 294,-166 8,-166\"/>\n",
       "<text text-anchor=\"middle\" x=\"151\" y=\"-789.8\" font-family=\"Times,serif\" font-size=\"14.00\">.all(), manyToMany, apply</text>\n",
       "</g>\n",
       "<g id=\"clust2\" class=\"cluster\">\n",
       "<title>cluster_11</title>\n",
       "<polygon fill=\"none\" stroke=\"black\" points=\"16,-253 16,-697 286,-697 286,-253 16,-253\"/>\n",
       "<text text-anchor=\"middle\" x=\"151\" y=\"-681.8\" font-family=\"Times,serif\" font-size=\"14.00\">&amp;, oneToMany</text>\n",
       "</g>\n",
       "<g id=\"clust3\" class=\"cluster\">\n",
       "<title>cluster_12</title>\n",
       "<polygon fill=\"none\" stroke=\"black\" points=\"113,-340 113,-589 278,-589 278,-340 113,-340\"/>\n",
       "<text text-anchor=\"middle\" x=\"195.5\" y=\"-573.8\" font-family=\"Times,serif\" font-size=\"14.00\">.all(), manyToMany, apply</text>\n",
       "</g>\n",
       "<!-- TD_58 -->\n",
       "<g id=\"node1\" class=\"node\">\n",
       "<title>TD_58</title>\n",
       "<ellipse fill=\"none\" stroke=\"black\" cx=\"58\" cy=\"-864\" rx=\"36.29\" ry=\"18\"/>\n",
       "<text text-anchor=\"middle\" x=\"58\" y=\"-860.3\" font-family=\"Times,serif\" font-size=\"14.00\">&lt;start&gt;</text>\n",
       "</g>\n",
       "<!-- TD_60 -->\n",
       "<g id=\"node2\" class=\"node\">\n",
       "<title>TD_60</title>\n",
       "<ellipse fill=\"none\" stroke=\"black\" cx=\"58\" cy=\"-756\" rx=\"27\" ry=\"18\"/>\n",
       "<text text-anchor=\"middle\" x=\"58\" y=\"-752.3\" font-family=\"Times,serif\" font-size=\"14.00\">*</text>\n",
       "</g>\n",
       "<!-- TD_58&#45;&gt;TD_60 -->\n",
       "<g id=\"edge9\" class=\"edge\">\n",
       "<title>TD_58-&gt;TD_60</title>\n",
       "<path fill=\"none\" stroke=\"black\" d=\"M58,-845.97C58,-829.38 58,-803.88 58,-784.43\"/>\n",
       "<polygon fill=\"black\" stroke=\"black\" points=\"61.5,-784.34 58,-774.34 54.5,-784.34 61.5,-784.34\"/>\n",
       "<text text-anchor=\"middle\" x=\"127\" y=\"-816.8\" font-family=\"Times,serif\" font-size=\"14.00\"> [[1, 2, 3, 4], [3, 4, 5, 6]]</text>\n",
       "</g>\n",
       "<!-- TD_62 -->\n",
       "<g id=\"node3\" class=\"node\">\n",
       "<title>TD_62</title>\n",
       "<ellipse fill=\"none\" stroke=\"black\" cx=\"58\" cy=\"-648\" rx=\"27\" ry=\"18\"/>\n",
       "<text text-anchor=\"middle\" x=\"58\" y=\"-644.3\" font-family=\"Times,serif\" font-size=\"14.00\">*</text>\n",
       "</g>\n",
       "<!-- TD_60&#45;&gt;TD_62 -->\n",
       "<g id=\"edge7\" class=\"edge\">\n",
       "<title>TD_60-&gt;TD_62</title>\n",
       "<path fill=\"none\" stroke=\"black\" d=\"M58,-737.97C58,-721.38 58,-695.88 58,-676.43\"/>\n",
       "<polygon fill=\"black\" stroke=\"black\" points=\"61.5,-676.34 58,-666.34 54.5,-676.34 61.5,-676.34\"/>\n",
       "<text text-anchor=\"middle\" x=\"89.5\" y=\"-708.8\" font-family=\"Times,serif\" font-size=\"14.00\"> [1, 2, 3, 4]</text>\n",
       "</g>\n",
       "<!-- TD_64 -->\n",
       "<g id=\"node4\" class=\"node\">\n",
       "<title>TD_64</title>\n",
       "<ellipse fill=\"none\" stroke=\"black\" cx=\"63\" cy=\"-366\" rx=\"27\" ry=\"18\"/>\n",
       "<text text-anchor=\"middle\" x=\"63\" y=\"-362.3\" font-family=\"Times,serif\" font-size=\"14.00\">size</text>\n",
       "</g>\n",
       "<!-- TD_62&#45;&gt;TD_64 -->\n",
       "<g id=\"edge1\" class=\"edge\">\n",
       "<title>TD_62-&gt;TD_64</title>\n",
       "<path fill=\"none\" stroke=\"black\" d=\"M55.08,-629.94C50.48,-600.97 42.44,-540.32 46,-489 48.28,-456.11 53.98,-418.58 58.15,-393.93\"/>\n",
       "<polygon fill=\"black\" stroke=\"black\" points=\"61.63,-394.35 59.89,-383.9 54.74,-393.15 61.63,-394.35\"/>\n",
       "<text text-anchor=\"middle\" x=\"77.5\" y=\"-492.8\" font-family=\"Times,serif\" font-size=\"14.00\"> [1, 2, 3, 4]</text>\n",
       "</g>\n",
       "<!-- TD_66 -->\n",
       "<g id=\"node6\" class=\"node\">\n",
       "<title>TD_66</title>\n",
       "<ellipse fill=\"none\" stroke=\"black\" cx=\"148\" cy=\"-540\" rx=\"27\" ry=\"18\"/>\n",
       "<text text-anchor=\"middle\" x=\"148\" y=\"-536.3\" font-family=\"Times,serif\" font-size=\"14.00\">*</text>\n",
       "</g>\n",
       "<!-- TD_62&#45;&gt;TD_66 -->\n",
       "<g id=\"edge3\" class=\"edge\">\n",
       "<title>TD_62-&gt;TD_66</title>\n",
       "<path fill=\"none\" stroke=\"black\" d=\"M73.73,-633.31C86.19,-622.06 103.66,-605.37 117,-589 122.85,-581.81 128.57,-573.48 133.46,-565.79\"/>\n",
       "<polygon fill=\"black\" stroke=\"black\" points=\"136.5,-567.52 138.78,-557.17 130.55,-563.84 136.5,-567.52\"/>\n",
       "<text text-anchor=\"middle\" x=\"140.5\" y=\"-600.8\" font-family=\"Times,serif\" font-size=\"14.00\"> [1, 2, 3, 4]</text>\n",
       "</g>\n",
       "<!-- TD_63 -->\n",
       "<g id=\"node5\" class=\"node\">\n",
       "<title>TD_63</title>\n",
       "<ellipse fill=\"none\" stroke=\"black\" cx=\"94\" cy=\"-279\" rx=\"27\" ry=\"18\"/>\n",
       "<text text-anchor=\"middle\" x=\"94\" y=\"-275.3\" font-family=\"Times,serif\" font-size=\"14.00\">*</text>\n",
       "</g>\n",
       "<!-- TD_64&#45;&gt;TD_63 -->\n",
       "<g id=\"edge2\" class=\"edge\">\n",
       "<title>TD_64-&gt;TD_63</title>\n",
       "<path fill=\"none\" stroke=\"black\" d=\"M69.12,-348.21C73.5,-336.22 79.47,-319.85 84.46,-306.16\"/>\n",
       "<polygon fill=\"black\" stroke=\"black\" points=\"87.75,-307.35 87.89,-296.76 81.17,-304.95 87.75,-307.35\"/>\n",
       "<text text-anchor=\"middle\" x=\"90\" y=\"-318.8\" font-family=\"Times,serif\" font-size=\"14.00\"> [4]</text>\n",
       "</g>\n",
       "<!-- TD_69 -->\n",
       "<g id=\"node9\" class=\"node\">\n",
       "<title>TD_69</title>\n",
       "<ellipse fill=\"none\" stroke=\"black\" cx=\"94\" cy=\"-192\" rx=\"27\" ry=\"18\"/>\n",
       "<text text-anchor=\"middle\" x=\"94\" y=\"-188.3\" font-family=\"Times,serif\" font-size=\"14.00\">*</text>\n",
       "</g>\n",
       "<!-- TD_63&#45;&gt;TD_69 -->\n",
       "<g id=\"edge8\" class=\"edge\">\n",
       "<title>TD_63-&gt;TD_69</title>\n",
       "<path fill=\"none\" stroke=\"black\" d=\"M94,-260.8C94,-249.16 94,-233.55 94,-220.24\"/>\n",
       "<polygon fill=\"black\" stroke=\"black\" points=\"97.5,-220.18 94,-210.18 90.5,-220.18 97.5,-220.18\"/>\n",
       "<text text-anchor=\"middle\" x=\"145\" y=\"-231.8\" font-family=\"Times,serif\" font-size=\"14.00\"> [[4], [1, 4, 9, 16]]</text>\n",
       "</g>\n",
       "<!-- TD_67 -->\n",
       "<g id=\"node8\" class=\"node\">\n",
       "<title>TD_67</title>\n",
       "<ellipse fill=\"none\" stroke=\"black\" cx=\"148\" cy=\"-453\" rx=\"27\" ry=\"18\"/>\n",
       "<text text-anchor=\"middle\" x=\"148\" y=\"-449.3\" font-family=\"Times,serif\" font-size=\"14.00\">op</text>\n",
       "</g>\n",
       "<!-- TD_66&#45;&gt;TD_67 -->\n",
       "<g id=\"edge5\" class=\"edge\">\n",
       "<title>TD_66-&gt;TD_67</title>\n",
       "<path fill=\"none\" stroke=\"black\" d=\"M148,-521.8C148,-510.16 148,-494.55 148,-481.24\"/>\n",
       "<polygon fill=\"black\" stroke=\"black\" points=\"151.5,-481.18 148,-471.18 144.5,-481.18 151.5,-481.18\"/>\n",
       "<text text-anchor=\"middle\" x=\"153.5\" y=\"-492.8\" font-family=\"Times,serif\" font-size=\"14.00\"> 1</text>\n",
       "</g>\n",
       "<!-- TD_68 -->\n",
       "<g id=\"node7\" class=\"node\">\n",
       "<title>TD_68</title>\n",
       "<ellipse fill=\"none\" stroke=\"black\" cx=\"148\" cy=\"-366\" rx=\"27\" ry=\"18\"/>\n",
       "<text text-anchor=\"middle\" x=\"148\" y=\"-362.3\" font-family=\"Times,serif\" font-size=\"14.00\">*</text>\n",
       "</g>\n",
       "<!-- TD_68&#45;&gt;TD_63 -->\n",
       "<g id=\"edge4\" class=\"edge\">\n",
       "<title>TD_68-&gt;TD_63</title>\n",
       "<path fill=\"none\" stroke=\"black\" d=\"M137.84,-349.01C129.92,-336.55 118.78,-319.01 109.72,-304.74\"/>\n",
       "<polygon fill=\"black\" stroke=\"black\" points=\"112.43,-302.48 104.11,-295.92 106.52,-306.23 112.43,-302.48\"/>\n",
       "<text text-anchor=\"middle\" x=\"159\" y=\"-318.8\" font-family=\"Times,serif\" font-size=\"14.00\"> [1, 4, 9, 16]</text>\n",
       "</g>\n",
       "<!-- TD_67&#45;&gt;TD_68 -->\n",
       "<g id=\"edge6\" class=\"edge\">\n",
       "<title>TD_67-&gt;TD_68</title>\n",
       "<path fill=\"none\" stroke=\"black\" d=\"M148,-434.8C148,-423.16 148,-407.55 148,-394.24\"/>\n",
       "<polygon fill=\"black\" stroke=\"black\" points=\"151.5,-394.18 148,-384.18 144.5,-394.18 151.5,-394.18\"/>\n",
       "<text text-anchor=\"middle\" x=\"153.5\" y=\"-405.8\" font-family=\"Times,serif\" font-size=\"14.00\"> 1</text>\n",
       "</g>\n",
       "<!-- TD_70 -->\n",
       "<g id=\"node10\" class=\"node\">\n",
       "<title>TD_70</title>\n",
       "<ellipse fill=\"none\" stroke=\"black\" cx=\"94\" cy=\"-105\" rx=\"28.7\" ry=\"18\"/>\n",
       "<text text-anchor=\"middle\" x=\"94\" y=\"-101.3\" font-family=\"Times,serif\" font-size=\"14.00\">deref</text>\n",
       "</g>\n",
       "<!-- TD_69&#45;&gt;TD_70 -->\n",
       "<g id=\"edge10\" class=\"edge\">\n",
       "<title>TD_69-&gt;TD_70</title>\n",
       "<path fill=\"none\" stroke=\"black\" d=\"M94,-173.8C94,-162.16 94,-146.55 94,-133.24\"/>\n",
       "<polygon fill=\"black\" stroke=\"black\" points=\"97.5,-133.18 94,-123.18 90.5,-133.18 97.5,-133.18\"/>\n",
       "<text text-anchor=\"middle\" x=\"208.5\" y=\"-144.8\" font-family=\"Times,serif\" font-size=\"14.00\"> [[[4], [1, 4, 9, 16]], [[4], [9, 16, 25, 36]]]</text>\n",
       "</g>\n",
       "<!-- TD_71 -->\n",
       "<g id=\"node11\" class=\"node\">\n",
       "<title>TD_71</title>\n",
       "<ellipse fill=\"none\" stroke=\"black\" cx=\"94\" cy=\"-18\" rx=\"34.39\" ry=\"18\"/>\n",
       "<text text-anchor=\"middle\" x=\"94\" y=\"-14.3\" font-family=\"Times,serif\" font-size=\"14.00\">&lt;end&gt;</text>\n",
       "</g>\n",
       "<!-- TD_70&#45;&gt;TD_71 -->\n",
       "<g id=\"edge11\" class=\"edge\">\n",
       "<title>TD_70-&gt;TD_71</title>\n",
       "<path fill=\"none\" stroke=\"black\" d=\"M94,-86.8C94,-75.16 94,-59.55 94,-46.24\"/>\n",
       "<polygon fill=\"black\" stroke=\"black\" points=\"97.5,-46.18 94,-36.18 90.5,-46.18 97.5,-46.18\"/>\n",
       "<text text-anchor=\"middle\" x=\"208.5\" y=\"-57.8\" font-family=\"Times,serif\" font-size=\"14.00\"> [[[4], [1, 4, 9, 16]], [[4], [9, 16, 25, 36]]]</text>\n",
       "</g>\n",
       "</g>\n",
       "</svg>"
      ],
      "text/plain": [
       "<IPython.core.display.SVG object>"
      ]
     },
     "metadata": {},
     "output_type": "display_data"
    },
    {
     "data": {
      "text/plain": [
       "<trace object>"
      ]
     },
     "execution_count": 14,
     "metadata": {},
     "output_type": "execute_result"
    }
   ],
   "source": [
    "[range(1, 5), range(3, 7)] | trace(iden()) | ((shape() & (op()**2).all())).all() | deref()"
   ]
  },
  {
   "cell_type": "code",
   "execution_count": 15,
   "id": "42cb5186",
   "metadata": {},
   "outputs": [
    {
     "data": {
      "image/svg+xml": [
       "<svg xmlns=\"http://www.w3.org/2000/svg\" xmlns:xlink=\"http://www.w3.org/1999/xlink\" width=\"143pt\" height=\"669pt\" viewBox=\"0.00 0.00 205.00 956.00\">\n",
       "<g id=\"graph0\" class=\"graph\" transform=\"scale(1 1) rotate(0) translate(4 952)\">\n",
       "<polygon fill=\"white\" stroke=\"transparent\" points=\"-4,4 -4,-952 201,-952 201,4 -4,4\"/>\n",
       "<g id=\"clust1\" class=\"cluster\">\n",
       "<title>cluster_13</title>\n",
       "<polygon fill=\"none\" stroke=\"black\" points=\"8,-340 8,-784 189,-784 189,-340 8,-340\"/>\n",
       "<text text-anchor=\"middle\" x=\"98.5\" y=\"-768.8\" font-family=\"Times,serif\" font-size=\"14.00\">.all(), manyToMany, apply</text>\n",
       "</g>\n",
       "<g id=\"clust2\" class=\"cluster\">\n",
       "<title>cluster_14</title>\n",
       "<polygon fill=\"none\" stroke=\"black\" points=\"16,-427 16,-676 181,-676 181,-427 16,-427\"/>\n",
       "<text text-anchor=\"middle\" x=\"98.5\" y=\"-660.8\" font-family=\"Times,serif\" font-size=\"14.00\">.all(), manyToMany, apply</text>\n",
       "</g>\n",
       "<!-- TD_72 -->\n",
       "<g id=\"node1\" class=\"node\">\n",
       "<title>TD_72</title>\n",
       "<ellipse fill=\"none\" stroke=\"black\" cx=\"98\" cy=\"-930\" rx=\"36.29\" ry=\"18\"/>\n",
       "<text text-anchor=\"middle\" x=\"98\" y=\"-926.3\" font-family=\"Times,serif\" font-size=\"14.00\">&lt;start&gt;</text>\n",
       "</g>\n",
       "<!-- TD_73 -->\n",
       "<g id=\"node2\" class=\"node\">\n",
       "<title>TD_73</title>\n",
       "<ellipse fill=\"none\" stroke=\"black\" cx=\"98\" cy=\"-843\" rx=\"44.39\" ry=\"18\"/>\n",
       "<text text-anchor=\"middle\" x=\"98\" y=\"-839.3\" font-family=\"Times,serif\" font-size=\"14.00\">transpose</text>\n",
       "</g>\n",
       "<!-- TD_72&#45;&gt;TD_73 -->\n",
       "<g id=\"edge1\" class=\"edge\">\n",
       "<title>TD_72-&gt;TD_73</title>\n",
       "<path fill=\"none\" stroke=\"black\" d=\"M98,-911.8C98,-900.16 98,-884.55 98,-871.24\"/>\n",
       "<polygon fill=\"black\" stroke=\"black\" points=\"101.5,-871.18 98,-861.18 94.5,-871.18 101.5,-871.18\"/>\n",
       "<text text-anchor=\"middle\" x=\"122.5\" y=\"-882.8\" font-family=\"Times,serif\" font-size=\"14.00\"> (2, 3, 4)</text>\n",
       "</g>\n",
       "<!-- TD_75 -->\n",
       "<g id=\"node3\" class=\"node\">\n",
       "<title>TD_75</title>\n",
       "<ellipse fill=\"none\" stroke=\"black\" cx=\"98\" cy=\"-735\" rx=\"27\" ry=\"18\"/>\n",
       "<text text-anchor=\"middle\" x=\"98\" y=\"-731.3\" font-family=\"Times,serif\" font-size=\"14.00\">*</text>\n",
       "</g>\n",
       "<!-- TD_73&#45;&gt;TD_75 -->\n",
       "<g id=\"edge6\" class=\"edge\">\n",
       "<title>TD_73-&gt;TD_75</title>\n",
       "<path fill=\"none\" stroke=\"black\" d=\"M98,-824.97C98,-808.38 98,-782.88 98,-763.43\"/>\n",
       "<polygon fill=\"black\" stroke=\"black\" points=\"101.5,-763.34 98,-753.34 94.5,-763.34 101.5,-763.34\"/>\n",
       "<text text-anchor=\"middle\" x=\"122.5\" y=\"-795.8\" font-family=\"Times,serif\" font-size=\"14.00\"> (3, 2, 4)</text>\n",
       "</g>\n",
       "<!-- TD_77 -->\n",
       "<g id=\"node4\" class=\"node\">\n",
       "<title>TD_77</title>\n",
       "<ellipse fill=\"none\" stroke=\"black\" cx=\"98\" cy=\"-627\" rx=\"27\" ry=\"18\"/>\n",
       "<text text-anchor=\"middle\" x=\"98\" y=\"-623.3\" font-family=\"Times,serif\" font-size=\"14.00\">*</text>\n",
       "</g>\n",
       "<!-- TD_75&#45;&gt;TD_77 -->\n",
       "<g id=\"edge4\" class=\"edge\">\n",
       "<title>TD_75-&gt;TD_77</title>\n",
       "<path fill=\"none\" stroke=\"black\" d=\"M98,-716.97C98,-700.38 98,-674.88 98,-655.43\"/>\n",
       "<polygon fill=\"black\" stroke=\"black\" points=\"101.5,-655.34 98,-645.34 94.5,-655.34 101.5,-655.34\"/>\n",
       "<text text-anchor=\"middle\" x=\"115\" y=\"-687.8\" font-family=\"Times,serif\" font-size=\"14.00\"> (2, 4)</text>\n",
       "</g>\n",
       "<!-- TD_78 -->\n",
       "<g id=\"node5\" class=\"node\">\n",
       "<title>TD_78</title>\n",
       "<ellipse fill=\"none\" stroke=\"black\" cx=\"98\" cy=\"-540\" rx=\"42.49\" ry=\"18\"/>\n",
       "<text text-anchor=\"middle\" x=\"98\" y=\"-536.3\" font-family=\"Times,serif\" font-size=\"14.00\">wrapList</text>\n",
       "</g>\n",
       "<!-- TD_77&#45;&gt;TD_78 -->\n",
       "<g id=\"edge2\" class=\"edge\">\n",
       "<title>TD_77-&gt;TD_78</title>\n",
       "<path fill=\"none\" stroke=\"black\" d=\"M98,-608.8C98,-597.16 98,-581.55 98,-568.24\"/>\n",
       "<polygon fill=\"black\" stroke=\"black\" points=\"101.5,-568.18 98,-558.18 94.5,-568.18 101.5,-568.18\"/>\n",
       "<text text-anchor=\"middle\" x=\"110\" y=\"-579.8\" font-family=\"Times,serif\" font-size=\"14.00\"> (4,)</text>\n",
       "</g>\n",
       "<!-- TD_79 -->\n",
       "<g id=\"node6\" class=\"node\">\n",
       "<title>TD_79</title>\n",
       "<ellipse fill=\"none\" stroke=\"black\" cx=\"98\" cy=\"-453\" rx=\"27\" ry=\"18\"/>\n",
       "<text text-anchor=\"middle\" x=\"98\" y=\"-449.3\" font-family=\"Times,serif\" font-size=\"14.00\">*</text>\n",
       "</g>\n",
       "<!-- TD_78&#45;&gt;TD_79 -->\n",
       "<g id=\"edge3\" class=\"edge\">\n",
       "<title>TD_78-&gt;TD_79</title>\n",
       "<path fill=\"none\" stroke=\"black\" d=\"M98,-521.8C98,-510.16 98,-494.55 98,-481.24\"/>\n",
       "<polygon fill=\"black\" stroke=\"black\" points=\"101.5,-481.18 98,-471.18 94.5,-481.18 101.5,-481.18\"/>\n",
       "<text text-anchor=\"middle\" x=\"115\" y=\"-492.8\" font-family=\"Times,serif\" font-size=\"14.00\"> (1, 4)</text>\n",
       "</g>\n",
       "<!-- TD_80 -->\n",
       "<g id=\"node7\" class=\"node\">\n",
       "<title>TD_80</title>\n",
       "<ellipse fill=\"none\" stroke=\"black\" cx=\"98\" cy=\"-366\" rx=\"27\" ry=\"18\"/>\n",
       "<text text-anchor=\"middle\" x=\"98\" y=\"-362.3\" font-family=\"Times,serif\" font-size=\"14.00\">*</text>\n",
       "</g>\n",
       "<!-- TD_79&#45;&gt;TD_80 -->\n",
       "<g id=\"edge5\" class=\"edge\">\n",
       "<title>TD_79-&gt;TD_80</title>\n",
       "<path fill=\"none\" stroke=\"black\" d=\"M98,-434.8C98,-423.16 98,-407.55 98,-394.24\"/>\n",
       "<polygon fill=\"black\" stroke=\"black\" points=\"101.5,-394.18 98,-384.18 94.5,-394.18 101.5,-394.18\"/>\n",
       "<text text-anchor=\"middle\" x=\"122.5\" y=\"-405.8\" font-family=\"Times,serif\" font-size=\"14.00\"> (2, 1, 4)</text>\n",
       "</g>\n",
       "<!-- TD_81 -->\n",
       "<g id=\"node8\" class=\"node\">\n",
       "<title>TD_81</title>\n",
       "<ellipse fill=\"none\" stroke=\"black\" cx=\"98\" cy=\"-279\" rx=\"28.7\" ry=\"18\"/>\n",
       "<text text-anchor=\"middle\" x=\"98\" y=\"-275.3\" font-family=\"Times,serif\" font-size=\"14.00\">deref</text>\n",
       "</g>\n",
       "<!-- TD_80&#45;&gt;TD_81 -->\n",
       "<g id=\"edge7\" class=\"edge\">\n",
       "<title>TD_80-&gt;TD_81</title>\n",
       "<path fill=\"none\" stroke=\"black\" d=\"M98,-347.8C98,-336.16 98,-320.55 98,-307.24\"/>\n",
       "<polygon fill=\"black\" stroke=\"black\" points=\"101.5,-307.18 98,-297.18 94.5,-307.18 101.5,-307.18\"/>\n",
       "<text text-anchor=\"middle\" x=\"129.5\" y=\"-318.8\" font-family=\"Times,serif\" font-size=\"14.00\"> (3, 2, 1, 4)</text>\n",
       "</g>\n",
       "<!-- TD_82 -->\n",
       "<g id=\"node9\" class=\"node\">\n",
       "<title>TD_82</title>\n",
       "<ellipse fill=\"none\" stroke=\"black\" cx=\"98\" cy=\"-192\" rx=\"42.49\" ry=\"18\"/>\n",
       "<text text-anchor=\"middle\" x=\"98\" y=\"-188.3\" font-family=\"Times,serif\" font-size=\"14.00\">toTensor</text>\n",
       "</g>\n",
       "<!-- TD_81&#45;&gt;TD_82 -->\n",
       "<g id=\"edge8\" class=\"edge\">\n",
       "<title>TD_81-&gt;TD_82</title>\n",
       "<path fill=\"none\" stroke=\"black\" d=\"M98,-260.8C98,-249.16 98,-233.55 98,-220.24\"/>\n",
       "<polygon fill=\"black\" stroke=\"black\" points=\"101.5,-220.18 98,-210.18 94.5,-220.18 101.5,-220.18\"/>\n",
       "<text text-anchor=\"middle\" x=\"129.5\" y=\"-231.8\" font-family=\"Times,serif\" font-size=\"14.00\"> (3, 2, 1, 4)</text>\n",
       "</g>\n",
       "<!-- TD_83 -->\n",
       "<g id=\"node10\" class=\"node\">\n",
       "<title>TD_83</title>\n",
       "<ellipse fill=\"none\" stroke=\"black\" cx=\"98\" cy=\"-105\" rx=\"27\" ry=\"18\"/>\n",
       "<text text-anchor=\"middle\" x=\"98\" y=\"-101.3\" font-family=\"Times,serif\" font-size=\"14.00\">op</text>\n",
       "</g>\n",
       "<!-- TD_82&#45;&gt;TD_83 -->\n",
       "<g id=\"edge9\" class=\"edge\">\n",
       "<title>TD_82-&gt;TD_83</title>\n",
       "<path fill=\"none\" stroke=\"black\" d=\"M98,-173.8C98,-162.16 98,-146.55 98,-133.24\"/>\n",
       "<polygon fill=\"black\" stroke=\"black\" points=\"101.5,-133.18 98,-123.18 94.5,-133.18 101.5,-133.18\"/>\n",
       "<text text-anchor=\"middle\" x=\"129.5\" y=\"-144.8\" font-family=\"Times,serif\" font-size=\"14.00\"> (3, 2, 1, 4)</text>\n",
       "</g>\n",
       "<!-- TD_84 -->\n",
       "<g id=\"node11\" class=\"node\">\n",
       "<title>TD_84</title>\n",
       "<ellipse fill=\"none\" stroke=\"black\" cx=\"98\" cy=\"-18\" rx=\"34.39\" ry=\"18\"/>\n",
       "<text text-anchor=\"middle\" x=\"98\" y=\"-14.3\" font-family=\"Times,serif\" font-size=\"14.00\">&lt;end&gt;</text>\n",
       "</g>\n",
       "<!-- TD_83&#45;&gt;TD_84 -->\n",
       "<g id=\"edge10\" class=\"edge\">\n",
       "<title>TD_83-&gt;TD_84</title>\n",
       "<path fill=\"none\" stroke=\"black\" d=\"M98,-86.8C98,-75.16 98,-59.55 98,-46.24\"/>\n",
       "<polygon fill=\"black\" stroke=\"black\" points=\"101.5,-46.18 98,-36.18 94.5,-46.18 101.5,-46.18\"/>\n",
       "<text text-anchor=\"middle\" x=\"122.5\" y=\"-57.8\" font-family=\"Times,serif\" font-size=\"14.00\"> (3, 2, 4)</text>\n",
       "</g>\n",
       "</g>\n",
       "</svg>"
      ],
      "text/plain": [
       "<IPython.core.display.SVG object>"
      ]
     },
     "metadata": {},
     "output_type": "display_data"
    },
    {
     "data": {
      "text/plain": [
       "<trace object>"
      ]
     },
     "execution_count": 15,
     "metadata": {},
     "output_type": "execute_result"
    }
   ],
   "source": [
    "a = torch.randn(2, 3, 4) | deref(ignoreTensors=False)\n",
    "a | trace() | transpose() | unsqueeze(2) | deref() | toTensor() | op().squeeze()"
   ]
  },
  {
   "cell_type": "markdown",
   "id": "a0dfa7d8",
   "metadata": {},
   "source": [
    "As you can see, this can be extremely useful in debugging stuff."
   ]
  },
  {
   "cell_type": "markdown",
   "id": "7cf781e0",
   "metadata": {},
   "source": [
    "## Infinity and nested traces\n",
    "\n",
    "The way `trace()` works is by `deref`-ing every part of the stream. This means you can't really handle infinite streams. There is a workaround for this though. Say we have this infinite stream:"
   ]
  },
  {
   "cell_type": "code",
   "execution_count": 16,
   "id": "eb3e6d5e",
   "metadata": {},
   "outputs": [
    {
     "data": {
      "text/plain": [
       "[1, 4, 9, 16, 1, 4, 9, 16, 1, 4]"
      ]
     },
     "execution_count": 16,
     "metadata": {},
     "output_type": "execute_result"
    }
   ],
   "source": [
    "range(1, 5) | repeatFrom() | apply(op()**2) | head(10) | deref()"
   ]
  },
  {
   "cell_type": "markdown",
   "id": "2591bd3b",
   "metadata": {},
   "source": [
    "So, we can set what infinity means inside `cliSettings`, which will be picked up by clis that can potentially produce infinite streams and limit them:"
   ]
  },
  {
   "cell_type": "code",
   "execution_count": 17,
   "id": "addc35cb",
   "metadata": {},
   "outputs": [],
   "source": [
    "with settings.cli.context(inf=21):\n",
    "    range(1, 5) | trace() | repeatFrom() | apply(lambda x: x**2) | head(10) | deref()"
   ]
  },
  {
   "cell_type": "markdown",
   "id": "172a7920",
   "metadata": {},
   "source": [
    "Because trace objects only displays their graph through calling `__repr__`, the code above wouldn't display anything because it's inside a block. To get the graph, do this:"
   ]
  },
  {
   "cell_type": "code",
   "execution_count": 18,
   "id": "195ee862",
   "metadata": {},
   "outputs": [
    {
     "data": {
      "image/svg+xml": [
       "<svg xmlns=\"http://www.w3.org/2000/svg\" xmlns:xlink=\"http://www.w3.org/1999/xlink\" width=\"78pt\" height=\"335pt\" viewBox=\"0.00 0.00 111.99 479.00\">\n",
       "<g id=\"graph0\" class=\"graph\" transform=\"scale(1 1) rotate(0) translate(4 475)\">\n",
       "<polygon fill=\"white\" stroke=\"transparent\" points=\"-4,4 -4,-475 107.99,-475 107.99,4 -4,4\"/>\n",
       "<!-- TD_85 -->\n",
       "<g id=\"node1\" class=\"node\">\n",
       "<title>TD_85</title>\n",
       "<ellipse fill=\"none\" stroke=\"black\" cx=\"52\" cy=\"-453\" rx=\"36.29\" ry=\"18\"/>\n",
       "<text text-anchor=\"middle\" x=\"52\" y=\"-449.3\" font-family=\"Times,serif\" font-size=\"14.00\">&lt;start&gt;</text>\n",
       "</g>\n",
       "<!-- TD_86 -->\n",
       "<g id=\"node2\" class=\"node\">\n",
       "<title>TD_86</title>\n",
       "<ellipse fill=\"none\" stroke=\"black\" cx=\"52\" cy=\"-366\" rx=\"51.99\" ry=\"18\"/>\n",
       "<text text-anchor=\"middle\" x=\"52\" y=\"-362.3\" font-family=\"Times,serif\" font-size=\"14.00\">repeatFrom</text>\n",
       "</g>\n",
       "<!-- TD_85&#45;&gt;TD_86 -->\n",
       "<g id=\"edge1\" class=\"edge\">\n",
       "<title>TD_85-&gt;TD_86</title>\n",
       "<path fill=\"none\" stroke=\"black\" d=\"M52,-434.8C52,-423.16 52,-407.55 52,-394.24\"/>\n",
       "<polygon fill=\"black\" stroke=\"black\" points=\"55.5,-394.18 52,-384.18 48.5,-394.18 55.5,-394.18\"/>\n",
       "<text text-anchor=\"middle\" x=\"64\" y=\"-405.8\" font-family=\"Times,serif\" font-size=\"14.00\"> (4,)</text>\n",
       "</g>\n",
       "<!-- TD_87 -->\n",
       "<g id=\"node3\" class=\"node\">\n",
       "<title>TD_87</title>\n",
       "<ellipse fill=\"none\" stroke=\"black\" cx=\"52\" cy=\"-279\" rx=\"30.59\" ry=\"18\"/>\n",
       "<text text-anchor=\"middle\" x=\"52\" y=\"-275.3\" font-family=\"Times,serif\" font-size=\"14.00\">apply</text>\n",
       "</g>\n",
       "<!-- TD_86&#45;&gt;TD_87 -->\n",
       "<g id=\"edge2\" class=\"edge\">\n",
       "<title>TD_86-&gt;TD_87</title>\n",
       "<path fill=\"none\" stroke=\"black\" d=\"M52,-347.8C52,-336.16 52,-320.55 52,-307.24\"/>\n",
       "<polygon fill=\"black\" stroke=\"black\" points=\"55.5,-307.18 52,-297.18 48.5,-307.18 55.5,-307.18\"/>\n",
       "<text text-anchor=\"middle\" x=\"67.5\" y=\"-318.8\" font-family=\"Times,serif\" font-size=\"14.00\"> (84,)</text>\n",
       "</g>\n",
       "<!-- TD_88 -->\n",
       "<g id=\"node4\" class=\"node\">\n",
       "<title>TD_88</title>\n",
       "<ellipse fill=\"none\" stroke=\"black\" cx=\"52\" cy=\"-192\" rx=\"27.1\" ry=\"18\"/>\n",
       "<text text-anchor=\"middle\" x=\"52\" y=\"-188.3\" font-family=\"Times,serif\" font-size=\"14.00\">head</text>\n",
       "</g>\n",
       "<!-- TD_87&#45;&gt;TD_88 -->\n",
       "<g id=\"edge3\" class=\"edge\">\n",
       "<title>TD_87-&gt;TD_88</title>\n",
       "<path fill=\"none\" stroke=\"black\" d=\"M52,-260.8C52,-249.16 52,-233.55 52,-220.24\"/>\n",
       "<polygon fill=\"black\" stroke=\"black\" points=\"55.5,-220.18 52,-210.18 48.5,-220.18 55.5,-220.18\"/>\n",
       "<text text-anchor=\"middle\" x=\"67.5\" y=\"-231.8\" font-family=\"Times,serif\" font-size=\"14.00\"> (84,)</text>\n",
       "</g>\n",
       "<!-- TD_89 -->\n",
       "<g id=\"node5\" class=\"node\">\n",
       "<title>TD_89</title>\n",
       "<ellipse fill=\"none\" stroke=\"black\" cx=\"52\" cy=\"-105\" rx=\"28.7\" ry=\"18\"/>\n",
       "<text text-anchor=\"middle\" x=\"52\" y=\"-101.3\" font-family=\"Times,serif\" font-size=\"14.00\">deref</text>\n",
       "</g>\n",
       "<!-- TD_88&#45;&gt;TD_89 -->\n",
       "<g id=\"edge4\" class=\"edge\">\n",
       "<title>TD_88-&gt;TD_89</title>\n",
       "<path fill=\"none\" stroke=\"black\" d=\"M52,-173.8C52,-162.16 52,-146.55 52,-133.24\"/>\n",
       "<polygon fill=\"black\" stroke=\"black\" points=\"55.5,-133.18 52,-123.18 48.5,-133.18 55.5,-133.18\"/>\n",
       "<text text-anchor=\"middle\" x=\"67.5\" y=\"-144.8\" font-family=\"Times,serif\" font-size=\"14.00\"> (10,)</text>\n",
       "</g>\n",
       "<!-- TD_90 -->\n",
       "<g id=\"node6\" class=\"node\">\n",
       "<title>TD_90</title>\n",
       "<ellipse fill=\"none\" stroke=\"black\" cx=\"52\" cy=\"-18\" rx=\"34.39\" ry=\"18\"/>\n",
       "<text text-anchor=\"middle\" x=\"52\" y=\"-14.3\" font-family=\"Times,serif\" font-size=\"14.00\">&lt;end&gt;</text>\n",
       "</g>\n",
       "<!-- TD_89&#45;&gt;TD_90 -->\n",
       "<g id=\"edge5\" class=\"edge\">\n",
       "<title>TD_89-&gt;TD_90</title>\n",
       "<path fill=\"none\" stroke=\"black\" d=\"M52,-86.8C52,-75.16 52,-59.55 52,-46.24\"/>\n",
       "<polygon fill=\"black\" stroke=\"black\" points=\"55.5,-46.18 52,-36.18 48.5,-46.18 55.5,-46.18\"/>\n",
       "<text text-anchor=\"middle\" x=\"67.5\" y=\"-57.8\" font-family=\"Times,serif\" font-size=\"14.00\"> (10,)</text>\n",
       "</g>\n",
       "</g>\n",
       "</svg>"
      ],
      "text/plain": [
       "<IPython.core.display.SVG object>"
      ]
     },
     "metadata": {},
     "output_type": "display_data"
    },
    {
     "data": {
      "text/plain": [
       "<trace object>"
      ]
     },
     "execution_count": 18,
     "metadata": {},
     "output_type": "execute_result"
    }
   ],
   "source": [
    "trace.last"
   ]
  },
  {
   "cell_type": "markdown",
   "id": "83b0a05e",
   "metadata": {},
   "source": [
    "This is sort of messy I get it, but there doesn't seem to be a way to robustly track infinite streams."
   ]
  },
  {
   "cell_type": "markdown",
   "id": "d7a5616a",
   "metadata": {},
   "source": [
    "You can also put `trace()` inside of a relatively complex block. Let's grab an example from before:"
   ]
  },
  {
   "cell_type": "code",
   "execution_count": 19,
   "id": "e5aeb9cd",
   "metadata": {},
   "outputs": [
    {
     "data": {
      "image/svg+xml": [
       "<svg xmlns=\"http://www.w3.org/2000/svg\" xmlns:xlink=\"http://www.w3.org/1999/xlink\" width=\"186pt\" height=\"562pt\" viewBox=\"0.00 0.00 267.00 803.00\">\n",
       "<g id=\"graph0\" class=\"graph\" transform=\"scale(1 1) rotate(0) translate(4 799)\">\n",
       "<polygon fill=\"white\" stroke=\"transparent\" points=\"-4,4 -4,-799 263,-799 263,4 -4,4\"/>\n",
       "<g id=\"clust1\" class=\"cluster\">\n",
       "<title>cluster_15</title>\n",
       "<polygon fill=\"none\" stroke=\"black\" points=\"8,-166 8,-718 251,-718 251,-166 8,-166\"/>\n",
       "<text text-anchor=\"middle\" x=\"129.5\" y=\"-702.8\" font-family=\"Times,serif\" font-size=\"14.00\">&amp;, oneToMany</text>\n",
       "</g>\n",
       "<g id=\"clust2\" class=\"cluster\">\n",
       "<title>cluster_16</title>\n",
       "<polygon fill=\"none\" stroke=\"black\" points=\"78,-253 78,-610 243,-610 243,-253 78,-253\"/>\n",
       "<text text-anchor=\"middle\" x=\"160.5\" y=\"-594.8\" font-family=\"Times,serif\" font-size=\"14.00\">.all(), manyToMany, apply</text>\n",
       "</g>\n",
       "<g id=\"clust3\" class=\"cluster\">\n",
       "<title>cluster_17</title>\n",
       "<polygon fill=\"none\" stroke=\"black\" points=\"87,-340 87,-502 157,-502 157,-340 87,-340\"/>\n",
       "<text text-anchor=\"middle\" x=\"122\" y=\"-486.8\" font-family=\"Times,serif\" font-size=\"14.00\">|, serial</text>\n",
       "</g>\n",
       "<!-- TD_91 -->\n",
       "<g id=\"node1\" class=\"node\">\n",
       "<title>TD_91</title>\n",
       "<ellipse fill=\"none\" stroke=\"black\" cx=\"82\" cy=\"-777\" rx=\"36.29\" ry=\"18\"/>\n",
       "<text text-anchor=\"middle\" x=\"82\" y=\"-773.3\" font-family=\"Times,serif\" font-size=\"14.00\">&lt;start&gt;</text>\n",
       "</g>\n",
       "<!-- TD_93 -->\n",
       "<g id=\"node2\" class=\"node\">\n",
       "<title>TD_93</title>\n",
       "<ellipse fill=\"none\" stroke=\"black\" cx=\"82\" cy=\"-669\" rx=\"27\" ry=\"18\"/>\n",
       "<text text-anchor=\"middle\" x=\"82\" y=\"-665.3\" font-family=\"Times,serif\" font-size=\"14.00\">*</text>\n",
       "</g>\n",
       "<!-- TD_91&#45;&gt;TD_93 -->\n",
       "<g id=\"edge8\" class=\"edge\">\n",
       "<title>TD_91-&gt;TD_93</title>\n",
       "<path fill=\"none\" stroke=\"black\" d=\"M82,-758.97C82,-742.38 82,-716.88 82,-697.43\"/>\n",
       "<polygon fill=\"black\" stroke=\"black\" points=\"85.5,-697.34 82,-687.34 78.5,-697.34 85.5,-697.34\"/>\n",
       "<text text-anchor=\"middle\" x=\"113.5\" y=\"-729.8\" font-family=\"Times,serif\" font-size=\"14.00\"> [1, 2, 3, 4]</text>\n",
       "</g>\n",
       "<!-- TD_95 -->\n",
       "<g id=\"node3\" class=\"node\">\n",
       "<title>TD_95</title>\n",
       "<ellipse fill=\"none\" stroke=\"black\" cx=\"43\" cy=\"-561\" rx=\"27\" ry=\"18\"/>\n",
       "<text text-anchor=\"middle\" x=\"43\" y=\"-557.3\" font-family=\"Times,serif\" font-size=\"14.00\">size</text>\n",
       "</g>\n",
       "<!-- TD_93&#45;&gt;TD_95 -->\n",
       "<g id=\"edge1\" class=\"edge\">\n",
       "<title>TD_93-&gt;TD_95</title>\n",
       "<path fill=\"none\" stroke=\"black\" d=\"M62.8,-656.07C55.14,-650.17 47.15,-642.31 43,-633 36.94,-619.41 36.59,-602.85 37.92,-589.14\"/>\n",
       "<polygon fill=\"black\" stroke=\"black\" points=\"41.44,-589.24 39.27,-578.87 34.5,-588.33 41.44,-589.24\"/>\n",
       "<text text-anchor=\"middle\" x=\"74.5\" y=\"-621.8\" font-family=\"Times,serif\" font-size=\"14.00\"> [1, 2, 3, 4]</text>\n",
       "</g>\n",
       "<!-- TD_97 -->\n",
       "<g id=\"node5\" class=\"node\">\n",
       "<title>TD_97</title>\n",
       "<ellipse fill=\"none\" stroke=\"black\" cx=\"124\" cy=\"-561\" rx=\"27\" ry=\"18\"/>\n",
       "<text text-anchor=\"middle\" x=\"124\" y=\"-557.3\" font-family=\"Times,serif\" font-size=\"14.00\">*</text>\n",
       "</g>\n",
       "<!-- TD_93&#45;&gt;TD_97 -->\n",
       "<g id=\"edge3\" class=\"edge\">\n",
       "<title>TD_93-&gt;TD_97</title>\n",
       "<path fill=\"none\" stroke=\"black\" d=\"M94.24,-652.68C98.46,-646.79 102.9,-639.85 106,-633 112.24,-619.19 116.57,-602.86 119.42,-589.34\"/>\n",
       "<polygon fill=\"black\" stroke=\"black\" points=\"122.92,-589.69 121.39,-579.2 116.05,-588.35 122.92,-589.69\"/>\n",
       "<text text-anchor=\"middle\" x=\"142.5\" y=\"-621.8\" font-family=\"Times,serif\" font-size=\"14.00\"> [1, 2, 3, 4]</text>\n",
       "</g>\n",
       "<!-- TD_94 -->\n",
       "<g id=\"node4\" class=\"node\">\n",
       "<title>TD_94</title>\n",
       "<ellipse fill=\"none\" stroke=\"black\" cx=\"70\" cy=\"-192\" rx=\"27\" ry=\"18\"/>\n",
       "<text text-anchor=\"middle\" x=\"70\" y=\"-188.3\" font-family=\"Times,serif\" font-size=\"14.00\">*</text>\n",
       "</g>\n",
       "<!-- TD_95&#45;&gt;TD_94 -->\n",
       "<g id=\"edge2\" class=\"edge\">\n",
       "<title>TD_95-&gt;TD_94</title>\n",
       "<path fill=\"none\" stroke=\"black\" d=\"M43.79,-542.75C44.68,-521.77 46,-485.3 46,-454 46,-454 46,-454 46,-278 46,-257.68 52.43,-235.63 58.63,-219.07\"/>\n",
       "<polygon fill=\"black\" stroke=\"black\" points=\"61.98,-220.13 62.41,-209.54 55.47,-217.55 61.98,-220.13\"/>\n",
       "<text text-anchor=\"middle\" x=\"56\" y=\"-362.3\" font-family=\"Times,serif\" font-size=\"14.00\"> [4]</text>\n",
       "</g>\n",
       "<!-- TD_102 -->\n",
       "<g id=\"node9\" class=\"node\">\n",
       "<title>TD_102</title>\n",
       "<ellipse fill=\"none\" stroke=\"black\" cx=\"70\" cy=\"-105\" rx=\"28.7\" ry=\"18\"/>\n",
       "<text text-anchor=\"middle\" x=\"70\" y=\"-101.3\" font-family=\"Times,serif\" font-size=\"14.00\">deref</text>\n",
       "</g>\n",
       "<!-- TD_94&#45;&gt;TD_102 -->\n",
       "<g id=\"edge9\" class=\"edge\">\n",
       "<title>TD_94-&gt;TD_102</title>\n",
       "<path fill=\"none\" stroke=\"black\" d=\"M70,-173.8C70,-162.16 70,-146.55 70,-133.24\"/>\n",
       "<polygon fill=\"black\" stroke=\"black\" points=\"73.5,-133.18 70,-123.18 66.5,-133.18 73.5,-133.18\"/>\n",
       "<text text-anchor=\"middle\" x=\"127.5\" y=\"-144.8\" font-family=\"Times,serif\" font-size=\"14.00\"> [[4], [4, 16, 36, 64]]</text>\n",
       "</g>\n",
       "<!-- TD_99 -->\n",
       "<g id=\"node7\" class=\"node\">\n",
       "<title>TD_99</title>\n",
       "<ellipse fill=\"none\" stroke=\"black\" cx=\"122\" cy=\"-453\" rx=\"27\" ry=\"18\"/>\n",
       "<text text-anchor=\"middle\" x=\"122\" y=\"-449.3\" font-family=\"Times,serif\" font-size=\"14.00\">op</text>\n",
       "</g>\n",
       "<!-- TD_97&#45;&gt;TD_99 -->\n",
       "<g id=\"edge6\" class=\"edge\">\n",
       "<title>TD_97-&gt;TD_99</title>\n",
       "<path fill=\"none\" stroke=\"black\" d=\"M123.68,-542.97C123.37,-526.38 122.88,-500.88 122.52,-481.43\"/>\n",
       "<polygon fill=\"black\" stroke=\"black\" points=\"126.02,-481.27 122.33,-471.34 119.02,-481.4 126.02,-481.27\"/>\n",
       "<text text-anchor=\"middle\" x=\"128.5\" y=\"-513.8\" font-family=\"Times,serif\" font-size=\"14.00\"> 1</text>\n",
       "</g>\n",
       "<!-- TD_101 -->\n",
       "<g id=\"node6\" class=\"node\">\n",
       "<title>TD_101</title>\n",
       "<ellipse fill=\"none\" stroke=\"black\" cx=\"117\" cy=\"-279\" rx=\"27\" ry=\"18\"/>\n",
       "<text text-anchor=\"middle\" x=\"117\" y=\"-275.3\" font-family=\"Times,serif\" font-size=\"14.00\">*</text>\n",
       "</g>\n",
       "<!-- TD_101&#45;&gt;TD_94 -->\n",
       "<g id=\"edge4\" class=\"edge\">\n",
       "<title>TD_101-&gt;TD_94</title>\n",
       "<path fill=\"none\" stroke=\"black\" d=\"M107.94,-261.61C101.13,-249.3 91.69,-232.23 83.93,-218.19\"/>\n",
       "<polygon fill=\"black\" stroke=\"black\" points=\"86.78,-216.11 78.87,-209.05 80.65,-219.5 86.78,-216.11\"/>\n",
       "<text text-anchor=\"middle\" x=\"137.5\" y=\"-231.8\" font-family=\"Times,serif\" font-size=\"14.00\"> [4, 16, 36, 64]</text>\n",
       "</g>\n",
       "<!-- TD_100 -->\n",
       "<g id=\"node8\" class=\"node\">\n",
       "<title>TD_100</title>\n",
       "<ellipse fill=\"none\" stroke=\"black\" cx=\"122\" cy=\"-366\" rx=\"27\" ry=\"18\"/>\n",
       "<text text-anchor=\"middle\" x=\"122\" y=\"-362.3\" font-family=\"Times,serif\" font-size=\"14.00\">op</text>\n",
       "</g>\n",
       "<!-- TD_99&#45;&gt;TD_100 -->\n",
       "<g id=\"edge5\" class=\"edge\">\n",
       "<title>TD_99-&gt;TD_100</title>\n",
       "<path fill=\"none\" stroke=\"black\" d=\"M122,-434.8C122,-423.16 122,-407.55 122,-394.24\"/>\n",
       "<polygon fill=\"black\" stroke=\"black\" points=\"125.5,-394.18 122,-384.18 118.5,-394.18 125.5,-394.18\"/>\n",
       "<text text-anchor=\"middle\" x=\"127.5\" y=\"-405.8\" font-family=\"Times,serif\" font-size=\"14.00\"> 2</text>\n",
       "</g>\n",
       "<!-- TD_100&#45;&gt;TD_101 -->\n",
       "<g id=\"edge7\" class=\"edge\">\n",
       "<title>TD_100-&gt;TD_101</title>\n",
       "<path fill=\"none\" stroke=\"black\" d=\"M120.99,-347.8C120.3,-336.16 119.39,-320.55 118.6,-307.24\"/>\n",
       "<polygon fill=\"black\" stroke=\"black\" points=\"122.09,-306.95 118.01,-297.18 115.1,-307.36 122.09,-306.95\"/>\n",
       "<text text-anchor=\"middle\" x=\"124.5\" y=\"-318.8\" font-family=\"Times,serif\" font-size=\"14.00\"> 4</text>\n",
       "</g>\n",
       "<!-- TD_103 -->\n",
       "<g id=\"node10\" class=\"node\">\n",
       "<title>TD_103</title>\n",
       "<ellipse fill=\"none\" stroke=\"black\" cx=\"70\" cy=\"-18\" rx=\"34.39\" ry=\"18\"/>\n",
       "<text text-anchor=\"middle\" x=\"70\" y=\"-14.3\" font-family=\"Times,serif\" font-size=\"14.00\">&lt;end&gt;</text>\n",
       "</g>\n",
       "<!-- TD_102&#45;&gt;TD_103 -->\n",
       "<g id=\"edge10\" class=\"edge\">\n",
       "<title>TD_102-&gt;TD_103</title>\n",
       "<path fill=\"none\" stroke=\"black\" d=\"M70,-86.8C70,-75.16 70,-59.55 70,-46.24\"/>\n",
       "<polygon fill=\"black\" stroke=\"black\" points=\"73.5,-46.18 70,-36.18 66.5,-46.18 73.5,-46.18\"/>\n",
       "<text text-anchor=\"middle\" x=\"127.5\" y=\"-57.8\" font-family=\"Times,serif\" font-size=\"14.00\"> [[4], [4, 16, 36, 64]]</text>\n",
       "</g>\n",
       "</g>\n",
       "</svg>"
      ],
      "text/plain": [
       "<IPython.core.display.SVG object>"
      ]
     },
     "metadata": {},
     "output_type": "display_data"
    },
    {
     "data": {
      "text/plain": [
       "<trace object>"
      ]
     },
     "execution_count": 19,
     "metadata": {},
     "output_type": "execute_result"
    }
   ],
   "source": [
    "range(1,5) | trace(None) | (shape() & (op()*2 | op()**2).all()) | deref()"
   ]
  },
  {
   "cell_type": "markdown",
   "id": "c98a4e98",
   "metadata": {},
   "source": [
    "Now let's try to intercept in the middle:"
   ]
  },
  {
   "cell_type": "code",
   "execution_count": 20,
   "id": "f5b2d7ba",
   "metadata": {},
   "outputs": [
    {
     "data": {
      "image/svg+xml": [
       "<svg xmlns=\"http://www.w3.org/2000/svg\" xmlns:xlink=\"http://www.w3.org/1999/xlink\" width=\"56pt\" height=\"213pt\" viewBox=\"0.00 0.00 80.79 305.00\">\n",
       "<g id=\"graph0\" class=\"graph\" transform=\"scale(1 1) rotate(0) translate(4 301)\">\n",
       "<polygon fill=\"white\" stroke=\"transparent\" points=\"-4,4 -4,-301 76.79,-301 76.79,4 -4,4\"/>\n",
       "<!-- TD_104 -->\n",
       "<g id=\"node1\" class=\"node\">\n",
       "<title>TD_104</title>\n",
       "<ellipse fill=\"none\" stroke=\"black\" cx=\"36.4\" cy=\"-279\" rx=\"36.29\" ry=\"18\"/>\n",
       "<text text-anchor=\"middle\" x=\"36.4\" y=\"-275.3\" font-family=\"Times,serif\" font-size=\"14.00\">&lt;start&gt;</text>\n",
       "</g>\n",
       "<!-- TD_105 -->\n",
       "<g id=\"node2\" class=\"node\">\n",
       "<title>TD_105</title>\n",
       "<ellipse fill=\"none\" stroke=\"black\" cx=\"36.4\" cy=\"-192\" rx=\"27\" ry=\"18\"/>\n",
       "<text text-anchor=\"middle\" x=\"36.4\" y=\"-188.3\" font-family=\"Times,serif\" font-size=\"14.00\">op</text>\n",
       "</g>\n",
       "<!-- TD_104&#45;&gt;TD_105 -->\n",
       "<g id=\"edge1\" class=\"edge\">\n",
       "<title>TD_104-&gt;TD_105</title>\n",
       "<path fill=\"none\" stroke=\"black\" d=\"M36.4,-260.8C36.4,-249.16 36.4,-233.55 36.4,-220.24\"/>\n",
       "<polygon fill=\"black\" stroke=\"black\" points=\"39.9,-220.18 36.4,-210.18 32.9,-220.18 39.9,-220.18\"/>\n",
       "<text text-anchor=\"middle\" x=\"41.9\" y=\"-231.8\" font-family=\"Times,serif\" font-size=\"14.00\"> 1</text>\n",
       "</g>\n",
       "<!-- TD_106 -->\n",
       "<g id=\"node3\" class=\"node\">\n",
       "<title>TD_106</title>\n",
       "<ellipse fill=\"none\" stroke=\"black\" cx=\"36.4\" cy=\"-105\" rx=\"27\" ry=\"18\"/>\n",
       "<text text-anchor=\"middle\" x=\"36.4\" y=\"-101.3\" font-family=\"Times,serif\" font-size=\"14.00\">op</text>\n",
       "</g>\n",
       "<!-- TD_105&#45;&gt;TD_106 -->\n",
       "<g id=\"edge2\" class=\"edge\">\n",
       "<title>TD_105-&gt;TD_106</title>\n",
       "<path fill=\"none\" stroke=\"black\" d=\"M36.4,-173.8C36.4,-162.16 36.4,-146.55 36.4,-133.24\"/>\n",
       "<polygon fill=\"black\" stroke=\"black\" points=\"39.9,-133.18 36.4,-123.18 32.9,-133.18 39.9,-133.18\"/>\n",
       "<text text-anchor=\"middle\" x=\"41.9\" y=\"-144.8\" font-family=\"Times,serif\" font-size=\"14.00\"> 2</text>\n",
       "</g>\n",
       "<!-- TD_110 -->\n",
       "<g id=\"node4\" class=\"node\">\n",
       "<title>TD_110</title>\n",
       "<ellipse fill=\"none\" stroke=\"black\" cx=\"36.4\" cy=\"-18\" rx=\"34.39\" ry=\"18\"/>\n",
       "<text text-anchor=\"middle\" x=\"36.4\" y=\"-14.3\" font-family=\"Times,serif\" font-size=\"14.00\">&lt;end&gt;</text>\n",
       "</g>\n",
       "<!-- TD_106&#45;&gt;TD_110 -->\n",
       "<g id=\"edge3\" class=\"edge\">\n",
       "<title>TD_106-&gt;TD_110</title>\n",
       "<path fill=\"none\" stroke=\"black\" d=\"M36.4,-86.8C36.4,-75.16 36.4,-59.55 36.4,-46.24\"/>\n",
       "<polygon fill=\"black\" stroke=\"black\" points=\"39.9,-46.18 36.4,-36.18 32.9,-46.18 39.9,-46.18\"/>\n",
       "<text text-anchor=\"middle\" x=\"41.9\" y=\"-57.8\" font-family=\"Times,serif\" font-size=\"14.00\"> 4</text>\n",
       "</g>\n",
       "</g>\n",
       "</svg>"
      ],
      "text/plain": [
       "<IPython.core.display.SVG object>"
      ]
     },
     "metadata": {},
     "output_type": "display_data"
    },
    {
     "data": {
      "text/plain": [
       "[[4], [<trace object>, 16, 36, 64]]"
      ]
     },
     "execution_count": 20,
     "metadata": {},
     "output_type": "execute_result"
    }
   ],
   "source": [
    "range(1,5) | (shape() & (trace(None) | op()*2 | op()**2).all()) | deref()"
   ]
  },
  {
   "cell_type": "markdown",
   "id": "742cce80",
   "metadata": {},
   "source": [
    "It works! If for some reason, it errors out, you can always do `trace.last` to see the best trace attempt. This is rare and I haven't been able to make it errors out, but logic says that it can in weird circumstances. Also, unlike `trace()` at the top level, notice how nested `trace()` are a part of the derefed object? This means that without actually forcing the execution to happen, you won't have any trace:"
   ]
  },
  {
   "cell_type": "code",
   "execution_count": 21,
   "id": "2457ffff",
   "metadata": {},
   "outputs": [
    {
     "data": {
      "text/plain": [
       "<generator object oneToMany.__ror__ at 0x7f0007f4fd60>"
      ]
     },
     "execution_count": 21,
     "metadata": {},
     "output_type": "execute_result"
    }
   ],
   "source": [
    "range(1,5) | (shape() & (trace(None) | op()*2 | op()**2).all())"
   ]
  },
  {
   "cell_type": "code",
   "execution_count": 22,
   "id": "92002777",
   "metadata": {},
   "outputs": [
    {
     "data": {
      "image/svg+xml": [
       "<svg xmlns=\"http://www.w3.org/2000/svg\" xmlns:xlink=\"http://www.w3.org/1999/xlink\" width=\"56pt\" height=\"91pt\" viewBox=\"0.00 0.00 80.79 131.00\">\n",
       "<g id=\"graph0\" class=\"graph\" transform=\"scale(1 1) rotate(0) translate(4 127)\">\n",
       "<polygon fill=\"white\" stroke=\"transparent\" points=\"-4,4 -4,-127 76.79,-127 76.79,4 -4,4\"/>\n",
       "<!-- TD_111 -->\n",
       "<g id=\"node1\" class=\"node\">\n",
       "<title>TD_111</title>\n",
       "<ellipse fill=\"none\" stroke=\"black\" cx=\"36.4\" cy=\"-105\" rx=\"36.29\" ry=\"18\"/>\n",
       "<text text-anchor=\"middle\" x=\"36.4\" y=\"-101.3\" font-family=\"Times,serif\" font-size=\"14.00\">&lt;start&gt;</text>\n",
       "</g>\n",
       "<!-- TD_112 -->\n",
       "<g id=\"node2\" class=\"node\">\n",
       "<title>TD_112</title>\n",
       "<ellipse fill=\"none\" stroke=\"black\" cx=\"36.4\" cy=\"-18\" rx=\"34.39\" ry=\"18\"/>\n",
       "<text text-anchor=\"middle\" x=\"36.4\" y=\"-14.3\" font-family=\"Times,serif\" font-size=\"14.00\">&lt;end&gt;</text>\n",
       "</g>\n",
       "<!-- TD_111&#45;&gt;TD_112 -->\n",
       "<g id=\"edge1\" class=\"edge\">\n",
       "<title>TD_111-&gt;TD_112</title>\n",
       "<path fill=\"none\" stroke=\"black\" d=\"M36.4,-86.8C36.4,-75.16 36.4,-59.55 36.4,-46.24\"/>\n",
       "<polygon fill=\"black\" stroke=\"black\" points=\"39.9,-46.18 36.4,-36.18 32.9,-46.18 39.9,-46.18\"/>\n",
       "<text text-anchor=\"middle\" x=\"53.4\" y=\"-57.8\" font-family=\"Times,serif\" font-size=\"14.00\"> None</text>\n",
       "</g>\n",
       "</g>\n",
       "</svg>"
      ],
      "text/plain": [
       "<IPython.core.display.SVG object>"
      ]
     },
     "metadata": {},
     "output_type": "display_data"
    },
    {
     "data": {
      "text/plain": [
       "<trace object>"
      ]
     },
     "execution_count": 22,
     "metadata": {},
     "output_type": "execute_result"
    }
   ],
   "source": [
    "trace.last"
   ]
  },
  {
   "cell_type": "markdown",
   "id": "39ccd738",
   "metadata": {},
   "source": [
    "Therefore, it's my recommendation to always do `deref()`, ignore the output (because it can potentially be long), then see the last trace:"
   ]
  },
  {
   "cell_type": "code",
   "execution_count": 23,
   "id": "86201f8e",
   "metadata": {},
   "outputs": [
    {
     "data": {
      "image/svg+xml": [
       "<svg xmlns=\"http://www.w3.org/2000/svg\" xmlns:xlink=\"http://www.w3.org/1999/xlink\" width=\"56pt\" height=\"213pt\" viewBox=\"0.00 0.00 80.79 305.00\">\n",
       "<g id=\"graph0\" class=\"graph\" transform=\"scale(1 1) rotate(0) translate(4 301)\">\n",
       "<polygon fill=\"white\" stroke=\"transparent\" points=\"-4,4 -4,-301 76.79,-301 76.79,4 -4,4\"/>\n",
       "<!-- TD_113 -->\n",
       "<g id=\"node1\" class=\"node\">\n",
       "<title>TD_113</title>\n",
       "<ellipse fill=\"none\" stroke=\"black\" cx=\"36.4\" cy=\"-279\" rx=\"36.29\" ry=\"18\"/>\n",
       "<text text-anchor=\"middle\" x=\"36.4\" y=\"-275.3\" font-family=\"Times,serif\" font-size=\"14.00\">&lt;start&gt;</text>\n",
       "</g>\n",
       "<!-- TD_114 -->\n",
       "<g id=\"node2\" class=\"node\">\n",
       "<title>TD_114</title>\n",
       "<ellipse fill=\"none\" stroke=\"black\" cx=\"36.4\" cy=\"-192\" rx=\"27\" ry=\"18\"/>\n",
       "<text text-anchor=\"middle\" x=\"36.4\" y=\"-188.3\" font-family=\"Times,serif\" font-size=\"14.00\">op</text>\n",
       "</g>\n",
       "<!-- TD_113&#45;&gt;TD_114 -->\n",
       "<g id=\"edge1\" class=\"edge\">\n",
       "<title>TD_113-&gt;TD_114</title>\n",
       "<path fill=\"none\" stroke=\"black\" d=\"M36.4,-260.8C36.4,-249.16 36.4,-233.55 36.4,-220.24\"/>\n",
       "<polygon fill=\"black\" stroke=\"black\" points=\"39.9,-220.18 36.4,-210.18 32.9,-220.18 39.9,-220.18\"/>\n",
       "<text text-anchor=\"middle\" x=\"41.9\" y=\"-231.8\" font-family=\"Times,serif\" font-size=\"14.00\"> 1</text>\n",
       "</g>\n",
       "<!-- TD_115 -->\n",
       "<g id=\"node3\" class=\"node\">\n",
       "<title>TD_115</title>\n",
       "<ellipse fill=\"none\" stroke=\"black\" cx=\"36.4\" cy=\"-105\" rx=\"27\" ry=\"18\"/>\n",
       "<text text-anchor=\"middle\" x=\"36.4\" y=\"-101.3\" font-family=\"Times,serif\" font-size=\"14.00\">op</text>\n",
       "</g>\n",
       "<!-- TD_114&#45;&gt;TD_115 -->\n",
       "<g id=\"edge2\" class=\"edge\">\n",
       "<title>TD_114-&gt;TD_115</title>\n",
       "<path fill=\"none\" stroke=\"black\" d=\"M36.4,-173.8C36.4,-162.16 36.4,-146.55 36.4,-133.24\"/>\n",
       "<polygon fill=\"black\" stroke=\"black\" points=\"39.9,-133.18 36.4,-123.18 32.9,-133.18 39.9,-133.18\"/>\n",
       "<text text-anchor=\"middle\" x=\"41.9\" y=\"-144.8\" font-family=\"Times,serif\" font-size=\"14.00\"> 2</text>\n",
       "</g>\n",
       "<!-- TD_119 -->\n",
       "<g id=\"node4\" class=\"node\">\n",
       "<title>TD_119</title>\n",
       "<ellipse fill=\"none\" stroke=\"black\" cx=\"36.4\" cy=\"-18\" rx=\"34.39\" ry=\"18\"/>\n",
       "<text text-anchor=\"middle\" x=\"36.4\" y=\"-14.3\" font-family=\"Times,serif\" font-size=\"14.00\">&lt;end&gt;</text>\n",
       "</g>\n",
       "<!-- TD_115&#45;&gt;TD_119 -->\n",
       "<g id=\"edge3\" class=\"edge\">\n",
       "<title>TD_115-&gt;TD_119</title>\n",
       "<path fill=\"none\" stroke=\"black\" d=\"M36.4,-86.8C36.4,-75.16 36.4,-59.55 36.4,-46.24\"/>\n",
       "<polygon fill=\"black\" stroke=\"black\" points=\"39.9,-46.18 36.4,-36.18 32.9,-46.18 39.9,-46.18\"/>\n",
       "<text text-anchor=\"middle\" x=\"41.9\" y=\"-57.8\" font-family=\"Times,serif\" font-size=\"14.00\"> 4</text>\n",
       "</g>\n",
       "</g>\n",
       "</svg>"
      ],
      "text/plain": [
       "<IPython.core.display.SVG object>"
      ]
     },
     "metadata": {},
     "output_type": "display_data"
    },
    {
     "data": {
      "text/plain": [
       "<trace object>"
      ]
     },
     "execution_count": 23,
     "metadata": {},
     "output_type": "execute_result"
    }
   ],
   "source": [
    "range(1,5) | (shape() & (trace(None) | op()*2 | op()**2).all()) | deref(); trace.last"
   ]
  },
  {
   "cell_type": "markdown",
   "id": "fdae7c42",
   "metadata": {},
   "source": [
    "Also very surprisingly, this works too, while I reason it shouldn't really work!"
   ]
  },
  {
   "cell_type": "code",
   "execution_count": 24,
   "id": "9b40995d",
   "metadata": {},
   "outputs": [
    {
     "data": {
      "image/svg+xml": [
       "<svg xmlns=\"http://www.w3.org/2000/svg\" xmlns:xlink=\"http://www.w3.org/1999/xlink\" width=\"170pt\" height=\"163pt\" viewBox=\"0.00 0.00 243.40 233.00\">\n",
       "<g id=\"graph0\" class=\"graph\" transform=\"scale(1 1) rotate(0) translate(4 229)\">\n",
       "<polygon fill=\"white\" stroke=\"transparent\" points=\"-4,4 -4,-229 239.4,-229 239.4,4 -4,4\"/>\n",
       "<!-- TD_120 -->\n",
       "<g id=\"node1\" class=\"node\">\n",
       "<title>TD_120</title>\n",
       "<ellipse fill=\"none\" stroke=\"black\" cx=\"36.4\" cy=\"-207\" rx=\"36.29\" ry=\"18\"/>\n",
       "<text text-anchor=\"middle\" x=\"36.4\" y=\"-203.3\" font-family=\"Times,serif\" font-size=\"14.00\">&lt;start&gt;</text>\n",
       "</g>\n",
       "<!-- TD_121 -->\n",
       "<g id=\"node2\" class=\"node\">\n",
       "<title>TD_121</title>\n",
       "<ellipse fill=\"none\" stroke=\"black\" cx=\"36.4\" cy=\"-105\" rx=\"27\" ry=\"18\"/>\n",
       "<text text-anchor=\"middle\" x=\"36.4\" y=\"-101.3\" font-family=\"Times,serif\" font-size=\"14.00\">op</text>\n",
       "</g>\n",
       "<!-- TD_120&#45;&gt;TD_121 -->\n",
       "<g id=\"edge1\" class=\"edge\">\n",
       "<title>TD_120-&gt;TD_121</title>\n",
       "<path fill=\"none\" stroke=\"black\" d=\"M36.4,-188.58C36.4,-173.38 36.4,-151.07 36.4,-133.46\"/>\n",
       "<polygon fill=\"black\" stroke=\"black\" points=\"39.9,-133.22 36.4,-123.22 32.9,-133.22 39.9,-133.22\"/>\n",
       "<text text-anchor=\"middle\" x=\"135.9\" y=\"-159.8\" font-family=\"Times,serif\" font-size=\"14.00\"> tensor([[ 1.6021,  0.1544, -1.0622],</text>\n",
       "<text text-anchor=\"middle\" x=\"135.9\" y=\"-144.8\" font-family=\"Times,serif\" font-size=\"14.00\">        [ 2.2491, -0.0042, -0.1873]])</text>\n",
       "</g>\n",
       "<!-- TD_122 -->\n",
       "<g id=\"node3\" class=\"node\">\n",
       "<title>TD_122</title>\n",
       "<ellipse fill=\"none\" stroke=\"black\" cx=\"36.4\" cy=\"-18\" rx=\"34.39\" ry=\"18\"/>\n",
       "<text text-anchor=\"middle\" x=\"36.4\" y=\"-14.3\" font-family=\"Times,serif\" font-size=\"14.00\">&lt;end&gt;</text>\n",
       "</g>\n",
       "<!-- TD_121&#45;&gt;TD_122 -->\n",
       "<g id=\"edge2\" class=\"edge\">\n",
       "<title>TD_121-&gt;TD_122</title>\n",
       "<path fill=\"none\" stroke=\"black\" d=\"M36.4,-86.8C36.4,-75.16 36.4,-59.55 36.4,-46.24\"/>\n",
       "<polygon fill=\"black\" stroke=\"black\" points=\"39.9,-46.18 36.4,-36.18 32.9,-46.18 39.9,-46.18\"/>\n",
       "<text text-anchor=\"middle\" x=\"53.4\" y=\"-57.8\" font-family=\"Times,serif\" font-size=\"14.00\"> [2, 3]</text>\n",
       "</g>\n",
       "</g>\n",
       "</svg>"
      ],
      "text/plain": [
       "<IPython.core.display.SVG object>"
      ]
     },
     "metadata": {},
     "output_type": "display_data"
    },
    {
     "data": {
      "text/plain": [
       "[<trace object>,\n",
       " tensor([[-0.4524, -0.7593,  0.6081,  0.3310,  0.6469],\n",
       "         [ 1.0787,  0.2763, -0.3129, -0.9712,  0.4768],\n",
       "         [ 1.0288, -0.7199, -0.2076,  0.3306, -1.5635],\n",
       "         [-1.1242,  1.6919,  0.7447, -0.1250, -0.1216]])]"
      ]
     },
     "execution_count": 24,
     "metadata": {},
     "output_type": "execute_result"
    }
   ],
   "source": [
    "[torch.randn(2, 3), torch.randn(4, 5)] | ((trace(None) | op().shape) + iden()) | deref()"
   ]
  },
  {
   "cell_type": "markdown",
   "id": "887abd80",
   "metadata": {},
   "source": [
    "No idea how that works, but nice"
   ]
  },
  {
   "cell_type": "markdown",
   "id": "c0f87050",
   "metadata": {},
   "source": [
    "## Gotchas"
   ]
  },
  {
   "cell_type": "markdown",
   "id": "bc4fc9eb",
   "metadata": {},
   "source": [
    "There aren't any other gotchas, as far as I'm aware of. Sometimes the clis will be replaced by a version that is guaranteed to return the same result, but are slightly different, to make tracing code simpler. Examples may include `applyMp` changing into `apply` (will not work if `trace()` is nested inside of `applyMp` tho, and there be dragons if you try to do so). But you need not worry about this too much."
   ]
  },
  {
   "cell_type": "code",
   "execution_count": null,
   "id": "00059f69",
   "metadata": {},
   "outputs": [],
   "source": []
  }
 ],
 "metadata": {
  "kernelspec": {
   "display_name": "Python 3 (ipykernel)",
   "language": "python",
   "name": "python3"
  },
  "language_info": {
   "codemirror_mode": {
    "name": "ipython",
    "version": 3
   },
   "file_extension": ".py",
   "mimetype": "text/x-python",
   "name": "python",
   "nbconvert_exporter": "python",
   "pygments_lexer": "ipython3",
   "version": "3.8.12"
  }
 },
 "nbformat": 4,
 "nbformat_minor": 5
}
