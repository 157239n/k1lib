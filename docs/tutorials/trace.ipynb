{
 "cells": [
  {
   "cell_type": "markdown",
   "id": "a3363ce0",
   "metadata": {},
   "source": [
    "# `trace` cli\n",
    "\n",
    "This is essentially a demo on a single cli tool, `trace`. It allows you to inspect the stream at every point around the (likely tangled) cli operations. Let's get into it."
   ]
  },
  {
   "cell_type": "code",
   "execution_count": 1,
   "id": "d41751cf",
   "metadata": {},
   "outputs": [
    {
     "data": {
      "text/html": [
       "<style>\n",
       "    div.jp-OutputArea-output pre {white-space: pre;}\n",
       "    div.output_area pre {white-space: pre;}\n",
       "    div.CodeMirror > div.highlight {overflow-y: auto;}\n",
       "</style>"
      ],
      "text/plain": [
       "<IPython.core.display.HTML object>"
      ]
     },
     "metadata": {},
     "output_type": "display_data"
    }
   ],
   "source": [
    "from k1lib.imports import *"
   ]
  },
  {
   "cell_type": "markdown",
   "id": "16afe33d",
   "metadata": {},
   "source": [
    "Let's start simple. Say you have an operation that calculates square of a list of numbers, like this:"
   ]
  },
  {
   "cell_type": "code",
   "execution_count": 2,
   "id": "a1970afe",
   "metadata": {},
   "outputs": [
    {
     "data": {
      "text/plain": [
       "[1, 4, 9, 16]"
      ]
     },
     "execution_count": 2,
     "metadata": {},
     "output_type": "execute_result"
    }
   ],
   "source": [
    "range(1, 5) | apply(op()**2) | deref()"
   ]
  },
  {
   "cell_type": "markdown",
   "id": "307a8567",
   "metadata": {},
   "source": [
    "For more complex operations, it can be easy to lose track of what's what, and how the stream should look like at a particular point. So, you can just slide a `trace()` in the middle:"
   ]
  },
  {
   "cell_type": "code",
   "execution_count": 3,
   "id": "ae81e546",
   "metadata": {},
   "outputs": [
    {
     "data": {
      "image/svg+xml": [
       "<svg xmlns=\"http://www.w3.org/2000/svg\" xmlns:xlink=\"http://www.w3.org/1999/xlink\" width=\"56pt\" height=\"213pt\" viewBox=\"0.00 0.00 80.79 305.00\">\n",
       "<g id=\"graph0\" class=\"graph\" transform=\"scale(1 1) rotate(0) translate(4 301)\">\n",
       "<polygon fill=\"white\" stroke=\"transparent\" points=\"-4,4 -4,-301 76.79,-301 76.79,4 -4,4\"/>\n",
       "<!-- 0 -->\n",
       "<g id=\"node1\" class=\"node\">\n",
       "<title>0</title>\n",
       "<ellipse fill=\"none\" stroke=\"black\" cx=\"36.4\" cy=\"-279\" rx=\"36.29\" ry=\"18\"/>\n",
       "<text text-anchor=\"middle\" x=\"36.4\" y=\"-275.3\" font-family=\"Times,serif\" font-size=\"14.00\">&lt;start&gt;</text>\n",
       "</g>\n",
       "<!-- 1 -->\n",
       "<g id=\"node2\" class=\"node\">\n",
       "<title>1</title>\n",
       "<ellipse fill=\"none\" stroke=\"black\" cx=\"36.4\" cy=\"-192\" rx=\"30.59\" ry=\"18\"/>\n",
       "<text text-anchor=\"middle\" x=\"36.4\" y=\"-188.3\" font-family=\"Times,serif\" font-size=\"14.00\">apply</text>\n",
       "</g>\n",
       "<!-- 0&#45;&gt;1 -->\n",
       "<g id=\"edge1\" class=\"edge\">\n",
       "<title>0-&gt;1</title>\n",
       "<path fill=\"none\" stroke=\"black\" d=\"M36.4,-260.8C36.4,-249.16 36.4,-233.55 36.4,-220.24\"/>\n",
       "<polygon fill=\"black\" stroke=\"black\" points=\"39.9,-220.18 36.4,-210.18 32.9,-220.18 39.9,-220.18\"/>\n",
       "<text text-anchor=\"middle\" x=\"51.9\" y=\"-231.8\" font-family=\"Times,serif\" font-size=\"14.00\">   (4,)</text>\n",
       "</g>\n",
       "<!-- 2 -->\n",
       "<g id=\"node3\" class=\"node\">\n",
       "<title>2</title>\n",
       "<ellipse fill=\"none\" stroke=\"black\" cx=\"36.4\" cy=\"-105\" rx=\"28.7\" ry=\"18\"/>\n",
       "<text text-anchor=\"middle\" x=\"36.4\" y=\"-101.3\" font-family=\"Times,serif\" font-size=\"14.00\">deref</text>\n",
       "</g>\n",
       "<!-- 1&#45;&gt;2 -->\n",
       "<g id=\"edge2\" class=\"edge\">\n",
       "<title>1-&gt;2</title>\n",
       "<path fill=\"none\" stroke=\"black\" d=\"M36.4,-173.8C36.4,-162.16 36.4,-146.55 36.4,-133.24\"/>\n",
       "<polygon fill=\"black\" stroke=\"black\" points=\"39.9,-133.18 36.4,-123.18 32.9,-133.18 39.9,-133.18\"/>\n",
       "<text text-anchor=\"middle\" x=\"51.9\" y=\"-144.8\" font-family=\"Times,serif\" font-size=\"14.00\">   (4,)</text>\n",
       "</g>\n",
       "<!-- 3 -->\n",
       "<g id=\"node4\" class=\"node\">\n",
       "<title>3</title>\n",
       "<ellipse fill=\"none\" stroke=\"black\" cx=\"36.4\" cy=\"-18\" rx=\"34.39\" ry=\"18\"/>\n",
       "<text text-anchor=\"middle\" x=\"36.4\" y=\"-14.3\" font-family=\"Times,serif\" font-size=\"14.00\">&lt;end&gt;</text>\n",
       "</g>\n",
       "<!-- 2&#45;&gt;3 -->\n",
       "<g id=\"edge3\" class=\"edge\">\n",
       "<title>2-&gt;3</title>\n",
       "<path fill=\"none\" stroke=\"black\" d=\"M36.4,-86.8C36.4,-75.16 36.4,-59.55 36.4,-46.24\"/>\n",
       "<polygon fill=\"black\" stroke=\"black\" points=\"39.9,-46.18 36.4,-36.18 32.9,-46.18 39.9,-46.18\"/>\n",
       "<text text-anchor=\"middle\" x=\"51.9\" y=\"-57.8\" font-family=\"Times,serif\" font-size=\"14.00\">   (4,)</text>\n",
       "</g>\n",
       "</g>\n",
       "</svg>"
      ],
      "text/plain": [
       "<IPython.core.display.SVG object>"
      ]
     },
     "metadata": {},
     "output_type": "display_data"
    },
    {
     "data": {
      "text/plain": [
       "<trace object>"
      ]
     },
     "execution_count": 3,
     "metadata": {},
     "output_type": "execute_result"
    }
   ],
   "source": [
    "range(1, 5) | trace() | apply(lambda x: x**2) | deref()"
   ]
  },
  {
   "cell_type": "markdown",
   "id": "8a7b4891",
   "metadata": {},
   "source": [
    "With no arguments, this will get the shape of the stream. You can of course, pass in other displaying functions that you like. I typically just use `iden()`:"
   ]
  },
  {
   "cell_type": "code",
   "execution_count": 4,
   "id": "46e86347",
   "metadata": {},
   "outputs": [
    {
     "data": {
      "image/svg+xml": [
       "<svg xmlns=\"http://www.w3.org/2000/svg\" xmlns:xlink=\"http://www.w3.org/1999/xlink\" width=\"84pt\" height=\"152pt\" viewBox=\"0.00 0.00 121.40 218.00\">\n",
       "<g id=\"graph0\" class=\"graph\" transform=\"scale(1 1) rotate(0) translate(4 214)\">\n",
       "<polygon fill=\"white\" stroke=\"transparent\" points=\"-4,4 -4,-214 117.4,-214 117.4,4 -4,4\"/>\n",
       "<!-- 4 -->\n",
       "<g id=\"node1\" class=\"node\">\n",
       "<title>4</title>\n",
       "<ellipse fill=\"none\" stroke=\"black\" cx=\"36.4\" cy=\"-192\" rx=\"36.29\" ry=\"18\"/>\n",
       "<text text-anchor=\"middle\" x=\"36.4\" y=\"-188.3\" font-family=\"Times,serif\" font-size=\"14.00\">&lt;start&gt;</text>\n",
       "</g>\n",
       "<!-- 5 -->\n",
       "<g id=\"node2\" class=\"node\">\n",
       "<title>5</title>\n",
       "<ellipse fill=\"none\" stroke=\"black\" cx=\"36.4\" cy=\"-105\" rx=\"30.59\" ry=\"18\"/>\n",
       "<text text-anchor=\"middle\" x=\"36.4\" y=\"-101.3\" font-family=\"Times,serif\" font-size=\"14.00\">apply</text>\n",
       "</g>\n",
       "<!-- 4&#45;&gt;5 -->\n",
       "<g id=\"edge1\" class=\"edge\">\n",
       "<title>4-&gt;5</title>\n",
       "<path fill=\"none\" stroke=\"black\" d=\"M36.4,-173.8C36.4,-162.16 36.4,-146.55 36.4,-133.24\"/>\n",
       "<polygon fill=\"black\" stroke=\"black\" points=\"39.9,-133.18 36.4,-123.18 32.9,-133.18 39.9,-133.18\"/>\n",
       "<text text-anchor=\"middle\" x=\"71.4\" y=\"-144.8\" font-family=\"Times,serif\" font-size=\"14.00\">   [1, 2, 3, 4]</text>\n",
       "</g>\n",
       "<!-- 6 -->\n",
       "<g id=\"node3\" class=\"node\">\n",
       "<title>6</title>\n",
       "<ellipse fill=\"none\" stroke=\"black\" cx=\"36.4\" cy=\"-18\" rx=\"34.39\" ry=\"18\"/>\n",
       "<text text-anchor=\"middle\" x=\"36.4\" y=\"-14.3\" font-family=\"Times,serif\" font-size=\"14.00\">&lt;end&gt;</text>\n",
       "</g>\n",
       "<!-- 5&#45;&gt;6 -->\n",
       "<g id=\"edge2\" class=\"edge\">\n",
       "<title>5-&gt;6</title>\n",
       "<path fill=\"none\" stroke=\"black\" d=\"M36.4,-86.8C36.4,-75.16 36.4,-59.55 36.4,-46.24\"/>\n",
       "<polygon fill=\"black\" stroke=\"black\" points=\"39.9,-46.18 36.4,-36.18 32.9,-46.18 39.9,-46.18\"/>\n",
       "<text text-anchor=\"middle\" x=\"74.9\" y=\"-57.8\" font-family=\"Times,serif\" font-size=\"14.00\">   [1, 4, 9, 16]</text>\n",
       "</g>\n",
       "</g>\n",
       "</svg>"
      ],
      "text/plain": [
       "<IPython.core.display.SVG object>"
      ]
     },
     "metadata": {},
     "output_type": "display_data"
    },
    {
     "data": {
      "text/plain": [
       "<trace object>"
      ]
     },
     "execution_count": 4,
     "metadata": {},
     "output_type": "execute_result"
    }
   ],
   "source": [
    "range(1, 5) | trace(iden()) | apply(lambda x: x**2)"
   ]
  },
  {
   "cell_type": "markdown",
   "id": "07e8b5db",
   "metadata": {},
   "source": [
    "Notice how I left out the last `deref()`. It's because it's only there to display the final value to us. But we already got that data from `trace()`, so we don't have to anymore. Let's transform it one step further:"
   ]
  },
  {
   "cell_type": "code",
   "execution_count": 5,
   "id": "ce273c77",
   "metadata": {},
   "outputs": [
    {
     "data": {
      "image/svg+xml": [
       "<svg xmlns=\"http://www.w3.org/2000/svg\" xmlns:xlink=\"http://www.w3.org/1999/xlink\" width=\"91pt\" height=\"213pt\" viewBox=\"0.00 0.00 130.40 305.00\">\n",
       "<g id=\"graph0\" class=\"graph\" transform=\"scale(1 1) rotate(0) translate(4 301)\">\n",
       "<polygon fill=\"white\" stroke=\"transparent\" points=\"-4,4 -4,-301 126.4,-301 126.4,4 -4,4\"/>\n",
       "<!-- 7 -->\n",
       "<g id=\"node1\" class=\"node\">\n",
       "<title>7</title>\n",
       "<ellipse fill=\"none\" stroke=\"black\" cx=\"36.4\" cy=\"-279\" rx=\"36.29\" ry=\"18\"/>\n",
       "<text text-anchor=\"middle\" x=\"36.4\" y=\"-275.3\" font-family=\"Times,serif\" font-size=\"14.00\">&lt;start&gt;</text>\n",
       "</g>\n",
       "<!-- 8 -->\n",
       "<g id=\"node2\" class=\"node\">\n",
       "<title>8</title>\n",
       "<ellipse fill=\"none\" stroke=\"black\" cx=\"36.4\" cy=\"-192\" rx=\"30.59\" ry=\"18\"/>\n",
       "<text text-anchor=\"middle\" x=\"36.4\" y=\"-188.3\" font-family=\"Times,serif\" font-size=\"14.00\">apply</text>\n",
       "</g>\n",
       "<!-- 7&#45;&gt;8 -->\n",
       "<g id=\"edge1\" class=\"edge\">\n",
       "<title>7-&gt;8</title>\n",
       "<path fill=\"none\" stroke=\"black\" d=\"M36.4,-260.8C36.4,-249.16 36.4,-233.55 36.4,-220.24\"/>\n",
       "<polygon fill=\"black\" stroke=\"black\" points=\"39.9,-220.18 36.4,-210.18 32.9,-220.18 39.9,-220.18\"/>\n",
       "<text text-anchor=\"middle\" x=\"71.4\" y=\"-231.8\" font-family=\"Times,serif\" font-size=\"14.00\">   [1, 2, 3, 4]</text>\n",
       "</g>\n",
       "<!-- 9 -->\n",
       "<g id=\"node3\" class=\"node\">\n",
       "<title>9</title>\n",
       "<ellipse fill=\"none\" stroke=\"black\" cx=\"36.4\" cy=\"-105\" rx=\"30.59\" ry=\"18\"/>\n",
       "<text text-anchor=\"middle\" x=\"36.4\" y=\"-101.3\" font-family=\"Times,serif\" font-size=\"14.00\">apply</text>\n",
       "</g>\n",
       "<!-- 8&#45;&gt;9 -->\n",
       "<g id=\"edge2\" class=\"edge\">\n",
       "<title>8-&gt;9</title>\n",
       "<path fill=\"none\" stroke=\"black\" d=\"M36.4,-173.8C36.4,-162.16 36.4,-146.55 36.4,-133.24\"/>\n",
       "<polygon fill=\"black\" stroke=\"black\" points=\"39.9,-133.18 36.4,-123.18 32.9,-133.18 39.9,-133.18\"/>\n",
       "<text text-anchor=\"middle\" x=\"74.9\" y=\"-144.8\" font-family=\"Times,serif\" font-size=\"14.00\">   [1, 4, 9, 16]</text>\n",
       "</g>\n",
       "<!-- 10 -->\n",
       "<g id=\"node4\" class=\"node\">\n",
       "<title>10</title>\n",
       "<ellipse fill=\"none\" stroke=\"black\" cx=\"36.4\" cy=\"-18\" rx=\"34.39\" ry=\"18\"/>\n",
       "<text text-anchor=\"middle\" x=\"36.4\" y=\"-14.3\" font-family=\"Times,serif\" font-size=\"14.00\">&lt;end&gt;</text>\n",
       "</g>\n",
       "<!-- 9&#45;&gt;10 -->\n",
       "<g id=\"edge3\" class=\"edge\">\n",
       "<title>9-&gt;10</title>\n",
       "<path fill=\"none\" stroke=\"black\" d=\"M36.4,-86.8C36.4,-75.16 36.4,-59.55 36.4,-46.24\"/>\n",
       "<polygon fill=\"black\" stroke=\"black\" points=\"39.9,-46.18 36.4,-36.18 32.9,-46.18 39.9,-46.18\"/>\n",
       "<text text-anchor=\"middle\" x=\"79.4\" y=\"-57.8\" font-family=\"Times,serif\" font-size=\"14.00\">   [-5, -2, 3, 10]</text>\n",
       "</g>\n",
       "</g>\n",
       "</svg>"
      ],
      "text/plain": [
       "<IPython.core.display.SVG object>"
      ]
     },
     "metadata": {},
     "output_type": "display_data"
    },
    {
     "data": {
      "text/plain": [
       "<trace object>"
      ]
     },
     "execution_count": 5,
     "metadata": {},
     "output_type": "execute_result"
    }
   ],
   "source": [
    "range(1, 5) | trace(iden()) | apply(lambda x: x**2) | apply(lambda x: x - 6)"
   ]
  },
  {
   "cell_type": "markdown",
   "id": "6883caa0",
   "metadata": {},
   "source": [
    "Sweet. Let's combine the operations first, before feeding it input:"
   ]
  },
  {
   "cell_type": "code",
   "execution_count": 6,
   "id": "dd1da1cb",
   "metadata": {},
   "outputs": [
    {
     "data": {
      "image/svg+xml": [
       "<svg xmlns=\"http://www.w3.org/2000/svg\" xmlns:xlink=\"http://www.w3.org/1999/xlink\" width=\"103pt\" height=\"289pt\" viewBox=\"0.00 0.00 148.00 413.00\">\n",
       "<g id=\"graph0\" class=\"graph\" transform=\"scale(1 1) rotate(0) translate(4 409)\">\n",
       "<polygon fill=\"white\" stroke=\"transparent\" points=\"-4,4 -4,-409 144,-409 144,4 -4,4\"/>\n",
       "<g id=\"clust1\" class=\"cluster\">\n",
       "<title>cluster_0</title>\n",
       "<polygon fill=\"none\" stroke=\"black\" points=\"8,-166 8,-328 119,-328 119,-166 8,-166\"/>\n",
       "<text text-anchor=\"middle\" x=\"63.5\" y=\"-312.8\" font-family=\"Times,serif\" font-size=\"14.00\">|, serial</text>\n",
       "</g>\n",
       "<!-- 11 -->\n",
       "<g id=\"node1\" class=\"node\">\n",
       "<title>11</title>\n",
       "<ellipse fill=\"none\" stroke=\"black\" cx=\"47\" cy=\"-387\" rx=\"36.29\" ry=\"18\"/>\n",
       "<text text-anchor=\"middle\" x=\"47\" y=\"-383.3\" font-family=\"Times,serif\" font-size=\"14.00\">&lt;start&gt;</text>\n",
       "</g>\n",
       "<!-- 13 -->\n",
       "<g id=\"node2\" class=\"node\">\n",
       "<title>13</title>\n",
       "<ellipse fill=\"none\" stroke=\"black\" cx=\"47\" cy=\"-279\" rx=\"30.59\" ry=\"18\"/>\n",
       "<text text-anchor=\"middle\" x=\"47\" y=\"-275.3\" font-family=\"Times,serif\" font-size=\"14.00\">apply</text>\n",
       "</g>\n",
       "<!-- 11&#45;&gt;13 -->\n",
       "<g id=\"edge2\" class=\"edge\">\n",
       "<title>11-&gt;13</title>\n",
       "<path fill=\"none\" stroke=\"black\" d=\"M47,-368.97C47,-352.38 47,-326.88 47,-307.43\"/>\n",
       "<polygon fill=\"black\" stroke=\"black\" points=\"50.5,-307.34 47,-297.34 43.5,-307.34 50.5,-307.34\"/>\n",
       "<text text-anchor=\"middle\" x=\"82\" y=\"-339.8\" font-family=\"Times,serif\" font-size=\"14.00\">   [1, 2, 3, 4]</text>\n",
       "</g>\n",
       "<!-- 14 -->\n",
       "<g id=\"node3\" class=\"node\">\n",
       "<title>14</title>\n",
       "<ellipse fill=\"none\" stroke=\"black\" cx=\"47\" cy=\"-192\" rx=\"30.59\" ry=\"18\"/>\n",
       "<text text-anchor=\"middle\" x=\"47\" y=\"-188.3\" font-family=\"Times,serif\" font-size=\"14.00\">apply</text>\n",
       "</g>\n",
       "<!-- 13&#45;&gt;14 -->\n",
       "<g id=\"edge1\" class=\"edge\">\n",
       "<title>13-&gt;14</title>\n",
       "<path fill=\"none\" stroke=\"black\" d=\"M47,-260.8C47,-249.16 47,-233.55 47,-220.24\"/>\n",
       "<polygon fill=\"black\" stroke=\"black\" points=\"50.5,-220.18 47,-210.18 43.5,-220.18 50.5,-220.18\"/>\n",
       "<text text-anchor=\"middle\" x=\"85.5\" y=\"-231.8\" font-family=\"Times,serif\" font-size=\"14.00\">   [1, 4, 9, 16]</text>\n",
       "</g>\n",
       "<!-- 15 -->\n",
       "<g id=\"node4\" class=\"node\">\n",
       "<title>15</title>\n",
       "<ellipse fill=\"none\" stroke=\"black\" cx=\"47\" cy=\"-105\" rx=\"30.59\" ry=\"18\"/>\n",
       "<text text-anchor=\"middle\" x=\"47\" y=\"-101.3\" font-family=\"Times,serif\" font-size=\"14.00\">apply</text>\n",
       "</g>\n",
       "<!-- 14&#45;&gt;15 -->\n",
       "<g id=\"edge3\" class=\"edge\">\n",
       "<title>14-&gt;15</title>\n",
       "<path fill=\"none\" stroke=\"black\" d=\"M47,-173.8C47,-162.16 47,-146.55 47,-133.24\"/>\n",
       "<polygon fill=\"black\" stroke=\"black\" points=\"50.5,-133.18 47,-123.18 43.5,-133.18 50.5,-133.18\"/>\n",
       "<text text-anchor=\"middle\" x=\"90\" y=\"-144.8\" font-family=\"Times,serif\" font-size=\"14.00\">   [-5, -2, 3, 10]</text>\n",
       "</g>\n",
       "<!-- 16 -->\n",
       "<g id=\"node5\" class=\"node\">\n",
       "<title>16</title>\n",
       "<ellipse fill=\"none\" stroke=\"black\" cx=\"47\" cy=\"-18\" rx=\"34.39\" ry=\"18\"/>\n",
       "<text text-anchor=\"middle\" x=\"47\" y=\"-14.3\" font-family=\"Times,serif\" font-size=\"14.00\">&lt;end&gt;</text>\n",
       "</g>\n",
       "<!-- 15&#45;&gt;16 -->\n",
       "<g id=\"edge4\" class=\"edge\">\n",
       "<title>15-&gt;16</title>\n",
       "<path fill=\"none\" stroke=\"black\" d=\"M47,-86.8C47,-75.16 47,-59.55 47,-46.24\"/>\n",
       "<polygon fill=\"black\" stroke=\"black\" points=\"50.5,-46.18 47,-36.18 43.5,-46.18 50.5,-46.18\"/>\n",
       "<text text-anchor=\"middle\" x=\"93.5\" y=\"-57.8\" font-family=\"Times,serif\" font-size=\"14.00\">   [-15, -6, 9, 30]</text>\n",
       "</g>\n",
       "</g>\n",
       "</svg>"
      ],
      "text/plain": [
       "<IPython.core.display.SVG object>"
      ]
     },
     "metadata": {},
     "output_type": "display_data"
    },
    {
     "data": {
      "text/plain": [
       "<trace object>"
      ]
     },
     "execution_count": 6,
     "metadata": {},
     "output_type": "execute_result"
    }
   ],
   "source": [
    "range(1, 5) | trace(iden()) | (apply(lambda x: x**2) | apply(lambda x: x - 6)) | apply(lambda x: x*3)"
   ]
  },
  {
   "cell_type": "markdown",
   "id": "4ec71fd9",
   "metadata": {},
   "source": [
    "It knows, and automatically box the operations in. You can also put `trace()` wherever you like:"
   ]
  },
  {
   "cell_type": "code",
   "execution_count": 7,
   "id": "ee4471a8",
   "metadata": {},
   "outputs": [
    {
     "data": {
      "image/svg+xml": [
       "<svg xmlns=\"http://www.w3.org/2000/svg\" xmlns:xlink=\"http://www.w3.org/1999/xlink\" width=\"95pt\" height=\"152pt\" viewBox=\"0.00 0.00 137.40 218.00\">\n",
       "<g id=\"graph0\" class=\"graph\" transform=\"scale(1 1) rotate(0) translate(4 214)\">\n",
       "<polygon fill=\"white\" stroke=\"transparent\" points=\"-4,4 -4,-214 133.4,-214 133.4,4 -4,4\"/>\n",
       "<!-- 17 -->\n",
       "<g id=\"node1\" class=\"node\">\n",
       "<title>17</title>\n",
       "<ellipse fill=\"none\" stroke=\"black\" cx=\"36.4\" cy=\"-192\" rx=\"36.29\" ry=\"18\"/>\n",
       "<text text-anchor=\"middle\" x=\"36.4\" y=\"-188.3\" font-family=\"Times,serif\" font-size=\"14.00\">&lt;start&gt;</text>\n",
       "</g>\n",
       "<!-- 18 -->\n",
       "<g id=\"node2\" class=\"node\">\n",
       "<title>18</title>\n",
       "<ellipse fill=\"none\" stroke=\"black\" cx=\"36.4\" cy=\"-105\" rx=\"30.59\" ry=\"18\"/>\n",
       "<text text-anchor=\"middle\" x=\"36.4\" y=\"-101.3\" font-family=\"Times,serif\" font-size=\"14.00\">apply</text>\n",
       "</g>\n",
       "<!-- 17&#45;&gt;18 -->\n",
       "<g id=\"edge1\" class=\"edge\">\n",
       "<title>17-&gt;18</title>\n",
       "<path fill=\"none\" stroke=\"black\" d=\"M36.4,-173.8C36.4,-162.16 36.4,-146.55 36.4,-133.24\"/>\n",
       "<polygon fill=\"black\" stroke=\"black\" points=\"39.9,-133.18 36.4,-123.18 32.9,-133.18 39.9,-133.18\"/>\n",
       "<text text-anchor=\"middle\" x=\"79.4\" y=\"-144.8\" font-family=\"Times,serif\" font-size=\"14.00\">   [-5, -2, 3, 10]</text>\n",
       "</g>\n",
       "<!-- 19 -->\n",
       "<g id=\"node3\" class=\"node\">\n",
       "<title>19</title>\n",
       "<ellipse fill=\"none\" stroke=\"black\" cx=\"36.4\" cy=\"-18\" rx=\"34.39\" ry=\"18\"/>\n",
       "<text text-anchor=\"middle\" x=\"36.4\" y=\"-14.3\" font-family=\"Times,serif\" font-size=\"14.00\">&lt;end&gt;</text>\n",
       "</g>\n",
       "<!-- 18&#45;&gt;19 -->\n",
       "<g id=\"edge2\" class=\"edge\">\n",
       "<title>18-&gt;19</title>\n",
       "<path fill=\"none\" stroke=\"black\" d=\"M36.4,-86.8C36.4,-75.16 36.4,-59.55 36.4,-46.24\"/>\n",
       "<polygon fill=\"black\" stroke=\"black\" points=\"39.9,-46.18 36.4,-36.18 32.9,-46.18 39.9,-46.18\"/>\n",
       "<text text-anchor=\"middle\" x=\"82.9\" y=\"-57.8\" font-family=\"Times,serif\" font-size=\"14.00\">   [-15, -6, 9, 30]</text>\n",
       "</g>\n",
       "</g>\n",
       "</svg>"
      ],
      "text/plain": [
       "<IPython.core.display.SVG object>"
      ]
     },
     "metadata": {},
     "output_type": "display_data"
    },
    {
     "data": {
      "text/plain": [
       "<trace object>"
      ]
     },
     "execution_count": 7,
     "metadata": {},
     "output_type": "execute_result"
    }
   ],
   "source": [
    "range(1, 5) | (apply(lambda x: x**2) | apply(lambda x: x - 6)) | trace(iden()) | apply(lambda x: x*3)"
   ]
  },
  {
   "cell_type": "markdown",
   "id": "e75a3c2c",
   "metadata": {},
   "source": [
    "You can go wild with this. This is an example with `.all()`, `|`, and `op()`:"
   ]
  },
  {
   "cell_type": "code",
   "execution_count": 8,
   "id": "7fffb72c",
   "metadata": {},
   "outputs": [
    {
     "data": {
      "image/svg+xml": [
       "<svg xmlns=\"http://www.w3.org/2000/svg\" xmlns:xlink=\"http://www.w3.org/1999/xlink\" width=\"217pt\" height=\"364pt\" viewBox=\"0.00 0.00 310.00 521.00\">\n",
       "<g id=\"graph0\" class=\"graph\" transform=\"scale(1 1) rotate(0) translate(4 517)\">\n",
       "<polygon fill=\"white\" stroke=\"transparent\" points=\"-4,4 -4,-517 306,-517 306,4 -4,4\"/>\n",
       "<g id=\"clust1\" class=\"cluster\">\n",
       "<title>cluster_1</title>\n",
       "<polygon fill=\"none\" stroke=\"black\" points=\"8,-79 8,-436 173,-436 173,-79 8,-79\"/>\n",
       "<text text-anchor=\"middle\" x=\"90.5\" y=\"-420.8\" font-family=\"Times,serif\" font-size=\"14.00\">.all(), manyToMany, apply</text>\n",
       "</g>\n",
       "<g id=\"clust2\" class=\"cluster\">\n",
       "<title>cluster_2</title>\n",
       "<polygon fill=\"none\" stroke=\"black\" points=\"42,-166 42,-328 122,-328 122,-166 42,-166\"/>\n",
       "<text text-anchor=\"middle\" x=\"82\" y=\"-312.8\" font-family=\"Times,serif\" font-size=\"14.00\">|, serial</text>\n",
       "</g>\n",
       "<!-- 20 -->\n",
       "<g id=\"node1\" class=\"node\">\n",
       "<title>20</title>\n",
       "<ellipse fill=\"none\" stroke=\"black\" cx=\"82\" cy=\"-495\" rx=\"36.29\" ry=\"18\"/>\n",
       "<text text-anchor=\"middle\" x=\"82\" y=\"-491.3\" font-family=\"Times,serif\" font-size=\"14.00\">&lt;start&gt;</text>\n",
       "</g>\n",
       "<!-- 22 -->\n",
       "<g id=\"node2\" class=\"node\">\n",
       "<title>22</title>\n",
       "<ellipse fill=\"none\" stroke=\"black\" cx=\"82\" cy=\"-387\" rx=\"27\" ry=\"18\"/>\n",
       "<text text-anchor=\"middle\" x=\"82\" y=\"-383.3\" font-family=\"Times,serif\" font-size=\"14.00\">*</text>\n",
       "</g>\n",
       "<!-- 20&#45;&gt;22 -->\n",
       "<g id=\"edge4\" class=\"edge\">\n",
       "<title>20-&gt;22</title>\n",
       "<path fill=\"none\" stroke=\"black\" d=\"M82,-476.97C82,-460.38 82,-434.88 82,-415.43\"/>\n",
       "<polygon fill=\"black\" stroke=\"black\" points=\"85.5,-415.34 82,-405.34 78.5,-415.34 85.5,-415.34\"/>\n",
       "<text text-anchor=\"middle\" x=\"117\" y=\"-447.8\" font-family=\"Times,serif\" font-size=\"14.00\">   [1, 2, 3, 4]</text>\n",
       "</g>\n",
       "<!-- 24 -->\n",
       "<g id=\"node3\" class=\"node\">\n",
       "<title>24</title>\n",
       "<ellipse fill=\"none\" stroke=\"black\" cx=\"82\" cy=\"-279\" rx=\"27\" ry=\"18\"/>\n",
       "<text text-anchor=\"middle\" x=\"82\" y=\"-275.3\" font-family=\"Times,serif\" font-size=\"14.00\">op</text>\n",
       "</g>\n",
       "<!-- 22&#45;&gt;24 -->\n",
       "<g id=\"edge2\" class=\"edge\">\n",
       "<title>22-&gt;24</title>\n",
       "<path fill=\"none\" stroke=\"black\" d=\"M82,-368.97C82,-352.38 82,-326.88 82,-307.43\"/>\n",
       "<polygon fill=\"black\" stroke=\"black\" points=\"85.5,-307.34 82,-297.34 78.5,-307.34 85.5,-307.34\"/>\n",
       "<text text-anchor=\"middle\" x=\"91.5\" y=\"-339.8\" font-family=\"Times,serif\" font-size=\"14.00\">   1</text>\n",
       "</g>\n",
       "<!-- 25 -->\n",
       "<g id=\"node4\" class=\"node\">\n",
       "<title>25</title>\n",
       "<ellipse fill=\"none\" stroke=\"black\" cx=\"82\" cy=\"-192\" rx=\"32.49\" ry=\"18\"/>\n",
       "<text text-anchor=\"middle\" x=\"82\" y=\"-188.3\" font-family=\"Times,serif\" font-size=\"14.00\">repeat</text>\n",
       "</g>\n",
       "<!-- 24&#45;&gt;25 -->\n",
       "<g id=\"edge1\" class=\"edge\">\n",
       "<title>24-&gt;25</title>\n",
       "<path fill=\"none\" stroke=\"black\" d=\"M82,-260.8C82,-249.16 82,-233.55 82,-220.24\"/>\n",
       "<polygon fill=\"black\" stroke=\"black\" points=\"85.5,-220.18 82,-210.18 78.5,-220.18 85.5,-220.18\"/>\n",
       "<text text-anchor=\"middle\" x=\"91.5\" y=\"-231.8\" font-family=\"Times,serif\" font-size=\"14.00\">   2</text>\n",
       "</g>\n",
       "<!-- 26 -->\n",
       "<g id=\"node5\" class=\"node\">\n",
       "<title>26</title>\n",
       "<ellipse fill=\"none\" stroke=\"black\" cx=\"82\" cy=\"-105\" rx=\"27\" ry=\"18\"/>\n",
       "<text text-anchor=\"middle\" x=\"82\" y=\"-101.3\" font-family=\"Times,serif\" font-size=\"14.00\">*</text>\n",
       "</g>\n",
       "<!-- 25&#45;&gt;26 -->\n",
       "<g id=\"edge3\" class=\"edge\">\n",
       "<title>25-&gt;26</title>\n",
       "<path fill=\"none\" stroke=\"black\" d=\"M82,-173.8C82,-162.16 82,-146.55 82,-133.24\"/>\n",
       "<polygon fill=\"black\" stroke=\"black\" points=\"85.5,-133.18 82,-123.18 78.5,-133.18 85.5,-133.18\"/>\n",
       "<text text-anchor=\"middle\" x=\"110\" y=\"-144.8\" font-family=\"Times,serif\" font-size=\"14.00\">   [2, 2, 2]</text>\n",
       "</g>\n",
       "<!-- 27 -->\n",
       "<g id=\"node6\" class=\"node\">\n",
       "<title>27</title>\n",
       "<ellipse fill=\"none\" stroke=\"black\" cx=\"82\" cy=\"-18\" rx=\"34.39\" ry=\"18\"/>\n",
       "<text text-anchor=\"middle\" x=\"82\" y=\"-14.3\" font-family=\"Times,serif\" font-size=\"14.00\">&lt;end&gt;</text>\n",
       "</g>\n",
       "<!-- 26&#45;&gt;27 -->\n",
       "<g id=\"edge5\" class=\"edge\">\n",
       "<title>26-&gt;27</title>\n",
       "<path fill=\"none\" stroke=\"black\" d=\"M82,-86.8C82,-75.16 82,-59.55 82,-46.24\"/>\n",
       "<polygon fill=\"black\" stroke=\"black\" points=\"85.5,-46.18 82,-36.18 78.5,-46.18 85.5,-46.18\"/>\n",
       "<text text-anchor=\"middle\" x=\"192\" y=\"-57.8\" font-family=\"Times,serif\" font-size=\"14.00\">   [[2, 2, 2], [4, 4, 4], [6, 6, 6], [8, 8, 8]]</text>\n",
       "</g>\n",
       "</g>\n",
       "</svg>"
      ],
      "text/plain": [
       "<IPython.core.display.SVG object>"
      ]
     },
     "metadata": {},
     "output_type": "display_data"
    },
    {
     "data": {
      "text/plain": [
       "<trace object>"
      ]
     },
     "execution_count": 8,
     "metadata": {},
     "output_type": "execute_result"
    }
   ],
   "source": [
    "range(1,5) | trace(iden()) | (op()*2 | repeat(3)).all()"
   ]
  },
  {
   "cell_type": "markdown",
   "id": "56499bf3",
   "metadata": {},
   "source": [
    "You can limit the depth of the graph, like this:"
   ]
  },
  {
   "cell_type": "code",
   "execution_count": 9,
   "id": "142fee1e",
   "metadata": {},
   "outputs": [
    {
     "data": {
      "image/svg+xml": [
       "<svg xmlns=\"http://www.w3.org/2000/svg\" xmlns:xlink=\"http://www.w3.org/1999/xlink\" width=\"213pt\" height=\"289pt\" viewBox=\"0.00 0.00 305.00 413.00\">\n",
       "<g id=\"graph0\" class=\"graph\" transform=\"scale(1 1) rotate(0) translate(4 409)\">\n",
       "<polygon fill=\"white\" stroke=\"transparent\" points=\"-4,4 -4,-409 301,-409 301,4 -4,4\"/>\n",
       "<g id=\"clust1\" class=\"cluster\">\n",
       "<title>cluster_3</title>\n",
       "<polygon fill=\"none\" stroke=\"black\" points=\"8,-79 8,-328 173,-328 173,-79 8,-79\"/>\n",
       "<text text-anchor=\"middle\" x=\"90.5\" y=\"-312.8\" font-family=\"Times,serif\" font-size=\"14.00\">.all(), manyToMany, apply</text>\n",
       "</g>\n",
       "<!-- 28 -->\n",
       "<g id=\"node1\" class=\"node\">\n",
       "<title>28</title>\n",
       "<ellipse fill=\"none\" stroke=\"black\" cx=\"77\" cy=\"-387\" rx=\"36.29\" ry=\"18\"/>\n",
       "<text text-anchor=\"middle\" x=\"77\" y=\"-383.3\" font-family=\"Times,serif\" font-size=\"14.00\">&lt;start&gt;</text>\n",
       "</g>\n",
       "<!-- 30 -->\n",
       "<g id=\"node2\" class=\"node\">\n",
       "<title>30</title>\n",
       "<ellipse fill=\"none\" stroke=\"black\" cx=\"77\" cy=\"-279\" rx=\"27\" ry=\"18\"/>\n",
       "<text text-anchor=\"middle\" x=\"77\" y=\"-275.3\" font-family=\"Times,serif\" font-size=\"14.00\">*</text>\n",
       "</g>\n",
       "<!-- 28&#45;&gt;30 -->\n",
       "<g id=\"edge3\" class=\"edge\">\n",
       "<title>28-&gt;30</title>\n",
       "<path fill=\"none\" stroke=\"black\" d=\"M77,-368.97C77,-352.38 77,-326.88 77,-307.43\"/>\n",
       "<polygon fill=\"black\" stroke=\"black\" points=\"80.5,-307.34 77,-297.34 73.5,-307.34 80.5,-307.34\"/>\n",
       "<text text-anchor=\"middle\" x=\"112\" y=\"-339.8\" font-family=\"Times,serif\" font-size=\"14.00\">   [1, 2, 3, 4]</text>\n",
       "</g>\n",
       "<!-- 31 -->\n",
       "<g id=\"node3\" class=\"node\">\n",
       "<title>31</title>\n",
       "<ellipse fill=\"none\" stroke=\"black\" cx=\"77\" cy=\"-192\" rx=\"29.8\" ry=\"18\"/>\n",
       "<text text-anchor=\"middle\" x=\"77\" y=\"-188.3\" font-family=\"Times,serif\" font-size=\"14.00\">serial</text>\n",
       "</g>\n",
       "<!-- 30&#45;&gt;31 -->\n",
       "<g id=\"edge1\" class=\"edge\">\n",
       "<title>30-&gt;31</title>\n",
       "<path fill=\"none\" stroke=\"black\" d=\"M77,-260.8C77,-249.16 77,-233.55 77,-220.24\"/>\n",
       "<polygon fill=\"black\" stroke=\"black\" points=\"80.5,-220.18 77,-210.18 73.5,-220.18 80.5,-220.18\"/>\n",
       "<text text-anchor=\"middle\" x=\"86.5\" y=\"-231.8\" font-family=\"Times,serif\" font-size=\"14.00\">   1</text>\n",
       "</g>\n",
       "<!-- 32 -->\n",
       "<g id=\"node4\" class=\"node\">\n",
       "<title>32</title>\n",
       "<ellipse fill=\"none\" stroke=\"black\" cx=\"77\" cy=\"-105\" rx=\"27\" ry=\"18\"/>\n",
       "<text text-anchor=\"middle\" x=\"77\" y=\"-101.3\" font-family=\"Times,serif\" font-size=\"14.00\">*</text>\n",
       "</g>\n",
       "<!-- 31&#45;&gt;32 -->\n",
       "<g id=\"edge2\" class=\"edge\">\n",
       "<title>31-&gt;32</title>\n",
       "<path fill=\"none\" stroke=\"black\" d=\"M77,-173.8C77,-162.16 77,-146.55 77,-133.24\"/>\n",
       "<polygon fill=\"black\" stroke=\"black\" points=\"80.5,-133.18 77,-123.18 73.5,-133.18 80.5,-133.18\"/>\n",
       "<text text-anchor=\"middle\" x=\"105\" y=\"-144.8\" font-family=\"Times,serif\" font-size=\"14.00\">   [2, 2, 2]</text>\n",
       "</g>\n",
       "<!-- 33 -->\n",
       "<g id=\"node5\" class=\"node\">\n",
       "<title>33</title>\n",
       "<ellipse fill=\"none\" stroke=\"black\" cx=\"77\" cy=\"-18\" rx=\"34.39\" ry=\"18\"/>\n",
       "<text text-anchor=\"middle\" x=\"77\" y=\"-14.3\" font-family=\"Times,serif\" font-size=\"14.00\">&lt;end&gt;</text>\n",
       "</g>\n",
       "<!-- 32&#45;&gt;33 -->\n",
       "<g id=\"edge4\" class=\"edge\">\n",
       "<title>32-&gt;33</title>\n",
       "<path fill=\"none\" stroke=\"black\" d=\"M77,-86.8C77,-75.16 77,-59.55 77,-46.24\"/>\n",
       "<polygon fill=\"black\" stroke=\"black\" points=\"80.5,-46.18 77,-36.18 73.5,-46.18 80.5,-46.18\"/>\n",
       "<text text-anchor=\"middle\" x=\"187\" y=\"-57.8\" font-family=\"Times,serif\" font-size=\"14.00\">   [[2, 2, 2], [4, 4, 4], [6, 6, 6], [8, 8, 8]]</text>\n",
       "</g>\n",
       "</g>\n",
       "</svg>"
      ],
      "text/plain": [
       "<IPython.core.display.SVG object>"
      ]
     },
     "metadata": {},
     "output_type": "display_data"
    },
    {
     "data": {
      "text/plain": [
       "<trace object>"
      ]
     },
     "execution_count": 9,
     "metadata": {},
     "output_type": "execute_result"
    }
   ],
   "source": [
    "range(1,5) | trace(iden(), 1) | (op()*2 | repeat(3)).all()"
   ]
  },
  {
   "cell_type": "code",
   "execution_count": 10,
   "id": "e606a62c",
   "metadata": {},
   "outputs": [
    {
     "data": {
      "image/svg+xml": [
       "<svg xmlns=\"http://www.w3.org/2000/svg\" xmlns:xlink=\"http://www.w3.org/1999/xlink\" width=\"203pt\" height=\"152pt\" viewBox=\"0.00 0.00 289.74 218.00\">\n",
       "<g id=\"graph0\" class=\"graph\" transform=\"scale(1 1) rotate(0) translate(4 214)\">\n",
       "<polygon fill=\"white\" stroke=\"transparent\" points=\"-4,4 -4,-214 285.74,-214 285.74,4 -4,4\"/>\n",
       "<!-- 34 -->\n",
       "<g id=\"node1\" class=\"node\">\n",
       "<title>34</title>\n",
       "<ellipse fill=\"none\" stroke=\"black\" cx=\"61.74\" cy=\"-192\" rx=\"36.29\" ry=\"18\"/>\n",
       "<text text-anchor=\"middle\" x=\"61.74\" y=\"-188.3\" font-family=\"Times,serif\" font-size=\"14.00\">&lt;start&gt;</text>\n",
       "</g>\n",
       "<!-- 35 -->\n",
       "<g id=\"node2\" class=\"node\">\n",
       "<title>35</title>\n",
       "<ellipse fill=\"none\" stroke=\"black\" cx=\"61.74\" cy=\"-105\" rx=\"61.99\" ry=\"18\"/>\n",
       "<text text-anchor=\"middle\" x=\"61.74\" y=\"-101.3\" font-family=\"Times,serif\" font-size=\"14.00\">manyToMany</text>\n",
       "</g>\n",
       "<!-- 34&#45;&gt;35 -->\n",
       "<g id=\"edge1\" class=\"edge\">\n",
       "<title>34-&gt;35</title>\n",
       "<path fill=\"none\" stroke=\"black\" d=\"M61.74,-173.8C61.74,-162.16 61.74,-146.55 61.74,-133.24\"/>\n",
       "<polygon fill=\"black\" stroke=\"black\" points=\"65.24,-133.18 61.74,-123.18 58.24,-133.18 65.24,-133.18\"/>\n",
       "<text text-anchor=\"middle\" x=\"96.74\" y=\"-144.8\" font-family=\"Times,serif\" font-size=\"14.00\">   [1, 2, 3, 4]</text>\n",
       "</g>\n",
       "<!-- 36 -->\n",
       "<g id=\"node3\" class=\"node\">\n",
       "<title>36</title>\n",
       "<ellipse fill=\"none\" stroke=\"black\" cx=\"61.74\" cy=\"-18\" rx=\"34.39\" ry=\"18\"/>\n",
       "<text text-anchor=\"middle\" x=\"61.74\" y=\"-14.3\" font-family=\"Times,serif\" font-size=\"14.00\">&lt;end&gt;</text>\n",
       "</g>\n",
       "<!-- 35&#45;&gt;36 -->\n",
       "<g id=\"edge2\" class=\"edge\">\n",
       "<title>35-&gt;36</title>\n",
       "<path fill=\"none\" stroke=\"black\" d=\"M61.74,-86.8C61.74,-75.16 61.74,-59.55 61.74,-46.24\"/>\n",
       "<polygon fill=\"black\" stroke=\"black\" points=\"65.24,-46.18 61.74,-36.18 58.24,-46.18 65.24,-46.18\"/>\n",
       "<text text-anchor=\"middle\" x=\"171.74\" y=\"-57.8\" font-family=\"Times,serif\" font-size=\"14.00\">   [[2, 2, 2], [4, 4, 4], [6, 6, 6], [8, 8, 8]]</text>\n",
       "</g>\n",
       "</g>\n",
       "</svg>"
      ],
      "text/plain": [
       "<IPython.core.display.SVG object>"
      ]
     },
     "metadata": {},
     "output_type": "display_data"
    },
    {
     "data": {
      "text/plain": [
       "<trace object>"
      ]
     },
     "execution_count": 10,
     "metadata": {},
     "output_type": "execute_result"
    }
   ],
   "source": [
    "range(1,5) | trace(iden(), 0) | (op()*2 | repeat(3)).all()"
   ]
  },
  {
   "cell_type": "markdown",
   "id": "54be16cb",
   "metadata": {},
   "source": [
    "If the graphs are too small/big, you can adjust the settings, like this:"
   ]
  },
  {
   "cell_type": "code",
   "execution_count": 11,
   "id": "ace5dae0",
   "metadata": {},
   "outputs": [],
   "source": [
    "cliSettings[\"svgScale\"] = 0.7 # times graphviz's default size. Defaulted to 0.7"
   ]
  },
  {
   "cell_type": "markdown",
   "id": "6722d4c2",
   "metadata": {},
   "source": [
    "Let's see some more complex examples:"
   ]
  },
  {
   "cell_type": "code",
   "execution_count": 12,
   "id": "8bbed88c",
   "metadata": {},
   "outputs": [
    {
     "data": {
      "image/svg+xml": [
       "<svg xmlns=\"http://www.w3.org/2000/svg\" xmlns:xlink=\"http://www.w3.org/1999/xlink\" width=\"186pt\" height=\"501pt\" viewBox=\"0.00 0.00 267.00 716.00\">\n",
       "<g id=\"graph0\" class=\"graph\" transform=\"scale(1 1) rotate(0) translate(4 712)\">\n",
       "<polygon fill=\"white\" stroke=\"transparent\" points=\"-4,4 -4,-712 263,-712 263,4 -4,4\"/>\n",
       "<g id=\"clust1\" class=\"cluster\">\n",
       "<title>cluster_4</title>\n",
       "<polygon fill=\"none\" stroke=\"black\" points=\"8,-79 8,-631 251,-631 251,-79 8,-79\"/>\n",
       "<text text-anchor=\"middle\" x=\"129.5\" y=\"-615.8\" font-family=\"Times,serif\" font-size=\"14.00\">&amp;, oneToMany</text>\n",
       "</g>\n",
       "<g id=\"clust2\" class=\"cluster\">\n",
       "<title>cluster_5</title>\n",
       "<polygon fill=\"none\" stroke=\"black\" points=\"78,-166 78,-523 243,-523 243,-166 78,-166\"/>\n",
       "<text text-anchor=\"middle\" x=\"160.5\" y=\"-507.8\" font-family=\"Times,serif\" font-size=\"14.00\">.all(), manyToMany, apply</text>\n",
       "</g>\n",
       "<g id=\"clust3\" class=\"cluster\">\n",
       "<title>cluster_6</title>\n",
       "<polygon fill=\"none\" stroke=\"black\" points=\"88,-253 88,-415 158,-415 158,-253 88,-253\"/>\n",
       "<text text-anchor=\"middle\" x=\"123\" y=\"-399.8\" font-family=\"Times,serif\" font-size=\"14.00\">|, serial</text>\n",
       "</g>\n",
       "<!-- 37 -->\n",
       "<g id=\"node1\" class=\"node\">\n",
       "<title>37</title>\n",
       "<ellipse fill=\"none\" stroke=\"black\" cx=\"85\" cy=\"-690\" rx=\"36.29\" ry=\"18\"/>\n",
       "<text text-anchor=\"middle\" x=\"85\" y=\"-686.3\" font-family=\"Times,serif\" font-size=\"14.00\">&lt;start&gt;</text>\n",
       "</g>\n",
       "<!-- 39 -->\n",
       "<g id=\"node2\" class=\"node\">\n",
       "<title>39</title>\n",
       "<ellipse fill=\"none\" stroke=\"black\" cx=\"85\" cy=\"-582\" rx=\"27\" ry=\"18\"/>\n",
       "<text text-anchor=\"middle\" x=\"85\" y=\"-578.3\" font-family=\"Times,serif\" font-size=\"14.00\">*</text>\n",
       "</g>\n",
       "<!-- 37&#45;&gt;39 -->\n",
       "<g id=\"edge8\" class=\"edge\">\n",
       "<title>37-&gt;39</title>\n",
       "<path fill=\"none\" stroke=\"black\" d=\"M85,-671.97C85,-655.38 85,-629.88 85,-610.43\"/>\n",
       "<polygon fill=\"black\" stroke=\"black\" points=\"88.5,-610.34 85,-600.34 81.5,-610.34 88.5,-610.34\"/>\n",
       "<text text-anchor=\"middle\" x=\"120\" y=\"-642.8\" font-family=\"Times,serif\" font-size=\"14.00\">   [1, 2, 3, 4]</text>\n",
       "</g>\n",
       "<!-- 41 -->\n",
       "<g id=\"node3\" class=\"node\">\n",
       "<title>41</title>\n",
       "<ellipse fill=\"none\" stroke=\"black\" cx=\"43\" cy=\"-474\" rx=\"27\" ry=\"18\"/>\n",
       "<text text-anchor=\"middle\" x=\"43\" y=\"-470.3\" font-family=\"Times,serif\" font-size=\"14.00\">size</text>\n",
       "</g>\n",
       "<!-- 39&#45;&gt;41 -->\n",
       "<g id=\"edge1\" class=\"edge\">\n",
       "<title>39-&gt;41</title>\n",
       "<path fill=\"none\" stroke=\"black\" d=\"M63.89,-570.7C54.44,-564.87 44.26,-556.61 39,-546 32.27,-532.43 32.91,-515.55 35.4,-501.66\"/>\n",
       "<polygon fill=\"black\" stroke=\"black\" points=\"38.86,-502.24 37.58,-491.72 32.02,-500.74 38.86,-502.24\"/>\n",
       "<text text-anchor=\"middle\" x=\"74\" y=\"-534.8\" font-family=\"Times,serif\" font-size=\"14.00\">   [1, 2, 3, 4]</text>\n",
       "</g>\n",
       "<!-- 43 -->\n",
       "<g id=\"node5\" class=\"node\">\n",
       "<title>43</title>\n",
       "<ellipse fill=\"none\" stroke=\"black\" cx=\"129\" cy=\"-474\" rx=\"27\" ry=\"18\"/>\n",
       "<text text-anchor=\"middle\" x=\"129\" y=\"-470.3\" font-family=\"Times,serif\" font-size=\"14.00\">*</text>\n",
       "</g>\n",
       "<!-- 39&#45;&gt;43 -->\n",
       "<g id=\"edge3\" class=\"edge\">\n",
       "<title>39-&gt;43</title>\n",
       "<path fill=\"none\" stroke=\"black\" d=\"M97.15,-565.63C101.36,-559.75 105.81,-552.81 109,-546 115.51,-532.09 120.31,-515.63 123.57,-502.06\"/>\n",
       "<polygon fill=\"black\" stroke=\"black\" points=\"127.08,-502.43 125.87,-491.9 120.25,-500.89 127.08,-502.43\"/>\n",
       "<text text-anchor=\"middle\" x=\"150\" y=\"-534.8\" font-family=\"Times,serif\" font-size=\"14.00\">   [1, 2, 3, 4]</text>\n",
       "</g>\n",
       "<!-- 40 -->\n",
       "<g id=\"node4\" class=\"node\">\n",
       "<title>40</title>\n",
       "<ellipse fill=\"none\" stroke=\"black\" cx=\"66\" cy=\"-105\" rx=\"27\" ry=\"18\"/>\n",
       "<text text-anchor=\"middle\" x=\"66\" y=\"-101.3\" font-family=\"Times,serif\" font-size=\"14.00\">*</text>\n",
       "</g>\n",
       "<!-- 41&#45;&gt;40 -->\n",
       "<g id=\"edge2\" class=\"edge\">\n",
       "<title>41-&gt;40</title>\n",
       "<path fill=\"none\" stroke=\"black\" d=\"M42.74,-455.74C42.44,-434.76 42,-398.29 42,-367 42,-367 42,-367 42,-191 42,-170.68 48.43,-148.63 54.63,-132.07\"/>\n",
       "<polygon fill=\"black\" stroke=\"black\" points=\"57.98,-133.13 58.41,-122.54 51.47,-130.55 57.98,-133.13\"/>\n",
       "<text text-anchor=\"middle\" x=\"56\" y=\"-275.3\" font-family=\"Times,serif\" font-size=\"14.00\">   [4]</text>\n",
       "</g>\n",
       "<!-- 48 -->\n",
       "<g id=\"node9\" class=\"node\">\n",
       "<title>48</title>\n",
       "<ellipse fill=\"none\" stroke=\"black\" cx=\"66\" cy=\"-18\" rx=\"34.39\" ry=\"18\"/>\n",
       "<text text-anchor=\"middle\" x=\"66\" y=\"-14.3\" font-family=\"Times,serif\" font-size=\"14.00\">&lt;end&gt;</text>\n",
       "</g>\n",
       "<!-- 40&#45;&gt;48 -->\n",
       "<g id=\"edge9\" class=\"edge\">\n",
       "<title>40-&gt;48</title>\n",
       "<path fill=\"none\" stroke=\"black\" d=\"M66,-86.8C66,-75.16 66,-59.55 66,-46.24\"/>\n",
       "<polygon fill=\"black\" stroke=\"black\" points=\"69.5,-46.18 66,-36.18 62.5,-46.18 69.5,-46.18\"/>\n",
       "<text text-anchor=\"middle\" x=\"127.5\" y=\"-57.8\" font-family=\"Times,serif\" font-size=\"14.00\">   [[4], [4, 16, 36, 64]]</text>\n",
       "</g>\n",
       "<!-- 45 -->\n",
       "<g id=\"node7\" class=\"node\">\n",
       "<title>45</title>\n",
       "<ellipse fill=\"none\" stroke=\"black\" cx=\"123\" cy=\"-366\" rx=\"27\" ry=\"18\"/>\n",
       "<text text-anchor=\"middle\" x=\"123\" y=\"-362.3\" font-family=\"Times,serif\" font-size=\"14.00\">op</text>\n",
       "</g>\n",
       "<!-- 43&#45;&gt;45 -->\n",
       "<g id=\"edge6\" class=\"edge\">\n",
       "<title>43-&gt;45</title>\n",
       "<path fill=\"none\" stroke=\"black\" d=\"M128.04,-455.97C127.1,-439.38 125.65,-413.88 124.55,-394.43\"/>\n",
       "<polygon fill=\"black\" stroke=\"black\" points=\"128.04,-394.13 123.98,-384.34 121.05,-394.52 128.04,-394.13\"/>\n",
       "<text text-anchor=\"middle\" x=\"135.5\" y=\"-426.8\" font-family=\"Times,serif\" font-size=\"14.00\">   1</text>\n",
       "</g>\n",
       "<!-- 47 -->\n",
       "<g id=\"node6\" class=\"node\">\n",
       "<title>47</title>\n",
       "<ellipse fill=\"none\" stroke=\"black\" cx=\"117\" cy=\"-192\" rx=\"27\" ry=\"18\"/>\n",
       "<text text-anchor=\"middle\" x=\"117\" y=\"-188.3\" font-family=\"Times,serif\" font-size=\"14.00\">*</text>\n",
       "</g>\n",
       "<!-- 47&#45;&gt;40 -->\n",
       "<g id=\"edge4\" class=\"edge\">\n",
       "<title>47-&gt;40</title>\n",
       "<path fill=\"none\" stroke=\"black\" d=\"M107.41,-175.01C99.93,-162.55 89.41,-145.01 80.84,-130.74\"/>\n",
       "<polygon fill=\"black\" stroke=\"black\" points=\"83.7,-128.69 75.55,-121.92 77.69,-132.29 83.7,-128.69\"/>\n",
       "<text text-anchor=\"middle\" x=\"139.5\" y=\"-144.8\" font-family=\"Times,serif\" font-size=\"14.00\">   [4, 16, 36, 64]</text>\n",
       "</g>\n",
       "<!-- 46 -->\n",
       "<g id=\"node8\" class=\"node\">\n",
       "<title>46</title>\n",
       "<ellipse fill=\"none\" stroke=\"black\" cx=\"123\" cy=\"-279\" rx=\"27\" ry=\"18\"/>\n",
       "<text text-anchor=\"middle\" x=\"123\" y=\"-275.3\" font-family=\"Times,serif\" font-size=\"14.00\">op</text>\n",
       "</g>\n",
       "<!-- 45&#45;&gt;46 -->\n",
       "<g id=\"edge5\" class=\"edge\">\n",
       "<title>45-&gt;46</title>\n",
       "<path fill=\"none\" stroke=\"black\" d=\"M123,-347.8C123,-336.16 123,-320.55 123,-307.24\"/>\n",
       "<polygon fill=\"black\" stroke=\"black\" points=\"126.5,-307.18 123,-297.18 119.5,-307.18 126.5,-307.18\"/>\n",
       "<text text-anchor=\"middle\" x=\"132.5\" y=\"-318.8\" font-family=\"Times,serif\" font-size=\"14.00\">   2</text>\n",
       "</g>\n",
       "<!-- 46&#45;&gt;47 -->\n",
       "<g id=\"edge7\" class=\"edge\">\n",
       "<title>46-&gt;47</title>\n",
       "<path fill=\"none\" stroke=\"black\" d=\"M121.79,-260.8C120.96,-249.16 119.86,-233.55 118.92,-220.24\"/>\n",
       "<polygon fill=\"black\" stroke=\"black\" points=\"122.41,-219.9 118.21,-210.18 115.43,-220.4 122.41,-219.9\"/>\n",
       "<text text-anchor=\"middle\" x=\"129.5\" y=\"-231.8\" font-family=\"Times,serif\" font-size=\"14.00\">   4</text>\n",
       "</g>\n",
       "</g>\n",
       "</svg>"
      ],
      "text/plain": [
       "<IPython.core.display.SVG object>"
      ]
     },
     "metadata": {},
     "output_type": "display_data"
    },
    {
     "data": {
      "text/plain": [
       "<trace object>"
      ]
     },
     "execution_count": 12,
     "metadata": {},
     "output_type": "execute_result"
    }
   ],
   "source": [
    "range(1,5) | trace(iden()) | (shape() & (op()*2 | op()**2).all())"
   ]
  },
  {
   "cell_type": "code",
   "execution_count": 13,
   "id": "12d6f5a3",
   "metadata": {},
   "outputs": [
    {
     "data": {
      "image/svg+xml": [
       "<svg xmlns=\"http://www.w3.org/2000/svg\" xmlns:xlink=\"http://www.w3.org/1999/xlink\" width=\"166pt\" height=\"289pt\" viewBox=\"0.00 0.00 238.00 413.00\">\n",
       "<g id=\"graph0\" class=\"graph\" transform=\"scale(1 1) rotate(0) translate(4 409)\">\n",
       "<polygon fill=\"white\" stroke=\"transparent\" points=\"-4,4 -4,-409 234,-409 234,4 -4,4\"/>\n",
       "<g id=\"clust1\" class=\"cluster\">\n",
       "<title>cluster_7</title>\n",
       "<polygon fill=\"none\" stroke=\"black\" points=\"8,-79 8,-328 205,-328 205,-79 8,-79\"/>\n",
       "<text text-anchor=\"middle\" x=\"106.5\" y=\"-312.8\" font-family=\"Times,serif\" font-size=\"14.00\">+, manyToManySpecific</text>\n",
       "</g>\n",
       "<!-- 49 -->\n",
       "<g id=\"node1\" class=\"node\">\n",
       "<title>49</title>\n",
       "<ellipse fill=\"none\" stroke=\"black\" cx=\"85\" cy=\"-387\" rx=\"36.29\" ry=\"18\"/>\n",
       "<text text-anchor=\"middle\" x=\"85\" y=\"-383.3\" font-family=\"Times,serif\" font-size=\"14.00\">&lt;start&gt;</text>\n",
       "</g>\n",
       "<!-- 51 -->\n",
       "<g id=\"node2\" class=\"node\">\n",
       "<title>51</title>\n",
       "<ellipse fill=\"none\" stroke=\"black\" cx=\"85\" cy=\"-279\" rx=\"27\" ry=\"18\"/>\n",
       "<text text-anchor=\"middle\" x=\"85\" y=\"-275.3\" font-family=\"Times,serif\" font-size=\"14.00\">*</text>\n",
       "</g>\n",
       "<!-- 49&#45;&gt;51 -->\n",
       "<g id=\"edge5\" class=\"edge\">\n",
       "<title>49-&gt;51</title>\n",
       "<path fill=\"none\" stroke=\"black\" d=\"M85,-368.97C85,-352.38 85,-326.88 85,-307.43\"/>\n",
       "<polygon fill=\"black\" stroke=\"black\" points=\"88.5,-307.34 85,-297.34 81.5,-307.34 88.5,-307.34\"/>\n",
       "<text text-anchor=\"middle\" x=\"157.5\" y=\"-339.8\" font-family=\"Times,serif\" font-size=\"14.00\">   [[1, 2, 3, 4], [3, 4, 5, 6]]</text>\n",
       "</g>\n",
       "<!-- 53 -->\n",
       "<g id=\"node3\" class=\"node\">\n",
       "<title>53</title>\n",
       "<ellipse fill=\"none\" stroke=\"black\" cx=\"49\" cy=\"-192\" rx=\"27\" ry=\"18\"/>\n",
       "<text text-anchor=\"middle\" x=\"49\" y=\"-188.3\" font-family=\"Times,serif\" font-size=\"14.00\">filt</text>\n",
       "</g>\n",
       "<!-- 51&#45;&gt;53 -->\n",
       "<g id=\"edge1\" class=\"edge\">\n",
       "<title>51-&gt;53</title>\n",
       "<path fill=\"none\" stroke=\"black\" d=\"M62.89,-268.55C52.41,-262.81 40.92,-254.37 35,-243 31.03,-235.38 31.96,-226.51 34.68,-218.37\"/>\n",
       "<polygon fill=\"black\" stroke=\"black\" points=\"38,-219.52 38.69,-208.94 31.56,-216.78 38,-219.52\"/>\n",
       "<text text-anchor=\"middle\" x=\"70\" y=\"-231.8\" font-family=\"Times,serif\" font-size=\"14.00\">   [1, 2, 3, 4]</text>\n",
       "</g>\n",
       "<!-- 54 -->\n",
       "<g id=\"node5\" class=\"node\">\n",
       "<title>54</title>\n",
       "<ellipse fill=\"none\" stroke=\"black\" cx=\"124\" cy=\"-192\" rx=\"27\" ry=\"18\"/>\n",
       "<text text-anchor=\"middle\" x=\"124\" y=\"-188.3\" font-family=\"Times,serif\" font-size=\"14.00\">filt</text>\n",
       "</g>\n",
       "<!-- 51&#45;&gt;54 -->\n",
       "<g id=\"edge3\" class=\"edge\">\n",
       "<title>51-&gt;54</title>\n",
       "<path fill=\"none\" stroke=\"black\" d=\"M94.9,-261.9C98.31,-256.05 102.01,-249.33 105,-243 108.53,-235.53 111.9,-227.21 114.8,-219.53\"/>\n",
       "<polygon fill=\"black\" stroke=\"black\" points=\"118.16,-220.53 118.31,-209.94 111.58,-218.13 118.16,-220.53\"/>\n",
       "<text text-anchor=\"middle\" x=\"146\" y=\"-231.8\" font-family=\"Times,serif\" font-size=\"14.00\">   [3, 4, 5, 6]</text>\n",
       "</g>\n",
       "<!-- 52 -->\n",
       "<g id=\"node4\" class=\"node\">\n",
       "<title>52</title>\n",
       "<ellipse fill=\"none\" stroke=\"black\" cx=\"83\" cy=\"-105\" rx=\"27\" ry=\"18\"/>\n",
       "<text text-anchor=\"middle\" x=\"83\" y=\"-101.3\" font-family=\"Times,serif\" font-size=\"14.00\">*</text>\n",
       "</g>\n",
       "<!-- 53&#45;&gt;52 -->\n",
       "<g id=\"edge2\" class=\"edge\">\n",
       "<title>53-&gt;52</title>\n",
       "<path fill=\"none\" stroke=\"black\" d=\"M49.72,-173.78C50.63,-163.87 52.63,-151.37 57,-141 58.72,-136.92 61.01,-132.88 63.52,-129.07\"/>\n",
       "<polygon fill=\"black\" stroke=\"black\" points=\"66.56,-130.84 69.62,-120.69 60.9,-126.72 66.56,-130.84\"/>\n",
       "<text text-anchor=\"middle\" x=\"78\" y=\"-144.8\" font-family=\"Times,serif\" font-size=\"14.00\">   [2, 4]</text>\n",
       "</g>\n",
       "<!-- 55 -->\n",
       "<g id=\"node6\" class=\"node\">\n",
       "<title>55</title>\n",
       "<ellipse fill=\"none\" stroke=\"black\" cx=\"83\" cy=\"-18\" rx=\"34.39\" ry=\"18\"/>\n",
       "<text text-anchor=\"middle\" x=\"83\" y=\"-14.3\" font-family=\"Times,serif\" font-size=\"14.00\">&lt;end&gt;</text>\n",
       "</g>\n",
       "<!-- 52&#45;&gt;55 -->\n",
       "<g id=\"edge6\" class=\"edge\">\n",
       "<title>52-&gt;55</title>\n",
       "<path fill=\"none\" stroke=\"black\" d=\"M83,-86.8C83,-75.16 83,-59.55 83,-46.24\"/>\n",
       "<polygon fill=\"black\" stroke=\"black\" points=\"86.5,-46.18 83,-36.18 79.5,-46.18 86.5,-46.18\"/>\n",
       "<text text-anchor=\"middle\" x=\"127\" y=\"-57.8\" font-family=\"Times,serif\" font-size=\"14.00\">   [[2, 4], [3, 5]]</text>\n",
       "</g>\n",
       "<!-- 54&#45;&gt;52 -->\n",
       "<g id=\"edge4\" class=\"edge\">\n",
       "<title>54-&gt;52</title>\n",
       "<path fill=\"none\" stroke=\"black\" d=\"M116.09,-174.61C110.2,-162.38 102.03,-145.44 95.28,-131.46\"/>\n",
       "<polygon fill=\"black\" stroke=\"black\" points=\"98.38,-129.82 90.88,-122.34 92.07,-132.87 98.38,-129.82\"/>\n",
       "<text text-anchor=\"middle\" x=\"126\" y=\"-144.8\" font-family=\"Times,serif\" font-size=\"14.00\">   [3, 5]</text>\n",
       "</g>\n",
       "</g>\n",
       "</svg>"
      ],
      "text/plain": [
       "<IPython.core.display.SVG object>"
      ]
     },
     "metadata": {},
     "output_type": "display_data"
    },
    {
     "data": {
      "text/plain": [
       "<trace object>"
      ]
     },
     "execution_count": 13,
     "metadata": {},
     "output_type": "execute_result"
    }
   ],
   "source": [
    "[range(1, 5), range(3, 7)] | trace(iden()) | (filt(op() % 2 == 0) + filt(op() % 2 == 1))"
   ]
  },
  {
   "cell_type": "code",
   "execution_count": 14,
   "id": "318c79c6",
   "metadata": {},
   "outputs": [
    {
     "data": {
      "image/svg+xml": [
       "<svg xmlns=\"http://www.w3.org/2000/svg\" xmlns:xlink=\"http://www.w3.org/1999/xlink\" width=\"242pt\" height=\"623pt\" viewBox=\"0.00 0.00 346.00 890.00\">\n",
       "<g id=\"graph0\" class=\"graph\" transform=\"scale(1 1) rotate(0) translate(4 886)\">\n",
       "<polygon fill=\"white\" stroke=\"transparent\" points=\"-4,4 -4,-886 342,-886 342,4 -4,4\"/>\n",
       "<g id=\"clust1\" class=\"cluster\">\n",
       "<title>cluster_8</title>\n",
       "<polygon fill=\"none\" stroke=\"black\" points=\"8,-166 8,-805 301,-805 301,-166 8,-166\"/>\n",
       "<text text-anchor=\"middle\" x=\"154.5\" y=\"-789.8\" font-family=\"Times,serif\" font-size=\"14.00\">.all(), manyToMany, apply</text>\n",
       "</g>\n",
       "<g id=\"clust2\" class=\"cluster\">\n",
       "<title>cluster_9</title>\n",
       "<polygon fill=\"none\" stroke=\"black\" points=\"16,-253 16,-697 293,-697 293,-253 16,-253\"/>\n",
       "<text text-anchor=\"middle\" x=\"154.5\" y=\"-681.8\" font-family=\"Times,serif\" font-size=\"14.00\">&amp;, oneToMany</text>\n",
       "</g>\n",
       "<g id=\"clust3\" class=\"cluster\">\n",
       "<title>cluster_10</title>\n",
       "<polygon fill=\"none\" stroke=\"black\" points=\"120,-340 120,-589 285,-589 285,-340 120,-340\"/>\n",
       "<text text-anchor=\"middle\" x=\"202.5\" y=\"-573.8\" font-family=\"Times,serif\" font-size=\"14.00\">.all(), manyToMany, apply</text>\n",
       "</g>\n",
       "<!-- 56 -->\n",
       "<g id=\"node1\" class=\"node\">\n",
       "<title>56</title>\n",
       "<ellipse fill=\"none\" stroke=\"black\" cx=\"58\" cy=\"-864\" rx=\"36.29\" ry=\"18\"/>\n",
       "<text text-anchor=\"middle\" x=\"58\" y=\"-860.3\" font-family=\"Times,serif\" font-size=\"14.00\">&lt;start&gt;</text>\n",
       "</g>\n",
       "<!-- 58 -->\n",
       "<g id=\"node2\" class=\"node\">\n",
       "<title>58</title>\n",
       "<ellipse fill=\"none\" stroke=\"black\" cx=\"58\" cy=\"-756\" rx=\"27\" ry=\"18\"/>\n",
       "<text text-anchor=\"middle\" x=\"58\" y=\"-752.3\" font-family=\"Times,serif\" font-size=\"14.00\">*</text>\n",
       "</g>\n",
       "<!-- 56&#45;&gt;58 -->\n",
       "<g id=\"edge9\" class=\"edge\">\n",
       "<title>56-&gt;58</title>\n",
       "<path fill=\"none\" stroke=\"black\" d=\"M58,-845.97C58,-829.38 58,-803.88 58,-784.43\"/>\n",
       "<polygon fill=\"black\" stroke=\"black\" points=\"61.5,-784.34 58,-774.34 54.5,-784.34 61.5,-784.34\"/>\n",
       "<text text-anchor=\"middle\" x=\"130.5\" y=\"-816.8\" font-family=\"Times,serif\" font-size=\"14.00\">   [[1, 2, 3, 4], [3, 4, 5, 6]]</text>\n",
       "</g>\n",
       "<!-- 60 -->\n",
       "<g id=\"node3\" class=\"node\">\n",
       "<title>60</title>\n",
       "<ellipse fill=\"none\" stroke=\"black\" cx=\"58\" cy=\"-648\" rx=\"27\" ry=\"18\"/>\n",
       "<text text-anchor=\"middle\" x=\"58\" y=\"-644.3\" font-family=\"Times,serif\" font-size=\"14.00\">*</text>\n",
       "</g>\n",
       "<!-- 58&#45;&gt;60 -->\n",
       "<g id=\"edge7\" class=\"edge\">\n",
       "<title>58-&gt;60</title>\n",
       "<path fill=\"none\" stroke=\"black\" d=\"M58,-737.97C58,-721.38 58,-695.88 58,-676.43\"/>\n",
       "<polygon fill=\"black\" stroke=\"black\" points=\"61.5,-676.34 58,-666.34 54.5,-676.34 61.5,-676.34\"/>\n",
       "<text text-anchor=\"middle\" x=\"93\" y=\"-708.8\" font-family=\"Times,serif\" font-size=\"14.00\">   [1, 2, 3, 4]</text>\n",
       "</g>\n",
       "<!-- 62 -->\n",
       "<g id=\"node4\" class=\"node\">\n",
       "<title>62</title>\n",
       "<ellipse fill=\"none\" stroke=\"black\" cx=\"67\" cy=\"-366\" rx=\"27\" ry=\"18\"/>\n",
       "<text text-anchor=\"middle\" x=\"67\" y=\"-362.3\" font-family=\"Times,serif\" font-size=\"14.00\">size</text>\n",
       "</g>\n",
       "<!-- 60&#45;&gt;62 -->\n",
       "<g id=\"edge1\" class=\"edge\">\n",
       "<title>60-&gt;62</title>\n",
       "<path fill=\"none\" stroke=\"black\" d=\"M54.9,-629.92C50.04,-600.94 41.62,-540.26 46,-489 48.82,-455.98 55.86,-418.48 61.02,-393.88\"/>\n",
       "<polygon fill=\"black\" stroke=\"black\" points=\"64.49,-394.37 63.16,-383.86 57.64,-392.9 64.49,-394.37\"/>\n",
       "<text text-anchor=\"middle\" x=\"81\" y=\"-492.8\" font-family=\"Times,serif\" font-size=\"14.00\">   [1, 2, 3, 4]</text>\n",
       "</g>\n",
       "<!-- 64 -->\n",
       "<g id=\"node6\" class=\"node\">\n",
       "<title>64</title>\n",
       "<ellipse fill=\"none\" stroke=\"black\" cx=\"155\" cy=\"-540\" rx=\"27\" ry=\"18\"/>\n",
       "<text text-anchor=\"middle\" x=\"155\" y=\"-536.3\" font-family=\"Times,serif\" font-size=\"14.00\">*</text>\n",
       "</g>\n",
       "<!-- 60&#45;&gt;64 -->\n",
       "<g id=\"edge3\" class=\"edge\">\n",
       "<title>60-&gt;64</title>\n",
       "<path fill=\"none\" stroke=\"black\" d=\"M75.17,-634.09C89.23,-623.04 109.16,-606.21 124,-589 130.05,-581.98 135.82,-573.69 140.7,-565.99\"/>\n",
       "<polygon fill=\"black\" stroke=\"black\" points=\"143.76,-567.7 145.98,-557.34 137.78,-564.05 143.76,-567.7\"/>\n",
       "<text text-anchor=\"middle\" x=\"150\" y=\"-600.8\" font-family=\"Times,serif\" font-size=\"14.00\">   [1, 2, 3, 4]</text>\n",
       "</g>\n",
       "<!-- 61 -->\n",
       "<g id=\"node5\" class=\"node\">\n",
       "<title>61</title>\n",
       "<ellipse fill=\"none\" stroke=\"black\" cx=\"101\" cy=\"-279\" rx=\"27\" ry=\"18\"/>\n",
       "<text text-anchor=\"middle\" x=\"101\" y=\"-275.3\" font-family=\"Times,serif\" font-size=\"14.00\">*</text>\n",
       "</g>\n",
       "<!-- 62&#45;&gt;61 -->\n",
       "<g id=\"edge2\" class=\"edge\">\n",
       "<title>62-&gt;61</title>\n",
       "<path fill=\"none\" stroke=\"black\" d=\"M73.72,-348.21C78.54,-336.14 85.14,-319.64 90.64,-305.89\"/>\n",
       "<polygon fill=\"black\" stroke=\"black\" points=\"93.95,-307.05 94.41,-296.47 87.45,-304.45 93.95,-307.05\"/>\n",
       "<text text-anchor=\"middle\" x=\"100\" y=\"-318.8\" font-family=\"Times,serif\" font-size=\"14.00\">   [4]</text>\n",
       "</g>\n",
       "<!-- 67 -->\n",
       "<g id=\"node9\" class=\"node\">\n",
       "<title>67</title>\n",
       "<ellipse fill=\"none\" stroke=\"black\" cx=\"101\" cy=\"-192\" rx=\"27\" ry=\"18\"/>\n",
       "<text text-anchor=\"middle\" x=\"101\" y=\"-188.3\" font-family=\"Times,serif\" font-size=\"14.00\">*</text>\n",
       "</g>\n",
       "<!-- 61&#45;&gt;67 -->\n",
       "<g id=\"edge8\" class=\"edge\">\n",
       "<title>61-&gt;67</title>\n",
       "<path fill=\"none\" stroke=\"black\" d=\"M101,-260.8C101,-249.16 101,-233.55 101,-220.24\"/>\n",
       "<polygon fill=\"black\" stroke=\"black\" points=\"104.5,-220.18 101,-210.18 97.5,-220.18 104.5,-220.18\"/>\n",
       "<text text-anchor=\"middle\" x=\"155.5\" y=\"-231.8\" font-family=\"Times,serif\" font-size=\"14.00\">   [[4], [1, 4, 9, 16]]</text>\n",
       "</g>\n",
       "<!-- 65 -->\n",
       "<g id=\"node8\" class=\"node\">\n",
       "<title>65</title>\n",
       "<ellipse fill=\"none\" stroke=\"black\" cx=\"155\" cy=\"-453\" rx=\"27\" ry=\"18\"/>\n",
       "<text text-anchor=\"middle\" x=\"155\" y=\"-449.3\" font-family=\"Times,serif\" font-size=\"14.00\">op</text>\n",
       "</g>\n",
       "<!-- 64&#45;&gt;65 -->\n",
       "<g id=\"edge5\" class=\"edge\">\n",
       "<title>64-&gt;65</title>\n",
       "<path fill=\"none\" stroke=\"black\" d=\"M155,-521.8C155,-510.16 155,-494.55 155,-481.24\"/>\n",
       "<polygon fill=\"black\" stroke=\"black\" points=\"158.5,-481.18 155,-471.18 151.5,-481.18 158.5,-481.18\"/>\n",
       "<text text-anchor=\"middle\" x=\"164.5\" y=\"-492.8\" font-family=\"Times,serif\" font-size=\"14.00\">   1</text>\n",
       "</g>\n",
       "<!-- 66 -->\n",
       "<g id=\"node7\" class=\"node\">\n",
       "<title>66</title>\n",
       "<ellipse fill=\"none\" stroke=\"black\" cx=\"155\" cy=\"-366\" rx=\"27\" ry=\"18\"/>\n",
       "<text text-anchor=\"middle\" x=\"155\" y=\"-362.3\" font-family=\"Times,serif\" font-size=\"14.00\">*</text>\n",
       "</g>\n",
       "<!-- 66&#45;&gt;61 -->\n",
       "<g id=\"edge4\" class=\"edge\">\n",
       "<title>66-&gt;61</title>\n",
       "<path fill=\"none\" stroke=\"black\" d=\"M144.84,-349.01C136.92,-336.55 125.78,-319.01 116.72,-304.74\"/>\n",
       "<polygon fill=\"black\" stroke=\"black\" points=\"119.43,-302.48 111.11,-295.92 113.52,-306.23 119.43,-302.48\"/>\n",
       "<text text-anchor=\"middle\" x=\"169.5\" y=\"-318.8\" font-family=\"Times,serif\" font-size=\"14.00\">   [1, 4, 9, 16]</text>\n",
       "</g>\n",
       "<!-- 65&#45;&gt;66 -->\n",
       "<g id=\"edge6\" class=\"edge\">\n",
       "<title>65-&gt;66</title>\n",
       "<path fill=\"none\" stroke=\"black\" d=\"M155,-434.8C155,-423.16 155,-407.55 155,-394.24\"/>\n",
       "<polygon fill=\"black\" stroke=\"black\" points=\"158.5,-394.18 155,-384.18 151.5,-394.18 158.5,-394.18\"/>\n",
       "<text text-anchor=\"middle\" x=\"164.5\" y=\"-405.8\" font-family=\"Times,serif\" font-size=\"14.00\">   1</text>\n",
       "</g>\n",
       "<!-- 68 -->\n",
       "<g id=\"node10\" class=\"node\">\n",
       "<title>68</title>\n",
       "<ellipse fill=\"none\" stroke=\"black\" cx=\"101\" cy=\"-105\" rx=\"28.7\" ry=\"18\"/>\n",
       "<text text-anchor=\"middle\" x=\"101\" y=\"-101.3\" font-family=\"Times,serif\" font-size=\"14.00\">deref</text>\n",
       "</g>\n",
       "<!-- 67&#45;&gt;68 -->\n",
       "<g id=\"edge10\" class=\"edge\">\n",
       "<title>67-&gt;68</title>\n",
       "<path fill=\"none\" stroke=\"black\" d=\"M101,-173.8C101,-162.16 101,-146.55 101,-133.24\"/>\n",
       "<polygon fill=\"black\" stroke=\"black\" points=\"104.5,-133.18 101,-123.18 97.5,-133.18 104.5,-133.18\"/>\n",
       "<text text-anchor=\"middle\" x=\"219.5\" y=\"-144.8\" font-family=\"Times,serif\" font-size=\"14.00\">   [[[4], [1, 4, 9, 16]], [[4], [9, 16, 25, 36]]]</text>\n",
       "</g>\n",
       "<!-- 69 -->\n",
       "<g id=\"node11\" class=\"node\">\n",
       "<title>69</title>\n",
       "<ellipse fill=\"none\" stroke=\"black\" cx=\"101\" cy=\"-18\" rx=\"34.39\" ry=\"18\"/>\n",
       "<text text-anchor=\"middle\" x=\"101\" y=\"-14.3\" font-family=\"Times,serif\" font-size=\"14.00\">&lt;end&gt;</text>\n",
       "</g>\n",
       "<!-- 68&#45;&gt;69 -->\n",
       "<g id=\"edge11\" class=\"edge\">\n",
       "<title>68-&gt;69</title>\n",
       "<path fill=\"none\" stroke=\"black\" d=\"M101,-86.8C101,-75.16 101,-59.55 101,-46.24\"/>\n",
       "<polygon fill=\"black\" stroke=\"black\" points=\"104.5,-46.18 101,-36.18 97.5,-46.18 104.5,-46.18\"/>\n",
       "<text text-anchor=\"middle\" x=\"219.5\" y=\"-57.8\" font-family=\"Times,serif\" font-size=\"14.00\">   [[[4], [1, 4, 9, 16]], [[4], [9, 16, 25, 36]]]</text>\n",
       "</g>\n",
       "</g>\n",
       "</svg>"
      ],
      "text/plain": [
       "<IPython.core.display.SVG object>"
      ]
     },
     "metadata": {},
     "output_type": "display_data"
    },
    {
     "data": {
      "text/plain": [
       "<trace object>"
      ]
     },
     "execution_count": 14,
     "metadata": {},
     "output_type": "execute_result"
    }
   ],
   "source": [
    "[range(1, 5), range(3, 7)] | trace(iden()) | ((shape() & (op()**2).all())).all() | deref()"
   ]
  },
  {
   "cell_type": "code",
   "execution_count": 15,
   "id": "21355fab",
   "metadata": {},
   "outputs": [
    {
     "data": {
      "image/svg+xml": [
       "<svg xmlns=\"http://www.w3.org/2000/svg\" xmlns:xlink=\"http://www.w3.org/1999/xlink\" width=\"143pt\" height=\"669pt\" viewBox=\"0.00 0.00 205.00 956.00\">\n",
       "<g id=\"graph0\" class=\"graph\" transform=\"scale(1 1) rotate(0) translate(4 952)\">\n",
       "<polygon fill=\"white\" stroke=\"transparent\" points=\"-4,4 -4,-952 201,-952 201,4 -4,4\"/>\n",
       "<g id=\"clust1\" class=\"cluster\">\n",
       "<title>cluster_11</title>\n",
       "<polygon fill=\"none\" stroke=\"black\" points=\"8,-340 8,-784 189,-784 189,-340 8,-340\"/>\n",
       "<text text-anchor=\"middle\" x=\"98.5\" y=\"-768.8\" font-family=\"Times,serif\" font-size=\"14.00\">.all(), manyToMany, apply</text>\n",
       "</g>\n",
       "<g id=\"clust2\" class=\"cluster\">\n",
       "<title>cluster_12</title>\n",
       "<polygon fill=\"none\" stroke=\"black\" points=\"16,-427 16,-676 181,-676 181,-427 16,-427\"/>\n",
       "<text text-anchor=\"middle\" x=\"98.5\" y=\"-660.8\" font-family=\"Times,serif\" font-size=\"14.00\">.all(), manyToMany, apply</text>\n",
       "</g>\n",
       "<!-- 70 -->\n",
       "<g id=\"node1\" class=\"node\">\n",
       "<title>70</title>\n",
       "<ellipse fill=\"none\" stroke=\"black\" cx=\"95\" cy=\"-930\" rx=\"36.29\" ry=\"18\"/>\n",
       "<text text-anchor=\"middle\" x=\"95\" y=\"-926.3\" font-family=\"Times,serif\" font-size=\"14.00\">&lt;start&gt;</text>\n",
       "</g>\n",
       "<!-- 71 -->\n",
       "<g id=\"node2\" class=\"node\">\n",
       "<title>71</title>\n",
       "<ellipse fill=\"none\" stroke=\"black\" cx=\"95\" cy=\"-843\" rx=\"44.39\" ry=\"18\"/>\n",
       "<text text-anchor=\"middle\" x=\"95\" y=\"-839.3\" font-family=\"Times,serif\" font-size=\"14.00\">transpose</text>\n",
       "</g>\n",
       "<!-- 70&#45;&gt;71 -->\n",
       "<g id=\"edge1\" class=\"edge\">\n",
       "<title>70-&gt;71</title>\n",
       "<path fill=\"none\" stroke=\"black\" d=\"M95,-911.8C95,-900.16 95,-884.55 95,-871.24\"/>\n",
       "<polygon fill=\"black\" stroke=\"black\" points=\"98.5,-871.18 95,-861.18 91.5,-871.18 98.5,-871.18\"/>\n",
       "<text text-anchor=\"middle\" x=\"123\" y=\"-882.8\" font-family=\"Times,serif\" font-size=\"14.00\">   (2, 3, 4)</text>\n",
       "</g>\n",
       "<!-- 73 -->\n",
       "<g id=\"node3\" class=\"node\">\n",
       "<title>73</title>\n",
       "<ellipse fill=\"none\" stroke=\"black\" cx=\"95\" cy=\"-735\" rx=\"27\" ry=\"18\"/>\n",
       "<text text-anchor=\"middle\" x=\"95\" y=\"-731.3\" font-family=\"Times,serif\" font-size=\"14.00\">*</text>\n",
       "</g>\n",
       "<!-- 71&#45;&gt;73 -->\n",
       "<g id=\"edge6\" class=\"edge\">\n",
       "<title>71-&gt;73</title>\n",
       "<path fill=\"none\" stroke=\"black\" d=\"M95,-824.97C95,-808.38 95,-782.88 95,-763.43\"/>\n",
       "<polygon fill=\"black\" stroke=\"black\" points=\"98.5,-763.34 95,-753.34 91.5,-763.34 98.5,-763.34\"/>\n",
       "<text text-anchor=\"middle\" x=\"123\" y=\"-795.8\" font-family=\"Times,serif\" font-size=\"14.00\">   (3, 2, 4)</text>\n",
       "</g>\n",
       "<!-- 75 -->\n",
       "<g id=\"node4\" class=\"node\">\n",
       "<title>75</title>\n",
       "<ellipse fill=\"none\" stroke=\"black\" cx=\"95\" cy=\"-627\" rx=\"27\" ry=\"18\"/>\n",
       "<text text-anchor=\"middle\" x=\"95\" y=\"-623.3\" font-family=\"Times,serif\" font-size=\"14.00\">*</text>\n",
       "</g>\n",
       "<!-- 73&#45;&gt;75 -->\n",
       "<g id=\"edge4\" class=\"edge\">\n",
       "<title>73-&gt;75</title>\n",
       "<path fill=\"none\" stroke=\"black\" d=\"M95,-716.97C95,-700.38 95,-674.88 95,-655.43\"/>\n",
       "<polygon fill=\"black\" stroke=\"black\" points=\"98.5,-655.34 95,-645.34 91.5,-655.34 98.5,-655.34\"/>\n",
       "<text text-anchor=\"middle\" x=\"116\" y=\"-687.8\" font-family=\"Times,serif\" font-size=\"14.00\">   (2, 4)</text>\n",
       "</g>\n",
       "<!-- 76 -->\n",
       "<g id=\"node5\" class=\"node\">\n",
       "<title>76</title>\n",
       "<ellipse fill=\"none\" stroke=\"black\" cx=\"95\" cy=\"-540\" rx=\"42.49\" ry=\"18\"/>\n",
       "<text text-anchor=\"middle\" x=\"95\" y=\"-536.3\" font-family=\"Times,serif\" font-size=\"14.00\">wrapList</text>\n",
       "</g>\n",
       "<!-- 75&#45;&gt;76 -->\n",
       "<g id=\"edge2\" class=\"edge\">\n",
       "<title>75-&gt;76</title>\n",
       "<path fill=\"none\" stroke=\"black\" d=\"M95,-608.8C95,-597.16 95,-581.55 95,-568.24\"/>\n",
       "<polygon fill=\"black\" stroke=\"black\" points=\"98.5,-568.18 95,-558.18 91.5,-568.18 98.5,-568.18\"/>\n",
       "<text text-anchor=\"middle\" x=\"110.5\" y=\"-579.8\" font-family=\"Times,serif\" font-size=\"14.00\">   (4,)</text>\n",
       "</g>\n",
       "<!-- 77 -->\n",
       "<g id=\"node6\" class=\"node\">\n",
       "<title>77</title>\n",
       "<ellipse fill=\"none\" stroke=\"black\" cx=\"95\" cy=\"-453\" rx=\"27\" ry=\"18\"/>\n",
       "<text text-anchor=\"middle\" x=\"95\" y=\"-449.3\" font-family=\"Times,serif\" font-size=\"14.00\">*</text>\n",
       "</g>\n",
       "<!-- 76&#45;&gt;77 -->\n",
       "<g id=\"edge3\" class=\"edge\">\n",
       "<title>76-&gt;77</title>\n",
       "<path fill=\"none\" stroke=\"black\" d=\"M95,-521.8C95,-510.16 95,-494.55 95,-481.24\"/>\n",
       "<polygon fill=\"black\" stroke=\"black\" points=\"98.5,-481.18 95,-471.18 91.5,-481.18 98.5,-481.18\"/>\n",
       "<text text-anchor=\"middle\" x=\"116\" y=\"-492.8\" font-family=\"Times,serif\" font-size=\"14.00\">   (1, 4)</text>\n",
       "</g>\n",
       "<!-- 78 -->\n",
       "<g id=\"node7\" class=\"node\">\n",
       "<title>78</title>\n",
       "<ellipse fill=\"none\" stroke=\"black\" cx=\"95\" cy=\"-366\" rx=\"27\" ry=\"18\"/>\n",
       "<text text-anchor=\"middle\" x=\"95\" y=\"-362.3\" font-family=\"Times,serif\" font-size=\"14.00\">*</text>\n",
       "</g>\n",
       "<!-- 77&#45;&gt;78 -->\n",
       "<g id=\"edge5\" class=\"edge\">\n",
       "<title>77-&gt;78</title>\n",
       "<path fill=\"none\" stroke=\"black\" d=\"M95,-434.8C95,-423.16 95,-407.55 95,-394.24\"/>\n",
       "<polygon fill=\"black\" stroke=\"black\" points=\"98.5,-394.18 95,-384.18 91.5,-394.18 98.5,-394.18\"/>\n",
       "<text text-anchor=\"middle\" x=\"123\" y=\"-405.8\" font-family=\"Times,serif\" font-size=\"14.00\">   (2, 1, 4)</text>\n",
       "</g>\n",
       "<!-- 79 -->\n",
       "<g id=\"node8\" class=\"node\">\n",
       "<title>79</title>\n",
       "<ellipse fill=\"none\" stroke=\"black\" cx=\"95\" cy=\"-279\" rx=\"28.7\" ry=\"18\"/>\n",
       "<text text-anchor=\"middle\" x=\"95\" y=\"-275.3\" font-family=\"Times,serif\" font-size=\"14.00\">deref</text>\n",
       "</g>\n",
       "<!-- 78&#45;&gt;79 -->\n",
       "<g id=\"edge7\" class=\"edge\">\n",
       "<title>78-&gt;79</title>\n",
       "<path fill=\"none\" stroke=\"black\" d=\"M95,-347.8C95,-336.16 95,-320.55 95,-307.24\"/>\n",
       "<polygon fill=\"black\" stroke=\"black\" points=\"98.5,-307.18 95,-297.18 91.5,-307.18 98.5,-307.18\"/>\n",
       "<text text-anchor=\"middle\" x=\"130\" y=\"-318.8\" font-family=\"Times,serif\" font-size=\"14.00\">   (3, 2, 1, 4)</text>\n",
       "</g>\n",
       "<!-- 80 -->\n",
       "<g id=\"node9\" class=\"node\">\n",
       "<title>80</title>\n",
       "<ellipse fill=\"none\" stroke=\"black\" cx=\"95\" cy=\"-192\" rx=\"42.49\" ry=\"18\"/>\n",
       "<text text-anchor=\"middle\" x=\"95\" y=\"-188.3\" font-family=\"Times,serif\" font-size=\"14.00\">toTensor</text>\n",
       "</g>\n",
       "<!-- 79&#45;&gt;80 -->\n",
       "<g id=\"edge8\" class=\"edge\">\n",
       "<title>79-&gt;80</title>\n",
       "<path fill=\"none\" stroke=\"black\" d=\"M95,-260.8C95,-249.16 95,-233.55 95,-220.24\"/>\n",
       "<polygon fill=\"black\" stroke=\"black\" points=\"98.5,-220.18 95,-210.18 91.5,-220.18 98.5,-220.18\"/>\n",
       "<text text-anchor=\"middle\" x=\"130\" y=\"-231.8\" font-family=\"Times,serif\" font-size=\"14.00\">   (3, 2, 1, 4)</text>\n",
       "</g>\n",
       "<!-- 81 -->\n",
       "<g id=\"node10\" class=\"node\">\n",
       "<title>81</title>\n",
       "<ellipse fill=\"none\" stroke=\"black\" cx=\"95\" cy=\"-105\" rx=\"27\" ry=\"18\"/>\n",
       "<text text-anchor=\"middle\" x=\"95\" y=\"-101.3\" font-family=\"Times,serif\" font-size=\"14.00\">op</text>\n",
       "</g>\n",
       "<!-- 80&#45;&gt;81 -->\n",
       "<g id=\"edge9\" class=\"edge\">\n",
       "<title>80-&gt;81</title>\n",
       "<path fill=\"none\" stroke=\"black\" d=\"M95,-173.8C95,-162.16 95,-146.55 95,-133.24\"/>\n",
       "<polygon fill=\"black\" stroke=\"black\" points=\"98.5,-133.18 95,-123.18 91.5,-133.18 98.5,-133.18\"/>\n",
       "<text text-anchor=\"middle\" x=\"130\" y=\"-144.8\" font-family=\"Times,serif\" font-size=\"14.00\">   (3, 2, 1, 4)</text>\n",
       "</g>\n",
       "<!-- 82 -->\n",
       "<g id=\"node11\" class=\"node\">\n",
       "<title>82</title>\n",
       "<ellipse fill=\"none\" stroke=\"black\" cx=\"95\" cy=\"-18\" rx=\"34.39\" ry=\"18\"/>\n",
       "<text text-anchor=\"middle\" x=\"95\" y=\"-14.3\" font-family=\"Times,serif\" font-size=\"14.00\">&lt;end&gt;</text>\n",
       "</g>\n",
       "<!-- 81&#45;&gt;82 -->\n",
       "<g id=\"edge10\" class=\"edge\">\n",
       "<title>81-&gt;82</title>\n",
       "<path fill=\"none\" stroke=\"black\" d=\"M95,-86.8C95,-75.16 95,-59.55 95,-46.24\"/>\n",
       "<polygon fill=\"black\" stroke=\"black\" points=\"98.5,-46.18 95,-36.18 91.5,-46.18 98.5,-46.18\"/>\n",
       "<text text-anchor=\"middle\" x=\"123\" y=\"-57.8\" font-family=\"Times,serif\" font-size=\"14.00\">   (3, 2, 4)</text>\n",
       "</g>\n",
       "</g>\n",
       "</svg>"
      ],
      "text/plain": [
       "<IPython.core.display.SVG object>"
      ]
     },
     "metadata": {},
     "output_type": "display_data"
    },
    {
     "data": {
      "text/plain": [
       "<trace object>"
      ]
     },
     "execution_count": 15,
     "metadata": {},
     "output_type": "execute_result"
    }
   ],
   "source": [
    "a = torch.randn(2, 3, 4) | deref(False)\n",
    "a | trace() | transpose() | unsqueeze(2) | deref() | toTensor() | op().squeeze()"
   ]
  },
  {
   "cell_type": "markdown",
   "id": "ad6d448b",
   "metadata": {},
   "source": [
    "As you can see, this can be extremely useful in debugging stuff."
   ]
  },
  {
   "cell_type": "markdown",
   "id": "0e6f060d",
   "metadata": {},
   "source": [
    "## Infinity and nested traces\n",
    "\n",
    "The way `trace()` works is by `deref`-ing every part of the stream. This means you can't really handle infinite streams. There is a workaround for this though. Say we have this infinite stream:"
   ]
  },
  {
   "cell_type": "code",
   "execution_count": 16,
   "id": "c7a42dc3",
   "metadata": {},
   "outputs": [
    {
     "data": {
      "text/plain": [
       "[1, 4, 9, 16, 1, 4, 9, 16, 1, 4]"
      ]
     },
     "execution_count": 16,
     "metadata": {},
     "output_type": "execute_result"
    }
   ],
   "source": [
    "range(1, 5) | repeatFrom() | apply(op()**2) | head(10) | deref()"
   ]
  },
  {
   "cell_type": "markdown",
   "id": "ca0dc8b5",
   "metadata": {},
   "source": [
    "So, we can set what infinity means inside `cliSettings`, which will be picked up by clis that can potentially produce infinite streams and limit them:"
   ]
  },
  {
   "cell_type": "code",
   "execution_count": 17,
   "id": "57a293ce",
   "metadata": {},
   "outputs": [],
   "source": [
    "with cliSettings[\"context\"]():\n",
    "    cliSettings[\"inf\"] = 21\n",
    "    range(1, 5) | trace() | repeatFrom() | apply(lambda x: x**2) | head(10) | deref()"
   ]
  },
  {
   "cell_type": "markdown",
   "id": "1ba4608c",
   "metadata": {},
   "source": [
    "Because trace objects only displays their graph through calling `__repr__`, the code above wouldn't display anything because it's inside a block. To get the graph, do this:"
   ]
  },
  {
   "cell_type": "code",
   "execution_count": 18,
   "id": "26582211",
   "metadata": {},
   "outputs": [
    {
     "data": {
      "image/svg+xml": [
       "<svg xmlns=\"http://www.w3.org/2000/svg\" xmlns:xlink=\"http://www.w3.org/1999/xlink\" width=\"78pt\" height=\"335pt\" viewBox=\"0.00 0.00 111.99 479.00\">\n",
       "<g id=\"graph0\" class=\"graph\" transform=\"scale(1 1) rotate(0) translate(4 475)\">\n",
       "<polygon fill=\"white\" stroke=\"transparent\" points=\"-4,4 -4,-475 107.99,-475 107.99,4 -4,4\"/>\n",
       "<!-- 83 -->\n",
       "<g id=\"node1\" class=\"node\">\n",
       "<title>83</title>\n",
       "<ellipse fill=\"none\" stroke=\"black\" cx=\"52\" cy=\"-453\" rx=\"36.29\" ry=\"18\"/>\n",
       "<text text-anchor=\"middle\" x=\"52\" y=\"-449.3\" font-family=\"Times,serif\" font-size=\"14.00\">&lt;start&gt;</text>\n",
       "</g>\n",
       "<!-- 84 -->\n",
       "<g id=\"node2\" class=\"node\">\n",
       "<title>84</title>\n",
       "<ellipse fill=\"none\" stroke=\"black\" cx=\"52\" cy=\"-366\" rx=\"51.99\" ry=\"18\"/>\n",
       "<text text-anchor=\"middle\" x=\"52\" y=\"-362.3\" font-family=\"Times,serif\" font-size=\"14.00\">repeatFrom</text>\n",
       "</g>\n",
       "<!-- 83&#45;&gt;84 -->\n",
       "<g id=\"edge1\" class=\"edge\">\n",
       "<title>83-&gt;84</title>\n",
       "<path fill=\"none\" stroke=\"black\" d=\"M52,-434.8C52,-423.16 52,-407.55 52,-394.24\"/>\n",
       "<polygon fill=\"black\" stroke=\"black\" points=\"55.5,-394.18 52,-384.18 48.5,-394.18 55.5,-394.18\"/>\n",
       "<text text-anchor=\"middle\" x=\"67.5\" y=\"-405.8\" font-family=\"Times,serif\" font-size=\"14.00\">   (4,)</text>\n",
       "</g>\n",
       "<!-- 85 -->\n",
       "<g id=\"node3\" class=\"node\">\n",
       "<title>85</title>\n",
       "<ellipse fill=\"none\" stroke=\"black\" cx=\"52\" cy=\"-279\" rx=\"30.59\" ry=\"18\"/>\n",
       "<text text-anchor=\"middle\" x=\"52\" y=\"-275.3\" font-family=\"Times,serif\" font-size=\"14.00\">apply</text>\n",
       "</g>\n",
       "<!-- 84&#45;&gt;85 -->\n",
       "<g id=\"edge2\" class=\"edge\">\n",
       "<title>84-&gt;85</title>\n",
       "<path fill=\"none\" stroke=\"black\" d=\"M52,-347.8C52,-336.16 52,-320.55 52,-307.24\"/>\n",
       "<polygon fill=\"black\" stroke=\"black\" points=\"55.5,-307.18 52,-297.18 48.5,-307.18 55.5,-307.18\"/>\n",
       "<text text-anchor=\"middle\" x=\"71\" y=\"-318.8\" font-family=\"Times,serif\" font-size=\"14.00\">   (84,)</text>\n",
       "</g>\n",
       "<!-- 86 -->\n",
       "<g id=\"node4\" class=\"node\">\n",
       "<title>86</title>\n",
       "<ellipse fill=\"none\" stroke=\"black\" cx=\"52\" cy=\"-192\" rx=\"27.1\" ry=\"18\"/>\n",
       "<text text-anchor=\"middle\" x=\"52\" y=\"-188.3\" font-family=\"Times,serif\" font-size=\"14.00\">head</text>\n",
       "</g>\n",
       "<!-- 85&#45;&gt;86 -->\n",
       "<g id=\"edge3\" class=\"edge\">\n",
       "<title>85-&gt;86</title>\n",
       "<path fill=\"none\" stroke=\"black\" d=\"M52,-260.8C52,-249.16 52,-233.55 52,-220.24\"/>\n",
       "<polygon fill=\"black\" stroke=\"black\" points=\"55.5,-220.18 52,-210.18 48.5,-220.18 55.5,-220.18\"/>\n",
       "<text text-anchor=\"middle\" x=\"71\" y=\"-231.8\" font-family=\"Times,serif\" font-size=\"14.00\">   (84,)</text>\n",
       "</g>\n",
       "<!-- 87 -->\n",
       "<g id=\"node5\" class=\"node\">\n",
       "<title>87</title>\n",
       "<ellipse fill=\"none\" stroke=\"black\" cx=\"52\" cy=\"-105\" rx=\"28.7\" ry=\"18\"/>\n",
       "<text text-anchor=\"middle\" x=\"52\" y=\"-101.3\" font-family=\"Times,serif\" font-size=\"14.00\">deref</text>\n",
       "</g>\n",
       "<!-- 86&#45;&gt;87 -->\n",
       "<g id=\"edge4\" class=\"edge\">\n",
       "<title>86-&gt;87</title>\n",
       "<path fill=\"none\" stroke=\"black\" d=\"M52,-173.8C52,-162.16 52,-146.55 52,-133.24\"/>\n",
       "<polygon fill=\"black\" stroke=\"black\" points=\"55.5,-133.18 52,-123.18 48.5,-133.18 55.5,-133.18\"/>\n",
       "<text text-anchor=\"middle\" x=\"71\" y=\"-144.8\" font-family=\"Times,serif\" font-size=\"14.00\">   (10,)</text>\n",
       "</g>\n",
       "<!-- 88 -->\n",
       "<g id=\"node6\" class=\"node\">\n",
       "<title>88</title>\n",
       "<ellipse fill=\"none\" stroke=\"black\" cx=\"52\" cy=\"-18\" rx=\"34.39\" ry=\"18\"/>\n",
       "<text text-anchor=\"middle\" x=\"52\" y=\"-14.3\" font-family=\"Times,serif\" font-size=\"14.00\">&lt;end&gt;</text>\n",
       "</g>\n",
       "<!-- 87&#45;&gt;88 -->\n",
       "<g id=\"edge5\" class=\"edge\">\n",
       "<title>87-&gt;88</title>\n",
       "<path fill=\"none\" stroke=\"black\" d=\"M52,-86.8C52,-75.16 52,-59.55 52,-46.24\"/>\n",
       "<polygon fill=\"black\" stroke=\"black\" points=\"55.5,-46.18 52,-36.18 48.5,-46.18 55.5,-46.18\"/>\n",
       "<text text-anchor=\"middle\" x=\"71\" y=\"-57.8\" font-family=\"Times,serif\" font-size=\"14.00\">   (10,)</text>\n",
       "</g>\n",
       "</g>\n",
       "</svg>"
      ],
      "text/plain": [
       "<IPython.core.display.SVG object>"
      ]
     },
     "metadata": {},
     "output_type": "display_data"
    },
    {
     "data": {
      "text/plain": [
       "<trace object>"
      ]
     },
     "execution_count": 18,
     "metadata": {},
     "output_type": "execute_result"
    }
   ],
   "source": [
    "trace.last"
   ]
  },
  {
   "cell_type": "markdown",
   "id": "5031d642",
   "metadata": {},
   "source": [
    "This is sort of messy I get it, but there doesn't seem to be a way to robustly track infinite streams."
   ]
  },
  {
   "cell_type": "markdown",
   "id": "d4d937fc",
   "metadata": {},
   "source": [
    "You can also put `trace()` inside of a relatively complex block. Let's grab an example from before:"
   ]
  },
  {
   "cell_type": "code",
   "execution_count": 19,
   "id": "4abdaea4",
   "metadata": {},
   "outputs": [
    {
     "data": {
      "image/svg+xml": [
       "<svg xmlns=\"http://www.w3.org/2000/svg\" xmlns:xlink=\"http://www.w3.org/1999/xlink\" width=\"186pt\" height=\"562pt\" viewBox=\"0.00 0.00 267.00 803.00\">\n",
       "<g id=\"graph0\" class=\"graph\" transform=\"scale(1 1) rotate(0) translate(4 799)\">\n",
       "<polygon fill=\"white\" stroke=\"transparent\" points=\"-4,4 -4,-799 263,-799 263,4 -4,4\"/>\n",
       "<g id=\"clust1\" class=\"cluster\">\n",
       "<title>cluster_13</title>\n",
       "<polygon fill=\"none\" stroke=\"black\" points=\"8,-166 8,-718 251,-718 251,-166 8,-166\"/>\n",
       "<text text-anchor=\"middle\" x=\"129.5\" y=\"-702.8\" font-family=\"Times,serif\" font-size=\"14.00\">&amp;, oneToMany</text>\n",
       "</g>\n",
       "<g id=\"clust2\" class=\"cluster\">\n",
       "<title>cluster_14</title>\n",
       "<polygon fill=\"none\" stroke=\"black\" points=\"78,-253 78,-610 243,-610 243,-253 78,-253\"/>\n",
       "<text text-anchor=\"middle\" x=\"160.5\" y=\"-594.8\" font-family=\"Times,serif\" font-size=\"14.00\">.all(), manyToMany, apply</text>\n",
       "</g>\n",
       "<g id=\"clust3\" class=\"cluster\">\n",
       "<title>cluster_15</title>\n",
       "<polygon fill=\"none\" stroke=\"black\" points=\"88,-340 88,-502 158,-502 158,-340 88,-340\"/>\n",
       "<text text-anchor=\"middle\" x=\"123\" y=\"-486.8\" font-family=\"Times,serif\" font-size=\"14.00\">|, serial</text>\n",
       "</g>\n",
       "<!-- 89 -->\n",
       "<g id=\"node1\" class=\"node\">\n",
       "<title>89</title>\n",
       "<ellipse fill=\"none\" stroke=\"black\" cx=\"85\" cy=\"-777\" rx=\"36.29\" ry=\"18\"/>\n",
       "<text text-anchor=\"middle\" x=\"85\" y=\"-773.3\" font-family=\"Times,serif\" font-size=\"14.00\">&lt;start&gt;</text>\n",
       "</g>\n",
       "<!-- 91 -->\n",
       "<g id=\"node2\" class=\"node\">\n",
       "<title>91</title>\n",
       "<ellipse fill=\"none\" stroke=\"black\" cx=\"85\" cy=\"-669\" rx=\"27\" ry=\"18\"/>\n",
       "<text text-anchor=\"middle\" x=\"85\" y=\"-665.3\" font-family=\"Times,serif\" font-size=\"14.00\">*</text>\n",
       "</g>\n",
       "<!-- 89&#45;&gt;91 -->\n",
       "<g id=\"edge8\" class=\"edge\">\n",
       "<title>89-&gt;91</title>\n",
       "<path fill=\"none\" stroke=\"black\" d=\"M85,-758.97C85,-742.38 85,-716.88 85,-697.43\"/>\n",
       "<polygon fill=\"black\" stroke=\"black\" points=\"88.5,-697.34 85,-687.34 81.5,-697.34 88.5,-697.34\"/>\n",
       "<text text-anchor=\"middle\" x=\"120\" y=\"-729.8\" font-family=\"Times,serif\" font-size=\"14.00\">   [1, 2, 3, 4]</text>\n",
       "</g>\n",
       "<!-- 93 -->\n",
       "<g id=\"node3\" class=\"node\">\n",
       "<title>93</title>\n",
       "<ellipse fill=\"none\" stroke=\"black\" cx=\"43\" cy=\"-561\" rx=\"27\" ry=\"18\"/>\n",
       "<text text-anchor=\"middle\" x=\"43\" y=\"-557.3\" font-family=\"Times,serif\" font-size=\"14.00\">size</text>\n",
       "</g>\n",
       "<!-- 91&#45;&gt;93 -->\n",
       "<g id=\"edge1\" class=\"edge\">\n",
       "<title>91-&gt;93</title>\n",
       "<path fill=\"none\" stroke=\"black\" d=\"M63.89,-657.7C54.44,-651.87 44.26,-643.61 39,-633 32.27,-619.43 32.91,-602.55 35.4,-588.66\"/>\n",
       "<polygon fill=\"black\" stroke=\"black\" points=\"38.86,-589.24 37.58,-578.72 32.02,-587.74 38.86,-589.24\"/>\n",
       "<text text-anchor=\"middle\" x=\"74\" y=\"-621.8\" font-family=\"Times,serif\" font-size=\"14.00\">   [1, 2, 3, 4]</text>\n",
       "</g>\n",
       "<!-- 95 -->\n",
       "<g id=\"node5\" class=\"node\">\n",
       "<title>95</title>\n",
       "<ellipse fill=\"none\" stroke=\"black\" cx=\"129\" cy=\"-561\" rx=\"27\" ry=\"18\"/>\n",
       "<text text-anchor=\"middle\" x=\"129\" y=\"-557.3\" font-family=\"Times,serif\" font-size=\"14.00\">*</text>\n",
       "</g>\n",
       "<!-- 91&#45;&gt;95 -->\n",
       "<g id=\"edge3\" class=\"edge\">\n",
       "<title>91-&gt;95</title>\n",
       "<path fill=\"none\" stroke=\"black\" d=\"M97.15,-652.63C101.36,-646.75 105.81,-639.81 109,-633 115.51,-619.09 120.31,-602.63 123.57,-589.06\"/>\n",
       "<polygon fill=\"black\" stroke=\"black\" points=\"127.08,-589.43 125.87,-578.9 120.25,-587.89 127.08,-589.43\"/>\n",
       "<text text-anchor=\"middle\" x=\"150\" y=\"-621.8\" font-family=\"Times,serif\" font-size=\"14.00\">   [1, 2, 3, 4]</text>\n",
       "</g>\n",
       "<!-- 92 -->\n",
       "<g id=\"node4\" class=\"node\">\n",
       "<title>92</title>\n",
       "<ellipse fill=\"none\" stroke=\"black\" cx=\"66\" cy=\"-192\" rx=\"27\" ry=\"18\"/>\n",
       "<text text-anchor=\"middle\" x=\"66\" y=\"-188.3\" font-family=\"Times,serif\" font-size=\"14.00\">*</text>\n",
       "</g>\n",
       "<!-- 93&#45;&gt;92 -->\n",
       "<g id=\"edge2\" class=\"edge\">\n",
       "<title>93-&gt;92</title>\n",
       "<path fill=\"none\" stroke=\"black\" d=\"M42.74,-542.74C42.44,-521.76 42,-485.29 42,-454 42,-454 42,-454 42,-278 42,-257.68 48.43,-235.63 54.63,-219.07\"/>\n",
       "<polygon fill=\"black\" stroke=\"black\" points=\"57.98,-220.13 58.41,-209.54 51.47,-217.55 57.98,-220.13\"/>\n",
       "<text text-anchor=\"middle\" x=\"56\" y=\"-362.3\" font-family=\"Times,serif\" font-size=\"14.00\">   [4]</text>\n",
       "</g>\n",
       "<!-- 100 -->\n",
       "<g id=\"node9\" class=\"node\">\n",
       "<title>100</title>\n",
       "<ellipse fill=\"none\" stroke=\"black\" cx=\"66\" cy=\"-105\" rx=\"28.7\" ry=\"18\"/>\n",
       "<text text-anchor=\"middle\" x=\"66\" y=\"-101.3\" font-family=\"Times,serif\" font-size=\"14.00\">deref</text>\n",
       "</g>\n",
       "<!-- 92&#45;&gt;100 -->\n",
       "<g id=\"edge9\" class=\"edge\">\n",
       "<title>92-&gt;100</title>\n",
       "<path fill=\"none\" stroke=\"black\" d=\"M66,-173.8C66,-162.16 66,-146.55 66,-133.24\"/>\n",
       "<polygon fill=\"black\" stroke=\"black\" points=\"69.5,-133.18 66,-123.18 62.5,-133.18 69.5,-133.18\"/>\n",
       "<text text-anchor=\"middle\" x=\"127.5\" y=\"-144.8\" font-family=\"Times,serif\" font-size=\"14.00\">   [[4], [4, 16, 36, 64]]</text>\n",
       "</g>\n",
       "<!-- 97 -->\n",
       "<g id=\"node7\" class=\"node\">\n",
       "<title>97</title>\n",
       "<ellipse fill=\"none\" stroke=\"black\" cx=\"123\" cy=\"-453\" rx=\"27\" ry=\"18\"/>\n",
       "<text text-anchor=\"middle\" x=\"123\" y=\"-449.3\" font-family=\"Times,serif\" font-size=\"14.00\">op</text>\n",
       "</g>\n",
       "<!-- 95&#45;&gt;97 -->\n",
       "<g id=\"edge6\" class=\"edge\">\n",
       "<title>95-&gt;97</title>\n",
       "<path fill=\"none\" stroke=\"black\" d=\"M128.04,-542.97C127.1,-526.38 125.65,-500.88 124.55,-481.43\"/>\n",
       "<polygon fill=\"black\" stroke=\"black\" points=\"128.04,-481.13 123.98,-471.34 121.05,-481.52 128.04,-481.13\"/>\n",
       "<text text-anchor=\"middle\" x=\"135.5\" y=\"-513.8\" font-family=\"Times,serif\" font-size=\"14.00\">   1</text>\n",
       "</g>\n",
       "<!-- 99 -->\n",
       "<g id=\"node6\" class=\"node\">\n",
       "<title>99</title>\n",
       "<ellipse fill=\"none\" stroke=\"black\" cx=\"117\" cy=\"-279\" rx=\"27\" ry=\"18\"/>\n",
       "<text text-anchor=\"middle\" x=\"117\" y=\"-275.3\" font-family=\"Times,serif\" font-size=\"14.00\">*</text>\n",
       "</g>\n",
       "<!-- 99&#45;&gt;92 -->\n",
       "<g id=\"edge4\" class=\"edge\">\n",
       "<title>99-&gt;92</title>\n",
       "<path fill=\"none\" stroke=\"black\" d=\"M107.41,-262.01C99.93,-249.55 89.41,-232.01 80.84,-217.74\"/>\n",
       "<polygon fill=\"black\" stroke=\"black\" points=\"83.7,-215.69 75.55,-208.92 77.69,-219.29 83.7,-215.69\"/>\n",
       "<text text-anchor=\"middle\" x=\"139.5\" y=\"-231.8\" font-family=\"Times,serif\" font-size=\"14.00\">   [4, 16, 36, 64]</text>\n",
       "</g>\n",
       "<!-- 98 -->\n",
       "<g id=\"node8\" class=\"node\">\n",
       "<title>98</title>\n",
       "<ellipse fill=\"none\" stroke=\"black\" cx=\"123\" cy=\"-366\" rx=\"27\" ry=\"18\"/>\n",
       "<text text-anchor=\"middle\" x=\"123\" y=\"-362.3\" font-family=\"Times,serif\" font-size=\"14.00\">op</text>\n",
       "</g>\n",
       "<!-- 97&#45;&gt;98 -->\n",
       "<g id=\"edge5\" class=\"edge\">\n",
       "<title>97-&gt;98</title>\n",
       "<path fill=\"none\" stroke=\"black\" d=\"M123,-434.8C123,-423.16 123,-407.55 123,-394.24\"/>\n",
       "<polygon fill=\"black\" stroke=\"black\" points=\"126.5,-394.18 123,-384.18 119.5,-394.18 126.5,-394.18\"/>\n",
       "<text text-anchor=\"middle\" x=\"132.5\" y=\"-405.8\" font-family=\"Times,serif\" font-size=\"14.00\">   2</text>\n",
       "</g>\n",
       "<!-- 98&#45;&gt;99 -->\n",
       "<g id=\"edge7\" class=\"edge\">\n",
       "<title>98-&gt;99</title>\n",
       "<path fill=\"none\" stroke=\"black\" d=\"M121.79,-347.8C120.96,-336.16 119.86,-320.55 118.92,-307.24\"/>\n",
       "<polygon fill=\"black\" stroke=\"black\" points=\"122.41,-306.9 118.21,-297.18 115.43,-307.4 122.41,-306.9\"/>\n",
       "<text text-anchor=\"middle\" x=\"129.5\" y=\"-318.8\" font-family=\"Times,serif\" font-size=\"14.00\">   4</text>\n",
       "</g>\n",
       "<!-- 101 -->\n",
       "<g id=\"node10\" class=\"node\">\n",
       "<title>101</title>\n",
       "<ellipse fill=\"none\" stroke=\"black\" cx=\"66\" cy=\"-18\" rx=\"34.39\" ry=\"18\"/>\n",
       "<text text-anchor=\"middle\" x=\"66\" y=\"-14.3\" font-family=\"Times,serif\" font-size=\"14.00\">&lt;end&gt;</text>\n",
       "</g>\n",
       "<!-- 100&#45;&gt;101 -->\n",
       "<g id=\"edge10\" class=\"edge\">\n",
       "<title>100-&gt;101</title>\n",
       "<path fill=\"none\" stroke=\"black\" d=\"M66,-86.8C66,-75.16 66,-59.55 66,-46.24\"/>\n",
       "<polygon fill=\"black\" stroke=\"black\" points=\"69.5,-46.18 66,-36.18 62.5,-46.18 69.5,-46.18\"/>\n",
       "<text text-anchor=\"middle\" x=\"127.5\" y=\"-57.8\" font-family=\"Times,serif\" font-size=\"14.00\">   [[4], [4, 16, 36, 64]]</text>\n",
       "</g>\n",
       "</g>\n",
       "</svg>"
      ],
      "text/plain": [
       "<IPython.core.display.SVG object>"
      ]
     },
     "metadata": {},
     "output_type": "display_data"
    },
    {
     "data": {
      "text/plain": [
       "<trace object>"
      ]
     },
     "execution_count": 19,
     "metadata": {},
     "output_type": "execute_result"
    }
   ],
   "source": [
    "range(1,5) | trace(None) | (shape() & (op()*2 | op()**2).all()) | deref()"
   ]
  },
  {
   "cell_type": "markdown",
   "id": "cfb2f288",
   "metadata": {},
   "source": [
    "Now let's try to intercept in the middle:"
   ]
  },
  {
   "cell_type": "code",
   "execution_count": 20,
   "id": "dce5d67e",
   "metadata": {},
   "outputs": [
    {
     "data": {
      "image/svg+xml": [
       "<svg xmlns=\"http://www.w3.org/2000/svg\" xmlns:xlink=\"http://www.w3.org/1999/xlink\" width=\"56pt\" height=\"274pt\" viewBox=\"0.00 0.00 80.79 392.00\">\n",
       "<g id=\"graph0\" class=\"graph\" transform=\"scale(1 1) rotate(0) translate(4 388)\">\n",
       "<polygon fill=\"white\" stroke=\"transparent\" points=\"-4,4 -4,-388 76.79,-388 76.79,4 -4,4\"/>\n",
       "<!-- 102 -->\n",
       "<g id=\"node1\" class=\"node\">\n",
       "<title>102</title>\n",
       "<ellipse fill=\"none\" stroke=\"black\" cx=\"36.4\" cy=\"-366\" rx=\"36.29\" ry=\"18\"/>\n",
       "<text text-anchor=\"middle\" x=\"36.4\" y=\"-362.3\" font-family=\"Times,serif\" font-size=\"14.00\">&lt;start&gt;</text>\n",
       "</g>\n",
       "<!-- 103 -->\n",
       "<g id=\"node2\" class=\"node\">\n",
       "<title>103</title>\n",
       "<ellipse fill=\"none\" stroke=\"black\" cx=\"36.4\" cy=\"-279\" rx=\"27\" ry=\"18\"/>\n",
       "<text text-anchor=\"middle\" x=\"36.4\" y=\"-275.3\" font-family=\"Times,serif\" font-size=\"14.00\">op</text>\n",
       "</g>\n",
       "<!-- 102&#45;&gt;103 -->\n",
       "<g id=\"edge1\" class=\"edge\">\n",
       "<title>102-&gt;103</title>\n",
       "<path fill=\"none\" stroke=\"black\" d=\"M36.4,-347.8C36.4,-336.16 36.4,-320.55 36.4,-307.24\"/>\n",
       "<polygon fill=\"black\" stroke=\"black\" points=\"39.9,-307.18 36.4,-297.18 32.9,-307.18 39.9,-307.18\"/>\n",
       "<text text-anchor=\"middle\" x=\"45.9\" y=\"-318.8\" font-family=\"Times,serif\" font-size=\"14.00\">   1</text>\n",
       "</g>\n",
       "<!-- 104 -->\n",
       "<g id=\"node3\" class=\"node\">\n",
       "<title>104</title>\n",
       "<ellipse fill=\"none\" stroke=\"black\" cx=\"36.4\" cy=\"-192\" rx=\"27\" ry=\"18\"/>\n",
       "<text text-anchor=\"middle\" x=\"36.4\" y=\"-188.3\" font-family=\"Times,serif\" font-size=\"14.00\">op</text>\n",
       "</g>\n",
       "<!-- 103&#45;&gt;104 -->\n",
       "<g id=\"edge2\" class=\"edge\">\n",
       "<title>103-&gt;104</title>\n",
       "<path fill=\"none\" stroke=\"black\" d=\"M36.4,-260.8C36.4,-249.16 36.4,-233.55 36.4,-220.24\"/>\n",
       "<polygon fill=\"black\" stroke=\"black\" points=\"39.9,-220.18 36.4,-210.18 32.9,-220.18 39.9,-220.18\"/>\n",
       "<text text-anchor=\"middle\" x=\"45.9\" y=\"-231.8\" font-family=\"Times,serif\" font-size=\"14.00\">   2</text>\n",
       "</g>\n",
       "<!-- 105 -->\n",
       "<g id=\"node4\" class=\"node\">\n",
       "<title>105</title>\n",
       "<ellipse fill=\"none\" stroke=\"black\" cx=\"36.4\" cy=\"-105\" rx=\"28.7\" ry=\"18\"/>\n",
       "<text text-anchor=\"middle\" x=\"36.4\" y=\"-101.3\" font-family=\"Times,serif\" font-size=\"14.00\">deref</text>\n",
       "</g>\n",
       "<!-- 104&#45;&gt;105 -->\n",
       "<g id=\"edge3\" class=\"edge\">\n",
       "<title>104-&gt;105</title>\n",
       "<path fill=\"none\" stroke=\"black\" d=\"M36.4,-173.8C36.4,-162.16 36.4,-146.55 36.4,-133.24\"/>\n",
       "<polygon fill=\"black\" stroke=\"black\" points=\"39.9,-133.18 36.4,-123.18 32.9,-133.18 39.9,-133.18\"/>\n",
       "<text text-anchor=\"middle\" x=\"45.9\" y=\"-144.8\" font-family=\"Times,serif\" font-size=\"14.00\">   4</text>\n",
       "</g>\n",
       "<!-- 109 -->\n",
       "<g id=\"node5\" class=\"node\">\n",
       "<title>109</title>\n",
       "<ellipse fill=\"none\" stroke=\"black\" cx=\"36.4\" cy=\"-18\" rx=\"34.39\" ry=\"18\"/>\n",
       "<text text-anchor=\"middle\" x=\"36.4\" y=\"-14.3\" font-family=\"Times,serif\" font-size=\"14.00\">&lt;end&gt;</text>\n",
       "</g>\n",
       "<!-- 105&#45;&gt;109 -->\n",
       "<g id=\"edge4\" class=\"edge\">\n",
       "<title>105-&gt;109</title>\n",
       "<path fill=\"none\" stroke=\"black\" d=\"M36.4,-86.8C36.4,-75.16 36.4,-59.55 36.4,-46.24\"/>\n",
       "<polygon fill=\"black\" stroke=\"black\" points=\"39.9,-46.18 36.4,-36.18 32.9,-46.18 39.9,-46.18\"/>\n",
       "<text text-anchor=\"middle\" x=\"45.9\" y=\"-57.8\" font-family=\"Times,serif\" font-size=\"14.00\">   4</text>\n",
       "</g>\n",
       "</g>\n",
       "</svg>"
      ],
      "text/plain": [
       "<IPython.core.display.SVG object>"
      ]
     },
     "metadata": {},
     "output_type": "display_data"
    },
    {
     "data": {
      "text/plain": [
       "[[4], [<trace object>, 16, 36, 64]]"
      ]
     },
     "execution_count": 20,
     "metadata": {},
     "output_type": "execute_result"
    }
   ],
   "source": [
    "range(1,5) | (shape() & (trace(None) | op()*2 | op()**2).all()) | deref()"
   ]
  },
  {
   "cell_type": "markdown",
   "id": "6ef6ec83",
   "metadata": {},
   "source": [
    "It works! If for some reason, it errors out, you can always do `trace.last` to see the best trace attempt. This is rare and I haven't been able to make it errors out, but logic says that it can in weird circumstances. Also, unlike `trace()` at the top level, notice how nested `trace()` are a part of the derefed object? This means that without actually forcing the execution to happen, you won't have any trace:"
   ]
  },
  {
   "cell_type": "code",
   "execution_count": 21,
   "id": "c2a174b5",
   "metadata": {},
   "outputs": [
    {
     "data": {
      "text/plain": [
       "<generator object oneToMany.__ror__ at 0x7f273a4674a0>"
      ]
     },
     "execution_count": 21,
     "metadata": {},
     "output_type": "execute_result"
    }
   ],
   "source": [
    "range(1,5) | (shape() & (trace(None) | op()*2 | op()**2).all())"
   ]
  },
  {
   "cell_type": "code",
   "execution_count": 22,
   "id": "085130fb",
   "metadata": {},
   "outputs": [
    {
     "data": {
      "image/svg+xml": [
       "<svg xmlns=\"http://www.w3.org/2000/svg\" xmlns:xlink=\"http://www.w3.org/1999/xlink\" width=\"59pt\" height=\"91pt\" viewBox=\"0.00 0.00 85.40 131.00\">\n",
       "<g id=\"graph0\" class=\"graph\" transform=\"scale(1 1) rotate(0) translate(4 127)\">\n",
       "<polygon fill=\"white\" stroke=\"transparent\" points=\"-4,4 -4,-127 81.4,-127 81.4,4 -4,4\"/>\n",
       "<!-- 110 -->\n",
       "<g id=\"node1\" class=\"node\">\n",
       "<title>110</title>\n",
       "<ellipse fill=\"none\" stroke=\"black\" cx=\"36.4\" cy=\"-105\" rx=\"36.29\" ry=\"18\"/>\n",
       "<text text-anchor=\"middle\" x=\"36.4\" y=\"-101.3\" font-family=\"Times,serif\" font-size=\"14.00\">&lt;start&gt;</text>\n",
       "</g>\n",
       "<!-- 111 -->\n",
       "<g id=\"node2\" class=\"node\">\n",
       "<title>111</title>\n",
       "<ellipse fill=\"none\" stroke=\"black\" cx=\"36.4\" cy=\"-18\" rx=\"34.39\" ry=\"18\"/>\n",
       "<text text-anchor=\"middle\" x=\"36.4\" y=\"-14.3\" font-family=\"Times,serif\" font-size=\"14.00\">&lt;end&gt;</text>\n",
       "</g>\n",
       "<!-- 110&#45;&gt;111 -->\n",
       "<g id=\"edge1\" class=\"edge\">\n",
       "<title>110-&gt;111</title>\n",
       "<path fill=\"none\" stroke=\"black\" d=\"M36.4,-86.8C36.4,-75.16 36.4,-59.55 36.4,-46.24\"/>\n",
       "<polygon fill=\"black\" stroke=\"black\" points=\"39.9,-46.18 36.4,-36.18 32.9,-46.18 39.9,-46.18\"/>\n",
       "<text text-anchor=\"middle\" x=\"56.9\" y=\"-57.8\" font-family=\"Times,serif\" font-size=\"14.00\">   None</text>\n",
       "</g>\n",
       "</g>\n",
       "</svg>"
      ],
      "text/plain": [
       "<IPython.core.display.SVG object>"
      ]
     },
     "metadata": {},
     "output_type": "display_data"
    },
    {
     "data": {
      "text/plain": [
       "<trace object>"
      ]
     },
     "execution_count": 22,
     "metadata": {},
     "output_type": "execute_result"
    }
   ],
   "source": [
    "trace.last"
   ]
  },
  {
   "cell_type": "markdown",
   "id": "22f98394",
   "metadata": {},
   "source": [
    "Therefore, it's my recommendation to do always `deref()`, ignore the output (because it can potentially be long), then see the last trace:"
   ]
  },
  {
   "cell_type": "code",
   "execution_count": 23,
   "id": "5a399358",
   "metadata": {},
   "outputs": [
    {
     "data": {
      "image/svg+xml": [
       "<svg xmlns=\"http://www.w3.org/2000/svg\" xmlns:xlink=\"http://www.w3.org/1999/xlink\" width=\"56pt\" height=\"274pt\" viewBox=\"0.00 0.00 80.79 392.00\">\n",
       "<g id=\"graph0\" class=\"graph\" transform=\"scale(1 1) rotate(0) translate(4 388)\">\n",
       "<polygon fill=\"white\" stroke=\"transparent\" points=\"-4,4 -4,-388 76.79,-388 76.79,4 -4,4\"/>\n",
       "<!-- 112 -->\n",
       "<g id=\"node1\" class=\"node\">\n",
       "<title>112</title>\n",
       "<ellipse fill=\"none\" stroke=\"black\" cx=\"36.4\" cy=\"-366\" rx=\"36.29\" ry=\"18\"/>\n",
       "<text text-anchor=\"middle\" x=\"36.4\" y=\"-362.3\" font-family=\"Times,serif\" font-size=\"14.00\">&lt;start&gt;</text>\n",
       "</g>\n",
       "<!-- 113 -->\n",
       "<g id=\"node2\" class=\"node\">\n",
       "<title>113</title>\n",
       "<ellipse fill=\"none\" stroke=\"black\" cx=\"36.4\" cy=\"-279\" rx=\"27\" ry=\"18\"/>\n",
       "<text text-anchor=\"middle\" x=\"36.4\" y=\"-275.3\" font-family=\"Times,serif\" font-size=\"14.00\">op</text>\n",
       "</g>\n",
       "<!-- 112&#45;&gt;113 -->\n",
       "<g id=\"edge1\" class=\"edge\">\n",
       "<title>112-&gt;113</title>\n",
       "<path fill=\"none\" stroke=\"black\" d=\"M36.4,-347.8C36.4,-336.16 36.4,-320.55 36.4,-307.24\"/>\n",
       "<polygon fill=\"black\" stroke=\"black\" points=\"39.9,-307.18 36.4,-297.18 32.9,-307.18 39.9,-307.18\"/>\n",
       "<text text-anchor=\"middle\" x=\"45.9\" y=\"-318.8\" font-family=\"Times,serif\" font-size=\"14.00\">   1</text>\n",
       "</g>\n",
       "<!-- 114 -->\n",
       "<g id=\"node3\" class=\"node\">\n",
       "<title>114</title>\n",
       "<ellipse fill=\"none\" stroke=\"black\" cx=\"36.4\" cy=\"-192\" rx=\"27\" ry=\"18\"/>\n",
       "<text text-anchor=\"middle\" x=\"36.4\" y=\"-188.3\" font-family=\"Times,serif\" font-size=\"14.00\">op</text>\n",
       "</g>\n",
       "<!-- 113&#45;&gt;114 -->\n",
       "<g id=\"edge2\" class=\"edge\">\n",
       "<title>113-&gt;114</title>\n",
       "<path fill=\"none\" stroke=\"black\" d=\"M36.4,-260.8C36.4,-249.16 36.4,-233.55 36.4,-220.24\"/>\n",
       "<polygon fill=\"black\" stroke=\"black\" points=\"39.9,-220.18 36.4,-210.18 32.9,-220.18 39.9,-220.18\"/>\n",
       "<text text-anchor=\"middle\" x=\"45.9\" y=\"-231.8\" font-family=\"Times,serif\" font-size=\"14.00\">   2</text>\n",
       "</g>\n",
       "<!-- 115 -->\n",
       "<g id=\"node4\" class=\"node\">\n",
       "<title>115</title>\n",
       "<ellipse fill=\"none\" stroke=\"black\" cx=\"36.4\" cy=\"-105\" rx=\"28.7\" ry=\"18\"/>\n",
       "<text text-anchor=\"middle\" x=\"36.4\" y=\"-101.3\" font-family=\"Times,serif\" font-size=\"14.00\">deref</text>\n",
       "</g>\n",
       "<!-- 114&#45;&gt;115 -->\n",
       "<g id=\"edge3\" class=\"edge\">\n",
       "<title>114-&gt;115</title>\n",
       "<path fill=\"none\" stroke=\"black\" d=\"M36.4,-173.8C36.4,-162.16 36.4,-146.55 36.4,-133.24\"/>\n",
       "<polygon fill=\"black\" stroke=\"black\" points=\"39.9,-133.18 36.4,-123.18 32.9,-133.18 39.9,-133.18\"/>\n",
       "<text text-anchor=\"middle\" x=\"45.9\" y=\"-144.8\" font-family=\"Times,serif\" font-size=\"14.00\">   4</text>\n",
       "</g>\n",
       "<!-- 119 -->\n",
       "<g id=\"node5\" class=\"node\">\n",
       "<title>119</title>\n",
       "<ellipse fill=\"none\" stroke=\"black\" cx=\"36.4\" cy=\"-18\" rx=\"34.39\" ry=\"18\"/>\n",
       "<text text-anchor=\"middle\" x=\"36.4\" y=\"-14.3\" font-family=\"Times,serif\" font-size=\"14.00\">&lt;end&gt;</text>\n",
       "</g>\n",
       "<!-- 115&#45;&gt;119 -->\n",
       "<g id=\"edge4\" class=\"edge\">\n",
       "<title>115-&gt;119</title>\n",
       "<path fill=\"none\" stroke=\"black\" d=\"M36.4,-86.8C36.4,-75.16 36.4,-59.55 36.4,-46.24\"/>\n",
       "<polygon fill=\"black\" stroke=\"black\" points=\"39.9,-46.18 36.4,-36.18 32.9,-46.18 39.9,-46.18\"/>\n",
       "<text text-anchor=\"middle\" x=\"45.9\" y=\"-57.8\" font-family=\"Times,serif\" font-size=\"14.00\">   4</text>\n",
       "</g>\n",
       "</g>\n",
       "</svg>"
      ],
      "text/plain": [
       "<IPython.core.display.SVG object>"
      ]
     },
     "metadata": {},
     "output_type": "display_data"
    },
    {
     "data": {
      "text/plain": [
       "<trace object>"
      ]
     },
     "execution_count": 23,
     "metadata": {},
     "output_type": "execute_result"
    }
   ],
   "source": [
    "range(1,5) | (shape() & (trace(None) | op()*2 | op()**2).all()) | deref(); trace.last"
   ]
  },
  {
   "cell_type": "markdown",
   "id": "f8ffde59",
   "metadata": {},
   "source": [
    "Also very surprisingly, this works too, while I reason it shouldn't really work!"
   ]
  },
  {
   "cell_type": "code",
   "execution_count": 24,
   "id": "fc9ea57d",
   "metadata": {},
   "outputs": [
    {
     "data": {
      "image/svg+xml": [
       "<svg xmlns=\"http://www.w3.org/2000/svg\" xmlns:xlink=\"http://www.w3.org/1999/xlink\" width=\"175pt\" height=\"224pt\" viewBox=\"0.00 0.00 251.40 320.00\">\n",
       "<g id=\"graph0\" class=\"graph\" transform=\"scale(1 1) rotate(0) translate(4 316)\">\n",
       "<polygon fill=\"white\" stroke=\"transparent\" points=\"-4,4 -4,-316 247.4,-316 247.4,4 -4,4\"/>\n",
       "<!-- 120 -->\n",
       "<g id=\"node1\" class=\"node\">\n",
       "<title>120</title>\n",
       "<ellipse fill=\"none\" stroke=\"black\" cx=\"36.4\" cy=\"-294\" rx=\"36.29\" ry=\"18\"/>\n",
       "<text text-anchor=\"middle\" x=\"36.4\" y=\"-290.3\" font-family=\"Times,serif\" font-size=\"14.00\">&lt;start&gt;</text>\n",
       "</g>\n",
       "<!-- 121 -->\n",
       "<g id=\"node2\" class=\"node\">\n",
       "<title>121</title>\n",
       "<ellipse fill=\"none\" stroke=\"black\" cx=\"36.4\" cy=\"-192\" rx=\"27\" ry=\"18\"/>\n",
       "<text text-anchor=\"middle\" x=\"36.4\" y=\"-188.3\" font-family=\"Times,serif\" font-size=\"14.00\">op</text>\n",
       "</g>\n",
       "<!-- 120&#45;&gt;121 -->\n",
       "<g id=\"edge1\" class=\"edge\">\n",
       "<title>120-&gt;121</title>\n",
       "<path fill=\"none\" stroke=\"black\" d=\"M36.4,-275.58C36.4,-260.38 36.4,-238.07 36.4,-220.46\"/>\n",
       "<polygon fill=\"black\" stroke=\"black\" points=\"39.9,-220.22 36.4,-210.22 32.9,-220.22 39.9,-220.22\"/>\n",
       "<text text-anchor=\"middle\" x=\"139.9\" y=\"-246.8\" font-family=\"Times,serif\" font-size=\"14.00\">   tensor([[-0.6854,  0.1892, -1.2828],</text>\n",
       "<text text-anchor=\"middle\" x=\"139.9\" y=\"-231.8\" font-family=\"Times,serif\" font-size=\"14.00\">        [-2.4793,  0.0694, -1.4169]])</text>\n",
       "</g>\n",
       "<!-- 122 -->\n",
       "<g id=\"node3\" class=\"node\">\n",
       "<title>122</title>\n",
       "<ellipse fill=\"none\" stroke=\"black\" cx=\"36.4\" cy=\"-105\" rx=\"28.7\" ry=\"18\"/>\n",
       "<text text-anchor=\"middle\" x=\"36.4\" y=\"-101.3\" font-family=\"Times,serif\" font-size=\"14.00\">deref</text>\n",
       "</g>\n",
       "<!-- 121&#45;&gt;122 -->\n",
       "<g id=\"edge2\" class=\"edge\">\n",
       "<title>121-&gt;122</title>\n",
       "<path fill=\"none\" stroke=\"black\" d=\"M36.4,-173.8C36.4,-162.16 36.4,-146.55 36.4,-133.24\"/>\n",
       "<polygon fill=\"black\" stroke=\"black\" points=\"39.9,-133.18 36.4,-123.18 32.9,-133.18 39.9,-133.18\"/>\n",
       "<text text-anchor=\"middle\" x=\"57.4\" y=\"-144.8\" font-family=\"Times,serif\" font-size=\"14.00\">   [2, 3]</text>\n",
       "</g>\n",
       "<!-- 123 -->\n",
       "<g id=\"node4\" class=\"node\">\n",
       "<title>123</title>\n",
       "<ellipse fill=\"none\" stroke=\"black\" cx=\"36.4\" cy=\"-18\" rx=\"34.39\" ry=\"18\"/>\n",
       "<text text-anchor=\"middle\" x=\"36.4\" y=\"-14.3\" font-family=\"Times,serif\" font-size=\"14.00\">&lt;end&gt;</text>\n",
       "</g>\n",
       "<!-- 122&#45;&gt;123 -->\n",
       "<g id=\"edge3\" class=\"edge\">\n",
       "<title>122-&gt;123</title>\n",
       "<path fill=\"none\" stroke=\"black\" d=\"M36.4,-86.8C36.4,-75.16 36.4,-59.55 36.4,-46.24\"/>\n",
       "<polygon fill=\"black\" stroke=\"black\" points=\"39.9,-46.18 36.4,-36.18 32.9,-46.18 39.9,-46.18\"/>\n",
       "<text text-anchor=\"middle\" x=\"57.4\" y=\"-57.8\" font-family=\"Times,serif\" font-size=\"14.00\">   [2, 3]</text>\n",
       "</g>\n",
       "</g>\n",
       "</svg>"
      ],
      "text/plain": [
       "<IPython.core.display.SVG object>"
      ]
     },
     "metadata": {},
     "output_type": "display_data"
    },
    {
     "data": {
      "text/plain": [
       "[<trace object>,\n",
       " tensor([[-8.9710e-01, -1.8600e+00, -1.5201e-01, -8.1454e-01, -2.7811e-01],\n",
       "         [-5.1517e-01,  1.4355e+00, -3.5742e-01,  1.5682e-01, -1.2595e-03],\n",
       "         [-7.6973e-01,  5.7530e-01,  9.6272e-01,  6.3784e-01,  1.5823e+00],\n",
       "         [ 5.2069e-01, -4.3500e-01,  1.1077e+00,  9.4347e-01, -2.2179e-01]])]"
      ]
     },
     "execution_count": 24,
     "metadata": {},
     "output_type": "execute_result"
    }
   ],
   "source": [
    "[torch.randn(2, 3), torch.randn(4, 5)] | ((trace(None) | op().shape) + iden()) | deref()"
   ]
  },
  {
   "cell_type": "markdown",
   "id": "76556637",
   "metadata": {},
   "source": [
    "No idea how that works, but nice"
   ]
  },
  {
   "cell_type": "markdown",
   "id": "8d765e9f",
   "metadata": {},
   "source": [
    "## Gotchas"
   ]
  },
  {
   "cell_type": "markdown",
   "id": "db5e2191",
   "metadata": {},
   "source": [
    "There aren't any other gotchas, as far as I'm aware of. Sometimes the clis will be replaced by a version that is guaranteed to return the same result, but are slightly different, to make tracing code simpler. Examples may include `applyMp` changing into `apply` (will not work if `trace()` is nested inside of `applyMp` tho, and there be dragons if you try to do so). But you need not worry about this too much."
   ]
  },
  {
   "cell_type": "code",
   "execution_count": null,
   "id": "5700b292",
   "metadata": {},
   "outputs": [],
   "source": []
  }
 ],
 "metadata": {
  "kernelspec": {
   "display_name": "Python 3 (ipykernel)",
   "language": "python",
   "name": "python3"
  },
  "language_info": {
   "codemirror_mode": {
    "name": "ipython",
    "version": 3
   },
   "file_extension": ".py",
   "mimetype": "text/x-python",
   "name": "python",
   "nbconvert_exporter": "python",
   "pygments_lexer": "ipython3",
   "version": "3.8.12"
  }
 },
 "nbformat": 4,
 "nbformat_minor": 5
}
