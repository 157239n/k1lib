{
 "cells": [
  {
   "cell_type": "markdown",
   "id": "4ff092b9",
   "metadata": {},
   "source": [
    "# Analyzing covid's genome\n",
    "\n",
    "This tutorial will make heavy use of `k1lib.bioinfo.cli` module, and to show another example of what a typical workflow looks like. [File](https://github.com/157239n/k1lib/tree/master/docs/tutorials/covid.gb) is in GenBank format."
   ]
  },
  {
   "cell_type": "code",
   "execution_count": 1,
   "id": "3639e245",
   "metadata": {},
   "outputs": [
    {
     "data": {
      "text/html": [
       "<style>\n",
       "    div.jp-OutputArea-output pre {white-space: pre;}\n",
       "    div.output_area pre {white-space: pre;}\n",
       "    div.CodeMirror > div.highlight {overflow-y: auto;}\n",
       "</style>"
      ],
      "text/plain": [
       "<IPython.core.display.HTML object>"
      ]
     },
     "metadata": {},
     "output_type": "display_data"
    }
   ],
   "source": [
    "from k1lib.imports import *"
   ]
  },
  {
   "cell_type": "markdown",
   "id": "c432eca6",
   "metadata": {},
   "source": [
    "## Overview"
   ]
  },
  {
   "cell_type": "markdown",
   "id": "89078609",
   "metadata": {},
   "source": [
    "Here's what it kinda looks like:"
   ]
  },
  {
   "cell_type": "code",
   "execution_count": 2,
   "id": "1eec19b6",
   "metadata": {},
   "outputs": [
    {
     "name": "stdout",
     "output_type": "stream",
     "text": [
      "LOCUS       NC_045512              29903 bp ss-RNA     linear   VRL 18-JUL-2020\n",
      "DEFINITION  Severe acute respiratory syndrome coronavirus 2 isolate Wuhan-Hu-1,\n",
      "            complete genome.\n",
      "ACCESSION   NC_045512\n",
      "VERSION     NC_045512.2\n",
      "DBLINK      BioProject: PRJNA485481\n",
      "KEYWORDS    RefSeq.\n",
      "SOURCE      Severe acute respiratory syndrome coronavirus 2 (SARS-CoV-2)\n",
      "  ORGANISM  Severe acute respiratory syndrome coronavirus 2\n",
      "            Viruses; Riboviria; Orthornavirae; Pisuviricota; Pisoniviricetes;\n"
     ]
    }
   ],
   "source": [
    "cat(\"covid.gb\") | headOut()"
   ]
  },
  {
   "cell_type": "markdown",
   "id": "29547764",
   "metadata": {},
   "source": [
    "And the end:"
   ]
  },
  {
   "cell_type": "code",
   "execution_count": 3,
   "id": "aa986544",
   "metadata": {},
   "outputs": [
    {
     "name": "stdout",
     "output_type": "stream",
     "text": [
      "    29341 tattgacgca tacaaaacat tcccaccaac agagcctaaa aaggacaaaa agaagaaggc\n",
      "    29401 tgatgaaact caagccttac cgcagagaca gaagaaacag caaactgtga ctcttcttcc\n",
      "    29461 tgctgcagat ttggatgatt tctccaaaca attgcaacaa tccatgagca gtgctgactc\n",
      "    29521 aactcaggcc taaactcatg cagaccacac aaggcagatg ggctatataa acgttttcgc\n",
      "    29581 ttttccgttt acgatatata gtctactctt gtgcagaatg aattctcgta actacatagc\n",
      "    29641 acaagtagat gtagttaact ttaatctcac atagcaatct ttaatcagtg tgtaacatta\n",
      "    29701 gggaggactt gaaagagcca ccacattttc accgaggcca cgcggagtac gatcgagtgt\n",
      "    29761 acagtgaaca atgctaggga gagctgccta tatggaagag ccctaatgtg taaaattaat\n",
      "    29821 tttagtagtg ctatccccat gtgattttaa tagcttctta ggagaatgac aaaaaaaaaa\n",
      "    29881 aaaaaaaaaa aaaaaaaaaa aaa\n"
     ]
    }
   ],
   "source": [
    "cat(\"covid.gb\") | rows()[-10:] | headOut()"
   ]
  },
  {
   "cell_type": "markdown",
   "id": "2831dadf",
   "metadata": {},
   "source": [
    "So, 29903 nucleotides in total, just as advertised. The last nucleotide section always starts with \"ORIGIN\", so let's look for that:"
   ]
  },
  {
   "cell_type": "markdown",
   "id": "81d228b5",
   "metadata": {},
   "source": [
    "## Origin"
   ]
  },
  {
   "cell_type": "code",
   "execution_count": 4,
   "id": "e1ef1304",
   "metadata": {},
   "outputs": [
    {
     "name": "stdout",
     "output_type": "stream",
     "text": [
      "ORIGIN      \n",
      "        1 attaaaggtt tataccttcc caggtaacaa accaaccaac tttcgatctc ttgtagatct\n",
      "       61 gttctctaaa cgaactttaa aatctgtgtg gctgtcactc ggctgcatgc ttagtgcact\n"
     ]
    }
   ],
   "source": [
    "cat(\"covid.gb\") | grep(\"ORIGIN\", after=1e9) | headOut(3)"
   ]
  },
  {
   "cell_type": "markdown",
   "id": "70a88759",
   "metadata": {},
   "source": [
    "Nice. Let's extract everything out:"
   ]
  },
  {
   "cell_type": "code",
   "execution_count": 5,
   "id": "c8b030bd",
   "metadata": {},
   "outputs": [
    {
     "data": {
      "text/plain": [
       "'a'"
      ]
     },
     "execution_count": 5,
     "metadata": {},
     "output_type": "execute_result"
    }
   ],
   "source": [
    "(cat(\"covid.gb\") | grep(\"ORIGIN\", after=1e9) | ~head(1) | strip() | table(\" \") | columns()[1:] | to1Str(\"\").all() | to1Str(\"\") | item())[:100]"
   ]
  },
  {
   "cell_type": "markdown",
   "id": "929e460a",
   "metadata": {},
   "source": [
    "This is rather long, so there's a built in operation for that"
   ]
  },
  {
   "cell_type": "code",
   "execution_count": 6,
   "id": "bc2ffef7",
   "metadata": {},
   "outputs": [],
   "source": [
    "# hide behind a wrapper cause I get annoyed at Jupyter Lab's contextual help displaying the huge text\n",
    "nt = k1lib.Wrapper(cat(\"covid.gb\") | gb.origin())"
   ]
  },
  {
   "cell_type": "code",
   "execution_count": 7,
   "id": "e5fd0e0d",
   "metadata": {},
   "outputs": [
    {
     "data": {
      "text/plain": [
       "'attaaaggtttataccttcccaggtaacaaaccaaccaactttcgatctcttgtagatctgttctctaaacgaactttaaaatctgtgtggctgtcactc'"
      ]
     },
     "execution_count": 7,
     "metadata": {},
     "output_type": "execute_result"
    }
   ],
   "source": [
    "nt()[:100]"
   ]
  },
  {
   "cell_type": "markdown",
   "id": "5b8cf202",
   "metadata": {},
   "source": [
    "## Features"
   ]
  },
  {
   "cell_type": "markdown",
   "id": "c7c62203",
   "metadata": {},
   "source": [
    "Before ORIGIN \"section\", there's the FEATURES section that looks like this:"
   ]
  },
  {
   "cell_type": "code",
   "execution_count": 8,
   "id": "11f03ace",
   "metadata": {},
   "outputs": [
    {
     "name": "stdout",
     "output_type": "stream",
     "text": [
      "FEATURES             Location/Qualifiers\n",
      "     source          1..29903\n",
      "                     /organism=\"Severe acute respiratory syndrome coronavirus\n",
      "                     2\"\n",
      "                     /mol_type=\"genomic RNA\"\n",
      "                     /isolate=\"Wuhan-Hu-1\"\n",
      "                     /host=\"Homo sapiens\"\n",
      "                     /db_xref=\"taxon:2697049\"\n",
      "                     /country=\"China\"\n",
      "                     /collection_date=\"Dec-2019\"\n",
      "     5'UTR           1..265\n",
      "     gene            266..21555\n",
      "                     /gene=\"ORF1ab\"\n",
      "                     /locus_tag=\"GU280_gp01\"\n",
      "                     /db_xref=\"GeneID:43740578\"\n",
      "     CDS             join(266..13468,13468..21555)\n",
      "                     /gene=\"ORF1ab\"\n",
      "                     /locus_tag=\"GU280_gp01\"\n",
      "                     /ribosomal_slippage\n",
      "                     /note=\"pp1ab; translated by -1 ribosomal frameshift\"\n"
     ]
    }
   ],
   "source": [
    "cat(\"covid.gb\") | grep(\"FEATURES\", after=1e9) | headOut(20)"
   ]
  },
  {
   "cell_type": "markdown",
   "id": "e7518a45",
   "metadata": {},
   "source": [
    "As you can see, there are multiple features, like `source`, `5'UTR`, `gene`, `CDS`, and whatnot. Of course, you can extract these on your own, but builtin functions already have something like that:"
   ]
  },
  {
   "cell_type": "code",
   "execution_count": 9,
   "id": "b0d09cd5",
   "metadata": {},
   "outputs": [
    {
     "data": {
      "text/plain": [
       "[['     source          1..29903',\n",
       "  '                     /organism=\"Severe acute respiratory syndrome coronavirus',\n",
       "  '                     2\"',\n",
       "  '                     /mol_type=\"genomic RNA\"',\n",
       "  '                     /isolate=\"Wuhan-Hu-1\"',\n",
       "  '                     /host=\"Homo sapiens\"',\n",
       "  '                     /db_xref=\"taxon:2697049\"',\n",
       "  '                     /country=\"China\"',\n",
       "  '                     /collection_date=\"Dec-2019\"'],\n",
       " [\"     5'UTR           1..265\"],\n",
       " ['     gene            266..21555',\n",
       "  '                     /gene=\"ORF1ab\"',\n",
       "  '                     /locus_tag=\"GU280_gp01\"',\n",
       "  '                     /db_xref=\"GeneID:43740578\"']]"
      ]
     },
     "execution_count": 9,
     "metadata": {},
     "output_type": "execute_result"
    }
   ],
   "source": [
    "feats = cat(\"covid.gb\") | gb.feats() | deref()\n",
    "feats | rows()[:3] | deref()"
   ]
  },
  {
   "cell_type": "markdown",
   "id": "7d7be301",
   "metadata": {},
   "source": [
    "Say you want to search the features for a frameshift event, you can do something like this:"
   ]
  },
  {
   "cell_type": "code",
   "execution_count": 10,
   "id": "38a8b072",
   "metadata": {},
   "outputs": [
    {
     "name": "stdout",
     "output_type": "stream",
     "text": [
      "     CDS             join(266..13468,13468..21555)\n",
      "                     /gene=\"ORF1ab\"\n",
      "                     /locus_tag=\"GU280_gp01\"\n",
      "                     /ribosomal_slippage\n",
      "                     /note=\"pp1ab; translated by -1 ribosomal frameshift\"\n",
      "                     /codon_start=1\n",
      "                     /product=\"ORF1ab polyprotein\"\n",
      "                     /protein_id=\"YP_009724389.1\"\n",
      "                     /db_xref=\"GeneID:43740578\"\n",
      "                     /translation=\"MESLVPGFNEKTHVQLSLPVLQVRDVLVRGFGDSVEEVLSEARQ\n"
     ]
    }
   ],
   "source": [
    "feats | gb.feats.filt(\"frameshift\", \"CDS\") | item() | headOut()"
   ]
  },
  {
   "cell_type": "markdown",
   "id": "172b7436",
   "metadata": {},
   "source": [
    "So apparently, there's a frameshift at nucleotide 13468, where it gets repeated twice. Let's check if that's correct. First, let's grab the protein:"
   ]
  },
  {
   "cell_type": "code",
   "execution_count": 11,
   "id": "4a58cea8",
   "metadata": {},
   "outputs": [
    {
     "data": {
      "text/plain": [
       "(1, 0.010032438216901314)"
      ]
     },
     "execution_count": 11,
     "metadata": {},
     "output_type": "execute_result"
    }
   ],
   "source": [
    "orf1ab = feats | gb.feats.filt(\"frameshift\", \"CDS\") | item() | gb.feats.tag(\"translation\")\n",
    "len(orf1ab), len(orf1ab)*3 / len(nt()) * 100"
   ]
  },
  {
   "cell_type": "markdown",
   "id": "aa972b5c",
   "metadata": {},
   "source": [
    "ORF1ab is quite a chunky boi. Over 7k length, or 71% of the genome. The nucleotides of interest are:"
   ]
  },
  {
   "cell_type": "code",
   "execution_count": 12,
   "id": "7383ff51",
   "metadata": {},
   "outputs": [
    {
     "data": {
      "text/plain": [
       "'aacgggtttgcggtgtaagt'"
      ]
     },
     "execution_count": 12,
     "metadata": {},
     "output_type": "execute_result"
    }
   ],
   "source": [
    "nt()[13465:][:20]"
   ]
  },
  {
   "cell_type": "markdown",
   "id": "9bb4a1ce",
   "metadata": {},
   "source": [
    "So, the shifted nt sequence must be \"AACCGG\", or:"
   ]
  },
  {
   "cell_type": "code",
   "execution_count": 13,
   "id": "8da19d5c",
   "metadata": {},
   "outputs": [
    {
     "data": {
      "text/plain": [
       "'NR'"
      ]
     },
     "execution_count": 13,
     "metadata": {},
     "output_type": "execute_result"
    }
   ],
   "source": [
    "\"AACCGG\" | translate() | item()"
   ]
  },
  {
   "cell_type": "code",
   "execution_count": 14,
   "id": "c6db17fb",
   "metadata": {},
   "outputs": [
    {
     "data": {
      "text/plain": [
       "''"
      ]
     },
     "execution_count": 14,
     "metadata": {},
     "output_type": "execute_result"
    }
   ],
   "source": [
    "orf1ab[(13468-266+1)//3-1:][:20]"
   ]
  },
  {
   "cell_type": "markdown",
   "id": "f4b0eb67",
   "metadata": {},
   "source": [
    "Yep, bingo! Peptide sequence starts with NR"
   ]
  },
  {
   "cell_type": "markdown",
   "id": "8eb5207c",
   "metadata": {},
   "source": [
    "## Spike"
   ]
  },
  {
   "cell_type": "code",
   "execution_count": 15,
   "id": "3e6130ef",
   "metadata": {},
   "outputs": [],
   "source": [
    "s = feats | gb.feats.filt(\"spike\", \"CDS\") | item() | gb.feats.tag(\"translation\")"
   ]
  },
  {
   "cell_type": "markdown",
   "id": "74201de5",
   "metadata": {},
   "source": [
    "Also in the news before delta variant times, I've heard they talk a lot about \"D614G\" variant, I wonder what's that all about, then discovered this:"
   ]
  },
  {
   "cell_type": "code",
   "execution_count": 16,
   "id": "7a7dfcb1",
   "metadata": {},
   "outputs": [
    {
     "data": {
      "text/plain": [
       "('', 'AsparticAcid Glycine')"
      ]
     },
     "execution_count": 16,
     "metadata": {},
     "output_type": "execute_result"
    }
   ],
   "source": [
    "s[613:][:10], \"DG\" | longAa() | item()"
   ]
  },
  {
   "cell_type": "markdown",
   "id": "928481c5",
   "metadata": {},
   "source": [
    "Yeah this checks out. So \"D614G\" mutation just means at position 614 on the spike protein, a D (aspartic acid) has become G (glycine)."
   ]
  },
  {
   "cell_type": "markdown",
   "id": "fa5223ca",
   "metadata": {},
   "source": [
    "## ORF3a"
   ]
  },
  {
   "cell_type": "code",
   "execution_count": 17,
   "id": "ba3c77f2",
   "metadata": {},
   "outputs": [],
   "source": [
    "orf3a = feats | gb.feats.filt(\"ORF3a\", \"CDS\") | item() | gb.feats.tag(\"translation\")"
   ]
  },
  {
   "cell_type": "markdown",
   "id": "1cbceb2c",
   "metadata": {},
   "source": [
    "Let's try again at a different spot. I grabbed a random mutation with this code name: \"hCoV-19/Japan/PG-69007/2021: ORF3a L275F\""
   ]
  },
  {
   "cell_type": "code",
   "execution_count": 18,
   "id": "18de44eb",
   "metadata": {},
   "outputs": [
    {
     "data": {
      "text/plain": [
       "('', 'Leucine Phenylalanine')"
      ]
     },
     "execution_count": 18,
     "metadata": {},
     "output_type": "execute_result"
    }
   ],
   "source": [
    "orf3a[274:], \"LF\" | longAa() | item()"
   ]
  },
  {
   "cell_type": "markdown",
   "id": "908ccfcb",
   "metadata": {},
   "source": [
    "Lmao, the change is right at the last amino acid"
   ]
  },
  {
   "cell_type": "markdown",
   "id": "4eda6773",
   "metadata": {},
   "source": [
    "## All proteins"
   ]
  },
  {
   "cell_type": "code",
   "execution_count": 19,
   "id": "e422354c",
   "metadata": {},
   "outputs": [],
   "source": [
    "genes = [\"ORF1ab\", \"S\", \"ORF3a\", \"E\", \"M\", \"ORF6\", \"ORF7a\", \"ORF7b\", \"ORF8\", \"N\", \"ORF10\"]"
   ]
  },
  {
   "cell_type": "code",
   "execution_count": 20,
   "id": "84a6c4fe",
   "metadata": {},
   "outputs": [],
   "source": [
    "proteinLengths = feats | oneToMany(*(gb.feats.filt(f\"/gene=\\\"{g}\\\"\") for g in genes))\\\n",
    "| (gb.feats.filt(\" CDS \") | item() | gb.feats.tag(\"translation\")).all() | lengths() | deref()"
   ]
  },
  {
   "cell_type": "markdown",
   "id": "744c9cee",
   "metadata": {},
   "source": [
    "Let's see the distribution of all genes:"
   ]
  },
  {
   "cell_type": "code",
   "execution_count": 21,
   "id": "baab6150",
   "metadata": {},
   "outputs": [
    {
     "name": "stdout",
     "output_type": "stream",
     "text": [
      "ORF1ab   1   \n",
      "S        1   \n",
      "ORF3a    1   \n",
      "E        1   \n",
      "M        1   \n",
      "ORF6     1   \n",
      "ORF7a    1   \n",
      "ORF7b    1   \n",
      "ORF8     1   \n",
      "N        1   \n",
      "ORF10    1   \n"
     ]
    }
   ],
   "source": [
    "proteinLengths | tableFromList() | insertColumn(*genes) | ~sort(1) | display(None)"
   ]
  },
  {
   "cell_type": "markdown",
   "id": "2b2fccc1",
   "metadata": {},
   "source": [
    "And how much of the genome are the proteins themselves?"
   ]
  },
  {
   "cell_type": "code",
   "execution_count": 22,
   "id": "0aee8d2e",
   "metadata": {},
   "outputs": [
    {
     "data": {
      "text/plain": [
       "0.11035682038591445"
      ]
     },
     "execution_count": 22,
     "metadata": {},
     "output_type": "execute_result"
    }
   ],
   "source": [
    "sum(proteinLengths) * 3 / len(nt()) * 100"
   ]
  },
  {
   "cell_type": "markdown",
   "id": "2569ca5b",
   "metadata": {},
   "source": [
    "All proteins combined take up like 97.7% of the genome. Quite densely packed, unlike eukaryote genomes."
   ]
  },
  {
   "cell_type": "markdown",
   "id": "d5b45927",
   "metadata": {},
   "source": [
    "## UTR"
   ]
  },
  {
   "cell_type": "markdown",
   "id": "67750df6",
   "metadata": {},
   "source": [
    "How about utr regions? Do they take up much? Let's quickly search for them:"
   ]
  },
  {
   "cell_type": "code",
   "execution_count": 23,
   "id": "91417b55",
   "metadata": {},
   "outputs": [
    {
     "data": {
      "text/plain": [
       "[\"     5'UTR           1..265\",\n",
       " '     stem_loop       29609..29644',\n",
       " '     stem_loop       29629..29657',\n",
       " \"     3'UTR           29675..29903\"]"
      ]
     },
     "execution_count": 23,
     "metadata": {},
     "output_type": "execute_result"
    }
   ],
   "source": [
    "feats | gb.feats.filt(\"UTR\") | item().all() | deref()"
   ]
  },
  {
   "cell_type": "code",
   "execution_count": 24,
   "id": "fffc2538",
   "metadata": {},
   "outputs": [
    {
     "data": {
      "text/plain": [
       "492"
      ]
     },
     "execution_count": 24,
     "metadata": {},
     "output_type": "execute_result"
    }
   ],
   "source": [
    "utr = sum(feats | gb.feats.filt(\"UTR\") | item().all() | ~rows()[1:3] | split(\"R\") | rows()[1::2] | strip()\\\n",
    "| (wrapList() | split(\"..\") | toInt() | toList()).all() | apply(lambda r: r[1] - r[0]) | deref()); utr"
   ]
  },
  {
   "cell_type": "code",
   "execution_count": 25,
   "id": "8613e787",
   "metadata": {},
   "outputs": [
    {
     "data": {
      "text/plain": [
       "1.7556766879577301"
      ]
     },
     "execution_count": 25,
     "metadata": {},
     "output_type": "execute_result"
    }
   ],
   "source": [
    "(sum(proteinLengths) * 3 + utr) / len(nt()) * 100"
   ]
  },
  {
   "cell_type": "markdown",
   "id": "2c639dad",
   "metadata": {},
   "source": [
    "Really close to 100% now"
   ]
  },
  {
   "cell_type": "code",
   "execution_count": null,
   "id": "9d495bc6",
   "metadata": {},
   "outputs": [],
   "source": []
  }
 ],
 "metadata": {
  "kernelspec": {
   "display_name": "Python 3 (ipykernel)",
   "language": "python",
   "name": "python3"
  },
  "language_info": {
   "codemirror_mode": {
    "name": "ipython",
    "version": 3
   },
   "file_extension": ".py",
   "mimetype": "text/x-python",
   "name": "python",
   "nbconvert_exporter": "python",
   "pygments_lexer": "ipython3",
   "version": "3.8.12"
  }
 },
 "nbformat": 4,
 "nbformat_minor": 5
}
