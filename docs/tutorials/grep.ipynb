{
 "cells": [
  {
   "cell_type": "markdown",
   "id": "23ca0fa2-8b65-44c8-bfd3-f23af428ca18",
   "metadata": {},
   "source": [
    "# Grepping"
   ]
  },
  {
   "cell_type": "markdown",
   "id": "2b0fba0b-c7fb-44c0-97ca-4266436d7765",
   "metadata": {},
   "source": [
    "This tutorial is for the `grep` cli tool, used to find texts in complex data structures and group them effectively."
   ]
  },
  {
   "cell_type": "code",
   "execution_count": 1,
   "id": "f9db3578-7c3e-4959-b0aa-97c2114d0e05",
   "metadata": {},
   "outputs": [
    {
     "data": {
      "text/html": [
       "<style>\n",
       "    div.jp-OutputArea-output pre {white-space: pre;}\n",
       "    div.output_area pre {white-space: pre;}\n",
       "    div.CodeMirror > div.highlight {overflow-y: auto;}\n",
       "</style>"
      ],
      "text/plain": [
       "<IPython.core.display.HTML object>"
      ]
     },
     "metadata": {},
     "output_type": "display_data"
    }
   ],
   "source": [
    "from k1lib.imports import *"
   ]
  },
  {
   "cell_type": "markdown",
   "id": "e656d3de-5a4a-4ee7-89c9-e0caf64e4adf",
   "metadata": {},
   "source": [
    "So what is grep conventionally? It's a tool to filter out lines with specific texts, used like this:"
   ]
  },
  {
   "cell_type": "code",
   "execution_count": 2,
   "id": "b8f51158-477e-458d-98ed-4bd904020e76",
   "metadata": {},
   "outputs": [
    {
     "name": "stdout",
     "output_type": "stream",
     "text": [
      "-rw-rw-r-- 1 kelvin kelvin    18133 Jul 13 00:39 cli.ipynb\n",
      "drwxr-xr-x 3 kelvin kelvin     4096 Mar 12  2017 cli_name_languages\n"
     ]
    }
   ],
   "source": [
    "!ls -la | grep cli"
   ]
  },
  {
   "cell_type": "markdown",
   "id": "a490d7c6-54bb-486d-bb0c-40f8b5b20f7b",
   "metadata": {},
   "source": [
    "This lists all files and folders inside the current directory, and searches for the term \"cli\". So, you can do pretty much the same here:"
   ]
  },
  {
   "cell_type": "code",
   "execution_count": 3,
   "id": "a7534f84-3ea3-4dcf-af8d-6e2df00d0f9b",
   "metadata": {},
   "outputs": [
    {
     "data": {
      "text/plain": [
       "['./basics.ipynb',\n",
       " './mp.ipynb',\n",
       " './autosave-0.pth',\n",
       " './schedule.ipynb',\n",
       " './cli_name_languages',\n",
       " './22.gb',\n",
       " './autosave-1.pth',\n",
       " './mo.ipynb',\n",
       " './osic.ipynb',\n",
       " './cli.ipynb',\n",
       " './autosave-2.pth',\n",
       " './covid.gb',\n",
       " './selector.ipynb',\n",
       " './trace.ipynb',\n",
       " './covid.ipynb',\n",
       " './grep.ipynb',\n",
       " './build.py',\n",
       " './.gitignore',\n",
       " './.ipynb_checkpoints',\n",
       " './tutorials']"
      ]
     },
     "execution_count": 3,
     "metadata": {},
     "output_type": "execute_result"
    }
   ],
   "source": [
    "s1 = ls(\".\"); s1"
   ]
  },
  {
   "cell_type": "code",
   "execution_count": 4,
   "id": "5e89ff35-a67e-493c-8d22-a49fcfdbd973",
   "metadata": {},
   "outputs": [
    {
     "data": {
      "text/plain": [
       "['./cli_name_languages', './cli.ipynb']"
      ]
     },
     "execution_count": 4,
     "metadata": {},
     "output_type": "execute_result"
    }
   ],
   "source": [
    "s1 | grep(\"cli\") | deref()"
   ]
  },
  {
   "cell_type": "markdown",
   "id": "564d5a5a-c884-4add-9a3f-57b3dde877ac",
   "metadata": {},
   "source": [
    "But, you can do so much more with it though. Let's say you have a manual page:"
   ]
  },
  {
   "cell_type": "code",
   "execution_count": 5,
   "id": "05ac26e2-a386-4b0a-ac72-2715e3efcd20",
   "metadata": {},
   "outputs": [
    {
     "data": {
      "text/plain": [
       "['SSH(1)                    BSD General Commands Manual                   SSH(1)',\n",
       " '',\n",
       " 'NAME',\n",
       " '     ssh — OpenSSH remote login client',\n",
       " '',\n",
       " 'SYNOPSIS',\n",
       " '     ssh [-46AaCfGgKkMNnqsTtVvXxYy] [-B bind_interface] [-b bind_address]',\n",
       " '         [-c cipher_spec] [-D [bind_address:]port] [-E log_file]',\n",
       " '         [-e escape_char] [-F configfile] [-I pkcs11] [-i identity_file]',\n",
       " '         [-J destination] [-L address] [-l login_name] [-m mac_spec]']"
      ]
     },
     "execution_count": 5,
     "metadata": {},
     "output_type": "execute_result"
    }
   ],
   "source": [
    "s2 = None | cmd(\"man ssh\") | deref(); s2 | head()"
   ]
  },
  {
   "cell_type": "markdown",
   "id": "aaa6572c-ab1d-497b-9d17-8a9fd4bac108",
   "metadata": {},
   "source": [
    "And now you want to find a specific option, say \"-G\", you can look for it like this:"
   ]
  },
  {
   "cell_type": "code",
   "execution_count": 6,
   "id": "5ee5afa7-ef1d-4537-96e2-947418ece77b",
   "metadata": {},
   "outputs": [
    {
     "data": {
      "text/plain": [
       "['     -G      Causes ssh to print its configuration after evaluating Host and']"
      ]
     },
     "execution_count": 6,
     "metadata": {},
     "output_type": "execute_result"
    }
   ],
   "source": [
    "s2 | grep(\"-G\") | deref()"
   ]
  },
  {
   "cell_type": "markdown",
   "id": "8801d6ed-445a-4ce5-9959-f6017fbad96e",
   "metadata": {},
   "source": [
    "But you want to read the entire docs of -G, not just the first line, so you can do something like this:"
   ]
  },
  {
   "cell_type": "code",
   "execution_count": 7,
   "id": "7f3a33f1-2070-4195-9703-5e37d65e147f",
   "metadata": {},
   "outputs": [
    {
     "data": {
      "text/plain": [
       "['     -G      Causes ssh to print its configuration after evaluating Host and',\n",
       " '             Match blocks and exit.',\n",
       " '',\n",
       " '     -g      Allows remote hosts to connect to local forwarded ports.  If used',\n",
       " '             on a multiplexed connection, then this option must be specified',\n",
       " '             on the master process.']"
      ]
     },
     "execution_count": 7,
     "metadata": {},
     "output_type": "execute_result"
    }
   ],
   "source": [
    "s2 | grep(\"-G\", after=5) | deref()"
   ]
  },
  {
   "cell_type": "markdown",
   "id": "067e82c9-1660-4388-a8d2-66b9738dea5d",
   "metadata": {},
   "source": [
    "This will search for the term, and outputs the next 5 lines after the hit. If you want to include all lines after the hit, then you can pass in infinity:"
   ]
  },
  {
   "cell_type": "code",
   "execution_count": 8,
   "id": "ecbf3bc1-5d7d-4c6a-86d0-828dbcc20bc3",
   "metadata": {},
   "outputs": [
    {
     "data": {
      "text/plain": [
       "['     -G      Causes ssh to print its configuration after evaluating Host and',\n",
       " '             Match blocks and exit.',\n",
       " '',\n",
       " '     -g      Allows remote hosts to connect to local forwarded ports.  If used',\n",
       " '             on a multiplexed connection, then this option must be specified',\n",
       " '             on the master process.',\n",
       " '',\n",
       " '     -I pkcs11',\n",
       " '             Specify the PKCS#11 shared library ssh should use to communicate',\n",
       " '             with a PKCS#11 token providing keys for user authentication.']"
      ]
     },
     "execution_count": 8,
     "metadata": {},
     "output_type": "execute_result"
    }
   ],
   "source": [
    "s2 | grep(\"-G\", after=inf) | head() | deref() # added head to limit output"
   ]
  },
  {
   "cell_type": "markdown",
   "id": "167c2524-deb0-4515-a65b-6a990682868d",
   "metadata": {},
   "source": [
    "Of course, you can include earlier lines before the hit as well:"
   ]
  },
  {
   "cell_type": "code",
   "execution_count": 9,
   "id": "2e103045-28f9-416a-b942-bb3ee95d728f",
   "metadata": {},
   "outputs": [
    {
     "data": {
      "text/plain": [
       "['             background.',\n",
       " '',\n",
       " '     -G      Causes ssh to print its configuration after evaluating Host and',\n",
       " '             Match blocks and exit.',\n",
       " '',\n",
       " '     -g      Allows remote hosts to connect to local forwarded ports.  If used',\n",
       " '             on a multiplexed connection, then this option must be specified',\n",
       " '             on the master process.']"
      ]
     },
     "execution_count": 9,
     "metadata": {},
     "output_type": "execute_result"
    }
   ],
   "source": [
    "s2 | grep(\"-G\", before=2, after=5) | deref()"
   ]
  },
  {
   "cell_type": "markdown",
   "id": "914bc140-fa67-483f-b097-471e7f92795d",
   "metadata": {},
   "source": [
    "You can also add regular expression in:"
   ]
  },
  {
   "cell_type": "code",
   "execution_count": 10,
   "id": "2074364f-8657-460a-a6b6-6054d05d794f",
   "metadata": {},
   "outputs": [
    {
     "data": {
      "text/plain": [
       "['     -4      Forces ssh to use IPv4 addresses only.',\n",
       " '     -6      Forces ssh to use IPv6 addresses only.',\n",
       " '     -A      Enables forwarding of connections from an authentication agent',\n",
       " '     -a      Disables forwarding of the authentication agent connection.',\n",
       " '     -B bind_interface']"
      ]
     },
     "execution_count": 10,
     "metadata": {},
     "output_type": "execute_result"
    }
   ],
   "source": [
    "s2 | grep(\"^     -\") | head(5) | deref()"
   ]
  },
  {
   "cell_type": "markdown",
   "id": "34aa745d-2bfa-43a9-823b-040128e62fc8",
   "metadata": {},
   "source": [
    "Here, the caret (`^`) means start of line, so this searches for a dash after a specific amount of space from the start of line. Refer to official Python docs for all regex patterns: https://docs.python.org/3/library/re.html"
   ]
  },
  {
   "cell_type": "markdown",
   "id": "e2874354-8a7e-4f00-81d8-5b62564af312",
   "metadata": {},
   "source": [
    "You can also separate each option into its own block for downstream analysis:"
   ]
  },
  {
   "cell_type": "code",
   "execution_count": 11,
   "id": "43fe9acf-51ee-422a-9f42-8e0699ed4512",
   "metadata": {},
   "outputs": [
    {
     "data": {
      "text/plain": [
       "[['     -4      Forces ssh to use IPv4 addresses only.', ''],\n",
       " ['     -6      Forces ssh to use IPv6 addresses only.', ''],\n",
       " ['     -A      Enables forwarding of connections from an authentication agent',\n",
       "  '             such as ssh-agent(1).  This can also be specified on a per-host',\n",
       "  '             basis in a configuration file.',\n",
       "  '',\n",
       "  '             Agent forwarding should be enabled with caution.  Users with the',\n",
       "  '             ability to bypass file permissions on the remote host (for the'],\n",
       " ['     -a      Disables forwarding of the authentication agent connection.',\n",
       "  ''],\n",
       " ['     -B bind_interface',\n",
       "  '             Bind to the address of bind_interface before attempting to con‐',\n",
       "  '             nect to the destination host.  This is only useful on systems',\n",
       "  '             with more than one address.',\n",
       "  '']]"
      ]
     },
     "execution_count": 11,
     "metadata": {},
     "output_type": "execute_result"
    }
   ],
   "source": [
    "s2 | grep(\"^     -\", after=5, sep=True) | head(5) | deref()"
   ]
  },
  {
   "cell_type": "markdown",
   "id": "875fa67b-2ed8-466a-9826-a828a9a61847",
   "metadata": {},
   "source": [
    "Basically, this grabs 5 lines after every hit and collects all 6 lines into a separate block. If there's a hit any line in the next 5 lines, then the block is cut short. So the \"-4\" block only has 2 elements (instead of 6) because there's a \"-6\" hit before all 5 lines can be analyzed."
   ]
  },
  {
   "cell_type": "markdown",
   "id": "357cb6ea-9ca6-41b3-bff9-8b85f6ae0dfb",
   "metadata": {},
   "source": [
    "You can also group it until some other pattern appears:"
   ]
  },
  {
   "cell_type": "code",
   "execution_count": 12,
   "id": "20f9bfb0-7a7e-4a74-8e24-f48bfcff1468",
   "metadata": {},
   "outputs": [
    {
     "data": {
      "text/plain": [
       "[['b', 'c', '1', '2'], ['b', 'c', 'd', '2']]"
      ]
     },
     "execution_count": 12,
     "metadata": {},
     "output_type": "execute_result"
    }
   ],
   "source": [
    "\"abc123bcd234\" | grep(\"b\", sep=True).till(\"2\") | deref()"
   ]
  },
  {
   "cell_type": "markdown",
   "id": "88a3cd05-c7d6-4fcd-afc8-b6f9640cb3f6",
   "metadata": {},
   "source": [
    "This searches for a hit, then collects every line after that until the regex in `till` is found into a separate block. You can leave the `till` block empty, and it will just take the same value as the main block:"
   ]
  },
  {
   "cell_type": "code",
   "execution_count": 13,
   "id": "17fb1296-7d3c-409a-b676-b6ce2d0f7edd",
   "metadata": {},
   "outputs": [
    {
     "data": {
      "text/plain": [
       "[['     -4      Forces ssh to use IPv4 addresses only.', ''],\n",
       " ['     -6      Forces ssh to use IPv6 addresses only.', ''],\n",
       " ['     -A      Enables forwarding of connections from an authentication agent',\n",
       "  '             such as ssh-agent(1).  This can also be specified on a per-host',\n",
       "  '             basis in a configuration file.',\n",
       "  '',\n",
       "  '             Agent forwarding should be enabled with caution.  Users with the',\n",
       "  '             ability to bypass file permissions on the remote host (for the',\n",
       "  \"             agent's UNIX-domain socket) can access the local agent through\",\n",
       "  '             the forwarded connection.  An attacker cannot obtain key material',\n",
       "  '             from the agent, however they can perform operations on the keys',\n",
       "  '             that enable them to authenticate using the identities loaded into',\n",
       "  '             the agent.  A safer alternative may be to use a jump host (see',\n",
       "  '             -J).',\n",
       "  ''],\n",
       " ['     -a      Disables forwarding of the authentication agent connection.',\n",
       "  ''],\n",
       " ['     -B bind_interface',\n",
       "  '             Bind to the address of bind_interface before attempting to con‐',\n",
       "  '             nect to the destination host.  This is only useful on systems',\n",
       "  '             with more than one address.',\n",
       "  '']]"
      ]
     },
     "execution_count": 13,
     "metadata": {},
     "output_type": "execute_result"
    }
   ],
   "source": [
    "s2 | grep(\"^     -\", sep=True).till() | head(5) | deref()"
   ]
  },
  {
   "cell_type": "markdown",
   "id": "479d470d-b711-4fd4-a6ef-b653830817ac",
   "metadata": {},
   "source": [
    "You can do extra processing after that, of course:"
   ]
  },
  {
   "cell_type": "code",
   "execution_count": 14,
   "id": "d06f73c1-793c-4bbc-9738-a5e1ee702d65",
   "metadata": {},
   "outputs": [
    {
     "data": {
      "text/plain": [
       "['-4      Forces ssh to use IPv4 addresses only. ',\n",
       " '-6      Forces ssh to use IPv6 addresses only. ',\n",
       " \"-A      Enables forwarding of connections from an authentication agent such as ssh-agent(1).  This can also be specified on a per-host basis in a configuration file.  Agent forwarding should be enabled with caution.  Users with the ability to bypass file permissions on the remote host (for the agent's UNIX-domain socket) can access the local agent through the forwarded connection.  An attacker cannot obtain key material from the agent, however they can perform operations on the keys that enable them to authenticate using the identities loaded into the agent.  A safer alternative may be to use a jump host (see -J). \",\n",
       " '-a      Disables forwarding of the authentication agent connection. ',\n",
       " '-B bind_interface Bind to the address of bind_interface before attempting to con‐ nect to the destination host.  This is only useful on systems with more than one address. ',\n",
       " '-b bind_address Use bind_address on the local machine as the source address of the connection.  Only useful on systems with more than one ad‐ dress. ',\n",
       " '-C      Requests compression of all data (including stdin, stdout, stderr, and data for forwarded X11, TCP and UNIX-domain connec‐ tions).  The compression algorithm is the same used by gzip(1). Compression is desirable on modem lines and other slow connec‐ tions, but will only slow down things on fast networks.  The de‐ fault value can be set on a host-by-host basis in the configura‐ tion files; see the Compression option. ',\n",
       " '-c cipher_spec Selects the cipher specification for encrypting the session. cipher_spec is a comma-separated list of ciphers listed in order of preference.  See the Ciphers keyword in ssh_config(5) for more information. ',\n",
       " '-D [bind_address:]port Specifies a local “dynamic” application-level port forwarding. This works by allocating a socket to listen to port on the local side, optionally bound to the specified bind_address.  Whenever a connection is made to this port, the connection is forwarded over the secure channel, and the application protocol is then used to determine where to connect to from the remote machine.  Currently the SOCKS4 and SOCKS5 protocols are supported, and ssh will act as a SOCKS server.  Only root can forward privileged ports.  Dy‐ namic port forwardings can also be specified in the configuration file.  IPv6 addresses can be specified by enclosing the address in square brackets.  Only the superuser can forward privileged ports.  By default, the local port is bound in accordance with the GatewayPorts setting.  However, an explicit bind_address may be used to bind the connection to a specific address.  The bind_address of “localhost” indicates that the listening port be bound for local use only, while an empty address or ‘*’ indicates that the port should be available from all interfaces. ',\n",
       " '-E log_file Append debug logs to log_file instead of standard error. ',\n",
       " '-e escape_char Sets the escape character for sessions with a pty (default: ‘~’). The escape character is only recognized at the beginning of a line.  The escape character followed by a dot (‘.’) closes the connection; followed by control-Z suspends the connection; and followed by itself sends the escape character once.  Setting the character to “none” disables any escapes and makes the session fully transparent. ',\n",
       " '-F configfile Specifies an alternative per-user configuration file.  If a con‐ figuration file is given on the command line, the system-wide configuration file (/etc/ssh/ssh_config) will be ignored.  The default for the per-user configuration file is ~/.ssh/config. ',\n",
       " '-f      Requests ssh to go to background just before command execution. This is useful if ssh is going to ask for passwords or passphrases, but the user wants it in the background.  This im‐ plies -n.  The recommended way to start X11 programs at a remote site is with something like ssh -f host xterm.  If the ExitOnForwardFailure configuration option is set to “yes”, then a client started with -f will wait for all remote port for‐ wards to be successfully established before placing itself in the background. ',\n",
       " '-G      Causes ssh to print its configuration after evaluating Host and Match blocks and exit. ',\n",
       " '-g      Allows remote hosts to connect to local forwarded ports.  If used on a multiplexed connection, then this option must be specified on the master process. ',\n",
       " '-I pkcs11 Specify the PKCS#11 shared library ssh should use to communicate with a PKCS#11 token providing keys for user authentication. ',\n",
       " '-i identity_file Selects a file from which the identity (private key) for public key authentication is read.  The default is ~/.ssh/id_dsa, ~/.ssh/id_ecdsa, ~/.ssh/id_ecdsa_sk, ~/.ssh/id_ed25519, ~/.ssh/id_ed25519_sk and ~/.ssh/id_rsa.  Identity files may also be specified on a per-host basis in the configuration file.  It is possible to have multiple -i options (and multiple identities specified in configuration files).  If no certificates have been explicitly specified by the CertificateFile directive, ssh will also try to load certificate information from the filename ob‐ tained by appending -cert.pub to identity filenames. ',\n",
       " '-J destination Connect to the target host by first making a ssh connection to the jump host described by destination and then establishing a TCP forwarding to the ultimate destination from there.  Multiple jump hops may be specified separated by comma characters.  This is a shortcut to specify a ProxyJump configuration directive. Note that configuration directives supplied on the command-line generally apply to the destination host and not any specified jump hosts.  Use ~/.ssh/config to specify configuration for jump hosts. ',\n",
       " '-K      Enables GSSAPI-based authentication and forwarding (delegation) of GSSAPI credentials to the server. ',\n",
       " '-k      Disables forwarding (delegation) of GSSAPI credentials to the server. ',\n",
       " '-L [bind_address:]port:host:hostport',\n",
       " '-L [bind_address:]port:remote_socket',\n",
       " '-L local_socket:host:hostport',\n",
       " '-L local_socket:remote_socket Specifies that connections to the given TCP port or Unix socket on the local (client) host are to be forwarded to the given host and port, or Unix socket, on the remote side.  This works by al‐ locating a socket to listen to either a TCP port on the local side, optionally bound to the specified bind_address, or to a Unix socket.  Whenever a connection is made to the local port or socket, the connection is forwarded over the secure channel, and a connection is made to either host port hostport, or the Unix socket remote_socket, from the remote machine.  Port forwardings can also be specified in the configuration file. Only the superuser can forward privileged ports.  IPv6 addresses can be specified by enclosing the address in square brackets.  By default, the local port is bound in accordance with the GatewayPorts setting.  However, an explicit bind_address may be used to bind the connection to a specific address.  The bind_address of “localhost” indicates that the listening port be bound for local use only, while an empty address or ‘*’ indicates that the port should be available from all interfaces. ',\n",
       " '-l login_name Specifies the user to log in as on the remote machine.  This also may be specified on a per-host basis in the configuration file. ',\n",
       " '-M      Places the ssh client into “master” mode for connection sharing. Multiple -M options places ssh into “master” mode but with con‐ firmation required using ssh-askpass(1) before each operation that changes the multiplexing state (e.g. opening a new session). Refer to the description of ControlMaster in ssh_config(5) for details. ',\n",
       " '-m mac_spec A comma-separated list of MAC (message authentication code) algo‐ rithms, specified in order of preference.  See the MACs keyword for more information. ',\n",
       " '-N      Do not execute a remote command.  This is useful for just for‐ warding ports. ',\n",
       " '-n      Redirects stdin from /dev/null (actually, prevents reading from stdin).  This must be used when ssh is run in the background.  A common trick is to use this to run X11 programs on a remote ma‐ chine.  For example, ssh -n shadows.cs.hut.fi emacs & will start an emacs on shadows.cs.hut.fi, and the X11 connection will be au‐ tomatically forwarded over an encrypted channel.  The ssh program will be put in the background.  (This does not work if ssh needs to ask for a password or passphrase; see also the -f option.) ',\n",
       " '-O ctl_cmd Control an active connection multiplexing master process.  When the -O option is specified, the ctl_cmd argument is interpreted and passed to the master process.  Valid commands are: “check” (check that the master process is running), “forward” (request forwardings without command execution), “cancel” (cancel forward‐ ings), “exit” (request the master to exit), and “stop” (request the master to stop accepting further multiplexing requests). ',\n",
       " '-o option Can be used to give options in the format used in the configura‐ tion file.  This is useful for specifying options for which there is no separate command-line flag.  For full details of the op‐ tions listed below, and their possible values, see ssh_config(5).  AddKeysToAgent AddressFamily BatchMode BindAddress CanonicalDomains CanonicalizeFallbackLocal CanonicalizeHostname CanonicalizeMaxDots CanonicalizePermittedCNAMEs CASignatureAlgorithms CertificateFile ChallengeResponseAuthentication CheckHostIP Ciphers ClearAllForwardings Compression ConnectionAttempts ConnectTimeout ControlMaster ControlPath ControlPersist DynamicForward EscapeChar ExitOnForwardFailure FingerprintHash ForwardAgent ForwardX11 ForwardX11Timeout ForwardX11Trusted GatewayPorts GlobalKnownHostsFile GSSAPIAuthentication GSSAPIKeyExchange GSSAPIClientIdentity GSSAPIDelegateCredentials GSSAPIKexAlgorithms GSSAPIRenewalForcesRekey GSSAPIServerIdentity GSSAPITrustDns HashKnownHosts Host HostbasedAuthentication HostbasedKeyTypes HostKeyAlgorithms HostKeyAlias Hostname IdentitiesOnly IdentityAgent IdentityFile IPQoS KbdInteractiveAuthentication KbdInteractiveDevices KexAlgorithms LocalCommand LocalForward LogLevel MACs Match NoHostAuthenticationForLocalhost NumberOfPasswordPrompts PasswordAuthentication PermitLocalCommand PKCS11Provider Port PreferredAuthentications ProxyCommand ProxyJump ProxyUseFdpass PubkeyAcceptedKeyTypes PubkeyAuthentication RekeyLimit RemoteCommand RemoteForward RequestTTY SendEnv ServerAliveInterval ServerAliveCountMax SetEnv StreamLocalBindMask StreamLocalBindUnlink StrictHostKeyChecking TCPKeepAlive Tunnel TunnelDevice UpdateHostKeys User UserKnownHostsFile VerifyHostKeyDNS VisualHostKey XAuthLocation ',\n",
       " '-p port Port to connect to on the remote host.  This can be specified on a per-host basis in the configuration file. ',\n",
       " '-Q query_option Queries ssh for the algorithms supported for the specified ver‐ sion 2.  The available features are: cipher (supported symmetric ciphers), cipher-auth (supported symmetric ciphers that support authenticated encryption), help (supported query terms for use with the -Q flag), mac (supported message integrity codes), kex (key exchange algorithms), kex-gss (GSSAPI key exchange algo‐ rithms), key (key types), key-cert (certificate key types), key-plain (non-certificate key types), key-sig (all key types and signature algorithms), protocol-version (supported SSH protocol versions), and sig (supported signature algorithms).  Alterna‐ tively, any keyword from ssh_config(5) or sshd_config(5) that takes an algorithm list may be used as an alias for the corre‐ sponding query_option. ',\n",
       " '-q      Quiet mode.  Causes most warning and diagnostic messages to be suppressed. ',\n",
       " '-R [bind_address:]port:host:hostport',\n",
       " '-R [bind_address:]port:local_socket',\n",
       " '-R remote_socket:host:hostport',\n",
       " '-R remote_socket:local_socket',\n",
       " \"-R [bind_address:]port Specifies that connections to the given TCP port or Unix socket on the remote (server) host are to be forwarded to the local side.  This works by allocating a socket to listen to either a TCP port or to a Unix socket on the remote side.  Whenever a connection is made to this port or Unix socket, the connection is forwarded over the secure channel, and a connection is made from the local machine to either an explicit destination specified by host port hostport, or local_socket, or, if no explicit destination was specified, ssh will act as a SOCKS 4/5 proxy and forward connec‐ tions to the destinations requested by the remote SOCKS client.  Port forwardings can also be specified in the configuration file. Privileged ports can be forwarded only when logging in as root on the remote machine.  IPv6 addresses can be specified by enclosing the address in square brackets.  By default, TCP listening sockets on the server will be bound to the loopback interface only.  This may be overridden by specify‐ ing a bind_address.  An empty bind_address, or the address ‘*’, indicates that the remote socket should listen on all interfaces. Specifying a remote bind_address will only succeed if the server's GatewayPorts option is enabled (see sshd_config(5)).  If the port argument is ‘0’, the listen port will be dynamically allocated on the server and reported to the client at run time. When used together with -O forward the allocated port will be printed to the standard output. \",\n",
       " '-S ctl_path Specifies the location of a control socket for connection shar‐ ing, or the string “none” to disable connection sharing.  Refer to the description of ControlPath and ControlMaster in ssh_config(5) for details. ',\n",
       " '-s      May be used to request invocation of a subsystem on the remote system.  Subsystems facilitate the use of SSH as a secure trans‐ port for other applications (e.g. sftp(1)).  The subsystem is specified as the remote command. ',\n",
       " '-T      Disable pseudo-terminal allocation. ',\n",
       " '-t      Force pseudo-terminal allocation.  This can be used to execute arbitrary screen-based programs on a remote machine, which can be very useful, e.g. when implementing menu services.  Multiple -t options force tty allocation, even if ssh has no local tty. ',\n",
       " '-V      Display the version number and exit. ',\n",
       " '-v      Verbose mode.  Causes ssh to print debugging messages about its progress.  This is helpful in debugging connection, authentica‐ tion, and configuration problems.  Multiple -v options increase the verbosity.  The maximum is 3. ',\n",
       " '-W host:port Requests that standard input and output on the client be for‐ warded to host on port over the secure channel.  Implies -N, -T, ExitOnForwardFailure and ClearAllForwardings, though these can be overridden in the configuration file or using -o command line op‐ tions. ',\n",
       " '-w local_tun[:remote_tun] Requests tunnel device forwarding with the specified tun(4) de‐ vices between the client (local_tun) and the server (remote_tun).  The devices may be specified by numerical ID or the keyword “any”, which uses the next available tunnel device.  If remote_tun is not specified, it defaults to “any”.  See also the Tunnel and TunnelDevice directives in ssh_config(5).  If the Tunnel directive is unset, it will be set to the default tunnel mode, which is “point-to-point”.  If a different Tunnel forwarding mode it desired, then it should be specified before -w. ',\n",
       " \"-X      Enables X11 forwarding.  This can also be specified on a per-host basis in a configuration file.  X11 forwarding should be enabled with caution.  Users with the ability to bypass file permissions on the remote host (for the user's X authorization database) can access the local X11 display through the forwarded connection.  An attacker may then be able to perform activities such as keystroke monitoring.  For this reason, X11 forwarding is subjected to X11 SECURITY ex‐ tension restrictions by default.  Please refer to the ssh -Y op‐ tion and the ForwardX11Trusted directive in ssh_config(5) for more information.  (Debian-specific: X11 forwarding is not subjected to X11 SECURITY extension restrictions by default, because too many programs cur‐ rently crash in this mode.  Set the ForwardX11Trusted option to “no” to restore the upstream behaviour.  This may change in fu‐ ture depending on client-side improvements.) \",\n",
       " '-x      Disables X11 forwarding. ',\n",
       " '-Y      Enables trusted X11 forwarding.  Trusted X11 forwardings are not subjected to the X11 SECURITY extension controls.  (Debian-specific: In the default configuration, this option is equivalent to -X, since ForwardX11Trusted defaults to “yes” as described above.  Set the ForwardX11Trusted option to “no” to re‐ store the upstream behaviour.  This may change in future depend‐ ing on client-side improvements.) ']"
      ]
     },
     "execution_count": 14,
     "metadata": {},
     "output_type": "execute_result"
    }
   ],
   "source": [
    "s2 | grep(\"^     -\", sep=True).till() | apply(op().strip().all() | join(\" \")) | head(-2) | deref()"
   ]
  },
  {
   "cell_type": "markdown",
   "id": "02b89207-69c7-4e87-82f4-0a375e6bb0c6",
   "metadata": {},
   "source": [
    "So, hopefully you can see how powerful this can be. This can also work if your data is in a table structure. Let's say you're working with genome annotation data:"
   ]
  },
  {
   "cell_type": "code",
   "execution_count": 15,
   "id": "e5d4e082-641c-4b63-b0bc-0c5d9c002fda",
   "metadata": {},
   "outputs": [],
   "source": [
    "s4 = [ # this data is kinda fake btw. I removed some fields and change others just to make an example\n",
    " ['     CDS             join(17702273..17702386,17726677..17727534)',\n",
    "  '                     /gene=\"BCL2L13\"',\n",
    "  '                     /gene_synonym=\"BCL-RAMBO; Bcl2-L-13; MIL1\"',\n",
    "  '                     /note=\"isoform e is encoded by transcript variant 5;',\n",
    "  '                     Derived by automated computational analysis using gene',\n",
    "  '                     prediction method: BestRefSeq.\"',\n",
    "  '                     /codon_start=1',\n",
    "  '                     /product=\"bcl-2-like protein 13 isoform e\"',\n",
    "  '                     /protein_id=\"NP_001257658.1\"',\n",
    "  '                     /translation=\"MLLELTRRGQEPLSALLQFGVTYLEDYSAEYIIQQGGWGTVFSL',\n",
    "  '                     GKSRLSPAGEMKPMPLSEGKSILLFGGAAAVAILAVAIGVALALRKK\"'],\n",
    " ['     gene            complement(10685647..10688027)',\n",
    "  '                     /gene=\"LOC124905154\"',\n",
    "  '                     /note=\"Derived by automated computational analysis using',\n",
    "  '                     gene prediction method: Gnomon.\"',\n",
    "  '                     /db_xref=\"GeneID:124905154\"'],\n",
    " ['     mRNA            complement(join(19449911..19450744,19454749..19454830,',\n",
    "  '                     19455680..19455768,19456587..19456634,19456853..19456918,',\n",
    "  '                     19458071..19458139,19465202..19465274,19467873..19468003,',\n",
    "  '                     19479083..19479193))',\n",
    "  '                     /gene=\"UFD1\"',\n",
    "  '                     /gene_synonym=\"UFD1L\"',\n",
    "  '                     /product=\"ubiquitin recognition factor in ER associated',\n",
    "  '                     degradation 1, transcript variant X3\"',\n",
    "  '                     /note=\"Derived by automated computational analysis using',\n",
    "  '                     annotated introns\"',\n",
    "  '                     /db_xref=\"MIM:601754\"'],\n",
    " ['     misc_feature    25174253..25174255',\n",
    "  '                     /gene=\"KIAA1671\"',\n",
    "  '                     /note=\"Phosphoserine.',\n",
    "  '                     /evidence=ECO:0007744|PubMed:24275569; propagated from',\n",
    "  '                     UniProtKB/Swiss-Prot (Q9BY89.2); phosphorylation site\"'],\n",
    " ['     gene            15922428..15922944',\n",
    "  '                     /gene=\"LOC100421685\"',\n",
    "  '                     /note=\"tetratricopeptide repeat domain 34 pseudogene;',\n",
    "  '                     prediction method: Curated Genomic.\"',\n",
    "  '                     /pseudo',\n",
    "  '                     /db_xref=\"GeneID:100421685\"'],\n",
    " ['     mRNA            complement(join(49773283..49774416,49775591..49775745,',\n",
    "  '                     49776050..49776159,49777034..49777161,49777678..49777813,',\n",
    "  '                     49787390..49787887,49794034..49794294,49797805..49798117,',\n",
    "  '                     49798573..49798686,49798988..49799119,49804204..49804360,',\n",
    "  '                     49822951..49824331,49827497..49827873))',\n",
    "  '                     /gene=\"BRD1\"',\n",
    "  '                     /gene_synonym=\"BRL; BRPF1; BRPF2\"',\n",
    "  '                     /product=\"bromodomain containing 1, transcript variant 4\"',\n",
    "  '                     gene prediction method: BestRefSeq.\"',\n",
    "  '                     /db_xref=\"MIM:604589\"'],\n",
    " ['     ncRNA           complement(join(32359906..32360839,32362972..32363058,',\n",
    "  '                     32367690..32367714,32368497..32368567,32370899..32371076))',\n",
    "  '                     /ncRNA_class=\"lncRNA\"',\n",
    "  '                     /gene=\"RFPL3S\"',\n",
    "  '                     /product=\"RFPL3 antisense, transcript variant 1\"',\n",
    "  '                     /note=\"Derived by automated computational analysis using',\n",
    "  '                     gene prediction method: BestRefSeq.\"',\n",
    "  '                     /db_xref=\"MIM:605971\"'],\n",
    " ['     misc_feature    complement(42808803..42808805)',\n",
    "  '                     /gene=\"ARFGAP3\"',\n",
    "  '                     /gene_synonym=\"ARFGAP1\"',\n",
    "  '                     /note=\"Phosphoserine.',\n",
    "  '                     /evidence=ECO:0007744|PubMed:23186163; propagated from',\n",
    "  '                     UniProtKB/Swiss-Prot (Q9NP61.1); phosphorylation site\"']]"
   ]
  },
  {
   "cell_type": "markdown",
   "id": "0887e187-54d7-4151-b125-01edcbcaf471",
   "metadata": {},
   "source": [
    "And let's say you want to find all mRNA features, you can do this:"
   ]
  },
  {
   "cell_type": "code",
   "execution_count": 16,
   "id": "84ae8e80-0f9e-4eb3-af12-34c660091bf0",
   "metadata": {},
   "outputs": [
    {
     "data": {
      "text/plain": [
       "[['     mRNA            complement(join(19449911..19450744,19454749..19454830,',\n",
       "  '                     19455680..19455768,19456587..19456634,19456853..19456918,',\n",
       "  '                     19458071..19458139,19465202..19465274,19467873..19468003,',\n",
       "  '                     19479083..19479193))',\n",
       "  '                     /gene=\"UFD1\"',\n",
       "  '                     /gene_synonym=\"UFD1L\"',\n",
       "  '                     /product=\"ubiquitin recognition factor in ER associated',\n",
       "  '                     degradation 1, transcript variant X3\"',\n",
       "  '                     /note=\"Derived by automated computational analysis using',\n",
       "  '                     annotated introns\"',\n",
       "  '                     /db_xref=\"MIM:601754\"'],\n",
       " ['     mRNA            complement(join(49773283..49774416,49775591..49775745,',\n",
       "  '                     49776050..49776159,49777034..49777161,49777678..49777813,',\n",
       "  '                     49787390..49787887,49794034..49794294,49797805..49798117,',\n",
       "  '                     49798573..49798686,49798988..49799119,49804204..49804360,',\n",
       "  '                     49822951..49824331,49827497..49827873))',\n",
       "  '                     /gene=\"BRD1\"',\n",
       "  '                     /gene_synonym=\"BRL; BRPF1; BRPF2\"',\n",
       "  '                     /product=\"bromodomain containing 1, transcript variant 4\"',\n",
       "  '                     gene prediction method: BestRefSeq.\"',\n",
       "  '                     /db_xref=\"MIM:604589\"']]"
      ]
     },
     "execution_count": 16,
     "metadata": {},
     "output_type": "execute_result"
    }
   ],
   "source": [
    "s4 | grep(\"mRNA\", col=0) | deref()"
   ]
  },
  {
   "cell_type": "markdown",
   "id": "c9be9118-d94c-43ae-ae24-e38916941fb9",
   "metadata": {},
   "source": [
    "But you also know that before every mRNA feature, there's usually an associated \"gene\" feature and you would like to grab it and place them in a separate block:"
   ]
  },
  {
   "cell_type": "code",
   "execution_count": 17,
   "id": "d17a7bb9-77f6-45ca-8c6b-d192c691360e",
   "metadata": {},
   "outputs": [
    {
     "data": {
      "text/plain": [
       "[[['     gene            complement(10685647..10688027)',\n",
       "   '                     /gene=\"LOC124905154\"',\n",
       "   '                     /note=\"Derived by automated computational analysis using',\n",
       "   '                     gene prediction method: Gnomon.\"',\n",
       "   '                     /db_xref=\"GeneID:124905154\"'],\n",
       "  ['     mRNA            complement(join(19449911..19450744,19454749..19454830,',\n",
       "   '                     19455680..19455768,19456587..19456634,19456853..19456918,',\n",
       "   '                     19458071..19458139,19465202..19465274,19467873..19468003,',\n",
       "   '                     19479083..19479193))',\n",
       "   '                     /gene=\"UFD1\"',\n",
       "   '                     /gene_synonym=\"UFD1L\"',\n",
       "   '                     /product=\"ubiquitin recognition factor in ER associated',\n",
       "   '                     degradation 1, transcript variant X3\"',\n",
       "   '                     /note=\"Derived by automated computational analysis using',\n",
       "   '                     annotated introns\"',\n",
       "   '                     /db_xref=\"MIM:601754\"']],\n",
       " [['     gene            15922428..15922944',\n",
       "   '                     /gene=\"LOC100421685\"',\n",
       "   '                     /note=\"tetratricopeptide repeat domain 34 pseudogene;',\n",
       "   '                     prediction method: Curated Genomic.\"',\n",
       "   '                     /pseudo',\n",
       "   '                     /db_xref=\"GeneID:100421685\"'],\n",
       "  ['     mRNA            complement(join(49773283..49774416,49775591..49775745,',\n",
       "   '                     49776050..49776159,49777034..49777161,49777678..49777813,',\n",
       "   '                     49787390..49787887,49794034..49794294,49797805..49798117,',\n",
       "   '                     49798573..49798686,49798988..49799119,49804204..49804360,',\n",
       "   '                     49822951..49824331,49827497..49827873))',\n",
       "   '                     /gene=\"BRD1\"',\n",
       "   '                     /gene_synonym=\"BRL; BRPF1; BRPF2\"',\n",
       "   '                     /product=\"bromodomain containing 1, transcript variant 4\"',\n",
       "   '                     gene prediction method: BestRefSeq.\"',\n",
       "   '                     /db_xref=\"MIM:604589\"']]]"
      ]
     },
     "execution_count": 17,
     "metadata": {},
     "output_type": "execute_result"
    }
   ],
   "source": [
    "s4 | grep(\"mRNA\", before=1, sep=True, col=0) | deref()"
   ]
  },
  {
   "cell_type": "markdown",
   "id": "4a753ec5-aafa-46d0-9ffa-4f1e5dd8b519",
   "metadata": {},
   "source": [
    "Pretty convenient don't you think?"
   ]
  },
  {
   "cell_type": "code",
   "execution_count": null,
   "id": "24795336-ffa7-4e82-a65a-d7bb84eb2ff6",
   "metadata": {},
   "outputs": [],
   "source": []
  }
 ],
 "metadata": {
  "kernelspec": {
   "display_name": "Python 3 (ipykernel)",
   "language": "python",
   "name": "python3"
  },
  "language_info": {
   "codemirror_mode": {
    "name": "ipython",
    "version": 3
   },
   "file_extension": ".py",
   "mimetype": "text/x-python",
   "name": "python",
   "nbconvert_exporter": "python",
   "pygments_lexer": "ipython3",
   "version": "3.8.13"
  }
 },
 "nbformat": 4,
 "nbformat_minor": 5
}
