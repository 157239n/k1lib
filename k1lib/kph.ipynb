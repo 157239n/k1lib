{
 "cells": [
  {
   "cell_type": "code",
   "execution_count": 63,
   "id": "ccefc93a",
   "metadata": {},
   "outputs": [],
   "source": [
    "#export\n",
    "\"\"\"\n",
    "This module is for physics and science-related utilities. This is exposed automatically with::\n",
    "\n",
    "   from k1lib.imports import *\n",
    "   kph.moody # exposed\n",
    "\"\"\"\n",
    "import k1lib, base64, io, os, time, math, re; import k1lib.cli as cli; import numpy as np; from collections import deque\n",
    "__all__ = [\"moody\", \"met\", \"pDrop\"]"
   ]
  },
  {
   "cell_type": "code",
   "execution_count": 35,
   "id": "81deca17-b75d-4ffa-8509-9eedbdc8b5e5",
   "metadata": {
    "tags": []
   },
   "outputs": [],
   "source": [
    "#export\n",
    "def s1f(x): x = math.log(x); return 2.71828182**(4.2444631759401104e-9*x**8 + -8.322685720258006e-7*x**7 + 0.00005619362310993281*x**6 + -0.0019464863019723*x**5 + 0.03964848916369248*x**4 + -0.49797690172977993*x**3 + 3.8239071464559666*x**2 + -16.607415434661515*x**1 + 28.914622582180105*x**0)\n",
    "def s2f(x): x = math.log(x); return 2.71828182**(-9.684294546970501e-8*x**8 + 0.000010023037077594955*x**7 + -0.00044729436898422354*x**6 + 0.01121858533408693*x**5 + -0.1724501054794875*x**4 + 1.6561488107502946*x**3 + -9.631636239140226*x**2 + 30.596902063116328*x**1 + -42.275394515360624*x**0)\n",
    "def s3f(x): x = math.log(x); return 2.71828182**(-1.9818041355792671e-7*x**8 + 0.000020921872212816747*x**7 + -0.0009533864298367504*x**6 + 0.024465140792683766*x**5 + -0.38609792887414063*x**4 + 3.8291318354577544*x**3 + -23.23172592367326*x**2 + 78.43311842056625*x**1 + -114.66692154593956*x**0)\n",
    "def s4f(x): x = math.log(x); return 2.71828182**(-4.9468472029803094e-8*x**8 + 0.000005494960734949219*x**7 + -0.00026226221887305974*x**6 + 0.007007020963456641*x**5 + -0.11419149676364368*x**4 + 1.1553188516399833*x**3 + -7.012207352308602*x**2 + 22.871380160319394*x**1 + -32.31620062330639*x**0)\n",
    "def s5f(x): x = math.log(x); return 2.71828182**(-8.363972428531969e-8*x**8 + 0.000008971803962774427*x**7 + -0.0004155739448700786*x**6 + 0.010834753828140732*x**5 + -0.17338070049167648*x**4 + 1.7355279214923196*x**3 + -10.527555418624516*x**2 + 34.85971207801525*x**1 + -49.889296477247974*x**0)\n",
    "def s6f(x): x = math.log(x); return 2.71828182**(-1.2802973080810441e-7*x**8 + 0.000013648947845460501*x**7 + -0.0006298244079318834*x**6 + 0.01640949227735026*x**5 + -0.26349567087724807*x**4 + 2.6615934358821742*x**3 + -16.424763357403325*x**2 + 56.05256142596386*x**1 + -82.6895294831373*x**0)\n",
    "def s7f(x): x = math.log(x); return 2.71828182**(-4.299576842096641e-8*x**8 + 0.000004994598599082116*x**7 + -0.0002520255217563213*x**6 + 0.007193836039572651*x**5 + -0.12654165516924273*x**4 + 1.3965964485965678*x**3 + -9.359925837562262*x**2 + 34.28529747325624*x**1 + -54.40719644807996*x**0)\n",
    "def s8f(x): x = math.log(x); return 2.71828182**(1.269513464498415e-8*x**8 + -0.000001413697846957747*x**7 + 0.00006439485773699122*x**6 + -0.0015472772923693604*x**5 + 0.02092277278431777*x**4 + -0.15581036674222248*x**3 + 0.5826712647881931*x**2 + -1.1472116809058157*x**1 + -0.5287566543646823*x**0)\n",
    "def s9f(x): x = math.log(x); return 2.71828182**(5.515220750369853e-8*x**8 + -0.000006432523701620003*x**7 + 0.0003192699893346153*x**6 + -0.00880132344577798*x**5 + 0.14726661041174033*x**4 + -1.5319844824658428*x**3 + 9.719158960604915*x**2 + -34.92379483181018*x**1 + 52.723539185281325*x**0)\n",
    "def s10f(x): x = math.log(x); return 2.71828182**(-9.333622374383393e-8*x**8 + 0.000009086789340598601*x**7 + -0.0003779180433109117*x**6 + 0.00876264814162921*x**5 + -0.12390157968924341*x**4 + 1.0943010675397238*x**3 + -5.8679379334857495*x**2 + 16.93882060153151*x**1 + -21.393033919943562*x**0)\n",
    "def s11f(x): x = math.log(x); return 2.71828182**(-2.811472792003724e-7*x**8 + 0.000029426676423522086*x**7 + -0.001327581582996746*x**6 + 0.03370258133848332*x**5 + -0.5264804569064836*x**4 + 5.182286128865138*x**3 + -31.370335574726536*x**2 + 106.33352457694215*x**1 + -156.27112169272712*x**0)\n",
    "def s12f(x): x = math.log(x); return 2.71828182**(-1.4128335902921577e-7*x**8 + 0.000015205413332326015*x**7 + -0.000704362536394125*x**6 + 0.018325915826944407*x**5 + -0.29275414769851194*x**4 + 2.9398990000233227*x**3 + -18.105396339779073*x**2 + 62.09769995964163*x**1 + -92.61680323571747*x**0)\n",
    "def s13f(x): x = math.log(x); return 2.71828182**(4.258360459188745e-8*x**8 + -0.0000037375539789571868*x**7 + 0.0001373335577411209*x**6 + -0.0027372957947536464*x**5 + 0.03196224396739598*x**4 + -0.21883372411714921*x**3 + 0.8343120258806735*x**2 + -1.912314669444785*x**1 + 0.7452953921862973*x**0)\n",
    "def s14f(x): x = math.log(x); return 2.71828182**(-1.7775650830427714e-7*x**8 + 0.000018506795725551936*x**7 + -0.0008341144186295757*x**6 + 0.02123819552208469*x**5 + -0.33377863052110485*x**4 + 3.311356343138429*x**3 + -20.21029321879491*x**2 + 68.89693205452834*x**1 + -102.17968615477929*x**0)\n",
    "def s15f(x): x = math.log(x); return 2.71828182**(-1.083904367610668e-7*x**8 + 0.00001125632714037739*x**7 + -0.000506958865353779*x**6 + 0.012927658118604341*x**5 + -0.2039725948292568*x**4 + 2.036153856616786*x**3 + -12.521274410228889*x**2 + 42.889422644783686*x**1 + -64.40113182162997*x**0)\n",
    "def s16f(x): x = math.log(x); return 2.71828182**(-8.318887257595798e-8*x**8 + 0.000008612054740972736*x**7 + -0.00038581081677569904*x**6 + 0.009769970009425555*x**5 + -0.15291372655930463*x**4 + 1.513076360964339*x**3 + -9.212426654547409*x**2 + 31.089804947426835*x**1 + -46.26000932414679*x**0)\n",
    "def s17f(x): x = math.log(x); return 2.71828182**(-7.692418034149814e-8*x**8 + 0.000008074844525914391*x**7 + -0.0003671909746096129*x**6 + 0.009443036154588646*x**5 + -0.15009608695245397*x**4 + 1.507660094576563*x**3 + -9.310901835725904*x**2 + 31.84811752723755*x**1 + -47.94229484437584*x**0)\n",
    "fs = [s1f, s2f, s3f, s4f, s5f, s6f, s7f, s8f, s9f, s10f, s11f, s12f, s13f, s14f, s15f, s16f, s17f]\n",
    "roughness = [0.05, 0.04, 0.03, 0.02, 0.015, 0.01, 0.005, 0.002, 0.001, 5e-4, 2e-4, 1e-4, 5e-5, 1e-5, 5e-6, 1e-6, 0]\n",
    "moody_data = [[r, f] for r,f in zip(roughness, fs)]\n",
    "def moody(e, Re):\n",
    "    \"\"\"Calculates the friction coefficient using relative pipe roughness and reynolds number.\n",
    "Example::\n",
    "\n",
    "    kph.moody(1.3e-3, 1e5) # returns 0.023220729858510668\n",
    "\"\"\"\n",
    "    if e <= 0 or e >= 0.05: raise Exception(\"Relative roughness has to be between 0 and 0.05\")\n",
    "    if Re < 0: raise Exception(\"Reynolds number can't be less than zero\")\n",
    "    if Re > 1e8: raise Exception(\"Reynolds number over 1e8, which is unrealistically high. Likely you made an error somewhere else in your calculations\")\n",
    "    if Re < 2000: return 64/Re # laminar flow region\n",
    "    for i in range(len(moody_data)-1):\n",
    "        if moody_data[i][0] > e >= moody_data[i+1][0]:\n",
    "            e1, f1 = moody_data[i+1] # lower bound\n",
    "            e2, f2 = moody_data[i]   # upper bound\n",
    "            alpha = (e-e1)/(e2-e1)\n",
    "            return f1(Re)*(1-alpha) + f2(Re)*alpha\n",
    "    raise Exception(\"Unreachable\")"
   ]
  },
  {
   "cell_type": "code",
   "execution_count": 37,
   "id": "a6736856-cd2d-47e1-9c73-1a7c0c7d91a0",
   "metadata": {},
   "outputs": [],
   "source": [
    "assert abs(moody(1.3e-3, 1e5) - 0.023220729858510668) < 1e-8"
   ]
  },
  {
   "cell_type": "code",
   "execution_count": 216,
   "id": "fb387568-6287-4528-99fa-d16520a035d4",
   "metadata": {
    "tags": []
   },
   "outputs": [],
   "source": [
    "#export\n",
    "met_pattern = r'^(-*\\d+(\\.\\d+)?)\\s*(.+)$'\n",
    "prefixes = [[\"a\", -18], [\"f\", -15], [\"p\", -12], [\"n\", -9], [\"u\", -6], [\"m\", -3], [\"c\", -2], [\"d\", -1], [\"\", 0], [\"k\", 3], [\"M\", 6], [\"G\", 9], [\"T\", 12], [\"P\", 15]]\n",
    "unitD = {**{\"ton\":1e3,\"h\":3600,\"ha\":10000,\"bar\":100000,\"atm\":101325,\"gal\":3.78541e-3,\"min\":60,\"hr\":3600,\"psi\":6894.76,\"gpm\":6.30902e-5},\n",
    "         **{f\"{a}m\": 10**b for a,b in prefixes}, **{f\"{a}s\": 10**b for a,b in prefixes}, **{f\"{a}A\": 10**b for a,b in prefixes}, **{f\"{a}g\": 10**(b-3) for a,b in prefixes},\n",
    "         **{f\"{a}Pa\": 10**b for a,b in [[\"m\",-3],[\"\",0],[\"k\",3],[\"M\",6],[\"G\",9]]}, **{f\"{a}N\": 10**b for a,b in prefixes},\n",
    "         **{f\"{a}L\": 10**(b-3) for a,b in [[\"p\",-12],[\"n\",-9],[\"u\",-6],[\"m\",-3],[\"\",0]]}}\n",
    "def met(s:str=\"3m^3/s\") -> float:\n",
    "    \"\"\"Converts any number into standard metric units.\n",
    "Example::\n",
    "\n",
    "    met(\"3km\")       # returns 3000\n",
    "    met(\"3.6km^2/h\") # returns 1000\n",
    "    met(\"4 kPa*s\")   # returns 4000\n",
    "\n",
    "You can also use this to convert any unit into any other unit::\n",
    "\n",
    "    met(\"3m^3/h\") / met(\"1L/s\") # converts from 3 m^3/h to L/s\n",
    "\n",
    "The recognized units are available in ``met.unitD``. Add to that dictionary if\n",
    "you want to expand the units that this function recognizes.\n",
    "\n",
    "Note that when parsing the units, this uses :meth:`eval`(), which can be dangerous.\n",
    "Don't use this method on untrusted input, or use it at yr own risk.\"\"\"\n",
    "    match = re.match(met_pattern, s.strip())\n",
    "    if not match: raise Exception(f\"Can't parse '{s}', no regex matches found!\")\n",
    "    return float(match.group(1))*eval(match.group(3).replace(\"^\", \"**\"), None, unitD)\n",
    "met.unitD = unitD"
   ]
  },
  {
   "cell_type": "code",
   "execution_count": 191,
   "id": "c9cbcaae-e2db-427d-9521-5da5016e802a",
   "metadata": {
    "tags": []
   },
   "outputs": [],
   "source": [
    "assert met(\"3L\") == 0.003; assert met(\"3.6km^2/h\") == 1000; assert met(\"4 kPa*s\") == 4000\n",
    "assert abs(met(\"3 m^3/h\")/met(\"1L/s\") - 0.8333) < 1e-2"
   ]
  },
  {
   "cell_type": "code",
   "execution_count": 203,
   "id": "316007eb-6bde-4186-a421-6a964886f0db",
   "metadata": {
    "tags": []
   },
   "outputs": [],
   "source": [
    "#export\n",
    "pi = 3.141592653589793\n",
    "def pDrop(flowRate, diameter=0.019, length=10, roughness=0.0025, rho=1000, mu=0.001, returnVel=False):\n",
    "    \"\"\"Calculates pressure drop of water through a circular pipe.\n",
    "Example::\n",
    "\n",
    "    kph.pDrop(met(\"10L/s\"), met(\"90mm\"), met(\"1km\"))/met(\"1bar\") # return 2.3126\n",
    "\n",
    "This calculates the pressure drop through a 90mm diameter 1km pipe with 10L/s throughput,\n",
    "enough for 1 hectares of grass\n",
    "\n",
    ":param flowRate: liquid flow rate (m^3/s)\n",
    ":param diameter: pipe diameter (m)\n",
    ":param length: pipe length (m)\n",
    ":param roughness: absolute roughness (mm)\n",
    ":param rho: liquid density (kg/m^3)\n",
    ":param mu: liquid dynamic viscosity (Pa*s)\n",
    "\n",
    "Quick (absolute) roughness (mm) table:\n",
    "- Concrete, coarse: 0.25\n",
    "- Concrete, new smooth: 0.025\n",
    "- Drawn tubing: 0.0025\n",
    "- Glass, plastic, perspex: 0.0025\n",
    "- Iron, cast: 0.25\n",
    "- Sewers, old: 3.0\n",
    "- Steel, mortar lined: 0.1\n",
    "- Steel, rusted: 0.5\n",
    "- Steel, structural or forged: 0.025\n",
    "- Water mains, old: 1.0\"\"\"\n",
    "    A = pi*(diameter/2)**2 # m^2\n",
    "    flowVel = flowRate/A # m/s\n",
    "    Re = rho*flowVel*diameter/mu\n",
    "    f = moody(roughness/(diameter*1000), Re)\n",
    "    if Re < 2000: ans = 8*mu*length*flowRate/(pi*(diameter/2)**4)\n",
    "    else: ans = f*length*rho*flowVel**2/(2*diameter)\n",
    "    return (ans, flowVel) if returnVel else ans"
   ]
  },
  {
   "cell_type": "code",
   "execution_count": 199,
   "id": "8d60e77f-1b05-4961-a1bc-bcc5b4fc3440",
   "metadata": {
    "tags": []
   },
   "outputs": [],
   "source": [
    "assert abs(pDrop(met(\"10L/s\"), met(\"90mm\"), met(\"1km\"))/met(\"1bar\") - 2.3126) < 1e-2"
   ]
  },
  {
   "cell_type": "code",
   "execution_count": 219,
   "id": "9b875be3-5a06-4aa8-88c4-81685aec8b92",
   "metadata": {
    "scrolled": true,
    "tags": []
   },
   "outputs": [
    {
     "name": "stdout",
     "output_type": "stream",
     "text": [
      "2024-05-12 16:51:21,723\tINFO worker.py:1458 -- Connecting to existing Ray cluster at address: 192.168.1.17:6379...\n",
      "2024-05-12 16:51:21,768\tINFO worker.py:1633 -- Connected to Ray cluster. View the dashboard at \u001b[1m\u001b[32m127.0.0.1:8265 \u001b[39m\u001b[22m\n",
      "./export started up - /home/kelvin/anaconda3/envs/ray2/bin/python3\n",
      "----- exportAll\n",
      "15969   0   61%   \n",
      "10377   1   39%   \n",
      "Found existing installation: k1lib 1.7\n",
      "Uninstalling k1lib-1.7:\n",
      "  Successfully uninstalled k1lib-1.7\n",
      "Looking in indexes: https://pypi.org/simple, http://mint-2.l:3141/\n",
      "Processing /home/kelvin/repos/labs/k1lib\n",
      "  Preparing metadata (setup.py) ... \u001b[?25ldone\n",
      "\u001b[?25hRequirement already satisfied: numpy>=1.14 in /home/kelvin/anaconda3/envs/ray2/lib/python3.9/site-packages (from k1lib==1.7) (1.24.2)\n",
      "Requirement already satisfied: matplotlib>=2.0 in /home/kelvin/anaconda3/envs/ray2/lib/python3.9/site-packages (from k1lib==1.7) (3.7.1)\n",
      "Requirement already satisfied: dill in /home/kelvin/anaconda3/envs/ray2/lib/python3.9/site-packages (from k1lib==1.7) (0.3.7)\n",
      "Requirement already satisfied: forbiddenfruit in /home/kelvin/anaconda3/envs/ray2/lib/python3.9/site-packages (from k1lib==1.7) (0.1.4)\n",
      "Requirement already satisfied: wurlitzer in /home/kelvin/anaconda3/envs/ray2/lib/python3.9/site-packages (from k1lib==1.7) (3.0.3)\n",
      "Requirement already satisfied: validators in /home/kelvin/anaconda3/envs/ray2/lib/python3.9/site-packages (from k1lib==1.7) (0.20.0)\n",
      "Requirement already satisfied: contourpy>=1.0.1 in /home/kelvin/anaconda3/envs/ray2/lib/python3.9/site-packages (from matplotlib>=2.0->k1lib==1.7) (1.0.7)\n",
      "Requirement already satisfied: cycler>=0.10 in /home/kelvin/anaconda3/envs/ray2/lib/python3.9/site-packages (from matplotlib>=2.0->k1lib==1.7) (0.11.0)\n",
      "Requirement already satisfied: fonttools>=4.22.0 in /home/kelvin/anaconda3/envs/ray2/lib/python3.9/site-packages (from matplotlib>=2.0->k1lib==1.7) (4.39.3)\n",
      "Requirement already satisfied: kiwisolver>=1.0.1 in /home/kelvin/anaconda3/envs/ray2/lib/python3.9/site-packages (from matplotlib>=2.0->k1lib==1.7) (1.4.4)\n",
      "Requirement already satisfied: packaging>=20.0 in /home/kelvin/anaconda3/envs/ray2/lib/python3.9/site-packages (from matplotlib>=2.0->k1lib==1.7) (23.1)\n",
      "Requirement already satisfied: pillow>=6.2.0 in /home/kelvin/anaconda3/envs/ray2/lib/python3.9/site-packages (from matplotlib>=2.0->k1lib==1.7) (9.5.0)\n",
      "Requirement already satisfied: pyparsing>=2.3.1 in /home/kelvin/anaconda3/envs/ray2/lib/python3.9/site-packages (from matplotlib>=2.0->k1lib==1.7) (3.0.9)\n",
      "Requirement already satisfied: python-dateutil>=2.7 in /home/kelvin/anaconda3/envs/ray2/lib/python3.9/site-packages (from matplotlib>=2.0->k1lib==1.7) (2.8.2)\n",
      "Requirement already satisfied: importlib-resources>=3.2.0 in /home/kelvin/anaconda3/envs/ray2/lib/python3.9/site-packages (from matplotlib>=2.0->k1lib==1.7) (5.12.0)\n",
      "Requirement already satisfied: decorator>=3.4.0 in /home/kelvin/anaconda3/envs/ray2/lib/python3.9/site-packages (from validators->k1lib==1.7) (5.1.1)\n",
      "Requirement already satisfied: zipp>=3.1.0 in /home/kelvin/anaconda3/envs/ray2/lib/python3.9/site-packages (from importlib-resources>=3.2.0->matplotlib>=2.0->k1lib==1.7) (3.15.0)\n",
      "Requirement already satisfied: six>=1.5 in /home/kelvin/anaconda3/envs/ray2/lib/python3.9/site-packages (from python-dateutil>=2.7->matplotlib>=2.0->k1lib==1.7) (1.16.0)\n",
      "Building wheels for collected packages: k1lib\n",
      "  Building wheel for k1lib (setup.py) ... \u001b[?25ldone\n",
      "\u001b[?25h  Created wheel for k1lib: filename=k1lib-1.7-py3-none-any.whl size=5099354 sha256=60e8ca5ff4e1b7e6abe62e7af7a591c22e9d7771023badfb6f4e3b6b953aeceb\n",
      "  Stored in directory: /tmp/pip-ephem-wheel-cache-o91k3p9n/wheels/fb/be/7d/105fb38c560564c6556311fd52f77295b9fec253e4ba7cfd75\n",
      "Successfully built k1lib\n",
      "Installing collected packages: k1lib\n",
      "Successfully installed k1lib-1.7\n"
     ]
    }
   ],
   "source": [
    "!../export.py kph --upload=True"
   ]
  },
  {
   "cell_type": "code",
   "execution_count": 211,
   "id": "5216a95b-0d82-4cf2-81f4-4256d35a0772",
   "metadata": {
    "scrolled": true,
    "tags": []
   },
   "outputs": [
    {
     "name": "stdout",
     "output_type": "stream",
     "text": [
      "2024-05-12 16:19:28,619\tINFO worker.py:1458 -- Connecting to existing Ray cluster at address: 192.168.1.17:6379...\n",
      "2024-05-12 16:19:28,689\tINFO worker.py:1633 -- Connected to Ray cluster. View the dashboard at \u001b[1m\u001b[32m127.0.0.1:8265 \u001b[39m\u001b[22m\n",
      "./export started up - /home/kelvin/anaconda3/envs/ray2/bin/python3\n",
      "----- exportAll\n",
      "15969   0   61%   \n",
      "10377   1   39%   \n",
      "Found existing installation: k1lib 1.7\n",
      "Uninstalling k1lib-1.7:\n",
      "  Successfully uninstalled k1lib-1.7\n",
      "Looking in indexes: https://pypi.org/simple, http://mint-2.l:3141/\n",
      "Processing /home/kelvin/repos/labs/k1lib\n",
      "  Preparing metadata (setup.py) ... \u001b[?25ldone\n",
      "\u001b[?25hRequirement already satisfied: numpy>=1.14 in /home/kelvin/anaconda3/envs/ray2/lib/python3.9/site-packages (from k1lib==1.7) (1.24.2)\n",
      "Requirement already satisfied: matplotlib>=2.0 in /home/kelvin/anaconda3/envs/ray2/lib/python3.9/site-packages (from k1lib==1.7) (3.7.1)\n",
      "Requirement already satisfied: dill in /home/kelvin/anaconda3/envs/ray2/lib/python3.9/site-packages (from k1lib==1.7) (0.3.7)\n",
      "Requirement already satisfied: forbiddenfruit in /home/kelvin/anaconda3/envs/ray2/lib/python3.9/site-packages (from k1lib==1.7) (0.1.4)\n",
      "Requirement already satisfied: wurlitzer in /home/kelvin/anaconda3/envs/ray2/lib/python3.9/site-packages (from k1lib==1.7) (3.0.3)\n",
      "Requirement already satisfied: validators in /home/kelvin/anaconda3/envs/ray2/lib/python3.9/site-packages (from k1lib==1.7) (0.20.0)\n",
      "Requirement already satisfied: contourpy>=1.0.1 in /home/kelvin/anaconda3/envs/ray2/lib/python3.9/site-packages (from matplotlib>=2.0->k1lib==1.7) (1.0.7)\n",
      "Requirement already satisfied: cycler>=0.10 in /home/kelvin/anaconda3/envs/ray2/lib/python3.9/site-packages (from matplotlib>=2.0->k1lib==1.7) (0.11.0)\n",
      "Requirement already satisfied: fonttools>=4.22.0 in /home/kelvin/anaconda3/envs/ray2/lib/python3.9/site-packages (from matplotlib>=2.0->k1lib==1.7) (4.39.3)\n",
      "Requirement already satisfied: kiwisolver>=1.0.1 in /home/kelvin/anaconda3/envs/ray2/lib/python3.9/site-packages (from matplotlib>=2.0->k1lib==1.7) (1.4.4)\n",
      "Requirement already satisfied: packaging>=20.0 in /home/kelvin/anaconda3/envs/ray2/lib/python3.9/site-packages (from matplotlib>=2.0->k1lib==1.7) (23.1)\n",
      "Requirement already satisfied: pillow>=6.2.0 in /home/kelvin/anaconda3/envs/ray2/lib/python3.9/site-packages (from matplotlib>=2.0->k1lib==1.7) (9.5.0)\n",
      "Requirement already satisfied: pyparsing>=2.3.1 in /home/kelvin/anaconda3/envs/ray2/lib/python3.9/site-packages (from matplotlib>=2.0->k1lib==1.7) (3.0.9)\n",
      "Requirement already satisfied: python-dateutil>=2.7 in /home/kelvin/anaconda3/envs/ray2/lib/python3.9/site-packages (from matplotlib>=2.0->k1lib==1.7) (2.8.2)\n",
      "Requirement already satisfied: importlib-resources>=3.2.0 in /home/kelvin/anaconda3/envs/ray2/lib/python3.9/site-packages (from matplotlib>=2.0->k1lib==1.7) (5.12.0)\n",
      "Requirement already satisfied: decorator>=3.4.0 in /home/kelvin/anaconda3/envs/ray2/lib/python3.9/site-packages (from validators->k1lib==1.7) (5.1.1)\n",
      "Requirement already satisfied: zipp>=3.1.0 in /home/kelvin/anaconda3/envs/ray2/lib/python3.9/site-packages (from importlib-resources>=3.2.0->matplotlib>=2.0->k1lib==1.7) (3.15.0)\n",
      "Requirement already satisfied: six>=1.5 in /home/kelvin/anaconda3/envs/ray2/lib/python3.9/site-packages (from python-dateutil>=2.7->matplotlib>=2.0->k1lib==1.7) (1.16.0)\n",
      "Building wheels for collected packages: k1lib\n",
      "  Building wheel for k1lib (setup.py) ... \u001b[?25ldone\n",
      "\u001b[?25h  Created wheel for k1lib: filename=k1lib-1.7-py3-none-any.whl size=5099338 sha256=4e221633e3a0af6d752202a7cbf061b9b177a031870c2c2ce68815b6abeb76f8\n",
      "  Stored in directory: /tmp/pip-ephem-wheel-cache-5np99xq7/wheels/fb/be/7d/105fb38c560564c6556311fd52f77295b9fec253e4ba7cfd75\n",
      "Successfully built k1lib\n",
      "Installing collected packages: k1lib\n",
      "Successfully installed k1lib-1.7\n"
     ]
    }
   ],
   "source": [
    "!../export.py kph"
   ]
  },
  {
   "cell_type": "code",
   "execution_count": 210,
   "id": "25a445e9",
   "metadata": {
    "scrolled": true
   },
   "outputs": [
    {
     "name": "stdout",
     "output_type": "stream",
     "text": [
      "2024-04-24 12:16:11,334\tINFO worker.py:1458 -- Connecting to existing Ray cluster at address: 192.168.1.17:6379...\n",
      "2024-04-24 12:16:11,419\tINFO worker.py:1633 -- Connected to Ray cluster. View the dashboard at \u001b[1m\u001b[32m127.0.0.1:8265 \u001b[39m\u001b[22m\n",
      "./export started up - /home/kelvin/anaconda3/envs/ray2/bin/python3\n",
      "----- bootstrapping\n",
      "Current dir: /home/kelvin/repos/labs/k1lib, /home/kelvin/repos/labs/k1lib/k1lib/../export.py\n",
      "Found existing installation: k1lib 1.7\n",
      "Uninstalling k1lib-1.7:\n",
      "  Successfully uninstalled k1lib-1.7\n",
      "Looking in indexes: https://pypi.org/simple, http://mint-2.l:3141/\n",
      "Processing /home/kelvin/repos/labs/k1lib\n",
      "  Preparing metadata (setup.py) ... \u001b[?25ldone\n",
      "\u001b[?25hRequirement already satisfied: numpy>=1.14 in /home/kelvin/anaconda3/envs/ray2/lib/python3.9/site-packages (from k1lib==1.7) (1.24.2)\n",
      "Requirement already satisfied: matplotlib>=2.0 in /home/kelvin/anaconda3/envs/ray2/lib/python3.9/site-packages (from k1lib==1.7) (3.7.1)\n",
      "Requirement already satisfied: dill in /home/kelvin/anaconda3/envs/ray2/lib/python3.9/site-packages (from k1lib==1.7) (0.3.7)\n",
      "Requirement already satisfied: forbiddenfruit in /home/kelvin/anaconda3/envs/ray2/lib/python3.9/site-packages (from k1lib==1.7) (0.1.4)\n",
      "Requirement already satisfied: wurlitzer in /home/kelvin/anaconda3/envs/ray2/lib/python3.9/site-packages (from k1lib==1.7) (3.0.3)\n",
      "Requirement already satisfied: validators in /home/kelvin/anaconda3/envs/ray2/lib/python3.9/site-packages (from k1lib==1.7) (0.20.0)\n",
      "Requirement already satisfied: contourpy>=1.0.1 in /home/kelvin/anaconda3/envs/ray2/lib/python3.9/site-packages (from matplotlib>=2.0->k1lib==1.7) (1.0.7)\n",
      "Requirement already satisfied: cycler>=0.10 in /home/kelvin/anaconda3/envs/ray2/lib/python3.9/site-packages (from matplotlib>=2.0->k1lib==1.7) (0.11.0)\n",
      "Requirement already satisfied: fonttools>=4.22.0 in /home/kelvin/anaconda3/envs/ray2/lib/python3.9/site-packages (from matplotlib>=2.0->k1lib==1.7) (4.39.3)\n",
      "Requirement already satisfied: kiwisolver>=1.0.1 in /home/kelvin/anaconda3/envs/ray2/lib/python3.9/site-packages (from matplotlib>=2.0->k1lib==1.7) (1.4.4)\n",
      "Requirement already satisfied: packaging>=20.0 in /home/kelvin/anaconda3/envs/ray2/lib/python3.9/site-packages (from matplotlib>=2.0->k1lib==1.7) (23.1)\n",
      "Requirement already satisfied: pillow>=6.2.0 in /home/kelvin/anaconda3/envs/ray2/lib/python3.9/site-packages (from matplotlib>=2.0->k1lib==1.7) (9.5.0)\n",
      "Requirement already satisfied: pyparsing>=2.3.1 in /home/kelvin/anaconda3/envs/ray2/lib/python3.9/site-packages (from matplotlib>=2.0->k1lib==1.7) (3.0.9)\n",
      "Requirement already satisfied: python-dateutil>=2.7 in /home/kelvin/anaconda3/envs/ray2/lib/python3.9/site-packages (from matplotlib>=2.0->k1lib==1.7) (2.8.2)\n",
      "Requirement already satisfied: importlib-resources>=3.2.0 in /home/kelvin/anaconda3/envs/ray2/lib/python3.9/site-packages (from matplotlib>=2.0->k1lib==1.7) (5.12.0)\n",
      "Requirement already satisfied: decorator>=3.4.0 in /home/kelvin/anaconda3/envs/ray2/lib/python3.9/site-packages (from validators->k1lib==1.7) (5.1.1)\n",
      "Requirement already satisfied: zipp>=3.1.0 in /home/kelvin/anaconda3/envs/ray2/lib/python3.9/site-packages (from importlib-resources>=3.2.0->matplotlib>=2.0->k1lib==1.7) (3.15.0)\n",
      "Requirement already satisfied: six>=1.5 in /home/kelvin/anaconda3/envs/ray2/lib/python3.9/site-packages (from python-dateutil>=2.7->matplotlib>=2.0->k1lib==1.7) (1.16.0)\n",
      "Building wheels for collected packages: k1lib\n",
      "  Building wheel for k1lib (setup.py) ... \u001b[?25ldone\n",
      "\u001b[?25h  Created wheel for k1lib: filename=k1lib-1.7-py3-none-any.whl size=5096942 sha256=0d2d4d476e92ac877d98b57ca97df312d8b5c9415038af8c915e5451f789bd07\n",
      "  Stored in directory: /tmp/pip-ephem-wheel-cache-9r4k4oke/wheels/fb/be/7d/105fb38c560564c6556311fd52f77295b9fec253e4ba7cfd75\n",
      "Successfully built k1lib\n",
      "Installing collected packages: k1lib\n",
      "Successfully installed k1lib-1.7\n",
      "\u001b[0m"
     ]
    }
   ],
   "source": [
    "!../export.py kph --bootstrap=True"
   ]
  },
  {
   "cell_type": "code",
   "execution_count": null,
   "id": "e393dd9a-39ca-4126-8b1e-5757d139f67f",
   "metadata": {},
   "outputs": [],
   "source": []
  }
 ],
 "metadata": {
  "kernelspec": {
   "display_name": "Python 3 (ipykernel)",
   "language": "python",
   "name": "python3"
  },
  "language_info": {
   "codemirror_mode": {
    "name": "ipython",
    "version": 3
   },
   "file_extension": ".py",
   "mimetype": "text/x-python",
   "name": "python",
   "nbconvert_exporter": "python",
   "pygments_lexer": "ipython3",
   "version": "3.9.15"
  }
 },
 "nbformat": 4,
 "nbformat_minor": 5
}
