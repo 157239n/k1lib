{
 "cells": [
  {
   "cell_type": "code",
   "execution_count": 1,
   "metadata": {},
   "outputs": [],
   "source": [
    "#export\n",
    "import torch as _torch, torch.nn as _nn, numpy as _np\n",
    "from functools import partial as _partial"
   ]
  },
  {
   "cell_type": "code",
   "execution_count": 2,
   "metadata": {},
   "outputs": [],
   "source": [
    "#export\n",
    "class Object:\n",
    "    @staticmethod\n",
    "    def listGenerator(): return []\n",
    "    @staticmethod\n",
    "    def zeroGenerator(): return 0\n",
    "    def __init__(self):\n",
    "        self._defaultValueGenerator = None\n",
    "        self.repr = None\n",
    "    @staticmethod\n",
    "    def fromDict(dict):\n",
    "        \"\"\"Creates an object with attributes from a dictionary\"\"\"\n",
    "        answer = Object(); answer.__dict__.update(dict); return answer\n",
    "    def withAutoDeclare(self, defaultValueGenerator):\n",
    "        \"\"\"Sets this Object up so that if a field doesn't\n",
    "        exist, it will automatically create it with a\n",
    "        default value.\"\"\"\n",
    "        self._defaultValueGenerator = defaultValueGenerator\n",
    "        return self\n",
    "    def __getstate__(self): return self.__dict__\n",
    "    def __setstate__(self, state): self.__dict__.update(state)\n",
    "    def __getattr__(self, attr):\n",
    "        if attr == \"_defaultValueGenerator\": raise AttributeError()\n",
    "        if self._defaultValueGenerator != None:\n",
    "            self.__dict__[attr] = self._defaultValueGenerator()\n",
    "            return getattr(self, attr)\n",
    "        raise AttributeError\n",
    "    def withRepr(self, _repr):\n",
    "        self.repr = _repr\n",
    "        return self\n",
    "    def __repr__(self):\n",
    "        _dict = \"\".join([f\"- {key}: {self.__dict__[key]}\\n\" for key in self.__dict__])\n",
    "        return self.repr or f\"<k1lib.basics.Object>, with __dict__:\\n{_dict}\"\n",
    "class CancelRunException(Exception): pass\n",
    "class CancelEpochException(Exception): pass\n",
    "class CancelBatchException(Exception): pass\n",
    "def test(value):\n",
    "    \"\"\"Tests if value is True\"\"\"\n",
    "    assert value\n",
    "def close(a, b):\n",
    "    \"\"\"Tests if 2 values are really close to each other\"\"\"\n",
    "    test(_torch.allclose(_torch.tensor(a), _torch.tensor(b)))\n",
    "def textToHtml(text:str) -> str:\n",
    "    return text.replace(\"\\n\", \"<br>\").replace(\" \", \"&nbsp;\")\n",
    "def clearLine():\n",
    "    print(\"\\r\" + \" \"*80 + \"\\r\", end=\"\")\n",
    "def tab(text):\n",
    "    \"\"\"Adds a tab before each line\"\"\"\n",
    "    return \"\\n\".join([\"    \" + line for line in text.split(\"\\n\")])\n",
    "def isNumeric(x):\n",
    "    return type(x) == int or type(x) == float\n",
    "def patch(_class, docs=None):\n",
    "    def inner(_function):\n",
    "        _docs = docs\n",
    "        if _docs != None and type(_docs) is not str: _docs = _docs.__doc__\n",
    "        _function.__doc__ = _docs or _function.__doc__ or _class.__doc__\n",
    "        setattr(_class, _function.__qualname__, _function)\n",
    "        return _function\n",
    "    return inner\n",
    "def _I(f): return f()\n",
    "def I(f):\n",
    "    \"\"\"Returns `lambda: f()`\"\"\"\n",
    "    return _partial(_I, f)"
   ]
  },
  {
   "cell_type": "code",
   "execution_count": 3,
   "metadata": {},
   "outputs": [],
   "source": [
    "#export\n",
    "class ListContainer:\n",
    "    \"\"\"Represents a list base class. Just for convenience's\n",
    "    sake. Call _setField() to set the list field where the\n",
    "    data will come from.\"\"\"\n",
    "    def __init__(self): self._setField(\"_items\")\n",
    "    def _setField(self, field):\n",
    "        self.field = field\n",
    "        setattr(self, self.field, [])\n",
    "        self.ref = getattr(self, self.field)\n",
    "        return self\n",
    "    def __getitem__(self, idx): return self.ref[idx]\n",
    "    def __setitem__(self, idx, value): self[idx] = value\n",
    "    def __delitem__(self, idx): del(self[idx])\n",
    "    def __len__(self): return len(getattr(self, self.field))\n",
    "    def clear(self):\n",
    "        self.ref.clear()\n",
    "        return self\n",
    "    def append(self, value):\n",
    "        self.ref.append(value)\n",
    "        return self"
   ]
  },
  {
   "cell_type": "code",
   "execution_count": 4,
   "metadata": {},
   "outputs": [],
   "source": [
    "#export\n",
    "class Range:\n",
    "    def __init__(self, start=0, stop=None):\n",
    "        if (isNumeric(start) and isNumeric(stop)):\n",
    "            self.start = start\n",
    "            self.stop = stop\n",
    "        else:\n",
    "            self.start = start[0]\n",
    "            self.stop = start[1]\n",
    "        self.delta = self.stop - self.start\n",
    "    def __getitem__(self, index):\n",
    "        if index == 0: return self.start\n",
    "        if index == 1: return self.stop\n",
    "        raise Exception(f\"Can't get index {index} of range [{self.start}, {self.stop}]\")\n",
    "    def toUnit(self, x):\n",
    "        return (x - self.start) / self.delta\n",
    "    def fromUnit(self, x):\n",
    "        return x * self.delta + self.start\n",
    "    def toRange(self, _range, x):\n",
    "        return Range(_range).fromUnit(self.toUnit(x))\n",
    "    def __repr__(self):\n",
    "        return f\"\"\"A range of numbers: [{self.start}, {self.stop}]. Can do:\n",
    "- r.toUnit(x): will convert x from range [{self.start}, {self.stop}] to [0, 1]\n",
    "- r.fromUnit(x): will convert x from range [0, 1] to range [{self.start}, {self.stop}]\n",
    "- r.toRange([a, b], x): will convert x from range [{self.start}, {self.stop}] to range [a, b]\n",
    "- r[0], r[1], r.start, r.stop: get start and stop values of range\n",
    "\"\"\""
   ]
  },
  {
   "cell_type": "code",
   "execution_count": 5,
   "metadata": {},
   "outputs": [],
   "source": [
    "#export\n",
    "def getFirst(x):\n",
    "    \"\"\"If `x` is a tuple or list, gets the first\n",
    "    element. Else return the input.\"\"\"\n",
    "    return x[0] if type(x) in [list, tuple] else x"
   ]
  },
  {
   "cell_type": "code",
   "execution_count": 6,
   "metadata": {},
   "outputs": [],
   "source": [
    "#export\n",
    "def polyfit(x, y, deg):\n",
    "    params = _np.polyfit(x, y, deg)\n",
    "    def _inner(_x):\n",
    "        answer = _np.zeros_like(_x, dtype=_np.float)\n",
    "        for expo, param in enumerate(params):\n",
    "            answer += param * _x**(len(params)-expo-1)\n",
    "        return answer\n",
    "    return _inner\n",
    "def derivative(f, delta=1e-3):\n",
    "    return lambda x: (f(x + delta) - f(x)) / delta\n",
    "def optimize(f, v=1, threshold=1e-5):\n",
    "    fD = derivative(f)\n",
    "    while abs(f(v)) > threshold: v = v - f(v)/fD(v)\n",
    "    return v"
   ]
  },
  {
   "cell_type": "code",
   "execution_count": 7,
   "metadata": {},
   "outputs": [],
   "source": [
    "#export\n",
    "def importParams(model:_nn.Module, params:list):\n",
    "    for oldParam, newParam in zip(model.parameters(), params):\n",
    "        oldParam.data = newParam.data.clone()\n",
    "def exportParams(model:_nn.Module):\n",
    "    return [param.data.clone() for param in model.parameters()]\n",
    "def getParamsVector(model:_nn.Module):\n",
    "    return [_torch.randn(param.shape).to(param.device) * (param.std() if len(param.squeeze().shape) > 0 else 1) for param in model.parameters()]"
   ]
  },
  {
   "cell_type": "code",
   "execution_count": 8,
   "metadata": {},
   "outputs": [
    {
     "name": "stdout",
     "output_type": "stream",
     "text": [
      "Current dir: /home/kelvin/repos/labs/k1lib, ../export.py\n",
      "rm: cannot remove '__pycache__': No such file or directory\n",
      "Found existing installation: k1lib 0.1.0\n",
      "Uninstalling k1lib-0.1.0:\n",
      "  Successfully uninstalled k1lib-0.1.0\n",
      "running install\n",
      "running bdist_egg\n",
      "running egg_info\n",
      "creating k1lib.egg-info\n",
      "writing k1lib.egg-info/PKG-INFO\n",
      "writing dependency_links to k1lib.egg-info/dependency_links.txt\n",
      "writing top-level names to k1lib.egg-info/top_level.txt\n",
      "writing manifest file 'k1lib.egg-info/SOURCES.txt'\n",
      "reading manifest file 'k1lib.egg-info/SOURCES.txt'\n",
      "writing manifest file 'k1lib.egg-info/SOURCES.txt'\n",
      "installing library code to build/bdist.linux-x86_64/egg\n",
      "running install_lib\n",
      "running build_py\n",
      "creating build\n",
      "creating build/lib\n",
      "creating build/lib/k1lib\n",
      "copying k1lib/_learner.py -> build/lib/k1lib\n",
      "copying k1lib/callbacks.py -> build/lib/k1lib\n",
      "copying k1lib/data.py -> build/lib/k1lib\n",
      "copying k1lib/_basics.py -> build/lib/k1lib\n",
      "copying k1lib/nn.py -> build/lib/k1lib\n",
      "copying k1lib/viz.py -> build/lib/k1lib\n",
      "copying k1lib/__init__.py -> build/lib/k1lib\n",
      "copying k1lib/schedule.py -> build/lib/k1lib\n",
      "creating build/lib/k1lib/_hidden\n",
      "copying k1lib/_hidden/hiddenFile.py -> build/lib/k1lib/_hidden\n",
      "copying k1lib/_hidden/__init__.py -> build/lib/k1lib/_hidden\n",
      "creating build/lib/k1lib/_callbacks\n",
      "copying k1lib/_callbacks/lossLandscape.py -> build/lib/k1lib/_callbacks\n",
      "copying k1lib/_callbacks/hookParam.py -> build/lib/k1lib/_callbacks\n",
      "copying k1lib/_callbacks/loss_progress.py -> build/lib/k1lib/_callbacks\n",
      "copying k1lib/_callbacks/paramFinder.py -> build/lib/k1lib/_callbacks\n",
      "copying k1lib/_callbacks/__init__.py -> build/lib/k1lib/_callbacks\n",
      "copying k1lib/_callbacks/shorts.py -> build/lib/k1lib/_callbacks\n",
      "copying k1lib/_callbacks/hookModule.py -> build/lib/k1lib/_callbacks\n",
      "creating build/bdist.linux-x86_64\n",
      "creating build/bdist.linux-x86_64/egg\n",
      "creating build/bdist.linux-x86_64/egg/k1lib\n",
      "copying build/lib/k1lib/_learner.py -> build/bdist.linux-x86_64/egg/k1lib\n",
      "copying build/lib/k1lib/callbacks.py -> build/bdist.linux-x86_64/egg/k1lib\n",
      "copying build/lib/k1lib/data.py -> build/bdist.linux-x86_64/egg/k1lib\n",
      "copying build/lib/k1lib/_basics.py -> build/bdist.linux-x86_64/egg/k1lib\n",
      "copying build/lib/k1lib/nn.py -> build/bdist.linux-x86_64/egg/k1lib\n",
      "creating build/bdist.linux-x86_64/egg/k1lib/_callbacks\n",
      "copying build/lib/k1lib/_callbacks/lossLandscape.py -> build/bdist.linux-x86_64/egg/k1lib/_callbacks\n",
      "copying build/lib/k1lib/_callbacks/hookParam.py -> build/bdist.linux-x86_64/egg/k1lib/_callbacks\n",
      "copying build/lib/k1lib/_callbacks/loss_progress.py -> build/bdist.linux-x86_64/egg/k1lib/_callbacks\n",
      "copying build/lib/k1lib/_callbacks/paramFinder.py -> build/bdist.linux-x86_64/egg/k1lib/_callbacks\n",
      "copying build/lib/k1lib/_callbacks/__init__.py -> build/bdist.linux-x86_64/egg/k1lib/_callbacks\n",
      "copying build/lib/k1lib/_callbacks/shorts.py -> build/bdist.linux-x86_64/egg/k1lib/_callbacks\n",
      "copying build/lib/k1lib/_callbacks/hookModule.py -> build/bdist.linux-x86_64/egg/k1lib/_callbacks\n",
      "copying build/lib/k1lib/viz.py -> build/bdist.linux-x86_64/egg/k1lib\n",
      "copying build/lib/k1lib/__init__.py -> build/bdist.linux-x86_64/egg/k1lib\n",
      "copying build/lib/k1lib/schedule.py -> build/bdist.linux-x86_64/egg/k1lib\n",
      "creating build/bdist.linux-x86_64/egg/k1lib/_hidden\n",
      "copying build/lib/k1lib/_hidden/hiddenFile.py -> build/bdist.linux-x86_64/egg/k1lib/_hidden\n",
      "copying build/lib/k1lib/_hidden/__init__.py -> build/bdist.linux-x86_64/egg/k1lib/_hidden\n",
      "byte-compiling build/bdist.linux-x86_64/egg/k1lib/_learner.py to _learner.cpython-38.pyc\n",
      "byte-compiling build/bdist.linux-x86_64/egg/k1lib/callbacks.py to callbacks.cpython-38.pyc\n",
      "byte-compiling build/bdist.linux-x86_64/egg/k1lib/data.py to data.cpython-38.pyc\n",
      "byte-compiling build/bdist.linux-x86_64/egg/k1lib/_basics.py to _basics.cpython-38.pyc\n",
      "byte-compiling build/bdist.linux-x86_64/egg/k1lib/nn.py to nn.cpython-38.pyc\n",
      "byte-compiling build/bdist.linux-x86_64/egg/k1lib/_callbacks/lossLandscape.py to lossLandscape.cpython-38.pyc\n",
      "byte-compiling build/bdist.linux-x86_64/egg/k1lib/_callbacks/hookParam.py to hookParam.cpython-38.pyc\n",
      "byte-compiling build/bdist.linux-x86_64/egg/k1lib/_callbacks/loss_progress.py to loss_progress.cpython-38.pyc\n",
      "byte-compiling build/bdist.linux-x86_64/egg/k1lib/_callbacks/paramFinder.py to paramFinder.cpython-38.pyc\n",
      "byte-compiling build/bdist.linux-x86_64/egg/k1lib/_callbacks/__init__.py to __init__.cpython-38.pyc\n",
      "byte-compiling build/bdist.linux-x86_64/egg/k1lib/_callbacks/shorts.py to shorts.cpython-38.pyc\n",
      "byte-compiling build/bdist.linux-x86_64/egg/k1lib/_callbacks/hookModule.py to hookModule.cpython-38.pyc\n",
      "byte-compiling build/bdist.linux-x86_64/egg/k1lib/viz.py to viz.cpython-38.pyc\n",
      "byte-compiling build/bdist.linux-x86_64/egg/k1lib/__init__.py to __init__.cpython-38.pyc\n",
      "byte-compiling build/bdist.linux-x86_64/egg/k1lib/schedule.py to schedule.cpython-38.pyc\n",
      "byte-compiling build/bdist.linux-x86_64/egg/k1lib/_hidden/hiddenFile.py to hiddenFile.cpython-38.pyc\n",
      "byte-compiling build/bdist.linux-x86_64/egg/k1lib/_hidden/__init__.py to __init__.cpython-38.pyc\n",
      "creating build/bdist.linux-x86_64/egg/EGG-INFO\n",
      "copying k1lib.egg-info/PKG-INFO -> build/bdist.linux-x86_64/egg/EGG-INFO\n",
      "copying k1lib.egg-info/SOURCES.txt -> build/bdist.linux-x86_64/egg/EGG-INFO\n",
      "copying k1lib.egg-info/dependency_links.txt -> build/bdist.linux-x86_64/egg/EGG-INFO\n",
      "copying k1lib.egg-info/top_level.txt -> build/bdist.linux-x86_64/egg/EGG-INFO\n",
      "zip_safe flag not set; analyzing archive contents...\n",
      "creating dist\n",
      "creating 'dist/k1lib-0.1.0-py3.8.egg' and adding 'build/bdist.linux-x86_64/egg' to it\n",
      "removing 'build/bdist.linux-x86_64/egg' (and everything under it)\n",
      "Processing k1lib-0.1.0-py3.8.egg\n",
      "Copying k1lib-0.1.0-py3.8.egg to /home/kelvin/anaconda3/envs/torch/lib/python3.8/site-packages\n",
      "Adding k1lib 0.1.0 to easy-install.pth file\n",
      "\n",
      "Installed /home/kelvin/anaconda3/envs/torch/lib/python3.8/site-packages/k1lib-0.1.0-py3.8.egg\n",
      "Processing dependencies for k1lib==0.1.0\n",
      "Finished processing dependencies for k1lib==0.1.0\n"
     ]
    }
   ],
   "source": [
    "!../export.py _basics"
   ]
  },
  {
   "cell_type": "code",
   "execution_count": 23,
   "metadata": {},
   "outputs": [],
   "source": [
    "a = Object()"
   ]
  },
  {
   "cell_type": "code",
   "execution_count": 38,
   "metadata": {},
   "outputs": [],
   "source": [
    "a = Object().withAutoDeclare(lambda: [])\n",
    "setattr(a, \"min\", 3)\n",
    "#a.min = 3"
   ]
  },
  {
   "cell_type": "code",
   "execution_count": 24,
   "metadata": {},
   "outputs": [],
   "source": [
    "a.min = 3"
   ]
  },
  {
   "cell_type": "code",
   "execution_count": 25,
   "metadata": {},
   "outputs": [
    {
     "data": {
      "text/plain": [
       "3"
      ]
     },
     "execution_count": 25,
     "metadata": {},
     "output_type": "execute_result"
    }
   ],
   "source": [
    "a.min"
   ]
  },
  {
   "cell_type": "code",
   "execution_count": 34,
   "metadata": {},
   "outputs": [
    {
     "ename": "AttributeError",
     "evalue": "",
     "output_type": "error",
     "traceback": [
      "\u001b[0;31m---------------------------------------------------------------------------\u001b[0m",
      "\u001b[0;31mAttributeError\u001b[0m                            Traceback (most recent call last)",
      "\u001b[0;32m<ipython-input-34-03a8194eca58>\u001b[0m in \u001b[0;36m<module>\u001b[0;34m\u001b[0m\n\u001b[0;32m----> 1\u001b[0;31m \u001b[0ma\u001b[0m \u001b[0;34m=\u001b[0m \u001b[0mObject\u001b[0m\u001b[0;34m(\u001b[0m\u001b[0;34m)\u001b[0m\u001b[0;34m;\u001b[0m \u001b[0ma\u001b[0m\u001b[0;34m.\u001b[0m\u001b[0mmin\u001b[0m\u001b[0;34m\u001b[0m\u001b[0;34m\u001b[0m\u001b[0m\n\u001b[0m",
      "\u001b[0;32m<ipython-input-2-9251a4dc7c91>\u001b[0m in \u001b[0;36m__getattr__\u001b[0;34m(self, attr)\u001b[0m\n\u001b[1;32m     17\u001b[0m     \u001b[0;32mdef\u001b[0m \u001b[0m__getattr__\u001b[0m\u001b[0;34m(\u001b[0m\u001b[0mself\u001b[0m\u001b[0;34m,\u001b[0m \u001b[0mattr\u001b[0m\u001b[0;34m)\u001b[0m\u001b[0;34m:\u001b[0m\u001b[0;34m\u001b[0m\u001b[0;34m\u001b[0m\u001b[0m\n\u001b[1;32m     18\u001b[0m         \u001b[0;32mif\u001b[0m \u001b[0mself\u001b[0m\u001b[0;34m.\u001b[0m\u001b[0m_defaultValueGenerator\u001b[0m \u001b[0;34m!=\u001b[0m \u001b[0;32mNone\u001b[0m\u001b[0;34m:\u001b[0m\u001b[0;34m\u001b[0m\u001b[0;34m\u001b[0m\u001b[0m\n\u001b[0;32m---> 19\u001b[0;31m             \u001b[0mself\u001b[0m\u001b[0;34m.\u001b[0m\u001b[0m__dict__\u001b[0m\u001b[0;34m[\u001b[0m\u001b[0mattr\u001b[0m\u001b[0;34m]\u001b[0m \u001b[0;34m=\u001b[0m \u001b[0mself\u001b[0m\u001b[0;34m.\u001b[0m\u001b[0m_defaultValueGenerator\u001b[0m\u001b[0;34m(\u001b[0m\u001b[0;34m)\u001b[0m\u001b[0;34m\u001b[0m\u001b[0;34m\u001b[0m\u001b[0m\n\u001b[0m\u001b[1;32m     20\u001b[0m             \u001b[0;32mreturn\u001b[0m \u001b[0mgetattr\u001b[0m\u001b[0;34m(\u001b[0m\u001b[0mself\u001b[0m\u001b[0;34m,\u001b[0m \u001b[0mattr\u001b[0m\u001b[0;34m)\u001b[0m\u001b[0;34m\u001b[0m\u001b[0;34m\u001b[0m\u001b[0m\n\u001b[1;32m     21\u001b[0m         \u001b[0;32mraise\u001b[0m \u001b[0mAttributeError\u001b[0m\u001b[0;34m\u001b[0m\u001b[0;34m\u001b[0m\u001b[0m\n",
      "\u001b[0;32m<ipython-input-2-9251a4dc7c91>\u001b[0m in \u001b[0;36mraiseException\u001b[0;34m()\u001b[0m\n\u001b[1;32m      3\u001b[0m \u001b[0;32mclass\u001b[0m \u001b[0mObject\u001b[0m\u001b[0;34m:\u001b[0m\u001b[0;34m\u001b[0m\u001b[0;34m\u001b[0m\u001b[0m\n\u001b[1;32m      4\u001b[0m     \u001b[0;32mdef\u001b[0m \u001b[0m__init__\u001b[0m\u001b[0;34m(\u001b[0m\u001b[0mself\u001b[0m\u001b[0;34m)\u001b[0m\u001b[0;34m:\u001b[0m\u001b[0;34m\u001b[0m\u001b[0;34m\u001b[0m\u001b[0m\n\u001b[0;32m----> 5\u001b[0;31m         \u001b[0;32mdef\u001b[0m \u001b[0mraiseException\u001b[0m\u001b[0;34m(\u001b[0m\u001b[0;34m)\u001b[0m\u001b[0;34m:\u001b[0m \u001b[0;32mraise\u001b[0m \u001b[0mAttributeError\u001b[0m\u001b[0;34m\u001b[0m\u001b[0;34m\u001b[0m\u001b[0m\n\u001b[0m\u001b[1;32m      6\u001b[0m         \u001b[0mself\u001b[0m\u001b[0;34m.\u001b[0m\u001b[0m_defaultValueGenerator\u001b[0m \u001b[0;34m=\u001b[0m \u001b[0mraiseException\u001b[0m\u001b[0;34m\u001b[0m\u001b[0;34m\u001b[0m\u001b[0m\n\u001b[1;32m      7\u001b[0m     \u001b[0;34m@\u001b[0m\u001b[0mstaticmethod\u001b[0m\u001b[0;34m\u001b[0m\u001b[0;34m\u001b[0m\u001b[0m\n",
      "\u001b[0;31mAttributeError\u001b[0m: "
     ]
    }
   ],
   "source": [
    "a = Object(); a.min"
   ]
  },
  {
   "cell_type": "code",
   "execution_count": 32,
   "metadata": {},
   "outputs": [],
   "source": [
    "a = Object.fromDict({\"a\": 3})"
   ]
  },
  {
   "cell_type": "code",
   "execution_count": 33,
   "metadata": {},
   "outputs": [
    {
     "data": {
      "text/plain": [
       "3"
      ]
     },
     "execution_count": 33,
     "metadata": {},
     "output_type": "execute_result"
    }
   ],
   "source": [
    "a.a"
   ]
  },
  {
   "cell_type": "code",
   "execution_count": null,
   "metadata": {},
   "outputs": [],
   "source": []
  }
 ],
 "metadata": {
  "kernelspec": {
   "display_name": "Python 3",
   "language": "python",
   "name": "python3"
  },
  "language_info": {
   "codemirror_mode": {
    "name": "ipython",
    "version": 3
   },
   "file_extension": ".py",
   "mimetype": "text/x-python",
   "name": "python",
   "nbconvert_exporter": "python",
   "pygments_lexer": "ipython3",
   "version": "3.8.5"
  },
  "toc-autonumbering": true
 },
 "nbformat": 4,
 "nbformat_minor": 4
}
