{
 "cells": [
  {
   "cell_type": "code",
   "execution_count": 1,
   "id": "98db45bc",
   "metadata": {},
   "outputs": [
    {
     "data": {
      "text/html": [
       "<style>\n",
       "    div.jp-OutputArea-output pre {white-space: pre;}\n",
       "    div.output_area pre {white-space: pre;}\n",
       "    div.CodeMirror > div.highlight {overflow-y: auto;}\n",
       "</style>"
      ],
      "text/plain": [
       "<IPython.core.display.HTML object>"
      ]
     },
     "metadata": {},
     "output_type": "display_data"
    }
   ],
   "source": [
    "from k1lib.imports import *"
   ]
  },
  {
   "cell_type": "code",
   "execution_count": 2,
   "id": "c1c37fbc",
   "metadata": {},
   "outputs": [],
   "source": [
    "def mag(v): return math.sqrt((v**2).sum())\n",
    "def norm(v): return v/mag(v)\n",
    "def angleV(v1, v2):\n",
    "    return math.acos(norm(v1) @ norm(v2)) * 180 / math.pi\n",
    "def angleA(a1, a2, a3):\n",
    "    x1 = s.x(a1); x2 = s.x(a2); x3 = s.x(a3)\n",
    "    return angleV(x2 - x1, x2 - x3)\n",
    "def magA(a1, a2):\n",
    "    return mag(s.x(a1) - s.x(a2))"
   ]
  },
  {
   "cell_type": "code",
   "execution_count": 3,
   "id": "8c93ecad",
   "metadata": {},
   "outputs": [],
   "source": [
    "settings.mo.overOctet = True"
   ]
  },
  {
   "cell_type": "code",
   "execution_count": 4,
   "id": "efb68e06-1b8e-4905-87e8-22ff65f73df6",
   "metadata": {},
   "outputs": [
    {
     "name": "stdout",
     "output_type": "stream",
     "text": [
      "No    Formula   Name                                Molwt     Tfp (K)   Tb (K)   Tc (K)   Pc (bar)   Vc    Zc      Omega   Dipm   CpA     CpB      CpC          CpD         dHf       dGf       Eq   VpA        VpB       VpC        VpD        Tmin   Tmax    Lden    Tden   \n",
      "182   C3H3F5    1,1,1,2,2-pentafluoropropane        134.047             255.7    380.1    31.4       273   0.271   0.308                                                                        0                                                                             \n",
      "149   C2H3Cl3   1,1,1-trichloroethane               133.405   240       347.2    545      43                       0.217   1.7                                                                  1    -7.31317   2.04642   -3.77747   -0.45475   247    545     1.339   298    \n",
      "152   C2H3F3    1,1,1-trifluoroethane               84.041    161.9     225.6    346.3    37.6       194   0.253   0.251   2.3    5.744   0.3141   -0.0002597   8.415E-08   -746100   -679200   1    -7.87141   2.78418   -4.55799   0.56876    163    346.3                  \n",
      "130   C2Cl4F2   1,1,2,2-tetrachlorodifluoroethane   203.831   298       366      551      38.7                                                                                                  1    -7.80715   1.69009   -3.12042   -3.29269   299    551     1.65    298    \n",
      "143   C2H2Cl4   1,1,2,2-tetrachloroethane           167.85    237       419.4    661.2    58.4                             1.5    27.67   0.3251   -0.0002974   1.028E-07   -152800   -85830    1    -7.98542   2.49931   -4.07076   -0.6918    303    661.2   1.6     293    \n",
      "150   C2H3Cl3   1,1,2-trichloroethane               133.405   235.8     386.7    606      51.4                             1.4    6.322   0.3431   -0.0002958   9.793E-08   -138600   -77540    1    -7.71341   2.15518   -3.96435   -0.54604   323    606     1.441   293    \n",
      "469   C8H16     1,1,2-trimethylcyclopentane         112.216             386.9    579.5    29.4                     0.252                                                                        1    -7.01985   1.06194   -3.15886   -1.64858   309    579.5                  \n",
      "470   C8H16     1,1,3-trimethylcyclopentane         112.216             378      569.5    28.3                     0.211                                                                        1    -6.97215   1.62353   -4.90587   2.76293    302    569.5                  \n",
      "157   C2H4Cl2   1,1-dichloroethane                  98.96     176.2     330.5    523      50.7       236   0.275   0.24    2      12.47   0.2696   -0.000205    6.301E-08   -130000   -73140    2    49.613     5422.68   -5.726     2380       280    523     1.168   298    \n"
     ]
    }
   ],
   "source": [
    "t = k1lib.Wrapper(kcsv.cat(\"props.csv\") | apply(op().replace(\"\\ufeff\", \"\"), 0) | apply(op().strip(), 2) | deref())\n",
    "t() | display()"
   ]
  },
  {
   "cell_type": "code",
   "execution_count": 6,
   "id": "f3917bf2",
   "metadata": {},
   "outputs": [
    {
     "name": "stdout",
     "output_type": "stream",
     "text": [
      "1    AlBr3   aluminum tribromide    \n",
      "2    AlCl3   aluminum trichloride   \n",
      "3    AlI3    aluminum triiodide     \n",
      "4    Ar      argon                  \n",
      "5    As      arsenic                \n",
      "6    AsCl3   arsenic trichloride    \n",
      "7    BBr3    boron tribromide       \n",
      "8    BCl3    boron trichloride      \n",
      "9    BF3     boron trifluoride      \n",
      "10   BI3     boron triiodide        \n"
     ]
    },
    {
     "data": {
      "text/plain": [
       "(618, 3)"
      ]
     },
     "execution_count": 6,
     "metadata": {},
     "output_type": "execute_result"
    }
   ],
   "source": [
    "names = k1lib.Wrapper(t() | columns()[:3] | sort() | deref())\n",
    "names() | display(); names() | shape()"
   ]
  },
  {
   "cell_type": "code",
   "execution_count": 7,
   "id": "e86d5bb2-7efa-49e5-90af-13baea256095",
   "metadata": {},
   "outputs": [
    {
     "name": "stdout",
     "output_type": "stream",
     "text": [
      "33    F2N2      cis-difluorodiazine                \n",
      "34    F2N2      trans-difluorodiazine              \n",
      "141   C2H2Cl2   cis-1,2-dichloroethene             \n",
      "142   C2H2Cl2   trans-1,2-dichloroethene           \n",
      "526   C9H18     1,trans-3,5-trimethylcyclohexane   \n",
      "557   C10H18    cis-decalin                        \n",
      "558   C10H18    trans-decalin                      \n"
     ]
    },
    {
     "data": {
      "text/plain": [
       "(None, (22,))"
      ]
     },
     "execution_count": 7,
     "metadata": {},
     "output_type": "execute_result"
    }
   ],
   "source": [
    "ids = names() | expandE(lambda s: (s, re.search(mo.parseM.cis_trans, s)), 2) | filt(op()!=None, 3) | cut(0) | deref() | aS(set) | aS(list) # \"cis trans\" at end\n",
    "names() | filt(lambda s: \"trans\" in s or \"cis\" in s, 2) | ~inSet(ids, 0) | display(None), ids | shape() # \"cis trans\" not at end"
   ]
  },
  {
   "cell_type": "code",
   "execution_count": 8,
   "id": "83d400b6",
   "metadata": {},
   "outputs": [
    {
     "name": "stdout",
     "output_type": "stream",
     "text": [
      "68    Xe        xenon                        \n",
      "74    HF2N      difluoroamine                \n",
      "87    CBrClF2   bromochlorodifluoromethane   \n",
      "88    CBr2F2    dibromodifluoromethane       \n",
      "89    CBrF3     trifluorobromomethane        \n",
      "90    CClF3     chlorotrifluoromethane       \n",
      "91    CCl2F2    dichlorodifluoromethane      \n",
      "93    CCl3F     trichlorofluoromethane       \n",
      "95    CD4       deutromethane                \n",
      "101   CHClF2    chlorodifluoromethane        \n"
     ]
    },
    {
     "data": {
      "text/plain": [
       "(340, 3)"
      ]
     },
     "execution_count": 8,
     "metadata": {},
     "output_type": "execute_result"
    }
   ],
   "source": [
    "passedMain = k1lib.Wrapper(names() | expandE(lambda s: (s, re.search(mo.parseM.main, s)), 2) | filt(op()!=None, 3) | cut()[:3] | deref()); passedMain() | display(); passedMain() | shape()"
   ]
  },
  {
   "cell_type": "code",
   "execution_count": 9,
   "id": "ec94cc42-23d6-4534-be32-dca939ad1b7c",
   "metadata": {},
   "outputs": [
    {
     "name": "stdout",
     "output_type": "stream",
     "text": [
      "68    Xe        xenon                           \n",
      "95    CD4       deutromethane                   \n",
      "176   C2H7NO    monoethanolamine                \n",
      "177   C2H8N2    ethylenediamine                 \n",
      "200   C3H6O     vinyl methyl ether              \n",
      "245   C4H8O     vinyl ethyl ether               \n",
      "267   C4H10O2   1,2-dimethoxyethane             \n",
      "331   C6F14     perfluoro-2,3-dimethlybutane    \n",
      "387   C6H14O    methyl amyl ether               \n",
      "451   C8H10O    ethyl pheny ether               \n",
      "544   C10H12    1,2,3,4-tetrahydronaphthalene   \n",
      "576   C11H22    n-hexylcylopentane              \n"
     ]
    }
   ],
   "source": [
    "passedStrict = k1lib.Wrapper(names() | expandE(lambda s: (s, re.search(mo.parseM.fullStrictC, s)), 2) | filt(op()!=None, 3) | cut()[:3] | deref())\n",
    "passed = k1lib.Wrapper(names() | expandE(lambda s: (s, re.search(mo.parseM.fullC, s)), 2) | filt(op()!=None, 3) | cut()[:3] | deref())\n",
    "passed() | ~inSet(passedStrict()|cut(0)|aS(set), 0) | display(None) # does not pass strict, but does pass normal"
   ]
  },
  {
   "cell_type": "markdown",
   "id": "94c26ca3",
   "metadata": {},
   "source": [
    "Recap:"
   ]
  },
  {
   "cell_type": "code",
   "execution_count": 10,
   "id": "11c4854a",
   "metadata": {},
   "outputs": [
    {
     "data": {
      "text/plain": [
       "[618, 340, 340, 328]"
      ]
     },
     "execution_count": 10,
     "metadata": {},
     "output_type": "execute_result"
    }
   ],
   "source": [
    "[names(), passedMain(), passed(), passedStrict()] | shape(0).all() | deref()"
   ]
  },
  {
   "cell_type": "code",
   "execution_count": 11,
   "id": "cddad8bf",
   "metadata": {},
   "outputs": [
    {
     "data": {
      "text/plain": [
       "[328, 115, 112]"
      ]
     },
     "execution_count": 11,
     "metadata": {},
     "output_type": "execute_result"
    }
   ],
   "source": [
    "groupSamples = k1lib.Wrapper(passedStrict() | apply(mo.parseM.recognizeInit, 2) | cut(2) | cut(1) | joinStreams() | op().strip().all() | aS(set) | sort(numeric=False) | deref())\n",
    "mainSamples = k1lib.Wrapper(passedStrict() | apply(mo.parseM.recognizeInit, 2) | cut(2) | cut(0) | apply(lambda x: x or \"\").all() | deref().all() | unique(0) | deref())\n",
    "[passedStrict(), groupSamples(), mainSamples()] | shape(0).all() | deref()"
   ]
  },
  {
   "cell_type": "markdown",
   "id": "92021d63",
   "metadata": {},
   "source": [
    "Quality assurance:"
   ]
  },
  {
   "cell_type": "code",
   "execution_count": 12,
   "id": "a1b0eea0",
   "metadata": {},
   "outputs": [],
   "source": [
    "assert passedStrict() | apply(mo.parseM.recognizeInit, 2) | instanceOf(str, 2) | shape(0) == 0 # every passedStrict MUST run through recognize fine\n",
    "assert groupSamples() | apply(lambda s: re.fullmatch(mo.parseM.branchC, s)) | filt(op()==None) | shape(0) == 0\n",
    "assert mainSamples()  | apply(lambda s: re.fullmatch(mo.parseM.mainC, s[0])) | filt(op()==None) | shape(0) == 0"
   ]
  },
  {
   "cell_type": "markdown",
   "id": "df794c58",
   "metadata": {},
   "source": [
    "92% chance of main recognition! Other cases are sort of weird, but that's quite outstanding!"
   ]
  },
  {
   "cell_type": "code",
   "execution_count": 13,
   "id": "d86194e2",
   "metadata": {},
   "outputs": [
    {
     "data": {
      "text/plain": [
       "(92.85714285714286,\n",
       " ['amine',\n",
       "  'ether',\n",
       "  'pyridine',\n",
       "  'cyclopentanone',\n",
       "  'benzene',\n",
       "  'cyclohexanone',\n",
       "  'benzaldehyde',\n",
       "  'naphthalene'])"
      ]
     },
     "execution_count": 13,
     "metadata": {},
     "output_type": "execute_result"
    }
   ],
   "source": [
    "failedRecMain = mainSamples() | apply(mo.parseM.recognizeMain) | ~instanceOf(mo.Atom) | deref()\n",
    "ratio = 100 - (failedRecMain | shape(0)) / (mainSamples() | shape(0)) * 100; ratio, failedRecMain"
   ]
  },
  {
   "cell_type": "code",
   "execution_count": 14,
   "id": "ce5923d5",
   "metadata": {},
   "outputs": [],
   "source": [
    "assert ratio > 90"
   ]
  },
  {
   "cell_type": "markdown",
   "id": "f082bd35",
   "metadata": {},
   "source": [
    "98% chance of group recognition!"
   ]
  },
  {
   "cell_type": "code",
   "execution_count": 15,
   "id": "722923d3",
   "metadata": {},
   "outputs": [
    {
     "name": "stdout",
     "output_type": "stream",
     "text": [
      "nitro\n",
      "perfluoro\n"
     ]
    },
    {
     "data": {
      "text/plain": [
       "98.26086956521739"
      ]
     },
     "execution_count": 15,
     "metadata": {},
     "output_type": "execute_result"
    }
   ],
   "source": [
    "failedRecGroup = groupSamples() | apply(partial(mo.parseM.recognizeGroup, mainA=None)) | ~instanceOf(mo.Atom) | deref(); failedRecGroup | headOut()\n",
    "ratio = 100 - (failedRecGroup | shape(0)) / (groupSamples() | shape(0)) * 100; ratio"
   ]
  },
  {
   "cell_type": "code",
   "execution_count": 16,
   "id": "aaad1fd1",
   "metadata": {},
   "outputs": [],
   "source": [
    "assert ratio > 98"
   ]
  },
  {
   "cell_type": "markdown",
   "id": "28e3a52b",
   "metadata": {},
   "source": [
    "73% chance of end-to-end recognition. Not the greatest in the world, but still quite awesome!"
   ]
  },
  {
   "cell_type": "code",
   "execution_count": 17,
   "id": "b22052c4",
   "metadata": {},
   "outputs": [
    {
     "data": {
      "text/plain": [
       "(73.47560975609755, (241, 3))"
      ]
     },
     "execution_count": 17,
     "metadata": {},
     "output_type": "execute_result"
    }
   ],
   "source": [
    "fullyRecognized = k1lib.Wrapper(passedStrict() | apply(partial(mo.parse, quiet=True), 2) | instanceOf(mo.Atom, 2) | deref())\n",
    "ratio = (fullyRecognized() | shape(0)) / (passedStrict() | shape(0)) * 100; ratio, fullyRecognized() | shape()"
   ]
  },
  {
   "cell_type": "code",
   "execution_count": 18,
   "id": "861b3fc9",
   "metadata": {},
   "outputs": [],
   "source": [
    "assert ratio > 73"
   ]
  },
  {
   "cell_type": "markdown",
   "id": "1909133b",
   "metadata": {},
   "source": [
    "39% recognition chance over the entire dataset."
   ]
  },
  {
   "cell_type": "code",
   "execution_count": 19,
   "id": "3b1ba2c2",
   "metadata": {},
   "outputs": [
    {
     "data": {
      "text/plain": [
       "38.933764135702745"
      ]
     },
     "execution_count": 19,
     "metadata": {},
     "output_type": "execute_result"
    }
   ],
   "source": [
    "ratio = (fullyRecognized() | shape(0)) / (t() | shape(0)) * 100; ratio"
   ]
  },
  {
   "cell_type": "code",
   "execution_count": 20,
   "id": "f1d01fad",
   "metadata": {},
   "outputs": [],
   "source": [
    "assert ratio > 38"
   ]
  },
  {
   "cell_type": "markdown",
   "id": "718eaaba",
   "metadata": {},
   "source": [
    "Self-consistency check:"
   ]
  },
  {
   "cell_type": "code",
   "execution_count": 44,
   "id": "b0addc89",
   "metadata": {},
   "outputs": [
    {
     "name": "stderr",
     "output_type": "stream",
     "text": [
      "/tmp/ipykernel_639991/3375504456.py:6: UserWarning: 452, C8H10O, C6H6O\n",
      "  warnings.warn(str(e))\n"
     ]
    }
   ],
   "source": [
    "try:\n",
    "    for _i, _a, _b in zip(*(fullyRecognized() | apply(lambda a: a.empirical(), 2) | transpose() | deref())):\n",
    "        if not mo.sameEmpirical(_a, _b):\n",
    "            raise RuntimeError(f\"{_i}, {_a}, {_b}\")\n",
    "except RuntimeError as e:\n",
    "    warnings.warn(str(e))"
   ]
  },
  {
   "cell_type": "markdown",
   "id": "7002a49a",
   "metadata": {},
   "source": [
    "Everything else not recognized:"
   ]
  },
  {
   "cell_type": "code",
   "execution_count": 24,
   "id": "f135cf9b",
   "metadata": {},
   "outputs": [
    {
     "name": "stdout",
     "output_type": "stream",
     "text": [
      "No    Formula    Name                                 Molwt     Tfp (K)   Tb (K)   Tc (K)   Pc (bar)   Vc      Zc      Omega    Dipm       CpA       CpB           CpC            CpD            dHf        dGf        Eq   VpA         VpB           VpC          VpD          Tmin   Tmax    Lden     Tden   \n",
      "544   C10H12     1,2,3,4-tetrahydronaphthalene        132.206   242       480.7    719      35.1                       0.303                                                                     2760       167100     3    9.5883      4009.49       -64.89                    365    500     0.973    293    \n",
      "471   C8H16      1,2,4-trimethylcyclopentane-c,c,t    112.216             391      579      29                         0.277                                                                                           3    9.1341      3073.95       -54.2                     283    418                     \n",
      "472   C8H16      1,2,4-trimethylcyclopentane-c,t,c    112.216             382.4    571      28                         0.246                                                                                           3    9.1554      3009.7        -53.23                    282    417                     \n",
      "267   C4H10O2    1,2-dimethoxyethane                  90.123    202       358      536      38.7       271     0.235   0.358    0          32.23     0.3567        -0.0001336     8.399E-09                            3    9.4039      2869.79       -53.15                    262    393     0.867    293    \n",
      "211   C3H8O2     1,2-propanediol                      76.096    213       460.5    625      60.7       237     0.28             3.6        0.6322    0.4212        -0.0002981     8.951E-08      -424200               3    13.9122     6091.95       -22.46                    357    483     1.036    293    \n",
      "199   C3H6O      1,2-propylene oxide                  58.08     161       308      482.2    49.2       186     0.229   0.269    2          -8.457    0.3257        -0.0001989     4.823E-08      -92820     -25800     1    -6.97569    0.6365        -1.49187     -6.37743     249    482.2   0.829    293    \n",
      "212   C3H8O2     1,3-propanediol                      76.096    246.4     487.6    724      89.5                                3.7        8.269     0.3676        -0.0002162     5.053E-08      -409100               1    -10.20156   2.93938       -6.69889     5.49989      332    724     1.053    293    \n",
      "248   C4H8O2     1,4-dioxane                          88.107    285       374.6    587      52.1       238     0.254   0.281    0.4        -53.57    0.5987        -0.0004085     1.062E-07      -315300    -180900    3    9.5125      2966.88       -62.15                    275    410     1.033    293    \n",
      "396   C7H35      2,3,4,5,6-pentafluorotoluene         182.091             390.7    566.5    31.3       384     0.255   0.415                                                                                           1    -8.05688    1.46673       -3.82439     -2.78727     313    566.5                   \n",
      "279   C5H6O      2-methyl furan                       82.102              338      527      47.2       247     0.266   0.27     0.7                                                                                    0                                                                       0.913    293    \n",
      "278   C5H6N2     2-methyl pyrazine                    94.117              410      634.3    50.1       283     0.268   0.315                                                                                           0                                                                       1.044    273    \n",
      "301   C5H10O     2-methyl tetrahydrofuran             86.134              351      537      37.6       267     0.225   0.264                                                                                           0                                                                       0.855    293    \n",
      "160   C2H4O      acetaldehyde                         44.054    150.2     294      461      55.7       154     0.22    0.303    2.5        7.716     0.1823        -0.0001007     2.38E-08       -164400    -133400    1    -7.04687    0.12142       -0.0266037   -5.903       273    461     0.778    293    \n",
      "162   C2H4O2     acetic acid                          60.052    289.8     391.1    592.7    57.9       171     0.201   0.447    1.3        4.84      0.2549        -0.0001753     4.949E-08      -435100    -376900    1    -7.83183    0.000551929   0.24709      -8.50462     304    592.7   1.049    293    \n",
      "231   C4H6O3     acetic anhydride                     102.089   199       413.2    569      46.8                       0.908    3          -23.13    0.5087        -0.000358      9.835E-08      -576100    -477000    1    -18.1529    18.3036       -20.0953     16.697       336    569     1.087    293    \n",
      "196   C3H6O      acetone                              58.08     178.2     329.2    508.1    47         209     0.232   0.304    2.9        6.301     0.2606        -0.0001253     2.038E-08      -217700    -153200    1    -7.45514    1.202         -2.43926     -3.3559      259    508.1   0.79     293    \n",
      "153   C2H3N      acetonitrile                         41.053    229.3     354.8    545.5    48.3       173     0.184   0.327    3.5        20.48     0.1196        -0.00004492    3.203E-09      87920      105700     2    40.774      5392.43       -4.357       2615         300    545.5   0.782    293    \n",
      "148   C2H3ClO    acetyl chloride                      78.498    160.2     323.9    508      58.7       204     0.28    0.344    2.4        25.02     0.1711        -0.00009856    2.219E-08      -244100    -206400    1    -7.94455    1.81437       -2.09194     -1.98959     267    508     1.104    293    \n",
      "140   C2H2       acetylene                            26.038              188.4    308.3    61.4       112.7   0.27    0.19     0          26.82     0.07578       -0.00005007    1.412E-08      226900     209300     1    -6.90128    1.26873       -2.09113     -2.75601     192    308.3   0.615    189    \n",
      "187   C3H4O      acrolein                             56.064    186       326      506      51.6                       0.33     2.9        11.97     0.2106        -0.0001071     1.906E-08      -70920     -65190     3    9.2855      2606.53       -45.15                    235    360     0.839    293    \n",
      "188   C3H4O2     acrylic acid                         72.064    285       414      615      56.7       210     0.23    0.56                1.742     0.3191        -0.0002352     6.975E-08      -336500    -286300    3    9.9415      3319.18       -80.15                    315    450     1.051    293    \n",
      "183   C3H3N      acrylonitrile                        53.064    189.5     350.5    536      45.6       210     0.21    0.35     3.5        10.69     0.2208        -0.0001565     4.601E-08      185100     195400     3    9.3051      2782.21       -51.15                    255    385     0.806    293    \n",
      "197   C3H6O      allyl alcohol                        58.08     144       370.2    543                                                     -1.105    0.3146        -0.0002032     5.321E-08      -132100    -71300     3    10.2864     2928.2        -85.15                    286    400     0.855    288    \n",
      "190   C3H5Cl     allyl chloride                       76.526    138.7     318.3    514      47.6       234     0.26    0.13     2          2.529     0.3047        -0.0002278     7.293E-08      -628       43630      1    -6.76334    2.5073        -7.64033     11.6666      286    514     0.937    293    \n",
      "224   C4H5N      allyl cyanide                        67.091    186.7     392      585      39.5       265     0.22    0.39     3.4        21.7      0.2572        -0.0001192     1.229E-08                            3    9.3817      3128.75       -58.15                    400    430     0.835    293    \n",
      "513   C9H10      alpha-methylstyrene                  118.179             438.5    654      34                                             -24.33    0.6933        -0.000453      1.181E-07                            3    9.7106      3644.3        -67.15                    348    493     0.911    293    \n",
      "1     AlBr3      aluminum tribromide                  266.694   370.7     528      763      28.9       310     0.141   0.399    5          64.9      0.06098       -0.00007306    2.978E-08      -423300    -452200    0                                                                                       \n",
      "2     AlCl3      aluminum trichloride                 133.341   467       453      620      26.3       259     0.132   0.66     2          50.54     0.1037        -0.0001202     4.793E-08      -584900    -570400    0                                                                       1.31     473    \n",
      "3     AlI3       aluminum triiodide                   407.697   464       655      983                 408                      2.3        62.7      0.06802       -0.00008113    3.298E-08      -205200    -253100    0                                                                                       \n",
      "80    H3N        ammonia                              17.031    195.4     239.8    405.5    113.5      72.5    0.244   0.25     1.5        27.31     0.02383       0.00001707     -1.185E-08     -45730     -16160     2    45.327      4104.67       -5.146       615          220    405.5   0.639    273    \n",
      "82    H4ClN      ammonium chloride                    53.492              793      882      16.4                       3.92                                                                                            0                                                                                       \n",
      "377   C6H12O2    amyl formate                         116.16    199.7     403.6    576      34.6                       0.538                                                                                           0                                                                       0.902    273    \n",
      "345   C6H7N      aniline                              93.129    267       457.6    699      53.1       274     0.25    0.384    1.6        -40.52    0.6385        -0.0005133     1.633E-07      86920      166800     1    -7.65517    0.85386       -2.51602     -5.96795     376    699     1.022    293    \n",
      "592   C14H10     anthracene                           178.234   489.7     613.1    869.3               554                      0          -58.98    1.006         -0.0006594     1.606E-07      224800                3    11.0499     6492.44       -26.13                    490    655                     \n",
      "4     Ar         argon                                39.948    83.8      87.3     150.8    48.7       74.9    0.291   0.001    0          20.8                                                  0          0          1    -5.90501    1.12627       -0.76787     -1.62721     84     150.8   1.373    90     \n",
      "5     As         arsenic                              74.922              888      1673     223        34.9    0.056   0.121                                                                                           0                                                                                       \n",
      "6     AsCl3      arsenic trichloride                  181.281   264.7     403      654                 252                      1.6                                                                                    0                                                                       2.163    293    \n",
      "79    H3AS       arsine                               77.946    159.7     218      373.1                                        0.2                                                              182500     157800     0                                                                       1.604    209    \n",
      "399   C7H6O2     benzoic acid                         122.124   395.6     523      752      45.6       341     0.25    0.62     1.7        -51.29    0.6293        -0.0004237     1.062E-07      -290400    -210600    3    10.5432     4190.7        -125.2                    405    560     1.075    403    \n",
      "397   C7H5N      benzonitrile                         103.124   260       464.3    699.4    42.2                       0.362    3.5        -26.05    0.5732        -0.000443      1.349E-07      219000     261000     2    53.154      7912.31       -5.881       4898         340    699.4   1.01     288    \n",
      "402   C7H8O      benzyl alcohol                       108.14    257.8     478.6    720.2    44                                  1.7        -7.398    0.5481        -0.0003357     7.771E-08      -94080                1    -7.09506    1.18389       -9.14255     5.56311      303    720.2   1.041    298    \n",
      "7     BBr3       boron tribromide                     250.568   227       364      581                 272                      0          43.31     0.116         -0.0001267     4.849E-08      -204300    -231200    0                                                                       2.643    291    \n",
      "8     BCl3       boron trichloride                    117.191   165.9     285.8    455      38.7       239.5   0.245   0.14     0          32.61     0.139         -0.0001461     5.439E-08      -403200    -388200    2    46.103      4443.16       -5.404       2228         230    455     1.349    284    \n",
      "9     BF3        boron trifluoride                    67.805    146.5     172      260.8    49.9       114.7   0.264   0.393    0          18.58     0.1399        -0.0001217     3.916E-08      -1136000   -1120000   2    61.138      3481.19       -7.963       576          160    260.8   2.811    293    \n",
      "10    BI3        boron triiodide                      391.55    323.1     483      773                 356                                 49.37     0.1028        -0.0001159     4.529E-08      71180      20890      0                                                                       3.35     323    \n",
      "11    Br2        bromine                              159.808   266       331.9    588      103        127.2   0.268   0.108    0.2        33.86     0.01125       -0.00001192    4.534E-09      30930      3136       3    9.2239      2582.32       -51.56                    259    354     3.119    293    \n",
      "574   C11H14O2   butyl benzoate                       178.232   251       523      723      26         561     0.25    0.58                -17.37    0.8657        -0.000461      7.253E-08                            3    9.7161      4158.47       -94.15                    390    570     1.006    293    \n",
      "234   C4H7N      butyronitrile                        69.107    161       391.1    582.2    37.9                       0.373    3.8        15.21     0.3206        -0.0001638     2.982E-08      34100      108700     2    49.985      6476.68       -5.599       3770         320    582.2   0.792    293    \n",
      "352   C6H11N     capronitrile                         97.161    194       436.8    622      32.5                       0.524    3.5                                                                                    3    9.7814      3677.63       -60.4                     363    438     0.809    288    \n",
      "560   C10H19N    caprylonitrile                       153.269   255.3     516      622      32.5                                                                                                                       0                                                                       0.82     293    \n",
      "99    CO2        carbon dioxide                       44.01     216.6              304.1    73.8       93.9    0.274   0.239    0          19.8      0.07344       -0.00005602    1.715E-08      -393800    -394600    1    -6.95626    1.19695       -3.12614     2.99448      217    304.1                   \n",
      "100   CS2        carbon disulfide                     76.131    161.3     319      552      79         160     0.276   0.109    0          27.44     0.08127       -0.00007666    2.673E-08      117100     66950      1    -6.63896    1.20395       -0.37653     -4.3282      277    552     1.293    273    \n",
      "97    CO         carbon monoxide                      28.01     68.1      81.7     132.9    35         93.2    0.295   0.066    0.1        30.87     -0.01285      0.00002789     -1.272E-08     -110600    -137400    1    -6.20798    1.27885       -1.34533     -2.56842     71     132.9   0.803    81     \n",
      "94    CCl4       carbon tetrachloride                 153.823   250       349.9    556.4    45.6       275.9   0.272   0.193    0          40.72     0.2049        -0.000227      8.843E-08      -100500    -58280     1    -7.07139    1.71497       -2.8993      -2.49466     250    556.4   1.584    298    \n",
      "96    CF4        carbon tetrafluoride                 88.005    86.4      145.1    227.6    37.4       139.6   0.276   0.177    0          13.98     0.2026        -0.0001625     4.513E-08      -933700    -889000    3    9.4341      1244.55       -13.06                    93     148     1.33     193    \n",
      "98    COS        carbonyl sulfide                     60.07     134.3     223      378.8    63.5       136.3   0.275   0.105    0.7        23.57     0.07984       -0.00007017    2.453E-08      -138500    -165800    1    -6.40952    1.21015       -1.54976     -2.10074     162    378.8   1.274    174    \n",
      "22    Cl2        chlorine                             70.906    172.2     239.2    416.9    79.8       123.8   0.285   0.09     0          26.93     0.03384       -0.00003869    1.547E-08      0          0          1    -6.34074    1.15037       -1.40416     -2.2322      206    416.9   1.563    239    \n",
      "20    ClF5       chlorine pentafluoride               130.433             260      416      52.7       233     0.355   0.216               30.98     0.3203        -0.0003685     1.462E-07      -238600    -146900    0                                                                                       \n",
      "103   CHCl3      chloroform                           119.378   209.6     334.3    536.4    53.7       238.9   0.293   0.218    1.1        24        0.1893        -0.0001841     6.657E-08      -101300    -68580     1    -6.95546    1.16625       -2.1397      -3.44421     215    536.4   1.489    293    \n",
      "178   C3ClF5O    chloropentafluoroacetone             182.475             281      410.6    28.8                       0.347                                                                                           0                                                                                       \n",
      "557   C10H18     cis-decalin                          138.254   230       468.9    702.3    32                         0.286    0          -112.5    1.118         -0.0006607     1.437E-07      -169100    85870      3    9.211       3671.61       -69.74                    368    495     0.897    293    \n",
      "33    F2N2       cis-difluorodiazine                  66.01               167.5    272      70.9                       0.252               11.21     0.1745        -0.0001688     5.898E-08      68660      108800     0                                                                                       \n",
      "134   C2N2       cyanogen                             52.035    245.3     252      400      59.8                       0.278    0.2        35.94     0.09253       -0.00008148    2.95E-08       309200     297400     2    51.703      4390.8        -6.185       1130         250    400     0.954    252    \n",
      "28    D2         deuterium (equilibrium)              4.032     18.7      23.6     38.2     16.5       60.3    0.313   -0.137   0          30.25     -0.006615     0.0000117      -3.684E-09     0          0          3    6.6752      157.89        0                         19     25      0.165    22.7   \n",
      "29    D2         deuterium (normal)                   4.032     18.6      23.5     38.4     16.6                       -0.16    0                                                                0          0          0                                                                                       \n",
      "30    D2O        deuterium oxide                      20.031    277       374.6    644      216.6      56.6    0.225   0.351    1.9        31.82     0.003045      0.00002033     -9.737E-09     -249400    -234800    0                                                                       1.105    298    \n",
      "95    CD4        deutromethane                        20.071              111.7    189.2    46.6       98.2    0.291   0.032    0          12.49     0.101         -0.00002199    -8.458E-09     -88300     -59540     0                                                                                       \n",
      "86    H6B2       diborane                             27.668    108       185.6    289.8    40.5                       0.217    0                                                                31400      83320      3    8.039       1200.78       -31.22                    118    181     0.47     153    \n",
      "528   C9H18O     dibutyl ketone                       142.242   267.3     461.6    640                                          2.7                                                                                    0                                                                       0.827    286    \n",
      "600   C16H22O4   dibutyl-o-phthalate                  278.35    238       608                                                              1.88      1.254         -0.0006121     6.971E-08                            3    10.3337     4852.47       -138.1                    469    657     1.047    293    \n",
      "270   C4H10S2    diethyl disulfide                    122.244   171.7     427.1    642                                          2          26.9      0.4601        -0.000271      5.97E-08       -74690     22270      3    9.4405      3421.57       -64.19                    312    455     0.998    293    \n",
      "300   C5H10O     diethyl ketone                       86.134    234.2     375.1    561      37.3       336     0.269   0.344    2.7        30.01     0.3939        -0.0001907     3.398E-08      -258800    -135400    1    -7.70542    1.44422       -3.60173     -2.8814      330    561     0.814    293    \n",
      "269   C4H10S     diethyl sulfide                      90.184    169.2     365.3    557      39.6       318     0.272   0.292    1.6        13.59     0.3959        -0.000178      2.649E-08      -83530     17800      3    9.3329      2896.27       -54.49                    260    390     0.837    293    \n",
      "268   C4H10O3    diethylene glycol                    106.122   265       519      681      47                                             73.06     0.3461        -0.0001468     1.846E-08      -571500               3    10.4124     4122.52       -122.5                    402    560     1.116    293    \n",
      "460   C8H14O4    diethylsuccinate                     174.196   251.9     490.9    663                                          2.3                                                                                    0                                                                       1.041    293    \n",
      "288   C5H8O      dihydropyran                         84.118              359      561.7    45.6       268     0.262   0.247    1.4                                                                                    0                                                                                       \n",
      "232   C4H6O4     dimethyl oxalate                     118.09    327       436.5    628      39.8                       0.556                                                                                           0                                                                       1.15     288    \n",
      "173   C2H6S      dimethyl sulphide                    62.13     174.9     310.5    503      55.3       201     0.266   0.191    1.5        24.3      0.1875        -0.00006875    4.099E-09      -37560     6950       1    -6.94973    1.43646       -2.51444     -2.47611     222    503     0.848    293    \n",
      "579   C12H10     diphenyl                             154.212   342.2     529.3    789      38.5       502     0.295   0.372               -97.07    1.106         -0.0008855     0.000000279    182200     280300     1    -7.674      1.23008       -3.67908     -2.29172     342    789     0.99     347    \n",
      "249   C4H8O2     ethyl acetate                        88.107    189.6     350.3    523.2    38.3       286     0.252   0.362    1.9        7.235     0.4072        -0.0002092     2.855E-08      -443200    -327600    1    -7.68521    1.36511       -4.0898      -1.75342     289    523.2   0.901    293    \n",
      "289   C5H8O2     ethyl acrylate                       100.118   201       373      552      37.4       320     0.261   0.4                 16.81     3.69          -0.0001382     -5.732E-09                           3    9.4688      2974.94       -58.15                    274    409     0.921    293    \n",
      "514   C9H10O2    ethyl benzoate                       150.178   238.3     485.9    668.7    23.2                       0.48     -9.32936   20.67     0.6887        -0.0003608     5.062E-08                            1    -9.32936    2.89807       -6.54758     5.56703      317    668.7   1.046    293    \n",
      "164   C2H5Br     ethyl bromide                        108.966   154.6     311.5    503.9    62.3       215     0.32    0.229    2          6.657     0.2348        -0.0001472     3.804E-08      -64060     -26330     1    -9.14807    5.49831       -6.68657     6.27287      301    503.9   1.451    298    \n",
      "374   C6H12O2    ethyl butyrate                       116.16    180       394.7    569      29.6       421     0.263   0.461    1.8        21.51     0.4928        -0.0001938     3.559E-09                            1    -8.00073    1.34045       -3.99843     -3.74347     290    569     0.879    293    \n",
      "165   C2H5Cl     ethyl chloride                       64.515    136.8     285.5    460.4    52.7       199     0.274   0.191    2          -0.5527   0.2606        -0.000184      5.545E-08      -111800    -60040     1    -7.23667    2.11017       -3.53882     0.34775      217    460.4   0.896    293    \n",
      "166   C2H5F      ethyl fluoride                       48.06     129.9     235.5    375.3    50.2       169     0.272   0.215    2          4.346     0.218         -0.0001166     2.41E-08       -261700    -209700    1    -6.82738    0.59267       -0.73934     -3.69185     266    375.3                   \n",
      "202   C3H602     ethyl formate                        74.08     193.8     327.5    508.5    47.4       229     0.257   0.285    2          24.67     0.2316        -0.0000212     -5.359E-08     -371500               1    -7.16968    1.13188       -3.37309     -3.53058     277    508.5   0.927    289    \n",
      "167   C2H5I      ethyl iodide                         155.967   165       345.6    554      47                                  1.7        10.11     0.2253        -0.0001382     3.531E-08      -8370      21350      1    -6.50172    1.05321       -3.16148     -0.64188     290    554     1.95     293    \n",
      "375   C6H12O2    ethyl isobutyrate                    116.16    185       383.2    555      29.7       421     0.271   0.431    2.1                                                                                    1    -8.08582    1.61436       -4.14816     -3.8072      280    555     0.869    293    \n",
      "172   C2H6S      ethyl mercaptan                      62.134    125.3     308.2    499      54.9       207     0.274   0.191    1.5        14.92     0.2351        -0.0001356     3.162E-08      -46140     -4670      1    -6.96578    1.5097        -2.7374      -1.73828     273    499     0.839    293    \n",
      "451   C8H10O     ethyl pheny ether                    122.167   243       443      647      34.2                       0.418    1.2                                                                                    1    -8.50867    2.56997       -5.78999     0.10899      371    647     0.979    277    \n",
      "369   C6H12O     ethyl propyl ketone                  100.16              396.6    582.8    33.2                       0.378                                                                                           3    9.5         3144.85       -65.19                    347    408     0.813    295    \n",
      "155   C2H4       ethylene                             28.054    104       169.3    282.4    50.4       130.4   0.28    0.089    0          3.806     0.1566        -0.00008348    1.755E-08      52340      68160      1    -6.32055    1.16819       -1.55935     -1.83552     105    282.4   0.577    163    \n",
      "171   C2H6O2     ethylene glycol                      62.069    260.2     470.5    645      77                                  2.2        35.7      0.2483        -0.0001497     3.01E-08       -389600    -304700    3    13.6299     6022.18       -28.25                    364    494     1.114    293    \n",
      "161   C2H4O      ethylene oxide                       44.054    161       283.7    469      71.9       140     0.259   0.202    1.9        -7.519    0.2222        -0.0001256     2.592E-08      -52670     -13100     1    -6.56234    0.42696       -1.25638     -3.18133     238    469     0.899    273    \n",
      "177   C2H8N2     ethylenediamine                      60.099    284       390.4    593      62.8       206     0.26    0.51     1.9        38.3      0.2407        -0.00004338    -3.948E-08                           1    -8.82254    2.27867       -3.52636     -6.97579     285    593     0.896    293    \n",
      "32    F2         fluorine                             37.997    53.5      85       144.3    52.2       66.3    0.288   0.054    0          23.22     0.03657       -0.00003613    1.204E-08      0          0          1    -6.18224    1.18062       -1.16555     -1.50167     64     144.3   1.51     85     \n",
      "104   CHF3       fluoroform                           70.013    110       191      299.3    48.6       132.7   0.259   0.26     1.6        8.156     0.1813        -0.0001379     3.938E-08      -697500    -662800    1    -7.41994    1.65884       -3.14962     -0.84938     25     299.3   1.246    239    \n",
      "109   CH2O       formaldehyde                         30.026    156       254      408      65.9                       0.253    2.3        23.48     0.03157       0.00002985     -0.000000023   -116000    -110000    1    -7.29343    1.08395       -1.63882     -2.30677     184    408     0.815    253    \n",
      "110   CH2O2      formic acid                          46.025    281.5     373.8    580                                          1.5        11.71     0.1358        -0.00008411    2.017E-08      -378900    -351200    3    10.368      3599.58       -26.09                    271    409     1.226    288    \n",
      "222   C4H40      furan                                68.075    187.5     304.5    490.2    55         218     0.295   0.209    0.7        -35.53    0.4321        -0.0003455     1.074E-07      -34700     879        3    9.441       2442.7        -45.41                    238    363     0.938    293    \n",
      "276   C5H4O2     furfural                             96.085    234.5     434.9    670      58.9                       0.383    3.6                                                                                    3    8.5214      2760.09       -110.4                    328    434     1.159    293    \n",
      "213   C3H8O3     glycerol                             92.095    291       563      726      66.8       255     0.28             3          8.424     0.4442        -0.0003159     9.378E-08      -585300               3    10.619      4487.04       -140.2                    440    600     1.261    293    \n",
      "47    He         helium-3                             3.017               3.19     3.31     1.14       72.9    0.302   -0.473   0          20.8                                                  0          0          0                                                                                       \n",
      "48    He         helium-4                             4.003               4.25     5.19     2.27       57.4    0.302   -0.365   0          20.8                                                  0          0          1    -3.97466    1.00074       1.50056      -0.4302      2      5.19    0.123    4.3    \n",
      "275   C5H2F6O2   hexafluoroacetylacetone              208.059             327.3    485.1    27.7                       0.278                                                                                           0                                                                                       \n",
      "84    H4N2       hydrazine                            32.045    274.7     386.7    653      147                        0.316    3          9.768     0.1895        -0.0001657     6.025E-08      95250      158600     2    49.476      6951.84       -5.286       1222         350    653     1.008    293    \n",
      "75    H2         hydrogen (equilib)                   2.016     14        20.3     33       12.9       64.3    0.303   -0.216   0          27.14     0.009274      -0.00001381    7.645E-09      0          0          1    -5.57929    2.60012       -0.85506     1.70503      14     33      0.071    20     \n",
      "76    H2         hydrogen (normal)                    2.016     14        20.4     33.2     13         65.1    0.306   -0.218   0                                                                                      0                                                                                       \n",
      "69    HBr        hydrogen bromide                     80.912    187.1     206.8    363.2    85.5                       0.088    0.8        30.65     -0.009462     0.00001722     -6.238E-09     -36260     -53300     2    21.482      2394.35       -1.843       653          200    363.2   2.16     216    \n",
      "70    HCl        hydrogen chloride                    36.461    159       188.1    324.7    83.1       80.9    0.249   0.133    1.1        30.67     -0.007201     0.00001246     -3.898E-09     -92360     -95330     2    31.994      2626.67       -3.443       538          180    324.7   1.193    188    \n",
      "105   HCN        hydrogen cyanide                     27.026    259.9     298.9    456.7    53.9       138.8   0.197   0.388    3          21.86     0.06062       -0.00004961    1.815E-08      130600     120200     2    31.122      4183.37       -3.004       1635         280    456.7   0.688    293    \n",
      "71    HD         hydrogen deuteride                   3.023     16.6      22.1     36       14.8       62.7    0.31    -0.179   0          29.47     -0.001329     0.000001311    1.279E-09      322        -1465      0                                                                                       \n",
      "72    HF         hydrogen fluoride                    20.006    190       293      461      64.8       69.2    0.117   0.329    1.9        29.06     0.0006611     -0.000002032   2.504E-09      -271300    -273400    1    -9.74369    4.68946       -2.98358     9.65825      273    461     0.967    293    \n",
      "73    HI         hydrogen iodide                      127.912   222.4     237.6    424      83.1                       0.049    0.5        31.16     -0.01428      0.00002972     -1.353E-08     26380      1591       2    27.264      3013.08       -2.673       923          235    424     2.8      237    \n",
      "78    H2S        hydrogen sulfide                     34.08     189.6     213.5    373.2    89.4       98.6    0.284   0.081    0.9        31.94     0.001436      0.00002432     -1.176E-08     -20180     -33080     2    36.067      3132.31       -3.985       653          205    373.2   0.993    214    \n",
      "512   C9H10      indane                               118.179             451.1    684.9    39.5                       0.308                                                                                           0                                                                                       \n",
      "50    I2         iodine                               253.82    386.8     457.5    819                 155                      1.3        35.59     0.006515      -0.000006988   2.834E-09      62470      19380      3    9.5395      3709.23       -68.16                    383    487     3.74     453    \n",
      "12    BrI        iodine bromide                       206.813   315       389      719                 139                      1.2        34.02     0.01229       -0.0000142     5.847E-09      409100     3714       0                                                                                       \n",
      "427   C7H14O2    isoamyl acetate                      130.187   194.7     415.7    599                                          1.8                                                                                    3    10.5011     3699.29       -57.54                    311    369     0.876    288    \n",
      "378   C6H12O2    isoamyl formate                      116.16              396.7    578                                                                                                                                 0                                                                       0.882    293    \n",
      "479   C8H16O2    isoamyl propionate                   144.214             433.4    611                                                                                                                                 0                                                                       0.87     293    \n",
      "373   C6H12O2    isobutyl acetate                     116.16    174.3     389.7    564      30.2       414     0.267   0.455    1.9        7.31      0.574         -0.0002576     1.101E-08      -495500               1    -8.12456    1.66934       -4.20511     -3.72813     290    564     0.875    293    \n",
      "480   C8H16O2    isobutyl butyrate                    144.214             430.1    603      24.5                                                                                                                       1    -8.32597    1.4235        -4.25376     -3.09772     310    603     0.863    291    \n",
      "305   C5H10O2    isobutyl formate                     102.134   178       371.4    554      37.3       352     0.285   0.396    1.9        19.85     0.4034        -0.0001436     -7.402E-09                           1    -8.01454    2.05091       -4.38201     -2.8558      270    554     0.885    293    \n",
      "481   C8H16O2    isobutyl isobutyrate                 144.214             421.8    594      24.6                                                                                                                       1    -8.18677    1.322         -3.94343     -3.68833     310    594     0.875    273    \n",
      "428   C7H14O2    isobutyl propionate                  130.187   201.8     410      583      27.7                                                                                                                       1    -8.32761    1.56574       -3.97739     -4.71845     300    583     0.888    273    \n",
      "240   C4H8       isobutylene                          56.108    132.8     266.2    417.9    40         239     0.275   0.194    0.5        16.05     0.2804        -0.0001091     9.098E-09      -16910     58110      1    -6.95542    1.35673       -2.45222     -1.4611      170    417.9   0.594    293    \n",
      "242   C4H8O      isobutyraldehyde                     72.107    208.2     337      513      41.5       274     0.27    0.35                24.46     0.3356        -0.0002057     6.368E-08      -215900    -121400    1    -7.53679    1.08548       -1.52929     -8.48589     286    513     0.789    293    \n",
      "247   C4H8O2     isobutyric acid                      88.107    227.2     427.9    609      40.5       292     0.234   0.623    1.3        9.814     0.4668        -0.000372      0.000000135    -484200               2    76.037      9222.72       -8.986       3863         320    609     0.968    293    \n",
      "208   C3H8O      isopropyl alcohol                    60.096    184.7     355.4    508.3    47.6       220     0.248   0.665    1.7        32.43     0.1885        0.00006406     -9.261E-08     -272600    -173500    1    -8.16927    -0.0943213    -8.1004      7.85         250    508.3   0.786    293    \n",
      "205   C3H7Cl     isopropyl chloride                   78.542    156       308.9    485      47.2       230     0.269   0.232    2.1        1.842     0.3488        -0.0002244     5.862E-08      -146500    -62550     3    9.4182      2490.48       -43.15                    225    340     0.862    293    \n",
      "511   C9H7N      isoquinoline                         129.162   300       516.4    803                                                                                                                                 3    9.2957      3968.37       -88.94                    437    517     1.091    303    \n",
      "304   C5H10O2    isovaleric acid                      102.134             449.7    634                                          1                                                                                      3    2.4671      588.09        -261.9                    359    378     0.925    293    \n",
      "184   C3H3NO     isoxazole                            69.063              368      552                                          2.8                                                                                    0                                                                       1.078    293    \n",
      "145   C2H2O      ketene                               42.038    138       232      380      65         145     0.3     0.21     1.4        6.385     0.1638        -0.0001084     2.698E-08      -61130     -60330     3    9.3995      1849.21       -35.15                    170    255                     \n",
      "53    Kr         krypton                              83.8      115.8     119.9    209.4    55         91.2    0.288   0.005    0          20.8                                                  0          0          2    24.097      1408.77       -2.579       336          115    209.4   2.42     120    \n",
      "404   C7H8O      m-cresol                             108.14    285.4     475.4    705.8    45.6       309     0.24    0.454    1.8        -45.01    0.7264        -0.0006029     2.077E-07      -132400    -40570     1    -8.58506    2.82624       -8.57418     8.74822      423    705.8   1.034    293    \n",
      "566   C10H20O    menthol                              156.269   316       489.5    694                                                                                                                                 0                                                                                       \n",
      "49    Hg         mercury                              200.61    234.3     630      1765     1510       42.7    0.439   -0.167              20.8                                                  61340      31860      0                                                                       13.594   293    \n",
      "203   C3H6O2     methyl acetate                       74.08     175       330.4    506.8    46.9       228     0.254   0.326    1.7        16.55     0.2245        -0.00004342    2.914E-08      -409700               1    -8.05406    2.56375       -5.12994     0.16125      275    506.8   0.934    293    \n",
      "186   C3H4       methyl acetylene                     40.065    170.5     249.9    402.4    56.3       164     0.275   0.215    0.7        14.71     0.1864        -0.0001174     3.224E-08      185600     194600     1    -7.4386     2.62026       -5.76535     7.55261      178    402.4   0.706    223    \n",
      "235   C4H7O2     methyl acrylate                      86.091    196.7     353.5    536      43         265     0.25    0.35                15.16     0.2796        -0.00008805    -1.66E-08                            3    9.4886      2788.43       -59.15                    260    390     0.956    293    \n",
      "387   C6H14O     methyl amyl ether                    102.77              372      546.5    30.4       392     0.262   0.347                                                                                           0                                                                       0.75     298    \n",
      "424   C7H14O     methyl amyl ketone                   114.188             424.2    611.5    34.4                       0.483                                                                                           0                                                                       0.82     288    \n",
      "442   C8H8O2     methyl benzoate                      136.151   260.8     472.2    692      36.4       396     0.25    0.43     1.9        -21.21    0.5501        -0.0001799     4.425E-08      -254000               3    9.607       3751.83       -81.15                    350    516     1.086    293    \n",
      "111   CH3Br      methyl bromide                       94.939    179.5     276.6    464      66.1                                1.8        14.43     0.1091        -0.00005401    0.00000001     -37680     -28180     1    -7.43951    3.15408       -4.67922     2.33796      184    464     1.737    268    \n",
      "370   C6H120     methyl butyl ketone                  100.16    216       400.7    587      33.2                       0.392                                                                                           0                                                                       0.816    288    \n",
      "308   C5H10O2    methyl butyrate                      102.134   188.4     375.9    554.4    34.8       340     0.257   0.38     1.7                                                                                    1    -7.776      1.32028       -3.93963     -3.5311      275    554.4   0.898    293    \n",
      "112   CH3Cl      methyl chloride                      50.488    175.4     249.1    416.3    67         138.9   0.269   0.153    1.9        13.88     0.1014        -0.00003889    2.567E-09      -86370     -62930     1    -6.86672    1.52273       -1.92919     -2.61459     175    416.3   0.915    293    \n",
      "243   C4H8O      methyl ethyl ketone                  72.107    186.5     352.7    536.8    42.1       267     0.252   0.32     3.3        10.94     0.3559        -0.00019       3.92E-08       -238500    -146200    1    -7.71476    1.71061       -3.6877      -0.75169     255    536.8   0.805    293    \n",
      "214   C3H8S      methyl ethyl sulfide                 76.157    167.2     339.8    533      42.6                       0.216               19.53     0.2891        -0.0001209     1.287E-08      -59660     11400      3    9.3563      2722.95       -48.37                    250    360     0.837    293    \n",
      "113   CH3F       methyl fluoride                      34.033    131.4     194.7    315      56         113.2   0.24    0.187    1.8        13.82     0.08616       -0.00002071    -1.985E-09     -234000    -210100    1    -6.78099    0.828379      -1.41137     -2.417       135    315     0.843    213    \n",
      "163   C2H4O2     methyl formate                       60.052    174.2     304.9    487.2    60         172     0.255   0.257    1.8        1.432     0.27          -0.0001949     5.702E-08      -350000    -297400    1    -6.99601    0.89328       -2.52294     -3.16636     220    487.2   0.974    293    \n",
      "120   CH6N2      methyl hydrazine                     46.072              362      567      82.4       271.2   0.474   0.425    1.7                                                              85410      178000     3    8.5222      2319.84       -91.7                     270    400                     \n",
      "114   CH3I       methyl iodide                        141.939   206.7     315.7    528      65.9                                1.6        10.81     0.1389        -0.0001041     3.486E-08      13980      15660      1    -6.51125    0.888786      -1.36624     -3.03652     259    528     2.279    293    \n",
      "371   C6H12O     methyl isobutyl ketone               100.16    189       389.6    571      32.7                       0.385    2.8        3.894     0.5656        -0.0003318     8.231E-08      -284000               1    -8.54349    2.92801       -5.27311     -2.54507     295    571     0.801    293    \n",
      "309   C5H10O2    methyl isobutyrate                   102.134   185.4     365.5    540.8    34.3       339     0.259   0.362    2                                                                                      1    -7.65814    1.29248       -3.85632     -3.4985      270    540.8   0.891    293    \n",
      "154   C2H3NO     methyl isocyanate                    57.052              312      491      55.7                       0.278               35.76     0.104         -0.00000582    -1.687E-08     -90000                3    9.7056      2480.37       -56.31                    230    340     0.958    293    \n",
      "299   C5H10O     methyl isopropyl ketone              86.134    181       367.5    553.4    38.5       310     0.259   0.331    2.8        -2.914    0.4991        -0.0002935     6.665E-08                            3    7.5577      1993.12       -103.2                    271    406     0.803    293    \n",
      "118   CH4S       methyl mercaptan                     48.107    150       279.1    470      72.3       144.8   0.268   0.153    1.3        13.27     0.1457        -0.00008545    2.075E-08      -22990     -9923      1    -6.793      1.52687       -2.45989     -1.34839     222    470     0.866    293    \n",
      "298   C5H10O     methyl n-propyl ketone               86.134    196       375.4    561.1    36.9       301     0.238   0.346    2.5        1.147     0.4802        -0.0002818     6.661E-08      -258800    -137200    3    9.3829      2934.87       -62.25                    275    410     0.806    293    \n",
      "441   C8H8O      methyl phenyl ketone                 120.151   292.8     474.9    714      40.6       376     0.257   0.42     3          -29.58    0.641         -0.0004071     9.722E-08      -86900     1840       1    -7.63896    1.20432       -3.60753     -1.55754     298    714     1.032    288    \n",
      "250   C4H8O2     methyl propionate                    88.107    185.7     352.8    530.6    40         282     0.256   0.35     1.7        18.2      0.314         -0.00009353    -1.828E-08                           1    -8.23756    2.71406       -5.35097     -2.34114     294    530.6   0.915    293    \n",
      "307   C5H10O2    methyl propionate                    102.134   199.3     372.2    546      33.6       345     0.256   0.391    1.8        19.85     0.4034        -0.0001437     -7.394E-09     -470200    -323700    1    -8.55094    3.10067       -6.99241     3.45112      307    546     0.895    289    \n",
      "443   C8H8O3     methyl salicylate                    152.149   264.6     496.1    709                                          2.4                                                                                    3    9.6897      3943.86       -86.19                    350    495     1.182    298    \n",
      "121   CH6Si      methyl silane                        46.145    116.7     215.6    352.5                                        0.7                                                                                    0                                                                                       \n",
      "210   C3H8O2     methylal                             76.096    168       315      480.6    39.5       213     0.211   0.286    1                                                                                      3    9.2035      2415.92       -52.58                    270    315     0.888    291    \n",
      "449   C8H10O     m-ethylphenol                        122.167   269       491.6    718.8                                                                                                         -147000               3    10.5753     4272.77       -86.08                    370    500     1.025    273    \n",
      "176   C2H7NO     monoethanolamine                     61.084    283.5     443.5    614      44.5       196     0.17             2.6        9.311     0.3009        -0.0001818     4.656E-08      -201700               1    -10.8842    3.303743      -7.21939     -2.99322     379    614     1.016    293    \n",
      "257   C4H9NO     morpholine                           87.122    268.4     401.4    618      54.7       253     0.27    0.37     1.5        -42.8     0.5388        -0.0002666     4.199E-08                            3    9.6162      3171.35       -71.15                    300    440     1        293    \n",
      "608   C18H14     m-terphenyl                          230.31    360       638      924.9    35.1       768     0.358   0.449                                                                                           0                                                                                       \n",
      "414   C7H9N      m-toluidine                          107.156   242.8     476.6    709      41.5                       0.41     1.5        -15.99    0.5681        -0.0003033     4.643E-08                            1    -8.43741    2.58101       -6.00776     -1.52856     395    709     0.989    293    \n",
      "445   C8H10      m-xylene                             106.168   225.3     412.3    617.1    35.4       376     0.259   0.325    0.3        -29.17    0.6297        -0.0003747     8.478E-08      17250      118900     1    -7.59222    1.39441       -3.22746     -2.40376     332    617.1   0.864    293    \n",
      "458   C8H11N     n,n-dimethylaniline                  121.183   275.6     467.3    687      36.3                       0.411    1.6                                                              84150      231400     3    10.3445     4276.08       -52.8                     345    480     0.956    293    \n",
      "523   C9H13N     n,n-dimethyl-o-toluidine             135.21    212       467.3    668      31.2                       0.484    0.9                                                                                    0                                                                       0.929    293    \n",
      "372   C6H12O2    n-butyl acetate                      116.16    199.7     399.3    579      31.4       400     0.26    0.417    1.8        13.62     0.5489        -0.0002278     7.91E-10       -486800               1    -8.36658    2.40985       -6.42511     4.85939      333    579     0.898    273    \n",
      "556   C10H15N    n-butylaniline                       149.236   259       513.9    721      28.3                                           -34.07    0.9144        -0.000556      1.287E-07                            3    9.7792      4079.72       -96.15                    385    560     0.932    293    \n",
      "241   C4H8O      n-butyraldehyde                      72.107    176.8     348      545.4    53.8                       0.352    2.6        14.08     0.3457        -0.0001723     2.887E-08      -205200    -114800    1    -7.01403    0.12265       -0.00073     -8.50911     304    545.4   0.802    293    \n",
      "246   C4H8O2     n-butyric acid                       88.107    267.9     437.2    628      52.7       290     0.292   0.683    1.5        11.74     0.4137        -0.000243      5.531E-08      -476200               1    -10.0392    3.15679       -7.72604     5.2763       364    628     0.958    293    \n",
      "617   C20H42     n-eicosane                           282.556   310       617      767      11.1                       0.907               -22.38    1.939         -0.001117      2.528E-07      -456100    117400     3    9.8483      4680.46       -141.1                    471    652     0.775    313    \n",
      "618   C20H420    n-eicosanol                          298.555   339       629      770      12                                             -12.58    1.95          -0.001118      2.516E-07      -608100    -19430     3    9.2031      3912.1        -203.1                    492    679                     \n",
      "58    Ne         neon                                 20.183    24.5      27.1     44.4     27.6       41.6    0.311   -0.029   0          20.8                                                  0          0          1    -6.07686    1.59402       -1.06092     4.06656      25     44.4    1.204    27     \n",
      "459   C8H11N     n-ethylaniline                       121.183   207.4     476.2    698                                          1.7                                                                                    3    10.4715     4382.63       -58.88                    321    481     0.963    293    \n",
      "576   C11H22     n-hexylcylopentane                   154.297   200.2     476.3    660.1    21.3                       0.476               -58.32    1.128         -0.0006536     1.473E-07      -209600    78250      3    9.3939      3702.56       -81.55                    351    507     0.797    394    \n",
      "54    NO         nitric oxide                         30.006    109.5     121.4    180      64.8       57.7    0.25    0.588    0.2        29.35     -0.0009378    0.000009747    -4.187E-09     90430      86750      2    54.894      2465.78       -7.211       209          115    180     1.28     121    \n",
      "56    N2         nitrogen                             28.013    63.3      77.4     126.2    33.9       89.8    0.29    0.039    0          31.15     -0.01357      0.0000268      -1.168E-08     0          0          1    -6.09676    1.1367        -1.04072     -1.93306     63     126.2   0.804    78     \n",
      "17    ClF2N      nitrogen chloride difluoride         87.456              207      337.5    51.5                       0.154                                                                                           0                                                                                       \n",
      "55    NO2        nitrogen dioxide                     46.006    261.9     294.3    431      101        167.8   0.473   0.834    0.4        24.23     0.04836       -0.00002081    2.93E-10       33870      52000      2    55.242      6073.34       -6.094       780          270    431     1.45     293    \n",
      "37    F3N        nitrogen trifluoride                 71.002    66.4      144.4    234      45.3                       0.135    0.2        11.41     0.1948        -0.0002023     7.454E-08      -131600    -90100     2    32.599      1970.37       -3.81        509          130    234     1.54     144    \n",
      "21    ClNO       nitrosyl chloride                    65.459    213.5     267.7    440                                          1.8        34.1      0.04472       -0.0000334     1.015E-08      52630      66990      2    29.76       3748.59       -2.819       900          230    440     1.42     261    \n",
      "57    N2O        nitrous oxide                        44.013    182.3     184.7    309.6    72.4       97.4    0.274   0.165    0.2        21.62     0.07281       -0.00005778    1.83E-08       81600      10370      2    39.824      2867.98       -4.655       557          190    309.6   1.226    184    \n",
      "31    FNO2       nitryl fluoride                      65.003              231.2    349.5                                        0.5        17.78     0.1416        -0.0001245     4.14E-08       -108900    -66490     0                                                                                       \n",
      "412   C7H9N      n-methylaniline                      107.156   216       469.4    701      52                         0.475    1.7                                                              85410      199300     3    9.6864      3756.28       -80.71                    320    480     0.989    293    \n",
      "306   C5H10O2    n-propyl acetate                     102.134   178       374.7    549.4    33.3       345     0.252   0.391    1.8        15.42     0.4501        -0.0001686     -1.439E-08     -466000               1    -7.85524    1.43936       -4.30187     -3.0483      312    549.4   0.887    293    \n",
      "425   C7H14O2    n-propyl butyrate                    130.187   176       416.2    590      27.1                                1.8                                                                                    1    -8.28062    1.40511       -4.19323     -3.70158     300    590     0.879    288    \n",
      "251   C4H8O2     n-propyl formate                     88.107    180.3     354.1    538      40.6       285     0.259   0.314    1.9                                                                                    1    -7.48563    1.7126        -5.16404     1.6429       299    538     0.911    289    \n",
      "426   C7H14O2    n-propyl isobutyrate                 130.187             408.6    581      28.3                                                                                                                       1    -8.52052    2.1066        -4.44053     -3.9042      300    581     0.884    273    \n",
      "482   C8H16O2    n-propyl isovalerate                 144.214             429.1    609                                                                                                                                 0                                                                       0.863    293    \n",
      "376   C6H12O2    n-propyl propionate                  116.16    197.3     395.8    571      30.2                                1.8                                                                                    1    -8.00913    1.33297       -3.97513     -3.83674     290    571     0.881    293    \n",
      "611   C18H36     n-tridecylcylopenyane                252.486   278       598.6    761      12                         0.755               -64.21    1.79          -0.001032      2.309E-07      -354000    137100     3    9.6068      4483.13       -131.3                    453    634     0.818    293    \n",
      "303   C5H10O     n-valeric acid                       102.134   239       459.5    651                                                     13.39     0.5033        -0.0002931     6.619E-08      -490700    -357400    3    11.0104     4092.15       -86.55                    350    495     0.939    293    \n",
      "403   C7H8O      o-cresol                             108.14    304.1     464.2    697.6    50.1                       0.433    1.6        -32.28    0.7005        -0.0005924     2.214E-07      -128700    -33000     1    -8.82061    3.14197       -6.63041     -0.84857     393    697.6   1.028    313    \n",
      "448   C8H10O     o-ethylphenol                        122.167   269.8     477.7    703                                                                                                           -146000               3    11.3408     4928.36       -45.75                    350    500     1.037    273    \n",
      "607   C18H14     o-terphenyl                          230.31    330       605      891      39         753     0.396   0.431                                                                                           0                                                                                       \n",
      "413   C7H9N      o-toluidine                          107.156   258.4     473.5    694      37.5                       0.438    1.6                                                                                    1    -8.68458    2.72553       -5.9462      -1.09185     392    694     0.998    293    \n",
      "59    O2         oxygen                               31.999    54.4      90.2     154.6    50.4       73.4    0.288   0.025    0          28.11     -0.00000368   0.00001746     -1.065E-08     0          0          1    -6.28275    1.73619       -1.81349     -0.0253645   54     154.6   1.149    90     \n",
      "35    F2O        oxygen difluoride                    53.995    50        128.4    215      49.6                                0.2        22.07     0.09875       -0.0001028     3.796E-08      24530      41780      0                                                                       1.521    128    \n",
      "444   C8H10      o-xylene                             106.168   248       417.6    630.3    37.3       369     0.262   0.31     0.5        -15.85    0.5962        -0.0003443     7.528E-08      19000      122200     1    -7.53357    1.40968       -3.10985     -2.85992     337    630.3   0.88     293    \n",
      "61    O3         ozone                                47.998    80.5      181.2    261.1    55.7       88.9    0.228   0.691    0.6        20.54     0.08009       -0.00006243    1.697E-08      142800     162900     3    9.1225      1272.18       -22.16                    109    174     1.356    161    \n",
      "405   C7H8O      p-cresol                             108.14    307.9     475.1    704.6    51.5                       0.505    1.6        -40.63    0.7055        -0.0005757     1.967E-07      -125500    -30900     1    -9.23951    3.2988        -7.17725     -0.48        401    704.6   1.019    313    \n",
      "333   C6HF5O     pentafluorophenol                    184.063             418.8    609      40         348     0.275   0.502                                                                                           1    -8.69734    2.03071       -5.32619     -3.28915     379    609                     \n",
      "16    ClFO3      perchloryl fluoride                  102.448   125.5     226.4    368.4    53.7       160.8   0.282   0.17     0          12.45     0.239         -0.0002346     8.321E-08      -21440     50620      0                                                                       2.003    399    \n",
      "331   C6F14      perfluoro-2,3-dimethlybutane         338.044             332.9    463      18.7       525     0.256   0.394                                                                                           3    9.9846      2933.85       -38.7                     262    333                     \n",
      "179   C3F60      perfluoroacetone                     166.02              245.7    357.1    28.4       329     0.314   0.365                                                                                           0                                                                                       \n",
      "542   C10F18     perfluorodecalin                     462.074             415      566      15.2                       0.392                                                                                           0                                                                                       \n",
      "393   C7F8       perfluorotoluene                     236.061             377.7    534.5    27.1       428     0.26    0.475                                                                                           0                                                                                       \n",
      "450   C8H10O     p-ethylphenol                        122.167   318       491.1    716.4                                                                                                         -144700               3    12.4703     5579.62       -44.15                    370    500                     \n",
      "593   C14H10     phenanthrene                         178.234   373.7     613      873                 554                      0          -58.98    1.006         -0.0006594     1.606E-07                            3    10.0985     5477.94       -69.39                    450    655                     \n",
      "344   C6H6O      phenol                               94.113    314       455      694.2    61.3       229     0.24    0.438    1.6        -35.84    0.5983        -0.0004827     1.527E-07      -96420     -32900     1    -8.7555     2.92651       -6.31601     -1.36889     380    694.2   1.059    313    \n",
      "92    CCL2O      phosgene                             98.916    145       281      455      56.7       190.1   0.285   0.205    1.1        28.09     0.1361        -0.0001374     5.07E-08       -221100    -206900    1    -7.08177    1.60461       -2.57153     -1.88377     216    455     1.381    293    \n",
      "81    H3P        phosphine                            33.998    140       185.4    324.5    65.4                       0.038    0.6        23.23     0.04401       0.00001303     -1.598E-08     22900      25410      0                                                                       1.529    298    \n",
      "83    H4ClP      phosphonium chloride                 70.459              246      322.3    73.7                       1.64                                                                                            0                                                                                       \n",
      "63    P          phosphorus                           30.974              553      994                                                     20.8                                                  334100     292200     0                                                                                       \n",
      "18    ClF2P      phosphorus chloride difluoride       104.423             225.9    362.4    45.2                       0.164                                                                                           0                                                                                       \n",
      "23    Cl2FP      phosphorus dichloride fluoride       120.878             287      463      49.6                       0.174                                                                                           0                                                                                       \n",
      "27    Cl5P       phosphorus pentachloride             208.26    148       433      646                                          0.8        69.46     0.2079        -0.0002455     9.914E-08      -342900    -278500    0                                                                                       \n",
      "13    Br3P       phosphorus tribromide                270.723   233       446.1    711                 300                      0.5        61.02     0.07421       -0.00008899    3.631E-08      -128500    -157500    0                                                                       2.852    288    \n",
      "24    Cl3P       phosphorus trichloride               137.333   161       349.1    563                 264                      0.9        48.49     0.1131        -0.0001334     5.38E-08       -271300    -257700    0                                                                       1.574    294    \n",
      "39    F3P        phosphorus trifluoride               87.968              178      271.2    43.3                       0.326               21.79     0.1733        -0.0001852     6.974E-08      -937800    -925300    0                                                                       3.1      172    \n",
      "439   C8H4O3     phthalic anhydride                   148.118   404       560      810      47.6       368     0.26             5.3        -4.455    0.654         -0.0004283     1.009E-07      -372000               3    9.3782      4467.01       -83.15                    409    615                     \n",
      "310   C5H11N     piperidine                           85.15     262.7     379.6    594      47.6       289     0.28    0.251    1.2        -53.07    0.6289        -0.0003358     6.427E-08      -49030                1    -7.56707    2.15002       -3.8903      -3.7036      316    594     0.862    293    \n",
      "198   C3H6O      propionaldehyde                      58.08     193       321      515.3    63.3                       0.313    2.7        11.72     0.2614        -0.00013       2.126E-08      -192200    -130500    1    -7.18479    1.00298       -1.49247     -5.13288     235    515.3   0.797    293    \n",
      "201   C3H6O2     propionic acid                       74.08     252.5     414.5    612      54         222     0.183   0.52     1.5        5.669     0.3689        -0.0002865     9.877E-08      -455400    -369600    1    -8.69958    1.4946        -4.50355     1.06898      345    612     0.993    293    \n",
      "192   C3H5N      propionitrile                        55.08     180.3     370.3    564.4    41.8       229     0.205   0.313    3.7        15.4      0.2245        -0.00011       1.954E-08      50660      96210      1    -7.27719    0.46035       -0.45714     -10.1636     309    564.4   0.782    293    \n",
      "204   C3H7Cl     propyl chloride                      78.542    150.4     320.4    503      45.8       254     0.278   0.235    2          -3.345    0.3626        -0.0002508     7.448E-08      -130200    -50700     1    -7.55764    2.60153       -5.06041     3.31163      248    503     0.891    293    \n",
      "194   C3H6       propylene                            42.081    87.9      225.5    364.9    46         181     0.274   0.144    0.4        3.71      0.2345        -0.000116      2.205E-08      20430      62760      1    -6.64231    1.21857       -1.81005     -2.48212     140    364.9   0.612    223    \n",
      "609   C18H14     p-terphenyl                          230.31    485       649      926      33.2       763     0.329   0.523    0.7                                                                                    0                                                                                       \n",
      "415   C7H9N      p-toluidine                          107.156   316.9     473.7    667      23.8                       0.443    1.6                                                                                    3    10.0766     4041.04       -72.15                    350    500     0.964    323    \n",
      "446   C8H10      p-xylene                             106.168   286.4     411.5    616.2    35.1       379     0.26    0.32     0.1        -25.09    0.6042        -0.0003374     6.82E-08       17960      121200     1    -7.63495    1.50724       -3.19678     -2.7871      331    616.2   0.861    293    \n",
      "225   C4H5N      pyrrole                              67.091              403      639.8                                        1.8                                                              108400                3    10.1764     3457.47       -62.73                    330    440     0.967    294    \n",
      "256   C4H9N      pyrrolidine                          71.123              359.6    568.6    56.1       249     0.295   0.274    1.6        -51.53    0.5338        -0.000324      7.528E-08      -3600      114800     1    -7.73658    2.33495       -4.20213     -3.71251     316    568.6   0.852    295    \n",
      "510   C9H7N      quinoline                            129.162   258       510.8    782                                                                                                                                 3    9.0779      3842.4        -86.94                    437    515     1.095    293    \n",
      "64    Rn         radon                                222       202       211.4    377      62.8                       -0.008              20.8                                                  0          0          0                                                                       4.4      211    \n",
      "66    Se         selenium                             78.96               1010     1766     272                        0.346                                                                                           0                                                                                       \n",
      "85    H4Si       silane                               32.122    88.2      161      269.7    48.4                       0.068    0          11.18     0.122         -0.00005548    6.84E-09       32660      55180      0                                                                       0.68     88     \n",
      "14    Br4SI      silicon tetrabromide                 347.702   278.6     427      663                 382                      0          74.66     0.1097        -0.0001298     5.246E-08      -415900    -432400    0                                                                       2.772    298    \n",
      "25    Cl4Si      silicon tetrachloride                169.898   204.3     330.8    508.1    35.9       325.7   0.277   0.232    0          56.58     0.1636        -0.0001897     7.565E-08      -657700    -617800    3    9.1817      2634.16       -43.15                    238    364     1.48     293    \n",
      "43    F4Si       silicon tetrafluoride                104.09    183       187      259      37.2                       0.753    0          26.78     0.2157        -0.0002204     8.031E-08      -1616000   -1574000   0                                                                                       \n",
      "51    I4Si       silicon tetraiodide                  535.706   393.7     560.5    944                 558                                 84.79     0.078         -0.0000934     3.806E-08      -110500    -159800    0                                                                                       \n",
      "440   C8H8       styrene                              104.152   242.5     418.3    647      39.9                       0.257    0.1        -28.25    0.6159        -0.0004023     9.935E-08      147000     213900     1    -7.15981    1.78861       -5.10359     1.63749      303    647     0.906    293    \n",
      "233   C4H6O4     succinic acid                        118.09    456       508                                                   2.2        15.07     0.4689        -0.0003143     7.938E-08                            0                                                                                       \n",
      "65    S          sulfur                               32.066              717.8    1314     207                        0.171                                                                     279200     238600     0                                                                                       \n",
      "60    O2S        sulfur dioxide                       64.063    197.7     263.2    430.8    78.8       122.2   0.269   0.256    1.6        23.85     0.06699       -0.00004961    1.328E-08      -297100    -300400    2    48.882      4552.5        -5.666       990          235    430.8   1.455    263    \n",
      "45    F6S        sulfur hexafluoride                  146.054   222.5     209.6    318.7    37.6       198.8   0.282   0.286    0          -0.6599   0.4639        -0.0005089     1.953E-07      -1222000   -1118000   3    12.7583     2524.78       -11.16                    159    220     1.83     223    \n",
      "42    F4S        sulfur tetrafluoride                 108.058   152       232.7    364                                          1          25.42     0.242         -0.0002653     1.017E-07      -781300    -740600    3    7.4561      1218.59       -73.24                    161    224     1.936    195    \n",
      "62    O3S        sulfur trioxide                      80.058    290       318      491      82.1       127.3   0.256   0.481    0          19.21     0.1374        -0.0001176     0.000000037    -396000    -371700    2    132.94      10420.1       -17.38       1200         300    491     1.78     318    \n",
      "255   C4H9Cl     tert-butyl chloride                  92.569    247.8     324      507      39.5       295     0.28    0.19     2.1        -3.931    0.4652        -0.2886        7.871E-08      -183400    -64140     3    9.1919      2567.15       -44.14                    235    360     0.842    293    \n",
      "41    F4N2       tetrafluorohydrazine                 104.016   105       199      309      37.5                       0.206    0.3        3.553     0.3509        -0.0003637     1.338E-07      -8374      79880      0                                                                       1.5      163    \n",
      "244   C4H8O      tetrahydrofuran                      72.107    164.7     338      540.1    51.9       224     0.259   0.217    1.7        19.1      0.5162        -0.0004132     1.454E-07      -184300               3    9.4867      2768.38       -46.9                     270    370     0.889    293    \n",
      "302   C5H10O     tetrahydropyran                      86.134              361      572.2    47.7       263     0.263   0.218    1.6                                                                                    0                                                                       0.886    293    \n",
      "252   C4H8S      tetrahydrothiophene                  88.172    177       394.2    632                                          1.9                                                                                    3    9.387       3160.1        -57.2                     308    473     1        293    \n",
      "223   C4H4S      thiophene                            84.136    234.9     357.2    579.4    56.9       219     0.258   0.196    0.5        -30.61    0.448         -0.0003772     1.253E-07      115800     126900     1    -7.05208    1.6964        -3.17778     -1.57742     312    579.4   1.071    289    \n",
      "19    ClF2PS     thiophosphoryl chloride difluoride   136.489             279      439.2    41.4                       0.202                                                                                           0                                                                                       \n",
      "40    F3PS       thiophosphoryl trifluoride           120.034             220.9    346      38.2                       0.187    0.6        24.92     0.2326        -0.0002472     9.275E-08      -992300    -974300    0                                                                                       \n",
      "555   C10H14O    thymol                               150.221   323       505.7    698                                                                                                                                 0                                                                                       \n",
      "15    Br4Ti      titanium tetrabromide                367.536   312       503      795.7               391                                 84.49     0.07785       -0.00009361    3.826E-08      -550600    -569500    0                                                                                       \n",
      "26    Cl4Ti      titanium tetrachloride               189.712   243       409.6    638      46.6       339.2   0.298   0.268    0          70.64     0.1224        -0.0001443     5.819E-08      -763700    -727200    0                                                                       1.7      298    \n",
      "52    I4Ti       titanium tetraiodide                 555.52    423       650      1040                505                                 95.75     0.04253       -0.00005179    2.135E-08      -277500    -328200    0                                                                                       \n",
      "400   C7H8       toluene                              92.141    178       383.8    591.8    41         316     0.263   0.263    0.4        -24.35    0.5125        -0.0002765     4.911E-08      50030      122100     1    -7.28607    1.38091       -2.83433     -2.79168     309    591.8   0.867    293    \n",
      "558   C10H18     trans-decalin                        138.254   242.8     460.5    687.1    31.4                       0.27     0          -97.67    1.045         -0.0005476     8.981E-08      -182400    73480      3    9.1787      3610.66       -66.49                    363    470     0.87     293    \n",
      "34    F2N2       trans-difluorodiazine                66.01               161.7    260      55.7                       0.217               22.54     0.1377        -0.0001258     4.232E-08      81220      120500     0                                                                                       \n",
      "139   C2CHF302   trifluoroacetic acid                 14.024    257.9     346      491.3    32.6       204     0.163   0.54     2.3                                                                                    3    7.5356      2828.94       -57.11                    285    345     1.535    273    \n",
      "131   C2F3N      trifluoroacetonitrile                95.023              205.5    311.1    36.2       202     0.283   0.267               22.13     0.2519        -0.0002361     8.207E-08      -49570     -46220     3    9.7917      1781.77       -23.28                    142    206                     \n",
      "38    F3NO       trifluoroamine oxide                 87.001              186      303      64.3       146.9   0.375   0.212               15.13     0.2446        -0.0002528     9.375E-08      -163300    -96460     0                                                                                       \n",
      "215   C3H9BO3    trimethyl borate                     103.912             342      501.7    35.9                       0.415    0.8                                                                                    0                                                                       0.915    293    \n",
      "67    T2         tritium                              6.32                25       40                  58                       0                                                                                      0                                                                                       \n",
      "46    F6U        uranium hexafluoride                 352.018   337       329      505.8    46.6       250     0.277   0.318    0                                                                -2139000   -2060000   0                                                                                       \n",
      "297   C5H10O     valeraldehyde                        86.134    182       376      554      35.4       333     0.26    0.4      2.6        14.24     0.4329        -0.0002107     3.162E-08      -228000    -108400    3    9.5421      3030.2        -58.15                    277    412     0.81     293    \n",
      "230   C4H6O2     vinyl acetate                        86.091    173       346      525      43.5       265     0.26    0.34     1.7        15.16     0.2795        -0.00008805    -1.66E-08      -316000               1    -7.80478    1.80668       -4.4816      1.70357      295    525     0.932    293    \n",
      "146   C2H3Cl     vinyl chloride                       62.499    119.4     259.8    425      51.5       169     0.265   0.122    1.5        5.949     0.2019        -0.0001536     4.773E-08      35170      51540      1    -6.50008    1.21422       -2.57867     -2.00937     208    425     0.969    259    \n",
      "245   C4H8O      vinyl ethyl ether                    72.107    157.9     308.7    475      40.7                       0.268    1.3        17.28     0.3236        -0.0001471     2.15E-08       -140300               1    -7.33727    1.50878       -3.30376     -1.10728     256    475     0.793    293    \n",
      "151   C2H3F      vinyl fluoride                       46.044    130       201      327.9    52.4       144     0.277   0.157    1.4                                                              -117200               1    -6.80471    1.67182       -3.29094     -0.69493     114    327.9   0.681    263    \n",
      "189   C3H4O2     vinyl formate                        72.064    215.5     319.6    475      57.7       210     0.31    0.55                27.81     0.1839        -0.0000356     -2.335E-07                           3    10.0329     2569.68       -63.15                    240    350     0.963    293    \n",
      "200   C3H6O      vinyl methyl ether                   58.08     151.5     278      436      47.6       205     0.27    0.34                15.63     0.2341        -0.00009697    1.062E-08                            3    7.84        1980.22       -25.15                    190    315     0.75     293    \n",
      "221   C4H4       vinylacetylene                       52.076    227.6     278.1    455      49.6       202     0.26    0.092               6.757     0.2841        -0.0002265     7.461E-08      304800     306200     3    9.3898      2203.57       -43.15                    200    305     0.71     273    \n",
      "77    H2O        water                                18.015    273.2     373.2    647.3    221.2      57.1    0.235   0.344    1.8        32.24     0.001924      0.00001055     -3.596E-09     -242000    -228800    1    -7.76451    1.45838       -2.7758      -1.23303     275    647.3   0.998    293    \n",
      "68    Xe         xenon                                131.3     161.3     165      289.7    58.4       118.4   0.287   0.008    0          20.8                                                  0          0          2    24.809      1951.76       -2.544       603          170    289.7   3.06     165    \n",
      "36    F2Xe       xenon difluoride                     169.296             387.5    631      93.2       148.6   0.264   0.317                                                                                           0                                                                                       \n",
      "44    F4Xe       xenon tetrafluoride                  207.292   387       388.9    612      70.4       188.6   0.261   0.357                                                                     -187600               0                                                                                       \n"
     ]
    }
   ],
   "source": [
    "t() | ~inSet(passedStrict()|cut(0)|aS(set)|aS(list), 0) | display(None)"
   ]
  },
  {
   "cell_type": "code",
   "execution_count": null,
   "id": "bbf7c5cd",
   "metadata": {},
   "outputs": [],
   "source": []
  }
 ],
 "metadata": {
  "kernelspec": {
   "display_name": "Python 3 (ipykernel)",
   "language": "python",
   "name": "python3"
  },
  "language_info": {
   "codemirror_mode": {
    "name": "ipython",
    "version": 3
   },
   "file_extension": ".py",
   "mimetype": "text/x-python",
   "name": "python",
   "nbconvert_exporter": "python",
   "pygments_lexer": "ipython3",
   "version": "3.8.13"
  }
 },
 "nbformat": 4,
 "nbformat_minor": 5
}
