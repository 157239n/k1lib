{
 "cells": [
  {
   "cell_type": "code",
   "execution_count": 2,
   "id": "6d77c3ec",
   "metadata": {},
   "outputs": [],
   "source": [
    "#export\n",
    "\"\"\"This is for core callbacks, that defines how everything is going to go\"\"\"\n",
    "from k1lib.callbacks import Callback, Callbacks\n",
    "import k1lib\n",
    "import torch\n",
    "from typing import List, Tuple, Dict, Iterator, Union, Any, Callable"
   ]
  },
  {
   "cell_type": "code",
   "execution_count": null,
   "id": "36b4bcc1",
   "metadata": {},
   "outputs": [],
   "source": [
    "#export\n",
    "@k1lib.patch(Callback.cls)\n",
    "class CoreNormal(Callback):\n",
    "    def __init__(self):\n",
    "        super().__init__()"
   ]
  },
  {
   "cell_type": "code",
   "execution_count": null,
   "id": "aa34d49f",
   "metadata": {},
   "outputs": [],
   "source": []
  }
 ],
 "metadata": {
  "kernelspec": {
   "display_name": "Python 3 (ipykernel)",
   "language": "python",
   "name": "python3"
  },
  "language_info": {
   "codemirror_mode": {
    "name": "ipython",
    "version": 3
   },
   "file_extension": ".py",
   "mimetype": "text/x-python",
   "name": "python",
   "nbconvert_exporter": "python",
   "pygments_lexer": "ipython3",
   "version": "3.8.10"
  }
 },
 "nbformat": 4,
 "nbformat_minor": 5
}
