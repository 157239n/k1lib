{
 "cells": [
  {
   "cell_type": "code",
   "execution_count": 8,
   "id": "350aa126-924c-4807-970d-bf324b5cc87d",
   "metadata": {
    "tags": []
   },
   "outputs": [
    {
     "data": {
      "text/plain": [
       "'\\nFor semantic, dynamic byte code manipulation functionalities\\n'"
      ]
     },
     "execution_count": 8,
     "metadata": {},
     "output_type": "execute_result"
    }
   ],
   "source": [
    "\"\"\"\n",
    "For semantic, dynamic byte code manipulation functionalities\n",
    "\"\"\""
   ]
  },
  {
   "cell_type": "code",
   "execution_count": 1,
   "id": "5f30117b-e657-4c4e-91bf-a637997fff5a",
   "metadata": {
    "tags": []
   },
   "outputs": [
    {
     "data": {
      "text/html": [
       "<style>\n",
       "    div.jp-OutputArea-output pre {white-space: pre;}\n",
       "    div.output_area pre {white-space: pre;}\n",
       "    div.CodeMirror > div.highlight {overflow-y: auto;}\n",
       "</style>"
      ],
      "text/plain": [
       "<IPython.core.display.HTML object>"
      ]
     },
     "metadata": {},
     "output_type": "display_data"
    },
    {
     "name": "stderr",
     "output_type": "stream",
     "text": [
      "2023-07-13 09:36:50,007\tINFO worker.py:1364 -- Connecting to existing Ray cluster at address: 192.168.1.133:6379...\n",
      "2023-07-13 09:36:50,012\tINFO worker.py:1544 -- Connected to Ray cluster. View the dashboard at \u001b[1m\u001b[32m127.0.0.1:8265 \u001b[39m\u001b[22m\n"
     ]
    }
   ],
   "source": [
    "from k1lib.imports import *"
   ]
  },
  {
   "cell_type": "code",
   "execution_count": null,
   "id": "11dbed99-eaef-4eef-bdb7-3a6fc2dbd6e9",
   "metadata": {},
   "outputs": [],
   "source": [
    "clis = filt(\"x in \")"
   ]
  },
  {
   "cell_type": "code",
   "execution_count": null,
   "id": "f6d768b7-4ea2-4db3-a269-d56bf144190d",
   "metadata": {},
   "outputs": [],
   "source": []
  },
  {
   "cell_type": "code",
   "execution_count": null,
   "id": "c7d39e91-b30e-4ee8-ab1c-c1051fcf7c5d",
   "metadata": {},
   "outputs": [],
   "source": []
  },
  {
   "cell_type": "code",
   "execution_count": null,
   "id": "d1b04310-5e2d-4407-a88d-eed1de7ba13f",
   "metadata": {},
   "outputs": [],
   "source": [
    "def sql(clis):\n",
    "    pass"
   ]
  },
  {
   "cell_type": "code",
   "execution_count": null,
   "id": "a2afe7ba-c731-41b2-9efc-2286dc0eb07e",
   "metadata": {},
   "outputs": [],
   "source": []
  },
  {
   "cell_type": "code",
   "execution_count": null,
   "id": "7d3e66da-c68a-4189-88d9-130a9afe6a1f",
   "metadata": {},
   "outputs": [],
   "source": []
  },
  {
   "cell_type": "code",
   "execution_count": 2,
   "id": "8b7b58bc-b255-445c-be91-e96c544904d3",
   "metadata": {
    "tags": []
   },
   "outputs": [],
   "source": [
    "def f(x):\n",
    "    return (x > 5) and ((x < 10) or (x == 32))"
   ]
  },
  {
   "cell_type": "code",
   "execution_count": 3,
   "id": "e9653765-484c-4307-b5f2-ad4ff1c7c701",
   "metadata": {
    "tags": []
   },
   "outputs": [
    {
     "data": {
      "text/plain": [
       "False"
      ]
     },
     "execution_count": 3,
     "metadata": {},
     "output_type": "execute_result"
    }
   ],
   "source": [
    "f(3)"
   ]
  },
  {
   "cell_type": "code",
   "execution_count": 4,
   "id": "85500163-781d-484f-a40e-6eb856a49374",
   "metadata": {
    "tags": []
   },
   "outputs": [
    {
     "data": {
      "text/plain": [
       "True"
      ]
     },
     "execution_count": 4,
     "metadata": {},
     "output_type": "execute_result"
    }
   ],
   "source": [
    "f(6)"
   ]
  },
  {
   "cell_type": "code",
   "execution_count": 5,
   "id": "e40cc6a0-a3c6-4ec6-ba53-ddeb2741d619",
   "metadata": {
    "tags": []
   },
   "outputs": [
    {
     "data": {
      "text/plain": [
       "False"
      ]
     },
     "execution_count": 5,
     "metadata": {},
     "output_type": "execute_result"
    }
   ],
   "source": [
    "f(11)"
   ]
  },
  {
   "cell_type": "code",
   "execution_count": 6,
   "id": "1af4bc6f-5cfd-4204-a3ca-01f4d35e9d26",
   "metadata": {
    "tags": []
   },
   "outputs": [
    {
     "data": {
      "text/plain": [
       "True"
      ]
     },
     "execution_count": 6,
     "metadata": {},
     "output_type": "execute_result"
    }
   ],
   "source": [
    "f(32)"
   ]
  },
  {
   "cell_type": "code",
   "execution_count": 7,
   "id": "825d434d-4ed0-4914-b5f6-d38bf5db811c",
   "metadata": {
    "tags": []
   },
   "outputs": [
    {
     "name": "stdout",
     "output_type": "stream",
     "text": [
      "co_argcount: 1\n",
      "co_cellvars: ()\n",
      "co_consts: (None, 5, 10, 32)\n",
      "co_filename: /tmp/ipykernel_3117893/3197729569.py\n",
      "co_firstlineno: 1\n",
      "co_flags: 67\n",
      "co_freevars: ()\n",
      "co_kwonlyargcount: 0\n",
      "co_lnotab: 0 1\n",
      "co_name: f\n",
      "co_names: ()\n",
      "co_nlocals: 1\n",
      "co_posonlyargcount: 0\n",
      "co_stacksize: 2\n",
      "co_varnames: ('x',)\n",
      "Disassembly:\n",
      "  2           0 LOAD_FAST                0 (x)\n",
      "              2 LOAD_CONST               1 (5)\n",
      "              4 COMPARE_OP               4 (>)\n",
      "              6 JUMP_IF_FALSE_OR_POP    22\n",
      "              8 LOAD_FAST                0 (x)\n",
      "             10 LOAD_CONST               2 (10)\n",
      "             12 COMPARE_OP               0 (<)\n",
      "             14 JUMP_IF_TRUE_OR_POP     22\n",
      "             16 LOAD_FAST                0 (x)\n",
      "             18 LOAD_CONST               3 (32)\n",
      "             20 COMPARE_OP               2 (==)\n",
      "        >>   22 RETURN_VALUE\n"
     ]
    }
   ],
   "source": [
    "f | disassemble()"
   ]
  },
  {
   "cell_type": "code",
   "execution_count": null,
   "id": "d4a22095-cc48-4ec1-8478-dae840db8030",
   "metadata": {},
   "outputs": [],
   "source": []
  },
  {
   "cell_type": "code",
   "execution_count": null,
   "id": "0b706086-a070-49a2-86f7-a25f16e7d14d",
   "metadata": {},
   "outputs": [],
   "source": []
  },
  {
   "cell_type": "code",
   "execution_count": null,
   "id": "273ffda6-516d-4119-b1ef-6666c0925038",
   "metadata": {},
   "outputs": [],
   "source": []
  },
  {
   "cell_type": "code",
   "execution_count": null,
   "id": "cb636bc6-5b23-41de-8d40-f7aa5aa07436",
   "metadata": {},
   "outputs": [],
   "source": []
  },
  {
   "cell_type": "code",
   "execution_count": null,
   "id": "38190c5d-b460-40f8-a016-6ec634db1311",
   "metadata": {},
   "outputs": [],
   "source": []
  }
 ],
 "metadata": {
  "kernelspec": {
   "display_name": "Python 3 (ipykernel)",
   "language": "python",
   "name": "python3"
  },
  "language_info": {
   "codemirror_mode": {
    "name": "ipython",
    "version": 3
   },
   "file_extension": ".py",
   "mimetype": "text/x-python",
   "name": "python",
   "nbconvert_exporter": "python",
   "pygments_lexer": "ipython3",
   "version": "3.9.15"
  }
 },
 "nbformat": 4,
 "nbformat_minor": 5
}
