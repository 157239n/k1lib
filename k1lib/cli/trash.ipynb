{
 "cells": [
  {
   "cell_type": "markdown",
   "id": "df770d70-8044-4257-bd27-1b697c4e2bfe",
   "metadata": {},
   "source": [
    "Old implementations sits here, just because"
   ]
  },
  {
   "cell_type": "code",
   "execution_count": null,
   "id": "02c41339-7f90-4b8b-ab5b-469a2722ded8",
   "metadata": {},
   "outputs": [],
   "source": [
    "class rowsList(BaseCli):\n",
    "    def __init__(self, _slice):\n",
    "        \"\"\"Space-expensive implementation for :class:`rows`, without a lot\n",
    "of flexibility. Just used for slices with negative start/stop really. Don't\n",
    "use this directly, use :class:`rows` instead\"\"\"\n",
    "        super().__init__(); self._slice = _slice; self.inverted = False\n",
    "    def __ror__(self, it:Iterator[str]):\n",
    "        it = list(it); full = range(len(it))\n",
    "        rows = full[self._slice]\n",
    "        if self.inverted: rows = [e for e in full if e not in rows]\n",
    "        for row in rows: yield it[row]\n",
    "    def __invert__(self): self.inverted = True; return self\n",
    "class rows(BaseCli):\n",
    "    def __init__(self, *rows:List[int]):\n",
    "        \"\"\"Cuts out specific rows. Space complexity O(1) as a list is not\n",
    "constructed (unless you're using some really weird slices).\n",
    "\n",
    ":param rows: ints for the row indices\n",
    "\n",
    "Example::\n",
    "\n",
    "    \"0123456789\" | rows(2) | deref() # returns [\"2\"]\n",
    "    \"0123456789\" | rows(5, 8) | deref() # returns [\"5\", \"8\"]\n",
    "    \"0123456789\" | rows()[2:5] | deref() # returns [\"2\", \"3\", \"4\"]\n",
    "    \"0123456789\" | ~rows()[2:5] | deref() # returns [\"0\", \"1\", \"5\", \"6\", \"7\", \"8\", \"9\"]\n",
    "    \"0123456789\" | ~rows()[:7:2] | deref() # returns ['1', '3', '5', '7', '8', '9']\n",
    "    \"0123456789\" | rows()[:-4] | deref() # returns ['0', '1', '2', '3', '4', '5']\n",
    "    \"0123456789\" | ~rows()[:-4] | deref() # returns ['6', '7', '8', '9']\"\"\"\n",
    "        super().__init__()\n",
    "        if len(rows) == 1 and isinstance(rows[0], slice):\n",
    "            s = rows[0]\n",
    "            start = s.start if s.start is not None else float(\"-inf\")\n",
    "            stop = s.stop if s.stop is not None else float(\"inf\")\n",
    "            self.domain = k1lib.Domain([start, stop])\n",
    "            self.every = s.step or 1 # only used for slices really\n",
    "        else:\n",
    "            self.domain = k1lib.Domain.fromInts(*rows)\n",
    "            self.every = 1\n",
    "        self.inverted = False\n",
    "    def _every(self, every): self.every = every; return self\n",
    "    def __getitem__(self, _slice):\n",
    "        s1, s2 = _slice.start, _slice.stop\n",
    "        a = (_slice.start or 0) < 0; b = (_slice.stop or 0) < 0\n",
    "        c = (_slice.step or 1)\n",
    "        if a or b: # at least 1 is negative\n",
    "            if c == 1:\n",
    "                if b:\n",
    "                    if s1 is None: return head(s2) # [None, -3]\n",
    "                    else: return ~head(s1) | head(s2) # [5, -3]\n",
    "                if a and s2 is None: return ~head(s1) # [-3, None]\n",
    "                # else case is [-10, 6], which is weird, so just stick to the long one\n",
    "            return rowsList(_slice) # worst case scenario\n",
    "        answer = rows(_slice); answer.inverted = self.inverted; return answer\n",
    "    def __invert__(self): self.inverted = not self.inverted; return self\n",
    "    def __ror__(self, it:Iterator[str]):\n",
    "        super().__ror__(it)\n",
    "        true, false = (False, True) if self.inverted else (True, False)\n",
    "        def gates():\n",
    "            gate = self.domain.intIter(self.every); x = 0\n",
    "            for i in gate:\n",
    "                while x < i: yield false; x += 1\n",
    "                yield true; x += 1\n",
    "            while True: yield false\n",
    "        return (row for gate, row in zip(gates(), it) if gate)"
   ]
  },
  {
   "cell_type": "code",
   "execution_count": null,
   "id": "d7d2a75e-d4ba-4960-962f-a3b21863b06b",
   "metadata": {},
   "outputs": [],
   "source": []
  },
  {
   "cell_type": "code",
   "execution_count": null,
   "id": "d208dfcf-a2b0-4cad-89cf-3b30cc389d35",
   "metadata": {},
   "outputs": [],
   "source": []
  },
  {
   "cell_type": "code",
   "execution_count": null,
   "id": "c8d2ac88-4f5e-402d-a018-8e78dff0b973",
   "metadata": {},
   "outputs": [],
   "source": []
  }
 ],
 "metadata": {
  "kernelspec": {
   "display_name": "Python 3 (ipykernel)",
   "language": "python",
   "name": "python3"
  },
  "language_info": {
   "codemirror_mode": {
    "name": "ipython",
    "version": 3
   },
   "file_extension": ".py",
   "mimetype": "text/x-python",
   "name": "python",
   "nbconvert_exporter": "python",
   "pygments_lexer": "ipython3",
   "version": "3.8.12"
  }
 },
 "nbformat": 4,
 "nbformat_minor": 5
}
