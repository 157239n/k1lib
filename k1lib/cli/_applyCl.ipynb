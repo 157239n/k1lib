{
 "cells": [
  {
   "cell_type": "markdown",
   "id": "515bcbec-ee55-451c-a6be-c22bd1a8c543",
   "metadata": {},
   "source": [
    "Functionalities relating to applyCl. "
   ]
  },
  {
   "cell_type": "markdown",
   "id": "4ee66a92-20e0-4036-8932-26c3ee21b051",
   "metadata": {},
   "source": [
    "# balanceFolder"
   ]
  },
  {
   "cell_type": "markdown",
   "id": "8b104cdb-985f-464c-807b-9ff83e424bca",
   "metadata": {},
   "source": [
    "## Log scale file sizes"
   ]
  },
  {
   "cell_type": "code",
   "execution_count": 2,
   "id": "cdfc571e-f0e8-4d75-bf7d-e98d1ffe96b6",
   "metadata": {
    "tags": []
   },
   "outputs": [],
   "source": [
    "base = \"~/repos/labs/k1lib/k1lib/cli/test/applyCl.balance\"; #base = \"~/ssd2/test\"\n",
    "applyCl.cmd(f\"rm -r {base}\")\n",
    "applyCl.cmd(f\"mkdir -p {base}\")\n",
    "torch.loglinspace(10, 1e5, 20).int() | apply(lambda x: \"x\"*x) | insertIdColumn() | ~apply(lambda idx, contents: contents | file(f\"{base}/{idx}.txt\")) | deref();"
   ]
  },
  {
   "cell_type": "code",
   "execution_count": 3,
   "id": "36810f9d-bf36-42d0-8964-910f3839ff45",
   "metadata": {
    "tags": []
   },
   "outputs": [],
   "source": [
    "#export\n",
    "def getIr(base): return None | applyCl.aS(lambda: ls(base) | iden() & apply(os.path.getsize) | transpose() | deref()) | ungroup(begin=True) | insertIdColumn(True) | deref()"
   ]
  },
  {
   "cell_type": "code",
   "execution_count": 4,
   "id": "f7adda9d-7e3e-4e62-9cee-202fae5e866d",
   "metadata": {
    "tags": []
   },
   "outputs": [
    {
     "data": {
      "text/plain": [
       "[[0,\n",
       "  '244f4e340443f74ab302822376195329f45858b65998b4a77f5f4732',\n",
       "  '/home/kelvin/repos/labs/k1lib/k1lib/cli/test/applyCl.balance/15.txt',\n",
       "  14385],\n",
       " [1,\n",
       "  '244f4e340443f74ab302822376195329f45858b65998b4a77f5f4732',\n",
       "  '/home/kelvin/repos/labs/k1lib/k1lib/cli/test/applyCl.balance/0.txt',\n",
       "  11]]"
      ]
     },
     "execution_count": 4,
     "metadata": {},
     "output_type": "execute_result"
    }
   ],
   "source": [
    "ir = getIr(base); ir | head(2)"
   ]
  },
  {
   "cell_type": "markdown",
   "id": "7ad964f4-d720-4f24-954c-217c3db6583b",
   "metadata": {},
   "source": [
    "ir = intermediate representation: `[id, node id, url, size]`"
   ]
  },
  {
   "cell_type": "code",
   "execution_count": 5,
   "id": "2c92ee22-ca70-41f0-ba67-1fbf31f81a0d",
   "metadata": {
    "tags": []
   },
   "outputs": [],
   "source": [
    "#export\n",
    "def normalize(d):\n",
    "    d = d | deref(); s = d | cut(1) | toSum()\n",
    "    return d | apply(op()/s, 1) | sort(0, False) | deref()\n",
    "@lru_cache\n",
    "def statsCpu():\n",
    "    cpu = None | applyCl.aS(applyCl.cpu) | sort(0, False) | deref()\n",
    "    cpuF = None | applyCl.aS(applyCl.cpu) | aS(normalize); cpuF # \"cpuF\" = cpu fraction. List[nodeId, cpu fraction]\n",
    "    return [cpu, cpuF]\n",
    "@lru_cache\n",
    "def statsNodeId(): return applyCl.nodeIds()\n",
    "_statsS1 = statsNodeId() | apply(wrapList() | insert(0, False)) | toDict()\n",
    "def stats(ir):\n",
    "    cpu, cpuF = statsCpu()\n",
    "    # size fraction. List[nodeId, size fraction]\n",
    "    sizeF = normalize({**_statsS1, **ir | groupBy(1, True) | apply(cut(2) | toSum(), 1) | toDict()}.items()); sizeF\n",
    "    return *statsCpu(), sizeF\n",
    "def scores(ir): cpu, cpuF, sizeF = stats(ir); return [cpuF, sizeF] | cut(1).all() | transpose() | ~apply(lambda c,s: s-c) | deref() # negpos\n",
    "def score(ir): return scores(ir) | apply(lambda x: abs(x)**2) | toSum() # pos"
   ]
  },
  {
   "cell_type": "code",
   "execution_count": 6,
   "id": "31e57140-c03a-4d30-834a-9f259c5ebd1c",
   "metadata": {
    "tags": []
   },
   "outputs": [],
   "source": [
    "#export\n",
    "def move(ir, nA:str, nB:str, idx:int):\n",
    "    ir1 = ir | deref(); ir1[idx][1] = nB; a = ir1 | pretty() | join('\\n'); return ir1\n",
    "def optimize(ir):\n",
    "    cpu, cpuF, sizeF = stats(ir); scs = scores(ir); a = np.argmax(scs); b = np.argmin(scs)\n",
    "    # print(scs, a, b)\n",
    "    nodeIds = applyCl.nodeIds() | sort(None, False) | deref()\n",
    "    files = {**nodeIds | apply(wrapList() | insert([], False)) | toDict(), **ir | groupBy(1, True) | toDict()}.items() | sort(0, False) | deref()\n",
    "    fA = files[a]; fB = files[b] # files A. [nodeId, List[idx, url, size]]\n",
    "    # print(fA); print(fB)\n",
    "    nA = nodeIds[a]; nB = nodeIds[b] # A node id\n",
    "    sA, sB = [fA, fB] | apply(op()[1] | cut(2) | deref() | aS(np.array, dtype=int)) # file sizes A\n",
    "    # print(f\"sA: {sA} {sB}\")\n",
    "    spA = sA.sum() - sA; spB = sB.sum() + sA # sum prime A, array[files]\n",
    "    sp = spA + spB; sfA = spA/sp; sfB = spB/sp\n",
    "    cA = cpu[a][1]; cB = cpu[b][1] # cpu A\n",
    "    c = cA + cB; cfA = cA/c; cfB = cB/c # cpu fraction A\n",
    "    # print(f\"sfA: {sfA}, cfA: {cfA}\")\n",
    "    exp = 5 # intuition says that exp should be even. But that doesn't work. Odd values work tho, but I have no idea why\n",
    "    idx = fA[1][((sfA-cfA)**exp + (sfB-cfB)**exp).argmin()][0]\n",
    "    ir2 = move(ir, nA, nB, idx)\n",
    "    return ir2, [nA, nB, idx, score(ir2)]"
   ]
  },
  {
   "cell_type": "code",
   "execution_count": 7,
   "id": "17cbfb4b-c426-42b0-b8d1-8af8d027163f",
   "metadata": {
    "tags": []
   },
   "outputs": [],
   "source": [
    "#export\n",
    "def traj(ir, maxSteps=20):\n",
    "    sc = score(ir); aux = None; auxs = []; irs = []\n",
    "    for i in range(maxSteps):\n",
    "        ir, aux = optimize(ir)\n",
    "        if aux[3] > sc:\n",
    "            #irs.append(ir); auxs.append(aux)\n",
    "            break\n",
    "        irs.append(ir); auxs.append(aux); sc = aux[3]\n",
    "    return irs, auxs"
   ]
  },
  {
   "cell_type": "code",
   "execution_count": 8,
   "id": "507f43e0-a71c-4b84-9e20-9a7574a45c86",
   "metadata": {
    "tags": []
   },
   "outputs": [
    {
     "name": "stdout",
     "output_type": "stream",
     "text": [
      "244f4e340443f74ab302822376195329f45858b65998b4a77f5f4732   4ffae9ae502fde1a76a7b54a0146c943be6d0ac9bba8f7c3e07fdb4d   0    0.298215197046367      \n",
      "244f4e340443f74ab302822376195329f45858b65998b4a77f5f4732   867dc6c8f88045aa165af30a64125aee311f1f64a32f1c43c6ed4dc0   3    0.2914574353376609     \n",
      "244f4e340443f74ab302822376195329f45858b65998b4a77f5f4732   867dc6c8f88045aa165af30a64125aee311f1f64a32f1c43c6ed4dc0   14   0.27410841688253984    \n",
      "244f4e340443f74ab302822376195329f45858b65998b4a77f5f4732   867dc6c8f88045aa165af30a64125aee311f1f64a32f1c43c6ed4dc0   1    0.2740527139855046     \n",
      "244f4e340443f74ab302822376195329f45858b65998b4a77f5f4732   867dc6c8f88045aa165af30a64125aee311f1f64a32f1c43c6ed4dc0   4    0.07415834452522455    \n",
      "244f4e340443f74ab302822376195329f45858b65998b4a77f5f4732   4ffae9ae502fde1a76a7b54a0146c943be6d0ac9bba8f7c3e07fdb4d   2    0.07185421104196338    \n",
      "244f4e340443f74ab302822376195329f45858b65998b4a77f5f4732   4ffae9ae502fde1a76a7b54a0146c943be6d0ac9bba8f7c3e07fdb4d   7    0.07172904825031437    \n",
      "244f4e340443f74ab302822376195329f45858b65998b4a77f5f4732   4ffae9ae502fde1a76a7b54a0146c943be6d0ac9bba8f7c3e07fdb4d   16   0.0715255283405502     \n",
      "244f4e340443f74ab302822376195329f45858b65998b4a77f5f4732   4ffae9ae502fde1a76a7b54a0146c943be6d0ac9bba8f7c3e07fdb4d   10   0.019765948438541382   \n",
      "244f4e340443f74ab302822376195329f45858b65998b4a77f5f4732   4ffae9ae502fde1a76a7b54a0146c943be6d0ac9bba8f7c3e07fdb4d   5    0.004328378691646484   \n"
     ]
    }
   ],
   "source": [
    "traj(ir)[1] | display(None)"
   ]
  },
  {
   "cell_type": "code",
   "execution_count": 9,
   "id": "2417959e-89c4-41c1-89b7-ae1eed49276b",
   "metadata": {
    "tags": []
   },
   "outputs": [],
   "source": [
    "#export\n",
    "def collapse(it):\n",
    "    a, b = it | rows(0, -1)\n",
    "    c = [a[0], b[1], a[2], b[3]]\n",
    "    if c[0] == c[1]: return []\n",
    "    return [c]\n",
    "def traj2(ir):\n",
    "    idx2FileName = ir | apply(lambda arr: [arr[0], arr[2]]) | toDict()\n",
    "    a = traj(ir)[1] | groupBy(2) | filt(lambda x: len(x) > 1).split() | (apply(collapse)) + iden() | joinStreams(2) | deref()\n",
    "    return a | lookup(idx2FileName, 2) | deref()\n",
    "def moveFile(fileName:str, destNodeId:str, timeout=60): # executed on remotes\n",
    "    fn = os.path.expanduser(fileName); dirname = os.path.dirname(fn)\n",
    "    [destNodeId] | applyCl.aS(lambda: None | cmd(f\"mkdir -p {dirname}; rm -f {fn}\") | deref(), timeout=timeout) | deref()\n",
    "    for chunk in cat(fn, False, True): [destNodeId] | applyCl.aS(lambda: chunk >> file(fn), timeout=timeout) | deref()\n",
    "    None | cmd(f\"rm {fn}\") | deref()\n",
    "def balance(base): traj2(getIr(base)) | apply(lambda arr: [arr[0], arr]) | ~applyCl(lambda a,b,fn,sc: moveFile(fn, b), pre=True, timeout=60) | deref()"
   ]
  },
  {
   "cell_type": "code",
   "execution_count": 10,
   "id": "576e9b31-8805-49c8-b267-25367cf7704e",
   "metadata": {},
   "outputs": [
    {
     "data": {
      "text/plain": [
       "[['867dc6c8f88045aa165af30a64125aee311f1f64a32f1c43c6ed4dc0', 0],\n",
       " ['244f4e340443f74ab302822376195329f45858b65998b4a77f5f4732', 260307],\n",
       " ['4ffae9ae502fde1a76a7b54a0146c943be6d0ac9bba8f7c3e07fdb4d', 0]]"
      ]
     },
     "execution_count": 10,
     "metadata": {},
     "output_type": "execute_result"
    }
   ],
   "source": [
    "None | applyCl.aS(lambda: ls(base) | apply(os.path.getsize) | toSum()) | deref()"
   ]
  },
  {
   "cell_type": "code",
   "execution_count": 11,
   "id": "1f5107be-f5ef-4033-8b3c-5ca4ee3d9826",
   "metadata": {
    "tags": []
   },
   "outputs": [],
   "source": [
    "balance(base)"
   ]
  },
  {
   "cell_type": "code",
   "execution_count": 12,
   "id": "dbb64ca4-40a0-4f8c-a4f7-4bc3cacdbc3d",
   "metadata": {
    "tags": []
   },
   "outputs": [
    {
     "data": {
      "text/plain": [
       "[['867dc6c8f88045aa165af30a64125aee311f1f64a32f1c43c6ed4dc0', 66231],\n",
       " ['244f4e340443f74ab302822376195329f45858b65998b4a77f5f4732', 117508],\n",
       " ['4ffae9ae502fde1a76a7b54a0146c943be6d0ac9bba8f7c3e07fdb4d', 76568]]"
      ]
     },
     "execution_count": 12,
     "metadata": {},
     "output_type": "execute_result"
    }
   ],
   "source": [
    "None | applyCl.aS(lambda: ls(base) | apply(os.path.getsize) | toSum()) | deref()"
   ]
  },
  {
   "cell_type": "code",
   "execution_count": 13,
   "id": "4b97031a-1fe0-4d05-a62f-ace86245d46b",
   "metadata": {
    "tags": []
   },
   "outputs": [],
   "source": [
    "assert None | applyCl.aS(lambda: ls(base) | apply(os.path.getsize) | toSum()) | cut(1) | toProd() > 0"
   ]
  },
  {
   "cell_type": "code",
   "execution_count": 14,
   "id": "d76a2d0d-a175-40de-8e65-12cf26bc71ed",
   "metadata": {
    "tags": []
   },
   "outputs": [],
   "source": [
    "torch.loglinspace(10, 1e5, 20).int() | apply(lambda x: \"x\"*x) | insertIdColumn() | ~apply(lambda idx, contents: contents | file(f\"{base}/{idx+21}.txt\")) | deref();"
   ]
  },
  {
   "cell_type": "code",
   "execution_count": 15,
   "id": "6b25f62c-f805-478d-8047-4f97b3cb7a4c",
   "metadata": {
    "tags": []
   },
   "outputs": [],
   "source": [
    "balance(base)"
   ]
  },
  {
   "cell_type": "code",
   "execution_count": 16,
   "id": "9f645bdb-2aa9-4be5-b288-3da991d8d355",
   "metadata": {
    "tags": []
   },
   "outputs": [
    {
     "data": {
      "text/plain": [
       "[['867dc6c8f88045aa165af30a64125aee311f1f64a32f1c43c6ed4dc0', 168485],\n",
       " ['244f4e340443f74ab302822376195329f45858b65998b4a77f5f4732', 275561],\n",
       " ['4ffae9ae502fde1a76a7b54a0146c943be6d0ac9bba8f7c3e07fdb4d', 76568]]"
      ]
     },
     "execution_count": 16,
     "metadata": {},
     "output_type": "execute_result"
    }
   ],
   "source": [
    "None | applyCl.aS(lambda: ls(base) | apply(os.path.getsize) | toSum()) | deref()"
   ]
  },
  {
   "cell_type": "markdown",
   "id": "8b44f1f6-49b4-49a3-9b72-ed9b8690c369",
   "metadata": {},
   "source": [
    "## Linear scale file sizes"
   ]
  },
  {
   "cell_type": "code",
   "execution_count": 17,
   "id": "1f9de969-7dc8-4f98-a671-8894946ddd72",
   "metadata": {
    "tags": []
   },
   "outputs": [
    {
     "data": {
      "text/plain": [
       "[['867dc6c8f88045aa165af30a64125aee311f1f64a32f1c43c6ed4dc0', 244740],\n",
       " ['244f4e340443f74ab302822376195329f45858b65998b4a77f5f4732', 563690],\n",
       " ['4ffae9ae502fde1a76a7b54a0146c943be6d0ac9bba8f7c3e07fdb4d', 291581]]"
      ]
     },
     "execution_count": 17,
     "metadata": {},
     "output_type": "execute_result"
    }
   ],
   "source": [
    "base = \"~/repos/labs/k1lib/k1lib/cli/test/applyCl.balance\"; #base = \"~/ssd2/test\"\n",
    "applyCl.cmd(f\"rm -r {base}\"); applyCl.cmd(f\"mkdir -p {base}\")\n",
    "torch.linspace(1e4, 1e5, 20).int() | apply(lambda x: \"x\"*x) | insertIdColumn() | ~apply(lambda idx, contents: contents | file(f\"{base}/{idx}.txt\")) | deref();\n",
    "balance(base); None | applyCl.aS(lambda: ls(base) | apply(os.path.getsize) | toSum()) | deref()"
   ]
  },
  {
   "cell_type": "code",
   "execution_count": 18,
   "id": "26bfb5fc-4707-4b88-ac38-a5bdfbda76ef",
   "metadata": {
    "tags": []
   },
   "outputs": [
    {
     "data": {
      "text/plain": [
       "[['867dc6c8f88045aa165af30a64125aee311f1f64a32f1c43c6ed4dc0', 597901],\n",
       " ['244f4e340443f74ab302822376195329f45858b65998b4a77f5f4732', 1091065],\n",
       " ['4ffae9ae502fde1a76a7b54a0146c943be6d0ac9bba8f7c3e07fdb4d', 511056]]"
      ]
     },
     "execution_count": 18,
     "metadata": {},
     "output_type": "execute_result"
    }
   ],
   "source": [
    "torch.linspace(1e4, 1e5, 20).int() | apply(lambda x: \"x\"*x) | insertIdColumn() | ~apply(lambda idx, contents: contents | file(f\"{base}/{idx+20}.txt\")) | deref();\n",
    "balance(base); None | applyCl.aS(lambda: ls(base) | apply(os.path.getsize) | toSum()) | deref()"
   ]
  },
  {
   "cell_type": "code",
   "execution_count": 19,
   "id": "f553dd87-ed9a-47d8-af80-676ebcebf0f5",
   "metadata": {
    "tags": []
   },
   "outputs": [
    {
     "data": {
      "text/plain": [
       "2200022"
      ]
     },
     "execution_count": 19,
     "metadata": {},
     "output_type": "execute_result"
    }
   ],
   "source": [
    "None | applyCl.aS(lambda: ls(base) | apply(os.path.getsize) | toSum()) | cut(1) | toSum() | deref()"
   ]
  },
  {
   "cell_type": "code",
   "execution_count": 20,
   "id": "a08245ef-c21a-4d35-853b-48ed51f4c95b",
   "metadata": {
    "tags": []
   },
   "outputs": [
    {
     "data": {
      "text/plain": [
       "tensor(2200022)"
      ]
     },
     "execution_count": 20,
     "metadata": {},
     "output_type": "execute_result"
    }
   ],
   "source": [
    "torch.linspace(1e4, 1e5, 20).int() | toSum() | op()*2+40"
   ]
  },
  {
   "cell_type": "code",
   "execution_count": 21,
   "id": "7da17232-4917-4953-80df-da0938224c29",
   "metadata": {
    "tags": []
   },
   "outputs": [
    {
     "data": {
      "text/plain": [
       "[['867dc6c8f88045aa165af30a64125aee311f1f64a32f1c43c6ed4dc0',\n",
       "  ['/home/kelvin/repos/labs/k1lib/k1lib/cli/test/applyCl.balance/13.txt',\n",
       "   '/home/kelvin/repos/labs/k1lib/k1lib/cli/test/applyCl.balance/39.txt',\n",
       "   '/home/kelvin/repos/labs/k1lib/k1lib/cli/test/applyCl.balance/31.txt',\n",
       "   '/home/kelvin/repos/labs/k1lib/k1lib/cli/test/applyCl.balance/17.txt',\n",
       "   '/home/kelvin/repos/labs/k1lib/k1lib/cli/test/applyCl.balance/27.txt',\n",
       "   '/home/kelvin/repos/labs/k1lib/k1lib/cli/test/applyCl.balance/0.txt',\n",
       "   '/home/kelvin/repos/labs/k1lib/k1lib/cli/test/applyCl.balance/18.txt',\n",
       "   '/home/kelvin/repos/labs/k1lib/k1lib/cli/test/applyCl.balance/3.txt',\n",
       "   '/home/kelvin/repos/labs/k1lib/k1lib/cli/test/applyCl.balance/4.txt',\n",
       "   '/home/kelvin/repos/labs/k1lib/k1lib/cli/test/applyCl.balance/2.txt',\n",
       "   '/home/kelvin/repos/labs/k1lib/k1lib/cli/test/applyCl.balance/29.txt']],\n",
       " ['244f4e340443f74ab302822376195329f45858b65998b4a77f5f4732',\n",
       "  ['/home/kelvin/repos/labs/k1lib/k1lib/cli/test/applyCl.balance/23.txt',\n",
       "   '/home/kelvin/repos/labs/k1lib/k1lib/cli/test/applyCl.balance/35.txt',\n",
       "   '/home/kelvin/repos/labs/k1lib/k1lib/cli/test/applyCl.balance/24.txt',\n",
       "   '/home/kelvin/repos/labs/k1lib/k1lib/cli/test/applyCl.balance/25.txt',\n",
       "   '/home/kelvin/repos/labs/k1lib/k1lib/cli/test/applyCl.balance/36.txt',\n",
       "   '/home/kelvin/repos/labs/k1lib/k1lib/cli/test/applyCl.balance/30.txt',\n",
       "   '/home/kelvin/repos/labs/k1lib/k1lib/cli/test/applyCl.balance/22.txt',\n",
       "   '/home/kelvin/repos/labs/k1lib/k1lib/cli/test/applyCl.balance/34.txt',\n",
       "   '/home/kelvin/repos/labs/k1lib/k1lib/cli/test/applyCl.balance/19.txt',\n",
       "   '/home/kelvin/repos/labs/k1lib/k1lib/cli/test/applyCl.balance/16.txt',\n",
       "   '/home/kelvin/repos/labs/k1lib/k1lib/cli/test/applyCl.balance/8.txt',\n",
       "   '/home/kelvin/repos/labs/k1lib/k1lib/cli/test/applyCl.balance/38.txt',\n",
       "   '/home/kelvin/repos/labs/k1lib/k1lib/cli/test/applyCl.balance/12.txt',\n",
       "   '/home/kelvin/repos/labs/k1lib/k1lib/cli/test/applyCl.balance/20.txt',\n",
       "   '/home/kelvin/repos/labs/k1lib/k1lib/cli/test/applyCl.balance/21.txt',\n",
       "   '/home/kelvin/repos/labs/k1lib/k1lib/cli/test/applyCl.balance/1.txt',\n",
       "   '/home/kelvin/repos/labs/k1lib/k1lib/cli/test/applyCl.balance/37.txt',\n",
       "   '/home/kelvin/repos/labs/k1lib/k1lib/cli/test/applyCl.balance/5.txt',\n",
       "   '/home/kelvin/repos/labs/k1lib/k1lib/cli/test/applyCl.balance/6.txt',\n",
       "   '/home/kelvin/repos/labs/k1lib/k1lib/cli/test/applyCl.balance/26.txt',\n",
       "   '/home/kelvin/repos/labs/k1lib/k1lib/cli/test/applyCl.balance/28.txt']],\n",
       " ['4ffae9ae502fde1a76a7b54a0146c943be6d0ac9bba8f7c3e07fdb4d',\n",
       "  ['/home/kelvin/repos/labs/k1lib/k1lib/cli/test/applyCl.balance/32.txt',\n",
       "   '/home/kelvin/repos/labs/k1lib/k1lib/cli/test/applyCl.balance/11.txt',\n",
       "   '/home/kelvin/repos/labs/k1lib/k1lib/cli/test/applyCl.balance/33.txt',\n",
       "   '/home/kelvin/repos/labs/k1lib/k1lib/cli/test/applyCl.balance/9.txt',\n",
       "   '/home/kelvin/repos/labs/k1lib/k1lib/cli/test/applyCl.balance/10.txt',\n",
       "   '/home/kelvin/repos/labs/k1lib/k1lib/cli/test/applyCl.balance/15.txt',\n",
       "   '/home/kelvin/repos/labs/k1lib/k1lib/cli/test/applyCl.balance/14.txt',\n",
       "   '/home/kelvin/repos/labs/k1lib/k1lib/cli/test/applyCl.balance/7.txt']]]"
      ]
     },
     "execution_count": 21,
     "metadata": {},
     "output_type": "execute_result"
    }
   ],
   "source": [
    "None | applyCl.aS(lambda: ls(base)) | deref()"
   ]
  },
  {
   "cell_type": "markdown",
   "id": "d5c5e33b-5728-40c6-b1c0-1d831abc0502",
   "metadata": {},
   "source": [
    "Looks about right."
   ]
  },
  {
   "cell_type": "markdown",
   "id": "503a9d1f-a5e7-45ec-9bff-854a023e4aad",
   "metadata": {},
   "source": [
    "# Distributed download"
   ]
  },
  {
   "cell_type": "code",
   "execution_count": 22,
   "id": "40a8fa96-1fd0-4992-9f36-7403586a58bc",
   "metadata": {
    "tags": []
   },
   "outputs": [],
   "source": [
    "from k1lib.imports import *"
   ]
  },
  {
   "cell_type": "code",
   "execution_count": 23,
   "id": "df014a73-e2c0-4f02-9afd-ac269c2f9dbf",
   "metadata": {
    "tags": []
   },
   "outputs": [],
   "source": [
    "#export\n",
    "def getSize(url):\n",
    "    for i in range(10):\n",
    "        try: return requests.head(url, timeout=3).headers.items() | apply(op().lower(), 0) | toDict() | op()[\"content-length\"].ab_int()\n",
    "        except Exception as e:\n",
    "            if i == 9: raise Exception(f\"Can't get size of file\")\n",
    "class NoPartialContent(Exception): pass\n",
    "def getChunk(url:str, sB:int, eB:int, timeout:float) -> bytes:\n",
    "    for i in range(10):\n",
    "        try: res = requests.get(url, headers={\"Range\": f\"bytes={sB}-{eB}\"}, timeout=timeout)\n",
    "        except Exception as e:\n",
    "            if i == 9: raise Exception(f\"Can't get file chunk\")\n",
    "            continue\n",
    "        if res.status_code != 206: raise NoPartialContent(\"Server doesn't allow partial downloads at this particular url\")\n",
    "        return res.content\n",
    "def getChunks(url:str, sB:int, eB:int, chunkSize=None, chunkTimeout:float=10) -> List[bytes]:\n",
    "    \"\"\"Grabs bytes from sB to eB in chunks\"\"\"\n",
    "    chunkSize = chunkSize or settings.cli.cat.chunkSize\n",
    "    return range(sB, eB+1) | batched(chunkSize, True) | apply(lambda r: getChunk(url, r.start, r.stop-1, chunkTimeout))\n",
    "def download(url:str, folder:str, merge:bool=False, timeout=120, chunkTimeout=5):\n",
    "    getChunk(url, 0, 1, 10) # try to see if server accepts partial downloads first\n",
    "    folder = os.path.expanduser(folder); dirname = os.path.dirname(folder)\n",
    "    if merge: destFile = folder; folder = b\"\" | file(); None | cmd(f\"rm -rf {folder}\") | ignore(); None | cmd(f\"mkdir -p {folder}\") | ignore()\n",
    "    applyCl.cmd(f\"rm -rf {folder}\"); applyCl.cmd(f\"mkdir -p {folder}\"); size = getSize(url)\n",
    "    cpus = None | applyCl.aS(lambda: applyCl.cpu()) | deref(); n = cpus | cut(1) | toSum()\n",
    "    tasks = [cpus | ~apply(lambda x,y: [x]*y) | joinStreams(), range(size) | splitW(*[1]*n)] | transpose() | insertIdColumn(True, False) | ~apply(lambda x,y,z: [x,[y,f\"{folder}/{z}.bin\"]]) | deref(1)\n",
    "    tasks | ~applyCl(lambda r, fn: getChunks(url, r.start, r.stop-1, None, chunkTimeout) | file(fn), pre=True, timeout=timeout) | deref()\n",
    "    if merge:\n",
    "        None | cmd(f\"rm -rf {destFile}\") | deref()\n",
    "        None | cmd(f\"mkdir -p {dirname}\") | deref()\n",
    "        None | applyCl.aS(lambda: ls(folder)) | ungroup(True, True) | deref() | sortF(op().split(\".bin\")[0].split(\"/\")[-1].ab_int(), 1) | applyCl(cat(text=False), pre=True) | cut(1) | file(destFile)\n",
    "        None | cmd(f\"rm -rf {folder}\") | deref()"
   ]
  },
  {
   "cell_type": "code",
   "execution_count": 24,
   "id": "e95ab36f-c6c0-4153-8077-f15207574aef",
   "metadata": {},
   "outputs": [],
   "source": [
    "url = \"https://vim.kelvinho.org\"\n",
    "fn = \"~/repos/labs/k1lib/k1lib/cli/test/applyCl.download\" # file/folder name\n",
    "download(url, fn, True)       # will download distributedly and dump file fragments into the folder fn"
   ]
  },
  {
   "cell_type": "markdown",
   "id": "21499bfa-9e4a-4eb6-ba42-e7358e6f1136",
   "metadata": {},
   "source": [
    "# Advanced split file"
   ]
  },
  {
   "cell_type": "code",
   "execution_count": 1,
   "id": "1c590e30-a27e-4847-b087-11fb976419d6",
   "metadata": {
    "tags": []
   },
   "outputs": [
    {
     "data": {
      "text/html": [
       "<style>\n",
       "    div.jp-OutputArea-output pre {white-space: pre;}\n",
       "    div.output_area pre {white-space: pre;}\n",
       "    div.CodeMirror > div.highlight {overflow-y: auto;}\n",
       "</style>"
      ],
      "text/plain": [
       "<IPython.core.display.HTML object>"
      ]
     },
     "metadata": {},
     "output_type": "display_data"
    },
    {
     "name": "stderr",
     "output_type": "stream",
     "text": [
      "2023-05-15 11:03:04,854\tINFO worker.py:1364 -- Connecting to existing Ray cluster at address: 192.168.1.35:6379...\n",
      "2023-05-15 11:03:04,858\tINFO worker.py:1544 -- Connected to Ray cluster. View the dashboard at \u001b[1m\u001b[32m127.0.0.1:8265 \u001b[39m\u001b[22m\n"
     ]
    },
    {
     "data": {
      "text/plain": [
       "[['867dc6c8f88045aa165af30a64125aee311f1f64a32f1c43c6ed4dc0', 110001],\n",
       " ['244f4e340443f74ab302822376195329f45858b65998b4a77f5f4732', 110001],\n",
       " ['4ffae9ae502fde1a76a7b54a0146c943be6d0ac9bba8f7c3e07fdb4d', 0]]"
      ]
     },
     "execution_count": 1,
     "metadata": {},
     "output_type": "execute_result"
    }
   ],
   "source": [
    "from k1lib.imports import *\n",
    "base = \"/home/kelvin/repos/labs/k1lib/k1lib/cli/test/applyCl.advSplit\"\n",
    "fn = f\"{base}/a.txt\"\n",
    "def reset():\n",
    "    applyCl.cmd(f\"rm -r {base}\"); applyCl.cmd(f\"mkdir -p {base}\")\n",
    "    applyCl.nodeIds() | head(2) | applyCl.aS(lambda: \"0123456789\\n\"*10000 | file(fn)) | deref()\n",
    "def status(): return None | applyCl.aS(lambda: fn | (tryout(0) | cat(text=False) | shape(0))) | deref()\n",
    "nodeIds = applyCl.nodeIds(); reset(); status()"
   ]
  },
  {
   "cell_type": "code",
   "execution_count": 2,
   "id": "61b84f07-129f-4db3-8f46-8b8a933b747f",
   "metadata": {
    "tags": []
   },
   "outputs": [
    {
     "data": {
      "text/plain": [
       "[['867dc6c8f88045aa165af30a64125aee311f1f64a32f1c43c6ed4dc0', [0, 4567]],\n",
       " ['244f4e340443f74ab302822376195329f45858b65998b4a77f5f4732', [1234, 12345]]]"
      ]
     },
     "execution_count": 2,
     "metadata": {},
     "output_type": "execute_result"
    }
   ],
   "source": [
    "nse = [applyCl.nodeIds()[:2], [0, 1234], [4567, 12345]] | transpose() | apply(lambda arr: [arr[0], arr[1:]]) | deref(); nse"
   ]
  },
  {
   "cell_type": "code",
   "execution_count": 3,
   "id": "82fe311a-ced7-4318-842c-072a48d3ea71",
   "metadata": {
    "tags": []
   },
   "outputs": [],
   "source": [
    "#export\n",
    "def a_transfer(fn, nse, nodeB, rpF:callable=iden()):\n",
    "    \"\"\"Transfers a lot of blocks from a bunch of nodes to nodeB. Does not delete from those node though\n",
    "\n",
    "nse = List[nodeAId, [sB, eB]]\n",
    "\n",
    "Runs on driver process, blocks, so better use applyTh outside of this\n",
    "\n",
    ":param rpF: ray progress function\"\"\"\n",
    "    blockSize = settings.cli.cat.chunkSize\n",
    "    def inner():\n",
    "        totalBytes = nse | cut(1) | ~apply(lambda x,y:y-x) | toSum(); currentByte = 0\n",
    "        for chunk in nse | ~apply(lambda x, y: range(x, y) | batched(blockSize, True) | apply(\"[x.start, x.stop]\"), 1) | ungroup(True, True) | deref()\\\n",
    "            | ~applyCl(lambda sB, eB: cat(fn, False, sB=sB, eB=eB), pre=True) | cut(1):\n",
    "            chunk >> file(fn); currentByte += len(chunk); rpF(currentByte/totalBytes)\n",
    "    [nodeB] | applyCl.aS(inner) | item()"
   ]
  },
  {
   "cell_type": "code",
   "execution_count": 4,
   "id": "adf1b6e1-67ba-4db8-b338-9b0a1852f025",
   "metadata": {
    "tags": []
   },
   "outputs": [
    {
     "name": "stdout",
     "output_type": "stream",
     "text": [
      "CPU times: user 15.9 ms, sys: 3.1 ms, total: 19 ms\n",
      "Wall time: 148 ms\n"
     ]
    }
   ],
   "source": [
    "%%time\n",
    "reset()\n",
    "a_transfer(fn, nse, applyCl.nodeIds()[2])\n",
    "assert None | applyCl.aS(lambda: cat(fn, False) | shape(0)) | deref() | op()[2][1] == 4567+11111"
   ]
  },
  {
   "cell_type": "code",
   "execution_count": 5,
   "id": "dff96082-56bd-472c-b9be-0c64926a37a0",
   "metadata": {
    "tags": []
   },
   "outputs": [],
   "source": [
    "#export\n",
    "def decommission(fn:str, nodeAs:List[str], nodeBs:List[str], rS=iden()):\n",
    "    \"\"\"Spreads out a particular file in nodeAs to all nodeBs, to prepare\n",
    "to decomission nodeAs. The 2 sets should be mutually exclusive\n",
    "\n",
    ":param rS: instance of refineSeek\"\"\"\n",
    "    nodeAs, nodeBs = [nodeAs, nodeBs] | deref()\n",
    "    if len(nodeAs) == 0: return\n",
    "    if len(nodeBs) == 0: raise Exception(\"Unsupported configuration! Trying to move data from A+B to C+D. Has to have some shared nodes, like moving data from A+B+C to B+C+D. This is not a fundamental limitation, but just can't be done with the current architecture. Might be fixed in the future.\")\n",
    "    # some initial metadata\n",
    "    nodeIds = applyCl.nodeIds(); nodeId_cpu = nodeIds | applyCl.aS(lambda: applyCl.cpu()) | deref(); nodeId2Cpu = nodeId_cpu | toDict()\n",
    "    ws = nodeId_cpu | inSet(nodeBs, 0) | cut(1) | deref() # weights to split files on nodeAs into\n",
    "    # splitting file on nodeAs into chunks first, to plan things out\n",
    "    a = nodeAs | applyCl.aS(lambda: fn | splitSeek(ws=ws) | rS | window(2) | deref() | insertColumn(nodeBs) | insert(applyCl.nodeId()).all() | deref()) | cut(1) | joinStreams() | deref()\n",
    "    # actually transferring chunks\n",
    "    with ray.progress(a | groupBy(1) | shape(0), \"Decommissioning\") as rp:\n",
    "        c = b = a | groupBy(1, True) | apply(iden() + apply(lambda arr: [arr[0], arr[1:]]) | reverse() | insert(fn)) | deref()\n",
    "        enumerate(c) | applyTh(~aS(lambda idx, e: a_transfer(*e, rpF=aS(lambda p: ray.get(rp.update.remote(idx, p)))))) | deref()\n",
    "    # deleting files from nodeAs\n",
    "    nodeAs | applyCl.aS(lambda: None | cmd(f\"rm -rf {fn}\") | ignore()) | deref()"
   ]
  },
  {
   "cell_type": "code",
   "execution_count": 6,
   "id": "a975b0e6-7369-401a-a540-41c8f46ddc93",
   "metadata": {
    "tags": []
   },
   "outputs": [
    {
     "name": "stdout",
     "output_type": "stream",
     "text": [
      "867dc6c8f88045aa165af30a64125aee311f1f64a32f1c43c6ed4dc0   110001   \n",
      "244f4e340443f74ab302822376195329f45858b65998b4a77f5f4732   110001   \n",
      "4ffae9ae502fde1a76a7b54a0146c943be6d0ac9bba8f7c3e07fdb4d   0        \n",
      "Decommissioning: 100% | 100%\r"
     ]
    }
   ],
   "source": [
    "reset(); status() | display()\n",
    "decommission(fn, *applyCl.nodeIds() | splitW(1, 2))\n",
    "assert status() | ~head(1) | cut(1) | toProd() == 6723517725"
   ]
  },
  {
   "cell_type": "code",
   "execution_count": 7,
   "id": "82c31c8f-4558-401e-b0da-7b048252232d",
   "metadata": {
    "tags": []
   },
   "outputs": [
    {
     "data": {
      "text/plain": [
       "[['867dc6c8f88045aa165af30a64125aee311f1f64a32f1c43c6ed4dc0', 0],\n",
       " ['244f4e340443f74ab302822376195329f45858b65998b4a77f5f4732', 183327],\n",
       " ['4ffae9ae502fde1a76a7b54a0146c943be6d0ac9bba8f7c3e07fdb4d', 36675]]"
      ]
     },
     "execution_count": 7,
     "metadata": {},
     "output_type": "execute_result"
    }
   ],
   "source": [
    "status()"
   ]
  },
  {
   "cell_type": "code",
   "execution_count": 8,
   "id": "d0afd49f-1639-492d-9306-740c48239f22",
   "metadata": {
    "tags": []
   },
   "outputs": [],
   "source": [
    "nAs = [\"867dc6c8f88045aa165af30a64125aee311f1f64a32f1c43c6ed4dc0\", \"244f4e340443f74ab302822376195329f45858b65998b4a77f5f4732\"]\n",
    "nBs = [\"4ffae9ae502fde1a76a7b54a0146c943be6d0ac9bba8f7c3e07fdb4d\"]\n",
    "ns = [*nAs, *nBs]"
   ]
  },
  {
   "cell_type": "code",
   "execution_count": 36,
   "id": "b6f8fffe-4a29-4745-957d-361ea687c3bb",
   "metadata": {
    "tags": []
   },
   "outputs": [],
   "source": [
    "#export\n",
    "def spreadOut(fn:str, nAs:List[str], nBs:List[str]):\n",
    "    \"\"\"Spreads out a file from nodes A to B, where B fully contains A (no decomissioning).\n",
    "A and B should be mutually exclusive. Initial nodes are A, final nodes are A + B\"\"\"\n",
    "    nAs, nBs = [nAs, nBs] | deref()\n",
    "    if len(nBs) == 0: return # no need to spread out\n",
    "    nBs | applyCl.aS(lambda: None | cmd(f\"mkdir -p {os.path.dirname(fn)}\") | deref()) | deref()\n",
    "    nBs | applyCl.aS(lambda: None | cmd(f\"rm -rf {fn}\") | deref()) | deref()\n",
    "    # some initial metadata\n",
    "    nodeIds = applyCl.nodeIds(); nodeId_cpu = nodeIds | applyCl.aS(lambda: applyCl.cpu()) | deref(); nodeId2Cpu = nodeId_cpu | toDict()\n",
    "    sizes = nAs | applyCl.aS(lambda: os.path.getsize(fn) if os.path.exists(fn) else 0) | deref(); totalSize = sizes | cut(1) | toSum()\n",
    "    ns = [*nAs, *nBs]; totalCpu = ns | lookup(nodeId2Cpu) | toSum(); bytePerCpu = totalSize/totalCpu; wsB = nBs | lookup(nodeId2Cpu) | deref()\n",
    "    # prepares segments and metadata, List[nodeId, [sB, eB]], where sB and eB are the ranges of nAs that they're willing to share\n",
    "    sizePost = sizes | ~apply(lambda idx, size: [idx, nodeId2Cpu[idx]/totalCpu*totalSize/size]) | deref()\n",
    "    invalidNodes = sizePost | ~filt(lambda x: 0 <= x <= 1, 1) | cut(0) | deref()\n",
    "    if len(invalidNodes) > 0: raise Exception(f\"Unsupported configuration! These nodes have too little data to share: {invalidNodes}. This couldn't have happen using applyCl alone. Data is not corrupted, but you'll have to combine data from all files into 1 and spread them back out again.\")\n",
    "    inter = sizePost | ~apply(lambda idx, x: [idx, [x, 1-x]]) | applyCl(lambda ws: fn | splitSeek(ws=ws) | ~head(1), pre=True) | deref() | filt(~aS(lambda x,y: y-x>0), 1) | deref()\n",
    "    # actually transferring data to new nodes\n",
    "    meta = inter | apply(~aS(range) | splitW(*wsB) | apply(wrapList()) | insertColumn(nBs) | deref(1), 1) | ungroup(begin=True) | apply(\"[x.start, x.stop]\", 2) | groupBy(1, True) | deref()\n",
    "    with ray.progress(len(meta), \"Transferring data to new nodes\") as rp:\n",
    "        meta | insertIdColumn(True) | applyTh(~aS(lambda idx, nB, nse: a_transfer(fn, nse, nB, rpF=aS(lambda p: ray.get(rp.update.remote(idx, p)))))) | deref()\n",
    "    # truncates the files in nAs nodes\n",
    "    inter | ~apply(lambda idx,se: [idx,se[0]]) | applyCl(lambda sB: open(fn, 'a').truncate(sB), pre=True) | deref()"
   ]
  },
  {
   "cell_type": "code",
   "execution_count": 37,
   "id": "a6e05cdd-7e8c-461d-a732-bff4897af027",
   "metadata": {
    "tags": []
   },
   "outputs": [],
   "source": [
    "#export\n",
    "def balanceFile(fn:str, nAs:List[str]=None, nBs:List[str]=None):\n",
    "    fn = os.path.expanduser(fn)\n",
    "    if nAs is None: nAs = None | applyCl.aS(lambda: os.path.exists(fn)) | filt(op(), 1) | cut(0) | deref()\n",
    "    if nBs is None: nBs = applyCl.nodeIds()\n",
    "    decommission(fn, *nAs | inSet(nBs).split() | reverse())\n",
    "    spreadOut(fn, *nBs | inSet(nAs).split())"
   ]
  },
  {
   "cell_type": "code",
   "execution_count": 35,
   "id": "9979046b-4518-45cc-b364-0021833c8c1e",
   "metadata": {
    "tags": []
   },
   "outputs": [
    {
     "data": {
      "text/plain": [
       "[['867dc6c8f88045aa165af30a64125aee311f1f64a32f1c43c6ed4dc0', 8],\n",
       " ['244f4e340443f74ab302822376195329f45858b65998b4a77f5f4732', 16],\n",
       " ['4ffae9ae502fde1a76a7b54a0146c943be6d0ac9bba8f7c3e07fdb4d', 8]]"
      ]
     },
     "execution_count": 35,
     "metadata": {},
     "output_type": "execute_result"
    }
   ],
   "source": [
    "None | applyCl.aS(lambda: applyCl.cpu()) | deref()"
   ]
  },
  {
   "cell_type": "code",
   "execution_count": 30,
   "id": "f2af6c8e-4143-4988-8085-e78c9f87d8f9",
   "metadata": {
    "tags": []
   },
   "outputs": [
    {
     "data": {
      "text/plain": [
       "[['867dc6c8f88045aa165af30a64125aee311f1f64a32f1c43c6ed4dc0', 110001],\n",
       " ['244f4e340443f74ab302822376195329f45858b65998b4a77f5f4732', 165002],\n",
       " ['4ffae9ae502fde1a76a7b54a0146c943be6d0ac9bba8f7c3e07fdb4d', 0]]"
      ]
     },
     "execution_count": 30,
     "metadata": {},
     "output_type": "execute_result"
    }
   ],
   "source": [
    "reset(); \"0123456789\\n\"*5000 >> file(fn); status()"
   ]
  },
  {
   "cell_type": "code",
   "execution_count": 31,
   "id": "5df6f742-7d43-47db-ad84-6082349f5932",
   "metadata": {
    "tags": []
   },
   "outputs": [
    {
     "name": "stdout",
     "output_type": "stream",
     "text": [
      "Transferring data to new nodes: 100%\r"
     ]
    }
   ],
   "source": [
    "balanceFile(fn)"
   ]
  },
  {
   "cell_type": "code",
   "execution_count": 32,
   "id": "7874defb-33f0-4def-b28f-6ed7597a414c",
   "metadata": {
    "tags": []
   },
   "outputs": [
    {
     "data": {
      "text/plain": [
       "[['867dc6c8f88045aa165af30a64125aee311f1f64a32f1c43c6ed4dc0', 68750],\n",
       " ['244f4e340443f74ab302822376195329f45858b65998b4a77f5f4732', 137501],\n",
       " ['4ffae9ae502fde1a76a7b54a0146c943be6d0ac9bba8f7c3e07fdb4d', 68752]]"
      ]
     },
     "execution_count": 32,
     "metadata": {},
     "output_type": "execute_result"
    }
   ],
   "source": [
    "status()"
   ]
  },
  {
   "cell_type": "code",
   "execution_count": 33,
   "id": "7462b52e-0f25-486d-aef5-6e575fb9e0f2",
   "metadata": {
    "tags": []
   },
   "outputs": [
    {
     "name": "stdout",
     "output_type": "stream",
     "text": [
      "Decommissioning: 100% | 100%\r"
     ]
    }
   ],
   "source": [
    "balanceFile(fn, nBs=[\"867dc6c8f88045aa165af30a64125aee311f1f64a32f1c43c6ed4dc0\", \"4ffae9ae502fde1a76a7b54a0146c943be6d0ac9bba8f7c3e07fdb4d\"])"
   ]
  },
  {
   "cell_type": "code",
   "execution_count": 34,
   "id": "d1a28c41-1a20-41a8-8e09-42797d388ce3",
   "metadata": {
    "tags": []
   },
   "outputs": [
    {
     "data": {
      "text/plain": [
       "[['867dc6c8f88045aa165af30a64125aee311f1f64a32f1c43c6ed4dc0', 137500],\n",
       " ['244f4e340443f74ab302822376195329f45858b65998b4a77f5f4732', 0],\n",
       " ['4ffae9ae502fde1a76a7b54a0146c943be6d0ac9bba8f7c3e07fdb4d', 137503]]"
      ]
     },
     "execution_count": 34,
     "metadata": {},
     "output_type": "execute_result"
    }
   ],
   "source": [
    "status()"
   ]
  },
  {
   "cell_type": "code",
   "execution_count": 39,
   "id": "d0fe1279-865e-43f3-8ba3-819b11552066",
   "metadata": {
    "scrolled": true,
    "tags": []
   },
   "outputs": [
    {
     "name": "stdout",
     "output_type": "stream",
     "text": [
      "Current dir: /home/kelvin/repos/labs/k1lib, /home/kelvin/repos/labs/k1lib/k1lib/cli/../../export.py\n",
      "rm: cannot remove '__pycache__': No such file or directory\n",
      "Found existing installation: k1lib 1.3.7.10\n",
      "Uninstalling k1lib-1.3.7.10:\n",
      "  Successfully uninstalled k1lib-1.3.7.10\n",
      "running install\n",
      "/home/kelvin/anaconda3/envs/ray2/lib/python3.9/site-packages/setuptools/command/install.py:34: SetuptoolsDeprecationWarning: setup.py install is deprecated. Use build and pip and other standards-based tools.\n",
      "  warnings.warn(\n",
      "/home/kelvin/anaconda3/envs/ray2/lib/python3.9/site-packages/setuptools/command/easy_install.py:144: EasyInstallDeprecationWarning: easy_install command is deprecated. Use build and pip and other standards-based tools.\n",
      "  warnings.warn(\n",
      "running bdist_egg\n",
      "running egg_info\n",
      "creating k1lib.egg-info\n",
      "writing k1lib.egg-info/PKG-INFO\n",
      "writing dependency_links to k1lib.egg-info/dependency_links.txt\n",
      "writing requirements to k1lib.egg-info/requires.txt\n",
      "writing top-level names to k1lib.egg-info/top_level.txt\n",
      "writing manifest file 'k1lib.egg-info/SOURCES.txt'\n",
      "reading manifest file 'k1lib.egg-info/SOURCES.txt'\n",
      "adding license file 'LICENSE'\n",
      "writing manifest file 'k1lib.egg-info/SOURCES.txt'\n",
      "installing library code to build/bdist.linux-x86_64/egg\n",
      "running install_lib\n",
      "running build_py\n",
      "creating build\n",
      "creating build/lib\n",
      "creating build/lib/k1lib\n",
      "copying k1lib/_learner.py -> build/lib/k1lib\n",
      "copying k1lib/fmt.py -> build/lib/k1lib\n",
      "copying k1lib/_k1a.py -> build/lib/k1lib\n",
      "copying k1lib/_context.py -> build/lib/k1lib\n",
      "copying k1lib/selector.py -> build/lib/k1lib\n",
      "copying k1lib/imports.py -> build/lib/k1lib\n",
      "copying k1lib/_baseClasses.py -> build/lib/k1lib\n",
      "copying k1lib/_basics.py -> build/lib/k1lib\n",
      "copying k1lib/viz.py -> build/lib/k1lib\n",
      "copying k1lib/_higher.py -> build/lib/k1lib\n",
      "copying k1lib/__init__.py -> build/lib/k1lib\n",
      "copying k1lib/_monkey.py -> build/lib/k1lib\n",
      "copying k1lib/knn.py -> build/lib/k1lib\n",
      "copying k1lib/p5.py -> build/lib/k1lib\n",
      "copying k1lib/graphEqn.py -> build/lib/k1lib\n",
      "copying k1lib/schedule.py -> build/lib/k1lib\n",
      "copying k1lib/_perlin.py -> build/lib/k1lib\n",
      "copying k1lib/eqn.py -> build/lib/k1lib\n",
      "creating build/lib/k1lib/_hidden\n",
      "copying k1lib/_hidden/hiddenFile.py -> build/lib/k1lib/_hidden\n",
      "copying k1lib/_hidden/__init__.py -> build/lib/k1lib/_hidden\n",
      "creating build/lib/k1lib/cli\n",
      "copying k1lib/cli/bio.py -> build/lib/k1lib/cli\n",
      "copying k1lib/cli/cif.py -> build/lib/k1lib/cli\n",
      "copying k1lib/cli/structural.py -> build/lib/k1lib/cli\n",
      "copying k1lib/cli/modifier.py -> build/lib/k1lib/cli\n",
      "copying k1lib/cli/gb.py -> build/lib/k1lib/cli\n",
      "copying k1lib/cli/output.py -> build/lib/k1lib/cli\n",
      "copying k1lib/cli/kxml.py -> build/lib/k1lib/cli\n",
      "copying k1lib/cli/nb.py -> build/lib/k1lib/cli\n",
      "copying k1lib/cli/inp.py -> build/lib/k1lib/cli\n",
      "copying k1lib/cli/mol.py -> build/lib/k1lib/cli\n",
      "copying k1lib/cli/mgi.py -> build/lib/k1lib/cli\n",
      "copying k1lib/cli/_applyCl.py -> build/lib/k1lib/cli\n",
      "copying k1lib/cli/grep.py -> build/lib/k1lib/cli\n",
      "copying k1lib/cli/sam.py -> build/lib/k1lib/cli\n",
      "copying k1lib/cli/trace.py -> build/lib/k1lib/cli\n",
      "copying k1lib/cli/__init__.py -> build/lib/k1lib/cli\n",
      "copying k1lib/cli/typehint.py -> build/lib/k1lib/cli\n",
      "copying k1lib/cli/filt.py -> build/lib/k1lib/cli\n",
      "copying k1lib/cli/utils.py -> build/lib/k1lib/cli\n",
      "copying k1lib/cli/init.py -> build/lib/k1lib/cli\n",
      "copying k1lib/cli/conv.py -> build/lib/k1lib/cli\n",
      "copying k1lib/cli/optimizations.py -> build/lib/k1lib/cli\n",
      "copying k1lib/cli/kcsv.py -> build/lib/k1lib/cli\n",
      "creating build/lib/k1lib/callbacks\n",
      "copying k1lib/callbacks/loss_accuracy.py -> build/lib/k1lib/callbacks\n",
      "copying k1lib/callbacks/progress.py -> build/lib/k1lib/callbacks\n",
      "copying k1lib/callbacks/limits.py -> build/lib/k1lib/callbacks\n",
      "copying k1lib/callbacks/hookParam.py -> build/lib/k1lib/callbacks\n",
      "copying k1lib/callbacks/profiler.py -> build/lib/k1lib/callbacks\n",
      "copying k1lib/callbacks/callbacks.py -> build/lib/k1lib/callbacks\n",
      "copying k1lib/callbacks/paramFinder.py -> build/lib/k1lib/callbacks\n",
      "copying k1lib/callbacks/core.py -> build/lib/k1lib/callbacks\n",
      "copying k1lib/callbacks/__init__.py -> build/lib/k1lib/callbacks\n",
      "copying k1lib/callbacks/landscape.py -> build/lib/k1lib/callbacks\n",
      "copying k1lib/callbacks/confusionMatrix.py -> build/lib/k1lib/callbacks\n",
      "copying k1lib/callbacks/recorder.py -> build/lib/k1lib/callbacks\n",
      "copying k1lib/callbacks/shorts.py -> build/lib/k1lib/callbacks\n",
      "copying k1lib/callbacks/hookModule.py -> build/lib/k1lib/callbacks\n",
      "creating build/lib/k1lib/callbacks/profilers\n",
      "copying k1lib/callbacks/profilers/time.py -> build/lib/k1lib/callbacks/profilers\n",
      "copying k1lib/callbacks/profilers/memory.py -> build/lib/k1lib/callbacks/profilers\n",
      "copying k1lib/callbacks/profilers/__init__.py -> build/lib/k1lib/callbacks/profilers\n",
      "copying k1lib/callbacks/profilers/io.py -> build/lib/k1lib/callbacks/profilers\n",
      "copying k1lib/callbacks/profilers/computation.py -> build/lib/k1lib/callbacks/profilers\n",
      "creating build/lib/k1lib/callbacks/lossFunctions\n",
      "copying k1lib/callbacks/lossFunctions/accuracy.py -> build/lib/k1lib/callbacks/lossFunctions\n",
      "copying k1lib/callbacks/lossFunctions/__init__.py -> build/lib/k1lib/callbacks/lossFunctions\n",
      "copying k1lib/callbacks/lossFunctions/shorts.py -> build/lib/k1lib/callbacks/lossFunctions\n",
      "creating build/lib/k1lib/_mo\n",
      "copying k1lib/_mo/atom.py -> build/lib/k1lib/_mo\n",
      "copying k1lib/_mo/parseM.py -> build/lib/k1lib/_mo\n",
      "copying k1lib/_mo/substance.py -> build/lib/k1lib/_mo\n",
      "copying k1lib/_mo/system.py -> build/lib/k1lib/_mo\n",
      "copying k1lib/_mo/__init__.py -> build/lib/k1lib/_mo\n",
      "creating build/lib/k1lib/serve\n",
      "copying k1lib/serve/suffix.py -> build/lib/k1lib/serve\n",
      "copying k1lib/serve/suffix-dash.py -> build/lib/k1lib/serve\n",
      "copying k1lib/serve/__init__.py -> build/lib/k1lib/serve\n",
      "copying k1lib/serve/main.py -> build/lib/k1lib/serve\n",
      "creating build/lib/k1lib/k1ui\n",
      "copying k1lib/k1ui/__init__.py -> build/lib/k1lib/k1ui\n",
      "copying k1lib/k1ui/main.py -> build/lib/k1lib/k1ui\n",
      "creating build/bdist.linux-x86_64\n",
      "creating build/bdist.linux-x86_64/egg\n",
      "creating build/bdist.linux-x86_64/egg/k1lib\n",
      "copying build/lib/k1lib/_learner.py -> build/bdist.linux-x86_64/egg/k1lib\n",
      "creating build/bdist.linux-x86_64/egg/k1lib/serve\n",
      "copying build/lib/k1lib/serve/suffix.py -> build/bdist.linux-x86_64/egg/k1lib/serve\n",
      "copying build/lib/k1lib/serve/suffix-dash.py -> build/bdist.linux-x86_64/egg/k1lib/serve\n",
      "copying build/lib/k1lib/serve/__init__.py -> build/bdist.linux-x86_64/egg/k1lib/serve\n",
      "copying build/lib/k1lib/serve/main.py -> build/bdist.linux-x86_64/egg/k1lib/serve\n",
      "copying build/lib/k1lib/fmt.py -> build/bdist.linux-x86_64/egg/k1lib\n",
      "copying build/lib/k1lib/_k1a.py -> build/bdist.linux-x86_64/egg/k1lib\n",
      "copying build/lib/k1lib/_context.py -> build/bdist.linux-x86_64/egg/k1lib\n",
      "copying build/lib/k1lib/selector.py -> build/bdist.linux-x86_64/egg/k1lib\n",
      "copying build/lib/k1lib/imports.py -> build/bdist.linux-x86_64/egg/k1lib\n",
      "creating build/bdist.linux-x86_64/egg/k1lib/k1ui\n",
      "copying build/lib/k1lib/k1ui/__init__.py -> build/bdist.linux-x86_64/egg/k1lib/k1ui\n",
      "copying build/lib/k1lib/k1ui/main.py -> build/bdist.linux-x86_64/egg/k1lib/k1ui\n",
      "copying build/lib/k1lib/_baseClasses.py -> build/bdist.linux-x86_64/egg/k1lib\n",
      "copying build/lib/k1lib/_basics.py -> build/bdist.linux-x86_64/egg/k1lib\n",
      "creating build/bdist.linux-x86_64/egg/k1lib/cli\n",
      "copying build/lib/k1lib/cli/bio.py -> build/bdist.linux-x86_64/egg/k1lib/cli\n",
      "copying build/lib/k1lib/cli/cif.py -> build/bdist.linux-x86_64/egg/k1lib/cli\n",
      "copying build/lib/k1lib/cli/structural.py -> build/bdist.linux-x86_64/egg/k1lib/cli\n",
      "copying build/lib/k1lib/cli/modifier.py -> build/bdist.linux-x86_64/egg/k1lib/cli\n",
      "copying build/lib/k1lib/cli/gb.py -> build/bdist.linux-x86_64/egg/k1lib/cli\n",
      "copying build/lib/k1lib/cli/output.py -> build/bdist.linux-x86_64/egg/k1lib/cli\n",
      "copying build/lib/k1lib/cli/kxml.py -> build/bdist.linux-x86_64/egg/k1lib/cli\n",
      "copying build/lib/k1lib/cli/nb.py -> build/bdist.linux-x86_64/egg/k1lib/cli\n",
      "copying build/lib/k1lib/cli/inp.py -> build/bdist.linux-x86_64/egg/k1lib/cli\n",
      "copying build/lib/k1lib/cli/mol.py -> build/bdist.linux-x86_64/egg/k1lib/cli\n",
      "copying build/lib/k1lib/cli/mgi.py -> build/bdist.linux-x86_64/egg/k1lib/cli\n",
      "copying build/lib/k1lib/cli/_applyCl.py -> build/bdist.linux-x86_64/egg/k1lib/cli\n",
      "copying build/lib/k1lib/cli/grep.py -> build/bdist.linux-x86_64/egg/k1lib/cli\n",
      "copying build/lib/k1lib/cli/sam.py -> build/bdist.linux-x86_64/egg/k1lib/cli\n",
      "copying build/lib/k1lib/cli/trace.py -> build/bdist.linux-x86_64/egg/k1lib/cli\n",
      "copying build/lib/k1lib/cli/__init__.py -> build/bdist.linux-x86_64/egg/k1lib/cli\n",
      "copying build/lib/k1lib/cli/typehint.py -> build/bdist.linux-x86_64/egg/k1lib/cli\n",
      "copying build/lib/k1lib/cli/filt.py -> build/bdist.linux-x86_64/egg/k1lib/cli\n",
      "copying build/lib/k1lib/cli/utils.py -> build/bdist.linux-x86_64/egg/k1lib/cli\n",
      "copying build/lib/k1lib/cli/init.py -> build/bdist.linux-x86_64/egg/k1lib/cli\n",
      "copying build/lib/k1lib/cli/conv.py -> build/bdist.linux-x86_64/egg/k1lib/cli\n",
      "copying build/lib/k1lib/cli/optimizations.py -> build/bdist.linux-x86_64/egg/k1lib/cli\n",
      "copying build/lib/k1lib/cli/kcsv.py -> build/bdist.linux-x86_64/egg/k1lib/cli\n",
      "copying build/lib/k1lib/viz.py -> build/bdist.linux-x86_64/egg/k1lib\n",
      "copying build/lib/k1lib/_higher.py -> build/bdist.linux-x86_64/egg/k1lib\n",
      "copying build/lib/k1lib/__init__.py -> build/bdist.linux-x86_64/egg/k1lib\n",
      "copying build/lib/k1lib/_monkey.py -> build/bdist.linux-x86_64/egg/k1lib\n",
      "creating build/bdist.linux-x86_64/egg/k1lib/_mo\n",
      "copying build/lib/k1lib/_mo/atom.py -> build/bdist.linux-x86_64/egg/k1lib/_mo\n",
      "copying build/lib/k1lib/_mo/parseM.py -> build/bdist.linux-x86_64/egg/k1lib/_mo\n",
      "copying build/lib/k1lib/_mo/substance.py -> build/bdist.linux-x86_64/egg/k1lib/_mo\n",
      "copying build/lib/k1lib/_mo/system.py -> build/bdist.linux-x86_64/egg/k1lib/_mo\n",
      "copying build/lib/k1lib/_mo/__init__.py -> build/bdist.linux-x86_64/egg/k1lib/_mo\n",
      "copying build/lib/k1lib/knn.py -> build/bdist.linux-x86_64/egg/k1lib\n",
      "copying build/lib/k1lib/p5.py -> build/bdist.linux-x86_64/egg/k1lib\n",
      "copying build/lib/k1lib/graphEqn.py -> build/bdist.linux-x86_64/egg/k1lib\n",
      "copying build/lib/k1lib/schedule.py -> build/bdist.linux-x86_64/egg/k1lib\n",
      "creating build/bdist.linux-x86_64/egg/k1lib/callbacks\n",
      "copying build/lib/k1lib/callbacks/loss_accuracy.py -> build/bdist.linux-x86_64/egg/k1lib/callbacks\n",
      "copying build/lib/k1lib/callbacks/progress.py -> build/bdist.linux-x86_64/egg/k1lib/callbacks\n",
      "copying build/lib/k1lib/callbacks/limits.py -> build/bdist.linux-x86_64/egg/k1lib/callbacks\n",
      "copying build/lib/k1lib/callbacks/hookParam.py -> build/bdist.linux-x86_64/egg/k1lib/callbacks\n",
      "copying build/lib/k1lib/callbacks/profiler.py -> build/bdist.linux-x86_64/egg/k1lib/callbacks\n",
      "copying build/lib/k1lib/callbacks/callbacks.py -> build/bdist.linux-x86_64/egg/k1lib/callbacks\n",
      "copying build/lib/k1lib/callbacks/paramFinder.py -> build/bdist.linux-x86_64/egg/k1lib/callbacks\n",
      "copying build/lib/k1lib/callbacks/core.py -> build/bdist.linux-x86_64/egg/k1lib/callbacks\n",
      "creating build/bdist.linux-x86_64/egg/k1lib/callbacks/profilers\n",
      "copying build/lib/k1lib/callbacks/profilers/time.py -> build/bdist.linux-x86_64/egg/k1lib/callbacks/profilers\n",
      "copying build/lib/k1lib/callbacks/profilers/memory.py -> build/bdist.linux-x86_64/egg/k1lib/callbacks/profilers\n",
      "copying build/lib/k1lib/callbacks/profilers/__init__.py -> build/bdist.linux-x86_64/egg/k1lib/callbacks/profilers\n",
      "copying build/lib/k1lib/callbacks/profilers/io.py -> build/bdist.linux-x86_64/egg/k1lib/callbacks/profilers\n",
      "copying build/lib/k1lib/callbacks/profilers/computation.py -> build/bdist.linux-x86_64/egg/k1lib/callbacks/profilers\n",
      "copying build/lib/k1lib/callbacks/__init__.py -> build/bdist.linux-x86_64/egg/k1lib/callbacks\n",
      "copying build/lib/k1lib/callbacks/landscape.py -> build/bdist.linux-x86_64/egg/k1lib/callbacks\n",
      "copying build/lib/k1lib/callbacks/confusionMatrix.py -> build/bdist.linux-x86_64/egg/k1lib/callbacks\n",
      "copying build/lib/k1lib/callbacks/recorder.py -> build/bdist.linux-x86_64/egg/k1lib/callbacks\n",
      "copying build/lib/k1lib/callbacks/shorts.py -> build/bdist.linux-x86_64/egg/k1lib/callbacks\n",
      "copying build/lib/k1lib/callbacks/hookModule.py -> build/bdist.linux-x86_64/egg/k1lib/callbacks\n",
      "creating build/bdist.linux-x86_64/egg/k1lib/callbacks/lossFunctions\n",
      "copying build/lib/k1lib/callbacks/lossFunctions/accuracy.py -> build/bdist.linux-x86_64/egg/k1lib/callbacks/lossFunctions\n",
      "copying build/lib/k1lib/callbacks/lossFunctions/__init__.py -> build/bdist.linux-x86_64/egg/k1lib/callbacks/lossFunctions\n",
      "copying build/lib/k1lib/callbacks/lossFunctions/shorts.py -> build/bdist.linux-x86_64/egg/k1lib/callbacks/lossFunctions\n",
      "copying build/lib/k1lib/_perlin.py -> build/bdist.linux-x86_64/egg/k1lib\n",
      "creating build/bdist.linux-x86_64/egg/k1lib/_hidden\n",
      "copying build/lib/k1lib/_hidden/hiddenFile.py -> build/bdist.linux-x86_64/egg/k1lib/_hidden\n",
      "copying build/lib/k1lib/_hidden/__init__.py -> build/bdist.linux-x86_64/egg/k1lib/_hidden\n",
      "copying build/lib/k1lib/eqn.py -> build/bdist.linux-x86_64/egg/k1lib\n",
      "byte-compiling build/bdist.linux-x86_64/egg/k1lib/_learner.py to _learner.cpython-39.pyc\n",
      "byte-compiling build/bdist.linux-x86_64/egg/k1lib/serve/suffix.py to suffix.cpython-39.pyc\n",
      "byte-compiling build/bdist.linux-x86_64/egg/k1lib/serve/suffix-dash.py to suffix-dash.cpython-39.pyc\n",
      "byte-compiling build/bdist.linux-x86_64/egg/k1lib/serve/__init__.py to __init__.cpython-39.pyc\n",
      "byte-compiling build/bdist.linux-x86_64/egg/k1lib/serve/main.py to main.cpython-39.pyc\n",
      "byte-compiling build/bdist.linux-x86_64/egg/k1lib/fmt.py to fmt.cpython-39.pyc\n",
      "byte-compiling build/bdist.linux-x86_64/egg/k1lib/_k1a.py to _k1a.cpython-39.pyc\n",
      "byte-compiling build/bdist.linux-x86_64/egg/k1lib/_context.py to _context.cpython-39.pyc\n",
      "byte-compiling build/bdist.linux-x86_64/egg/k1lib/selector.py to selector.cpython-39.pyc\n",
      "byte-compiling build/bdist.linux-x86_64/egg/k1lib/imports.py to imports.cpython-39.pyc\n",
      "byte-compiling build/bdist.linux-x86_64/egg/k1lib/k1ui/__init__.py to __init__.cpython-39.pyc\n",
      "byte-compiling build/bdist.linux-x86_64/egg/k1lib/k1ui/main.py to main.cpython-39.pyc\n",
      "byte-compiling build/bdist.linux-x86_64/egg/k1lib/_baseClasses.py to _baseClasses.cpython-39.pyc\n",
      "byte-compiling build/bdist.linux-x86_64/egg/k1lib/_basics.py to _basics.cpython-39.pyc\n",
      "byte-compiling build/bdist.linux-x86_64/egg/k1lib/cli/bio.py to bio.cpython-39.pyc\n",
      "byte-compiling build/bdist.linux-x86_64/egg/k1lib/cli/cif.py to cif.cpython-39.pyc\n",
      "byte-compiling build/bdist.linux-x86_64/egg/k1lib/cli/structural.py to structural.cpython-39.pyc\n",
      "byte-compiling build/bdist.linux-x86_64/egg/k1lib/cli/modifier.py to modifier.cpython-39.pyc\n",
      "byte-compiling build/bdist.linux-x86_64/egg/k1lib/cli/gb.py to gb.cpython-39.pyc\n",
      "byte-compiling build/bdist.linux-x86_64/egg/k1lib/cli/output.py to output.cpython-39.pyc\n",
      "byte-compiling build/bdist.linux-x86_64/egg/k1lib/cli/kxml.py to kxml.cpython-39.pyc\n",
      "byte-compiling build/bdist.linux-x86_64/egg/k1lib/cli/nb.py to nb.cpython-39.pyc\n",
      "byte-compiling build/bdist.linux-x86_64/egg/k1lib/cli/inp.py to inp.cpython-39.pyc\n",
      "byte-compiling build/bdist.linux-x86_64/egg/k1lib/cli/mol.py to mol.cpython-39.pyc\n",
      "byte-compiling build/bdist.linux-x86_64/egg/k1lib/cli/mgi.py to mgi.cpython-39.pyc\n",
      "byte-compiling build/bdist.linux-x86_64/egg/k1lib/cli/_applyCl.py to _applyCl.cpython-39.pyc\n",
      "byte-compiling build/bdist.linux-x86_64/egg/k1lib/cli/grep.py to grep.cpython-39.pyc\n",
      "byte-compiling build/bdist.linux-x86_64/egg/k1lib/cli/sam.py to sam.cpython-39.pyc\n",
      "byte-compiling build/bdist.linux-x86_64/egg/k1lib/cli/trace.py to trace.cpython-39.pyc\n",
      "byte-compiling build/bdist.linux-x86_64/egg/k1lib/cli/__init__.py to __init__.cpython-39.pyc\n",
      "byte-compiling build/bdist.linux-x86_64/egg/k1lib/cli/typehint.py to typehint.cpython-39.pyc\n",
      "byte-compiling build/bdist.linux-x86_64/egg/k1lib/cli/filt.py to filt.cpython-39.pyc\n",
      "byte-compiling build/bdist.linux-x86_64/egg/k1lib/cli/utils.py to utils.cpython-39.pyc\n",
      "byte-compiling build/bdist.linux-x86_64/egg/k1lib/cli/init.py to init.cpython-39.pyc\n",
      "byte-compiling build/bdist.linux-x86_64/egg/k1lib/cli/conv.py to conv.cpython-39.pyc\n",
      "byte-compiling build/bdist.linux-x86_64/egg/k1lib/cli/optimizations.py to optimizations.cpython-39.pyc\n",
      "byte-compiling build/bdist.linux-x86_64/egg/k1lib/cli/kcsv.py to kcsv.cpython-39.pyc\n",
      "byte-compiling build/bdist.linux-x86_64/egg/k1lib/viz.py to viz.cpython-39.pyc\n",
      "byte-compiling build/bdist.linux-x86_64/egg/k1lib/_higher.py to _higher.cpython-39.pyc\n",
      "byte-compiling build/bdist.linux-x86_64/egg/k1lib/__init__.py to __init__.cpython-39.pyc\n",
      "byte-compiling build/bdist.linux-x86_64/egg/k1lib/_monkey.py to _monkey.cpython-39.pyc\n",
      "byte-compiling build/bdist.linux-x86_64/egg/k1lib/_mo/atom.py to atom.cpython-39.pyc\n",
      "byte-compiling build/bdist.linux-x86_64/egg/k1lib/_mo/parseM.py to parseM.cpython-39.pyc\n",
      "byte-compiling build/bdist.linux-x86_64/egg/k1lib/_mo/substance.py to substance.cpython-39.pyc\n",
      "byte-compiling build/bdist.linux-x86_64/egg/k1lib/_mo/system.py to system.cpython-39.pyc\n",
      "byte-compiling build/bdist.linux-x86_64/egg/k1lib/_mo/__init__.py to __init__.cpython-39.pyc\n",
      "byte-compiling build/bdist.linux-x86_64/egg/k1lib/knn.py to knn.cpython-39.pyc\n",
      "byte-compiling build/bdist.linux-x86_64/egg/k1lib/p5.py to p5.cpython-39.pyc\n",
      "byte-compiling build/bdist.linux-x86_64/egg/k1lib/graphEqn.py to graphEqn.cpython-39.pyc\n",
      "byte-compiling build/bdist.linux-x86_64/egg/k1lib/schedule.py to schedule.cpython-39.pyc\n",
      "byte-compiling build/bdist.linux-x86_64/egg/k1lib/callbacks/loss_accuracy.py to loss_accuracy.cpython-39.pyc\n",
      "byte-compiling build/bdist.linux-x86_64/egg/k1lib/callbacks/progress.py to progress.cpython-39.pyc\n",
      "byte-compiling build/bdist.linux-x86_64/egg/k1lib/callbacks/limits.py to limits.cpython-39.pyc\n",
      "byte-compiling build/bdist.linux-x86_64/egg/k1lib/callbacks/hookParam.py to hookParam.cpython-39.pyc\n",
      "byte-compiling build/bdist.linux-x86_64/egg/k1lib/callbacks/profiler.py to profiler.cpython-39.pyc\n",
      "byte-compiling build/bdist.linux-x86_64/egg/k1lib/callbacks/callbacks.py to callbacks.cpython-39.pyc\n",
      "byte-compiling build/bdist.linux-x86_64/egg/k1lib/callbacks/paramFinder.py to paramFinder.cpython-39.pyc\n",
      "byte-compiling build/bdist.linux-x86_64/egg/k1lib/callbacks/core.py to core.cpython-39.pyc\n",
      "byte-compiling build/bdist.linux-x86_64/egg/k1lib/callbacks/profilers/time.py to time.cpython-39.pyc\n",
      "byte-compiling build/bdist.linux-x86_64/egg/k1lib/callbacks/profilers/memory.py to memory.cpython-39.pyc\n",
      "byte-compiling build/bdist.linux-x86_64/egg/k1lib/callbacks/profilers/__init__.py to __init__.cpython-39.pyc\n",
      "byte-compiling build/bdist.linux-x86_64/egg/k1lib/callbacks/profilers/io.py to io.cpython-39.pyc\n",
      "byte-compiling build/bdist.linux-x86_64/egg/k1lib/callbacks/profilers/computation.py to computation.cpython-39.pyc\n",
      "byte-compiling build/bdist.linux-x86_64/egg/k1lib/callbacks/__init__.py to __init__.cpython-39.pyc\n",
      "byte-compiling build/bdist.linux-x86_64/egg/k1lib/callbacks/landscape.py to landscape.cpython-39.pyc\n",
      "byte-compiling build/bdist.linux-x86_64/egg/k1lib/callbacks/confusionMatrix.py to confusionMatrix.cpython-39.pyc\n",
      "byte-compiling build/bdist.linux-x86_64/egg/k1lib/callbacks/recorder.py to recorder.cpython-39.pyc\n",
      "byte-compiling build/bdist.linux-x86_64/egg/k1lib/callbacks/shorts.py to shorts.cpython-39.pyc\n",
      "byte-compiling build/bdist.linux-x86_64/egg/k1lib/callbacks/hookModule.py to hookModule.cpython-39.pyc\n",
      "byte-compiling build/bdist.linux-x86_64/egg/k1lib/callbacks/lossFunctions/accuracy.py to accuracy.cpython-39.pyc\n",
      "byte-compiling build/bdist.linux-x86_64/egg/k1lib/callbacks/lossFunctions/__init__.py to __init__.cpython-39.pyc\n",
      "byte-compiling build/bdist.linux-x86_64/egg/k1lib/callbacks/lossFunctions/shorts.py to shorts.cpython-39.pyc\n",
      "byte-compiling build/bdist.linux-x86_64/egg/k1lib/_perlin.py to _perlin.cpython-39.pyc\n",
      "byte-compiling build/bdist.linux-x86_64/egg/k1lib/_hidden/hiddenFile.py to hiddenFile.cpython-39.pyc\n",
      "byte-compiling build/bdist.linux-x86_64/egg/k1lib/_hidden/__init__.py to __init__.cpython-39.pyc\n",
      "byte-compiling build/bdist.linux-x86_64/egg/k1lib/eqn.py to eqn.cpython-39.pyc\n",
      "installing package data to build/bdist.linux-x86_64/egg\n",
      "running install_data\n",
      "copying k1lib/serve/main.html -> build/bdist.linux-x86_64/egg/k1lib/serve\n",
      "copying k1lib/k1ui/mouseKey.pth -> build/bdist.linux-x86_64/egg/k1lib/k1ui\n",
      "copying k1lib/k1ui/256.model.state_dict.pth -> build/bdist.linux-x86_64/egg/k1lib/k1ui\n",
      "creating build/bdist.linux-x86_64/egg/EGG-INFO\n",
      "copying k1lib.egg-info/PKG-INFO -> build/bdist.linux-x86_64/egg/EGG-INFO\n",
      "copying k1lib.egg-info/SOURCES.txt -> build/bdist.linux-x86_64/egg/EGG-INFO\n",
      "copying k1lib.egg-info/dependency_links.txt -> build/bdist.linux-x86_64/egg/EGG-INFO\n",
      "copying k1lib.egg-info/requires.txt -> build/bdist.linux-x86_64/egg/EGG-INFO\n",
      "copying k1lib.egg-info/top_level.txt -> build/bdist.linux-x86_64/egg/EGG-INFO\n",
      "zip_safe flag not set; analyzing archive contents...\n",
      "k1lib.cli.__pycache__.init.cpython-39: module MAY be using inspect.trace\n",
      "k1lib.k1ui.__pycache__.main.cpython-39: module MAY be using inspect.getabsfile\n",
      "k1lib.k1ui.__pycache__.main.cpython-39: module MAY be using inspect.stack\n",
      "k1lib.serve.__pycache__.main.cpython-39: module MAY be using inspect.getsource\n",
      "k1lib.serve.__pycache__.main.cpython-39: module MAY be using inspect.getabsfile\n",
      "creating dist\n",
      "creating 'dist/k1lib-1.3.7.11-py3.9.egg' and adding 'build/bdist.linux-x86_64/egg' to it\n",
      "removing 'build/bdist.linux-x86_64/egg' (and everything under it)\n",
      "Processing k1lib-1.3.7.11-py3.9.egg\n",
      "creating /home/kelvin/anaconda3/envs/ray2/lib/python3.9/site-packages/k1lib-1.3.7.11-py3.9.egg\n",
      "Extracting k1lib-1.3.7.11-py3.9.egg to /home/kelvin/anaconda3/envs/ray2/lib/python3.9/site-packages\n",
      "Adding k1lib 1.3.7.11 to easy-install.pth file\n",
      "\n",
      "Installed /home/kelvin/anaconda3/envs/ray2/lib/python3.9/site-packages/k1lib-1.3.7.11-py3.9.egg\n",
      "Processing dependencies for k1lib==1.3.7.11\n",
      "Searching for wurlitzer==3.0.3\n",
      "Best match: wurlitzer 3.0.3\n",
      "Adding wurlitzer 3.0.3 to easy-install.pth file\n",
      "\n",
      "Using /home/kelvin/anaconda3/envs/ray2/lib/python3.9/site-packages\n",
      "Searching for forbiddenfruit==0.1.4\n",
      "Best match: forbiddenfruit 0.1.4\n",
      "Adding forbiddenfruit 0.1.4 to easy-install.pth file\n",
      "\n",
      "Using /home/kelvin/anaconda3/envs/ray2/lib/python3.9/site-packages\n",
      "Searching for dill==0.3.6\n",
      "Best match: dill 0.3.6\n",
      "Adding dill 0.3.6 to easy-install.pth file\n",
      "\n",
      "Using /home/kelvin/anaconda3/envs/ray2/lib/python3.9/site-packages\n",
      "Searching for matplotlib==3.7.1\n",
      "Best match: matplotlib 3.7.1\n",
      "Adding matplotlib 3.7.1 to easy-install.pth file\n",
      "\n",
      "Using /home/kelvin/anaconda3/envs/ray2/lib/python3.9/site-packages\n",
      "Searching for numpy==1.24.2\n",
      "Best match: numpy 1.24.2\n",
      "Adding numpy 1.24.2 to easy-install.pth file\n",
      "Installing f2py script to /home/kelvin/anaconda3/envs/ray2/bin\n",
      "Installing f2py3 script to /home/kelvin/anaconda3/envs/ray2/bin\n",
      "Installing f2py3.9 script to /home/kelvin/anaconda3/envs/ray2/bin\n",
      "\n",
      "Using /home/kelvin/anaconda3/envs/ray2/lib/python3.9/site-packages\n",
      "Searching for importlib-resources==5.12.0\n",
      "Best match: importlib-resources 5.12.0\n",
      "Adding importlib-resources 5.12.0 to easy-install.pth file\n",
      "\n",
      "Using /home/kelvin/anaconda3/envs/ray2/lib/python3.9/site-packages\n",
      "Searching for python-dateutil==2.8.2\n",
      "Best match: python-dateutil 2.8.2\n",
      "Adding python-dateutil 2.8.2 to easy-install.pth file\n",
      "\n",
      "Using /home/kelvin/anaconda3/envs/ray2/lib/python3.9/site-packages\n",
      "Searching for pyparsing==3.0.9\n",
      "Best match: pyparsing 3.0.9\n",
      "Adding pyparsing 3.0.9 to easy-install.pth file\n",
      "\n",
      "Using /home/kelvin/anaconda3/envs/ray2/lib/python3.9/site-packages\n",
      "Searching for Pillow==9.5.0\n",
      "Best match: Pillow 9.5.0\n",
      "Adding Pillow 9.5.0 to easy-install.pth file\n",
      "\n",
      "Using /home/kelvin/anaconda3/envs/ray2/lib/python3.9/site-packages\n",
      "Searching for packaging==23.1\n",
      "Best match: packaging 23.1\n",
      "Adding packaging 23.1 to easy-install.pth file\n",
      "\n",
      "Using /home/kelvin/anaconda3/envs/ray2/lib/python3.9/site-packages\n",
      "Searching for kiwisolver==1.4.4\n",
      "Best match: kiwisolver 1.4.4\n",
      "Adding kiwisolver 1.4.4 to easy-install.pth file\n",
      "\n",
      "Using /home/kelvin/anaconda3/envs/ray2/lib/python3.9/site-packages\n",
      "Searching for fonttools==4.39.3\n",
      "Best match: fonttools 4.39.3\n",
      "Adding fonttools 4.39.3 to easy-install.pth file\n",
      "Installing fonttools script to /home/kelvin/anaconda3/envs/ray2/bin\n",
      "Installing pyftmerge script to /home/kelvin/anaconda3/envs/ray2/bin\n",
      "Installing pyftsubset script to /home/kelvin/anaconda3/envs/ray2/bin\n",
      "Installing ttx script to /home/kelvin/anaconda3/envs/ray2/bin\n",
      "\n",
      "Using /home/kelvin/anaconda3/envs/ray2/lib/python3.9/site-packages\n",
      "Searching for cycler==0.11.0\n",
      "Best match: cycler 0.11.0\n",
      "Adding cycler 0.11.0 to easy-install.pth file\n",
      "\n",
      "Using /home/kelvin/anaconda3/envs/ray2/lib/python3.9/site-packages\n",
      "Searching for contourpy==1.0.7\n",
      "Best match: contourpy 1.0.7\n",
      "Adding contourpy 1.0.7 to easy-install.pth file\n",
      "\n",
      "Using /home/kelvin/anaconda3/envs/ray2/lib/python3.9/site-packages\n",
      "Searching for zipp==3.15.0\n",
      "Best match: zipp 3.15.0\n",
      "Adding zipp 3.15.0 to easy-install.pth file\n",
      "\n",
      "Using /home/kelvin/anaconda3/envs/ray2/lib/python3.9/site-packages\n",
      "Searching for six==1.16.0\n",
      "Best match: six 1.16.0\n",
      "Adding six 1.16.0 to easy-install.pth file\n",
      "\n",
      "Using /home/kelvin/anaconda3/envs/ray2/lib/python3.9/site-packages\n",
      "Finished processing dependencies for k1lib==1.3.7.11\n"
     ]
    }
   ],
   "source": [
    "!../../export.py cli/_applyCl"
   ]
  },
  {
   "cell_type": "code",
   "execution_count": null,
   "id": "163b0d67-bde0-446c-827e-4c8fdb43457d",
   "metadata": {},
   "outputs": [],
   "source": []
  }
 ],
 "metadata": {
  "kernelspec": {
   "display_name": "Python 3 (ipykernel)",
   "language": "python",
   "name": "python3"
  },
  "language_info": {
   "codemirror_mode": {
    "name": "ipython",
    "version": 3
   },
   "file_extension": ".py",
   "mimetype": "text/x-python",
   "name": "python",
   "nbconvert_exporter": "python",
   "pygments_lexer": "ipython3",
   "version": "3.9.15"
  }
 },
 "nbformat": 4,
 "nbformat_minor": 5
}
