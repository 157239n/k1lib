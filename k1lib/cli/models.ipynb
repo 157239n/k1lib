{
 "cells": [
  {
   "cell_type": "code",
   "execution_count": 1,
   "id": "f8076bc4-5c88-4746-a90b-15c884a724c5",
   "metadata": {
    "tags": []
   },
   "outputs": [],
   "source": [
    "#export\n",
    "\"\"\"\n",
    "This is for advanced machine learning models or complex data structures and algorithms, presented in a digestible interface\n",
    "\"\"\"\n",
    "from typing import Callable, Union, List, overload, Iterator, Any, Set, Tuple\n",
    "from k1lib.cli.init import BaseCli, fastF\n",
    "import k1lib.cli as cli; import k1lib, os, math\n",
    "from k1lib.cli.typehint import *\n",
    "import numpy as np; from collections import deque\n",
    "try: import torch; hasTorch = True\n",
    "except: hasTorch = False"
   ]
  },
  {
   "cell_type": "code",
   "execution_count": 2,
   "id": "40fcbbd7-08a3-4ce5-b8fc-6fb6e71f6007",
   "metadata": {},
   "outputs": [],
   "source": [
    "cli.init.patchNumpy()"
   ]
  },
  {
   "cell_type": "code",
   "execution_count": 3,
   "id": "7e980c52-5cf4-4ce6-b585-0be7328ea804",
   "metadata": {},
   "outputs": [],
   "source": [
    "#export\n",
    "__all__ = [\"embed\", \"complete\", \"kmeans\", \"tsne\", \"bloom\"]\n",
    "settings = k1lib.Settings().add(\"cuda\", None, \"whether to run the models on the GPU or not. True for GPU, False for CPU. None (default) for GPU if available, else CPU\")\n",
    "k1lib.settings.cli.add(\"models\", settings, \"settings related to k1lib.cli.models\");"
   ]
  },
  {
   "cell_type": "code",
   "execution_count": 4,
   "id": "4b823793-9891-4139-aa2d-929f5c1a48de",
   "metadata": {
    "tags": []
   },
   "outputs": [],
   "source": [
    "#export\n",
    "_cuda = k1lib.Wrapper(None)\n",
    "def cuda() -> bool: # internal func to figure out whether the funcs should run on gpus or not\n",
    "    if _cuda() is None: _cuda.value = torch.cuda.is_available() and torch.cuda.device_count() >= 1\n",
    "    return _cuda()\n",
    "sentence_transformers = k1lib.dep(\"sentence_transformers\"); embed_models_cpu = dict(); embed_models_cuda = dict()\n",
    "def embed_models(): return embed_models_cuda if cuda() else embed_models_cpu\n",
    "settings.add(\"embed\", k1lib.Settings().add(\"model\", \"all-MiniLM-L6-v2\", \"what model to choose from `SentenceTransformer` library\").add(\"bs\", 512, \"batch size to feed the model. For all-MiniLM-L6-v2, it seems to be able to deal with anything. I've tried 10k batch and it's still doing good\"))\n",
    "def embed_model(): # returns correct function capable of passing in List[str] and will spit out np.ndarray with shape (N, F)\n",
    "    modelName = settings.embed.model\n",
    "    if modelName not in embed_models():\n",
    "        model = sentence_transformers.SentenceTransformer(modelName)\n",
    "        if cuda(): model = model.cuda()\n",
    "        embed_models()[modelName] = model.encode\n",
    "    return embed_models()[modelName]\n",
    "class embed(BaseCli):\n",
    "    def __init__(self, norm=True):\n",
    "        \"\"\"Gets an embedding vector for every sentence piped into this.\n",
    "Example::\n",
    "\n",
    "    # returns (384,)\n",
    "    \"abc\" | embed() | shape()\n",
    "    # returns (2, 384). Don't worry that this is less performant, as behind the scenes, it will automatically batch all lines together and pass through the model only once\n",
    "    [\"abc\", \"def\"] | embed().all() | shape()\n",
    "\n",
    "There are several settings you can set::\n",
    "\n",
    "    settings.cli.models.embed.model = \"msmarco-distilbert-base-v4\" # specifies model used in this function\n",
    "    settings.cli.models.cuda = False # tells the system to only use the CPU to run the models\n",
    "\n",
    "I'd suggest picking \"all-MiniLM-L6-v2\" for general purpose tasks, and \"msmarco-distilbert-base-v4\"\n",
    "for document-lookup style applications.\n",
    "\n",
    ":param norm: whether to normalize the output embeddings or not\"\"\"\n",
    "        self.model = embed_model(); self.normF = (lambda x: (x - (x | cli.toMean())) / (x | cli.toStd())) if norm else (lambda x: x)\n",
    "    def __ror__(self, it): return self.normF(self.model([it])[0] if isinstance(it, str) else self.model(list(it)))\n",
    "    def _all_opt(self, it:List[str]): return it | cli.batched(settings.embed.bs, True) | cli.apply(self.__ror__) | cli.joinStreams()"
   ]
  },
  {
   "cell_type": "code",
   "execution_count": 5,
   "id": "b6d5014b-0ed6-4bc4-8b28-0c9f5a034b55",
   "metadata": {
    "tags": []
   },
   "outputs": [],
   "source": [
    "assert [\"abc\", \"def\"] | embed().all() | cli.shape() == (2, 384)\n",
    "assert \"abc\" | embed() | cli.shape() == (384,)"
   ]
  },
  {
   "cell_type": "code",
   "execution_count": 6,
   "id": "cc1318e5-b09f-4706-a104-46bb4e03568d",
   "metadata": {
    "tags": []
   },
   "outputs": [],
   "source": [
    "#export\n",
    "transformers = k1lib.dep(\"transformers\"); generic_models_cpu = dict(); generic_models_cuda = dict()\n",
    "def generic_models(): return generic_models_cuda if cuda() else generic_models_cpu\n",
    "settings.add(\"generic\", k1lib.Settings().add(\"model\", \"google/flan-t5-xl\", \"what model to choose from `transformers` library\").add(\"bs\", 16, \"batch size to feed the model. For flan-t5-xl, 16 seems to be the sweet spot for 24GB VRAM (RTX 3090/4090). Decrease it if you don't have as much VRAM\"))\n",
    "def generic_model(maxTokens=100): # returns correct function capable of passing in str|List[str] and will spit out List[str]\n",
    "    modelName = settings.generic.model\n",
    "    if modelName not in generic_models():\n",
    "        if modelName.startswith(\"google/flan-t5-\"):\n",
    "            tokenizer = transformers.T5Tokenizer.from_pretrained(modelName, **({\"device_map\": \"auto\"} if cuda() else {}))\n",
    "            model = transformers.T5ForConditionalGeneration.from_pretrained(modelName, **({\"device_map\": \"auto\"} if cuda() else {}))\n",
    "            conf = transformers.GenerationConfig(max_new_tokens=maxTokens); cuda_ = cuda()\n",
    "            # if cuda_: model = model.cuda()\n",
    "            def inner(it):\n",
    "                inputs = tokenizer(list(it), return_tensors=\"pt\", padding=True).input_ids\n",
    "                if cuda_: inputs = inputs.cuda()\n",
    "                return (tokenizer.decode(line) for line in model.generate(inputs, conf))\n",
    "            generic_models()[modelName] = inner\n",
    "        else: raise Exception(\"Currently, only Google T5 Flan models are supported\")\n",
    "    return generic_models()[modelName]"
   ]
  },
  {
   "cell_type": "code",
   "execution_count": 10,
   "id": "44dcd6d6-3111-438a-a85d-002ad698384b",
   "metadata": {
    "tags": []
   },
   "outputs": [],
   "source": [
    "#export\n",
    "class complete(BaseCli):\n",
    "    def __init__(self, prompt:str=\"\"):\n",
    "        \"\"\"Uses a LLM to autocomplete something.\n",
    "Example::\n",
    "\n",
    "    # returns \"4\". In case you're living in a cage, these LLMs are not entirely math savants. They sure understand English though\n",
    "    \"What is 2 + 6?\" | complete()\n",
    "    # returns [\"4\", \"4\"]\n",
    "    [\"What is 2 + 6?\", \"What is 8 + 2?\"] | complete().all() | deref()\n",
    "\n",
    "Can change model type by doing ``settings.cli.models.generic.model = \"google/flan-t5-xl\"``\n",
    "\n",
    ":param prompt: if specified, will inject this bit of text after all of the inputs.\n",
    "    Can be something like \"Please translate the above paragraph to German\"\n",
    "\"\"\"\n",
    "        self.model = generic_model(); self.prompt = prompt\n",
    "    def __ror__(self, it):\n",
    "        arrMode = not isinstance(it, str); prompt = self.prompt\n",
    "        it = (list(it) if arrMode else [it]) | cli.apply(lambda x: f\"{x}\\n\\n\\n{prompt}: \") | cli.deref()\n",
    "        ans = self.model(it) | cli.apply(lambda x: x.replace(\"<pad>\", \"\").replace(\"<unk>\", \"\").replace(\"</s>\", \"\").strip())\n",
    "        return ans if arrMode else ans | cli.item()\n",
    "    def _all_opt(self, it:List[str]):\n",
    "        return it | cli.batched(settings.generic.bs, True) | cli.apply(self.__ror__) | cli.joinStreams()"
   ]
  },
  {
   "cell_type": "code",
   "execution_count": 8,
   "id": "94f1bd56-f5c3-4832-9ff8-4163003c75d2",
   "metadata": {
    "tags": []
   },
   "outputs": [
    {
     "data": {
      "application/vnd.jupyter.widget-view+json": {
       "model_id": "63e5cb8286a04fc1b7d95f6a8b559005",
       "version_major": 2,
       "version_minor": 0
      },
      "text/plain": [
       "Loading checkpoint shards:   0%|          | 0/2 [00:00<?, ?it/s]"
      ]
     },
     "metadata": {},
     "output_type": "display_data"
    },
    {
     "name": "stdout",
     "output_type": "stream",
     "text": [
      "['T', 'h', 'e', ' ', 'T', 'o', 'x', 'i', 'n', ' ', 'a', 'n', 'd', ' ', 'T', 'o', 'x', 'i', 'n', '-', 'T', 'a', 'r', 'g', 'e', 't', ' ', 'D', 'a', 't', 'a', 'b', 'a', 's', 'e', ' ', '(', 'T', '3', 'D', 'B', ')', ',', '[', '1', ']', '[', '2', ']', ' ', 'a', 'l', 's', 'o', ' ', 'k', 'n', 'o', 'w', 'n', ' ', 'a', 's', ' ', 't', 'h', 'e', ' ', 'T', 'o', 'x', 'i', 'c', ' ', 'E', 'x', 'p', 'o', 's', 'o', 'm', 'e', ' ', 'D', 'a', 't', 'a', 'b', 'a', 's', 'e', ',', ' ', 'i', 's', ' ', 'a', ' ', 'f', 'r', 'e', 'e', 'l', 'y', ' ', 'a', 'c', 'c', 'e', 's', 's', 'i', 'b', 'l', 'e', ' ', 'o', 'n', 'l', 'i', 'n', 'e', ' ', 'd', 'a', 't', 'a', 'b', 'a', 's', 'e', ' ', 'o', 'f', ' ', 'c', 'o', 'm', 'm', 'o', 'n', ' ', 's', 'u', 'b', 's', 't', 'a', 'n', 'c', 'e', 's', ' ', 't', 'h', 'a', 't', ' ', 'a', 'r', 'e', ' ', 't', 'o', 'x', 'i', 'c', ' ', 't', 'o', ' ', 'h', 'u', 'm', 'a', 'n', 's', ',', ' ', 'a', 'l', 'o', 'n', 'g', ' ', 'w', 'i', 't', 'h', ' ', 't', 'h', 'e', 'i', 'r', ' ', 'p', 'r', 'o', 't', 'e', 'i', 'n', ',', ' ', 'D', 'N', 'A', ' ', 'o', 'r', ' ', 'o', 'r', 'g', 'a', 'n', ' ', 't', 'a', 'r', 'g', 'e', 't', 's', '.', ' ', 'T', 'h', 'e', ' ', 'd', 'a', 't', 'a', 'b', 'a', 's', 'e', ' ', 'c', 'u', 'r', 'r', 'e', 'n', 't', 'l', 'y', ' ', 'h', 'o', 'u', 's', 'e', 's', ' ', 'n', 'e', 'a', 'r', 'l', 'y', ' ', '3', ',', '7', '0', '0', ' ', 't', 'o', 'x', 'i', 'c', ' ', 'c', 'o', 'm', 'p', 'o', 'u', 'n', 'd', 's', ' ', 'o', 'r', ' ', 'p', 'o', 'i', 's', 'o', 'n', 's', ' ', 'd', 'e', 's', 'c', 'r', 'i', 'b', 'e', 'd', ' ', 'b', 'y', ' ', 'n', 'e', 'a', 'r', 'l', 'y', ' ', '4', '2', ',', '0', '0', '0', ' ', 's', 'y', 'n', 'o', 'n', 'y', 'm', 's', '.', ' ', 'T', 'h', 'i', 's', ' ', 'l', 'i', 's', 't', ' ', 'i', 'n', 'c', 'l', 'u', 'd', 'e', 's', ' ', 'v', 'a', 'r', 'i', 'o', 'u', 's', ' ', 'g', 'r', 'o', 'u', 'p', 's', ' ', 'o', 'f', ' ', 't', 'o', 'x', 'i', 'n', 's', ',', ' ', 'i', 'n', 'c', 'l', 'u', 'd', 'i', 'n', 'g', ' ', 'c', 'o', 'm', 'm', 'o', 'n', ' ', 'p', 'o', 'l', 'l', 'u', 't', 'a', 'n', 't', 's', ',', ' ', 'p', 'e', 's', 't', 'i', 'c', 'i', 'd', 'e', 's', ',', ' ', 'd', 'r', 'u', 'g', 's', ',', ' ', 'f', 'o', 'o', 'd', ' ', 't', 'o', 'x', 'i', 'n', 's', ',', ' ', 'h', 'o', 'u', 's', 'e', 'h', 'o', 'l', 'd', ' ', 'a', 'n', 'd', ' ', 'i', 'n', 'd', 'u', 's', 't', 'r', 'i', 'a', 'l', '/', 'w', 'o', 'r', 'k', 'p', 'l', 'a', 'c', 'e', ' ', 't', 'o', 'x', 'i', 'n', 's', ',', ' ', 'c', 'i', 'g', 'a', 'r', 'e', 't', 't', 'e', ' ', 't', 'o', 'x', 'i', 'n', 's', ',', ' ', 'a', 'n', 'd', ' ', 'u', 'r', 'e', 'm', 'i', 'c', ' ', 't', 'o', 'x', 'i', 'n', 's', '.', ' ', 'T', 'h', 'e', 's', 'e', ' ', 't', 'o', 'x', 'i', 'c', ' ', 's', 'u', 'b', 's', 't', 'a', 'n', 'c', 'e', 's', ' ', 'a', 'r', 'e', ' ', 'l', 'i', 'n', 'k', 'e', 'd', ' ', 't', 'o', ' ', '2', ',', '0', '8', '6', ' ', 'c', 'o', 'r', 'r', 'e', 's', 'p', 'o', 'n', 'd', 'i', 'n', 'g', ' ', 'p', 'r', 'o', 't', 'e', 'i', 'n', '/', 'D', 'N', 'A', ' ', 't', 'a', 'r', 'g', 'e', 't', ' ', 'r', 'e', 'c', 'o', 'r', 'd', 's', '.', ' ', 'I', 'n', ' ', 't', 'o', 't', 'a', 'l', ' ', 't', 'h', 'e', 'r', 'e', ' ', 'a', 'r', 'e', ' ', '4', '2', ',', '4', '3', '3', ' ', 't', 'o', 'x', 'i', 'c', ' ', 's', 'u', 'b', 's', 't', 'a', 'n', 'c', 'e', '-', 't', 'o', 'x', 'i', 'n', ' ', 't', 'a', 'r', 'g', 'e', 't', ' ', 'a', 's', 's', 'o', 'c', 'i', 'a', 't', 'i', 'o', 'n', 's', '.', ' ', 'E', 'a', 'c', 'h', ' ', 't', 'o', 'x', 'i', 'c', ' ', 'c', 'o', 'm', 'p', 'o', 'u', 'n', 'd', ' ', 'r', 'e', 'c', 'o', 'r', 'd', ' ', '(', 'T', 'o', 'x', 'C', 'a', 'r', 'd', ')', ' ', 'i', 'n', ' ', 'T', '3', 'D', 'B', ' ', 'c', 'o', 'n', 't', 'a', 'i', 'n', 's', ' ', 'n', 'e', 'a', 'r', 'l', 'y', ' ', '1', '0', '0', ' ', 'd', 'a', 't', 'a', ' ', 'f', 'i', 'e', 'l', 'd', 's', ' ', 'a', 'n', 'd', ' ', 'h', 'o', 'l', 'd', 's', ' ', 'i', 'n', 'f', 'o', 'r', 'm', 'a', 't', 'i', 'o', 'n', ' ', 's', 'u', 'c', 'h', ' ', 'a', 's', ' ', 'c', 'h', 'e', 'm', 'i', 'c', 'a', 'l', ' ', 'p', 'r', 'o', 'p', 'e', 'r', 't', 'i', 'e', 's', ' ', 'a', 'n', 'd', ' ', 'd', 'e', 's', 'c', 'r', 'i', 'p', 't', 'o', 'r', 's', ',', ' ', 'm', 'e', 'c', 'h', 'a', 'n', 'i', 's', 'm', 's', ' ', 'o', 'f', ' ', 'a', 'c', 't', 'i', 'o', 'n', ',', ' ', 't', 'o', 'x', 'i', 'c', 'i', 't', 'y', ' ', 'o', 'r', ' ', 'l', 'e', 't', 'h', 'a', 'l', ' ', 'd', 'o', 's', 'e', ' ', 'v', 'a', 'l', 'u', 'e', 's', ',', ' ', 'm', 'o', 'l', 'e', 'c', 'u', 'l', 'a', 'r', ' ', 'a', 'n', 'd', ' ', 'c', 'e', 'l', 'l', 'u', 'l', 'a', 'r', ' ', 'i', 'n', 't', 'e', 'r', 'a', 'c', 't', 'i', 'o', 'n', 's', ',', ' ', 'm', 'e', 'd', 'i', 'c', 'a', 'l', ' ', '(', 's', 'y', 'm', 'p', 't', 'o', 'm', ' ', 'a', 'n', 'd', ' ', 't', 'r', 'e', 'a', 't', 'm', 'e', 'n', 't', ')', ' ', 'i', 'n', 'f', 'o', 'r', 'm', 'a', 't', 'i', 'o', 'n', ' ', '(', 'F', 'i', 'g', '.', ' ', '1', '–', '3', ')', ',', ' ', 'N', 'M', 'R', ' ', 'a', 'n', ' ', 'M', 'S', ' ', 's', 'p', 'e', 'c', 't', 'r', 'a', ',', ' ', 'a', 'n', 'd', ' ', 'u', 'p', '-', ' ', 'a', 'n', 'd', ' ', 'd', 'o', 'w', 'n', '-', 'r', 'e', 'g', 'u', 'l', 'a', 't', 'e', 'd', ' ', 'g', 'e', 'n', 'e', 's', '.', ' ', 'T', 'h', 'i', 's', ' ', 'i', 'n', 'f', 'o', 'r', 'm', 'a', 't', 'i', 'o', 'n', ' ', 'h', 'a', 's', ' ', 'b', 'e', 'e', 'n', ' ', 'e', 'x', 't', 'r', 'a', 'c', 't', 'e', 'd', ' ', 'f', 'r', 'o', 'm', ' ', 'o', 'v', 'e', 'r', ' ', '1', '8', ',', '0', '0', '0', ' ', 's', 'o', 'u', 'r', 'c', 'e', 's', ',', ' ', 'w', 'h', 'i', 'c', 'h', ' ', 'i', 'n', 'c', 'l', 'u', 'd', 'e', ' ', 'o', 't', 'h', 'e', 'r', ' ', 'd', 'a', 't', 'a', 'b', 'a', 's', 'e', 's', ',', ' ', 'g', 'o', 'v', 'e', 'r', 'n', 'm', 'e', 'n', 't', ' ', 'd', 'o', 'c', 'u', 'm', 'e', 'n', 't', 's', ',', ' ', 'b', 'o', 'o', 'k', 's', ',', ' ', 'a', 'n', 'd', ' ', 's', 'c', 'i', 'e', 'n', 't', 'i', 'f', 'i', 'c', ' ', 'l', 'i', 't', 'e', 'r', 'a', 't', 'u', 'r', 'e', '.', '\\n', '\\n', 'T', 'h', 'e', ' ', 'p', 'r', 'i', 'm', 'a', 'r', 'y', ' ', 'f', 'o', 'c', 'u', 's', ' ', 'o', 'f', ' ', 't', 'h', 'e', ' ', 'T', '3', 'D', 'B', ' ', 'i', 's', ' ', 'o', 'n', ' ', 'p', 'r', 'o', 'v', 'i', 'd', 'i', 'n', 'g', ' ', 'm', 'e', 'c', 'h', 'a', 'n', 'i', 's', 'm', 's', ' ', 'o', 'f', ' ', 't', 'o', 'x', 'i', 'c', 'i', 't', 'y', ' ', 'a', 'n', 'd', ' ', 'i', 'd', 'e', 'n', 't', 'i', 'f', 'y', 'i', 'n', 'g', ' ', 't', 'a', 'r', 'g', 'e', 't', ' ', 'p', 'r', 'o', 't', 'e', 'i', 'n', 's', ' ', 'f', 'o', 'r', ' ', 'c', 'o', 'm', 'm', 'o', 'n', ' ', 't', 'o', 'x', 'i', 'c', ' ', 's', 'u', 'b', 's', 't', 'a', 'n', 'c', 'e', 's', '.', ' ', 'W', 'h', 'i', 'l', 'e', ' ', 'a', ' ', 'n', 'u', 'm', 'b', 'e', 'r', ' ', 'o', 'f', ' ', 'o', 't', 'h', 'e', 'r', ' ', 't', 'o', 'x', 'i', 'c', ' ', 'c', 'o', 'm', 'p', 'o', 'u', 'n', 'd', ' ', 'd', 'a', 't', 'a', 'b', 'a', 's', 'e', 's', ' ', 'd', 'o', ' ', 'e', 'x', 'i', 's', 't', ',', ' ', 't', 'h', 'e', 'i', 'r', ' ', 'e', 'm', 'p', 'h', 'a', 's', 'i', 's', ' ', 'i', 's', ' ', 'o', 'n', ' ', 'c', 'o', 'v', 'e', 'r', 'i', 'n', 'g', ' ', 'l', 'a', 'r', 'g', 'e', ' ', 'n', 'u', 'm', 'b', 'e', 'r', 's', ' ', 'o', 'f', ' ', 'c', 'h', 'e', 'm', 'i', 'c', 'a', 'l', ' ', 'c', 'o', 'm', 'p', 'o', 'u', 'n', 'd', 's', ' ', 't', 'h', 'a', 't', ' ', 'a', 'r', 'e', ' ', 'a', 'l', 'm', 'o', 's', 't', ' ', 'n', 'e', 'v', 'e', 'r', ' ', 's', 'e', 'e', 'n', ' ', 'o', 'u', 't', 's', 'i', 'd', 'e', ' ', 'a', ' ', 'c', 'h', 'e', 'm', 'i', 'c', 'a', 'l', ' ', 'l', 'a', 'b', 'o', 'r', 'a', 't', 'o', 'r', 'y', '.', ' ', 'T', '3', 'D', 'B', ' ', 'a', 't', 't', 'e', 'm', 'p', 't', 's', ' ', 't', 'o', ' ', 'c', 'a', 'p', 't', 'u', 'r', 'e', ' ', 'd', 'a', 't', 'a', ' ', 'o', 'n', ' ', 'o', 'n', 'l', 'y', ' ', 't', 'h', 'o', 's', 'e', ' ', 't', 'o', 'x', 'i', 'c', ' ', 's', 'u', 'b', 's', 't', 'a', 'n', 'c', 'e', 's', ' ', 't', 'h', 'a', 't', ' ', 'a', 'r', 'e', ' ', 'a', 'b', 'u', 'n', 'd', 'a', 'n', 't', ' ', 'o', 'r', ' ', 'i', 'n', ' ', 'w', 'i', 'd', 'e', 's', 'p', 'r', 'e', 'a', 'd', ' ', 'u', 's', 'e', ' ', 'a', 'n', 'd', ' ', 'h', 'a', 'v', 'e', ' ', 'b', 'e', 'e', 'n', ' ', 'd', 'e', 't', 'e', 'c', 't', 'e', 'd', ' ', 'o', 'r', ' ', 'm', 'e', 'a', 's', 'u', 'r', 'e', 'd', ' ', 'i', 'n', ' ', 'h', 'u', 'm', 'a', 'n', 's', '.', ' ', 'T', '3', 'D', 'B', ' ', 'i', 's', ' ', 'f', 'u', 'l', 'l', 'y', ' ', 's', 'e', 'a', 'r', 'c', 'h', 'a', 'b', 'l', 'e', ' ', 'a', 'n', 'd', ' ', 's', 'u', 'p', 'p', 'o', 'r', 't', 's', ' ', 'e', 'x', 't', 'e', 'n', 's', 'i', 'v', 'e', ' ', 't', 'e', 'x', 't', ',', ' ', 's', 'e', 'q', 'u', 'e', 'n', 'c', 'e', ',', ' ', 'c', 'h', 'e', 'm', 'i', 'c', 'a', 'l', ' ', 's', 't', 'r', 'u', 'c', 't', 'u', 'r', 'e', ',', ' ', 'r', 'e', 'l', 'a', 't', 'i', 'o', 'n', 'a', 'l', ' ', 'q', 'u', 'e', 'r', 'y', ' ', 'a', 'n', 'd', ' ', 's', 'p', 'e', 'c', 't', 'r', 'a', 'l', ' ', 's', 'e', 'a', 'r', 'c', 'h', 'e', 's', '.', ' ', 'I', 't', ' ', 'i', 's', ' ', 'b', 'o', 't', 'h', ' ', 'm', 'o', 'd', 'e', 'l', 'l', 'e', 'd', ' ', 'a', 'f', 't', 'e', 'r', ' ', 'a', 'n', 'd', ' ', 'c', 'l', 'o', 's', 'e', 'l', 'y', ' ', 'l', 'i', 'n', 'k', 'e', 'd', ' ', 't', 'o', ' ', 't', 'h', 'e', ' ', 'H', 'u', 'm', 'a', 'n', ' ', 'M', 'e', 't', 'a', 'b', 'o', 'l', 'o', 'm', 'e', ' ', 'D', 'a', 't', 'a', 'b', 'a', 's', 'e', ' ', '(', 'H', 'M', 'D', 'B', ')', ' ', 'a', 'n', 'd', ' ', 'D', 'r', 'u', 'g', 'B', 'a', 'n', 'k', '.', ' ', 'P', 'o', 't', 'e', 'n', 't', 'i', 'a', 'l', ' ', 'a', 'p', 'p', 'l', 'i', 'c', 'a', 't', 'i', 'o', 'n', 's', ' ', 'o', 'f', ' ', 'T', '3', 'D', 'B', ' ', 'i', 'n', 'c', 'l', 'u', 'd', 'e', ' ', 'm', 'e', 't', 'a', 'b', 'o', 'l', 'o', 'm', 'i', 'c', 's', ' ', 'a', 'n', 'd', ' ', 'e', 'n', 'v', 'i', 'r', 'o', 'n', 'm', 'e', 'n', 't', 'a', 'l', ' ', 'e', 'x', 'p', 'o', 's', 'u', 'r', 'e', ' ', 's', 't', 'u', 'd', 'i', 'e', 's', ',', ' ', 't', 'o', 'x', 'i', 'c', ' ', 'c', 'o', 'm', 'p', 'o', 'u', 'n', 'd', ' ', 'm', 'e', 't', 'a', 'b', 'o', 'l', 'i', 's', 'm', ' ', 'p', 'r', 'e', 'd', 'i', 'c', 't', 'i', 'o', 'n', ',', ' ', 't', 'o', 'x', 'i', 'n', '/', 'd', 'r', 'u', 'g', ' ', 'i', 'n', 't', 'e', 'r', 'a', 'c', 't', 'i', 'o', 'n', ' ', 'p', 'r', 'e', 'd', 'i', 'c', 't', 'i', 'o', 'n', ',', ' ', 'a', 'n', 'd', ' ', 'g', 'e', 'n', 'e', 'r', 'a', 'l', ' ', 't', 'o', 'x', 'i', 'c', ' ', 's', 'u', 'b', 's', 't', 'a', 'n', 'c', 'e', ' ', 'a', 'w', 'a', 'r', 'e', 'n', 'e', 's', 's', '.']\n",
      "CPU times: user 4.65 s, sys: 3.45 s, total: 8.1 s\n",
      "Wall time: 8.57 s\n"
     ]
    },
    {
     "data": {
      "text/plain": [
       "'The Toxin and Toxin-Target Database (T3DB), also known as the Toxic Exposome Database, is a freely accessible online database of common substances that are toxic to humans, along with their protein, DNA or organ targets.'"
      ]
     },
     "execution_count": 8,
     "metadata": {},
     "output_type": "execute_result"
    }
   ],
   "source": [
    "%%time\n",
    "s = \"\"\"The Toxin and Toxin-Target Database (T3DB),[1][2] also known as the Toxic Exposome Database, is a freely accessible online database of common substances that are toxic to humans, along with their protein, DNA or organ targets. The database currently houses nearly 3,700 toxic compounds or poisons described by nearly 42,000 synonyms. This list includes various groups of toxins, including common pollutants, pesticides, drugs, food toxins, household and industrial/workplace toxins, cigarette toxins, and uremic toxins. These toxic substances are linked to 2,086 corresponding protein/DNA target records. In total there are 42,433 toxic substance-toxin target associations. Each toxic compound record (ToxCard) in T3DB contains nearly 100 data fields and holds information such as chemical properties and descriptors, mechanisms of action, toxicity or lethal dose values, molecular and cellular interactions, medical (symptom and treatment) information (Fig. 1–3), NMR an MS spectra, and up- and down-regulated genes. This information has been extracted from over 18,000 sources, which include other databases, government documents, books, and scientific literature.\n",
    "\n",
    "The primary focus of the T3DB is on providing mechanisms of toxicity and identifying target proteins for common toxic substances. While a number of other toxic compound databases do exist, their emphasis is on covering large numbers of chemical compounds that are almost never seen outside a chemical laboratory. T3DB attempts to capture data on only those toxic substances that are abundant or in widespread use and have been detected or measured in humans. T3DB is fully searchable and supports extensive text, sequence, chemical structure, relational query and spectral searches. It is both modelled after and closely linked to the Human Metabolome Database (HMDB) and DrugBank. Potential applications of T3DB include metabolomics and environmental exposure studies, toxic compound metabolism prediction, toxin/drug interaction prediction, and general toxic substance awareness.\"\"\"\n",
    "ans = s | complete(\"Please summarize the above paragraph\"); assert type(ans) == str; assert len(ans) > 0; ans"
   ]
  },
  {
   "cell_type": "markdown",
   "id": "108253a8-3d1e-40e0-b095-2549412b2540",
   "metadata": {},
   "source": [
    "Checking that the tokenizer automatically pads the input."
   ]
  },
  {
   "cell_type": "code",
   "execution_count": 14,
   "id": "a938ebc2-901a-42b5-88ed-30849e1e9734",
   "metadata": {
    "tags": []
   },
   "outputs": [
    {
     "data": {
      "text/plain": [
       "['The Toxin and Toxin-Target Database (T3DB), also known as the Toxic Exposome Database, is a freely accessible online database of common substances that are toxic to humans, along with their protein, DNA or organ targets.',\n",
       " 'The Toxin and Toxin-Target Database (T3DB), also known as the Toxic Exposome Database, is a freely accessible online database of common substances that are toxic to humans, along with their protein, DNA or organ targets.',\n",
       " 'The Toxin and Toxin-Target Database (T3DB), also known as the Toxic Exposome Database, is a freely accessible online database of common substances that are toxic to humans, along with their protein, DNA or organ targets.']"
      ]
     },
     "execution_count": 14,
     "metadata": {},
     "output_type": "execute_result"
    }
   ],
   "source": [
    "[s,s,s+\"a\"] | cli.head(10) | complete(\"Please summarize the above paragraph\").all() | cli.deref()"
   ]
  },
  {
   "cell_type": "code",
   "execution_count": null,
   "id": "97c6c3f1-ad62-44e0-812d-4d41ade44425",
   "metadata": {
    "tags": []
   },
   "outputs": [],
   "source": [
    "%%time\n",
    "s = \"\"\"Confidence Information Ontology [10] | An ontology to describe confidence information in sequence annotations.\n",
    "Gene Ontology | An ontology for describing the function of genes and gene products.\n",
    "Human Ancestry Ontology [25] | An ontology of ancestry concepts used in the NHGRI-EBI Catalog of published genome-wide association studies.\n",
    "Interaction Network Ontology [29] | An ontology for gene-gene interactions.\n",
    "Non-Coding RNA Ontology [38] | An ontology for non-coding RNA function.\n",
    "Ontology of RNA Sequencing | An ontology to annotate RNA Sequencing experiments.\n",
    "Pathway ontology | An ontology for annotating gene products to pathways.\n",
    "Sequence types and features ontology | An ontology for annotation of sequences.\n",
    "Software Ontology[53] | An ontology to describe software applications with a focus on bioinformatics tools.\n",
    "The Ontology of Genes and Genomes | An ontology of genes and genomes of biological organisms.\n",
    "\n",
    "\"\"\";\n",
    "s | complete(\"In the databases above, what is the common biological aspect between all of them?\")"
   ]
  },
  {
   "cell_type": "code",
   "execution_count": null,
   "id": "cce8b723-63dd-4976-880a-007266ec141d",
   "metadata": {
    "tags": []
   },
   "outputs": [],
   "source": [
    "#longtest\n",
    "with k1lib.timer() as t1: s | summarize()\n",
    "t1()"
   ]
  },
  {
   "cell_type": "code",
   "execution_count": null,
   "id": "a0eff234-c2f2-4a1d-bfdc-ee06d04b7406",
   "metadata": {
    "tags": []
   },
   "outputs": [],
   "source": [
    "#longtest\n",
    "with k1lib.timer() as t2: [s]*30 | summarize() | cli.deref()\n",
    "t2()"
   ]
  },
  {
   "cell_type": "markdown",
   "id": "d07f8d20-e6ce-494d-85b2-077e6cb5d895",
   "metadata": {},
   "source": [
    "Not terribly longer to run with more samples. GPU now consumes something like 9GB (11GB total for everything else like X server)."
   ]
  },
  {
   "cell_type": "code",
   "execution_count": null,
   "id": "a5c265e7-f191-4676-9de3-5ba458110280",
   "metadata": {
    "tags": []
   },
   "outputs": [],
   "source": [
    "\"2 cộng 3 bằng mẫy?\" | complete(\"\")"
   ]
  },
  {
   "cell_type": "markdown",
   "id": "f859519f-18c8-4602-b85e-41568c660325",
   "metadata": {},
   "source": [
    "Okay, it can't understand all languages then."
   ]
  },
  {
   "cell_type": "code",
   "execution_count": null,
   "id": "50ac99c2-50e5-421e-8558-fcfea47ec386",
   "metadata": {},
   "outputs": [],
   "source": [
    "\"what is 2 + 18?\" | complete(\"\")"
   ]
  },
  {
   "cell_type": "markdown",
   "id": "853cb336-b00c-4b40-9d98-1082188d1ffc",
   "metadata": {},
   "source": [
    "Okay, still bad at math then. Shouldn't have expected much more."
   ]
  },
  {
   "cell_type": "code",
   "execution_count": 8,
   "id": "5217c2be-8452-47ee-8d4e-03a4129930f7",
   "metadata": {
    "tags": []
   },
   "outputs": [],
   "source": [
    "#export\n",
    "skclus = k1lib.dep(\"sklearn.cluster\")\n",
    "skpre = k1lib.dep(\"sklearn.preprocessing\")\n",
    "skmet = k1lib.dep(\"sklearn.metrics\")\n",
    "def refine(fea, a, b, kwargs, timeout=1):\n",
    "    scores = []; topScore = float(\"-inf\")\n",
    "    for k in torch.loglinspace(a, b, 10).numpy().astype(int) | cli.aS(np.unique):\n",
    "        km = skclus.KMeans(n_clusters=k, **{**{\"init\": \"k-means++\", \"n_init\": 10, \"max_iter\": 30}, **kwargs})\n",
    "        try: [fea] | cli.applyTh(km.fit, timeout=timeout) | cli.ignore()\n",
    "        except: break\n",
    "        score = skmet.silhouette_score(fea, km.labels_)\n",
    "        topScore = max(topScore, score); scores.append([k, score])\n",
    "        if score*2 < topScore: break\n",
    "    return scores | ~cli.sort(1) | cli.cut(0) | cli.item(), k\n",
    "def findCenters(fea, c, kwargs, timeout=1):\n",
    "    if c is None:\n",
    "        a = 2; b = len(fea); c, b = refine(fea, a, b, kwargs, timeout); a = round(a*0.2 + c*0.8); b = round(b*0.5 + c*0.5)\n",
    "        while b - a > 3:     c, b = refine(fea, a, b, kwargs, timeout); a = round(a*0.2 + c*0.8); b = round(b*0.5 + c*0.5)\n",
    "    km = skclus.KMeans(n_clusters=c, init=\"k-means++\", n_init=10, max_iter=100)\n",
    "    km.fit(fea); return km.cluster_centers_, km.labels_\n",
    "class kmeans(BaseCli):\n",
    "    def __init__(self, k=None, mode=1, timeout=1, **kwargs):\n",
    "        \"\"\"Do k-means clustering, returning the cluster centers.\n",
    "Example::\n",
    "\n",
    "    features, true_labels = sklearn.datasets.make_blobs(n_samples=1_000, centers=5, cluster_std=0.5)\n",
    "    centers = features | kmeans();\n",
    "    centers | shape() # likely return (5, 2)\n",
    "    \n",
    "    # plotting things out\n",
    "    plt.plot(*features.T, \".\")\n",
    "    plt.plot(*centers.T,  \".\")\n",
    "\n",
    ".. image:: ../images/kmeans.png\n",
    "\n",
    ":param k: if specified, will use this k value. Else tries to guess what the best value is\n",
    ":param mode: mode 0 (returns [cluster centers, labels]), mode 1 (returns cluster centers only), mode 2 (returns labels only)\n",
    ":param timeout: internally will try kmeans for up to this number of seconds only.\n",
    "    Will kill the job if it's taking longer\n",
    ":param kwargs: keyword arguments will be passed into sklearn.cluster.KMeans directly.\n",
    "    Some interesting parameters include ``init``, ``n_init``, ``max_iter``\n",
    "\"\"\"\n",
    "        self.k = k; self.mode = mode; self.timeout = timeout; self.kwargs = kwargs\n",
    "    def __ror__(self, it):\n",
    "        scaler = skpre.StandardScaler(); fea = scaler.fit_transform(it); mode = self.mode\n",
    "        centers, labels = findCenters(fea, self.k, self.kwargs, self.timeout)\n",
    "        centers = scaler.inverse_transform(centers)\n",
    "        if mode == 0: return [centers, labels]\n",
    "        return centers if mode == 1 else labels"
   ]
  },
  {
   "cell_type": "code",
   "execution_count": 9,
   "id": "4c0a081b-b09a-4d9a-8f4e-a416e2283167",
   "metadata": {
    "tags": []
   },
   "outputs": [
    {
     "name": "stdout",
     "output_type": "stream",
     "text": [
      "huggingface/tokenizers: The current process just got forked, after parallelism has already been used. Disabling parallelism to avoid deadlocks...\n",
      "To disable this warning, you can either:\n",
      "\t- Avoid using `tokenizers` before the fork if possible\n",
      "\t- Explicitly set the environment variable TOKENIZERS_PARALLELISM=(true | false)\n"
     ]
    },
    {
     "data": {
      "image/png": "[encoded data removed]",
      "text/plain": [
       "<PIL.Image.Image image mode=RGB size=549x391>"
      ]
     },
     "execution_count": 9,
     "metadata": {},
     "output_type": "execute_result"
    }
   ],
   "source": [
    "from sklearn.datasets import make_blobs\n",
    "import matplotlib.pyplot as plt\n",
    "features, true_labels = make_blobs(n_samples=1_000, centers=5, cluster_std=0.2)\n",
    "assert 3 <= (features | kmeans() | cli.shape(0)) <= 6\n",
    "plt.plot(*features.T, \".\"); plt.plot(*features | kmeans() | cli.T(), \".\"); plt.grid(True); im = plt.gcf() | cli.toImg()\n",
    "im | cli.toBytes() | cli.file(\"../../docs/images/kmeans.png\"); im"
   ]
  },
  {
   "cell_type": "code",
   "execution_count": 10,
   "id": "eed1b69c-c41f-4471-b273-ebef8d9e9edf",
   "metadata": {},
   "outputs": [
    {
     "data": {
      "image/png": "[encoded data removed]",
      "text/plain": [
       "<PIL.Image.Image image mode=RGB size=536x391>"
      ]
     },
     "execution_count": 10,
     "metadata": {},
     "output_type": "execute_result"
    }
   ],
   "source": [
    "features, true_labels = make_blobs(n_samples=1_000, centers=5, cluster_std=0.2)\n",
    "plt.plot(*features.T, \".\"); plt.plot(*features | kmeans(10) | cli.T(), \".\"); plt.grid(True); im = plt.gcf() | cli.toImg(); im"
   ]
  },
  {
   "cell_type": "code",
   "execution_count": 11,
   "id": "b80121e3-cb62-49fd-84b8-431af0e38e44",
   "metadata": {
    "tags": []
   },
   "outputs": [],
   "source": [
    "#export\n",
    "skmani = k1lib.dep(\"sklearn.manifold\")\n",
    "class tsne(BaseCli):\n",
    "    def __init__(self, n=2, **kwargs):\n",
    "        \"\"\"Transforms feature vectors of shape (N, F) down to (N, 2) for easy plotting.\n",
    "Example::\n",
    "\n",
    "    from sklearn.datasets import make_blobs\n",
    "    features, true_labels = make_blobs(n_samples=1_000, n_features=5, centers=5, cluster_std=0.2)\n",
    "\n",
    "    features | shape()          # returns (1000, 5)\n",
    "    features | tsne() | shape() # returns (1000, 2)\n",
    "    # plotting things out that has nice colors and whatnot\n",
    "    features | tsne() & kmeans(5, 2) | ~aS(lambda xy,c: plt.scatter(*xy.T,c=c))\n",
    "\n",
    ".. image:: ../images/tsne.png\n",
    "\n",
    ":param n: number of output components (aka size of feature vector)\n",
    ":param kwargs: other keyword arguments passed into ``sklearn.manifold.TSNE``\"\"\"\n",
    "        self.n = n; self.kwargs = kwargs\n",
    "    def __ror__(self, it):\n",
    "        if not isinstance(it, k1lib.settings.cli.arrayTypes): it = np.array(list(it))\n",
    "        return skmani.TSNE(self.n, **self.kwargs).fit_transform(it)"
   ]
  },
  {
   "cell_type": "code",
   "execution_count": 12,
   "id": "dfc918be-57ef-4291-b054-dec41605240e",
   "metadata": {
    "tags": []
   },
   "outputs": [
    {
     "data": {
      "image/png": "[encoded data removed]",
      "text/plain": [
       "<PIL.Image.Image image mode=RGB size=536x411>"
      ]
     },
     "execution_count": 12,
     "metadata": {},
     "output_type": "execute_result"
    }
   ],
   "source": [
    "features, true_labels = make_blobs(n_samples=1_000, n_features=5, centers=5, cluster_std=0.2)\n",
    "features | (tsne() | cli.transpose()) & kmeans(5, 2) | ~cli.aS(lambda xy,c: plt.scatter(*xy,c=c))\n",
    "plt.title(\"t-SNE plot\"); im = plt.gcf() | cli.toImg(); im | cli.toBytes() | cli.file(\"../../docs/images/tsne.png\"); im"
   ]
  },
  {
   "cell_type": "code",
   "execution_count": 37,
   "id": "5cd7e59a-e982-49f4-8434-695b633bb140",
   "metadata": {
    "tags": []
   },
   "outputs": [
    {
     "data": {
      "text/plain": [
       "<module 'pybloom_live' from '/home/kelvin/anaconda3/envs/ray2/lib/python3.9/site-packages/pybloom_live/__init__.py'>"
      ]
     },
     "execution_count": 37,
     "metadata": {},
     "output_type": "execute_result"
    }
   ],
   "source": [
    "pybloom_live.ScalableBloomFilter"
   ]
  },
  {
   "cell_type": "code",
   "execution_count": 49,
   "id": "01279321-be45-4865-9cac-63f8316cc954",
   "metadata": {
    "tags": []
   },
   "outputs": [],
   "source": [
    "#export\n",
    "settings.add(\"bloom\", k1lib.Settings().add(\"scalable\", k1lib.Settings().add(\"capacity\", 1000, \"initial filter's capacity\").add(\"growth\", 4, \"how fast does the filter's capacity grow over time when the capacity is reached\"), \"settings for when you don't declare the bloom's capacity ahead of time\"), \"bloom filter settings\")\n",
    "pybloom_live = k1lib.dep(\"pybloom_live\", \"pybloom-live\", \"https://github.com/joseph-fox/python-bloomfilter, https://pypi.org/project/pybloom-live/\")\n",
    "class bloom(BaseCli):\n",
    "    def __init__(self, n:int=None, p:float=0.1, overflow:bool=False):\n",
    "        \"\"\"Creates a bloom filter.\n",
    "Example::\n",
    "\n",
    "    bf = [\"raptor\", \"skylake\", \"merlin\", \"twinscan nxt\", \"sapphire rapids\"] | bloom()\n",
    "    \"raptor\"       in bf # returns True\n",
    "    \"twinscan nxt\" in bf # returns True\n",
    "    \"twin\"         in bf # most likely returns False, small chance returns True\n",
    "\n",
    "This also allows distributed computing quite easily::\n",
    "\n",
    "    bf = range(10) | applyMp(lambda i: cat(f\"file-{i}.txt\") | bloom()) | bloom.join()\n",
    "\n",
    "This code assumes that you have 10 files filled with text with file names \"file-1.txt\" and\n",
    "you want to check whether a string exists or not in all of those files. It is expected that\n",
    "\n",
    ".. admonition:: Scalable bloom filter\n",
    "\n",
    "    It's possible to leave the filter's capacity empty, which will create an initial filter\n",
    "    with capacity 1000. When that capacity is reached, it will expand the filter to a capacity\n",
    "    of 4000. Then 16000, and so on. This can be tweaked in the settings::\n",
    "    \n",
    "        settings.cli.models.bloom.scalable.capacity = 2000 # sets filter's default initial capacity\n",
    "        settings.cli.models.bloom.scalable.growth = 2      # sets filter's growth factor when it runs out of space\n",
    "\n",
    "    Because fundamentally, bloom filters can't grow, internally, this will create multiple bloom\n",
    "    filters with increasing capacity, and whenever you search for a term, it will have to search\n",
    "    through multiple filters to get the answer. So even though you can leave the capacity empty,\n",
    "    it will degrade performance a little bit, which might be undesirable.\n",
    "\n",
    ":param n: number of elements to be stored, aka filter's capacity\n",
    ":param p: false positive probability (put 0.1 for 10% false positive, 0.01 for 1%)\n",
    ":param overflow: if True, allows append more elements than the capacity of the filter, else (default) don't allow it\"\"\"\n",
    "        self.n = n; self.p = p; self.overflow = overflow\n",
    "    def __ror__(self, it):\n",
    "        n = self.n; p = self.p\n",
    "        bf = pybloom_live.ScalableBloomFilter(settings.bloom.scalable.capacity, p, settings.bloom.scalable.growth) if n is None else pybloom_live.BloomFilter(n, p)\n",
    "        if self.overflow:\n",
    "            for e in it:\n",
    "                try: bf.add(e)\n",
    "                except IndexError: bf.count = 0; bf.add(e)\n",
    "        else:\n",
    "            for e in it: bf.add(e)\n",
    "        return bf\n",
    "    @staticmethod\n",
    "    def join():\n",
    "        def inner(bfs):\n",
    "            bfs = list(bfs)\n",
    "            if len(set([type(b) for b in bfs])) > 1: raise Exception(\"Can't join normal filters and scalable filters together. Please specify a common capacity to all of the bloom filters\")\n",
    "            if type(bfs[0]) == pybloom_live.BloomFilter: # my implementation, which should be a little faster than builtin .union()\n",
    "                b = bfs[0].copy()\n",
    "                for b_ in bfs[1:]: b.bitarray |= b_.bitarray\n",
    "                return b\n",
    "            else: # has to use complex .union() in this case\n",
    "                b = bfs[0]\n",
    "                for b_ in bfs[1:]: b = b.union(b_)\n",
    "                return b\n",
    "        return cli.aS(inner)\n",
    "try:\n",
    "    import pybloom_live\n",
    "    @k1lib.patch(pybloom_live.pybloom.BloomFilter)\n",
    "    def __or__(self, other):\n",
    "        if isinstance(other, BaseCli): return other.__ror__(self)\n",
    "        return self.union(other)\n",
    "except: pass"
   ]
  },
  {
   "cell_type": "code",
   "execution_count": 52,
   "id": "4a14e6fa-803f-4d17-94f4-675725defe65",
   "metadata": {
    "tags": []
   },
   "outputs": [],
   "source": [
    "bf = [\"raptor\", \"skylake\", \"merlin\", \"twinscan nxt\", \"sapphire rapids\"] | bloom(10, 0.01)\n",
    "assert \"twin\" not in bf; assert \"twinscan nxt\" in bf\n",
    "bf = [\"raptor\", \"skylake\", \"merlin\", \"twinscan nxt\", \"sapphire rapids\"] | bloom(p=0.01)\n",
    "assert \"twin\" not in bf; assert \"twinscan nxt\" in bf\n",
    "bf = [[\"raptor\", \"skylake\"], [\"merlin\", \"twinscan nxt\"], [\"sapphire rapids\"]] | cli.apply(bloom(10, 0.01)) | bloom.join()\n",
    "assert \"twin\" not in bf; assert \"twinscan nxt\" in bf\n",
    "bf = [[\"raptor\", \"skylake\"], [\"merlin\", \"twinscan nxt\"], [\"sapphire rapids\"]] | cli.apply(bloom(p=0.01)) | bloom.join()\n",
    "assert \"twin\" not in bf; assert \"twinscan nxt\" in bf"
   ]
  },
  {
   "cell_type": "code",
   "execution_count": 1,
   "id": "eb2ec9e7-83b5-4edc-b446-108ff825e066",
   "metadata": {
    "scrolled": true,
    "tags": []
   },
   "outputs": [
    {
     "name": "stdout",
     "output_type": "stream",
     "text": [
      "2023-10-05 13:10:23,771\tINFO worker.py:1364 -- Connecting to existing Ray cluster at address: 192.168.1.133:6379...\n",
      "2023-10-05 13:10:23,777\tINFO worker.py:1544 -- Connected to Ray cluster. View the dashboard at \u001b[1m\u001b[32m127.0.0.1:8265 \u001b[39m\u001b[22m\n",
      "7360    1   40%   \n",
      "11097   0   60%   \n",
      "rm: cannot remove '__pycache__': No such file or directory\n",
      "Found existing installation: k1lib 1.4.3.8\n",
      "Uninstalling k1lib-1.4.3.8:\n",
      "  Successfully uninstalled k1lib-1.4.3.8\n",
      "running install\n",
      "/home/kelvin/anaconda3/envs/ray2/lib/python3.9/site-packages/setuptools/command/install.py:34: SetuptoolsDeprecationWarning: setup.py install is deprecated. Use build and pip and other standards-based tools.\n",
      "  warnings.warn(\n",
      "/home/kelvin/anaconda3/envs/ray2/lib/python3.9/site-packages/setuptools/command/easy_install.py:144: EasyInstallDeprecationWarning: easy_install command is deprecated. Use build and pip and other standards-based tools.\n",
      "  warnings.warn(\n",
      "running bdist_egg\n",
      "running egg_info\n",
      "creating k1lib.egg-info\n",
      "writing k1lib.egg-info/PKG-INFO\n",
      "writing dependency_links to k1lib.egg-info/dependency_links.txt\n",
      "writing requirements to k1lib.egg-info/requires.txt\n",
      "writing top-level names to k1lib.egg-info/top_level.txt\n",
      "writing manifest file 'k1lib.egg-info/SOURCES.txt'\n",
      "reading manifest file 'k1lib.egg-info/SOURCES.txt'\n",
      "adding license file 'LICENSE'\n",
      "writing manifest file 'k1lib.egg-info/SOURCES.txt'\n",
      "installing library code to build/bdist.linux-x86_64/egg\n",
      "running install_lib\n",
      "running build_py\n",
      "creating build\n",
      "creating build/lib\n",
      "creating build/lib/k1lib\n",
      "copying k1lib/_learner.py -> build/lib/k1lib\n",
      "copying k1lib/fmt.py -> build/lib/k1lib\n",
      "copying k1lib/_k1a.py -> build/lib/k1lib\n",
      "copying k1lib/_context.py -> build/lib/k1lib\n",
      "copying k1lib/selector.py -> build/lib/k1lib\n",
      "copying k1lib/imports.py -> build/lib/k1lib\n",
      "copying k1lib/_baseClasses.py -> build/lib/k1lib\n",
      "copying k1lib/_basics.py -> build/lib/k1lib\n",
      "copying k1lib/viz.py -> build/lib/k1lib\n",
      "copying k1lib/_higher.py -> build/lib/k1lib\n",
      "copying k1lib/__init__.py -> build/lib/k1lib\n",
      "copying k1lib/_monkey.py -> build/lib/k1lib\n",
      "copying k1lib/knn.py -> build/lib/k1lib\n",
      "copying k1lib/p5.py -> build/lib/k1lib\n",
      "copying k1lib/graphEqn.py -> build/lib/k1lib\n",
      "copying k1lib/schedule.py -> build/lib/k1lib\n",
      "copying k1lib/_perlin.py -> build/lib/k1lib\n",
      "copying k1lib/eqn.py -> build/lib/k1lib\n",
      "creating build/lib/k1lib/_hidden\n",
      "copying k1lib/_hidden/hiddenFile.py -> build/lib/k1lib/_hidden\n",
      "copying k1lib/_hidden/__init__.py -> build/lib/k1lib/_hidden\n",
      "creating build/lib/k1lib/cli\n",
      "copying k1lib/cli/bio.py -> build/lib/k1lib/cli\n",
      "copying k1lib/cli/cif.py -> build/lib/k1lib/cli\n",
      "copying k1lib/cli/structural.py -> build/lib/k1lib/cli\n",
      "copying k1lib/cli/modifier.py -> build/lib/k1lib/cli\n",
      "copying k1lib/cli/gb.py -> build/lib/k1lib/cli\n",
      "copying k1lib/cli/output.py -> build/lib/k1lib/cli\n",
      "copying k1lib/cli/kxml.py -> build/lib/k1lib/cli\n",
      "copying k1lib/cli/ktree.py -> build/lib/k1lib/cli\n",
      "copying k1lib/cli/nb.py -> build/lib/k1lib/cli\n",
      "copying k1lib/cli/inp.py -> build/lib/k1lib/cli\n",
      "copying k1lib/cli/mol.py -> build/lib/k1lib/cli\n",
      "copying k1lib/cli/mgi.py -> build/lib/k1lib/cli\n",
      "copying k1lib/cli/_applyCl.py -> build/lib/k1lib/cli\n",
      "copying k1lib/cli/grep.py -> build/lib/k1lib/cli\n",
      "copying k1lib/cli/models.py -> build/lib/k1lib/cli\n",
      "copying k1lib/cli/sam.py -> build/lib/k1lib/cli\n",
      "copying k1lib/cli/trace.py -> build/lib/k1lib/cli\n",
      "copying k1lib/cli/__init__.py -> build/lib/k1lib/cli\n",
      "copying k1lib/cli/typehint.py -> build/lib/k1lib/cli\n",
      "copying k1lib/cli/filt.py -> build/lib/k1lib/cli\n",
      "copying k1lib/cli/utils.py -> build/lib/k1lib/cli\n",
      "copying k1lib/cli/init.py -> build/lib/k1lib/cli\n",
      "copying k1lib/cli/conv.py -> build/lib/k1lib/cli\n",
      "copying k1lib/cli/optimizations.py -> build/lib/k1lib/cli\n",
      "copying k1lib/cli/lsext.py -> build/lib/k1lib/cli\n",
      "creating build/lib/k1lib/callbacks\n",
      "copying k1lib/callbacks/loss_accuracy.py -> build/lib/k1lib/callbacks\n",
      "copying k1lib/callbacks/progress.py -> build/lib/k1lib/callbacks\n",
      "copying k1lib/callbacks/limits.py -> build/lib/k1lib/callbacks\n",
      "copying k1lib/callbacks/hookParam.py -> build/lib/k1lib/callbacks\n",
      "copying k1lib/callbacks/profiler.py -> build/lib/k1lib/callbacks\n",
      "copying k1lib/callbacks/callbacks.py -> build/lib/k1lib/callbacks\n",
      "copying k1lib/callbacks/paramFinder.py -> build/lib/k1lib/callbacks\n",
      "copying k1lib/callbacks/core.py -> build/lib/k1lib/callbacks\n",
      "copying k1lib/callbacks/__init__.py -> build/lib/k1lib/callbacks\n",
      "copying k1lib/callbacks/landscape.py -> build/lib/k1lib/callbacks\n",
      "copying k1lib/callbacks/confusionMatrix.py -> build/lib/k1lib/callbacks\n",
      "copying k1lib/callbacks/recorder.py -> build/lib/k1lib/callbacks\n",
      "copying k1lib/callbacks/shorts.py -> build/lib/k1lib/callbacks\n",
      "copying k1lib/callbacks/hookModule.py -> build/lib/k1lib/callbacks\n",
      "creating build/lib/k1lib/callbacks/profilers\n",
      "copying k1lib/callbacks/profilers/time.py -> build/lib/k1lib/callbacks/profilers\n",
      "copying k1lib/callbacks/profilers/memory.py -> build/lib/k1lib/callbacks/profilers\n",
      "copying k1lib/callbacks/profilers/__init__.py -> build/lib/k1lib/callbacks/profilers\n",
      "copying k1lib/callbacks/profilers/io.py -> build/lib/k1lib/callbacks/profilers\n",
      "copying k1lib/callbacks/profilers/computation.py -> build/lib/k1lib/callbacks/profilers\n",
      "creating build/lib/k1lib/callbacks/lossFunctions\n",
      "copying k1lib/callbacks/lossFunctions/accuracy.py -> build/lib/k1lib/callbacks/lossFunctions\n",
      "copying k1lib/callbacks/lossFunctions/__init__.py -> build/lib/k1lib/callbacks/lossFunctions\n",
      "copying k1lib/callbacks/lossFunctions/shorts.py -> build/lib/k1lib/callbacks/lossFunctions\n",
      "creating build/lib/k1lib/_mo\n",
      "copying k1lib/_mo/atom.py -> build/lib/k1lib/_mo\n",
      "copying k1lib/_mo/parseM.py -> build/lib/k1lib/_mo\n",
      "copying k1lib/_mo/substance.py -> build/lib/k1lib/_mo\n",
      "copying k1lib/_mo/system.py -> build/lib/k1lib/_mo\n",
      "copying k1lib/_mo/__init__.py -> build/lib/k1lib/_mo\n",
      "creating build/lib/k1lib/serve\n",
      "copying k1lib/serve/suffix.py -> build/lib/k1lib/serve\n",
      "copying k1lib/serve/suffix-dash.py -> build/lib/k1lib/serve\n",
      "copying k1lib/serve/__init__.py -> build/lib/k1lib/serve\n",
      "copying k1lib/serve/main.py -> build/lib/k1lib/serve\n",
      "creating build/lib/k1lib/k1ui\n",
      "copying k1lib/k1ui/__init__.py -> build/lib/k1lib/k1ui\n",
      "copying k1lib/k1ui/main.py -> build/lib/k1lib/k1ui\n",
      "copying k1lib/serve/main.html -> build/lib/k1lib/serve\n",
      "copying k1lib/k1ui/256.model.state_dict.pth -> build/lib/k1lib/k1ui\n",
      "copying k1lib/k1ui/mouseKey.pth -> build/lib/k1lib/k1ui\n",
      "creating build/bdist.linux-x86_64\n",
      "creating build/bdist.linux-x86_64/egg\n",
      "creating build/bdist.linux-x86_64/egg/k1lib\n",
      "copying build/lib/k1lib/_learner.py -> build/bdist.linux-x86_64/egg/k1lib\n",
      "creating build/bdist.linux-x86_64/egg/k1lib/serve\n",
      "copying build/lib/k1lib/serve/main.html -> build/bdist.linux-x86_64/egg/k1lib/serve\n",
      "copying build/lib/k1lib/serve/suffix.py -> build/bdist.linux-x86_64/egg/k1lib/serve\n",
      "copying build/lib/k1lib/serve/suffix-dash.py -> build/bdist.linux-x86_64/egg/k1lib/serve\n",
      "copying build/lib/k1lib/serve/__init__.py -> build/bdist.linux-x86_64/egg/k1lib/serve\n",
      "copying build/lib/k1lib/serve/main.py -> build/bdist.linux-x86_64/egg/k1lib/serve\n",
      "copying build/lib/k1lib/fmt.py -> build/bdist.linux-x86_64/egg/k1lib\n",
      "copying build/lib/k1lib/_k1a.py -> build/bdist.linux-x86_64/egg/k1lib\n",
      "copying build/lib/k1lib/_context.py -> build/bdist.linux-x86_64/egg/k1lib\n",
      "copying build/lib/k1lib/selector.py -> build/bdist.linux-x86_64/egg/k1lib\n",
      "copying build/lib/k1lib/imports.py -> build/bdist.linux-x86_64/egg/k1lib\n",
      "creating build/bdist.linux-x86_64/egg/k1lib/k1ui\n",
      "copying build/lib/k1lib/k1ui/mouseKey.pth -> build/bdist.linux-x86_64/egg/k1lib/k1ui\n",
      "copying build/lib/k1lib/k1ui/__init__.py -> build/bdist.linux-x86_64/egg/k1lib/k1ui\n",
      "copying build/lib/k1lib/k1ui/main.py -> build/bdist.linux-x86_64/egg/k1lib/k1ui\n",
      "copying build/lib/k1lib/k1ui/256.model.state_dict.pth -> build/bdist.linux-x86_64/egg/k1lib/k1ui\n",
      "copying build/lib/k1lib/_baseClasses.py -> build/bdist.linux-x86_64/egg/k1lib\n",
      "copying build/lib/k1lib/_basics.py -> build/bdist.linux-x86_64/egg/k1lib\n",
      "creating build/bdist.linux-x86_64/egg/k1lib/cli\n",
      "copying build/lib/k1lib/cli/bio.py -> build/bdist.linux-x86_64/egg/k1lib/cli\n",
      "copying build/lib/k1lib/cli/cif.py -> build/bdist.linux-x86_64/egg/k1lib/cli\n",
      "copying build/lib/k1lib/cli/structural.py -> build/bdist.linux-x86_64/egg/k1lib/cli\n",
      "copying build/lib/k1lib/cli/modifier.py -> build/bdist.linux-x86_64/egg/k1lib/cli\n",
      "copying build/lib/k1lib/cli/gb.py -> build/bdist.linux-x86_64/egg/k1lib/cli\n",
      "copying build/lib/k1lib/cli/output.py -> build/bdist.linux-x86_64/egg/k1lib/cli\n",
      "copying build/lib/k1lib/cli/kxml.py -> build/bdist.linux-x86_64/egg/k1lib/cli\n",
      "copying build/lib/k1lib/cli/ktree.py -> build/bdist.linux-x86_64/egg/k1lib/cli\n",
      "copying build/lib/k1lib/cli/nb.py -> build/bdist.linux-x86_64/egg/k1lib/cli\n",
      "copying build/lib/k1lib/cli/inp.py -> build/bdist.linux-x86_64/egg/k1lib/cli\n",
      "copying build/lib/k1lib/cli/mol.py -> build/bdist.linux-x86_64/egg/k1lib/cli\n",
      "copying build/lib/k1lib/cli/mgi.py -> build/bdist.linux-x86_64/egg/k1lib/cli\n",
      "copying build/lib/k1lib/cli/_applyCl.py -> build/bdist.linux-x86_64/egg/k1lib/cli\n",
      "copying build/lib/k1lib/cli/grep.py -> build/bdist.linux-x86_64/egg/k1lib/cli\n",
      "copying build/lib/k1lib/cli/models.py -> build/bdist.linux-x86_64/egg/k1lib/cli\n",
      "copying build/lib/k1lib/cli/sam.py -> build/bdist.linux-x86_64/egg/k1lib/cli\n",
      "copying build/lib/k1lib/cli/trace.py -> build/bdist.linux-x86_64/egg/k1lib/cli\n",
      "copying build/lib/k1lib/cli/__init__.py -> build/bdist.linux-x86_64/egg/k1lib/cli\n",
      "copying build/lib/k1lib/cli/typehint.py -> build/bdist.linux-x86_64/egg/k1lib/cli\n",
      "copying build/lib/k1lib/cli/filt.py -> build/bdist.linux-x86_64/egg/k1lib/cli\n",
      "copying build/lib/k1lib/cli/utils.py -> build/bdist.linux-x86_64/egg/k1lib/cli\n",
      "copying build/lib/k1lib/cli/init.py -> build/bdist.linux-x86_64/egg/k1lib/cli\n",
      "copying build/lib/k1lib/cli/conv.py -> build/bdist.linux-x86_64/egg/k1lib/cli\n",
      "copying build/lib/k1lib/cli/optimizations.py -> build/bdist.linux-x86_64/egg/k1lib/cli\n",
      "copying build/lib/k1lib/cli/lsext.py -> build/bdist.linux-x86_64/egg/k1lib/cli\n",
      "copying build/lib/k1lib/viz.py -> build/bdist.linux-x86_64/egg/k1lib\n",
      "copying build/lib/k1lib/_higher.py -> build/bdist.linux-x86_64/egg/k1lib\n",
      "copying build/lib/k1lib/__init__.py -> build/bdist.linux-x86_64/egg/k1lib\n",
      "copying build/lib/k1lib/_monkey.py -> build/bdist.linux-x86_64/egg/k1lib\n",
      "creating build/bdist.linux-x86_64/egg/k1lib/_mo\n",
      "copying build/lib/k1lib/_mo/atom.py -> build/bdist.linux-x86_64/egg/k1lib/_mo\n",
      "copying build/lib/k1lib/_mo/parseM.py -> build/bdist.linux-x86_64/egg/k1lib/_mo\n",
      "copying build/lib/k1lib/_mo/substance.py -> build/bdist.linux-x86_64/egg/k1lib/_mo\n",
      "copying build/lib/k1lib/_mo/system.py -> build/bdist.linux-x86_64/egg/k1lib/_mo\n",
      "copying build/lib/k1lib/_mo/__init__.py -> build/bdist.linux-x86_64/egg/k1lib/_mo\n",
      "copying build/lib/k1lib/knn.py -> build/bdist.linux-x86_64/egg/k1lib\n",
      "copying build/lib/k1lib/p5.py -> build/bdist.linux-x86_64/egg/k1lib\n",
      "copying build/lib/k1lib/graphEqn.py -> build/bdist.linux-x86_64/egg/k1lib\n",
      "copying build/lib/k1lib/schedule.py -> build/bdist.linux-x86_64/egg/k1lib\n",
      "creating build/bdist.linux-x86_64/egg/k1lib/callbacks\n",
      "copying build/lib/k1lib/callbacks/loss_accuracy.py -> build/bdist.linux-x86_64/egg/k1lib/callbacks\n",
      "copying build/lib/k1lib/callbacks/progress.py -> build/bdist.linux-x86_64/egg/k1lib/callbacks\n",
      "copying build/lib/k1lib/callbacks/limits.py -> build/bdist.linux-x86_64/egg/k1lib/callbacks\n",
      "copying build/lib/k1lib/callbacks/hookParam.py -> build/bdist.linux-x86_64/egg/k1lib/callbacks\n",
      "copying build/lib/k1lib/callbacks/profiler.py -> build/bdist.linux-x86_64/egg/k1lib/callbacks\n",
      "copying build/lib/k1lib/callbacks/callbacks.py -> build/bdist.linux-x86_64/egg/k1lib/callbacks\n",
      "copying build/lib/k1lib/callbacks/paramFinder.py -> build/bdist.linux-x86_64/egg/k1lib/callbacks\n",
      "copying build/lib/k1lib/callbacks/core.py -> build/bdist.linux-x86_64/egg/k1lib/callbacks\n",
      "creating build/bdist.linux-x86_64/egg/k1lib/callbacks/profilers\n",
      "copying build/lib/k1lib/callbacks/profilers/time.py -> build/bdist.linux-x86_64/egg/k1lib/callbacks/profilers\n",
      "copying build/lib/k1lib/callbacks/profilers/memory.py -> build/bdist.linux-x86_64/egg/k1lib/callbacks/profilers\n",
      "copying build/lib/k1lib/callbacks/profilers/__init__.py -> build/bdist.linux-x86_64/egg/k1lib/callbacks/profilers\n",
      "copying build/lib/k1lib/callbacks/profilers/io.py -> build/bdist.linux-x86_64/egg/k1lib/callbacks/profilers\n",
      "copying build/lib/k1lib/callbacks/profilers/computation.py -> build/bdist.linux-x86_64/egg/k1lib/callbacks/profilers\n",
      "copying build/lib/k1lib/callbacks/__init__.py -> build/bdist.linux-x86_64/egg/k1lib/callbacks\n",
      "copying build/lib/k1lib/callbacks/landscape.py -> build/bdist.linux-x86_64/egg/k1lib/callbacks\n",
      "copying build/lib/k1lib/callbacks/confusionMatrix.py -> build/bdist.linux-x86_64/egg/k1lib/callbacks\n",
      "copying build/lib/k1lib/callbacks/recorder.py -> build/bdist.linux-x86_64/egg/k1lib/callbacks\n",
      "copying build/lib/k1lib/callbacks/shorts.py -> build/bdist.linux-x86_64/egg/k1lib/callbacks\n",
      "copying build/lib/k1lib/callbacks/hookModule.py -> build/bdist.linux-x86_64/egg/k1lib/callbacks\n",
      "creating build/bdist.linux-x86_64/egg/k1lib/callbacks/lossFunctions\n",
      "copying build/lib/k1lib/callbacks/lossFunctions/accuracy.py -> build/bdist.linux-x86_64/egg/k1lib/callbacks/lossFunctions\n",
      "copying build/lib/k1lib/callbacks/lossFunctions/__init__.py -> build/bdist.linux-x86_64/egg/k1lib/callbacks/lossFunctions\n",
      "copying build/lib/k1lib/callbacks/lossFunctions/shorts.py -> build/bdist.linux-x86_64/egg/k1lib/callbacks/lossFunctions\n",
      "copying build/lib/k1lib/_perlin.py -> build/bdist.linux-x86_64/egg/k1lib\n",
      "creating build/bdist.linux-x86_64/egg/k1lib/_hidden\n",
      "copying build/lib/k1lib/_hidden/hiddenFile.py -> build/bdist.linux-x86_64/egg/k1lib/_hidden\n",
      "copying build/lib/k1lib/_hidden/__init__.py -> build/bdist.linux-x86_64/egg/k1lib/_hidden\n",
      "copying build/lib/k1lib/eqn.py -> build/bdist.linux-x86_64/egg/k1lib\n",
      "byte-compiling build/bdist.linux-x86_64/egg/k1lib/_learner.py to _learner.cpython-39.pyc\n",
      "byte-compiling build/bdist.linux-x86_64/egg/k1lib/serve/suffix.py to suffix.cpython-39.pyc\n",
      "byte-compiling build/bdist.linux-x86_64/egg/k1lib/serve/suffix-dash.py to suffix-dash.cpython-39.pyc\n",
      "byte-compiling build/bdist.linux-x86_64/egg/k1lib/serve/__init__.py to __init__.cpython-39.pyc\n",
      "byte-compiling build/bdist.linux-x86_64/egg/k1lib/serve/main.py to main.cpython-39.pyc\n",
      "byte-compiling build/bdist.linux-x86_64/egg/k1lib/fmt.py to fmt.cpython-39.pyc\n",
      "byte-compiling build/bdist.linux-x86_64/egg/k1lib/_k1a.py to _k1a.cpython-39.pyc\n",
      "byte-compiling build/bdist.linux-x86_64/egg/k1lib/_context.py to _context.cpython-39.pyc\n",
      "byte-compiling build/bdist.linux-x86_64/egg/k1lib/selector.py to selector.cpython-39.pyc\n",
      "byte-compiling build/bdist.linux-x86_64/egg/k1lib/imports.py to imports.cpython-39.pyc\n",
      "byte-compiling build/bdist.linux-x86_64/egg/k1lib/k1ui/__init__.py to __init__.cpython-39.pyc\n",
      "byte-compiling build/bdist.linux-x86_64/egg/k1lib/k1ui/main.py to main.cpython-39.pyc\n",
      "byte-compiling build/bdist.linux-x86_64/egg/k1lib/_baseClasses.py to _baseClasses.cpython-39.pyc\n",
      "byte-compiling build/bdist.linux-x86_64/egg/k1lib/_basics.py to _basics.cpython-39.pyc\n",
      "byte-compiling build/bdist.linux-x86_64/egg/k1lib/cli/bio.py to bio.cpython-39.pyc\n",
      "byte-compiling build/bdist.linux-x86_64/egg/k1lib/cli/cif.py to cif.cpython-39.pyc\n",
      "byte-compiling build/bdist.linux-x86_64/egg/k1lib/cli/structural.py to structural.cpython-39.pyc\n",
      "byte-compiling build/bdist.linux-x86_64/egg/k1lib/cli/modifier.py to modifier.cpython-39.pyc\n",
      "byte-compiling build/bdist.linux-x86_64/egg/k1lib/cli/gb.py to gb.cpython-39.pyc\n",
      "byte-compiling build/bdist.linux-x86_64/egg/k1lib/cli/output.py to output.cpython-39.pyc\n",
      "byte-compiling build/bdist.linux-x86_64/egg/k1lib/cli/kxml.py to kxml.cpython-39.pyc\n",
      "byte-compiling build/bdist.linux-x86_64/egg/k1lib/cli/ktree.py to ktree.cpython-39.pyc\n",
      "byte-compiling build/bdist.linux-x86_64/egg/k1lib/cli/nb.py to nb.cpython-39.pyc\n",
      "byte-compiling build/bdist.linux-x86_64/egg/k1lib/cli/inp.py to inp.cpython-39.pyc\n",
      "byte-compiling build/bdist.linux-x86_64/egg/k1lib/cli/mol.py to mol.cpython-39.pyc\n",
      "byte-compiling build/bdist.linux-x86_64/egg/k1lib/cli/mgi.py to mgi.cpython-39.pyc\n",
      "byte-compiling build/bdist.linux-x86_64/egg/k1lib/cli/_applyCl.py to _applyCl.cpython-39.pyc\n",
      "byte-compiling build/bdist.linux-x86_64/egg/k1lib/cli/grep.py to grep.cpython-39.pyc\n",
      "byte-compiling build/bdist.linux-x86_64/egg/k1lib/cli/models.py to models.cpython-39.pyc\n",
      "byte-compiling build/bdist.linux-x86_64/egg/k1lib/cli/sam.py to sam.cpython-39.pyc\n",
      "byte-compiling build/bdist.linux-x86_64/egg/k1lib/cli/trace.py to trace.cpython-39.pyc\n",
      "byte-compiling build/bdist.linux-x86_64/egg/k1lib/cli/__init__.py to __init__.cpython-39.pyc\n",
      "byte-compiling build/bdist.linux-x86_64/egg/k1lib/cli/typehint.py to typehint.cpython-39.pyc\n",
      "byte-compiling build/bdist.linux-x86_64/egg/k1lib/cli/filt.py to filt.cpython-39.pyc\n",
      "byte-compiling build/bdist.linux-x86_64/egg/k1lib/cli/utils.py to utils.cpython-39.pyc\n",
      "byte-compiling build/bdist.linux-x86_64/egg/k1lib/cli/init.py to init.cpython-39.pyc\n",
      "byte-compiling build/bdist.linux-x86_64/egg/k1lib/cli/conv.py to conv.cpython-39.pyc\n",
      "byte-compiling build/bdist.linux-x86_64/egg/k1lib/cli/optimizations.py to optimizations.cpython-39.pyc\n",
      "byte-compiling build/bdist.linux-x86_64/egg/k1lib/cli/lsext.py to lsext.cpython-39.pyc\n",
      "byte-compiling build/bdist.linux-x86_64/egg/k1lib/viz.py to viz.cpython-39.pyc\n",
      "byte-compiling build/bdist.linux-x86_64/egg/k1lib/_higher.py to _higher.cpython-39.pyc\n",
      "byte-compiling build/bdist.linux-x86_64/egg/k1lib/__init__.py to __init__.cpython-39.pyc\n",
      "byte-compiling build/bdist.linux-x86_64/egg/k1lib/_monkey.py to _monkey.cpython-39.pyc\n",
      "byte-compiling build/bdist.linux-x86_64/egg/k1lib/_mo/atom.py to atom.cpython-39.pyc\n",
      "byte-compiling build/bdist.linux-x86_64/egg/k1lib/_mo/parseM.py to parseM.cpython-39.pyc\n",
      "byte-compiling build/bdist.linux-x86_64/egg/k1lib/_mo/substance.py to substance.cpython-39.pyc\n",
      "byte-compiling build/bdist.linux-x86_64/egg/k1lib/_mo/system.py to system.cpython-39.pyc\n",
      "byte-compiling build/bdist.linux-x86_64/egg/k1lib/_mo/__init__.py to __init__.cpython-39.pyc\n",
      "byte-compiling build/bdist.linux-x86_64/egg/k1lib/knn.py to knn.cpython-39.pyc\n",
      "byte-compiling build/bdist.linux-x86_64/egg/k1lib/p5.py to p5.cpython-39.pyc\n",
      "byte-compiling build/bdist.linux-x86_64/egg/k1lib/graphEqn.py to graphEqn.cpython-39.pyc\n",
      "byte-compiling build/bdist.linux-x86_64/egg/k1lib/schedule.py to schedule.cpython-39.pyc\n",
      "byte-compiling build/bdist.linux-x86_64/egg/k1lib/callbacks/loss_accuracy.py to loss_accuracy.cpython-39.pyc\n",
      "byte-compiling build/bdist.linux-x86_64/egg/k1lib/callbacks/progress.py to progress.cpython-39.pyc\n",
      "byte-compiling build/bdist.linux-x86_64/egg/k1lib/callbacks/limits.py to limits.cpython-39.pyc\n",
      "byte-compiling build/bdist.linux-x86_64/egg/k1lib/callbacks/hookParam.py to hookParam.cpython-39.pyc\n",
      "byte-compiling build/bdist.linux-x86_64/egg/k1lib/callbacks/profiler.py to profiler.cpython-39.pyc\n",
      "byte-compiling build/bdist.linux-x86_64/egg/k1lib/callbacks/callbacks.py to callbacks.cpython-39.pyc\n",
      "byte-compiling build/bdist.linux-x86_64/egg/k1lib/callbacks/paramFinder.py to paramFinder.cpython-39.pyc\n",
      "byte-compiling build/bdist.linux-x86_64/egg/k1lib/callbacks/core.py to core.cpython-39.pyc\n",
      "byte-compiling build/bdist.linux-x86_64/egg/k1lib/callbacks/profilers/time.py to time.cpython-39.pyc\n",
      "byte-compiling build/bdist.linux-x86_64/egg/k1lib/callbacks/profilers/memory.py to memory.cpython-39.pyc\n",
      "byte-compiling build/bdist.linux-x86_64/egg/k1lib/callbacks/profilers/__init__.py to __init__.cpython-39.pyc\n",
      "byte-compiling build/bdist.linux-x86_64/egg/k1lib/callbacks/profilers/io.py to io.cpython-39.pyc\n",
      "byte-compiling build/bdist.linux-x86_64/egg/k1lib/callbacks/profilers/computation.py to computation.cpython-39.pyc\n",
      "byte-compiling build/bdist.linux-x86_64/egg/k1lib/callbacks/__init__.py to __init__.cpython-39.pyc\n",
      "byte-compiling build/bdist.linux-x86_64/egg/k1lib/callbacks/landscape.py to landscape.cpython-39.pyc\n",
      "byte-compiling build/bdist.linux-x86_64/egg/k1lib/callbacks/confusionMatrix.py to confusionMatrix.cpython-39.pyc\n",
      "byte-compiling build/bdist.linux-x86_64/egg/k1lib/callbacks/recorder.py to recorder.cpython-39.pyc\n",
      "byte-compiling build/bdist.linux-x86_64/egg/k1lib/callbacks/shorts.py to shorts.cpython-39.pyc\n",
      "byte-compiling build/bdist.linux-x86_64/egg/k1lib/callbacks/hookModule.py to hookModule.cpython-39.pyc\n",
      "byte-compiling build/bdist.linux-x86_64/egg/k1lib/callbacks/lossFunctions/accuracy.py to accuracy.cpython-39.pyc\n",
      "byte-compiling build/bdist.linux-x86_64/egg/k1lib/callbacks/lossFunctions/__init__.py to __init__.cpython-39.pyc\n",
      "byte-compiling build/bdist.linux-x86_64/egg/k1lib/callbacks/lossFunctions/shorts.py to shorts.cpython-39.pyc\n",
      "byte-compiling build/bdist.linux-x86_64/egg/k1lib/_perlin.py to _perlin.cpython-39.pyc\n",
      "byte-compiling build/bdist.linux-x86_64/egg/k1lib/_hidden/hiddenFile.py to hiddenFile.cpython-39.pyc\n",
      "byte-compiling build/bdist.linux-x86_64/egg/k1lib/_hidden/__init__.py to __init__.cpython-39.pyc\n",
      "byte-compiling build/bdist.linux-x86_64/egg/k1lib/eqn.py to eqn.cpython-39.pyc\n",
      "installing package data to build/bdist.linux-x86_64/egg\n",
      "running install_data\n",
      "creating build/bdist.linux-x86_64/egg/EGG-INFO\n",
      "copying k1lib.egg-info/PKG-INFO -> build/bdist.linux-x86_64/egg/EGG-INFO\n",
      "copying k1lib.egg-info/SOURCES.txt -> build/bdist.linux-x86_64/egg/EGG-INFO\n",
      "copying k1lib.egg-info/dependency_links.txt -> build/bdist.linux-x86_64/egg/EGG-INFO\n",
      "copying k1lib.egg-info/requires.txt -> build/bdist.linux-x86_64/egg/EGG-INFO\n",
      "copying k1lib.egg-info/top_level.txt -> build/bdist.linux-x86_64/egg/EGG-INFO\n",
      "zip_safe flag not set; analyzing archive contents...\n",
      "k1lib.cli.__pycache__.init.cpython-39: module MAY be using inspect.trace\n",
      "k1lib.cli.__pycache__.modifier.cpython-39: module references __file__\n",
      "k1lib.k1ui.__pycache__.main.cpython-39: module MAY be using inspect.getabsfile\n",
      "k1lib.k1ui.__pycache__.main.cpython-39: module MAY be using inspect.stack\n",
      "k1lib.serve.__pycache__.main.cpython-39: module MAY be using inspect.getsource\n",
      "k1lib.serve.__pycache__.main.cpython-39: module MAY be using inspect.getabsfile\n",
      "creating dist\n",
      "creating 'dist/k1lib-1.4.3.8-py3.9.egg' and adding 'build/bdist.linux-x86_64/egg' to it\n",
      "removing 'build/bdist.linux-x86_64/egg' (and everything under it)\n",
      "Processing k1lib-1.4.3.8-py3.9.egg\n",
      "creating /home/kelvin/anaconda3/envs/ray2/lib/python3.9/site-packages/k1lib-1.4.3.8-py3.9.egg\n",
      "Extracting k1lib-1.4.3.8-py3.9.egg to /home/kelvin/anaconda3/envs/ray2/lib/python3.9/site-packages\n",
      "Adding k1lib 1.4.3.8 to easy-install.pth file\n",
      "\n",
      "Installed /home/kelvin/anaconda3/envs/ray2/lib/python3.9/site-packages/k1lib-1.4.3.8-py3.9.egg\n",
      "Processing dependencies for k1lib==1.4.3.8\n",
      "Searching for validators==0.20.0\n",
      "Best match: validators 0.20.0\n",
      "Adding validators 0.20.0 to easy-install.pth file\n",
      "\n",
      "Using /home/kelvin/anaconda3/envs/ray2/lib/python3.9/site-packages\n",
      "Searching for wurlitzer==3.0.3\n",
      "Best match: wurlitzer 3.0.3\n",
      "Adding wurlitzer 3.0.3 to easy-install.pth file\n",
      "\n",
      "Using /home/kelvin/anaconda3/envs/ray2/lib/python3.9/site-packages\n",
      "Searching for forbiddenfruit==0.1.4\n",
      "Best match: forbiddenfruit 0.1.4\n",
      "Adding forbiddenfruit 0.1.4 to easy-install.pth file\n",
      "\n",
      "Using /home/kelvin/anaconda3/envs/ray2/lib/python3.9/site-packages\n",
      "Searching for dill==0.3.6\n",
      "Best match: dill 0.3.6\n",
      "Adding dill 0.3.6 to easy-install.pth file\n",
      "\n",
      "Using /home/kelvin/anaconda3/envs/ray2/lib/python3.9/site-packages\n",
      "Searching for matplotlib==3.7.1\n",
      "Best match: matplotlib 3.7.1\n",
      "Adding matplotlib 3.7.1 to easy-install.pth file\n",
      "\n",
      "Using /home/kelvin/anaconda3/envs/ray2/lib/python3.9/site-packages\n",
      "Searching for numpy==1.25.0\n",
      "Best match: numpy 1.25.0\n",
      "Adding numpy 1.25.0 to easy-install.pth file\n",
      "Installing f2py script to /home/kelvin/anaconda3/envs/ray2/bin\n",
      "Installing f2py3 script to /home/kelvin/anaconda3/envs/ray2/bin\n",
      "Installing f2py3.9 script to /home/kelvin/anaconda3/envs/ray2/bin\n",
      "\n",
      "Using /home/kelvin/anaconda3/envs/ray2/lib/python3.9/site-packages\n",
      "Searching for decorator==5.1.1\n",
      "Best match: decorator 5.1.1\n",
      "Adding decorator 5.1.1 to easy-install.pth file\n",
      "\n",
      "Using /home/kelvin/anaconda3/envs/ray2/lib/python3.9/site-packages\n",
      "Searching for importlib-resources==5.12.0\n",
      "Best match: importlib-resources 5.12.0\n",
      "Adding importlib-resources 5.12.0 to easy-install.pth file\n",
      "\n",
      "Using /home/kelvin/anaconda3/envs/ray2/lib/python3.9/site-packages\n",
      "Searching for python-dateutil==2.8.2\n",
      "Best match: python-dateutil 2.8.2\n",
      "Adding python-dateutil 2.8.2 to easy-install.pth file\n",
      "\n",
      "Using /home/kelvin/anaconda3/envs/ray2/lib/python3.9/site-packages\n",
      "Searching for pyparsing==3.1.0\n",
      "Best match: pyparsing 3.1.0\n",
      "Adding pyparsing 3.1.0 to easy-install.pth file\n",
      "\n",
      "Using /home/kelvin/anaconda3/envs/ray2/lib/python3.9/site-packages\n",
      "Searching for Pillow==9.5.0\n",
      "Best match: Pillow 9.5.0\n",
      "Adding Pillow 9.5.0 to easy-install.pth file\n",
      "\n",
      "Using /home/kelvin/anaconda3/envs/ray2/lib/python3.9/site-packages\n",
      "Searching for packaging==23.1\n",
      "Best match: packaging 23.1\n",
      "Adding packaging 23.1 to easy-install.pth file\n",
      "\n",
      "Using /home/kelvin/anaconda3/envs/ray2/lib/python3.9/site-packages\n",
      "Searching for kiwisolver==1.4.4\n",
      "Best match: kiwisolver 1.4.4\n",
      "Adding kiwisolver 1.4.4 to easy-install.pth file\n",
      "\n",
      "Using /home/kelvin/anaconda3/envs/ray2/lib/python3.9/site-packages\n",
      "Searching for fonttools==4.40.0\n",
      "Best match: fonttools 4.40.0\n",
      "Adding fonttools 4.40.0 to easy-install.pth file\n",
      "Installing fonttools script to /home/kelvin/anaconda3/envs/ray2/bin\n",
      "Installing pyftmerge script to /home/kelvin/anaconda3/envs/ray2/bin\n",
      "Installing pyftsubset script to /home/kelvin/anaconda3/envs/ray2/bin\n",
      "Installing ttx script to /home/kelvin/anaconda3/envs/ray2/bin\n",
      "\n",
      "Using /home/kelvin/anaconda3/envs/ray2/lib/python3.9/site-packages\n",
      "Searching for cycler==0.11.0\n",
      "Best match: cycler 0.11.0\n",
      "Adding cycler 0.11.0 to easy-install.pth file\n",
      "\n",
      "Using /home/kelvin/anaconda3/envs/ray2/lib/python3.9/site-packages\n",
      "Searching for contourpy==1.1.0\n",
      "Best match: contourpy 1.1.0\n",
      "Adding contourpy 1.1.0 to easy-install.pth file\n",
      "\n",
      "Using /home/kelvin/anaconda3/envs/ray2/lib/python3.9/site-packages\n",
      "Searching for zipp==3.15.0\n",
      "Best match: zipp 3.15.0\n",
      "Adding zipp 3.15.0 to easy-install.pth file\n",
      "\n",
      "Using /home/kelvin/anaconda3/envs/ray2/lib/python3.9/site-packages\n",
      "Searching for six==1.16.0\n",
      "Best match: six 1.16.0\n",
      "Adding six 1.16.0 to easy-install.pth file\n",
      "\n",
      "Using /home/kelvin/anaconda3/envs/ray2/lib/python3.9/site-packages\n",
      "Finished processing dependencies for k1lib==1.4.3.8\n",
      "\u001b[0m"
     ]
    }
   ],
   "source": [
    "!../../export.py cli/models"
   ]
  },
  {
   "cell_type": "code",
   "execution_count": null,
   "id": "3735dd0f-9a80-429b-94f0-631bfdc5be72",
   "metadata": {},
   "outputs": [],
   "source": []
  }
 ],
 "metadata": {
  "kernelspec": {
   "display_name": "Python 3 (ipykernel)",
   "language": "python",
   "name": "python3"
  },
  "language_info": {
   "codemirror_mode": {
    "name": "ipython",
    "version": 3
   },
   "file_extension": ".py",
   "mimetype": "text/x-python",
   "name": "python",
   "nbconvert_exporter": "python",
   "pygments_lexer": "ipython3",
   "version": "3.9.15"
  }
 },
 "nbformat": 4,
 "nbformat_minor": 5
}
