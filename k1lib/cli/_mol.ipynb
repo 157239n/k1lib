{
 "cells": [
  {
   "cell_type": "code",
   "execution_count": 1,
   "id": "fbb7fbf2-773a-4635-aaf3-be78b62f3454",
   "metadata": {},
   "outputs": [
    {
     "data": {
      "text/html": [
       "<style>\n",
       "    div.jp-OutputArea-output pre {white-space: pre;}\n",
       "    div.output_area pre {white-space: pre;}\n",
       "    div.CodeMirror > div.highlight {overflow-y: auto;}\n",
       "</style>"
      ],
      "text/plain": [
       "<IPython.core.display.HTML object>"
      ]
     },
     "metadata": {},
     "output_type": "display_data"
    }
   ],
   "source": [
    "#export\n",
    "import k1lib\n",
    "import k1lib.cli as cli"
   ]
  },
  {
   "cell_type": "code",
   "execution_count": 2,
   "id": "a9c179ef-9e35-40dd-b40f-4343bf850acd",
   "metadata": {},
   "outputs": [],
   "source": [
    "_mol_available = False\n",
    "try:\n",
    "    from rdkit import Chem\n",
    "    from rdkit.Chem import Draw\n",
    "    from rdkit.Chem import AllChem\n",
    "    from rdkit.Chem.Draw import IPythonConsole\n",
    "    _mol_available = True\n",
    "    IPythonConsole.drawOptions.addAtomIndices = True\n",
    "except: pass"
   ]
  },
  {
   "cell_type": "code",
   "execution_count": 26,
   "id": "f8711035-5af0-4218-8291-8d1fb62309ff",
   "metadata": {},
   "outputs": [],
   "source": [
    "if _mol_available:\n",
    "    def fromSmiles():\n",
    "        \"\"\"Smiles to molecule.\n",
    "Example::\n",
    "\n",
    "    \"c1ccc(C)cc1\" | mol.fromSmiles()\"\"\"\n",
    "        return cli.aS(Chem.MolFromSmiles)\n",
    "    def toSmiles():\n",
    "        pass"
   ]
  },
  {
   "cell_type": "code",
   "execution_count": 28,
   "id": "862e8612-42c5-4e6d-b214-0b9090c88476",
   "metadata": {},
   "outputs": [
    {
     "data": {
      "text/plain": [
       "'Cc1ccccc1'"
      ]
     },
     "execution_count": 28,
     "metadata": {},
     "output_type": "execute_result"
    }
   ],
   "source": [
    "\"c1ccc(C)cc1\" | aS(Chem.MolFromSmiles) | aS(Chem.MolToSmiles)"
   ]
  },
  {
   "cell_type": "code",
   "execution_count": 29,
   "id": "4ab2eada-07ba-4186-9d77-3b59135a47e9",
   "metadata": {},
   "outputs": [
    {
     "data": {
      "text/plain": [
       "'Cc1ccccc1'"
      ]
     },
     "execution_count": 29,
     "metadata": {},
     "output_type": "execute_result"
    }
   ],
   "source": [
    "\"c1cc(C)ccc1\" | aS(Chem.MolFromSmiles) | aS(Chem.MolToSmiles)"
   ]
  },
  {
   "cell_type": "code",
   "execution_count": 24,
   "id": "28595f2e-39c5-43fc-b560-a70a69ec3da5",
   "metadata": {},
   "outputs": [
    {
     "data": {
      "text/plain": [
       "'Cc1cc2ccc1-2'"
      ]
     },
     "execution_count": 24,
     "metadata": {},
     "output_type": "execute_result"
    }
   ],
   "source": [
    "a | aS(Chem.MolToSmiles)"
   ]
  },
  {
   "cell_type": "code",
   "execution_count": 5,
   "id": "c403fb59-e270-4338-9a1d-59261e984244",
   "metadata": {},
   "outputs": [
    {
     "data": {
      "text/plain": [
       "<rdkit.Chem.rdchem.Atom at 0x7f4c00cc2700>"
      ]
     },
     "execution_count": 5,
     "metadata": {},
     "output_type": "execute_result"
    }
   ],
   "source": [
    "b = a.GetAtoms() | cli.deref() | cli.item(); b"
   ]
  },
  {
   "cell_type": "code",
   "execution_count": 6,
   "id": "f92ed83e-724a-4eaa-8596-75e307a51eff",
   "metadata": {},
   "outputs": [
    {
     "data": {
      "text/plain": [
       "1"
      ]
     },
     "execution_count": 6,
     "metadata": {},
     "output_type": "execute_result"
    }
   ],
   "source": [
    "b.GetTotalNumHs()"
   ]
  },
  {
   "cell_type": "code",
   "execution_count": 7,
   "id": "d96bc81a-05c4-4878-b454-55ef08cc9d8b",
   "metadata": {},
   "outputs": [],
   "source": [
    "from k1lib.imports import *"
   ]
  },
  {
   "cell_type": "code",
   "execution_count": 8,
   "id": "726dc905-36e7-4e37-8f31-e8ea31b5655c",
   "metadata": {},
   "outputs": [
    {
     "data": {
      "text/plain": [
       "<rdkit.Chem.rdchem.Conformer at 0x7f4c00cc2400>"
      ]
     },
     "execution_count": 8,
     "metadata": {},
     "output_type": "execute_result"
    }
   ],
   "source": [
    "a.Compute2DCoords()\n",
    "c = a.GetConformers() | item(); c"
   ]
  },
  {
   "cell_type": "code",
   "execution_count": 16,
   "id": "9df8a700-adc8-4206-973f-02da26b75c82",
   "metadata": {},
   "outputs": [
    {
     "data": {
      "text/plain": [
       "[1.178571428571429, 1.299038105676658, 0.0]"
      ]
     },
     "execution_count": 16,
     "metadata": {},
     "output_type": "execute_result"
    }
   ],
   "source": [
    "c.GetAtomPosition(6) | deref()"
   ]
  },
  {
   "cell_type": "code",
   "execution_count": null,
   "id": "fa472594-d273-44f6-a413-75411bc733f7",
   "metadata": {},
   "outputs": [],
   "source": [
    "Chem.Conformer.GetPositions(c)"
   ]
  },
  {
   "cell_type": "code",
   "execution_count": null,
   "id": "18eac869-1b63-4f29-859f-039ae684b806",
   "metadata": {},
   "outputs": [],
   "source": []
  },
  {
   "cell_type": "code",
   "execution_count": null,
   "id": "5173487b-0fa1-4a31-b70c-23ab54f4ea32",
   "metadata": {},
   "outputs": [],
   "source": []
  },
  {
   "cell_type": "code",
   "execution_count": null,
   "id": "b5cb7eef-d57b-4830-80d2-82bf5dc7a597",
   "metadata": {},
   "outputs": [],
   "source": [
    "c.GetPositions()"
   ]
  },
  {
   "cell_type": "code",
   "execution_count": 25,
   "id": "2d58f597-e18c-4767-a55f-1d50b60cf5fc",
   "metadata": {},
   "outputs": [
    {
     "name": "stdout",
     "output_type": "stream",
     "text": [
      "<{http://www.xml-cml.org/schema}cml convention=\"convention:molecular\">\n",
      "  <{http://www.xml-cml.org/schema}molecule id=\"m-1\" formalCharge=\"0\" spinMultiplicity=\"1\">\n",
      "    <{http://www.xml-cml.org/schema}atomArray>\n",
      "      <{http://www.xml-cml.org/schema}atom id=\"a0\" elementType=\"C\" formalCharge=\"0\" hydrogenCount=\"1\" x2=\"1.928571\" y2=\"-0.000000\"/>\n",
      "      <{http://www.xml-cml.org/schema}atom id=\"a1\" elementType=\"C\" formalCharge=\"0\" hydrogenCount=\"1\" x2=\"1.178571\" y2=\"-1.299038\"/>\n",
      "      <{http://www.xml-cml.org/schema}atom id=\"a2\" elementType=\"C\" formalCharge=\"0\" hydrogenCount=\"1\" x2=\"-0.321429\" y2=\"-1.299038\"/>\n",
      "      <{http://www.xml-cml.org/schema}atom id=\"a3\" elementType=\"C\" formalCharge=\"0\" hydrogenCount=\"0\" x2=\"-1.071429\" y2=\"0.000000\"/>\n",
      "      <{http://www.xml-cml.org/schema}atom id=\"a4\" elementType=\"C\" formalCharge=\"0\" hydrogenCount=\"3\" x2=\"-2.571429\" y2=\"0.000000\"/>\n",
      "      <{http://www.xml-cml.org/schema}atom id=\"a5\" elementType=\"C\" formalCharge=\"0\" hydrogenCount=\"1\" x2=\"-0.321429\" y2=\"1.299038\"/>\n",
      "      <{http://www.xml-cml.org/schema}atom id=\"a6\" elementType=\"C\" formalCharge=\"0\" hydrogenCount=\"1\" x2=\"1.178571\" y2=\"1.299038\"/>\n",
      "    </{http://www.xml-cml.org/schema}atomArray>\n",
      "    <{http://www.xml-cml.org/schema}bondArray>\n",
      "      <{http://www.xml-cml.org/schema}bond atomRefs2=\"a0 a1\" id=\"b0\" order=\"D\"/>\n",
      "      <{http://www.xml-cml.org/schema}bond atomRefs2=\"a0 a6\" id=\"b1\" order=\"S\"/>\n",
      "      <{http://www.xml-cml.org/schema}bond atomRefs2=\"a1 a2\" id=\"b2\" order=\"S\"/>\n",
      "      <{http://www.xml-cml.org/schema}bond atomRefs2=\"a2 a3\" id=\"b3\" order=\"D\"/>\n",
      "      <{http://www.xml-cml.org/schema}bond atomRefs2=\"a3 a4\" id=\"b4\" order=\"S\"/>\n",
      "      <{http://www.xml-cml.org/schema}bond atomRefs2=\"a3 a5\" id=\"b5\" order=\"S\"/>\n",
      "      <{http://www.xml-cml.org/schema}bond atomRefs2=\"a5 a6\" id=\"b6\" order=\"D\"/>\n",
      "    </{http://www.xml-cml.org/schema}bondArray>\n"
     ]
    }
   ],
   "source": [
    "a | aS(Chem.MolToCMLBlock) | kxml.node() | kxml.display()"
   ]
  },
  {
   "cell_type": "code",
   "execution_count": null,
   "id": "da9cad8d-7e3a-4168-a9f5-932b25043a6a",
   "metadata": {},
   "outputs": [],
   "source": [
    "Chem.MolToCMLBlock"
   ]
  },
  {
   "cell_type": "code",
   "execution_count": 19,
   "id": "81f39ddf-2428-4c19-8851-4658179459a3",
   "metadata": {},
   "outputs": [
    {
     "data": {
      "text/plain": [
       "[]"
      ]
     },
     "execution_count": 19,
     "metadata": {},
     "output_type": "execute_result"
    }
   ],
   "source": [
    "b.GetPropNames() | cli.deref()"
   ]
  },
  {
   "cell_type": "code",
   "execution_count": 13,
   "id": "a6b59493-fa4d-4489-944a-4079bd3cb88d",
   "metadata": {},
   "outputs": [
    {
     "data": {
      "text/plain": [
       "[<rdkit.Chem.rdchem.Conformer at 0x7fb2382db8e0>]"
      ]
     },
     "execution_count": 13,
     "metadata": {},
     "output_type": "execute_result"
    }
   ],
   "source": [
    "a.GetConformers() | deref()"
   ]
  },
  {
   "cell_type": "code",
   "execution_count": 12,
   "id": "d1fd2bee-3a8c-4017-9924-02a733042d3c",
   "metadata": {},
   "outputs": [
    {
     "data": {
      "text/plain": [
       "0"
      ]
     },
     "execution_count": 12,
     "metadata": {},
     "output_type": "execute_result"
    }
   ],
   "source": []
  },
  {
   "cell_type": "code",
   "execution_count": null,
   "id": "66301a41-add9-44d0-9fa9-db662ed5e8ea",
   "metadata": {},
   "outputs": [],
   "source": []
  },
  {
   "cell_type": "code",
   "execution_count": 7,
   "id": "aa415624-c428-4ba5-bf43-75c232d5c692",
   "metadata": {},
   "outputs": [
    {
     "data": {
      "text/plain": [
       "rdkit.Chem.rdchem.Mol"
      ]
     },
     "execution_count": 7,
     "metadata": {},
     "output_type": "execute_result"
    }
   ],
   "source": [
    "type(a)"
   ]
  },
  {
   "cell_type": "code",
   "execution_count": null,
   "id": "3b0bf831-3522-40b6-83b5-f04268ae8b08",
   "metadata": {},
   "outputs": [],
   "source": []
  },
  {
   "cell_type": "code",
   "execution_count": null,
   "id": "caab5239-c063-4fcd-af61-2759dfbc2113",
   "metadata": {},
   "outputs": [],
   "source": []
  },
  {
   "cell_type": "code",
   "execution_count": null,
   "id": "c31e70fd-3c2d-4f9f-b3e1-b524e5ba16cb",
   "metadata": {},
   "outputs": [],
   "source": []
  },
  {
   "cell_type": "code",
   "execution_count": null,
   "id": "3a79fb4a-86ac-4e58-bc20-79d52e8fc20f",
   "metadata": {},
   "outputs": [],
   "source": []
  }
 ],
 "metadata": {
  "kernelspec": {
   "display_name": "Python 3 (ipykernel)",
   "language": "python",
   "name": "python3"
  },
  "language_info": {
   "codemirror_mode": {
    "name": "ipython",
    "version": 3
   },
   "file_extension": ".py",
   "mimetype": "text/x-python",
   "name": "python",
   "nbconvert_exporter": "python",
   "pygments_lexer": "ipython3",
   "version": "3.8.13"
  }
 },
 "nbformat": 4,
 "nbformat_minor": 5
}
