{
 "cells": [
  {
   "cell_type": "code",
   "execution_count": 1,
   "metadata": {},
   "outputs": [],
   "source": [
    "%load_ext autoreload\n",
    "%autoreload 2"
   ]
  },
  {
   "cell_type": "code",
   "execution_count": 35,
   "metadata": {},
   "outputs": [],
   "source": [
    "#export\n",
    "import torch\n",
    "class Object:\n",
    "    def __init__(self):\n",
    "        def raiseException(): raise AttributeError\n",
    "        self._defaultValueGenerator = raiseException\n",
    "    @staticmethod\n",
    "    def fromDict(dict):\n",
    "        \"\"\"Creates an object with attributes from a dictionary\"\"\"\n",
    "        answer = Object(); answer.__dict__.update(dict); return answer\n",
    "    def withAutoDeclare(self, defaultValueGenerator):\n",
    "        \"\"\"Sets this Object up so that if a field doesn't\n",
    "        exist, it will automatically create it with a\n",
    "        default value.\"\"\"\n",
    "        self._defaultValueGenerator = defaultValueGenerator\n",
    "        return self\n",
    "    def __getattr__(self, attr):\n",
    "        if self._defaultValueGenerator != None:\n",
    "            self.__dict__[attr] = self._defaultValueGenerator()\n",
    "            return getattr(self, attr)\n",
    "        raise AttributeError\n",
    "class CancelRunException(Exception): pass\n",
    "class CancelEpochException(Exception): pass\n",
    "class CancelBatchException(Exception): pass\n",
    "def test(value):\n",
    "    \"\"\"Tests if value is True\"\"\"\n",
    "    assert value\n",
    "def close(a, b):\n",
    "    \"\"\"Tests if 2 values are really close to each other\"\"\"\n",
    "    test(torch.allclose(torch.tensor(a), torch.tensor(b)))\n",
    "def textToHtml(text:str) -> str:\n",
    "    return text.replace(\"\\n\", \"<br>\").replace(\" \", \"&nbsp;\")"
   ]
  },
  {
   "cell_type": "code",
   "execution_count": 3,
   "metadata": {},
   "outputs": [],
   "source": [
    "#export\n",
    "class ListContainer:\n",
    "    \"\"\"Represents a list base class. Just for convenience's\n",
    "    sake. Call _setField() to set the list field where the\n",
    "    data will come from.\"\"\"\n",
    "    def __init__(self): self._setField(\"_items\")\n",
    "    def _setField(self, field): self.field = field; setattr(self, self.field, []); return self\n",
    "    def __getitem__(self, idx): return getattr(self, self.field)[idx]\n",
    "    def __setitem__(self, idx, value): self[idx] = value\n",
    "    def __delitem__(self, idx): del(self[idx])"
   ]
  },
  {
   "cell_type": "code",
   "execution_count": 4,
   "metadata": {},
   "outputs": [],
   "source": [
    "#export\n",
    "def getFirst(x):\n",
    "    \"\"\"If `x` is a tuple or list, gets the first\n",
    "    element. Else return the input.\"\"\"\n",
    "    return x[0] if type(x) in [list, tuple] else x"
   ]
  },
  {
   "cell_type": "code",
   "execution_count": 2,
   "metadata": {},
   "outputs": [
    {
     "name": "stdout",
     "output_type": "stream",
     "text": [
      "/home/kelvin/repos/labs/k1lib/k1lib\n",
      "Current dir: 0, /home/kelvin/repos/labs/k1lib/export.py\n",
      "File: /home/kelvin/repos/labs/k1lib/k1lib/basics.py\n",
      "running bdist_wheel\n",
      "running build\n",
      "running build_py\n",
      "creating build\n",
      "creating build/lib\n",
      "creating build/lib/k1lib\n",
      "copying k1lib/learner.py -> build/lib/k1lib\n",
      "copying k1lib/callbacks.py -> build/lib/k1lib\n",
      "copying k1lib/data.py -> build/lib/k1lib\n",
      "copying k1lib/__init__.py -> build/lib/k1lib\n",
      "copying k1lib/basics.py -> build/lib/k1lib\n",
      "copying k1lib/schedule.py -> build/lib/k1lib\n",
      "installing to build/bdist.linux-x86_64/wheel\n",
      "running install\n",
      "running install_lib\n",
      "creating build/bdist.linux-x86_64\n",
      "creating build/bdist.linux-x86_64/wheel\n",
      "creating build/bdist.linux-x86_64/wheel/k1lib\n",
      "copying build/lib/k1lib/learner.py -> build/bdist.linux-x86_64/wheel/k1lib\n",
      "copying build/lib/k1lib/callbacks.py -> build/bdist.linux-x86_64/wheel/k1lib\n",
      "copying build/lib/k1lib/data.py -> build/bdist.linux-x86_64/wheel/k1lib\n",
      "copying build/lib/k1lib/__init__.py -> build/bdist.linux-x86_64/wheel/k1lib\n",
      "copying build/lib/k1lib/basics.py -> build/bdist.linux-x86_64/wheel/k1lib\n",
      "copying build/lib/k1lib/schedule.py -> build/bdist.linux-x86_64/wheel/k1lib\n",
      "running install_egg_info\n",
      "running egg_info\n",
      "creating k1lib.egg-info\n",
      "writing k1lib.egg-info/PKG-INFO\n",
      "writing dependency_links to k1lib.egg-info/dependency_links.txt\n",
      "writing top-level names to k1lib.egg-info/top_level.txt\n",
      "writing manifest file 'k1lib.egg-info/SOURCES.txt'\n",
      "reading manifest file 'k1lib.egg-info/SOURCES.txt'\n",
      "writing manifest file 'k1lib.egg-info/SOURCES.txt'\n",
      "Copying k1lib.egg-info to build/bdist.linux-x86_64/wheel/k1lib-0.1.0-py3.8.egg-info\n",
      "running install_scripts\n",
      "creating build/bdist.linux-x86_64/wheel/k1lib-0.1.0.dist-info/WHEEL\n",
      "creating 'dist/k1lib-0.1.0-py3-none-any.whl' and adding 'build/bdist.linux-x86_64/wheel' to it\n",
      "adding 'k1lib/__init__.py'\n",
      "adding 'k1lib/basics.py'\n",
      "adding 'k1lib/callbacks.py'\n",
      "adding 'k1lib/data.py'\n",
      "adding 'k1lib/learner.py'\n",
      "adding 'k1lib/schedule.py'\n",
      "adding 'k1lib-0.1.0.dist-info/METADATA'\n",
      "adding 'k1lib-0.1.0.dist-info/WHEEL'\n",
      "adding 'k1lib-0.1.0.dist-info/top_level.txt'\n",
      "adding 'k1lib-0.1.0.dist-info/RECORD'\n",
      "removing build/bdist.linux-x86_64/wheel\n",
      "Processing ./dist/k1lib-0.1.0-py3-none-any.whl\n",
      "Installing collected packages: k1lib\n",
      "  Attempting uninstall: k1lib\n",
      "    Found existing installation: k1lib 0.1.0\n",
      "    Uninstalling k1lib-0.1.0:\n",
      "      Successfully uninstalled k1lib-0.1.0\n",
      "Successfully installed k1lib-0.1.0\n"
     ]
    }
   ],
   "source": [
    "!exportnb basics.ipynb"
   ]
  },
  {
   "cell_type": "code",
   "execution_count": 23,
   "metadata": {},
   "outputs": [],
   "source": [
    "a = Object()"
   ]
  },
  {
   "cell_type": "code",
   "execution_count": 38,
   "metadata": {},
   "outputs": [],
   "source": [
    "a = Object().withAutoDeclare(lambda: [])\n",
    "setattr(a, \"min\", 3)\n",
    "#a.min = 3"
   ]
  },
  {
   "cell_type": "code",
   "execution_count": 24,
   "metadata": {},
   "outputs": [],
   "source": [
    "a.min = 3"
   ]
  },
  {
   "cell_type": "code",
   "execution_count": 25,
   "metadata": {},
   "outputs": [
    {
     "data": {
      "text/plain": [
       "3"
      ]
     },
     "execution_count": 25,
     "metadata": {},
     "output_type": "execute_result"
    }
   ],
   "source": [
    "a.min"
   ]
  },
  {
   "cell_type": "code",
   "execution_count": 34,
   "metadata": {},
   "outputs": [
    {
     "ename": "AttributeError",
     "evalue": "",
     "output_type": "error",
     "traceback": [
      "\u001b[0;31m---------------------------------------------------------------------------\u001b[0m",
      "\u001b[0;31mAttributeError\u001b[0m                            Traceback (most recent call last)",
      "\u001b[0;32m<ipython-input-34-03a8194eca58>\u001b[0m in \u001b[0;36m<module>\u001b[0;34m\u001b[0m\n\u001b[0;32m----> 1\u001b[0;31m \u001b[0ma\u001b[0m \u001b[0;34m=\u001b[0m \u001b[0mObject\u001b[0m\u001b[0;34m(\u001b[0m\u001b[0;34m)\u001b[0m\u001b[0;34m;\u001b[0m \u001b[0ma\u001b[0m\u001b[0;34m.\u001b[0m\u001b[0mmin\u001b[0m\u001b[0;34m\u001b[0m\u001b[0;34m\u001b[0m\u001b[0m\n\u001b[0m",
      "\u001b[0;32m<ipython-input-2-9251a4dc7c91>\u001b[0m in \u001b[0;36m__getattr__\u001b[0;34m(self, attr)\u001b[0m\n\u001b[1;32m     17\u001b[0m     \u001b[0;32mdef\u001b[0m \u001b[0m__getattr__\u001b[0m\u001b[0;34m(\u001b[0m\u001b[0mself\u001b[0m\u001b[0;34m,\u001b[0m \u001b[0mattr\u001b[0m\u001b[0;34m)\u001b[0m\u001b[0;34m:\u001b[0m\u001b[0;34m\u001b[0m\u001b[0;34m\u001b[0m\u001b[0m\n\u001b[1;32m     18\u001b[0m         \u001b[0;32mif\u001b[0m \u001b[0mself\u001b[0m\u001b[0;34m.\u001b[0m\u001b[0m_defaultValueGenerator\u001b[0m \u001b[0;34m!=\u001b[0m \u001b[0;32mNone\u001b[0m\u001b[0;34m:\u001b[0m\u001b[0;34m\u001b[0m\u001b[0;34m\u001b[0m\u001b[0m\n\u001b[0;32m---> 19\u001b[0;31m             \u001b[0mself\u001b[0m\u001b[0;34m.\u001b[0m\u001b[0m__dict__\u001b[0m\u001b[0;34m[\u001b[0m\u001b[0mattr\u001b[0m\u001b[0;34m]\u001b[0m \u001b[0;34m=\u001b[0m \u001b[0mself\u001b[0m\u001b[0;34m.\u001b[0m\u001b[0m_defaultValueGenerator\u001b[0m\u001b[0;34m(\u001b[0m\u001b[0;34m)\u001b[0m\u001b[0;34m\u001b[0m\u001b[0;34m\u001b[0m\u001b[0m\n\u001b[0m\u001b[1;32m     20\u001b[0m             \u001b[0;32mreturn\u001b[0m \u001b[0mgetattr\u001b[0m\u001b[0;34m(\u001b[0m\u001b[0mself\u001b[0m\u001b[0;34m,\u001b[0m \u001b[0mattr\u001b[0m\u001b[0;34m)\u001b[0m\u001b[0;34m\u001b[0m\u001b[0;34m\u001b[0m\u001b[0m\n\u001b[1;32m     21\u001b[0m         \u001b[0;32mraise\u001b[0m \u001b[0mAttributeError\u001b[0m\u001b[0;34m\u001b[0m\u001b[0;34m\u001b[0m\u001b[0m\n",
      "\u001b[0;32m<ipython-input-2-9251a4dc7c91>\u001b[0m in \u001b[0;36mraiseException\u001b[0;34m()\u001b[0m\n\u001b[1;32m      3\u001b[0m \u001b[0;32mclass\u001b[0m \u001b[0mObject\u001b[0m\u001b[0;34m:\u001b[0m\u001b[0;34m\u001b[0m\u001b[0;34m\u001b[0m\u001b[0m\n\u001b[1;32m      4\u001b[0m     \u001b[0;32mdef\u001b[0m \u001b[0m__init__\u001b[0m\u001b[0;34m(\u001b[0m\u001b[0mself\u001b[0m\u001b[0;34m)\u001b[0m\u001b[0;34m:\u001b[0m\u001b[0;34m\u001b[0m\u001b[0;34m\u001b[0m\u001b[0m\n\u001b[0;32m----> 5\u001b[0;31m         \u001b[0;32mdef\u001b[0m \u001b[0mraiseException\u001b[0m\u001b[0;34m(\u001b[0m\u001b[0;34m)\u001b[0m\u001b[0;34m:\u001b[0m \u001b[0;32mraise\u001b[0m \u001b[0mAttributeError\u001b[0m\u001b[0;34m\u001b[0m\u001b[0;34m\u001b[0m\u001b[0m\n\u001b[0m\u001b[1;32m      6\u001b[0m         \u001b[0mself\u001b[0m\u001b[0;34m.\u001b[0m\u001b[0m_defaultValueGenerator\u001b[0m \u001b[0;34m=\u001b[0m \u001b[0mraiseException\u001b[0m\u001b[0;34m\u001b[0m\u001b[0;34m\u001b[0m\u001b[0m\n\u001b[1;32m      7\u001b[0m     \u001b[0;34m@\u001b[0m\u001b[0mstaticmethod\u001b[0m\u001b[0;34m\u001b[0m\u001b[0;34m\u001b[0m\u001b[0m\n",
      "\u001b[0;31mAttributeError\u001b[0m: "
     ]
    }
   ],
   "source": [
    "a = Object(); a.min"
   ]
  },
  {
   "cell_type": "code",
   "execution_count": 32,
   "metadata": {},
   "outputs": [],
   "source": [
    "a = Object.fromDict({\"a\": 3})"
   ]
  },
  {
   "cell_type": "code",
   "execution_count": 33,
   "metadata": {},
   "outputs": [
    {
     "data": {
      "text/plain": [
       "3"
      ]
     },
     "execution_count": 33,
     "metadata": {},
     "output_type": "execute_result"
    }
   ],
   "source": [
    "a.a"
   ]
  },
  {
   "cell_type": "code",
   "execution_count": null,
   "metadata": {},
   "outputs": [],
   "source": []
  }
 ],
 "metadata": {
  "kernelspec": {
   "display_name": "Python 3",
   "language": "python",
   "name": "python3"
  },
  "language_info": {
   "codemirror_mode": {
    "name": "ipython",
    "version": 3
   },
   "file_extension": ".py",
   "mimetype": "text/x-python",
   "name": "python",
   "nbconvert_exporter": "python",
   "pygments_lexer": "ipython3",
   "version": "3.8.5"
  },
  "toc-autonumbering": true
 },
 "nbformat": 4,
 "nbformat_minor": 4
}
