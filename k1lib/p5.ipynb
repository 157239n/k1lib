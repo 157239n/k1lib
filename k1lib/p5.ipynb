{
 "cells": [
  {
   "cell_type": "code",
   "execution_count": 73,
   "id": "840540ec-43ab-4544-a5ff-524d9f38aa7b",
   "metadata": {
    "tags": []
   },
   "outputs": [],
   "source": [
    "#export\n",
    "\"\"\"A quick and dirty tiny module emulating the `p5js <https://p5js.org/>`_\n",
    "environment. I made this because I have used Processing extensively in\n",
    "the past, and would like a simple interface to draw stuff. Processing\n",
    "doesn't really exist on Python (yes, I know of Processing's python mode,\n",
    "but it's Jython, not pure python!), so I made this based upon the\n",
    "`drawsvg <https://github.com/cduck/drawSvg>`_ library. Download that\n",
    "before using this module. Example::\n",
    "\n",
    "    from k1lib.imports import *\n",
    "\n",
    "    p5.newSketch(200, 200); p5.background(150)\n",
    "    p5.rect(0, 0, 60, 60)\n",
    "    with p5.context(): # all style changes here will be reverted on exiting the context\n",
    "        p5.fill(255, 0, 0)\n",
    "        p5.rect(0, 0, 60, 50)\n",
    "    p5.rect(0, 0, 30, 30)\n",
    "    p5.fill(255, 180); p5.ellipse(60, 50, 20)\n",
    "    p5.textSize(12); p5.text(\"abc\", 30, 30)\n",
    "    with p5.context():\n",
    "        p5.fill(0, 0, 255); p5.noStroke(); p5.textSize(20)\n",
    "        p5.text(\"def\", 60, 60)\n",
    "    p5.img() # get PIL image\n",
    "\n",
    "Result:\n",
    "\n",
    ".. image:: images/p5.png\"\"\"\n",
    "import k1lib, math, numpy as np, random, base64, json; import k1lib.cli as cli; from typing import List, Iterator\n",
    "from collections import defaultdict, deque\n",
    "drawsvg = k1lib.dep(\"drawsvg\", \"drawsvg[all]\", \"https://github.com/cduck/drawSvg\")\n",
    "__all__ = [\"color\", \"newSketch\", \"fill\", \"noFill\", \"stroke\", \"noStroke\", \"ellipse\", \"arc\", \"rect\", \"textSize\", \"text\", \"background\", \"img\",\n",
    "           \"Entity\", \"Point\", \"point_raw\", \"point_rnd\", \"point_sym\", \"point_L\", \"triangle\",\n",
    "           \"Line\", \"line_2P\", \"line_2PL\", \"Circle\", \"circle_PR\", \"circle_2P\", \"grid\", \"axes\", \"IR\",\n",
    "           \"Sketch\"]"
   ]
  },
  {
   "cell_type": "code",
   "execution_count": 2,
   "id": "817ab92f-a5d7-4b6c-ac43-e7d6bfff4414",
   "metadata": {
    "tags": []
   },
   "outputs": [],
   "source": [
    "#export\n",
    "def color(r, g=None, b=None, alpha=255):\n",
    "    \"\"\"Get hex representation of a color.\n",
    "Example::\n",
    "\n",
    "    p5.color(255, 0, 0) # returns \"#ff0000ff\", red\n",
    "    p5.color(255, 0, 0, 100) # returns \"#ff000064\", transparent red\n",
    "    p5.color(255, 100) # returns \"#ffffff64\", transparent white\"\"\"\n",
    "    if isinstance(r, str):\n",
    "        if g is not None or b is not None: raise Exception(f\"Doesn't understand this color specification: {r}, {g}, {b}, {alpha}\")\n",
    "        r = \"#\" + r.strip(\"#\")\n",
    "        if len(r) == 7: return r + \"ff\"\n",
    "        elif len(r) == 9: return r\n",
    "        else: raise Exception(f\"Doesn't understand this string color: {r}\")\n",
    "    if g is None and b is None: g = r; b = r\n",
    "    if g is not None and b is None: alpha = g; g = r; b = r\n",
    "    return f\"#{r:02x}{g:02x}{b:02x}{alpha:02x}\""
   ]
  },
  {
   "cell_type": "code",
   "execution_count": 3,
   "id": "9a373ae1-d8d0-454f-a74d-ea449001a15f",
   "metadata": {
    "tags": []
   },
   "outputs": [],
   "source": [
    "assert color(255, 0, 0) == \"#ff0000ff\"\n",
    "assert color(255, 0, 0, 100) == \"#ff000064\"\n",
    "assert color(255, 100) == \"#ffffff64\""
   ]
  },
  {
   "cell_type": "code",
   "execution_count": 4,
   "id": "20a1e3ff-d98a-4388-a219-a19b7028993c",
   "metadata": {
    "tags": []
   },
   "outputs": [],
   "source": [
    "#export\n",
    "c = k1lib.Settings();\n",
    "context = c.context\n",
    "def _strokeAlpha(): return int(c.stroke[-2:], 16) if c.stroke else 255\n",
    "def _fillAlpha(): return int(c.fill[-2:], 16) if c.fill else 255\n",
    "def _alpha(): return min(_strokeAlpha(), _fillAlpha())\n",
    "def _cs(): return {\"fill\": c.fill, \"stroke\": c.stroke, \"fill_opacity\": _fillAlpha()/255, \"stroke_opacity\": _strokeAlpha()/255} # colors shorthand\n",
    "def newSketch(w, h, flip=True, pad=0, scale=1, xoff=0, yoff=0):\n",
    "    \"\"\"Creates a new sketch with specified height and width.\n",
    "\n",
    "If ``pad``, ``scale``, ``xoff`` or ``yoff`` is specified, it will pad the sketch then scale it up with\n",
    "that amount. In other words, the true width (in pixels) is going to be ``w*scale + 2*pad``, true height\n",
    "is ``h*scale + 2*pad``. Then, all coordinates will be ``(x-xoff)*scale + pad`` and ``(y-yoff)*scale + pad``,\n",
    "and any radius/size will be ``r*scale``.\n",
    "\n",
    ":param flip: if True (default), use mathematical coordinate (y increases from bottom of image to top), else use\n",
    "    programming coordinate (y increases from top of image to bottom). This only affects the y axis,\n",
    "    leaving x axis and radiuses alone\n",
    ":param xoff: x offset. If specified, along side with yoff, then the sketch will have the\n",
    "    point (xoff,yoff) at origin\n",
    "\"\"\"\n",
    "    c.d = drawsvg.Drawing(w*scale+2*pad, h*scale+2*pad); c.w = w; c.h = h\n",
    "    c.stroke = color(0); c.fill = color(255); c.fontSize = 12; c.flip = flip; c.pad = pad; c.scale = scale\n",
    "    c.xt = lambda x: (x-xoff)*scale+pad; c.rt = lambda r: r*scale\n",
    "    if flip: c.yt = lambda y: (h-(y-yoff))*scale+pad; c.ht = lambda h: -h*scale # y transform and h transform\n",
    "    else: c.yt = lambda y: (y-yoff)*scale+pad; c.ht = lambda h: h*scale\n",
    "def fill(*args):\n",
    "    \"\"\"Sets fill color\"\"\"\n",
    "    c.fill = color(*args)\n",
    "def noFill():\n",
    "    \"\"\"Turns off fill color\"\"\"\n",
    "    c.fill = color(255, 0)\n",
    "def stroke(*args):\n",
    "    \"\"\"Sets stroke color\"\"\"\n",
    "    c.stroke = color(*args)\n",
    "def noStroke():\n",
    "    \"\"\"Turns off stroke color\"\"\"\n",
    "    c.stroke = color(255, 0)\n",
    "def ellipse(x, y, w):\n",
    "    \"\"\"Draws a circle at a particular location. Can't truly draw ellipses cause idk how\"\"\"\n",
    "    c.d.append(drawsvg.Circle(c.xt(x), c.yt(y), c.rt(w/2), **_cs()))\n",
    "pi = 3.141592653589793\n",
    "def arc(x, y, r, startAngle, endAngle):\n",
    "    \"\"\"Draws an arc.\n",
    "\n",
    "If in mathematical coordinates, will go counter clockwise from startAngle to endAngle.\n",
    "If in programming coordinates, will go counter clockwise instead.\n",
    "\n",
    "If startAngle < endAngle, and the difference between them is also pretty small (say 45deg),\n",
    "then the sweep angle will also be small. If startAngle > endAngle, then the sweep angle\n",
    "is going to be very big (360-45)\"\"\"\n",
    "    f = (1-2*c.flip)*180/pi; c.d.append(drawsvg.Arc(c.xt(x), c.yt(y), c.rt(r), startAngle*f, endAngle*f, cw=f>0, **_cs()))\n",
    "def line(x1,y1,x2,y2):\n",
    "    \"\"\"Draws a line from (x1, y1) to (x2, y2)\"\"\"\n",
    "    c.d.append(drawsvg.Line(c.xt(x1),c.yt(y1),c.xt(x2),c.yt(y2),**_cs()))\n",
    "def image(img:\"PIL\", x, y, w=None, h=None):\n",
    "    \"\"\"Draws a PIL image at a particular position.\n",
    "Example::\n",
    "\n",
    "    img = \"image_file.png\" | toImg()\n",
    "    p5.newSketch(400, 200)\n",
    "    p5.image(img, 20, 20)\n",
    "\n",
    "You can transform it first using torchvision.transforms before drawing it like this::\n",
    "\n",
    "    img = \"image_file.png\" | toImg()\n",
    "    img = img | aS(tf.Resize(200)) # torchvision.transforms is imported as `tf` automatically. Check module `k1lib.imports`\n",
    "\"\"\"\n",
    "    s = img | cli.shape(); c.d.append(drawsvg.Image(c.xt(x), c.yt(y), c.rt(w or s[0]), c.rt(h or s[1]), f'data:image/png;base64,{img | cli.toBytes() | cli.aS(base64.b64encode) | cli.op().decode()}'))\n",
    "def rect(x, y, w, h, r=0):\n",
    "    \"\"\"Draws a rectangle.\n",
    "\n",
    ":param r: border radius\"\"\"\n",
    "    if r == 0: c.d.append(drawsvg.Rectangle(c.xt(x), c.yt(y), c.rt(w), c.ht(h), **_cs()))\n",
    "    else:\n",
    "        c.d.append(drawsvg.Path(**_cs())\n",
    "           .arc(c.xt(x+r), c.yt(y+r), r, 90, 180)\n",
    "           .arc(c.xt(x+r), c.yt(y+h-r), r, 180, 270, includeL=True)\n",
    "           .arc(c.xt(x+w-r), c.yt(y+h-r), r, 270, 0, includeL=True)\n",
    "           .arc(c.xt(x+w-r), c.yt(y+r), r, 0, 90, includeL=True).L(x+r, c.yt(y)))\n",
    "def textSize(s):\n",
    "    \"\"\"Sets the text size. This is affected by the global scaling factor specified in :meth:`newSketch`\"\"\"\n",
    "    c.fontSize = s\n",
    "def text(s, x, y):\n",
    "    \"\"\"Draws text at a specific location.\"\"\"\n",
    "    c.d.append(drawsvg.Text(s, c.rt(c.fontSize), c.xt(x), c.yt(y), **_cs()))\n",
    "def background(*args):\n",
    "    \"\"\"Changes the background color\"\"\"\n",
    "    with c.context(stroke=color(*args), fill=color(*args)): c.d.append(drawsvg.Rectangle(0, 0, (c.w+2*c.pad)*c.scale, (c.h+2*c.pad)*c.scale, **_cs()))\n",
    "def img():\n",
    "    \"\"\"Returns a PIL image of the sketch\"\"\"\n",
    "    return c.d.rasterize().png_data | cli.toImg()\n",
    "def svg() -> str:\n",
    "    \"\"\"Returns svg string of the sketch\"\"\"\n",
    "    return c.d.as_svg()"
   ]
  },
  {
   "cell_type": "code",
   "execution_count": 5,
   "id": "7e8cebb3-6391-4afb-802c-fbb21dff1c4b",
   "metadata": {
    "tags": []
   },
   "outputs": [
    {
     "data": {
      "image/png": "[encoded data removed]",
      "text/plain": [
       "<PIL.PngImagePlugin.PngImageFile image mode=RGB size=320x320>"
      ]
     },
     "execution_count": 5,
     "metadata": {},
     "output_type": "execute_result"
    }
   ],
   "source": [
    "newSketch(200, 200, False, pad=10, scale=1.5, xoff=-20, yoff=-50); background(150)\n",
    "rect(0, 0, 60, 60)\n",
    "with context(): # all style changes here will be reverted on exiting the context\n",
    "    fill(255, 0, 0)\n",
    "    rect(0, 0, 60, 50)\n",
    "rect(0, 0, 30, 30)\n",
    "fill(255, 180); ellipse(60, 50, 20)\n",
    "textSize(12); text(\"abc\", 30, 30)\n",
    "arc(100, 100, 30, 0, pi/4)\n",
    "with context():\n",
    "    fill(0, 0, 255); noStroke(); textSize(20)\n",
    "    text(\"def\", 60, 60)\n",
    "img()"
   ]
  },
  {
   "cell_type": "code",
   "execution_count": 6,
   "id": "8568e94b-af44-47eb-b4ae-962fa90a988f",
   "metadata": {
    "tags": []
   },
   "outputs": [
    {
     "data": {
      "image/png": "[encoded data removed]",
      "text/plain": [
       "<PIL.PngImagePlugin.PngImageFile image mode=RGB size=200x200>"
      ]
     },
     "execution_count": 6,
     "metadata": {},
     "output_type": "execute_result"
    }
   ],
   "source": [
    "newSketch(200, 200); background(150)\n",
    "rect(0, 0, 60, 60)\n",
    "with context(): # all style changes here will be reverted on exiting the context\n",
    "    fill(255, 0, 0)\n",
    "    rect(0, 0, 60, 50)\n",
    "rect(0, 0, 30, 30)\n",
    "fill(255, 180); ellipse(60, 50, 20)\n",
    "textSize(12); text(\"abc\", 30, 30)\n",
    "with context():\n",
    "    fill(0, 0, 255); noStroke(); textSize(20)\n",
    "    text(\"def\", 60, 60)\n",
    "im = img(); im | cli.toBytes() | cli.file(\"../docs/images/p5.png\"); im"
   ]
  },
  {
   "cell_type": "code",
   "execution_count": 7,
   "id": "13def070-7240-4c18-b018-d63de34ca2b7",
   "metadata": {
    "tags": []
   },
   "outputs": [],
   "source": [
    "#export\n",
    "inf = float(\"inf\")\n",
    "class Entity(cli.BaseCli):\n",
    "    def __init__(self, *args):\n",
    "        \"\"\"Geometry-building package.\n",
    "\n",
    "So, within p5 module, there's sort of like a submodule that deals with geometrical data\n",
    "that allows you to define things like in Geogebra, whose work I'm a huge fan of. Here's\n",
    "how it works::\n",
    "\n",
    "    # creates an IR (intermediate representation) that defines 2 points and a line connecting the 2 points\n",
    "    ir = None | p5.point_raw(\"P1\", 3, 4) | p5.point_raw(\"P2\", 5, 8) | p5.line_2P(\"L1\", \"P1\", \"P2\")\n",
    "    # calculates the exact position of all entities within the IR, and calculate some meta information\n",
    "    ir = ir | aS(p5.IR.calc) | aS(p5.IR.calcMeta)\n",
    "    # create a p5 sketch, setup some initial variables\n",
    "    p5.newSketch(400, 400); p5.background(155); p5.textSize(16)\n",
    "    # creates an image from the IR\n",
    "    IR.display(ir); im = p5.img()\n",
    "\n",
    "The idea is, you can define the sketch however you like, with relationships between them (like how\n",
    "a line is made of 2 points, or construct a circle with a specified center that passes through another\n",
    "point). After that, you'll receive the IR, which is a simple object that can be turned into a json\n",
    "that can be understood by other parts of your system.\n",
    "\n",
    "After you got the IR, you can calculate the precise location of every element with :meth:`IR.calc`.\n",
    "Then you can calculate extra metadata about the viewing frame to display it on with :meth:`IR.calcMeta`.\n",
    "Finally, you can do :meth:`IR.display`\n",
    "\"\"\"\n",
    "        self.irL = type(self).init(*args)\n",
    "    def __ror__(self, ir): ir = ir or {\"def\": {}, \"meta\": None}; ir[\"def\"][self.irL[0]] = self.irL; return ir\n",
    "    @classmethod\n",
    "    def dependsOn(cls,ir,name:str) -> List[str]:\n",
    "        \"\"\"Should return List[name]]\"\"\"\n",
    "        return []\n",
    "    @classmethod\n",
    "    def calc(cls,ir,name:str) -> List[float]: return NotImplemented\n",
    "    @classmethod\n",
    "    def bounds(cls,ir,name:str) -> List[float]: return [inf,-inf,inf,-inf] # calculates the bounds of the object: xmin, xmax, ymin, ymax\n",
    "    @classmethod\n",
    "    def display(cls,ir,name:str,meta): pass # meta = [transXY (lambda), scale: (lambda)]"
   ]
  },
  {
   "cell_type": "code",
   "execution_count": 8,
   "id": "a7224bc7-a89b-495d-ac00-4cfc4d887664",
   "metadata": {
    "tags": []
   },
   "outputs": [],
   "source": [
    "#export\n",
    "class Point(Entity): # final coordinate format: [x, y]\n",
    "    @classmethod\n",
    "    def display(cls,ir,name):\n",
    "        o = ir[\"def\"][name]; props = {**{\"stroke\": \"#ff0000\"},**(o[3] or {})}\n",
    "        if props.get(\"display\", None) == \"none\": return\n",
    "        if \"stroke\" in props: stroke(props[\"stroke\"])\n",
    "        x,y = ir[\"meta\"][0](*o[4]); fill(255); ellipse(x,y,3); text(props.get(\"name\", name),x+6,y+6)\n",
    "    @classmethod\n",
    "    def bounds(cls,ir,name): x,y = ir[\"def\"][name][4]; return [x,x,y,y]\n",
    "def point_rnd(name:str, props=None):\n",
    "    \"\"\"Creates a point with a random location. See also: :class:`Entity`\n",
    "\n",
    ":param name: name of point\"\"\"\n",
    "    return point_raw(name, *np.random.randn(2), props)\n",
    "class point_raw(Point):\n",
    "    def __init__(self,name:str,x:float,y:float,props=None):\n",
    "        \"\"\"Creates a point from actual raw coordinates. See also: :class:`Entity`\n",
    "\n",
    ":param name: name of point\n",
    ":param x: position on x axis\n",
    ":param y: position on y axis\"\"\"\n",
    "        self.irL = [name, \"point_raw\", [x, y], props, []]\n",
    "    @classmethod\n",
    "    def dependsOn(cls,ir,name:str): return []\n",
    "    @classmethod\n",
    "    def calc(cls,ir,name:str): return ir[\"def\"][name][2]\n",
    "class point_sym(Point):\n",
    "    def __init__(self,name:str,p1:str,pm:str,props=None):\n",
    "        \"\"\"Creates a point which is symmetric to point \"p1\" around point \"pm\".\n",
    "Basically, \"pm\" is the midpoint of \"p1\" and the new point. See also: :class:`Entity`\n",
    "\n",
    ":param name: name of point\n",
    ":param p1: name of the other point\n",
    ":param pm: name of the middle point\"\"\"\n",
    "        self.irL = [name, \"point_sym\", [p1,pm], props, []] # point 1 and point mid\n",
    "    @classmethod\n",
    "    def dependsOn(cls,ir,name:str): return ir[\"def\"][name][2]\n",
    "    @classmethod\n",
    "    def calc(cls,ir,name:str): p1,pm = ir[\"def\"][name][2]; x1,y1 = ir[\"def\"][p1][4]; xm,ym = ir[\"def\"][pm][4]; dx = xm-x1; dy = ym-y1; return [x1+2*dx, y1+2*dy]\n",
    "class point_L(Point):\n",
    "    def __init__(self,name:str,l1:str,f:float,props=None):\n",
    "        \"\"\"Creates a point on a line at a particular fraction.\n",
    "If \"f\" is 0.1, it'll be close to the first point of the line,\n",
    "if \"f\" is 0.9, it'll be close to the second point of the line.\n",
    "\n",
    ":param name: name of point\n",
    ":param l1: name of line that the point is on\n",
    ":param f: fraction between the 2 points on the line. Can be any number, not just from 0 to 1\"\"\"\n",
    "        self.irL = [name, \"point_L\", [l1,f], props, []]\n",
    "    @classmethod\n",
    "    def dependsOn(cls,ir,name:str): return ir[\"def\"][name][2][:1]\n",
    "    @classmethod\n",
    "    def calc(cls,ir,name:str): l1,f = ir[\"def\"][name][2]; x1,y1,x2,y2 = ir[\"def\"][l1][4]; return x1*(1-f)+x2*f, y1*(1-f)+y2*f\n",
    "def triangle(p1:str,p2:str,p3:str,props1=None,props2=None,props3=None):\n",
    "    \"\"\"Creates 3 random points that looks like a reasonable triangle,\n",
    "with flat base and pointy upward tip.\n",
    "\n",
    ":param p1: name of first point\n",
    ":param props1: optional properties of the first point\"\"\"\n",
    "    while True:\n",
    "        ya, yb = np.random.randn(2)\n",
    "        if ya < yb: ya, yb = yb, ya\n",
    "        x2, x3 = np.random.randn(2)\n",
    "        if x2 > x3: x2,x3 = x3,x2\n",
    "        x1 = x2+random.random()*(x3-x2)\n",
    "        if 0.3 < abs(ya-yb)/abs(x3-x2) < 3: break\n",
    "    return point_raw(p1,x1,ya,props1) | point_raw(p2,x2,yb,props2) | point_raw(p3,x3,yb,props3)"
   ]
  },
  {
   "cell_type": "code",
   "execution_count": 9,
   "id": "e0eb01be-c986-4ff7-8e21-3ae1cc627a43",
   "metadata": {
    "tags": []
   },
   "outputs": [],
   "source": [
    "#export\n",
    "class Line(Entity): # final coordinate format: [x1, y1, x2, y2]\n",
    "    @classmethod\n",
    "    def display(cls,ir,name):\n",
    "        o = ir[\"def\"][name]; props = {**{\"stroke\": \"#0000ff\"},**(o[3] or {})}\n",
    "        if props is not None and props.get(\"display\", None) == \"none\": return\n",
    "        if \"stroke\" in props: stroke(props[\"stroke\"])\n",
    "        f = ir[\"meta\"][0]; x1,y1,x2,y2 = o[4] | cli.batched(2) | ~cli.apply(f) | cli.joinSt(); line(x1,y1,x2,y2); text(props.get(\"name\", name),(x1+x2)/2+6, (y1+y2)/2+6)\n",
    "    @classmethod\n",
    "    def bounds(cls,ir,name): x1,y1,x2,y2 = ir[\"def\"][name][4]; return [min(x1,x2), max(x1,x2), min(y1,y2), max(y1,y2)]\n",
    "class line_P(Line):\n",
    "    def __init__(self,name:str,p1:str,angle:float,l:float,f:float=0.5,props=None):\n",
    "        \"\"\"Creates a line that passes through a point, with an angle from the x axis, a specific length and a specific point fraction.\n",
    "\n",
    ":param name: name of line\n",
    ":param p1: name of point\n",
    ":param angle: angle with respect to the x axis\n",
    ":param l: length of the line\n",
    ":param f: fraction of the line the point is located at\"\"\"\n",
    "        self.irL = [name, \"line_P\", [p1,angle,l,f], props, []]\n",
    "    @classmethod\n",
    "    def dependsOn(cls,ir,name:str): return ir[\"def\"][name][2][:1]\n",
    "    @classmethod\n",
    "    def calc(cls,ir,name:str): p1,angle,l,f = ir[\"def\"][name][2]; x,y = ir[\"def\"][p1][4]; dx = math.cos(angle)*l; dy = math.sin(angle)*l; return [x-dx*f, y-dy*f, x+dx*(1-f), y+dy*(1-f)]#return [x-dx*(1-f), y-dy*(1-f), x+dx*f, y+dy*f]\n",
    "class line_2P(Line):\n",
    "    def __init__(self,name:str,p1:str,p2:str,prevF:float=0,nextF:float=0,props=None):\n",
    "        \"\"\"Creates a line that connects 2 points together. See also: :class:`Entity`\n",
    "\n",
    ":param name: name of line\n",
    ":param p1: name of first point\n",
    ":param p2: name of second point\n",
    ":param prevF: \"previous fraction\". How much should the line extend past\n",
    "    the first point as a fraction of the distance between p1 and p2\n",
    ":param nextF: \"next fraction\". How much should the line extend past\n",
    "    the second point as a fraction of the distance between p1 and p2\n",
    "\"\"\"\n",
    "        self.irL = [name, \"line_2P\", [p1, p2, prevF, nextF], props, []]\n",
    "    @classmethod\n",
    "    def dependsOn(cls,ir,name:str): return ir[\"def\"][name][2][:2]\n",
    "    @classmethod\n",
    "    def calc(cls,ir,name:str):\n",
    "        p1, p2, prevF, nextF = ir[\"def\"][name][2]; x1, y1 = ir[\"def\"][p1][4]; x2, y2 = ir[\"def\"][p2][4]; dx = x2 - x1; dy = y2 - y1\n",
    "        return [x1-dx*prevF,y1-dy*prevF,x2+dx*nextF,y2+dy*nextF]\n",
    "class line_2PL(Line):\n",
    "    def __init__(self,name:str,p1:str,p2:str,l:float,props=None):\n",
    "        \"\"\"Creates a line that connects 2 points together that starts at the first\n",
    "point and has specific length. If extended indefinitely, it will pass through the\n",
    "second point, but in its normal state, it doesn't have to pass through or can\n",
    "overshoot the second point. Useful for creating rays. See also: :class:`Entity`\n",
    "\n",
    ":param name: name of the line\n",
    ":param p1: name of first point\n",
    ":param p2: name of second point\n",
    ":param l: length of line\n",
    "\"\"\"\n",
    "        self.irL = [name, \"line_2PL\", [p2,p2,l], props, []]\n",
    "    @classmethod\n",
    "    def dependsOn(cls,ir,name:str): return ir[\"def\"][name][2][:2]\n",
    "    @classmethod\n",
    "    def calc(cls,ir,name:str): pass"
   ]
  },
  {
   "cell_type": "code",
   "execution_count": 10,
   "id": "3df1bf85-466d-4634-b805-39a437881ecf",
   "metadata": {
    "tags": []
   },
   "outputs": [],
   "source": [
    "#export\n",
    "class Circle(Entity): # final coordinate format: [x, y, r]\n",
    "    @classmethod\n",
    "    def display(cls,ir,name):\n",
    "        o = ir[\"def\"][name]; props = {**{\"stroke\": \"#000000\"},**(o[3] or {})}\n",
    "        if props is not None and props.get(\"display\", None) == \"none\": return\n",
    "        if \"stroke\" in props: stroke(props[\"stroke\"])\n",
    "        x,y,r = o[4]; x,y = ir[\"meta\"][0](x,y); r *= ir[\"meta\"][1]; ellipse(x,y,r*2); text(props.get(\"name\", name),x+r*1.1,y)\n",
    "    @classmethod\n",
    "    def bounds(cls,ir,name): x,y,r = ir[\"def\"][name][4]; return [x-r,x+r,y-r,y+r]\n",
    "class circle_PR(Circle): # circle from center point and radius\n",
    "    def __init__(self,name:str,p1:str,radius:float,props=None):\n",
    "        \"\"\"Creates a circle from a center point and a radius. See also: :class:`Entity`\n",
    "\n",
    ":param name: name of circle\n",
    ":param p1: name of the center point\n",
    ":param radius: radius of the circle\"\"\"\n",
    "        self.irL = [name, \"circle_PR\", [p1, radius], props, []]\n",
    "    @classmethod\n",
    "    def dependsOn(cls,ir,name:str): return [ir[\"def\"][name][2][0]]\n",
    "    @classmethod\n",
    "    def calc(cls,ir,name:str): o = ir[\"def\"][name][2]; return [*ir[\"def\"][o[0]][4], o[1]]\n",
    "class circle_2P(Circle): # circle that has center pc and passes through point p2\n",
    "    def __init__(self,name:str,pc:str,p2:str,props=None):\n",
    "        \"\"\"Creates a circle from a center point that passes through another\n",
    "point. See also: :class:`Entity`\n",
    "\n",
    ":param name: name of circle\n",
    ":param pc: name of the center point\n",
    ":param p2: name of the second point that the circle passes through\"\"\"\n",
    "        self.irL = [name, \"circle_2P\", [pc, p2], props, []]\n",
    "    @classmethod\n",
    "    def dependsOn(cls,ir,name:str): return ir[\"def\"][name][2]\n",
    "    @classmethod\n",
    "    def calc(cls,ir,name:str): pc, p2 = ir[\"def\"][name][2]; xc, yc = ir[\"def\"][pc][4]; x2, y2 = ir[\"def\"][p2][4]; dx = x2-xc; dy = y2-yc; return [xc,yc,math.sqrt(dx*dx+dy*dy)]"
   ]
  },
  {
   "cell_type": "code",
   "execution_count": 11,
   "id": "c0ec5662-cf26-4b97-ab8b-30bc2283180f",
   "metadata": {
    "tags": []
   },
   "outputs": [],
   "source": [
    "#export\n",
    "class grid(Entity):\n",
    "    def __init__(self, name=\"grid-0\", props=None):\n",
    "        \"\"\"Adds a grid to the plot. See also: :class:`Entity`\"\"\"\n",
    "        self.irL = [\"grid-0\", \"grid\", [], props, []]\n",
    "    @classmethod\n",
    "    def display(cls,ir,name):\n",
    "        if not ir[\"meta\"]: raise Exception(f\"Please calculate the positions of everything and metadata first, before trying to display an IR that has a grid\")\n",
    "        o = ir[\"def\"][name]; meta = ir[\"meta\"]; w,h = meta[2]; [dx,dy],[cx,cy],[x,y] = meta[4:7]; f,s = meta[:2]\n",
    "        scale = int(math.log10(max(dx,dy)/1.3)); fac = 10**scale # 10^scale for the grid's spacing\n",
    "        ccx = max((w/h)/(dx/dy), 1); ccy = max((h/w)/(dy/dx), 1) # correction factors\n",
    "        xticks = range(math.ceil((cx-ccx*dx*0.8)/fac), math.ceil((cx+ccx*dx*0.8)/fac)) | cli.apply(cli.op()/fac) | cli.deref()\n",
    "        yticks = range(math.ceil((cy-ccy*dy*0.8)/fac), math.ceil((cy+ccy*dy*0.8)/fac)) | cli.apply(cli.op()/fac) | cli.deref()\n",
    "        with context():\n",
    "            stroke(100)\n",
    "            for x in xticks: line(*f(x, cy-ccy*dy*1.2), *f(x, cy+ccy*dy*1.2))\n",
    "            for y in yticks: line(*f(cx-ccx*dx*1.2, y), *f(cx+ccx*dx*1.2, y))"
   ]
  },
  {
   "cell_type": "code",
   "execution_count": 12,
   "id": "9714232e-15e4-4461-b905-d2fc59a8b6c8",
   "metadata": {
    "tags": []
   },
   "outputs": [],
   "source": [
    "#export\n",
    "def round2(x): return int(x) if int(x) == x else x\n",
    "class axes(Entity):\n",
    "    def __init__(self, name=\"axes-0\", props=None):\n",
    "        \"\"\"Adds xy axis to the plot. See also: :class:`Entity`\"\"\"\n",
    "        self.irL = [\"axes-0\", \"axes\", [], props, []]\n",
    "    @classmethod\n",
    "    def display(cls,ir,name):\n",
    "        if not ir[\"meta\"]: raise Exception(f\"Please calculate the positions of everything and metadata first, before trying to display an IR that has a grid\")\n",
    "        o = ir[\"def\"][name]; meta = ir[\"meta\"]; w,h = meta[2]; [dx,dy],[cx,cy],[x,y] = meta[4:7]; f,s = meta[:2]\n",
    "        scale = int(math.log10(max(dx,dy)/1.3)); fac = 10**scale # 10^scale for the grid's spacing\n",
    "        ccx = max((w/h)/(dx/dy), 1); ccy = max((h/w)/(dy/dx), 1) # correction factors\n",
    "        line(*f(0, cy-ccy*dy*1.2), *f(0, cy+ccy*dy*1.2))\n",
    "        line(*f(cx-ccx*dx*1.2, 0), *f(cx+ccx*dx*1.2, 0))\n",
    "        xticks = range(math.ceil((cx-ccx*dx*0.8)/fac), math.ceil((cx+ccx*dx*0.8)/fac)) | cli.apply(cli.op()/fac) | cli.deref()\n",
    "        yticks = range(math.ceil((cy-ccy*dy*0.8)/fac), math.ceil((cy+ccy*dy*0.8)/fac)) | cli.apply(cli.op()/fac) | cli.filt(\"x\") | cli.deref()\n",
    "        with context():\n",
    "            for x in xticks: text(f\"{round2(x)}\", *f(x, 0) | (cli.op()-5) + (cli.op()+10))\n",
    "            for y in yticks: text(f\"{round2(y)}\", *f(0, y) | (cli.op()+10) + (cli.op()-5))"
   ]
  },
  {
   "cell_type": "code",
   "execution_count": 13,
   "id": "dbdc31d4-9992-4fea-89b3-50fe97b60477",
   "metadata": {
    "tags": []
   },
   "outputs": [],
   "source": [
    "#export\n",
    "def vlen(dx,dy): return math.sqrt(dx*dx+dy*dy) # vector length\n",
    "entities = [point_raw, point_sym, point_L, line_P, line_2P, line_2PL, circle_PR, circle_2P, grid, axes]; entitiesD = entities | cli.apply(lambda x: [x.__name__, x]) | cli.toDict()\n",
    "class IR:\n",
    "    \"\"\"Intermediate representation of a whole graph\"\"\"\n",
    "    @staticmethod\n",
    "    def dep(ir) -> Iterator[str]: # figures out the dependency graph, returns elements to calculate position of\n",
    "        d = defaultdict(lambda: []); a = ir[\"def\"].values() | cli.cut(0, 1) | cli.lookup(entitiesD, 1) | ~cli.apply(lambda name,cls: [name,cls.dependsOn(ir,name)]) | ~cli.apply(lambda x,y:[x,y,len(y)]) | cli.deref()\n",
    "        for x,y,z in a:\n",
    "            for p in y: d[p].append(x)\n",
    "        freqs = a | cli.cut(0, 2) | cli.toDict(); stack = deque(a | cli.cut(0, 2) | ~cli.filt(\"x\", 1) | cli.cut(0) | cli.deref())\n",
    "        while len(stack) > 0:\n",
    "            c = stack.popleft(); yield c\n",
    "            for child in d[c]:\n",
    "                freqs[child] -= 1\n",
    "                if freqs[child] == 0: stack.append(child)\n",
    "    @staticmethod\n",
    "    def calc(ir): # calculates position of every element and write results back to IR\n",
    "        for e in IR.dep(ir): ir[\"def\"][e][4] = entitiesD[ir[\"def\"][e][1]].calc(ir,e)\n",
    "        return ir\n",
    "    @staticmethod\n",
    "    def bounds(ir): return ir[\"def\"].values() | cli.apply(lambda e: entitiesD[e[1]].bounds(ir, e[0])) | cli.transpose() | cli.toMin() + cli.toMax() + cli.toMin() + cli.toMax() | cli.deref()\n",
    "    @staticmethod\n",
    "    def calcMeta(ir,w=400,h=400): # calculates meta transformation functions\n",
    "        bounds = IR.bounds(ir)\n",
    "        a, b, c, d = bounds; cx = (a+b)/2; cy = (c+d)/2; dx = b-a; dy = d-c\n",
    "        sx = w/dx; sy = h/dy; s = min(sx, sy)/1.2; f1 = lambda x,y: [(x-cx)*s+w/2, (y-cy)*s+h/2]\n",
    "        ir[\"meta\"] = [f1, s, [w, h], [sx, sy], [dx, dy], [cx, cy], [a, c]]; return ir\n",
    "    @staticmethod\n",
    "    def display(ir,w=400,h=400): # constructs an image of the IR\n",
    "        if not ir[\"meta\"]: IR.calcMeta(ir,w,h)\n",
    "        # draw order: circle -> line -> point, because transparent fills are not really a thing in this knock up version of p5\n",
    "        for e in ir[\"def\"].values() | cli.filt(cli.op().split(\"_\")[0] == \"grid\", 1): entitiesD[e[1]].display(ir,e[0])\n",
    "        for e in ir[\"def\"].values() | cli.filt(cli.op().split(\"_\")[0] == \"axes\", 1): entitiesD[e[1]].display(ir,e[0])\n",
    "        for e in ir[\"def\"].values() | cli.filt(cli.op().split(\"_\")[0] == \"circle\", 1) | ~cli.sortF(cli.op()[4][2]): entitiesD[e[1]].display(ir,e[0])\n",
    "        for e in ir[\"def\"].values() | cli.filt(cli.op().split(\"_\")[0] == \"line\",   1): entitiesD[e[1]].display(ir,e[0])\n",
    "        for e in ir[\"def\"].values() | cli.filt(cli.op().split(\"_\")[0] == \"point\",  1): entitiesD[e[1]].display(ir,e[0])\n",
    "    @staticmethod\n",
    "    def dist_2P(ir, o1:str, o2:str):\n",
    "        \"\"\"Calculates distance between 2 objects given their names\"\"\"\n",
    "        o1 = ir[\"def\"][o1]; o2 = ir[\"def\"][o2]; x1,y1 = o1[4]; x2,y2 = o2[4]; return vlen(x2-x1, y2-y1)\n",
    "    @staticmethod\n",
    "    def length_L(ir, line:str):\n",
    "        \"\"\"Calculates the length of a specific line\"\"\"\n",
    "        x1,y1,x2,y2 = ir[\"def\"][line][4]; return vlen(x2-x1, y2-y1)\n",
    "    @staticmethod\n",
    "    def angle_2L(ir, l1:str, l2:str) -> \"``radians``\":\n",
    "        \"\"\"Calculates the angle between 2 lines\"\"\"\n",
    "        x1,y1,x2,y2 = ir[\"def\"][l1][4]; x3,y3,x4,y4 = ir[\"def\"][l2][4]\n",
    "        dx1 = x2-x1; dx2 = x4-x3; dy1 = y2-y1; dy2 = y4-y3\n",
    "        return math.acos((dx1*dx2+dy1*dy2)/vlen(dx1,dy1)/vlen(dx2,dy2))"
   ]
  },
  {
   "cell_type": "code",
   "execution_count": 14,
   "id": "82a77660-1a07-4b58-8510-d91d7d38bb9a",
   "metadata": {
    "tags": []
   },
   "outputs": [
    {
     "name": "stdout",
     "output_type": "stream",
     "text": [
      "CPU times: user 966 µs, sys: 201 µs, total: 1.17 ms\n",
      "Wall time: 1.08 ms\n"
     ]
    },
    {
     "data": {
      "text/plain": [
       "{'def': {'P0': ['P0', 'point_raw', [0, 0], None, [0, 0]],\n",
       "  'P1': ['P1', 'point_raw', [3, 4], None, [3, 4]],\n",
       "  'P2': ['P2', 'point_raw', [5, 8], None, [5, 8]],\n",
       "  'P3': ['P3', 'point_raw', [5, 6], None, [5, 6]],\n",
       "  'L1': ['L1', 'line_2P', ['P1', 'P2', 0, 0], None, [3, 4, 5, 8]],\n",
       "  'L2': ['L2', 'line_2P', ['P1', 'P3', 0, 0], None, [3, 4, 5, 6]],\n",
       "  'P4': ['P4', 'point_sym', ['P2', 'P3'], None, [5, 4]],\n",
       "  'C1': ['C1', 'circle_PR', ['P1', 1], None, [3, 4, 1]],\n",
       "  'C2': ['C2', 'circle_2P', ['P3', 'P1'], None, [5, 6, 2.8284271247461903]],\n",
       "  'grid-0': ['grid-0', 'grid', [], None, []],\n",
       "  'axes-0': ['axes-0', 'axes', [], None, []]},\n",
       " 'meta': [<function __main__.IR.calcMeta.<locals>.<lambda>(x, y)>,\n",
       "  37.75681994349774,\n",
       "  [400, 400],\n",
       "  [51.09583235891318, 45.30818393219729],\n",
       "  [7.82842712474619, 8.82842712474619],\n",
       "  [3.914213562373095, 4.414213562373095],\n",
       "  [0, 0]]}"
      ]
     },
     "execution_count": 14,
     "metadata": {},
     "output_type": "execute_result"
    }
   ],
   "source": [
    "%%time\n",
    "ir = None | point_raw(\"P0\", 0, 0) | point_raw(\"P1\", 3, 4) | point_raw(\"P2\", 5, 8) | point_raw(\"P3\", 5, 6) | line_2P(\"L1\", \"P1\", \"P2\") | line_2P(\"L2\", \"P1\", \"P3\") | point_sym(\"P4\", \"P2\", \"P3\") | circle_PR(\"C1\", \"P1\", 1) | circle_2P(\"C2\", \"P3\", \"P1\") | cli.aS(IR.calc) | cli.aS(IR.calcMeta, 400, 400) | grid() | axes(); ir"
   ]
  },
  {
   "cell_type": "code",
   "execution_count": 15,
   "id": "9323be33-f230-4288-ada1-714e454c9cbd",
   "metadata": {
    "tags": []
   },
   "outputs": [
    {
     "name": "stdout",
     "output_type": "stream",
     "text": [
      "CPU times: user 39.3 ms, sys: 1.06 ms, total: 40.3 ms\n",
      "Wall time: 86.2 ms\n"
     ]
    },
    {
     "data": {
      "image/png": "[encoded data removed]",
      "text/plain": [
       "<PIL.PngImagePlugin.PngImageFile image mode=RGB size=400x400>"
      ]
     },
     "execution_count": 15,
     "metadata": {},
     "output_type": "execute_result"
    }
   ],
   "source": [
    "%%time\n",
    "newSketch(400, 400); background(155); textSize(16); noFill(); IR.display(ir); img()"
   ]
  },
  {
   "cell_type": "code",
   "execution_count": 16,
   "id": "29a93bea-7c4b-45c3-88b5-dfa5afe043ba",
   "metadata": {
    "tags": []
   },
   "outputs": [],
   "source": [
    "assert int(IR.angle_2L(ir, \"L1\", \"L2\")/3.14159*180) == 18\n",
    "assert IR.dist_2P(ir, \"P2\", \"P3\") == 2\n",
    "assert int(IR.length_L(ir, \"L1\")) == 4"
   ]
  },
  {
   "cell_type": "code",
   "execution_count": 17,
   "id": "051a6c07-d410-4cb8-b3ef-4fda406a6dee",
   "metadata": {
    "tags": []
   },
   "outputs": [
    {
     "name": "stdout",
     "output_type": "stream",
     "text": [
      "CPU times: user 15.2 ms, sys: 0 ns, total: 15.2 ms\n",
      "Wall time: 35.8 ms\n"
     ]
    },
    {
     "data": {
      "image/png": "[encoded data removed]",
      "text/plain": [
       "<PIL.PngImagePlugin.PngImageFile image mode=RGB size=400x400>"
      ]
     },
     "execution_count": 17,
     "metadata": {},
     "output_type": "execute_result"
    }
   ],
   "source": [
    "%%time\n",
    "newSketch(400, 400); background(155); textSize(16); noFill(); IR.display(None | triangle(*\"ABC\") | cli.aS(IR.calc)); img()"
   ]
  },
  {
   "cell_type": "code",
   "execution_count": 94,
   "id": "1cf05570-547a-4878-993d-9656a000cba6",
   "metadata": {
    "tags": []
   },
   "outputs": [],
   "source": [
    "#export\n",
    "k1lib.settings.add(\"p5\", k1lib.Settings()\n",
    "    .add(\"funcs\", [\"arc\", \"ellipse\", \"circle\", \"line\", \"point\", \"quad\", \"rect\", \"square\", \"triangle\", \"text\",\n",
    "                   \"color\", \"fill\", \"noFill\", \"stroke\", \"noStroke\", \"background\"], \"p5 functions to syntactically replace in instance mode\")\n",
    "    .add(\"symbols\", [\"mouseX\", \"mouseY\"], \"symbols to syntactically replace in instance mode\"),\n",
    "\"p5 module settings\");\n",
    "class Sketch(cli.BaseCli):\n",
    "    def __init__(self, f:str, width=500, height=500):\n",
    "        \"\"\"Creates a real p5js sketch, but make it convenient.\n",
    "Example::\n",
    "\n",
    "    \"some data\" | p5.Sketch('''\n",
    "        function setup() {\n",
    "            background(200);\n",
    "        }\n",
    "        function draw() {\n",
    "            background(200);\n",
    "            text(data, 20, 20);\n",
    "            ellipse(mouseX, mouseY, 20, 20);\n",
    "        }\n",
    "    ''')\n",
    "\n",
    ":param f: the js string to inject into the sketch\n",
    ":param width: width of the sketch\n",
    ":param height: height of the sketch\"\"\"\n",
    "        self.width = width; self.height = height\n",
    "        if \"function setup() {\" not in f: raise Exception(\"Function setup() not found, please start the function with `function setup() {`\")\n",
    "        if \"function draw() {\" not in f:  raise Exception(\"Function draw() not found, please start the function with `function draw() {`\")\n",
    "        self.f = f.replace(\"function setup() {\", f\"function setup() {{ p.createCanvas({width}, {height}); \")\n",
    "    def __ror__(self, it):\n",
    "        pre = cli.init._jsDAuto(); f = self.f\n",
    "        for sym in k1lib.settings.p5.funcs:   f = f.replace(f\"{sym}(\", f\"p.{sym}(\")\n",
    "        for sym in k1lib.settings.p5.symbols: f = f.replace(f\"{sym}\", f\"p.{sym}\")\n",
    "        f = f.replace(\".p.\", \".\")\n",
    "        return k1lib.viz.Html(f\"\"\"\n",
    "<div id=\"{pre}_sketch\" style=\"width: {self.width}px; height: {self.height}px\"></div>\n",
    "<div id=\"{pre}_errors\">&nbsp;</div>\n",
    "<script src=\"https://cdnjs.cloudflare.com/ajax/libs/p5.js/1.9.3/p5.min.js\" integrity=\"sha512-0zGLOFv/+OQ6YfVCSGDQWhrDRx0ONmBqWvs3gI4olm8i6xtKoG1FhEnB4eTaWCVnojyfUDgE8Izeln+mAJAkFA==\" crossorigin=\"anonymous\" referrerpolicy=\"no-referrer\"></script>\n",
    "<script>\n",
    "    new p5(p => {{\n",
    "        const data = {json.dumps(it)};{f}\n",
    "        p.setup = setup;\n",
    "        p.draw = draw;\n",
    "    }}, document.querySelector(\"#{pre}_sketch\"));\n",
    "</script>\n",
    "\"\"\")"
   ]
  },
  {
   "cell_type": "code",
   "execution_count": 95,
   "id": "e30b37b5-42ab-4c17-bfe0-bdce96343c79",
   "metadata": {
    "tags": []
   },
   "outputs": [
    {
     "data": {
      "text/html": [
       "\n",
       "<div id=\"_jsD_245_1714206943_3599_sketch\" style=\"width: 500px; height: 500px\"></div>\n",
       "<div id=\"_jsD_245_1714206943_3599_errors\">&nbsp;</div>\n",
       "<script src=\"https://cdnjs.cloudflare.com/ajax/libs/p5.js/1.9.3/p5.min.js\" integrity=\"sha512-0zGLOFv/+OQ6YfVCSGDQWhrDRx0ONmBqWvs3gI4olm8i6xtKoG1FhEnB4eTaWCVnojyfUDgE8Izeln+mAJAkFA==\" crossorigin=\"anonymous\" referrerpolicy=\"no-referrer\"></script>\n",
       "<script>\n",
       "    new p5(p => {\n",
       "        const data = \"abc\";\n",
       "function setup() { p.createCanvas(500, 500); \n",
       "    p.background(200);\n",
       "}\n",
       "function draw() {\n",
       "    p.background(200);\n",
       "    p.text(data, 20, 20);\n",
       "    p.ellipse(p.mouseX, p.mouseY, 20, 20);\n",
       "}\n",
       "        p.setup = setup;\n",
       "        p.draw = draw;\n",
       "    }, document.querySelector(\"#_jsD_245_1714206943_3599_sketch\"));\n",
       "</script>\n"
      ],
      "text/plain": [
       "'\\n<div id=\"_jsD_245_1714206943_3599_sketch\" style=\"width: 500px; height: 500px\"></div>\\n<div id=\"_jsD_245_1714206943_3599_errors\">&nbsp;</div>\\n<script src=\"https://cdnjs.cloudflare.com/ajax/libs/p5.js/1.9.3/p5.min.js\" integrity=\"sha512-0zGLOFv/+OQ6YfVCSGDQWhrDRx0ONmBqWvs3gI4olm8i6xtKoG1FhEnB4eTaWCVnojyfUDgE8Izeln+mAJAkFA==\" crossorigin=\"anonymous\" referrerpolicy=\"no-referrer\"></script>\\n<script>\\n    new p5(p => {\\n        const data = \"abc\";\\nfunction setup() { p.createCanvas(500, 500); \\n    p.background(200);\\n}\\nfunction draw() {\\n    p.background(200);\\n    p.text(data, 20, 20);\\n    p.ellipse(p.mouseX, p.mouseY, 20, 20);\\n}\\n        p.setup = setup;\\n        p.draw = draw;\\n    }, document.querySelector(\"#_jsD_245_1714206943_3599_sketch\"));\\n</script>\\n'"
      ]
     },
     "execution_count": 95,
     "metadata": {},
     "output_type": "execute_result"
    }
   ],
   "source": [
    "\"abc\" | Sketch(f\"\"\"\n",
    "function setup() {{\n",
    "    background(200);\n",
    "}}\n",
    "function draw() {{\n",
    "    background(200);\n",
    "    text(data, 20, 20);\n",
    "    ellipse(mouseX, mouseY, 20, 20);\n",
    "}}\"\"\")"
   ]
  },
  {
   "cell_type": "code",
   "execution_count": 126,
   "id": "49d7ae99-6530-4a16-acc9-ff2546132fe2",
   "metadata": {
    "tags": []
   },
   "outputs": [],
   "source": [
    "#export\n",
    "class Anim(cli.BaseCli):\n",
    "    def __init__(self, width=500, height=500):\n",
    "        \"\"\"Creates a quick animation that internally runs on p5js.\n",
    "Why not just use matplotlib or smth? Their performance is quite\n",
    "terrible, and sometimes I just want a simple way to display\n",
    "animations. Example::\n",
    "\n",
    "    [[0,    \"ellipse(200,300,20,20);text('abc',20,20);\"],\n",
    "     [0.03, \"ellipse(204,299,19,19);text('abc',22,23);\"]] | p5.Anim()\n",
    "\n",
    "The left column is the time in seconds to draw the frame, and the right column is the\n",
    "code to execute on that frame. Pretty simple really.\"\"\"\n",
    "        self.width = width;\n",
    "        self.height = height\n",
    "    def __ror__(self, it):\n",
    "        pre = cli.init._jsDAuto(); it = it | cli.sort() | cli.deref(); maxT = it[-1][0]\n",
    "        timeouts = it | ~cli.apply(lambda x,y: f\"setTimeout(() => {{ background(200);text('Time: {x}s, {round(x/maxT*100,2)}%',20,{self.height-20});{y} }}, {x*1000});\") | cli.join(\"\\n\")\n",
    "        return None | Sketch(f\"\"\"\n",
    "{pre}_refresh = () => {{ {timeouts}; }}; {pre}_refresh();\n",
    "setInterval({pre}_refresh, {(maxT+1)*1000});\n",
    "function setup() {{ background(200); }}\n",
    "function draw() {{ }}\n",
    "\"\"\", self.width, self.height)"
   ]
  },
  {
   "cell_type": "code",
   "execution_count": 127,
   "id": "65b788ff-0819-4b8a-a8ef-ae2b3c9b22ec",
   "metadata": {
    "tags": []
   },
   "outputs": [
    {
     "data": {
      "text/html": [
       "\n",
       "<div id=\"_jsD_245_1714206943_3624_sketch\" style=\"width: 500px; height: 500px\"></div>\n",
       "<div id=\"_jsD_245_1714206943_3624_errors\">&nbsp;</div>\n",
       "<script src=\"https://cdnjs.cloudflare.com/ajax/libs/p5.js/1.9.3/p5.min.js\" integrity=\"sha512-0zGLOFv/+OQ6YfVCSGDQWhrDRx0ONmBqWvs3gI4olm8i6xtKoG1FhEnB4eTaWCVnojyfUDgE8Izeln+mAJAkFA==\" crossorigin=\"anonymous\" referrerpolicy=\"no-referrer\"></script>\n",
       "<script>\n",
       "    new p5(p => {\n",
       "        const data = null;\n",
       "_jsD_245_1714206943_3623_refresh = () => { setTimeout(() => { p.background(200);p.text('Time: 0s, 0.0%',20,480);p.ellipse(200,300,20,20);p.text('abc',20,20); }, 0);\n",
       "setTimeout(() => { p.background(200);p.text('Time: 0.03s, 100.0%',20,480);p.ellipse(204,299,19,19);p.text('abc',22,23); }, 30.0);; }; _jsD_245_1714206943_3623_refresh();\n",
       "setInterval(_jsD_245_1714206943_3623_refresh, 1030.0);\n",
       "function setup() { p.createCanvas(500, 500);  p.background(200); }\n",
       "function draw() { }\n",
       "\n",
       "        p.setup = setup;\n",
       "        p.draw = draw;\n",
       "    }, document.querySelector(\"#_jsD_245_1714206943_3624_sketch\"));\n",
       "</script>\n"
      ],
      "text/plain": [
       "'\\n<div id=\"_jsD_245_1714206943_3624_sketch\" style=\"width: 500px; height: 500px\"></div>\\n<div id=\"_jsD_245_1714206943_3624_errors\">&nbsp;</div>\\n<script src=\"https://cdnjs.cloudflare.com/ajax/libs/p5.js/1.9.3/p5.min.js\" integrity=\"sha512-0zGLOFv/+OQ6YfVCSGDQWhrDRx0ONmBqWvs3gI4olm8i6xtKoG1FhEnB4eTaWCVnojyfUDgE8Izeln+mAJAkFA==\" crossorigin=\"anonymous\" referrerpolicy=\"no-referrer\"></script>\\n<script>\\n    new p5(p => {\\n        const data = null;\\n_jsD_245_1714206943_3623_refresh = () => { setTimeout(() => { p.background(200);p.text(\\'Time: 0s, 0.0%\\',20,480);p.ellipse(200,300,20,20);p.text(\\'abc\\',20,20); }, 0);\\nsetTimeout(() => { p.background(200);p.text(\\'Time: 0.03s, 100.0%\\',20,480);p.ellipse(204,299,19,19);p.text(\\'abc\\',22,23); }, 30.0);; }; _jsD_245_1714206943_3623_refresh();\\nsetInterval(_jsD_245_1714206943_3623_refresh, 1030.0);\\nfunction setup() { p.createCanvas(500, 500);  p.background(200); }\\nfunction draw() { }\\n\\n        p.setup = setup;\\n        p.draw = draw;\\n    }, document.querySelector(\"#_jsD_245_1714206943_3624_sketch\"));\\n</script>\\n'"
      ]
     },
     "execution_count": 127,
     "metadata": {},
     "output_type": "execute_result"
    }
   ],
   "source": [
    "[[0,    \"ellipse(200,300,20,20);text('abc',20,20);\"],\n",
    " [0.03, \"ellipse(204,299,19,19);text('abc',22,23);\"]]\\\n",
    "| Anim()"
   ]
  },
  {
   "cell_type": "code",
   "execution_count": 129,
   "id": "7e0261d8-5096-4e20-9f4b-db72bf058bb1",
   "metadata": {
    "scrolled": true,
    "tags": []
   },
   "outputs": [
    {
     "name": "stdout",
     "output_type": "stream",
     "text": [
      "2024-04-27 05:52:11,589\tINFO worker.py:1458 -- Connecting to existing Ray cluster at address: 192.168.1.17:6379...\n",
      "2024-04-27 05:52:11,640\tINFO worker.py:1633 -- Connected to Ray cluster. View the dashboard at \u001b[1m\u001b[32m127.0.0.1:8265 \u001b[39m\u001b[22m\n",
      "./export started up - /home/kelvin/anaconda3/envs/ray2/bin/python3\n",
      "----- exportAll\n",
      "15959   0   61%   \n",
      "10371   1   39%   \n",
      "Found existing installation: k1lib 1.7\n",
      "Uninstalling k1lib-1.7:\n",
      "  Successfully uninstalled k1lib-1.7\n",
      "Looking in indexes: https://pypi.org/simple, http://mint-2.l:3141/\n",
      "Processing /home/kelvin/repos/labs/k1lib\n",
      "  Preparing metadata (setup.py) ... \u001b[?25ldone\n",
      "\u001b[?25hRequirement already satisfied: numpy>=1.14 in /home/kelvin/anaconda3/envs/ray2/lib/python3.9/site-packages (from k1lib==1.7) (1.24.2)\n",
      "Requirement already satisfied: matplotlib>=2.0 in /home/kelvin/anaconda3/envs/ray2/lib/python3.9/site-packages (from k1lib==1.7) (3.7.1)\n",
      "Requirement already satisfied: dill in /home/kelvin/anaconda3/envs/ray2/lib/python3.9/site-packages (from k1lib==1.7) (0.3.7)\n",
      "Requirement already satisfied: forbiddenfruit in /home/kelvin/anaconda3/envs/ray2/lib/python3.9/site-packages (from k1lib==1.7) (0.1.4)\n",
      "Requirement already satisfied: wurlitzer in /home/kelvin/anaconda3/envs/ray2/lib/python3.9/site-packages (from k1lib==1.7) (3.0.3)\n",
      "Requirement already satisfied: validators in /home/kelvin/anaconda3/envs/ray2/lib/python3.9/site-packages (from k1lib==1.7) (0.20.0)\n",
      "Requirement already satisfied: contourpy>=1.0.1 in /home/kelvin/anaconda3/envs/ray2/lib/python3.9/site-packages (from matplotlib>=2.0->k1lib==1.7) (1.0.7)\n",
      "Requirement already satisfied: cycler>=0.10 in /home/kelvin/anaconda3/envs/ray2/lib/python3.9/site-packages (from matplotlib>=2.0->k1lib==1.7) (0.11.0)\n",
      "Requirement already satisfied: fonttools>=4.22.0 in /home/kelvin/anaconda3/envs/ray2/lib/python3.9/site-packages (from matplotlib>=2.0->k1lib==1.7) (4.39.3)\n",
      "Requirement already satisfied: kiwisolver>=1.0.1 in /home/kelvin/anaconda3/envs/ray2/lib/python3.9/site-packages (from matplotlib>=2.0->k1lib==1.7) (1.4.4)\n",
      "Requirement already satisfied: packaging>=20.0 in /home/kelvin/anaconda3/envs/ray2/lib/python3.9/site-packages (from matplotlib>=2.0->k1lib==1.7) (23.1)\n",
      "Requirement already satisfied: pillow>=6.2.0 in /home/kelvin/anaconda3/envs/ray2/lib/python3.9/site-packages (from matplotlib>=2.0->k1lib==1.7) (9.5.0)\n",
      "Requirement already satisfied: pyparsing>=2.3.1 in /home/kelvin/anaconda3/envs/ray2/lib/python3.9/site-packages (from matplotlib>=2.0->k1lib==1.7) (3.0.9)\n",
      "Requirement already satisfied: python-dateutil>=2.7 in /home/kelvin/anaconda3/envs/ray2/lib/python3.9/site-packages (from matplotlib>=2.0->k1lib==1.7) (2.8.2)\n",
      "Requirement already satisfied: importlib-resources>=3.2.0 in /home/kelvin/anaconda3/envs/ray2/lib/python3.9/site-packages (from matplotlib>=2.0->k1lib==1.7) (5.12.0)\n",
      "Requirement already satisfied: decorator>=3.4.0 in /home/kelvin/anaconda3/envs/ray2/lib/python3.9/site-packages (from validators->k1lib==1.7) (5.1.1)\n",
      "Requirement already satisfied: zipp>=3.1.0 in /home/kelvin/anaconda3/envs/ray2/lib/python3.9/site-packages (from importlib-resources>=3.2.0->matplotlib>=2.0->k1lib==1.7) (3.15.0)\n",
      "Requirement already satisfied: six>=1.5 in /home/kelvin/anaconda3/envs/ray2/lib/python3.9/site-packages (from python-dateutil>=2.7->matplotlib>=2.0->k1lib==1.7) (1.16.0)\n",
      "Building wheels for collected packages: k1lib\n",
      "  Building wheel for k1lib (setup.py) ... \u001b[?25ldone\n",
      "\u001b[?25h  Created wheel for k1lib: filename=k1lib-1.7-py3-none-any.whl size=5098729 sha256=af1a22071e18d839630f9209e8333365c157803c420a1b90338bbfa822441c4c\n",
      "  Stored in directory: /tmp/pip-ephem-wheel-cache-zhq4gmm_/wheels/fb/be/7d/105fb38c560564c6556311fd52f77295b9fec253e4ba7cfd75\n",
      "Successfully built k1lib\n",
      "Installing collected packages: k1lib\n",
      "Successfully installed k1lib-1.7\n",
      "\u001b[0m"
     ]
    }
   ],
   "source": [
    "!../export.py p5 --upload=True"
   ]
  },
  {
   "cell_type": "code",
   "execution_count": 128,
   "id": "f403fb6c-4392-449c-92ef-3e5ca0f499f8",
   "metadata": {
    "scrolled": true,
    "tags": []
   },
   "outputs": [
    {
     "name": "stdout",
     "output_type": "stream",
     "text": [
      "2024-04-27 05:51:20,476\tINFO worker.py:1458 -- Connecting to existing Ray cluster at address: 192.168.1.17:6379...\n",
      "2024-04-27 05:51:20,488\tINFO worker.py:1633 -- Connected to Ray cluster. View the dashboard at \u001b[1m\u001b[32m127.0.0.1:8265 \u001b[39m\u001b[22m\n",
      "./export started up - /home/kelvin/anaconda3/envs/ray2/bin/python3\n",
      "----- exportAll\n",
      "15959   0   61%   \n",
      "10371   1   39%   \n",
      "Found existing installation: k1lib 1.7\n",
      "Uninstalling k1lib-1.7:\n",
      "  Successfully uninstalled k1lib-1.7\n",
      "Looking in indexes: https://pypi.org/simple, http://mint-2.l:3141/\n",
      "Processing /home/kelvin/repos/labs/k1lib\n",
      "  Preparing metadata (setup.py) ... \u001b[?25ldone\n",
      "\u001b[?25hRequirement already satisfied: numpy>=1.14 in /home/kelvin/anaconda3/envs/ray2/lib/python3.9/site-packages (from k1lib==1.7) (1.24.2)\n",
      "Requirement already satisfied: matplotlib>=2.0 in /home/kelvin/anaconda3/envs/ray2/lib/python3.9/site-packages (from k1lib==1.7) (3.7.1)\n",
      "Requirement already satisfied: dill in /home/kelvin/anaconda3/envs/ray2/lib/python3.9/site-packages (from k1lib==1.7) (0.3.7)\n",
      "Requirement already satisfied: forbiddenfruit in /home/kelvin/anaconda3/envs/ray2/lib/python3.9/site-packages (from k1lib==1.7) (0.1.4)\n",
      "Requirement already satisfied: wurlitzer in /home/kelvin/anaconda3/envs/ray2/lib/python3.9/site-packages (from k1lib==1.7) (3.0.3)\n",
      "Requirement already satisfied: validators in /home/kelvin/anaconda3/envs/ray2/lib/python3.9/site-packages (from k1lib==1.7) (0.20.0)\n",
      "Requirement already satisfied: contourpy>=1.0.1 in /home/kelvin/anaconda3/envs/ray2/lib/python3.9/site-packages (from matplotlib>=2.0->k1lib==1.7) (1.0.7)\n",
      "Requirement already satisfied: cycler>=0.10 in /home/kelvin/anaconda3/envs/ray2/lib/python3.9/site-packages (from matplotlib>=2.0->k1lib==1.7) (0.11.0)\n",
      "Requirement already satisfied: fonttools>=4.22.0 in /home/kelvin/anaconda3/envs/ray2/lib/python3.9/site-packages (from matplotlib>=2.0->k1lib==1.7) (4.39.3)\n",
      "Requirement already satisfied: kiwisolver>=1.0.1 in /home/kelvin/anaconda3/envs/ray2/lib/python3.9/site-packages (from matplotlib>=2.0->k1lib==1.7) (1.4.4)\n",
      "Requirement already satisfied: packaging>=20.0 in /home/kelvin/anaconda3/envs/ray2/lib/python3.9/site-packages (from matplotlib>=2.0->k1lib==1.7) (23.1)\n",
      "Requirement already satisfied: pillow>=6.2.0 in /home/kelvin/anaconda3/envs/ray2/lib/python3.9/site-packages (from matplotlib>=2.0->k1lib==1.7) (9.5.0)\n",
      "Requirement already satisfied: pyparsing>=2.3.1 in /home/kelvin/anaconda3/envs/ray2/lib/python3.9/site-packages (from matplotlib>=2.0->k1lib==1.7) (3.0.9)\n",
      "Requirement already satisfied: python-dateutil>=2.7 in /home/kelvin/anaconda3/envs/ray2/lib/python3.9/site-packages (from matplotlib>=2.0->k1lib==1.7) (2.8.2)\n",
      "Requirement already satisfied: importlib-resources>=3.2.0 in /home/kelvin/anaconda3/envs/ray2/lib/python3.9/site-packages (from matplotlib>=2.0->k1lib==1.7) (5.12.0)\n",
      "Requirement already satisfied: decorator>=3.4.0 in /home/kelvin/anaconda3/envs/ray2/lib/python3.9/site-packages (from validators->k1lib==1.7) (5.1.1)\n",
      "Requirement already satisfied: zipp>=3.1.0 in /home/kelvin/anaconda3/envs/ray2/lib/python3.9/site-packages (from importlib-resources>=3.2.0->matplotlib>=2.0->k1lib==1.7) (3.15.0)\n",
      "Requirement already satisfied: six>=1.5 in /home/kelvin/anaconda3/envs/ray2/lib/python3.9/site-packages (from python-dateutil>=2.7->matplotlib>=2.0->k1lib==1.7) (1.16.0)\n",
      "Building wheels for collected packages: k1lib\n",
      "  Building wheel for k1lib (setup.py) ... \u001b[?25ldone\n",
      "\u001b[?25h  Created wheel for k1lib: filename=k1lib-1.7-py3-none-any.whl size=5098729 sha256=d8db18339d0378465c7a584301e2fe73da55b0dd946e5f27be428e22060ba7ef\n",
      "  Stored in directory: /tmp/pip-ephem-wheel-cache-1zr9dqr6/wheels/fb/be/7d/105fb38c560564c6556311fd52f77295b9fec253e4ba7cfd75\n",
      "Successfully built k1lib\n",
      "Installing collected packages: k1lib\n",
      "Successfully installed k1lib-1.7\n",
      "\u001b[0m"
     ]
    }
   ],
   "source": [
    "!../export.py p5"
   ]
  },
  {
   "cell_type": "code",
   "execution_count": null,
   "id": "7bb15487-9603-4133-a5a0-dcc95123ad41",
   "metadata": {},
   "outputs": [],
   "source": []
  }
 ],
 "metadata": {
  "kernelspec": {
   "display_name": "Python 3 (ipykernel)",
   "language": "python",
   "name": "python3"
  },
  "language_info": {
   "codemirror_mode": {
    "name": "ipython",
    "version": 3
   },
   "file_extension": ".py",
   "mimetype": "text/x-python",
   "name": "python",
   "nbconvert_exporter": "python",
   "pygments_lexer": "ipython3",
   "version": "3.12.5"
  }
 },
 "nbformat": 4,
 "nbformat_minor": 5
}
