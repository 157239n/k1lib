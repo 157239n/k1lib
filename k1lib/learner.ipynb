{
 "cells": [
  {
   "cell_type": "code",
   "execution_count": 1,
   "metadata": {},
   "outputs": [],
   "source": [
    "%load_ext autoreload\n",
    "%autoreload 2"
   ]
  },
  {
   "cell_type": "code",
   "execution_count": 2,
   "metadata": {},
   "outputs": [],
   "source": [
    "#export\n",
    "import k1lib, torch.nn as nn"
   ]
  },
  {
   "cell_type": "code",
   "execution_count": 3,
   "metadata": {},
   "outputs": [],
   "source": [
    "#export\n",
    "class Lambda(nn.Module):\n",
    "    def __init__(self, f): super().__init__(); self.f = f\n",
    "    def forward(self, x): return self.f(x)"
   ]
  },
  {
   "cell_type": "code",
   "execution_count": 10,
   "metadata": {},
   "outputs": [],
   "source": [
    "#export\n",
    "class Learner:\n",
    "    def __init__(self, *args, **kwargs):\n",
    "        \"\"\"Initializes a Learner. Intended to have an outside factory function to create this and not be used directly\"\"\"\n",
    "        self.model = None; self.data = None; self.opt = None; self.lossFunction = None\n",
    "        self.configure(*args, **kwargs)\n",
    "        self.withCbs(k1lib.Callbacks.standard())\n",
    "    def configure(self, model:nn.Module, data:k1lib.Data=None, opt=None, lossFunction=None):\n",
    "        self.model = model or self.model\n",
    "        self.data = data or self.data\n",
    "        self.opt = opt or self.opt\n",
    "        self.lossFunction = lossFunction or self.lossFunction\n",
    "        return self\n",
    "    def withCbs(self, cbs): self.cbs = cbs; cbs.injectLearner(self); return self\n",
    "    def _updateCbsDict(self): self.__dict__.update(self.cbs.dict) # make callback names directly referenceable for quality of life \n",
    "    def _run1Batch(self):\n",
    "        self.cbs(\"startBatch\")\n",
    "        try:\n",
    "            self.y = self.model(self.xb); self.cbs(\"endPass\")\n",
    "            loss = self.lossFunction(self.y, self.yb); self.loss = loss.detach().item(); self.cbs(\"endLoss\")\n",
    "            if not self.cbs(\"startBackward\"): loss.backward()\n",
    "            if not self.cbs(\"startStep\"):  self.opt.step()\n",
    "            if not self.cbs(\"startZeroGrad\"): self.opt.zero_grad()\n",
    "        except k1lib.CancelBatchException: self.cbs(\"cancelBatch\")\n",
    "        self.cbs(\"endBatch\")\n",
    "    def _run1Epoch(self):\n",
    "        self.cbs(\"startEpoch\")\n",
    "        try:\n",
    "            self.nBatches = len(self.data.train); self.model.train()\n",
    "            for self.batch, (self.xb, self.yb) in enumerate(self.data.train):\n",
    "                self._run1Batch()\n",
    "            self.nBatches = len(self.data.valid); self.model.eval(); self.cbs(\"startValidBatches\")\n",
    "            for self.batch, (self.xb, self.yb) in enumerate(self.data.valid):\n",
    "                self._run1Batch()\n",
    "        except k1lib.CancelEpochException: self.cbs(\"cancelEpoch\")\n",
    "        self.cbs(\"endEpoch\")\n",
    "    def run(self, epochs, *args, **kwargs):\n",
    "        \"\"\"Runs the model for a specified number of epochs.\"\"\"\n",
    "        self._updateCbsDict(); self.epochs = epochs; self.configure(None, *args, **kwargs); self.cbs(\"startRun\")\n",
    "        try:\n",
    "            for self.epoch in range(epochs):\n",
    "                self._run1Epoch()\n",
    "        except k1lib.CancelRunException: self.cbs(\"cancelRun\")\n",
    "        self.cbs(\"endRun\"); return self\n",
    "    def _repr_html_(self): return f\"\"\"<pre>Model: {klib.textToHtml(str(self.model))}</pre>\n",
    "    <pre>Optimizer: {klib.textToHtml(str(self.opt))}</pre>{self.cbs._repr_html_()}\"\"\""
   ]
  },
  {
   "cell_type": "code",
   "execution_count": 11,
   "metadata": {},
   "outputs": [
    {
     "name": "stdout",
     "output_type": "stream",
     "text": [
      "/home/kelvin/repos/labs/k1lib/k1lib\n",
      "Current dir: 0, /home/kelvin/repos/labs/k1lib/export.py\n",
      "File: /home/kelvin/repos/labs/k1lib/k1lib/learner.py\n",
      "running bdist_wheel\n",
      "running build\n",
      "installing to build/bdist.linux-x86_64/wheel\n",
      "running install\n",
      "running install_egg_info\n",
      "running egg_info\n",
      "writing k1lib.egg-info/PKG-INFO\n",
      "writing dependency_links to k1lib.egg-info/dependency_links.txt\n",
      "writing top-level names to k1lib.egg-info/top_level.txt\n",
      "reading manifest file 'k1lib.egg-info/SOURCES.txt'\n",
      "writing manifest file 'k1lib.egg-info/SOURCES.txt'\n",
      "Copying k1lib.egg-info to build/bdist.linux-x86_64/wheel/k1lib-0.1.0-py3.8.egg-info\n",
      "running install_scripts\n",
      "creating build/bdist.linux-x86_64/wheel/k1lib-0.1.0.dist-info/WHEEL\n",
      "creating 'dist/k1lib-0.1.0-py3-none-any.whl' and adding 'build/bdist.linux-x86_64/wheel' to it\n",
      "adding 'k1lib-0.1.0.dist-info/METADATA'\n",
      "adding 'k1lib-0.1.0.dist-info/WHEEL'\n",
      "adding 'k1lib-0.1.0.dist-info/top_level.txt'\n",
      "adding 'k1lib-0.1.0.dist-info/RECORD'\n",
      "removing build/bdist.linux-x86_64/wheel\n",
      "Processing /home/kelvin/repos/labs/k1lib/dist/k1lib-0.1.0-py3-none-any.whl\n",
      "Installing collected packages: k1lib\n",
      "  Attempting uninstall: k1lib\n",
      "    Found existing installation: k1lib 0.1.0\n",
      "    Uninstalling k1lib-0.1.0:\n",
      "      Successfully uninstalled k1lib-0.1.0\n",
      "Successfully installed k1lib-0.1.0\n"
     ]
    }
   ],
   "source": [
    "!exportnb learner.ipynb"
   ]
  },
  {
   "cell_type": "code",
   "execution_count": 33,
   "metadata": {},
   "outputs": [],
   "source": [
    "import torch"
   ]
  },
  {
   "cell_type": "code",
   "execution_count": 28,
   "metadata": {},
   "outputs": [],
   "source": [
    "l = Lambda(lambda x: x[None])"
   ]
  },
  {
   "cell_type": "code",
   "execution_count": 32,
   "metadata": {},
   "outputs": [
    {
     "data": {
      "text/plain": [
       "tensor([[[0.0042, 0.3004, 0.6085],\n",
       "         [0.9042, 0.8013, 0.1034]]])"
      ]
     },
     "execution_count": 32,
     "metadata": {},
     "output_type": "execute_result"
    }
   ],
   "source": [
    "l(torch.rand(2, 3))"
   ]
  },
  {
   "cell_type": "code",
   "execution_count": 10,
   "metadata": {},
   "outputs": [],
   "source": [
    "a = {\"a\": 3, \"b\": 5}\n",
    "a.update({\"b\": 8, \"c\": 11})"
   ]
  },
  {
   "cell_type": "code",
   "execution_count": 11,
   "metadata": {},
   "outputs": [
    {
     "data": {
      "text/plain": [
       "{'a': 3, 'b': 8, 'c': 11}"
      ]
     },
     "execution_count": 11,
     "metadata": {},
     "output_type": "execute_result"
    }
   ],
   "source": [
    "a"
   ]
  }
 ],
 "metadata": {
  "kernelspec": {
   "display_name": "Python 3",
   "language": "python",
   "name": "python3"
  },
  "language_info": {
   "codemirror_mode": {
    "name": "ipython",
    "version": 3
   },
   "file_extension": ".py",
   "mimetype": "text/x-python",
   "name": "python",
   "nbconvert_exporter": "python",
   "pygments_lexer": "ipython3",
   "version": "3.8.5"
  }
 },
 "nbformat": 4,
 "nbformat_minor": 4
}
