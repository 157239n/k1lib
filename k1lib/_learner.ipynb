{
 "cells": [
  {
   "cell_type": "code",
   "execution_count": 1,
   "metadata": {},
   "outputs": [],
   "source": [
    "#export\n",
    "import k1lib as _k1lib, torch.nn as _nn, torch as _torch, os as _os\n",
    "import dill as _dill"
   ]
  },
  {
   "cell_type": "code",
   "execution_count": 2,
   "metadata": {},
   "outputs": [],
   "source": [
    "#export\n",
    "class Learner:\n",
    "    def __init__(self, model:_nn.Module, *args, **kwargs):\n",
    "        \"\"\"Initializes a Learner. Intended to have an outside factory function to create this and not be used directly\"\"\"\n",
    "        self.model = model; self.data = None; self.opt = None; self.lossF = None\n",
    "        self.configure(*args, **kwargs)\n",
    "        self.withCbs(_k1lib.Callbacks.standard())\n",
    "        self.fileName = None\n",
    "    def configure(self, data:_k1lib.Data=None, opt=None, lossF=None):\n",
    "        self.data = self.data if data is None else data\n",
    "        self.opt = opt or self.opt\n",
    "        self.lossF = lossF or self.lossF\n",
    "        return self\n",
    "    def withCbs(self, cbs): self.cbs = cbs; cbs.injectLearner(self); return self\n",
    "    def _run1Batch(self):\n",
    "        self.cbs(\"startBatch\")\n",
    "        try:\n",
    "            self.y = self.model(self.xb); self.cbs(\"endPass\")\n",
    "            loss = self.lossF(self.y, self.yb); self.loss = loss.detach().item(); self.cbs(\"endLoss\")\n",
    "            if not self.cbs(\"startBackward\"): loss.backward()\n",
    "            if not self.cbs(\"startStep\"):  self.opt.step()\n",
    "            if not self.cbs(\"startZeroGrad\"): self.opt.zero_grad()\n",
    "        except _k1lib.CancelBatchException: self.cbs(\"cancelBatch\")\n",
    "        self.cbs(\"endBatch\")\n",
    "    def _run1Epoch(self):\n",
    "        self.cbs(\"startEpoch\")\n",
    "        try:\n",
    "            self.nBatches = len(self.data.train); self.model.train()\n",
    "            for self.batch, (self.xb, self.yb) in enumerate(self.data.train):\n",
    "                self._run1Batch()\n",
    "            self.nBatches = len(self.data.valid); self.model.eval(); self.cbs(\"startValidBatches\")\n",
    "            for self.batch, (self.xb, self.yb) in enumerate(self.data.valid):\n",
    "                self._run1Batch()\n",
    "        except _k1lib.CancelEpochException: self.cbs(\"cancelEpoch\")\n",
    "        self.cbs(\"endEpoch\")\n",
    "    def run(self, epochs, *args, **kwargs):\n",
    "        \"\"\"Runs the model for a specified number of epochs.\"\"\"\n",
    "        self.epochs = epochs; self.configure(None, *args, **kwargs)\n",
    "        if self.data == None: raise Exception(\"No data object found\")\n",
    "        if self.opt == None: raise Exception(\"No optimizer found\")\n",
    "        if self.lossF == None: raise Exception(\"No loss function found\")\n",
    "        self.cbs(\"startRun\")\n",
    "        try:\n",
    "            for self.epoch in range(epochs):\n",
    "                self._run1Epoch()\n",
    "        except _k1lib.CancelRunException: self.cbs(\"cancelRun\")\n",
    "        self.cbs(\"endRun\"); return self\n",
    "    def save(self, fileName=None):\n",
    "        self.fileName = fileName or self.fileName\n",
    "        if self.fileName == None:\n",
    "            files = [file for file in _os.listdir() if file.startswith(\"learner\") and file.endswith(\".pth\")]\n",
    "            files = set([int(file.split(\".pth\")[0].split(\"learner-\")[1]) for file in files])\n",
    "            count = 0;\n",
    "            while count in files: count += 1\n",
    "            self.fileName = f\"learner-{count}.pth\"\n",
    "        _torch.save(self, self.fileName, pickle_module=_dill)\n",
    "        print(f\"Saved to {self.fileName}\")\n",
    "    def __getattr__(self, attr):\n",
    "        if attr == \"cbs\": raise AttributeError()\n",
    "        if hasattr(self.cbs, attr): return getattr(self.cbs, attr)\n",
    "        raise AttributeError()\n",
    "    def __getstate__(self): return self.__dict__\n",
    "    def __setstate__(self, state):\n",
    "        self.__dict__.update(state); self.cbs.injectLearner(self)\n",
    "    @staticmethod\n",
    "    def load(fileName=None):\n",
    "        if fileName==None: fileName = input(\"Enter learner file name to load:\")\n",
    "        print(f\"Loaded from {fileName}\"); return _torch.load(fileName, pickle_module=_dill)\n",
    "    def __repr__(self):\n",
    "        return f\"\"\"l.model:\\n{_k1lib.tab(str(self.model))}\n",
    "l.opt:\\n{_k1lib.tab(str(self.opt))}\n",
    "l.cbs:\\n{_k1lib.tab(self.cbs.__repr__())}\n",
    "Use...\n",
    "- l.configure(...): to change any configs (data, model, opt, lossF)\n",
    "- l.withCbs(...): to use a custom `Callbacks` object\n",
    "- l.run(epochs): to run the network\n",
    "- l.Loss: to get a specific callback\\n\\n\"\"\""
   ]
  },
  {
   "cell_type": "code",
   "execution_count": 3,
   "metadata": {},
   "outputs": [
    {
     "name": "stdout",
     "output_type": "stream",
     "text": [
      "Current dir: /home/kelvin/repos/labs/k1lib, ../export.py\n",
      "rm: cannot remove '__pycache__': No such file or directory\n",
      "Found existing installation: k1lib 0.1.0\n",
      "Uninstalling k1lib-0.1.0:\n",
      "  Successfully uninstalled k1lib-0.1.0\n",
      "running install\n",
      "running bdist_egg\n",
      "running egg_info\n",
      "creating k1lib.egg-info\n",
      "writing k1lib.egg-info/PKG-INFO\n",
      "writing dependency_links to k1lib.egg-info/dependency_links.txt\n",
      "writing top-level names to k1lib.egg-info/top_level.txt\n",
      "writing manifest file 'k1lib.egg-info/SOURCES.txt'\n",
      "reading manifest file 'k1lib.egg-info/SOURCES.txt'\n",
      "writing manifest file 'k1lib.egg-info/SOURCES.txt'\n",
      "installing library code to build/bdist.linux-x86_64/egg\n",
      "running install_lib\n",
      "running build_py\n",
      "creating build\n",
      "creating build/lib\n",
      "creating build/lib/k1lib\n",
      "copying k1lib/_learner.py -> build/lib/k1lib\n",
      "copying k1lib/callbacks.py -> build/lib/k1lib\n",
      "copying k1lib/data.py -> build/lib/k1lib\n",
      "copying k1lib/_basics.py -> build/lib/k1lib\n",
      "copying k1lib/nn.py -> build/lib/k1lib\n",
      "copying k1lib/viz.py -> build/lib/k1lib\n",
      "copying k1lib/__init__.py -> build/lib/k1lib\n",
      "copying k1lib/schedule.py -> build/lib/k1lib\n",
      "creating build/lib/k1lib/_hidden\n",
      "copying k1lib/_hidden/hiddenFile.py -> build/lib/k1lib/_hidden\n",
      "copying k1lib/_hidden/__init__.py -> build/lib/k1lib/_hidden\n",
      "creating build/lib/k1lib/_callbacks\n",
      "copying k1lib/_callbacks/lossLandscape.py -> build/lib/k1lib/_callbacks\n",
      "copying k1lib/_callbacks/hookParam.py -> build/lib/k1lib/_callbacks\n",
      "copying k1lib/_callbacks/loss_progress.py -> build/lib/k1lib/_callbacks\n",
      "copying k1lib/_callbacks/paramFinder.py -> build/lib/k1lib/_callbacks\n",
      "copying k1lib/_callbacks/__init__.py -> build/lib/k1lib/_callbacks\n",
      "copying k1lib/_callbacks/shorts.py -> build/lib/k1lib/_callbacks\n",
      "copying k1lib/_callbacks/hookModule.py -> build/lib/k1lib/_callbacks\n",
      "creating build/bdist.linux-x86_64\n",
      "creating build/bdist.linux-x86_64/egg\n",
      "creating build/bdist.linux-x86_64/egg/k1lib\n",
      "copying build/lib/k1lib/_learner.py -> build/bdist.linux-x86_64/egg/k1lib\n",
      "copying build/lib/k1lib/callbacks.py -> build/bdist.linux-x86_64/egg/k1lib\n",
      "copying build/lib/k1lib/data.py -> build/bdist.linux-x86_64/egg/k1lib\n",
      "copying build/lib/k1lib/_basics.py -> build/bdist.linux-x86_64/egg/k1lib\n",
      "copying build/lib/k1lib/nn.py -> build/bdist.linux-x86_64/egg/k1lib\n",
      "creating build/bdist.linux-x86_64/egg/k1lib/_callbacks\n",
      "copying build/lib/k1lib/_callbacks/lossLandscape.py -> build/bdist.linux-x86_64/egg/k1lib/_callbacks\n",
      "copying build/lib/k1lib/_callbacks/hookParam.py -> build/bdist.linux-x86_64/egg/k1lib/_callbacks\n",
      "copying build/lib/k1lib/_callbacks/loss_progress.py -> build/bdist.linux-x86_64/egg/k1lib/_callbacks\n",
      "copying build/lib/k1lib/_callbacks/paramFinder.py -> build/bdist.linux-x86_64/egg/k1lib/_callbacks\n",
      "copying build/lib/k1lib/_callbacks/__init__.py -> build/bdist.linux-x86_64/egg/k1lib/_callbacks\n",
      "copying build/lib/k1lib/_callbacks/shorts.py -> build/bdist.linux-x86_64/egg/k1lib/_callbacks\n",
      "copying build/lib/k1lib/_callbacks/hookModule.py -> build/bdist.linux-x86_64/egg/k1lib/_callbacks\n",
      "copying build/lib/k1lib/viz.py -> build/bdist.linux-x86_64/egg/k1lib\n",
      "copying build/lib/k1lib/__init__.py -> build/bdist.linux-x86_64/egg/k1lib\n",
      "copying build/lib/k1lib/schedule.py -> build/bdist.linux-x86_64/egg/k1lib\n",
      "creating build/bdist.linux-x86_64/egg/k1lib/_hidden\n",
      "copying build/lib/k1lib/_hidden/hiddenFile.py -> build/bdist.linux-x86_64/egg/k1lib/_hidden\n",
      "copying build/lib/k1lib/_hidden/__init__.py -> build/bdist.linux-x86_64/egg/k1lib/_hidden\n",
      "byte-compiling build/bdist.linux-x86_64/egg/k1lib/_learner.py to _learner.cpython-38.pyc\n",
      "byte-compiling build/bdist.linux-x86_64/egg/k1lib/callbacks.py to callbacks.cpython-38.pyc\n",
      "byte-compiling build/bdist.linux-x86_64/egg/k1lib/data.py to data.cpython-38.pyc\n",
      "byte-compiling build/bdist.linux-x86_64/egg/k1lib/_basics.py to _basics.cpython-38.pyc\n",
      "byte-compiling build/bdist.linux-x86_64/egg/k1lib/nn.py to nn.cpython-38.pyc\n",
      "byte-compiling build/bdist.linux-x86_64/egg/k1lib/_callbacks/lossLandscape.py to lossLandscape.cpython-38.pyc\n",
      "byte-compiling build/bdist.linux-x86_64/egg/k1lib/_callbacks/hookParam.py to hookParam.cpython-38.pyc\n",
      "byte-compiling build/bdist.linux-x86_64/egg/k1lib/_callbacks/loss_progress.py to loss_progress.cpython-38.pyc\n",
      "byte-compiling build/bdist.linux-x86_64/egg/k1lib/_callbacks/paramFinder.py to paramFinder.cpython-38.pyc\n",
      "byte-compiling build/bdist.linux-x86_64/egg/k1lib/_callbacks/__init__.py to __init__.cpython-38.pyc\n",
      "byte-compiling build/bdist.linux-x86_64/egg/k1lib/_callbacks/shorts.py to shorts.cpython-38.pyc\n",
      "byte-compiling build/bdist.linux-x86_64/egg/k1lib/_callbacks/hookModule.py to hookModule.cpython-38.pyc\n",
      "byte-compiling build/bdist.linux-x86_64/egg/k1lib/viz.py to viz.cpython-38.pyc\n",
      "byte-compiling build/bdist.linux-x86_64/egg/k1lib/__init__.py to __init__.cpython-38.pyc\n",
      "byte-compiling build/bdist.linux-x86_64/egg/k1lib/schedule.py to schedule.cpython-38.pyc\n",
      "byte-compiling build/bdist.linux-x86_64/egg/k1lib/_hidden/hiddenFile.py to hiddenFile.cpython-38.pyc\n",
      "byte-compiling build/bdist.linux-x86_64/egg/k1lib/_hidden/__init__.py to __init__.cpython-38.pyc\n",
      "creating build/bdist.linux-x86_64/egg/EGG-INFO\n",
      "copying k1lib.egg-info/PKG-INFO -> build/bdist.linux-x86_64/egg/EGG-INFO\n",
      "copying k1lib.egg-info/SOURCES.txt -> build/bdist.linux-x86_64/egg/EGG-INFO\n",
      "copying k1lib.egg-info/dependency_links.txt -> build/bdist.linux-x86_64/egg/EGG-INFO\n",
      "copying k1lib.egg-info/top_level.txt -> build/bdist.linux-x86_64/egg/EGG-INFO\n",
      "zip_safe flag not set; analyzing archive contents...\n",
      "creating dist\n",
      "creating 'dist/k1lib-0.1.0-py3.8.egg' and adding 'build/bdist.linux-x86_64/egg' to it\n",
      "removing 'build/bdist.linux-x86_64/egg' (and everything under it)\n",
      "Processing k1lib-0.1.0-py3.8.egg\n",
      "Copying k1lib-0.1.0-py3.8.egg to /home/kelvin/anaconda3/envs/torch/lib/python3.8/site-packages\n",
      "Adding k1lib 0.1.0 to easy-install.pth file\n",
      "\n",
      "Installed /home/kelvin/anaconda3/envs/torch/lib/python3.8/site-packages/k1lib-0.1.0-py3.8.egg\n",
      "Processing dependencies for k1lib==0.1.0\n",
      "Finished processing dependencies for k1lib==0.1.0\n"
     ]
    }
   ],
   "source": [
    "!../export.py _learner"
   ]
  },
  {
   "cell_type": "code",
   "execution_count": 33,
   "metadata": {},
   "outputs": [],
   "source": [
    "import torch"
   ]
  },
  {
   "cell_type": "code",
   "execution_count": 28,
   "metadata": {},
   "outputs": [],
   "source": [
    "l = Lambda(lambda x: x[None])"
   ]
  },
  {
   "cell_type": "code",
   "execution_count": 32,
   "metadata": {},
   "outputs": [
    {
     "data": {
      "text/plain": [
       "tensor([[[0.0042, 0.3004, 0.6085],\n",
       "         [0.9042, 0.8013, 0.1034]]])"
      ]
     },
     "execution_count": 32,
     "metadata": {},
     "output_type": "execute_result"
    }
   ],
   "source": [
    "l(torch.rand(2, 3))"
   ]
  },
  {
   "cell_type": "code",
   "execution_count": 10,
   "metadata": {},
   "outputs": [],
   "source": [
    "a = {\"a\": 3, \"b\": 5}\n",
    "a.update({\"b\": 8, \"c\": 11})"
   ]
  },
  {
   "cell_type": "code",
   "execution_count": 11,
   "metadata": {},
   "outputs": [
    {
     "data": {
      "text/plain": [
       "{'a': 3, 'b': 8, 'c': 11}"
      ]
     },
     "execution_count": 11,
     "metadata": {},
     "output_type": "execute_result"
    }
   ],
   "source": [
    "a"
   ]
  }
 ],
 "metadata": {
  "kernelspec": {
   "display_name": "Python 3",
   "language": "python",
   "name": "python3"
  },
  "language_info": {
   "codemirror_mode": {
    "name": "ipython",
    "version": 3
   },
   "file_extension": ".py",
   "mimetype": "text/x-python",
   "name": "python",
   "nbconvert_exporter": "python",
   "pygments_lexer": "ipython3",
   "version": "3.8.5"
  }
 },
 "nbformat": 4,
 "nbformat_minor": 4
}
