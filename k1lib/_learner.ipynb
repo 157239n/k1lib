{
 "cells": [
  {
   "cell_type": "code",
   "execution_count": 1,
   "metadata": {},
   "outputs": [],
   "source": [
    "#export\n",
    "import k1lib, torch.nn as nn, torch, dill"
   ]
  },
  {
   "cell_type": "code",
   "execution_count": 2,
   "metadata": {},
   "outputs": [],
   "source": [
    "#export\n",
    "class Learner:\n",
    "    def __init__(self, *args, **kwargs):\n",
    "        self.model = None; self.data = None; self.opt = None\n",
    "        self.lossF = None; self._cbs = None; self.fileName = None\n",
    "        self.cbs = k1lib.Callbacks().withBasics().withQOL().withAdvanced()\n",
    "    @property\n",
    "    def cbs(self): return self._cbs\n",
    "    @cbs.setter\n",
    "    def cbs(self, cbs): cbs.learner = self; self._cbs = cbs\n",
    "    def __getattr__(self, attr):\n",
    "        if attr == \"cbs\": raise AttributeError()\n",
    "        return getattr(self.cbs, attr)\n",
    "    def __getstate__(self): return dict(self.__dict__)\n",
    "    def __setstate__(self, state):\n",
    "        self.__dict__.update(state)\n",
    "        self.cbs.learner = self\n",
    "    def evaluate(self): pass # supposed to be overriden, to provide functionality here\n",
    "    @property\n",
    "    def warnings(self):\n",
    "        warnings = \"Warning: no model yet. Set using `l.model = ...`\\n\" if self.model == None else \"\"\n",
    "        warnings += \"Warning: no loss function yet. Set using `l.lossF = ...`\\n\" if self.lossF == None else \"\"\n",
    "        warnings += \"Warning: no data yet. Set using `l.data = ...`\\n\" if self.data == None else \"\"\n",
    "        warnings += \"Warning: no optimizer yet. Set using `l.opt = ...`\\n\" if self.opt == None else \"\"\n",
    "        if warnings != \"\": warnings += \"\\n\\n\"\n",
    "        return warnings\n",
    "    def __repr__(self):\n",
    "        return f\"\"\"{self.warnings}l.model:\\n{k1lib.tab(str(self.model))}\n",
    "l.opt:\\n{k1lib.tab(str(self.opt))}\n",
    "l.cbs:\\n{k1lib.tab(self.cbs.__repr__())}\n",
    "Use...\n",
    "- l.configure(...): to change any configs (data, model, opt, lossF)\n",
    "- l.withCbs(...): to use a custom `Callbacks` object\n",
    "- l.run(epochs): to run the network\n",
    "- l.Loss: to get a specific callback\\n\\n\"\"\""
   ]
  },
  {
   "cell_type": "code",
   "execution_count": 3,
   "metadata": {},
   "outputs": [],
   "source": [
    "#export\n",
    "@k1lib.patch(Learner)\n",
    "def save(self, fileName=None):\n",
    "    self.fileName = fileName or self.fileName\n",
    "    if self.fileName == None:\n",
    "        files = [file for file in os.listdir() if file.startswith(\"learner\") and file.endswith(\".pth\")]\n",
    "        files = set([int(file.split(\".pth\")[0].split(\"learner-\")[1]) for file in files])\n",
    "        count = 0;\n",
    "        while count in files: count += 1\n",
    "        self.fileName = f\"l-{count}.pth\"\n",
    "    torch.save(self, self.fileName, pickle_module=dill)\n",
    "    print(f\"Saved to {self.fileName}\")\n",
    "@k1lib.patch(Learner)\n",
    "def load(fileName=None):\n",
    "    if fileName==None: fileName = input(\"Enter learner file name to load:\")\n",
    "    print(f\"Loaded from {fileName}\"); return torch.load(fileName, pickle_module=dill)"
   ]
  },
  {
   "cell_type": "code",
   "execution_count": 4,
   "metadata": {},
   "outputs": [],
   "source": [
    "#export\n",
    "@k1lib.patch(Learner)\n",
    "def _run1Batch(self):\n",
    "    self.cbs(\"startBatch\")\n",
    "    try:\n",
    "        self.cbs(\"startPass\"); self.y = self.model(self.xb); self.cbs(\"endPass\")\n",
    "        self.cbs(\"startLoss\"); loss = self.lossF(self.y, self.yb)\n",
    "        self.loss = loss.detach().item(); self.cbs(\"endLoss\")\n",
    "        if not self.cbs(\"startBackward\"): loss.backward()\n",
    "        if not self.cbs(\"startStep\"):  self.opt.step()\n",
    "        if not self.cbs(\"startZeroGrad\"): self.opt.zero_grad()\n",
    "    except k1lib.CancelBatchException as ex:\n",
    "        self.cbs(\"cancelBatch\")\n",
    "        print(f\"Batch cancelled: {ex}.\")\n",
    "    self.cbs(\"endBatch\")"
   ]
  },
  {
   "cell_type": "code",
   "execution_count": 5,
   "metadata": {},
   "outputs": [],
   "source": [
    "#export\n",
    "@k1lib.patch(Learner)\n",
    "def _run1Epoch(self):\n",
    "    self.cbs(\"startEpoch\")\n",
    "    try:\n",
    "        self.nBatches = len(self.data.train); self.model.train()\n",
    "        for self.batch, (self.xb, self.yb) in enumerate(self.data.train):\n",
    "            self._run1Batch()\n",
    "        self.nBatches = len(self.data.valid); self.model.eval(); self.cbs(\"startValidBatches\")\n",
    "        for self.batch, (self.xb, self.yb) in enumerate(self.data.valid):\n",
    "            self._run1Batch()\n",
    "    except k1lib.CancelEpochException as ex:\n",
    "        self.cbs(\"cancelEpoch\")\n",
    "        print(f\"Epoch cancelled: {ex}.\")\n",
    "    self.cbs(\"endEpoch\")"
   ]
  },
  {
   "cell_type": "code",
   "execution_count": 6,
   "metadata": {},
   "outputs": [],
   "source": [
    "#export\n",
    "@k1lib.patch(Learner)\n",
    "def run(self, epochs):\n",
    "    self.epochs = epochs\n",
    "    if self.warnings != \"\": raise Exception(self.warnings)\n",
    "    self.cbs(\"startRun\")\n",
    "    try:\n",
    "        for self.epoch in range(epochs):\n",
    "            self._run1Epoch()\n",
    "    except k1lib.CancelRunException as ex:\n",
    "        self.cbs(\"cancelRun\")\n",
    "        print(f\"Run cancelled: {ex}.\")\n",
    "    self.cbs(\"endRun\"); return self"
   ]
  },
  {
   "cell_type": "code",
   "execution_count": 7,
   "metadata": {},
   "outputs": [],
   "source": [
    "#export\n",
    "class Recorder(k1lib.Callback):\n",
    "    def __init__(self):\n",
    "        super().__init__()\n",
    "        self.order = 20\n",
    "        self.xbs = []; self.ybs = []; self.ys = []\n",
    "    def startBatch(self):\n",
    "        self.xbs += [self.xb]\n",
    "        self.ybs += [self.yb]\n",
    "    def endPass(self):\n",
    "        self.ys += [self.y]\n",
    "    @property\n",
    "    def values(self): return self.xbs, self.ybs, self.ys\n",
    "@k1lib.patch(Learner)\n",
    "def record(self, epochs=1, batchesPerEpoch=4):\n",
    "    \"\"\"Like run(), but:\n",
    "- There's no training\n",
    "- Have optional batch limiter\n",
    "- Returns recorded xBatch, yBatch and answer y\"\"\"\n",
    "    self.cbs.suspend([\"Loss\", \"HookParam\", \"HookModule\", \"ParamScheduler\", \"Autosave\", \"CancelOnExplosion\"])\n",
    "    self.cbs.withBatchLimit(batchesPerEpoch, \"_record_BatchLimit\")\n",
    "    self.cbs.withDontTrain(\"_record_DontTrain\")\n",
    "    self.cbs.append(Recorder(), \"_record_Recorder\")\n",
    "    self.run(epochs)\n",
    "    answer = self.cbs._record_Recorder.values\n",
    "    self.cbs.removePrefix(\"_record_\").restore(); return answer\n",
    "@k1lib.patch(Learner)\n",
    "def evaluate(self): raise NotImplementedError()"
   ]
  },
  {
   "cell_type": "code",
   "execution_count": 8,
   "metadata": {},
   "outputs": [
    {
     "name": "stdout",
     "output_type": "stream",
     "text": [
      "Current dir: /home/kelvin/repos/labs/k1lib, ../export.py\n",
      "rm: cannot remove '__pycache__': No such file or directory\n",
      "Found existing installation: k1lib 0.1.0\n",
      "Uninstalling k1lib-0.1.0:\n",
      "  Successfully uninstalled k1lib-0.1.0\n",
      "running install\n",
      "running bdist_egg\n",
      "running egg_info\n",
      "creating k1lib.egg-info\n",
      "writing k1lib.egg-info/PKG-INFO\n",
      "writing dependency_links to k1lib.egg-info/dependency_links.txt\n",
      "writing top-level names to k1lib.egg-info/top_level.txt\n",
      "writing manifest file 'k1lib.egg-info/SOURCES.txt'\n",
      "reading manifest file 'k1lib.egg-info/SOURCES.txt'\n",
      "writing manifest file 'k1lib.egg-info/SOURCES.txt'\n",
      "installing library code to build/bdist.linux-x86_64/egg\n",
      "running install_lib\n",
      "running build_py\n",
      "creating build\n",
      "creating build/lib\n",
      "creating build/lib/k1lib\n",
      "copying k1lib/_learner.py -> build/lib/k1lib\n",
      "copying k1lib/callbacks.py -> build/lib/k1lib\n",
      "copying k1lib/data.py -> build/lib/k1lib\n",
      "copying k1lib/imports.py -> build/lib/k1lib\n",
      "copying k1lib/_basics.py -> build/lib/k1lib\n",
      "copying k1lib/nn.py -> build/lib/k1lib\n",
      "copying k1lib/viz.py -> build/lib/k1lib\n",
      "copying k1lib/__init__.py -> build/lib/k1lib\n",
      "copying k1lib/schedule.py -> build/lib/k1lib\n",
      "creating build/lib/k1lib/_hidden\n",
      "copying k1lib/_hidden/hiddenFile.py -> build/lib/k1lib/_hidden\n",
      "copying k1lib/_hidden/__init__.py -> build/lib/k1lib/_hidden\n",
      "creating build/lib/k1lib/_callbacks\n",
      "copying k1lib/_callbacks/lossLandscape.py -> build/lib/k1lib/_callbacks\n",
      "copying k1lib/_callbacks/limits.py -> build/lib/k1lib/_callbacks\n",
      "copying k1lib/_callbacks/hookParam.py -> build/lib/k1lib/_callbacks\n",
      "copying k1lib/_callbacks/loss_progress.py -> build/lib/k1lib/_callbacks\n",
      "copying k1lib/_callbacks/paramFinder.py -> build/lib/k1lib/_callbacks\n",
      "copying k1lib/_callbacks/__init__.py -> build/lib/k1lib/_callbacks\n",
      "copying k1lib/_callbacks/shorts.py -> build/lib/k1lib/_callbacks\n",
      "copying k1lib/_callbacks/hookModule.py -> build/lib/k1lib/_callbacks\n",
      "creating build/bdist.linux-x86_64\n",
      "creating build/bdist.linux-x86_64/egg\n",
      "creating build/bdist.linux-x86_64/egg/k1lib\n",
      "copying build/lib/k1lib/_learner.py -> build/bdist.linux-x86_64/egg/k1lib\n",
      "copying build/lib/k1lib/callbacks.py -> build/bdist.linux-x86_64/egg/k1lib\n",
      "copying build/lib/k1lib/data.py -> build/bdist.linux-x86_64/egg/k1lib\n",
      "copying build/lib/k1lib/imports.py -> build/bdist.linux-x86_64/egg/k1lib\n",
      "copying build/lib/k1lib/_basics.py -> build/bdist.linux-x86_64/egg/k1lib\n",
      "copying build/lib/k1lib/nn.py -> build/bdist.linux-x86_64/egg/k1lib\n",
      "creating build/bdist.linux-x86_64/egg/k1lib/_callbacks\n",
      "copying build/lib/k1lib/_callbacks/lossLandscape.py -> build/bdist.linux-x86_64/egg/k1lib/_callbacks\n",
      "copying build/lib/k1lib/_callbacks/limits.py -> build/bdist.linux-x86_64/egg/k1lib/_callbacks\n",
      "copying build/lib/k1lib/_callbacks/hookParam.py -> build/bdist.linux-x86_64/egg/k1lib/_callbacks\n",
      "copying build/lib/k1lib/_callbacks/loss_progress.py -> build/bdist.linux-x86_64/egg/k1lib/_callbacks\n",
      "copying build/lib/k1lib/_callbacks/paramFinder.py -> build/bdist.linux-x86_64/egg/k1lib/_callbacks\n",
      "copying build/lib/k1lib/_callbacks/__init__.py -> build/bdist.linux-x86_64/egg/k1lib/_callbacks\n",
      "copying build/lib/k1lib/_callbacks/shorts.py -> build/bdist.linux-x86_64/egg/k1lib/_callbacks\n",
      "copying build/lib/k1lib/_callbacks/hookModule.py -> build/bdist.linux-x86_64/egg/k1lib/_callbacks\n",
      "copying build/lib/k1lib/viz.py -> build/bdist.linux-x86_64/egg/k1lib\n",
      "copying build/lib/k1lib/__init__.py -> build/bdist.linux-x86_64/egg/k1lib\n",
      "copying build/lib/k1lib/schedule.py -> build/bdist.linux-x86_64/egg/k1lib\n",
      "creating build/bdist.linux-x86_64/egg/k1lib/_hidden\n",
      "copying build/lib/k1lib/_hidden/hiddenFile.py -> build/bdist.linux-x86_64/egg/k1lib/_hidden\n",
      "copying build/lib/k1lib/_hidden/__init__.py -> build/bdist.linux-x86_64/egg/k1lib/_hidden\n",
      "byte-compiling build/bdist.linux-x86_64/egg/k1lib/_learner.py to _learner.cpython-38.pyc\n",
      "byte-compiling build/bdist.linux-x86_64/egg/k1lib/callbacks.py to callbacks.cpython-38.pyc\n",
      "byte-compiling build/bdist.linux-x86_64/egg/k1lib/data.py to data.cpython-38.pyc\n",
      "byte-compiling build/bdist.linux-x86_64/egg/k1lib/imports.py to imports.cpython-38.pyc\n",
      "byte-compiling build/bdist.linux-x86_64/egg/k1lib/_basics.py to _basics.cpython-38.pyc\n",
      "byte-compiling build/bdist.linux-x86_64/egg/k1lib/nn.py to nn.cpython-38.pyc\n",
      "byte-compiling build/bdist.linux-x86_64/egg/k1lib/_callbacks/lossLandscape.py to lossLandscape.cpython-38.pyc\n",
      "byte-compiling build/bdist.linux-x86_64/egg/k1lib/_callbacks/limits.py to limits.cpython-38.pyc\n",
      "byte-compiling build/bdist.linux-x86_64/egg/k1lib/_callbacks/hookParam.py to hookParam.cpython-38.pyc\n",
      "byte-compiling build/bdist.linux-x86_64/egg/k1lib/_callbacks/loss_progress.py to loss_progress.cpython-38.pyc\n",
      "byte-compiling build/bdist.linux-x86_64/egg/k1lib/_callbacks/paramFinder.py to paramFinder.cpython-38.pyc\n",
      "byte-compiling build/bdist.linux-x86_64/egg/k1lib/_callbacks/__init__.py to __init__.cpython-38.pyc\n",
      "byte-compiling build/bdist.linux-x86_64/egg/k1lib/_callbacks/shorts.py to shorts.cpython-38.pyc\n",
      "byte-compiling build/bdist.linux-x86_64/egg/k1lib/_callbacks/hookModule.py to hookModule.cpython-38.pyc\n",
      "byte-compiling build/bdist.linux-x86_64/egg/k1lib/viz.py to viz.cpython-38.pyc\n",
      "byte-compiling build/bdist.linux-x86_64/egg/k1lib/__init__.py to __init__.cpython-38.pyc\n",
      "byte-compiling build/bdist.linux-x86_64/egg/k1lib/schedule.py to schedule.cpython-38.pyc\n",
      "byte-compiling build/bdist.linux-x86_64/egg/k1lib/_hidden/hiddenFile.py to hiddenFile.cpython-38.pyc\n",
      "byte-compiling build/bdist.linux-x86_64/egg/k1lib/_hidden/__init__.py to __init__.cpython-38.pyc\n",
      "creating build/bdist.linux-x86_64/egg/EGG-INFO\n",
      "copying k1lib.egg-info/PKG-INFO -> build/bdist.linux-x86_64/egg/EGG-INFO\n",
      "copying k1lib.egg-info/SOURCES.txt -> build/bdist.linux-x86_64/egg/EGG-INFO\n",
      "copying k1lib.egg-info/dependency_links.txt -> build/bdist.linux-x86_64/egg/EGG-INFO\n",
      "copying k1lib.egg-info/top_level.txt -> build/bdist.linux-x86_64/egg/EGG-INFO\n",
      "zip_safe flag not set; analyzing archive contents...\n",
      "creating dist\n",
      "creating 'dist/k1lib-0.1.0-py3.8.egg' and adding 'build/bdist.linux-x86_64/egg' to it\n",
      "removing 'build/bdist.linux-x86_64/egg' (and everything under it)\n",
      "Processing k1lib-0.1.0-py3.8.egg\n",
      "Copying k1lib-0.1.0-py3.8.egg to /home/kelvin/anaconda3/envs/torch/lib/python3.8/site-packages\n",
      "Adding k1lib 0.1.0 to easy-install.pth file\n",
      "\n",
      "Installed /home/kelvin/anaconda3/envs/torch/lib/python3.8/site-packages/k1lib-0.1.0-py3.8.egg\n",
      "Processing dependencies for k1lib==0.1.0\n",
      "Finished processing dependencies for k1lib==0.1.0\n"
     ]
    }
   ],
   "source": [
    "!../export.py _learner"
   ]
  },
  {
   "cell_type": "code",
   "execution_count": 33,
   "metadata": {},
   "outputs": [],
   "source": [
    "import torch"
   ]
  },
  {
   "cell_type": "code",
   "execution_count": 28,
   "metadata": {},
   "outputs": [],
   "source": [
    "l = Lambda(lambda x: x[None])"
   ]
  },
  {
   "cell_type": "code",
   "execution_count": 32,
   "metadata": {},
   "outputs": [
    {
     "data": {
      "text/plain": [
       "tensor([[[0.0042, 0.3004, 0.6085],\n",
       "         [0.9042, 0.8013, 0.1034]]])"
      ]
     },
     "execution_count": 32,
     "metadata": {},
     "output_type": "execute_result"
    }
   ],
   "source": [
    "l(torch.rand(2, 3))"
   ]
  },
  {
   "cell_type": "code",
   "execution_count": 10,
   "metadata": {},
   "outputs": [],
   "source": [
    "a = {\"a\": 3, \"b\": 5}\n",
    "a.update({\"b\": 8, \"c\": 11})"
   ]
  },
  {
   "cell_type": "code",
   "execution_count": 11,
   "metadata": {},
   "outputs": [
    {
     "data": {
      "text/plain": [
       "{'a': 3, 'b': 8, 'c': 11}"
      ]
     },
     "execution_count": 11,
     "metadata": {},
     "output_type": "execute_result"
    }
   ],
   "source": [
    "a"
   ]
  }
 ],
 "metadata": {
  "kernelspec": {
   "display_name": "Python 3",
   "language": "python",
   "name": "python3"
  },
  "language_info": {
   "codemirror_mode": {
    "name": "ipython",
    "version": 3
   },
   "file_extension": ".py",
   "mimetype": "text/x-python",
   "name": "python",
   "nbconvert_exporter": "python",
   "pygments_lexer": "ipython3",
   "version": "3.8.5"
  }
 },
 "nbformat": 4,
 "nbformat_minor": 4
}
