{
 "cells": [
  {
   "cell_type": "code",
   "execution_count": 1,
   "id": "colored-pharmaceutical",
   "metadata": {},
   "outputs": [],
   "source": [
    "#export\n",
    "from k1lib.callbacks import Callback, Callbacks\n",
    "import k1lib"
   ]
  },
  {
   "cell_type": "code",
   "execution_count": 2,
   "id": "continuous-korea",
   "metadata": {},
   "outputs": [],
   "source": [
    "#export\n",
    "@k1lib.patch(Callback.cls)\n",
    "class InspectLoss(Callback):\n",
    "    def __init__(self, f): super().__init__(); self.f = f\n",
    "    def endLoss(self): self.f(self.loss.detach())\n",
    "@k1lib.patch(Callbacks)\n",
    "def withInspectLoss(self, f):\n",
    "    \"\"\"Expected `f` to take in 1 float.\"\"\"\n",
    "    return self.append(InspectLoss(f))"
   ]
  },
  {
   "cell_type": "code",
   "execution_count": 3,
   "id": "broken-reach",
   "metadata": {},
   "outputs": [],
   "source": [
    "#export\n",
    "@k1lib.patch(Callback.cls)\n",
    "class Cuda(Callback):\n",
    "    def startRun(self): self.model.cuda()\n",
    "    def startBatch(self):\n",
    "        self.learner.xb = self.learner.xb.cuda()\n",
    "        self.learner.yb = self.learner.yb.cuda()\n",
    "@k1lib.patch(Callbacks)\n",
    "def withCuda(self): return self.append(Cuda())"
   ]
  },
  {
   "cell_type": "code",
   "execution_count": 4,
   "id": "fresh-worship",
   "metadata": {},
   "outputs": [],
   "source": [
    "#export\n",
    "@k1lib.patch(Callback.cls)\n",
    "class DType(Callback):\n",
    "    def __init__(self, dtype): super().__init__(); self.dtype = dtype\n",
    "    def startRun(self): self.model = self.model.to(self.dtype)\n",
    "    def startBatch(self):\n",
    "        self.learner.xb = self.learner.xb.to(self.dtype)\n",
    "        self.learner.yb = self.learner.yb.to(self.dtype)\n",
    "@k1lib.patch(Callbacks)\n",
    "def withDType(self, dtype): return self.append(DType(dtype))"
   ]
  },
  {
   "cell_type": "code",
   "execution_count": 5,
   "id": "portuguese-algorithm",
   "metadata": {},
   "outputs": [],
   "source": [
    "#export\n",
    "@k1lib.patch(Callback.cls)\n",
    "class InspectBatch(Callback):\n",
    "    \"\"\"Expected `f` to take in 2 tensors.\"\"\"\n",
    "    def __init__(self, f:callable): super().__init__(); self.f = f\n",
    "    def startBatch(self): self.f(self.xb, self.yb)\n",
    "@k1lib.patch(Callbacks)\n",
    "def withInspectBatch(self, f): return self.append(InspectBatch(f))"
   ]
  },
  {
   "cell_type": "code",
   "execution_count": 6,
   "id": "provincial-brunei",
   "metadata": {},
   "outputs": [],
   "source": [
    "#export\n",
    "@k1lib.patch(Callback.cls)\n",
    "class ModifyBatch(Callback):\n",
    "    \"\"\"Modifies xb and yb on the fly. Expected `f`\n",
    "    to take in 2 tensors and return 2 tensors.\"\"\"\n",
    "    def __init__(self, f): super().__init__(); self.f = f\n",
    "    def startBatch(self): self.learner.xb, self.learner.yb = self.f(self.xb, self.yb)\n",
    "@k1lib.patch(Callbacks)\n",
    "def withModifyBatch(self, f): return self.append(ModifyBatch(f))"
   ]
  },
  {
   "cell_type": "code",
   "execution_count": 7,
   "id": "global-therapy",
   "metadata": {},
   "outputs": [],
   "source": [
    "#export\n",
    "@k1lib.patch(Callback.cls)\n",
    "class InspectOutput(Callback):\n",
    "    \"\"\"Expected `f` to take in 1 tensor.\"\"\"\n",
    "    def __init__(self, f): super().__init__(); self.f = f\n",
    "    def endPass(self): self.f(self.y)\n",
    "@k1lib.patch(Callbacks)\n",
    "def withInspectOutput(self, f): return self.append(InspectOutput(f))"
   ]
  },
  {
   "cell_type": "code",
   "execution_count": 8,
   "id": "going-istanbul",
   "metadata": {},
   "outputs": [],
   "source": [
    "#export\n",
    "@k1lib.patch(Callback.cls)\n",
    "class ModifyOutput(Callback):\n",
    "    def __init__(self, f): super().__init__(); self.f = f\n",
    "    def endPass(self): self.learner.y = self.f(self.y)\n",
    "@k1lib.patch(Callbacks)\n",
    "def withModifyOutput(self, f): return self.append(ModifyOutput(f))"
   ]
  },
  {
   "cell_type": "code",
   "execution_count": 9,
   "id": "prepared-spread",
   "metadata": {},
   "outputs": [
    {
     "name": "stdout",
     "output_type": "stream",
     "text": [
      "Current dir: /home/kelvin/repos/labs/k1lib, ../../export.py\n",
      "rm: cannot remove '__pycache__': No such file or directory\n",
      "Found existing installation: k1lib 0.1.0\n",
      "Uninstalling k1lib-0.1.0:\n",
      "  Successfully uninstalled k1lib-0.1.0\n",
      "running install\n",
      "running bdist_egg\n",
      "running egg_info\n",
      "creating k1lib.egg-info\n",
      "writing k1lib.egg-info/PKG-INFO\n",
      "writing dependency_links to k1lib.egg-info/dependency_links.txt\n",
      "writing top-level names to k1lib.egg-info/top_level.txt\n",
      "writing manifest file 'k1lib.egg-info/SOURCES.txt'\n",
      "reading manifest file 'k1lib.egg-info/SOURCES.txt'\n",
      "writing manifest file 'k1lib.egg-info/SOURCES.txt'\n",
      "installing library code to build/bdist.linux-x86_64/egg\n",
      "running install_lib\n",
      "running build_py\n",
      "creating build\n",
      "creating build/lib\n",
      "creating build/lib/k1lib\n",
      "copying k1lib/_learner.py -> build/lib/k1lib\n",
      "copying k1lib/callbacks.py -> build/lib/k1lib\n",
      "copying k1lib/data.py -> build/lib/k1lib\n",
      "copying k1lib/_basics.py -> build/lib/k1lib\n",
      "copying k1lib/nn.py -> build/lib/k1lib\n",
      "copying k1lib/__init__.py -> build/lib/k1lib\n",
      "copying k1lib/schedule.py -> build/lib/k1lib\n",
      "creating build/lib/k1lib/_hidden\n",
      "copying k1lib/_hidden/hiddenFile.py -> build/lib/k1lib/_hidden\n",
      "copying k1lib/_hidden/__init__.py -> build/lib/k1lib/_hidden\n",
      "creating build/lib/k1lib/_callbacks\n",
      "copying k1lib/_callbacks/lossLandscape.py -> build/lib/k1lib/_callbacks\n",
      "copying k1lib/_callbacks/hookParam.py -> build/lib/k1lib/_callbacks\n",
      "copying k1lib/_callbacks/loss_progress.py -> build/lib/k1lib/_callbacks\n",
      "copying k1lib/_callbacks/paramFinder.py -> build/lib/k1lib/_callbacks\n",
      "copying k1lib/_callbacks/__init__.py -> build/lib/k1lib/_callbacks\n",
      "copying k1lib/_callbacks/shorts.py -> build/lib/k1lib/_callbacks\n",
      "copying k1lib/_callbacks/hookModule.py -> build/lib/k1lib/_callbacks\n",
      "creating build/bdist.linux-x86_64\n",
      "creating build/bdist.linux-x86_64/egg\n",
      "creating build/bdist.linux-x86_64/egg/k1lib\n",
      "copying build/lib/k1lib/_learner.py -> build/bdist.linux-x86_64/egg/k1lib\n",
      "copying build/lib/k1lib/callbacks.py -> build/bdist.linux-x86_64/egg/k1lib\n",
      "copying build/lib/k1lib/data.py -> build/bdist.linux-x86_64/egg/k1lib\n",
      "copying build/lib/k1lib/_basics.py -> build/bdist.linux-x86_64/egg/k1lib\n",
      "copying build/lib/k1lib/nn.py -> build/bdist.linux-x86_64/egg/k1lib\n",
      "creating build/bdist.linux-x86_64/egg/k1lib/_callbacks\n",
      "copying build/lib/k1lib/_callbacks/lossLandscape.py -> build/bdist.linux-x86_64/egg/k1lib/_callbacks\n",
      "copying build/lib/k1lib/_callbacks/hookParam.py -> build/bdist.linux-x86_64/egg/k1lib/_callbacks\n",
      "copying build/lib/k1lib/_callbacks/loss_progress.py -> build/bdist.linux-x86_64/egg/k1lib/_callbacks\n",
      "copying build/lib/k1lib/_callbacks/paramFinder.py -> build/bdist.linux-x86_64/egg/k1lib/_callbacks\n",
      "copying build/lib/k1lib/_callbacks/__init__.py -> build/bdist.linux-x86_64/egg/k1lib/_callbacks\n",
      "copying build/lib/k1lib/_callbacks/shorts.py -> build/bdist.linux-x86_64/egg/k1lib/_callbacks\n",
      "copying build/lib/k1lib/_callbacks/hookModule.py -> build/bdist.linux-x86_64/egg/k1lib/_callbacks\n",
      "copying build/lib/k1lib/__init__.py -> build/bdist.linux-x86_64/egg/k1lib\n",
      "copying build/lib/k1lib/schedule.py -> build/bdist.linux-x86_64/egg/k1lib\n",
      "creating build/bdist.linux-x86_64/egg/k1lib/_hidden\n",
      "copying build/lib/k1lib/_hidden/hiddenFile.py -> build/bdist.linux-x86_64/egg/k1lib/_hidden\n",
      "copying build/lib/k1lib/_hidden/__init__.py -> build/bdist.linux-x86_64/egg/k1lib/_hidden\n",
      "byte-compiling build/bdist.linux-x86_64/egg/k1lib/_learner.py to _learner.cpython-38.pyc\n",
      "byte-compiling build/bdist.linux-x86_64/egg/k1lib/callbacks.py to callbacks.cpython-38.pyc\n",
      "byte-compiling build/bdist.linux-x86_64/egg/k1lib/data.py to data.cpython-38.pyc\n",
      "byte-compiling build/bdist.linux-x86_64/egg/k1lib/_basics.py to _basics.cpython-38.pyc\n",
      "byte-compiling build/bdist.linux-x86_64/egg/k1lib/nn.py to nn.cpython-38.pyc\n",
      "byte-compiling build/bdist.linux-x86_64/egg/k1lib/_callbacks/lossLandscape.py to lossLandscape.cpython-38.pyc\n",
      "byte-compiling build/bdist.linux-x86_64/egg/k1lib/_callbacks/hookParam.py to hookParam.cpython-38.pyc\n",
      "byte-compiling build/bdist.linux-x86_64/egg/k1lib/_callbacks/loss_progress.py to loss_progress.cpython-38.pyc\n",
      "byte-compiling build/bdist.linux-x86_64/egg/k1lib/_callbacks/paramFinder.py to paramFinder.cpython-38.pyc\n",
      "byte-compiling build/bdist.linux-x86_64/egg/k1lib/_callbacks/__init__.py to __init__.cpython-38.pyc\n",
      "byte-compiling build/bdist.linux-x86_64/egg/k1lib/_callbacks/shorts.py to shorts.cpython-38.pyc\n",
      "byte-compiling build/bdist.linux-x86_64/egg/k1lib/_callbacks/hookModule.py to hookModule.cpython-38.pyc\n",
      "byte-compiling build/bdist.linux-x86_64/egg/k1lib/__init__.py to __init__.cpython-38.pyc\n",
      "byte-compiling build/bdist.linux-x86_64/egg/k1lib/schedule.py to schedule.cpython-38.pyc\n",
      "byte-compiling build/bdist.linux-x86_64/egg/k1lib/_hidden/hiddenFile.py to hiddenFile.cpython-38.pyc\n",
      "byte-compiling build/bdist.linux-x86_64/egg/k1lib/_hidden/__init__.py to __init__.cpython-38.pyc\n",
      "creating build/bdist.linux-x86_64/egg/EGG-INFO\n",
      "copying k1lib.egg-info/PKG-INFO -> build/bdist.linux-x86_64/egg/EGG-INFO\n",
      "copying k1lib.egg-info/SOURCES.txt -> build/bdist.linux-x86_64/egg/EGG-INFO\n",
      "copying k1lib.egg-info/dependency_links.txt -> build/bdist.linux-x86_64/egg/EGG-INFO\n",
      "copying k1lib.egg-info/top_level.txt -> build/bdist.linux-x86_64/egg/EGG-INFO\n",
      "zip_safe flag not set; analyzing archive contents...\n",
      "creating dist\n",
      "creating 'dist/k1lib-0.1.0-py3.8.egg' and adding 'build/bdist.linux-x86_64/egg' to it\n",
      "removing 'build/bdist.linux-x86_64/egg' (and everything under it)\n",
      "Processing k1lib-0.1.0-py3.8.egg\n",
      "Copying k1lib-0.1.0-py3.8.egg to /home/kelvin/anaconda3/envs/torch/lib/python3.8/site-packages\n",
      "Adding k1lib 0.1.0 to easy-install.pth file\n",
      "\n",
      "Installed /home/kelvin/anaconda3/envs/torch/lib/python3.8/site-packages/k1lib-0.1.0-py3.8.egg\n",
      "Processing dependencies for k1lib==0.1.0\n",
      "Finished processing dependencies for k1lib==0.1.0\n"
     ]
    }
   ],
   "source": [
    "!../../export.py _callbacks/shorts"
   ]
  },
  {
   "cell_type": "code",
   "execution_count": null,
   "id": "absolute-cedar",
   "metadata": {},
   "outputs": [],
   "source": []
  }
 ],
 "metadata": {
  "kernelspec": {
   "display_name": "Python 3",
   "language": "python",
   "name": "python3"
  },
  "language_info": {
   "codemirror_mode": {
    "name": "ipython",
    "version": 3
   },
   "file_extension": ".py",
   "mimetype": "text/x-python",
   "name": "python",
   "nbconvert_exporter": "python",
   "pygments_lexer": "ipython3",
   "version": "3.8.5"
  }
 },
 "nbformat": 4,
 "nbformat_minor": 5
}
