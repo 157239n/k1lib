{
 "cells": [
  {
   "cell_type": "markdown",
   "id": "26c4172d",
   "metadata": {},
   "source": [
    "Test a bunch of notebooks. Bioinfo notebooks are at ~/repos/bioinfo/test.ipynb"
   ]
  },
  {
   "cell_type": "code",
   "execution_count": 1,
   "id": "55ebae0d",
   "metadata": {},
   "outputs": [
    {
     "data": {
      "text/html": [
       "<style>\n",
       "    div.jp-OutputArea-output pre {white-space: pre;}\n",
       "    div.output_area pre {white-space: pre;}\n",
       "    div.CodeMirror > div.highlight {overflow-y: auto;}\n",
       "</style>"
      ],
      "text/plain": [
       "<IPython.core.display.HTML object>"
      ]
     },
     "metadata": {},
     "output_type": "display_data"
    }
   ],
   "source": [
    "from k1lib.imports import *\n",
    "from IPython.display import clear_output"
   ]
  },
  {
   "cell_type": "code",
   "execution_count": 2,
   "id": "4ef2a6b1-001c-4eff-a634-41d158b8f830",
   "metadata": {},
   "outputs": [],
   "source": [
    "def uncommentTestCells(cell):\n",
    "    if [cell] | nb.pretty(whitelist=[\"test\"]) | shape() | item() > 0:\n",
    "        cell[\"source\"][1:] = [line.lstrip(\"# \") for line in cell[\"source\"][1:]]\n",
    "    return cell"
   ]
  },
  {
   "cell_type": "code",
   "execution_count": 51,
   "id": "61cf00ad",
   "metadata": {},
   "outputs": [],
   "source": [
    "def loadNb(fileName):\n",
    "    return nb.cells(fileName) | nb.pretty(blacklist=[\"notest\"]) | filt(op()[\"cell_type\"] == \"code\") | apply(uncommentTestCells)\n",
    "def execute(fileName:str):\n",
    "    print(fileName)\n",
    "    try: loadNb(fileName) | nb.execute(fileName)\n",
    "    except pickle.PicklingError: # for some reason, applyMp sort of has to pass in the current globals(), else it throws pickling errors\n",
    "        clear_output(); loadNb(fileName) | nb.execute(fileName, globals())\n",
    "    clear_output(); applyMp.clearPools()"
   ]
  },
  {
   "cell_type": "code",
   "execution_count": 4,
   "id": "271d890d",
   "metadata": {},
   "outputs": [],
   "source": [
    "base = \"/home/kelvin/repos/labs/k1lib/k1lib\"\n",
    "tests = []\n",
    "for i in range(5): tests += glob.glob(f\"{base}{'/*' * i}.ipynb\")\n",
    "tests.remove(f\"{base}/test.ipynb\")\n",
    "for i, test in enumerate(tests):\n",
    "    print(i); execute(test)"
   ]
  },
  {
   "cell_type": "code",
   "execution_count": 5,
   "id": "0946a4b1",
   "metadata": {},
   "outputs": [
    {
     "name": "stdout",
     "output_type": "stream",
     "text": [
      "/home/kelvin/repos/labs/k1lib/docs/tutorials/basics.ipynb\n",
      "/home/kelvin/repos/labs/k1lib/docs/tutorials/mp.ipynb\n",
      "/home/kelvin/repos/labs/k1lib/docs/tutorials/schedule.ipynb\n",
      "/home/kelvin/repos/labs/k1lib/docs/tutorials/mo.ipynb\n",
      "/home/kelvin/repos/labs/k1lib/docs/tutorials/osic.ipynb\n",
      "/home/kelvin/repos/labs/k1lib/docs/tutorials/cli.ipynb\n",
      "/home/kelvin/repos/labs/k1lib/docs/tutorials/selector.ipynb\n",
      "/home/kelvin/repos/labs/k1lib/docs/tutorials/trace.ipynb\n",
      "/home/kelvin/repos/labs/k1lib/docs/tutorials/covid.ipynb\n"
     ]
    }
   ],
   "source": [
    "tut = \"/home/kelvin/repos/labs/k1lib/docs/tutorials\"\n",
    "ls(tut) | grep(\".ipynb$\") | headOut()"
   ]
  },
  {
   "cell_type": "code",
   "execution_count": 6,
   "id": "c4137f7f",
   "metadata": {
    "scrolled": true
   },
   "outputs": [],
   "source": [
    "execute(f\"{tut}/selector.ipynb\")\n",
    "execute(f\"{tut}/trace.ipynb\")\n",
    "execute(f\"{tut}/covid.ipynb\")\n",
    "execute(f\"{tut}/cli.ipynb\")\n",
    "execute(f\"{tut}/schedule.ipynb\")\n",
    "execute(f\"{tut}/mo.ipynb\")\n",
    "execute(f\"{tut}/osic.ipynb\")\n",
    "execute(f\"{tut}/mp.ipynb\")\n",
    "execute(f\"{tut}/basics.ipynb\")"
   ]
  },
  {
   "cell_type": "code",
   "execution_count": 7,
   "id": "94d0ec7b",
   "metadata": {
    "scrolled": true
   },
   "outputs": [],
   "source": [
    "execute(\"/home/kelvin/repos/labs/projects/char rnn/1) init/1) init.ipynb\")"
   ]
  },
  {
   "cell_type": "code",
   "execution_count": 8,
   "id": "591a0f61",
   "metadata": {
    "scrolled": true
   },
   "outputs": [],
   "source": [
    "execute(\"/home/kelvin/repos/labs/projects/function/0) integrity/main.ipynb\")"
   ]
  },
  {
   "cell_type": "code",
   "execution_count": 9,
   "id": "dbbc76de",
   "metadata": {
    "scrolled": true
   },
   "outputs": [],
   "source": [
    "execute(\"/home/kelvin/repos/labs/projects/mnist/setup.ipynb\")"
   ]
  },
  {
   "cell_type": "code",
   "execution_count": null,
   "id": "30ab0653-0d4d-4f10-b8c8-d3b43ffdf34e",
   "metadata": {},
   "outputs": [],
   "source": []
  },
  {
   "cell_type": "code",
   "execution_count": 91,
   "id": "6a00d7cf-3f9c-43b5-8f99-7f9ea90c3698",
   "metadata": {},
   "outputs": [],
   "source": [
    "os.chdir(\"~/repos/labs/mlexps\")\n",
    "niceFolders = lambda: filt(os.path.isdir) | ~filt(\"ipynb\" in op())"
   ]
  },
  {
   "cell_type": "code",
   "execution_count": 89,
   "id": "fa463796-0cca-4312-b50d-65624fd1b147",
   "metadata": {
    "scrolled": true,
    "tags": []
   },
   "outputs": [
    {
     "name": "stdout",
     "output_type": "stream",
     "text": [
      "<IPython.core.display.HTML object>\n",
      "/home/kelvin/ssd/data/imagenet/train/ILSVRC/Annotations/DET/train/ILSVRC2013_train/n01820546\n",
      "/home/kelvin/ssd/data/imagenet/train/ILSVRC/Annotations/DET/train/ILSVRC2013_train/n02009229\n",
      "/home/kelvin/ssd/data/imagenet/train/ILSVRC/Annotations/DET/train/ILSVRC2013_train/n07873807\n",
      "/home/kelvin/ssd/data/imagenet/train/ILSVRC/Annotations/DET/val/ILSVRC2012_val_00015742.xml\n",
      "/home/kelvin/ssd/data/imagenet/train/ILSVRC/Annotations/DET/val/ILSVRC2012_val_00020054.xml\n",
      "/home/kelvin/ssd/data/imagenet/train/ILSVRC/Annotations/DET/val/ILSVRC2012_val_00048669.xml\n",
      "<annotation>\n",
      "\t<folder>n01820546</folder>\n",
      "\t<filename>n01820546_2038</filename>\n",
      "\t<source>\n",
      "\t\t<database>ILSVRC_2013</database>\n",
      "\t</source>\n",
      "\t<size>\n",
      "\t\t<width>500</width>\n",
      "\t\t<height>333</height>\n",
      "\t</size>\n",
      "\t<object>\n",
      "\t\t<name>n01503061</name>\n",
      "\t\t<subcategory>n01820546</subcategory>\n",
      "\t\t<bndbox>\n",
      "\t\t\t<xmin>297</xmin>\n",
      "\t\t\t<xmax>453</xmax>\n",
      "\t\t\t<ymin>53</ymin>\n",
      "\t\t\t<ymax>295</ymax>\n",
      "\t\t</bndbox>\n",
      "\t</object>\n",
      "</annotation>\n",
      "<annotation>\n",
      "\t<folder>n04540053</folder>\n",
      "\t<filename>n04540053_1462</filename>\n",
      "\t<source>\n",
      "\t\t<database>ILSVRC_2013</database>\n",
      "\t</source>\n",
      "\t<size>\n",
      "\t\t<width>500</width>\n",
      "\t\t<height>333</height>\n",
      "\t</size>\n",
      "\t<object>\n",
      "\t\t<name>n04540053</name>\n",
      "\t\t<bndbox>\n",
      "\t\t\t<xmin>342</xmin>\n",
      "\t\t\t<xmax>361</xmax>\n",
      "\t\t\t<ymin>85</ymin>\n",
      "\t\t\t<ymax>106</ymax>\n",
      "\t\t</bndbox>\n",
      "\t</object>\n",
      "\t<object>\n",
      "\t\t<name>n00007846</name>\n",
      "\t\t<bndbox>\n",
      "\t\t\t<xmin>257</xmin>\n",
      "\t\t\t<xmax>281</xmax>\n",
      "\t\t\t<ymin>36</ymin>\n",
      "\t\t\t<ymax>68</ymax>\n",
      "\t\t</bndbox>\n",
      "\t</object>\n",
      "\t<object>\n",
      "\t\t<name>n00007846</name>\n",
      "/home/kelvin/ssd/data/imagenet/train/ILSVRC/Data/DET/train/ILSVRC2013_train/n01820546/n01820546_5129.JPEG\n",
      "/home/kelvin/ssd/data/imagenet/train/ILSVRC/Data/DET/train/ILSVRC2013_train/n01820546/n01820546_1450.JPEG\n",
      "/home/kelvin/ssd/data/imagenet/train/ILSVRC/Data/DET/train/ILSVRC2013_train/n01820546/n01820546_6750.JPEG\n",
      "/home/kelvin/ssd/data/imagenet/train/ILSVRC/ImageSets/DET/train_124.txt\n",
      "/home/kelvin/ssd/data/imagenet/train/ILSVRC/ImageSets/DET/train_135.txt\n",
      "/home/kelvin/ssd/data/imagenet/train/ILSVRC/ImageSets/DET/train_43.txt\n",
      "ILSVRC2014_train_0000/ILSVRC2014_train_00000001 1\n",
      "ILSVRC2014_train_0000/ILSVRC2014_train_00000002 1\n",
      "ILSVRC2014_train_0000/ILSVRC2014_train_00000006 1\n",
      "ILSVRC2014_train_0000/ILSVRC2014_train_00000007 1\n",
      "ILSVRC2014_train_0000/ILSVRC2014_train_00000008 1\n",
      "ILSVRC2014_train_0000/ILSVRC2014_train_00000009 1\n",
      "ILSVRC2014_train_0000/ILSVRC2014_train_00000011 1\n",
      "ILSVRC2014_train_0000/ILSVRC2014_train_00000013 1\n",
      "ILSVRC2014_train_0000/ILSVRC2014_train_00000014 1\n",
      "ILSVRC2014_train_0000/ILSVRC2014_train_00000015 1\n",
      "<IPython.core.display.HTML object>\n",
      "Progress:  99%, epoch: 0/1, batch: 155/156, elapsed:   3.15s, loss: 200.0624542236328              \n",
      "<IPython.core.display.HTML object>\n",
      "Progress:  99%, epoch: 0/1, batch: 155/156, elapsed:   0.21s, loss: 20.55428123474121              \n",
      "<IPython.core.display.HTML object>\n",
      "<IPython.core.display.HTML object>\n",
      "Progress:   0%, epoch:   0/100, batch:  26/160, elapsed:   0.05s, loss: inf             Run cancelled: Explosion detected!.\n",
      "<IPython.core.display.HTML object>\n",
      "Progress:  99%, epoch: 0/1, batch: 155/156, elapsed:   1.63s, loss: 2.435868501663208             Saved to test.pth\n",
      "Loaded from skip.pth\n",
      "Loaded from linear.pth\n",
      "Epoch cancelled: Batch 3 reached.\n",
      "Epoch cancelled: Batch 3 reached.\n",
      "<IPython.core.display.HTML object>\n",
      "Progress:   1%, epoch:  0/10, batch:  2/16, elapsed:   0.01s, loss: 6.004590295945971e+23             Run cancelled: Explosion detected!.\n",
      "Epoch cancelled: Batch 3 reached.\n",
      "<IPython.core.display.HTML object>\n",
      "Progress:  99%, epoch: 0/1, batch: 155/156, elapsed:   0.99s, loss: 1.7589081525802612             Loaded from network.pth\n",
      "Epoch cancelled: Batch 3 reached.\n",
      "Progress: 100%, 4s           8/8 Finished [-2.818, 2.818] range              Run cancelled: Landscape finished.\n",
      "<IPython.core.display.HTML object>\n",
      "Progress:  70%, epoch:  7/10, batch:   0/156, elapsed:   0.72s, loss: 0.3901348114013672             Run cancelled: Low loss 1 ([1.6198939546462028, 1.0842754783168915, 0.8671745177238218] actual) achieved!.\n",
      "Progress: 100%, epoch: 2/3, batch: 155/156, elapsed:    0.3s, loss: 1.662448525428772               \n",
      "<IPython.core.display.HTML object>\n",
      "Progress:  50%, epoch:  5/10, batch:   0/156, elapsed:   5.25s, loss: 0.2788245379924774             Run cancelled: Low loss 1 ([1.9257488635278517, 1.5154679186882511, 0.571517841469857] actual) achieved!.\n",
      "<IPython.core.display.HTML object>\n",
      "21   5.230024441654484     7.002012963136286     \n",
      "23   0.3868069079145789    0.16092670868566944   \n",
      "24   3.0746446348230045    3.37475953837728      \n",
      "26   3.3652106041212875    2.206765305983451     \n",
      "28   0.43659817002713686   0.20645568912495102   \n",
      "30   0.8346344279684126    0.7517745566853099    \n",
      "32   0.6937731448064248    0.3668818534201425    \n",
      "35   0.5724466220786174    0.4887667826460228    \n",
      "37   3.869711899006118     5.159818106144067     \n",
      "40   0.6705712555597225    0.25764789575478175   \n",
      "<IPython.core.display.HTML object>\n",
      "Progress:  99%, epoch: 0/1, batch: 155/156, elapsed:   0.11s, loss: 34.0880241394043               \n",
      "<IPython.core.display.HTML object>\n",
      "Progress:  99%, epoch: 0/1, batch: 155/156, elapsed:    0.1s, loss: 35.808258056640625             \n",
      "<IPython.core.display.HTML object>\n",
      "tensor(2.0331e-05) tensor(0.0183) | tensor(2.0331e-09) tensor(1.8254e-06) | tensor(-7.9417e-08) tensor(1.8475e-06)\n",
      "tensor(1.1755e-05) tensor(0.0183) | tensor(1.1755e-09) tensor(1.8259e-06) | tensor(3.1665e-09) tensor(1.8583e-06)\n",
      "tensor(-3.6677e-05) tensor(0.0183) | tensor(-3.6677e-09) tensor(1.8257e-06) | tensor(6.8576e-11) tensor(1.8111e-06)\n",
      "Progress:  99%, epoch: 0/1, batch: 155/156, elapsed:   4.93s, loss: 4.888566458826998e+24             Saved to 1000-10-ex-skip.pth\n",
      "\n",
      "tensor(4.1539e-05) tensor(0.0183) | tensor(4.1539e-09) tensor(1.8264e-06) | tensor(-1.7730e-08) tensor(1.8408e-06)\n",
      "tensor(2.2880e-05) tensor(0.0183) | tensor(2.2880e-09) tensor(1.8261e-06) | tensor(1.1339e-08) tensor(1.7866e-06)\n",
      "tensor(2.4971e-05) tensor(0.0183) | tensor(2.4971e-09) tensor(1.8253e-06) | tensor(-3.2192e-08) tensor(1.8714e-06)\n",
      "Progress:  99%, epoch: 0/1, batch: 155/156, elapsed:   2.27s, loss: 1.3253145137183454e+25             Saved to 1000-10-ex-lin.pth\n",
      "\n",
      "Loaded from 10-30.pth\n",
      "Loaded from 100-30.pth\n",
      "Loaded from 1000-2.pth\n",
      "Loaded from 1000-5.pth\n",
      "Loaded from 1000-10.pth\n",
      "Loaded from 1000-10-ex-lin.pth\n",
      "Loaded from 1000-10-ex-skip.pth\n",
      "Epoch cancelled: Batch 3 reached.\n",
      "<IPython.core.display.HTML object>\n",
      "<IPython.core.display.HTML object>\n",
      "Progress:  99%, epoch: 0/1, batch: 155/156, elapsed:    0.7s, loss: 120.94554138183594             \n",
      "<IPython.core.display.HTML object>\n",
      "Progress:   0%, epoch:    0/1000, batch: 145/156, elapsed:   0.07s, loss: 1138.6204833984375             Run cancelled: Loss increases significantly.\n",
      "Suggested param: 9.999386352676424e-05\n",
      "Progress:   0%, epoch:    1/1000, batch:  45/156, elapsed:   0.13s, loss: 449.7649230957031             Run cancelled: Loss increases significantly.\n",
      "Suggested param: 0.07755422384764203\n",
      "<IPython.core.display.HTML object>\n",
      "Progress:  99%, epoch: 0/1, batch: 155/156, elapsed:   0.25s, loss: 33.53685760498047             Loaded from 2.pth\n",
      "Loaded from 100.pth\n",
      "Loaded from 300.pth\n",
      "<IPython.core.display.HTML object>\n",
      "Progress:  40%, epoch:  4/10, batch:   0/156, elapsed:   1.56s, loss: 2.260969638824463             Run cancelled: Low loss 1 ([6.378423760014195, 1.94857971706698, 0.833511826492125] actual) achieved!.\n",
      "Loaded from dynamic-2.pth\n",
      "Loaded from dynamic-15.pth\n",
      "Loaded from static-2.pth\n",
      "Loaded from static-15.pth\n",
      "<IPython.core.display.HTML object>\n",
      "<IPython.core.display.HTML object>\n",
      "<IPython.core.display.HTML object>\n"
     ]
    }
   ],
   "source": [
    "i = 0\n",
    "for folder in ls(\".\") | niceFolders():\n",
    "    with settings.context(wd=folder):\n",
    "        for f in ls(\".\") | niceFolders():\n",
    "            i += 1; os.chdir(f); ipy = f + \".ipynb\"; py = ipy.replace(\".ipynb\", \".py\")\n",
    "            selection = os.getcwd()\n",
    "            loadNb(ipy) | apply(op()[\"source\"]) | (join(\"\\n\")).all() | file(py)\n",
    "            None | cmd(f\"python {py}\") | headOut(None)\n",
    "            os.chdir(\"..\")"
   ]
  },
  {
   "cell_type": "code",
   "execution_count": 92,
   "id": "c061fe56-5f1d-44af-94f1-63a94d91b0ba",
   "metadata": {},
   "outputs": [
    {
     "data": {
      "text/html": [
       "<script>(new Audio('data:audio/wav;base64,UklGRl9vT19XQVZFZm10IBAAAAABAAEAQB8AAEAfAAABAAgAZGF0YU'+Array(1e3).join(123))).play();</script>"
      ]
     },
     "metadata": {},
     "output_type": "display_data"
    }
   ],
   "source": [
    "k1lib.beep()"
   ]
  },
  {
   "cell_type": "code",
   "execution_count": null,
   "id": "6c9d2263",
   "metadata": {},
   "outputs": [],
   "source": []
  },
  {
   "cell_type": "code",
   "execution_count": null,
   "id": "59947f42",
   "metadata": {},
   "outputs": [],
   "source": []
  }
 ],
 "metadata": {
  "kernelspec": {
   "display_name": "Python 3 (ipykernel)",
   "language": "python",
   "name": "python3"
  },
  "language_info": {
   "codemirror_mode": {
    "name": "ipython",
    "version": 3
   },
   "file_extension": ".py",
   "mimetype": "text/x-python",
   "name": "python",
   "nbconvert_exporter": "python",
   "pygments_lexer": "ipython3",
   "version": "3.8.12"
  }
 },
 "nbformat": 4,
 "nbformat_minor": 5
}
