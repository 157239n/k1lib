{
 "cells": [
  {
   "cell_type": "markdown",
   "id": "7d10a020",
   "metadata": {},
   "source": [
    "Test a bunch of notebooks. Bioinfo notebooks are at ~/repos/bioinfo/test.ipynb"
   ]
  },
  {
   "cell_type": "code",
   "execution_count": 1,
   "id": "176ee538",
   "metadata": {},
   "outputs": [
    {
     "data": {
      "text/html": [
       "<style>\n",
       "    div.jp-OutputArea-output pre {white-space: pre;}\n",
       "    div.output_area pre {white-space: pre;}\n",
       "    div.CodeMirror > div.highlight {overflow-y: auto;}\n",
       "</style>"
      ],
      "text/plain": [
       "<IPython.core.display.HTML object>"
      ]
     },
     "metadata": {},
     "output_type": "display_data"
    }
   ],
   "source": [
    "from k1lib.imports import *\n",
    "from IPython.display import clear_output"
   ]
  },
  {
   "cell_type": "code",
   "execution_count": 2,
   "id": "61b12675",
   "metadata": {},
   "outputs": [],
   "source": [
    "def execute(nb:str):\n",
    "    print(nb)\n",
    "    k1lib.executeNb(nb, globals())\n",
    "    clear_output()"
   ]
  },
  {
   "cell_type": "code",
   "execution_count": 3,
   "id": "55f47794",
   "metadata": {},
   "outputs": [],
   "source": [
    "base = \"/home/kelvin/repos/labs/k1lib/k1lib\"\n",
    "tests = []\n",
    "for i in range(5): tests += glob.glob(f\"{base}{'/*' * i}.ipynb\")\n",
    "tests.remove(f\"{base}/test.ipynb\")\n",
    "for i, test in enumerate(tests):\n",
    "    print(i); execute(test)"
   ]
  },
  {
   "cell_type": "code",
   "execution_count": 4,
   "id": "193ec976",
   "metadata": {},
   "outputs": [
    {
     "name": "stdout",
     "output_type": "stream",
     "text": [
      "/home/kelvin/repos/labs/k1lib/docs/tutorials/basics.ipynb\n",
      "/home/kelvin/repos/labs/k1lib/docs/tutorials/mp.ipynb\n",
      "/home/kelvin/repos/labs/k1lib/docs/tutorials/schedule.ipynb\n",
      "/home/kelvin/repos/labs/k1lib/docs/tutorials/mo.ipynb\n",
      "/home/kelvin/repos/labs/k1lib/docs/tutorials/osic.ipynb\n",
      "/home/kelvin/repos/labs/k1lib/docs/tutorials/cli.ipynb\n",
      "/home/kelvin/repos/labs/k1lib/docs/tutorials/covid.ipynb\n"
     ]
    }
   ],
   "source": [
    "tut = \"/home/kelvin/repos/labs/k1lib/docs/tutorials\"\n",
    "ls(tut) | grep(\".ipynb$\") | headOut()"
   ]
  },
  {
   "cell_type": "code",
   "execution_count": 5,
   "id": "1c99b13f",
   "metadata": {
    "scrolled": true
   },
   "outputs": [],
   "source": [
    "execute(f\"{tut}/covid.ipynb\")\n",
    "execute(f\"{tut}/cli.ipynb\")\n",
    "execute(f\"{tut}/schedule.ipynb\")\n",
    "execute(f\"{tut}/mo.ipynb\")\n",
    "execute(f\"{tut}/osic.ipynb\")\n",
    "execute(f\"{tut}/mp.ipynb\")\n",
    "execute(f\"{tut}/basics.ipynb\")"
   ]
  },
  {
   "cell_type": "code",
   "execution_count": 7,
   "id": "a594d99b",
   "metadata": {
    "scrolled": true
   },
   "outputs": [],
   "source": [
    "execute(\"/home/kelvin/repos/labs/projects/char rnn/1) init/1) init.ipynb\")"
   ]
  },
  {
   "cell_type": "code",
   "execution_count": 8,
   "id": "75348811",
   "metadata": {},
   "outputs": [],
   "source": [
    "execute(\"/home/kelvin/repos/labs/projects/function/0) integrity/main.ipynb\")"
   ]
  },
  {
   "cell_type": "code",
   "execution_count": 9,
   "id": "e30fcdd3",
   "metadata": {},
   "outputs": [
    {
     "data": {
      "text/html": [
       "<script>(new Audio('data:audio/wav;base64,UklGRl9vT19XQVZFZm10IBAAAAABAAEAQB8AAEAfAAABAAgAZGF0YU'+Array(1e3).join(123))).play();</script>"
      ]
     },
     "metadata": {},
     "output_type": "display_data"
    }
   ],
   "source": [
    "k1lib.beep()"
   ]
  },
  {
   "cell_type": "code",
   "execution_count": null,
   "id": "98a71eb4",
   "metadata": {},
   "outputs": [],
   "source": []
  }
 ],
 "metadata": {
  "kernelspec": {
   "display_name": "Python 3 (ipykernel)",
   "language": "python",
   "name": "python3"
  },
  "language_info": {
   "codemirror_mode": {
    "name": "ipython",
    "version": 3
   },
   "file_extension": ".py",
   "mimetype": "text/x-python",
   "name": "python",
   "nbconvert_exporter": "python",
   "pygments_lexer": "ipython3",
   "version": "3.8.10"
  }
 },
 "nbformat": 4,
 "nbformat_minor": 5
}
