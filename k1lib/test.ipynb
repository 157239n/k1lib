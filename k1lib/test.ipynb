{
 "cells": [
  {
   "cell_type": "markdown",
   "id": "fad47d9a",
   "metadata": {},
   "source": [
    "Test a bunch of notebooks. Bioinfo notebooks are at ~/repos/bioinfo/test.ipynb"
   ]
  },
  {
   "cell_type": "code",
   "execution_count": 1,
   "id": "c51e9556",
   "metadata": {},
   "outputs": [
    {
     "data": {
      "text/html": [
       "<style>div.jp-OutputArea-output pre {white-space: pre;}</style>"
      ],
      "text/plain": [
       "<IPython.core.display.HTML object>"
      ]
     },
     "metadata": {},
     "output_type": "display_data"
    },
    {
     "data": {
      "text/html": [
       "<style>div.output_area pre {white-space: pre;}</style>"
      ],
      "text/plain": [
       "<IPython.core.display.HTML object>"
      ]
     },
     "metadata": {},
     "output_type": "display_data"
    }
   ],
   "source": [
    "from k1lib.imports import *\n",
    "from k1lib.bioinfo.cli import *\n",
    "from IPython.display import clear_output"
   ]
  },
  {
   "cell_type": "code",
   "execution_count": 2,
   "id": "b74b79fd",
   "metadata": {},
   "outputs": [],
   "source": [
    "def execute(nb:str):\n",
    "    print(nb)\n",
    "    k1lib.executeNb(nb, globals())\n",
    "    clear_output()"
   ]
  },
  {
   "cell_type": "code",
   "execution_count": 3,
   "id": "6b79b64a",
   "metadata": {},
   "outputs": [],
   "source": [
    "base = \"/home/kelvin/repos/labs/k1lib/k1lib\"\n",
    "tests = []\n",
    "for i in range(5): tests += glob.glob(f\"{base}{'/*' * i}.ipynb\")\n",
    "tests.remove(f\"{base}/test.ipynb\")\n",
    "for i, test in enumerate(tests):\n",
    "    print(i)\n",
    "    execute(test)"
   ]
  },
  {
   "cell_type": "code",
   "execution_count": 4,
   "id": "24aa9dfa",
   "metadata": {},
   "outputs": [],
   "source": [
    "tuts = glob.glob(\"/home/kelvin/repos/labs/k1lib/docs/tutorials/*.ipynb\")\n",
    "execute(tuts[2]); execute(tuts[1])\n",
    "execute(tuts[0]) # heaviest"
   ]
  },
  {
   "cell_type": "code",
   "execution_count": 5,
   "id": "749ec896",
   "metadata": {
    "scrolled": true
   },
   "outputs": [],
   "source": [
    "execute(\"/home/kelvin/repos/labs/projects/char rnn/1) init/1) init.ipynb\")"
   ]
  },
  {
   "cell_type": "code",
   "execution_count": 6,
   "id": "9ea92c2a",
   "metadata": {
    "scrolled": true
   },
   "outputs": [],
   "source": [
    "execute(\"/home/kelvin/repos/labs/projects/osic/osic.ipynb\")"
   ]
  },
  {
   "cell_type": "code",
   "execution_count": 7,
   "id": "0b2ebb8b",
   "metadata": {
    "scrolled": true
   },
   "outputs": [],
   "source": [
    "execute(\"/home/kelvin/repos/labs/projects/osic/imgs.ipynb\")"
   ]
  },
  {
   "cell_type": "code",
   "execution_count": 8,
   "id": "236ecdce",
   "metadata": {},
   "outputs": [
    {
     "data": {
      "text/html": [
       "<script>(new Audio('data:audio/wav;base64,UklGRl9vT19XQVZFZm10IBAAAAABAAEAQB8AAEAfAAABAAgAZGF0YU'+Array(1e3).join(123))).play();</script>"
      ]
     },
     "metadata": {},
     "output_type": "display_data"
    }
   ],
   "source": [
    "k1lib.beep()"
   ]
  },
  {
   "cell_type": "code",
   "execution_count": null,
   "id": "8d92d9a9",
   "metadata": {},
   "outputs": [],
   "source": []
  },
  {
   "cell_type": "code",
   "execution_count": null,
   "id": "932d4856",
   "metadata": {},
   "outputs": [],
   "source": []
  }
 ],
 "metadata": {
  "kernelspec": {
   "display_name": "Python 3 (ipykernel)",
   "language": "python",
   "name": "python3"
  },
  "language_info": {
   "codemirror_mode": {
    "name": "ipython",
    "version": 3
   },
   "file_extension": ".py",
   "mimetype": "text/x-python",
   "name": "python",
   "nbconvert_exporter": "python",
   "pygments_lexer": "ipython3",
   "version": "3.8.10"
  }
 },
 "nbformat": 4,
 "nbformat_minor": 5
}
