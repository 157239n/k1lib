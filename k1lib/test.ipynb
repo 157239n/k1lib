{
 "cells": [
  {
   "cell_type": "markdown",
   "id": "26c4172d",
   "metadata": {},
   "source": [
    "Test a bunch of notebooks. Bioinfo notebooks are at ~/repos/bioinfo/test.ipynb"
   ]
  },
  {
   "cell_type": "code",
   "execution_count": 1,
   "id": "55ebae0d",
   "metadata": {},
   "outputs": [
    {
     "data": {
      "text/html": [
       "<style>\n",
       "    div.jp-OutputArea-output pre {white-space: pre;}\n",
       "    div.output_area pre {white-space: pre;}\n",
       "    div.CodeMirror > div.highlight {overflow-y: auto;}\n",
       "</style>"
      ],
      "text/plain": [
       "<IPython.core.display.HTML object>"
      ]
     },
     "metadata": {},
     "output_type": "display_data"
    }
   ],
   "source": [
    "import k1lib\n",
    "k1lib.settings.startup.or_patch.dict = False\n",
    "from k1lib.imports import *\n",
    "from IPython.display import clear_output"
   ]
  },
  {
   "cell_type": "code",
   "execution_count": 2,
   "id": "4ef2a6b1-001c-4eff-a634-41d158b8f830",
   "metadata": {},
   "outputs": [],
   "source": [
    "def uncommentTestCells(cell):\n",
    "    if [cell] | nb.pretty(whitelist=[\"test\"]) | shape() | item() > 0:\n",
    "        cell[\"source\"][1:] = [line.lstrip(\"# \") for line in cell[\"source\"][1:]]\n",
    "    return cell"
   ]
  },
  {
   "cell_type": "code",
   "execution_count": 3,
   "id": "61cf00ad",
   "metadata": {},
   "outputs": [],
   "source": [
    "def loadNb(fileName):\n",
    "    return nb.cells(fileName) | nb.pretty(blacklist=[\"notest\"]) | filt(op()[\"cell_type\"] == \"code\") | apply(uncommentTestCells)\n",
    "def execute(fileName:str):\n",
    "    if fileName.split(\"/\")[-1].startswith(\"_\"): return\n",
    "    print(fileName)\n",
    "    try: loadNb(fileName) | nb.execute(fileName)\n",
    "    except pickle.PicklingError: # for some reason, applyMp sort of has to pass in the current globals(), else it throws pickling errors\n",
    "        clear_output(); loadNb(fileName) | nb.execute(fileName, globals())\n",
    "    clear_output(); applyMp.clearPools()"
   ]
  },
  {
   "cell_type": "code",
   "execution_count": 4,
   "id": "d2c883b2-e121-49fe-83c8-254de403bcf3",
   "metadata": {},
   "outputs": [],
   "source": [
    "base = \"/home/kelvin/repos/labs/k1lib/k1lib\"\n",
    "tests = []\n",
    "for i in range(5): tests += glob.glob(f\"{base}{'/*' * i}.ipynb\")\n",
    "tests.remove(f\"{base}/test.ipynb\")\n",
    "tests.remove(f\"{base}/cli/trash.ipynb\")\n",
    "for i, test in enumerate(tests): print(i); execute(test)\n",
    "init.patchDict()"
   ]
  },
  {
   "cell_type": "code",
   "execution_count": 5,
   "id": "0946a4b1",
   "metadata": {},
   "outputs": [
    {
     "name": "stdout",
     "output_type": "stream",
     "text": [
      "/home/kelvin/repos/labs/k1lib/docs/tutorials/basics.ipynb\n",
      "/home/kelvin/repos/labs/k1lib/docs/tutorials/mp.ipynb\n",
      "/home/kelvin/repos/labs/k1lib/docs/tutorials/schedule.ipynb\n",
      "/home/kelvin/repos/labs/k1lib/docs/tutorials/mo.ipynb\n",
      "/home/kelvin/repos/labs/k1lib/docs/tutorials/osic.ipynb\n",
      "/home/kelvin/repos/labs/k1lib/docs/tutorials/cli.ipynb\n",
      "/home/kelvin/repos/labs/k1lib/docs/tutorials/selector.ipynb\n",
      "/home/kelvin/repos/labs/k1lib/docs/tutorials/trace.ipynb\n",
      "/home/kelvin/repos/labs/k1lib/docs/tutorials/covid.ipynb\n",
      "/home/kelvin/repos/labs/k1lib/docs/tutorials/grep.ipynb\n"
     ]
    }
   ],
   "source": [
    "tut = \"/home/kelvin/repos/labs/k1lib/docs/tutorials\"\n",
    "ls(tut) | grep(\".ipynb$\") | headOut()"
   ]
  },
  {
   "cell_type": "code",
   "execution_count": 6,
   "id": "c4137f7f",
   "metadata": {
    "scrolled": true
   },
   "outputs": [],
   "source": [
    "execute(f\"{tut}/selector.ipynb\")\n",
    "execute(f\"{tut}/trace.ipynb\")\n",
    "execute(f\"{tut}/grep.ipynb\")\n",
    "execute(f\"{tut}/covid.ipynb\")\n",
    "execute(f\"{tut}/cli.ipynb\")\n",
    "execute(f\"{tut}/schedule.ipynb\")\n",
    "execute(f\"{tut}/mo.ipynb\")\n",
    "execute(f\"{tut}/osic.ipynb\")\n",
    "execute(f\"{tut}/mp.ipynb\")\n",
    "execute(f\"{tut}/basics.ipynb\")"
   ]
  },
  {
   "cell_type": "code",
   "execution_count": 7,
   "id": "94d0ec7b",
   "metadata": {
    "scrolled": true
   },
   "outputs": [],
   "source": [
    "execute(\"/home/kelvin/repos/labs/projects/char rnn/1) init/1) init.ipynb\")"
   ]
  },
  {
   "cell_type": "code",
   "execution_count": 10,
   "id": "591a0f61",
   "metadata": {
    "scrolled": true
   },
   "outputs": [],
   "source": [
    "execute(\"/home/kelvin/repos/labs/projects/function/0) integrity/main.ipynb\")"
   ]
  },
  {
   "cell_type": "code",
   "execution_count": 12,
   "id": "dbbc76de",
   "metadata": {
    "scrolled": true
   },
   "outputs": [],
   "source": [
    "execute(\"/home/kelvin/repos/labs/projects/mnist/setup.ipynb\")"
   ]
  },
  {
   "cell_type": "code",
   "execution_count": null,
   "id": "30ab0653-0d4d-4f10-b8c8-d3b43ffdf34e",
   "metadata": {},
   "outputs": [],
   "source": []
  },
  {
   "cell_type": "code",
   "execution_count": null,
   "id": "6a00d7cf-3f9c-43b5-8f99-7f9ea90c3698",
   "metadata": {},
   "outputs": [],
   "source": [
    "os.chdir(\"~/repos/labs/mlexps\")\n",
    "niceFolders = lambda: filt(os.path.isdir) | ~contains(\"ipynb\")"
   ]
  },
  {
   "cell_type": "code",
   "execution_count": null,
   "id": "fa463796-0cca-4312-b50d-65624fd1b147",
   "metadata": {
    "scrolled": true,
    "tags": []
   },
   "outputs": [],
   "source": [
    "i = 0\n",
    "for folder in ls(\".\") | niceFolders():\n",
    "    with settings.context(wd=folder):\n",
    "        for f in ls(\".\") | niceFolders():\n",
    "            try: int(f.split(\"/\")[1].split(\"-\")[0])\n",
    "            except: continue\n",
    "            i += 1; os.chdir(f); ipy = f + \".ipynb\"; py = ipy.replace(\".ipynb\", \".py\")\n",
    "            selection = os.getcwd()\n",
    "            # excluding cells with \"notest_global\" flag\n",
    "            if ipy | aS(nb.cells) | filt(op()[\"cell_type\"] == \"code\") | item() | op()[\"source\"] | contains(\"notest_global\") | shape(0) > 0: continue\n",
    "            loadNb(ipy) | apply(op()[\"source\"]) | (join(\"\\n\")).all() | file(py)\n",
    "            None | cmd(f\"python {py}\") | headOut(None)\n",
    "            os.chdir(\"..\")"
   ]
  },
  {
   "cell_type": "code",
   "execution_count": null,
   "id": "c061fe56-5f1d-44af-94f1-63a94d91b0ba",
   "metadata": {},
   "outputs": [],
   "source": [
    "k1lib.beep()"
   ]
  },
  {
   "cell_type": "code",
   "execution_count": null,
   "id": "7af39627-ded1-40e9-98fc-cf4601331682",
   "metadata": {},
   "outputs": [],
   "source": []
  }
 ],
 "metadata": {
  "kernelspec": {
   "display_name": "Python 3 (ipykernel)",
   "language": "python",
   "name": "python3"
  },
  "language_info": {
   "codemirror_mode": {
    "name": "ipython",
    "version": 3
   },
   "file_extension": ".py",
   "mimetype": "text/x-python",
   "name": "python",
   "nbconvert_exporter": "python",
   "pygments_lexer": "ipython3",
   "version": "3.8.13"
  }
 },
 "nbformat": 4,
 "nbformat_minor": 5
}
