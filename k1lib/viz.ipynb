{
 "cells": [
  {
   "cell_type": "code",
   "execution_count": 1,
   "id": "friendly-deficit",
   "metadata": {},
   "outputs": [],
   "source": [
    "#export\n",
    "import k1lib as _k1lib\n",
    "import matplotlib.pyplot as _plt"
   ]
  },
  {
   "cell_type": "code",
   "execution_count": 2,
   "id": "economic-northwest",
   "metadata": {},
   "outputs": [],
   "source": [
    "#export\n",
    "class PlotDecorator:\n",
    "    def __init__(self, sliceablePlot, name):\n",
    "        self.sliceablePlot = sliceablePlot\n",
    "        self.name = name\n",
    "        self.args, self.kwargs = None, None\n",
    "    def __call__(self, *args, **kwargs):\n",
    "        self.args = args; self.kwargs = kwargs\n",
    "        return self.sliceablePlot\n",
    "    def run(self):\n",
    "        getattr(_plt, self.name)(*self.args, **self.kwargs)"
   ]
  },
  {
   "cell_type": "code",
   "execution_count": 3,
   "id": "ancient-response",
   "metadata": {},
   "outputs": [],
   "source": [
    "#export\n",
    "class SliceablePlot:\n",
    "    def __init__(self, plotF, slices=[slice(None, None, None)], alphaSlice=None, plotDecorators=[], docs=\"\"):\n",
    "        self.plotF = plotF\n",
    "        self.slices = [slices] if type(slices) == slice else slices\n",
    "        self.alphaSlice = alphaSlice # slice using list of strings or string\n",
    "        self.docs = docs\n",
    "        self.plotDecorators = list(plotDecorators)\n",
    "    @property\n",
    "    def squeezedSlices(self): return _k1lib.squeeze(self.slices)\n",
    "    def __getattr__(self, attr):\n",
    "        if attr.startswith(\"_\"): raise AttributeError()\n",
    "        dec = PlotDecorator(self, attr); self.plotDecorators.append(dec)\n",
    "        return dec\n",
    "    def __getitem__(self, idx):\n",
    "        if type(idx) == slice:\n",
    "            return SliceablePlot(self.plotF, [idx], self.alphaSlice, self.plotDecorators, self.docs)\n",
    "        if type(idx) == tuple and all([type(elem) == slice for elem in idx]):\n",
    "            return SliceablePlot(self.plotF, idx, self.alphaSlice, self.plotDecorators, self.docs)\n",
    "        return SliceablePlot(self.plotF, self.squeezedSlices, idx, self.plotDecorators, self.docs)\n",
    "    def __repr__(self):\n",
    "        if self.alphaSlice == None: self.plotF(self.squeezedSlices)\n",
    "        else: self.plotF(self.squeezedSlices, self.alphaSlice)\n",
    "        for ax in _plt.gcf().get_axes():\n",
    "            _plt.sca(ax)\n",
    "            [decorator.run() for decorator in self.plotDecorators]\n",
    "        _plt.show()\n",
    "        return f\"\"\"Sliceable plot. Can...\n",
    "- p[a:b]: to focus on a specific range of the plot\n",
    "- p.yscale(\"log\"): to perform operation as if you're using plt{self.docs}\"\"\""
   ]
  },
  {
   "cell_type": "code",
   "execution_count": 4,
   "id": "subsequent-evanescence",
   "metadata": {},
   "outputs": [
    {
     "data": {
      "image/png": "[encoded data removed]",
      "text/plain": [
       "<Figure size 432x288 with 1 Axes>"
      ]
     },
     "metadata": {
      "needs_background": "light"
     },
     "output_type": "display_data"
    },
    {
     "data": {
      "text/plain": [
       "Sliceable plot. Can...\n",
       "- p[a:b]: to focus on a specific range of the plot\n",
       "- p.yscale(\"log\"): to perform operation as if you're using plt"
      ]
     },
     "execution_count": 4,
     "metadata": {},
     "output_type": "execute_result"
    }
   ],
   "source": [
    "import numpy as np\n",
    "def plotF(_slices):\n",
    "    r = _k1lib.Range(-4, 4)\n",
    "    if _slices == slice(None, None, None): _slices = r.slice\n",
    "    ir = _k1lib.Range(100)\n",
    "    x = np.linspace(*r, ir.stop)[r.toRange(ir, _slices).slice]\n",
    "    y = x**2\n",
    "    _plt.plot(x, y)\n",
    "def plot():\n",
    "    return SliceablePlot(plotF)\n",
    "SliceablePlot(plotF).legend([\"A\"])[-2:3]"
   ]
  },
  {
   "cell_type": "code",
   "execution_count": 5,
   "id": "covered-bracket",
   "metadata": {},
   "outputs": [
    {
     "name": "stdout",
     "output_type": "stream",
     "text": [
      "Current dir: /home/kelvin/repos/labs/k1lib, ../export.py\n",
      "rm: cannot remove '__pycache__': No such file or directory\n",
      "Found existing installation: k1lib 0.1.0\n",
      "Uninstalling k1lib-0.1.0:\n",
      "  Successfully uninstalled k1lib-0.1.0\n",
      "running install\n",
      "running bdist_egg\n",
      "running egg_info\n",
      "creating k1lib.egg-info\n",
      "writing k1lib.egg-info/PKG-INFO\n",
      "writing dependency_links to k1lib.egg-info/dependency_links.txt\n",
      "writing top-level names to k1lib.egg-info/top_level.txt\n",
      "writing manifest file 'k1lib.egg-info/SOURCES.txt'\n",
      "reading manifest file 'k1lib.egg-info/SOURCES.txt'\n",
      "writing manifest file 'k1lib.egg-info/SOURCES.txt'\n",
      "installing library code to build/bdist.linux-x86_64/egg\n",
      "running install_lib\n",
      "running build_py\n",
      "creating build\n",
      "creating build/lib\n",
      "creating build/lib/k1lib\n",
      "copying k1lib/_learner.py -> build/lib/k1lib\n",
      "copying k1lib/callbacks.py -> build/lib/k1lib\n",
      "copying k1lib/data.py -> build/lib/k1lib\n",
      "copying k1lib/imports.py -> build/lib/k1lib\n",
      "copying k1lib/_basics.py -> build/lib/k1lib\n",
      "copying k1lib/nn.py -> build/lib/k1lib\n",
      "copying k1lib/viz.py -> build/lib/k1lib\n",
      "copying k1lib/__init__.py -> build/lib/k1lib\n",
      "copying k1lib/schedule.py -> build/lib/k1lib\n",
      "creating build/lib/k1lib/_hidden\n",
      "copying k1lib/_hidden/hiddenFile.py -> build/lib/k1lib/_hidden\n",
      "copying k1lib/_hidden/__init__.py -> build/lib/k1lib/_hidden\n",
      "creating build/lib/k1lib/_callbacks\n",
      "copying k1lib/_callbacks/lossLandscape.py -> build/lib/k1lib/_callbacks\n",
      "copying k1lib/_callbacks/limits.py -> build/lib/k1lib/_callbacks\n",
      "copying k1lib/_callbacks/hookParam.py -> build/lib/k1lib/_callbacks\n",
      "copying k1lib/_callbacks/loss_progress.py -> build/lib/k1lib/_callbacks\n",
      "copying k1lib/_callbacks/paramFinder.py -> build/lib/k1lib/_callbacks\n",
      "copying k1lib/_callbacks/__init__.py -> build/lib/k1lib/_callbacks\n",
      "copying k1lib/_callbacks/shorts.py -> build/lib/k1lib/_callbacks\n",
      "copying k1lib/_callbacks/hookModule.py -> build/lib/k1lib/_callbacks\n",
      "creating build/bdist.linux-x86_64\n",
      "creating build/bdist.linux-x86_64/egg\n",
      "creating build/bdist.linux-x86_64/egg/k1lib\n",
      "copying build/lib/k1lib/_learner.py -> build/bdist.linux-x86_64/egg/k1lib\n",
      "copying build/lib/k1lib/callbacks.py -> build/bdist.linux-x86_64/egg/k1lib\n",
      "copying build/lib/k1lib/data.py -> build/bdist.linux-x86_64/egg/k1lib\n",
      "copying build/lib/k1lib/imports.py -> build/bdist.linux-x86_64/egg/k1lib\n",
      "copying build/lib/k1lib/_basics.py -> build/bdist.linux-x86_64/egg/k1lib\n",
      "copying build/lib/k1lib/nn.py -> build/bdist.linux-x86_64/egg/k1lib\n",
      "creating build/bdist.linux-x86_64/egg/k1lib/_callbacks\n",
      "copying build/lib/k1lib/_callbacks/lossLandscape.py -> build/bdist.linux-x86_64/egg/k1lib/_callbacks\n",
      "copying build/lib/k1lib/_callbacks/limits.py -> build/bdist.linux-x86_64/egg/k1lib/_callbacks\n",
      "copying build/lib/k1lib/_callbacks/hookParam.py -> build/bdist.linux-x86_64/egg/k1lib/_callbacks\n",
      "copying build/lib/k1lib/_callbacks/loss_progress.py -> build/bdist.linux-x86_64/egg/k1lib/_callbacks\n",
      "copying build/lib/k1lib/_callbacks/paramFinder.py -> build/bdist.linux-x86_64/egg/k1lib/_callbacks\n",
      "copying build/lib/k1lib/_callbacks/__init__.py -> build/bdist.linux-x86_64/egg/k1lib/_callbacks\n",
      "copying build/lib/k1lib/_callbacks/shorts.py -> build/bdist.linux-x86_64/egg/k1lib/_callbacks\n",
      "copying build/lib/k1lib/_callbacks/hookModule.py -> build/bdist.linux-x86_64/egg/k1lib/_callbacks\n",
      "copying build/lib/k1lib/viz.py -> build/bdist.linux-x86_64/egg/k1lib\n",
      "copying build/lib/k1lib/__init__.py -> build/bdist.linux-x86_64/egg/k1lib\n",
      "copying build/lib/k1lib/schedule.py -> build/bdist.linux-x86_64/egg/k1lib\n",
      "creating build/bdist.linux-x86_64/egg/k1lib/_hidden\n",
      "copying build/lib/k1lib/_hidden/hiddenFile.py -> build/bdist.linux-x86_64/egg/k1lib/_hidden\n",
      "copying build/lib/k1lib/_hidden/__init__.py -> build/bdist.linux-x86_64/egg/k1lib/_hidden\n",
      "byte-compiling build/bdist.linux-x86_64/egg/k1lib/_learner.py to _learner.cpython-38.pyc\n",
      "byte-compiling build/bdist.linux-x86_64/egg/k1lib/callbacks.py to callbacks.cpython-38.pyc\n",
      "byte-compiling build/bdist.linux-x86_64/egg/k1lib/data.py to data.cpython-38.pyc\n",
      "byte-compiling build/bdist.linux-x86_64/egg/k1lib/imports.py to imports.cpython-38.pyc\n",
      "byte-compiling build/bdist.linux-x86_64/egg/k1lib/_basics.py to _basics.cpython-38.pyc\n",
      "byte-compiling build/bdist.linux-x86_64/egg/k1lib/nn.py to nn.cpython-38.pyc\n",
      "byte-compiling build/bdist.linux-x86_64/egg/k1lib/_callbacks/lossLandscape.py to lossLandscape.cpython-38.pyc\n",
      "byte-compiling build/bdist.linux-x86_64/egg/k1lib/_callbacks/limits.py to limits.cpython-38.pyc\n",
      "byte-compiling build/bdist.linux-x86_64/egg/k1lib/_callbacks/hookParam.py to hookParam.cpython-38.pyc\n",
      "byte-compiling build/bdist.linux-x86_64/egg/k1lib/_callbacks/loss_progress.py to loss_progress.cpython-38.pyc\n",
      "byte-compiling build/bdist.linux-x86_64/egg/k1lib/_callbacks/paramFinder.py to paramFinder.cpython-38.pyc\n",
      "byte-compiling build/bdist.linux-x86_64/egg/k1lib/_callbacks/__init__.py to __init__.cpython-38.pyc\n",
      "byte-compiling build/bdist.linux-x86_64/egg/k1lib/_callbacks/shorts.py to shorts.cpython-38.pyc\n",
      "byte-compiling build/bdist.linux-x86_64/egg/k1lib/_callbacks/hookModule.py to hookModule.cpython-38.pyc\n",
      "byte-compiling build/bdist.linux-x86_64/egg/k1lib/viz.py to viz.cpython-38.pyc\n",
      "byte-compiling build/bdist.linux-x86_64/egg/k1lib/__init__.py to __init__.cpython-38.pyc\n",
      "byte-compiling build/bdist.linux-x86_64/egg/k1lib/schedule.py to schedule.cpython-38.pyc\n",
      "byte-compiling build/bdist.linux-x86_64/egg/k1lib/_hidden/hiddenFile.py to hiddenFile.cpython-38.pyc\n",
      "byte-compiling build/bdist.linux-x86_64/egg/k1lib/_hidden/__init__.py to __init__.cpython-38.pyc\n",
      "creating build/bdist.linux-x86_64/egg/EGG-INFO\n",
      "copying k1lib.egg-info/PKG-INFO -> build/bdist.linux-x86_64/egg/EGG-INFO\n",
      "copying k1lib.egg-info/SOURCES.txt -> build/bdist.linux-x86_64/egg/EGG-INFO\n",
      "copying k1lib.egg-info/dependency_links.txt -> build/bdist.linux-x86_64/egg/EGG-INFO\n",
      "copying k1lib.egg-info/top_level.txt -> build/bdist.linux-x86_64/egg/EGG-INFO\n",
      "zip_safe flag not set; analyzing archive contents...\n",
      "creating dist\n",
      "creating 'dist/k1lib-0.1.0-py3.8.egg' and adding 'build/bdist.linux-x86_64/egg' to it\n",
      "removing 'build/bdist.linux-x86_64/egg' (and everything under it)\n",
      "Processing k1lib-0.1.0-py3.8.egg\n",
      "Copying k1lib-0.1.0-py3.8.egg to /home/kelvin/anaconda3/envs/torch/lib/python3.8/site-packages\n",
      "Adding k1lib 0.1.0 to easy-install.pth file\n",
      "\n",
      "Installed /home/kelvin/anaconda3/envs/torch/lib/python3.8/site-packages/k1lib-0.1.0-py3.8.egg\n",
      "Processing dependencies for k1lib==0.1.0\n",
      "Finished processing dependencies for k1lib==0.1.0\n"
     ]
    }
   ],
   "source": [
    "!../export.py viz"
   ]
  },
  {
   "cell_type": "code",
   "execution_count": null,
   "id": "olive-presentation",
   "metadata": {},
   "outputs": [],
   "source": []
  }
 ],
 "metadata": {
  "kernelspec": {
   "display_name": "Python 3",
   "language": "python",
   "name": "python3"
  },
  "language_info": {
   "codemirror_mode": {
    "name": "ipython",
    "version": 3
   },
   "file_extension": ".py",
   "mimetype": "text/x-python",
   "name": "python",
   "nbconvert_exporter": "python",
   "pygments_lexer": "ipython3",
   "version": "3.8.5"
  }
 },
 "nbformat": 4,
 "nbformat_minor": 5
}
