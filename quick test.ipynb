{
 "cells": [
  {
   "cell_type": "code",
   "execution_count": 1,
   "id": "correct-jurisdiction",
   "metadata": {},
   "outputs": [],
   "source": [
    "import check_pypi_name"
   ]
  },
  {
   "cell_type": "code",
   "execution_count": 12,
   "id": "grave-timothy",
   "metadata": {},
   "outputs": [],
   "source": [
    "a = check_pypi_name.check_pypi_name(\"torch\"); a"
   ]
  },
  {
   "cell_type": "code",
   "execution_count": 14,
   "id": "unlimited-insured",
   "metadata": {},
   "outputs": [],
   "source": [
    "import requests"
   ]
  },
  {
   "cell_type": "code",
   "execution_count": 16,
   "id": "compatible-washington",
   "metadata": {},
   "outputs": [],
   "source": [
    "a = requests.request(\"GET\", \"http://www.google.com\")"
   ]
  },
  {
   "cell_type": "code",
   "execution_count": 19,
   "id": "unexpected-voluntary",
   "metadata": {},
   "outputs": [
    {
     "data": {
      "text/plain": [
       "{'Date': 'Thu, 18 Feb 2021 07:08:49 GMT', 'Expires': '-1', 'Cache-Control': 'private, max-age=0', 'Content-Type': 'text/html; charset=ISO-8859-1', 'P3P': 'CP=\"This is not a P3P policy! See g.co/p3phelp for more info.\"', 'Content-Encoding': 'gzip', 'Server': 'gws', 'Content-Length': '6223', 'X-XSS-Protection': '0', 'X-Frame-Options': 'SAMEORIGIN', 'Set-Cookie': '1P_JAR=2021-02-18-07; expires=Sat, 20-Mar-2021 07:08:49 GMT; path=/; domain=.google.com; Secure, NID=209=rP8A4GdYY4dcvxI9qwpk35TNzto8GnguUQAorsULRQQ6y0zKIPbfLVGCczp8Nv8V2852FeVOYfAyL4l73nrhktxtxTQA-_4Yf8fLFIHWPu0EHS1VlpeOfnlUvexCe_uk82bMAncobVeswjpGsa_dbODy3F9Y4V7y883rlwQc_DQ; expires=Fri, 20-Aug-2021 07:08:49 GMT; path=/; domain=.google.com; HttpOnly'}"
      ]
     },
     "execution_count": 19,
     "metadata": {},
     "output_type": "execute_result"
    }
   ],
   "source": [
    "a.headers"
   ]
  },
  {
   "cell_type": "code",
   "execution_count": 13,
   "id": "beautiful-gabriel",
   "metadata": {},
   "outputs": [
    {
     "ename": "FileNotFoundError",
     "evalue": "[Errno 2] No such file or directory: 'http://www.google.com'",
     "output_type": "error",
     "traceback": [
      "\u001b[0;31m---------------------------------------------------------------------------\u001b[0m",
      "\u001b[0;31mFileNotFoundError\u001b[0m                         Traceback (most recent call last)",
      "\u001b[0;32m<ipython-input-13-427d681a506e>\u001b[0m in \u001b[0;36m<module>\u001b[0;34m\u001b[0m\n\u001b[0;32m----> 1\u001b[0;31m \u001b[0;32mwith\u001b[0m \u001b[0mopen\u001b[0m\u001b[0;34m(\u001b[0m\u001b[0;34m\"http://www.google.com\"\u001b[0m\u001b[0;34m)\u001b[0m \u001b[0;32mas\u001b[0m \u001b[0mf\u001b[0m\u001b[0;34m:\u001b[0m\u001b[0;34m\u001b[0m\u001b[0;34m\u001b[0m\u001b[0m\n\u001b[0m\u001b[1;32m      2\u001b[0m     \u001b[0mprint\u001b[0m\u001b[0;34m(\u001b[0m\u001b[0mf\u001b[0m\u001b[0;34m.\u001b[0m\u001b[0mread\u001b[0m\u001b[0;34m(\u001b[0m\u001b[0;34m)\u001b[0m\u001b[0;34m)\u001b[0m\u001b[0;34m\u001b[0m\u001b[0;34m\u001b[0m\u001b[0m\n",
      "\u001b[0;31mFileNotFoundError\u001b[0m: [Errno 2] No such file or directory: 'http://www.google.com'"
     ]
    }
   ],
   "source": [
    "with open(\"http://www.google.com\") as f:\n",
    "    print(f.read())"
   ]
  },
  {
   "cell_type": "code",
   "execution_count": null,
   "id": "foreign-market",
   "metadata": {},
   "outputs": [],
   "source": []
  }
 ],
 "metadata": {
  "kernelspec": {
   "display_name": "Python 3",
   "language": "python",
   "name": "python3"
  },
  "language_info": {
   "codemirror_mode": {
    "name": "ipython",
    "version": 3
   },
   "file_extension": ".py",
   "mimetype": "text/x-python",
   "name": "python",
   "nbconvert_exporter": "python",
   "pygments_lexer": "ipython3",
   "version": "3.8.5"
  }
 },
 "nbformat": 4,
 "nbformat_minor": 5
}
